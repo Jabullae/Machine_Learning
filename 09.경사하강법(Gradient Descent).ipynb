{
 "cells": [
  {
   "cell_type": "markdown",
   "id": "7f2719b1",
   "metadata": {},
   "source": [
    "# 경사하강법이란?\n",
    "- 손실을 줄이는 알고리즘\n",
    "- 기울기가 최소가 되는 점을 찾아서 알맞은 가중치를 찾아내는 것\n",
    "- 손실함수를 최적화하는 방법중에 하나다. "
   ]
  },
  {
   "cell_type": "markdown",
   "id": "01cc3467",
   "metadata": {},
   "source": [
    "## 점진적인 학습 또는 온라인 학습"
   ]
  },
  {
   "cell_type": "markdown",
   "id": "ec89a2ce",
   "metadata": {},
   "source": [
    "# 확률적 경사 하강법(SGD)"
   ]
  },
  {
   "cell_type": "markdown",
   "id": "aec54aa4",
   "metadata": {},
   "source": [
    "- 손실함수는 하나의 샘플에서 발생한 손실\n",
    "- 비용함수는 훈련세트 전체에서 발생한 손실"
   ]
  },
  {
   "cell_type": "markdown",
   "id": "47204fd6",
   "metadata": {},
   "source": [
    "# 확률적 경사 하강법을 활용한 분류 모델"
   ]
  },
  {
   "cell_type": "markdown",
   "id": "72efb49f",
   "metadata": {},
   "source": [
    "## 필수 라이브러리 로딩"
   ]
  },
  {
   "cell_type": "code",
   "execution_count": 1,
   "id": "ccbd7e2b",
   "metadata": {
    "ExecuteTime": {
     "end_time": "2022-11-09T01:02:31.092432Z",
     "start_time": "2022-11-09T01:02:26.621709Z"
    }
   },
   "outputs": [],
   "source": [
    "import numpy as np\n",
    "import pandas as pd\n",
    "\n",
    "import matplotlib as mpl\n",
    "import matplotlib.pyplot as plt\n",
    "import seaborn as sns\n",
    "\n",
    "import warnings "
   ]
  },
  {
   "cell_type": "code",
   "execution_count": 4,
   "id": "97f99702",
   "metadata": {
    "ExecuteTime": {
     "end_time": "2022-11-09T01:05:41.668060Z",
     "start_time": "2022-11-09T01:05:41.632599Z"
    }
   },
   "outputs": [],
   "source": [
    "%matplotlib inline\n",
    "# 한글 폰트를 선명하게 표시\n",
    "%config Inlinebackend.figure_format = 'retina'\n",
    "\n",
    "# 한글 폰트 지정\n",
    "mpl.rc('font', family = 'D2coding')\n",
    "# 유니코드에서 음수 부호 설정\n",
    "mpl.rc('axes', unicode_minus = False)\n",
    "\n",
    "warnings.filterwarnings('ignore')"
   ]
  },
  {
   "cell_type": "markdown",
   "id": "41b7d9a0",
   "metadata": {},
   "source": [
    "## 훈련데이터 로딩"
   ]
  },
  {
   "cell_type": "code",
   "execution_count": 5,
   "id": "9aa12c3c",
   "metadata": {
    "ExecuteTime": {
     "end_time": "2022-11-09T01:07:24.698244Z",
     "start_time": "2022-11-09T01:07:24.055978Z"
    }
   },
   "outputs": [
    {
     "data": {
      "text/html": [
       "<div>\n",
       "<style scoped>\n",
       "    .dataframe tbody tr th:only-of-type {\n",
       "        vertical-align: middle;\n",
       "    }\n",
       "\n",
       "    .dataframe tbody tr th {\n",
       "        vertical-align: top;\n",
       "    }\n",
       "\n",
       "    .dataframe thead th {\n",
       "        text-align: right;\n",
       "    }\n",
       "</style>\n",
       "<table border=\"1\" class=\"dataframe\">\n",
       "  <thead>\n",
       "    <tr style=\"text-align: right;\">\n",
       "      <th></th>\n",
       "      <th>Species</th>\n",
       "      <th>Weight</th>\n",
       "      <th>Length</th>\n",
       "      <th>Diagonal</th>\n",
       "      <th>Height</th>\n",
       "      <th>Width</th>\n",
       "    </tr>\n",
       "  </thead>\n",
       "  <tbody>\n",
       "    <tr>\n",
       "      <th>0</th>\n",
       "      <td>Bream</td>\n",
       "      <td>242.0</td>\n",
       "      <td>25.4</td>\n",
       "      <td>30.0</td>\n",
       "      <td>11.5200</td>\n",
       "      <td>4.0200</td>\n",
       "    </tr>\n",
       "    <tr>\n",
       "      <th>1</th>\n",
       "      <td>Bream</td>\n",
       "      <td>290.0</td>\n",
       "      <td>26.3</td>\n",
       "      <td>31.2</td>\n",
       "      <td>12.4800</td>\n",
       "      <td>4.3056</td>\n",
       "    </tr>\n",
       "    <tr>\n",
       "      <th>2</th>\n",
       "      <td>Bream</td>\n",
       "      <td>340.0</td>\n",
       "      <td>26.5</td>\n",
       "      <td>31.1</td>\n",
       "      <td>12.3778</td>\n",
       "      <td>4.6961</td>\n",
       "    </tr>\n",
       "    <tr>\n",
       "      <th>3</th>\n",
       "      <td>Bream</td>\n",
       "      <td>363.0</td>\n",
       "      <td>29.0</td>\n",
       "      <td>33.5</td>\n",
       "      <td>12.7300</td>\n",
       "      <td>4.4555</td>\n",
       "    </tr>\n",
       "    <tr>\n",
       "      <th>4</th>\n",
       "      <td>Bream</td>\n",
       "      <td>430.0</td>\n",
       "      <td>29.0</td>\n",
       "      <td>34.0</td>\n",
       "      <td>12.4440</td>\n",
       "      <td>5.1340</td>\n",
       "    </tr>\n",
       "    <tr>\n",
       "      <th>...</th>\n",
       "      <td>...</td>\n",
       "      <td>...</td>\n",
       "      <td>...</td>\n",
       "      <td>...</td>\n",
       "      <td>...</td>\n",
       "      <td>...</td>\n",
       "    </tr>\n",
       "    <tr>\n",
       "      <th>154</th>\n",
       "      <td>Smelt</td>\n",
       "      <td>12.2</td>\n",
       "      <td>12.2</td>\n",
       "      <td>13.4</td>\n",
       "      <td>2.0904</td>\n",
       "      <td>1.3936</td>\n",
       "    </tr>\n",
       "    <tr>\n",
       "      <th>155</th>\n",
       "      <td>Smelt</td>\n",
       "      <td>13.4</td>\n",
       "      <td>12.4</td>\n",
       "      <td>13.5</td>\n",
       "      <td>2.4300</td>\n",
       "      <td>1.2690</td>\n",
       "    </tr>\n",
       "    <tr>\n",
       "      <th>156</th>\n",
       "      <td>Smelt</td>\n",
       "      <td>12.2</td>\n",
       "      <td>13.0</td>\n",
       "      <td>13.8</td>\n",
       "      <td>2.2770</td>\n",
       "      <td>1.2558</td>\n",
       "    </tr>\n",
       "    <tr>\n",
       "      <th>157</th>\n",
       "      <td>Smelt</td>\n",
       "      <td>19.7</td>\n",
       "      <td>14.3</td>\n",
       "      <td>15.2</td>\n",
       "      <td>2.8728</td>\n",
       "      <td>2.0672</td>\n",
       "    </tr>\n",
       "    <tr>\n",
       "      <th>158</th>\n",
       "      <td>Smelt</td>\n",
       "      <td>19.9</td>\n",
       "      <td>15.0</td>\n",
       "      <td>16.2</td>\n",
       "      <td>2.9322</td>\n",
       "      <td>1.8792</td>\n",
       "    </tr>\n",
       "  </tbody>\n",
       "</table>\n",
       "<p>159 rows × 6 columns</p>\n",
       "</div>"
      ],
      "text/plain": [
       "    Species  Weight  Length  Diagonal   Height   Width\n",
       "0     Bream   242.0    25.4      30.0  11.5200  4.0200\n",
       "1     Bream   290.0    26.3      31.2  12.4800  4.3056\n",
       "2     Bream   340.0    26.5      31.1  12.3778  4.6961\n",
       "3     Bream   363.0    29.0      33.5  12.7300  4.4555\n",
       "4     Bream   430.0    29.0      34.0  12.4440  5.1340\n",
       "..      ...     ...     ...       ...      ...     ...\n",
       "154   Smelt    12.2    12.2      13.4   2.0904  1.3936\n",
       "155   Smelt    13.4    12.4      13.5   2.4300  1.2690\n",
       "156   Smelt    12.2    13.0      13.8   2.2770  1.2558\n",
       "157   Smelt    19.7    14.3      15.2   2.8728  2.0672\n",
       "158   Smelt    19.9    15.0      16.2   2.9322  1.8792\n",
       "\n",
       "[159 rows x 6 columns]"
      ]
     },
     "execution_count": 5,
     "metadata": {},
     "output_type": "execute_result"
    }
   ],
   "source": [
    "fish = pd.read_csv('https://bit.ly/fish_csv_data')\n",
    "fish"
   ]
  },
  {
   "cell_type": "code",
   "execution_count": 12,
   "id": "dbeedae0",
   "metadata": {
    "ExecuteTime": {
     "end_time": "2022-11-09T01:30:11.812766Z",
     "start_time": "2022-11-09T01:30:11.804776Z"
    }
   },
   "outputs": [
    {
     "data": {
      "text/plain": [
       "array(['Bream', 'Roach', 'Whitefish', 'Parkki', 'Perch', 'Pike', 'Smelt'],\n",
       "      dtype=object)"
      ]
     },
     "execution_count": 12,
     "metadata": {},
     "output_type": "execute_result"
    }
   ],
   "source": [
    "# target 고유값 추출\n",
    "fish['Species'].unique() # 다중분류"
   ]
  },
  {
   "cell_type": "code",
   "execution_count": 7,
   "id": "4bd6f1b0",
   "metadata": {
    "ExecuteTime": {
     "end_time": "2022-11-09T01:11:10.313656Z",
     "start_time": "2022-11-09T01:11:10.292710Z"
    }
   },
   "outputs": [],
   "source": [
    "# Species를 제외한 나머지 특성은 입력 데이터 \n",
    "# Species는 타깃 데이터 \n",
    "\n",
    "fish_input = fish[['Weight', 'Length', 'Diagonal', 'Height', 'Width']].to_numpy()\n",
    "fish_target = fish['Species'].to_numpy()"
   ]
  },
  {
   "cell_type": "markdown",
   "id": "a1d661df",
   "metadata": {},
   "source": [
    "## 특성 전처리와 훈련 세트, 테스트 세트 분리\n",
    "- 훈련(fit)시키기 전까지는 스케일링을 해줘야한다. "
   ]
  },
  {
   "cell_type": "code",
   "execution_count": 10,
   "id": "ffd0882b",
   "metadata": {
    "ExecuteTime": {
     "end_time": "2022-11-09T01:21:37.273849Z",
     "start_time": "2022-11-09T01:21:37.266887Z"
    }
   },
   "outputs": [],
   "source": [
    "from sklearn.model_selection import train_test_split\n",
    "from sklearn.preprocessing import StandardScaler\n",
    "\n",
    "X_train, X_test, y_train, y_test = train_test_split(fish_input, fish_target, random_state = 42)\n",
    "\n",
    "#표준화 \n",
    "ss = StandardScaler()\n",
    "ss.fit(X_train)\n",
    "\n",
    "train_scaled = ss.transform(X_train)\n",
    "test_scaled = ss.transform(X_test)"
   ]
  },
  {
   "cell_type": "markdown",
   "id": "e7fdc801",
   "metadata": {},
   "source": [
    "## 확률적 경사 하강법으로 모델 훈련"
   ]
  },
  {
   "cell_type": "code",
   "execution_count": 15,
   "id": "3d028fbf",
   "metadata": {
    "ExecuteTime": {
     "end_time": "2022-11-09T01:33:43.515910Z",
     "start_time": "2022-11-09T01:33:43.483000Z"
    }
   },
   "outputs": [
    {
     "name": "stdout",
     "output_type": "stream",
     "text": [
      "훈련데이터 점수 : 0.773109243697479\n",
      "테스트데이터 점수 : 0.775\n"
     ]
    }
   ],
   "source": [
    "# SGDClassisier 클래스 : 확률적 강사 하강법을 제공하는 분류용 클래스\n",
    "from sklearn.linear_model import SGDClassifier\n",
    "\n",
    "# loss function(손실함수), 손실 함수의 종류를 지칭하는 매개변수(loss)\n",
    "# 이진분류회귀 : 이진크로스앤트로피\n",
    "# 다중분류회귀 : 크로스엔트로피, 소프트맥스\n",
    "# max_iter : 수행할 애포크(전체 훈련데이터 샘플을 사용하는 것) 횟수\n",
    "sc = SGDClassifier(loss = 'log', max_iter=10, random_state = 42)\n",
    "sc.fit(train_scaled, y_train)   \n",
    "    \n",
    "# 평가\n",
    "print('훈련데이터 점수 :', sc.score(train_scaled, y_train))\n",
    "print('테스트데이터 점수 :', sc.score(test_scaled, y_test))"
   ]
  },
  {
   "cell_type": "code",
   "execution_count": 18,
   "id": "32f37f66",
   "metadata": {
    "ExecuteTime": {
     "end_time": "2022-11-09T01:35:58.522871Z",
     "start_time": "2022-11-09T01:35:58.504921Z"
    }
   },
   "outputs": [
    {
     "name": "stdout",
     "output_type": "stream",
     "text": [
      "훈련데이터 점수 : 0.8151260504201681\n",
      "테스트데이터 점수 : 0.85\n"
     ]
    }
   ],
   "source": [
    "# 모델을 이어서 훈련할 때 partical_fit()\n",
    "sc.partial_fit(train_scaled, y_train)\n",
    "print('훈련데이터 점수 :', sc.score(train_scaled, y_train))\n",
    "print('테스트데이터 점수 :', sc.score(test_scaled, y_test)) # 너무 잦은 애포크를 하게 되면 과대적합이 발생할수 있다. "
   ]
  },
  {
   "cell_type": "markdown",
   "id": "a434356b",
   "metadata": {},
   "source": [
    "## 가장 적절한 에포크 횟수 찾기 \n",
    "- 에포크 획수가 적어 모델이 훈련세트를 덜 학습하면 과소적합이 발생한다. \n",
    "- 너무 많은 에포크 횟수는 과대적합된 모델일 가능성이 높다. "
   ]
  },
  {
   "cell_type": "code",
   "execution_count": 20,
   "id": "ffdbd9c0",
   "metadata": {
    "ExecuteTime": {
     "end_time": "2022-11-09T01:46:47.218363Z",
     "start_time": "2022-11-09T01:46:46.321204Z"
    }
   },
   "outputs": [],
   "source": [
    "# partial_fit()를 사용하여 적절한 에포크 횟수 찾기\n",
    "\n",
    "sc = SGDClassifier(loss='log', random_state = 42)\n",
    "\n",
    "train_score = []\n",
    "test_score = []\n",
    "\n",
    "# partial_fit()만 사용하려면 훈련 세트의 전체 클래스(라벨)의 레이블을 전달해줘야 한다.\n",
    "classes = np.unique(y_train)\n",
    "\n",
    "# 300번의 에포크 동안 훈련을 반복하여 진행 \n",
    "for _ in range(0, 300):\n",
    "    sc.partial_fit(train_scaled, y_train, classes = classes)\n",
    "    train_score.append(sc.score(train_scaled, y_train))\n",
    "    test_score.append(sc.score(test_scaled, y_test))"
   ]
  },
  {
   "cell_type": "markdown",
   "id": "cf0d69bb",
   "metadata": {},
   "source": [
    "## 에포크 횟수에 따른 점수 시각화 작업"
   ]
  },
  {
   "cell_type": "code",
   "execution_count": 21,
   "id": "774302f8",
   "metadata": {
    "ExecuteTime": {
     "end_time": "2022-11-09T01:49:15.034936Z",
     "start_time": "2022-11-09T01:49:15.016984Z"
    }
   },
   "outputs": [],
   "source": [
    "# 차트 스타일 지정\n",
    "sns.set(font='D2coding', rc = {'axes.unicode_minus':False}, style = 'darkgrid')\n",
    "plt.rc('figure', figsize = (10, 8))"
   ]
  },
  {
   "cell_type": "code",
   "execution_count": 32,
   "id": "a4c71501",
   "metadata": {
    "ExecuteTime": {
     "end_time": "2022-11-09T02:18:34.455378Z",
     "start_time": "2022-11-09T02:18:34.315071Z"
    }
   },
   "outputs": [
    {
     "data": {
      "image/png": "[encoded data removed]",
      "text/plain": [
       "<Figure size 720x576 with 1 Axes>"
      ]
     },
     "metadata": {},
     "output_type": "display_data"
    }
   ],
   "source": [
    "plt.plot(train_score, c='b')\n",
    "plt.plot(test_score, c = 'r')\n",
    "plt.xlabel('epoch', size = 15)\n",
    "plt.ylabel('accuracy', size = 15)\n",
    "plt.show() # 두 그래프가 가까이 있는 위치의 애포크 횟수(100)를 가져온다.  "
   ]
  },
  {
   "cell_type": "code",
   "execution_count": 31,
   "id": "95133019",
   "metadata": {
    "ExecuteTime": {
     "end_time": "2022-11-09T02:18:03.249515Z",
     "start_time": "2022-11-09T02:18:03.230547Z"
    }
   },
   "outputs": [
    {
     "name": "stdout",
     "output_type": "stream",
     "text": [
      "훈련데이터 점수 : 0.957983193277311\n",
      "테스트데이터 점수 : 0.925\n"
     ]
    }
   ],
   "source": [
    "# 조기종료 가능 : 일정 에포크 동안 성능이 향상되지 않으면 더 훈련하지 않고 자동으로 멈추는 기능\n",
    "# tol :향상된 최소값을 지정하는 매개변수로 None으로 값을 주면 자동으로 멈추지 않고, max_iter 만큼 반복된다.\n",
    "sc = SGDClassifier(loss = 'log', max_iter=100, tol = None, random_state = 42)\n",
    "# 서포트 벡터 머신(SVM) 알고리즘에서 사용되는 손실함수의 기본값은 hinge\n",
    "sc.fit(train_scaled, y_train)   \n",
    "    \n",
    "# 평가\n",
    "print('훈련데이터 점수 :', sc.score(train_scaled, y_train))\n",
    "print('테스트데이터 점수 :', sc.score(test_scaled, y_test))"
   ]
  },
  {
   "cell_type": "code",
   "execution_count": null,
   "id": "ab0aec5b",
   "metadata": {},
   "outputs": [],
   "source": []
  }
 ],
 "metadata": {
  "kernelspec": {
   "display_name": "Python 3 (ipykernel)",
   "language": "python",
   "name": "python3"
  },
  "language_info": {
   "codemirror_mode": {
    "name": "ipython",
    "version": 3
   },
   "file_extension": ".py",
   "mimetype": "text/x-python",
   "name": "python",
   "nbconvert_exporter": "python",
   "pygments_lexer": "ipython3",
   "version": "3.9.7"
  },
  "toc": {
   "base_numbering": 1,
   "nav_menu": {},
   "number_sections": true,
   "sideBar": true,
   "skip_h1_title": false,
   "title_cell": "Table of Contents",
   "title_sidebar": "Contents",
   "toc_cell": false,
   "toc_position": {},
   "toc_section_display": true,
   "toc_window_display": false
  },
  "varInspector": {
   "cols": {
    "lenName": 16,
    "lenType": 16,
    "lenVar": 40
   },
   "kernels_config": {
    "python": {
     "delete_cmd_postfix": "",
     "delete_cmd_prefix": "del ",
     "library": "var_list.py",
     "varRefreshCmd": "print(var_dic_list())"
    },
    "r": {
     "delete_cmd_postfix": ") ",
     "delete_cmd_prefix": "rm(",
     "library": "var_list.r",
     "varRefreshCmd": "cat(var_dic_list()) "
    }
   },
   "types_to_exclude": [
    "module",
    "function",
    "builtin_function_or_method",
    "instance",
    "_Feature"
   ],
   "window_display": false
  }
 },
 "nbformat": 4,
 "nbformat_minor": 5
}
