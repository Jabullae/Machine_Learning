{
 "cells": [
  {
   "cell_type": "code",
   "execution_count": null,
   "id": "9c130ec8",
   "metadata": {
    "ExecuteTime": {
     "end_time": "2022-11-23T02:59:07.320420Z",
     "start_time": "2022-11-23T02:59:07.301471Z"
    },
    "execution": {
     "iopub.execute_input": "2022-11-21T11:09:05.949551Z",
     "iopub.status.busy": "2022-11-21T11:09:05.948552Z",
     "iopub.status.idle": "2022-11-21T11:09:07.668270Z",
     "shell.execute_reply": "2022-11-21T11:09:07.667273Z",
     "shell.execute_reply.started": "2022-11-21T11:09:05.949551Z"
    }
   },
   "outputs": [],
   "source": [
    "import numpy as np\n",
    "import pandas as pd\n",
    "from sklearn.preprocessing import StandardScaler\n",
    "\n",
    "import matplotlib as mpl\n",
    "import matplotlib.pyplot as plt\n",
    "import seaborn as sns\n",
    "\n",
    "import warnings\n",
    "from IPython.display import Image\n",
    "#from sklearn.model_selection import KFold\n",
    "#from sklearn.linear_model import LogisticRegression\n",
    "from sklearn.metrics import f1_score\n",
    "from sklearn.preprocessing import LabelEncoder\n",
    "\n",
    "from sklearn.metrics import confusion_matrix\n",
    "from sklearn.metrics import classification_report\n",
    "from sklearn.metrics import accuracy_score,precision_score,recall_score,roc_auc_score\n",
    "\n",
    "import missingno as msno\n"
   ]
  },
  {
   "cell_type": "code",
   "execution_count": null,
   "id": "a8df43ad",
   "metadata": {
    "ExecuteTime": {
     "end_time": "2022-11-23T02:59:11.293375Z",
     "start_time": "2022-11-23T02:59:11.269416Z"
    },
    "execution": {
     "iopub.execute_input": "2022-11-21T11:09:07.669247Z",
     "iopub.status.busy": "2022-11-21T11:09:07.669247Z",
     "iopub.status.idle": "2022-11-21T11:09:07.698171Z",
     "shell.execute_reply": "2022-11-21T11:09:07.697174Z",
     "shell.execute_reply.started": "2022-11-21T11:09:07.669247Z"
    }
   },
   "outputs": [],
   "source": [
    "%matplotlib inline\n",
    "%config InlineBackend.figure_format = 'retina'\n",
    "\n",
    "mpl.rc('font', family = 'D2coding')\n",
    "mpl.rc('axes', unicode_minus=False)\n",
    "\n",
    "sns.set(font=\"malgun gothic\", rc={\"axes.unicode_minus\":False}, style='darkgrid')\n",
    "plt.rc('figure', figsize=( 10, 8))\n",
    "\n",
    "warnings.filterwarnings('ignore')"
   ]
  },
  {
   "cell_type": "code",
   "execution_count": null,
   "id": "edcead33-ab58-4e64-8349-ac454e387183",
   "metadata": {
    "ExecuteTime": {
     "end_time": "2022-11-23T00:02:14.201586Z",
     "start_time": "2022-11-23T00:02:14.164686Z"
    },
    "execution": {
     "iopub.execute_input": "2022-11-21T11:22:04.882187Z",
     "iopub.status.busy": "2022-11-21T11:22:04.881190Z",
     "iopub.status.idle": "2022-11-21T11:22:04.904127Z",
     "shell.execute_reply": "2022-11-21T11:22:04.904127Z",
     "shell.execute_reply.started": "2022-11-21T11:22:04.882187Z"
    }
   },
   "outputs": [],
   "source": [
    "from sklearn.model_selection import train_test_split, cross_val_predict\n",
    "from sklearn.metrics import accuracy_score, precision_score, recall_score, roc_auc_score\n",
    "from sklearn.metrics import f1_score, confusion_matrix, precision_recall_curve, roc_curve, classification_report\n",
    "\n",
    "from sklearn.preprocessing import StandardScaler, MinMaxScaler\n",
    "from sklearn.linear_model import LogisticRegression\n",
    "from sklearn.preprocessing import Binarizer\n",
    "\n",
    "\n",
    "# 평가지표 분류\n",
    "def get_clf_eval(y_test, pred = None, pred_proba = None):\n",
    "    confusion = confusion_matrix(y_test, pred)\n",
    "    accuracy = accuracy_score(y_test, pred)\n",
    "    precision = precision_score(y_test, pred)\n",
    "    recall = recall_score(y_test, pred)\n",
    "    f1 = f1_score(y_test, pred)\n",
    "    roc_auc = roc_auc_score(y_test, pred_proba)\n",
    "    print('오차 행렬')\n",
    "    print(confusion)\n",
    "    print('정확도 : {:.4f}, 정밀도 : {:.4f}, 재현율 : {:.4f}, F1 : {:.4f}, AUC : {:.4f}'.\n",
    "          format(accuracy, precision, recall, f1, roc_auc))\n",
    "\n",
    "# 재현율과 정밀도의 시각화\n",
    "def precision_recall_curve_plot(y_test, pred_proba_c1):\n",
    "    precisions, recalls, thresholds = precision_recall_curve(y_test, pred_proba_c1)\n",
    "    \n",
    "    plt.figure(figsize = (10, 7))\n",
    "    plt.rc('font', family = 'D2coding')\n",
    "    threshold_boundary = thresholds.shape[0]\n",
    "    a = thresholds[precisions[0:threshold_boundary] == recalls[0:threshold_boundary]]\n",
    "    loc = np.where(thresholds == a[0])[0][0]\n",
    "    plt.plot(thresholds, precisions[0:threshold_boundary], linestyle = '--', label = 'precision')\n",
    "    plt.plot(thresholds, recalls[0:threshold_boundary], label = 'recall')\n",
    "    plt.scatter(thresholds[loc], precisions[loc], c = 'black', s = 60)\n",
    "    plt.text(0.02 + thresholds[loc], precisions[loc], '임계값 : {:.3f}'.format(thresholds[loc]), size = 15)\n",
    "    \n",
    "    start, end = plt.xlim()\n",
    "    plt.xticks(np.round(np.arange(start, end, 0.1), 2), size = 15)\n",
    "    plt.xlabel('Threshold value', size = 15); plt.ylabel('Precision and Recall value', size = 15)\n",
    "    plt.legend()\n",
    "    plt.rc('legend', fontsize = 15)\n",
    "    plt.rc('ytick', labelsize = 15)\n",
    "    plt.show()\n",
    "    \n",
    "\n",
    "# 임계값 조정 함수\n",
    "def get_clf_eval_thres(y_test, pred_po, threshold, f1_show=False, auc_show=False):\n",
    "    eval_df = pd.DataFrame()\n",
    "    \n",
    "    for thres in threshold:\n",
    "        # threshold에 따른 예측 분류 값\n",
    "        binarizer = Binarizer(threshold = thres)\n",
    "        binarizer.fit(pred_po)\n",
    "        thres_pred = binarizer.transform(pred_po)\n",
    "        \n",
    "        # 평가지표  \n",
    "        accuracy = accuracy_score(y_test, thres_pred)\n",
    "        precision = precision_score(y_test, thres_pred)\n",
    "        recall = recall_score(y_test, thres_pred)\n",
    "        f1 = f1_score(y_test, thres_pred)\n",
    "        auc = roc_auc_score(y_test, pred_po)\n",
    "        \n",
    "        # 데이터 프레임 형태\n",
    "        eval_lst = np.array([accuracy, precision, recall, f1, auc]).reshape(-1,1)\n",
    "        temp = pd.DataFrame(eval_lst, columns=[thres], \n",
    "                            index = [\"정확도\", \"정밀도\", \"재현율\", \"F1스코어\", \"AUC\"])\n",
    "        eval_df = pd.concat([eval_df,temp], axis=1)\n",
    "        \n",
    "    eval_df.columns.names = [\"임계값\"]\n",
    "    \n",
    "    if f1_show == False:\n",
    "        eval_df.drop(\"F1스코어\", axis=0, inplace=True)\n",
    "        \n",
    "    if auc_show == False:\n",
    "        eval_df.drop(\"AUC\", axis=0, inplace=True)\n",
    "        \n",
    "    return round(eval_df, 4)"
   ]
  },
  {
   "cell_type": "code",
   "execution_count": null,
   "id": "9c8e56b8",
   "metadata": {
    "ExecuteTime": {
     "end_time": "2022-11-22T10:38:37.803964Z",
     "start_time": "2022-11-22T10:38:37.728851Z"
    },
    "execution": {
     "iopub.execute_input": "2022-11-21T11:09:07.699186Z",
     "iopub.status.busy": "2022-11-21T11:09:07.699186Z",
     "iopub.status.idle": "2022-11-21T11:09:07.789937Z",
     "shell.execute_reply": "2022-11-21T11:09:07.789937Z",
     "shell.execute_reply.started": "2022-11-21T11:09:07.699186Z"
    },
    "tags": []
   },
   "outputs": [],
   "source": [
    "data = pd.read_csv('C:/k_digital/source/data/open/train.csv')\n",
    "test = pd.read_csv('C:/k_digital/source/data/open/test.csv')"
   ]
  },
  {
   "cell_type": "code",
   "execution_count": null,
   "id": "d6cc0b85",
   "metadata": {
    "ExecuteTime": {
     "end_time": "2022-11-22T10:38:37.880515Z",
     "start_time": "2022-11-22T10:38:37.866557Z"
    },
    "execution": {
     "iopub.execute_input": "2022-11-21T11:09:07.790950Z",
     "iopub.status.busy": "2022-11-21T11:09:07.790950Z",
     "iopub.status.idle": "2022-11-21T11:09:07.805899Z",
     "shell.execute_reply": "2022-11-21T11:09:07.804899Z",
     "shell.execute_reply.started": "2022-11-21T11:09:07.790950Z"
    },
    "tags": []
   },
   "outputs": [],
   "source": [
    "data['FOPTIMETHGLY'].value_counts()"
   ]
  },
  {
   "cell_type": "markdown",
   "id": "82cd1376-5652-489b-9159-84f57dc05264",
   "metadata": {},
   "source": [
    "# 데이터 탐색 및 전처리(EDA)"
   ]
  },
  {
   "cell_type": "markdown",
   "id": "38b1ac2d",
   "metadata": {},
   "source": [
    "## 데이터 유형 확인"
   ]
  },
  {
   "cell_type": "code",
   "execution_count": null,
   "id": "e20b922c",
   "metadata": {
    "ExecuteTime": {
     "end_time": "2022-11-22T10:38:37.959519Z",
     "start_time": "2022-11-22T10:38:37.944567Z"
    },
    "execution": {
     "iopub.execute_input": "2022-11-21T11:09:07.806894Z",
     "iopub.status.busy": "2022-11-21T11:09:07.805899Z",
     "iopub.status.idle": "2022-11-21T11:09:07.837810Z",
     "shell.execute_reply": "2022-11-21T11:09:07.836816Z",
     "shell.execute_reply.started": "2022-11-21T11:09:07.806894Z"
    }
   },
   "outputs": [],
   "source": [
    "data.info()"
   ]
  },
  {
   "cell_type": "markdown",
   "id": "fd27e884",
   "metadata": {},
   "source": [
    "## profiling"
   ]
  },
  {
   "cell_type": "code",
   "execution_count": null,
   "id": "f379c3f1",
   "metadata": {
    "ExecuteTime": {
     "end_time": "2022-11-22T10:38:38.037072Z",
     "start_time": "2022-11-22T10:38:38.024424Z"
    },
    "execution": {
     "iopub.execute_input": "2022-11-21T11:09:07.837810Z",
     "iopub.status.busy": "2022-11-21T11:09:07.837810Z",
     "iopub.status.idle": "2022-11-21T11:09:07.853769Z",
     "shell.execute_reply": "2022-11-21T11:09:07.852773Z",
     "shell.execute_reply.started": "2022-11-21T11:09:07.837810Z"
    }
   },
   "outputs": [],
   "source": [
    "#!pip install pandas_profiling"
   ]
  },
  {
   "cell_type": "markdown",
   "id": "c3d36253",
   "metadata": {},
   "source": [
    "import pandas_profiling\n",
    "profile_report = pandas_profiling.ProfileReport(data)\n",
    "profile_report"
   ]
  },
  {
   "cell_type": "markdown",
   "id": "3cdf0844",
   "metadata": {},
   "source": [
    "## 결측치 확인\n",
    "- U를 2개의 그룹으로 합친 다음에 결측치를 0으로 대체 \n",
    "- 결측치 0으로 바꾸기"
   ]
  },
  {
   "cell_type": "code",
   "execution_count": null,
   "id": "1c9f7ec8",
   "metadata": {
    "ExecuteTime": {
     "end_time": "2022-11-22T10:38:38.367784Z",
     "start_time": "2022-11-22T10:38:38.338863Z"
    },
    "execution": {
     "iopub.execute_input": "2022-11-21T11:09:07.855765Z",
     "iopub.status.busy": "2022-11-21T11:09:07.855765Z",
     "iopub.status.idle": "2022-11-21T11:09:07.884688Z",
     "shell.execute_reply": "2022-11-21T11:09:07.884688Z",
     "shell.execute_reply.started": "2022-11-21T11:09:07.855765Z"
    }
   },
   "outputs": [],
   "source": [
    "# 비율로 확인 \n",
    "missing_value = data.isna().sum()\n",
    "total = data.shape[0]\n",
    "ratio = round(missing_value/total,2)\n",
    "print(round(missing_value/total,2))\n",
    "ratio.sort_values(ascending=False).head(17).index\n",
    "#  ['U4', 'U6', 'U14', 'U20', 'U50', 'U100', 'U75', 'U25', 'V100', 'FH2O',\n",
    "#        'FOXID', 'FUEL', 'FOPTIMETHGLY', 'FSO4', 'FTBN', 'SOOTPERCENTAGE',\n",
    "#        'FNOX'] --> 결측치 70% 이상 "
   ]
  },
  {
   "cell_type": "code",
   "execution_count": null,
   "id": "e39d4ce5",
   "metadata": {
    "ExecuteTime": {
     "end_time": "2022-11-22T10:38:39.670904Z",
     "start_time": "2022-11-22T10:38:38.790774Z"
    },
    "execution": {
     "iopub.execute_input": "2022-11-21T11:09:07.902640Z",
     "iopub.status.busy": "2022-11-21T11:09:07.902640Z",
     "iopub.status.idle": "2022-11-21T11:09:08.769290Z",
     "shell.execute_reply": "2022-11-21T11:09:08.769290Z",
     "shell.execute_reply.started": "2022-11-21T11:09:07.902640Z"
    }
   },
   "outputs": [],
   "source": [
    "# 결측치 시각화 \n",
    "plt.figure(figsize=(10,15))\n",
    "msno.matrix(data.sample(250))\n",
    "plt.show()"
   ]
  },
  {
   "cell_type": "code",
   "execution_count": null,
   "id": "f7523377",
   "metadata": {
    "ExecuteTime": {
     "end_time": "2022-11-22T10:38:41.714949Z",
     "start_time": "2022-11-22T10:38:39.736497Z"
    },
    "execution": {
     "iopub.execute_input": "2022-11-21T11:09:08.773280Z",
     "iopub.status.busy": "2022-11-21T11:09:08.773280Z",
     "iopub.status.idle": "2022-11-21T11:09:10.769311Z",
     "shell.execute_reply": "2022-11-21T11:09:10.768303Z",
     "shell.execute_reply.started": "2022-11-21T11:09:08.773280Z"
    },
    "scrolled": false
   },
   "outputs": [],
   "source": [
    "# bar\n",
    "msno.bar(data)"
   ]
  },
  {
   "cell_type": "code",
   "execution_count": null,
   "id": "460421c5",
   "metadata": {
    "ExecuteTime": {
     "end_time": "2022-11-22T10:38:43.054105Z",
     "start_time": "2022-11-22T10:38:41.778777Z"
    },
    "execution": {
     "iopub.execute_input": "2022-11-21T11:09:10.770297Z",
     "iopub.status.busy": "2022-11-21T11:09:10.770297Z",
     "iopub.status.idle": "2022-11-21T11:09:11.973295Z",
     "shell.execute_reply": "2022-11-21T11:09:11.972292Z",
     "shell.execute_reply.started": "2022-11-21T11:09:10.770297Z"
    }
   },
   "outputs": [],
   "source": [
    "#한 변수의 유무가 다른 변수의 존재에 얼마나 강하게 영향을 미치는지입니다.\n",
    "# 결측치가 너무 많아서 \"1\"로 뜬 것 같다. \n",
    "msno.heatmap(data)"
   ]
  },
  {
   "cell_type": "markdown",
   "id": "aba390a9",
   "metadata": {},
   "source": [
    "## 결측치 확인 "
   ]
  },
  {
   "cell_type": "code",
   "execution_count": null,
   "id": "25f070a1",
   "metadata": {
    "ExecuteTime": {
     "end_time": "2022-11-22T10:38:43.133720Z",
     "start_time": "2022-11-22T10:38:43.120721Z"
    },
    "execution": {
     "iopub.execute_input": "2022-11-21T11:09:11.973295Z",
     "iopub.status.busy": "2022-11-21T11:09:11.973295Z",
     "iopub.status.idle": "2022-11-21T11:09:11.989275Z",
     "shell.execute_reply": "2022-11-21T11:09:11.988252Z",
     "shell.execute_reply.started": "2022-11-21T11:09:11.973295Z"
    }
   },
   "outputs": [],
   "source": [
    "# 'U20', 'U50', 'U100','U75', 'U25', 'FOPTIMETHGLY','V100' 삭제 \n",
    "data = data.drop(columns = ['U20', 'U50', 'U100','U75', 'U25', 'FOPTIMETHGLY','V100'])"
   ]
  },
  {
   "cell_type": "code",
   "execution_count": null,
   "id": "640b1b99",
   "metadata": {
    "ExecuteTime": {
     "end_time": "2022-11-22T10:38:43.214798Z",
     "start_time": "2022-11-22T10:38:43.197845Z"
    },
    "execution": {
     "iopub.execute_input": "2022-11-21T11:09:11.990245Z",
     "iopub.status.busy": "2022-11-21T11:09:11.990245Z",
     "iopub.status.idle": "2022-11-21T11:09:12.004207Z",
     "shell.execute_reply": "2022-11-21T11:09:12.004207Z",
     "shell.execute_reply.started": "2022-11-21T11:09:11.990245Z"
    }
   },
   "outputs": [],
   "source": [
    "# Y_LABEL확인\n",
    "data['Y_LABEL'].value_counts()"
   ]
  },
  {
   "cell_type": "code",
   "execution_count": null,
   "id": "47d0796e",
   "metadata": {
    "ExecuteTime": {
     "end_time": "2022-11-22T10:38:43.305187Z",
     "start_time": "2022-11-22T10:38:43.291396Z"
    },
    "execution": {
     "iopub.execute_input": "2022-11-21T11:09:12.005204Z",
     "iopub.status.busy": "2022-11-21T11:09:12.005204Z",
     "iopub.status.idle": "2022-11-21T11:09:12.020164Z",
     "shell.execute_reply": "2022-11-21T11:09:12.020164Z",
     "shell.execute_reply.started": "2022-11-21T11:09:12.005204Z"
    }
   },
   "outputs": [],
   "source": [
    "# 결측치 확인 \n",
    "data.isna().sum()"
   ]
  },
  {
   "cell_type": "code",
   "execution_count": null,
   "id": "cafea026",
   "metadata": {
    "ExecuteTime": {
     "end_time": "2022-11-22T10:38:43.384535Z",
     "start_time": "2022-11-22T10:38:43.370500Z"
    },
    "execution": {
     "iopub.execute_input": "2022-11-21T11:09:12.021162Z",
     "iopub.status.busy": "2022-11-21T11:09:12.021162Z",
     "iopub.status.idle": "2022-11-21T11:09:12.036124Z",
     "shell.execute_reply": "2022-11-21T11:09:12.035124Z",
     "shell.execute_reply.started": "2022-11-21T11:09:12.021162Z"
    },
    "scrolled": true
   },
   "outputs": [],
   "source": [
    "# 결측치 \"0\"으로 채우기 \n",
    "feature = ['K', 'CD','U4', 'U6', 'U14', 'FH2O','FOXID', 'FSO4', 'SOOTPERCENTAGE','FNOX','FUEL']\n",
    "for i in feature:\n",
    "    data[i].fillna(0, inplace=True)    "
   ]
  },
  {
   "cell_type": "code",
   "execution_count": null,
   "id": "f5591cf2",
   "metadata": {
    "ExecuteTime": {
     "end_time": "2022-11-22T10:38:43.461553Z",
     "start_time": "2022-11-22T10:38:43.448539Z"
    },
    "execution": {
     "iopub.execute_input": "2022-11-21T11:09:12.037120Z",
     "iopub.status.busy": "2022-11-21T11:09:12.037120Z",
     "iopub.status.idle": "2022-11-21T11:09:12.050084Z",
     "shell.execute_reply": "2022-11-21T11:09:12.050084Z",
     "shell.execute_reply.started": "2022-11-21T11:09:12.037120Z"
    }
   },
   "outputs": [],
   "source": [
    "data['FUEL'].value_counts()"
   ]
  },
  {
   "cell_type": "code",
   "execution_count": null,
   "id": "2ed0f2fb",
   "metadata": {
    "ExecuteTime": {
     "end_time": "2022-11-22T10:38:43.538581Z",
     "start_time": "2022-11-22T10:38:43.525615Z"
    },
    "execution": {
     "iopub.execute_input": "2022-11-21T11:09:12.051081Z",
     "iopub.status.busy": "2022-11-21T11:09:12.051081Z",
     "iopub.status.idle": "2022-11-21T11:09:12.082997Z",
     "shell.execute_reply": "2022-11-21T11:09:12.081999Z",
     "shell.execute_reply.started": "2022-11-21T11:09:12.051081Z"
    }
   },
   "outputs": [],
   "source": [
    "# 결측치 확인 --> 결측치 없음. * FUEL, FTBN은 아직 결측치 존재 . \n",
    "data.isna().sum()"
   ]
  },
  {
   "cell_type": "markdown",
   "id": "7087319d",
   "metadata": {},
   "source": [
    "### FTBN"
   ]
  },
  {
   "cell_type": "code",
   "execution_count": null,
   "id": "4e04fba5",
   "metadata": {
    "ExecuteTime": {
     "end_time": "2022-11-22T10:38:43.760167Z",
     "start_time": "2022-11-22T10:38:43.608572Z"
    },
    "execution": {
     "iopub.execute_input": "2022-11-21T11:09:12.084992Z",
     "iopub.status.busy": "2022-11-21T11:09:12.083999Z",
     "iopub.status.idle": "2022-11-21T11:09:12.258501Z",
     "shell.execute_reply": "2022-11-21T11:09:12.257702Z",
     "shell.execute_reply.started": "2022-11-21T11:09:12.084992Z"
    },
    "tags": []
   },
   "outputs": [],
   "source": [
    "sns.boxplot(data['FTBN'])\n",
    "plt.show()"
   ]
  },
  {
   "cell_type": "code",
   "execution_count": null,
   "id": "5b34f599",
   "metadata": {
    "ExecuteTime": {
     "end_time": "2022-11-22T10:38:44.104802Z",
     "start_time": "2022-11-22T10:38:43.822452Z"
    },
    "execution": {
     "iopub.execute_input": "2022-11-21T11:09:12.259497Z",
     "iopub.status.busy": "2022-11-21T11:09:12.259497Z",
     "iopub.status.idle": "2022-11-21T11:09:12.541574Z",
     "shell.execute_reply": "2022-11-21T11:09:12.540573Z",
     "shell.execute_reply.started": "2022-11-21T11:09:12.259497Z"
    }
   },
   "outputs": [],
   "source": [
    "data.FTBN.plot()"
   ]
  },
  {
   "cell_type": "code",
   "execution_count": null,
   "id": "f6ce6e4f",
   "metadata": {
    "ExecuteTime": {
     "end_time": "2022-11-22T10:38:44.182213Z",
     "start_time": "2022-11-22T10:38:44.169266Z"
    },
    "execution": {
     "iopub.execute_input": "2022-11-21T11:09:12.542572Z",
     "iopub.status.busy": "2022-11-21T11:09:12.542572Z",
     "iopub.status.idle": "2022-11-21T11:09:12.557061Z",
     "shell.execute_reply": "2022-11-21T11:09:12.556064Z",
     "shell.execute_reply.started": "2022-11-21T11:09:12.542572Z"
    }
   },
   "outputs": [],
   "source": [
    "# 결측치를 뭘로 채우지?\n",
    "data['FTBN'].describe()"
   ]
  },
  {
   "cell_type": "code",
   "execution_count": null,
   "id": "2f93ce58",
   "metadata": {
    "ExecuteTime": {
     "end_time": "2022-11-22T10:38:44.259532Z",
     "start_time": "2022-11-22T10:38:44.245571Z"
    },
    "execution": {
     "iopub.execute_input": "2022-11-21T11:09:12.559056Z",
     "iopub.status.busy": "2022-11-21T11:09:12.558061Z",
     "iopub.status.idle": "2022-11-21T11:09:12.572022Z",
     "shell.execute_reply": "2022-11-21T11:09:12.572022Z",
     "shell.execute_reply.started": "2022-11-21T11:09:12.559056Z"
    }
   },
   "outputs": [],
   "source": [
    "data['FTBN'].value_counts()"
   ]
  },
  {
   "cell_type": "code",
   "execution_count": null,
   "id": "ed1dec23",
   "metadata": {
    "ExecuteTime": {
     "end_time": "2022-11-22T10:38:44.353895Z",
     "start_time": "2022-11-22T10:38:44.324971Z"
    },
    "execution": {
     "iopub.execute_input": "2022-11-21T11:09:12.573018Z",
     "iopub.status.busy": "2022-11-21T11:09:12.573018Z",
     "iopub.status.idle": "2022-11-21T11:09:12.601940Z",
     "shell.execute_reply": "2022-11-21T11:09:12.601940Z",
     "shell.execute_reply.started": "2022-11-21T11:09:12.573018Z"
    }
   },
   "outputs": [],
   "source": [
    "data.head(3)"
   ]
  },
  {
   "cell_type": "markdown",
   "id": "fdebd850",
   "metadata": {},
   "source": [
    "## YEAR, COMPONENT로 groupby 이용해 target값 분석. FUEL"
   ]
  },
  {
   "cell_type": "code",
   "execution_count": null,
   "id": "64169069",
   "metadata": {
    "ExecuteTime": {
     "end_time": "2022-11-22T10:38:44.432690Z",
     "start_time": "2022-11-22T10:38:44.418720Z"
    },
    "execution": {
     "iopub.execute_input": "2022-11-21T11:09:12.602938Z",
     "iopub.status.busy": "2022-11-21T11:09:12.602938Z",
     "iopub.status.idle": "2022-11-21T11:09:12.617898Z",
     "shell.execute_reply": "2022-11-21T11:09:12.617898Z",
     "shell.execute_reply.started": "2022-11-21T11:09:12.602938Z"
    }
   },
   "outputs": [],
   "source": [
    "missing_value_mana = [ 'FUEL',   'FTBN']\n",
    "for i in missing_value_mana:\n",
    "    print(i, '\\n' ,data[data[i].isna()==True]['Y_LABEL'].value_counts(), '\\n-----------------------------')"
   ]
  },
  {
   "cell_type": "code",
   "execution_count": null,
   "id": "c96467cc",
   "metadata": {
    "ExecuteTime": {
     "end_time": "2022-11-22T10:38:44.511500Z",
     "start_time": "2022-11-22T10:38:44.497510Z"
    },
    "execution": {
     "iopub.execute_input": "2022-11-21T11:09:12.618897Z",
     "iopub.status.busy": "2022-11-21T11:09:12.618897Z",
     "iopub.status.idle": "2022-11-21T11:09:12.633856Z",
     "shell.execute_reply": "2022-11-21T11:09:12.632858Z",
     "shell.execute_reply.started": "2022-11-21T11:09:12.618897Z"
    },
    "scrolled": true
   },
   "outputs": [],
   "source": [
    "#pd.options.display.max_rows = 785\n",
    "data.groupby('YEAR')['FTBN'].value_counts()"
   ]
  },
  {
   "cell_type": "code",
   "execution_count": null,
   "id": "9200ea39",
   "metadata": {
    "ExecuteTime": {
     "end_time": "2022-11-22T10:38:44.590272Z",
     "start_time": "2022-11-22T10:38:44.577297Z"
    },
    "execution": {
     "iopub.execute_input": "2022-11-21T11:09:12.634854Z",
     "iopub.status.busy": "2022-11-21T11:09:12.634854Z",
     "iopub.status.idle": "2022-11-21T11:09:12.647819Z",
     "shell.execute_reply": "2022-11-21T11:09:12.647819Z",
     "shell.execute_reply.started": "2022-11-21T11:09:12.634854Z"
    }
   },
   "outputs": [],
   "source": [
    "data.groupby('YEAR')['Y_LABEL'].value_counts()"
   ]
  },
  {
   "cell_type": "code",
   "execution_count": null,
   "id": "7d35944d",
   "metadata": {
    "ExecuteTime": {
     "end_time": "2022-11-22T10:38:44.668074Z",
     "start_time": "2022-11-22T10:38:44.655089Z"
    },
    "execution": {
     "iopub.execute_input": "2022-11-21T11:09:12.649816Z",
     "iopub.status.busy": "2022-11-21T11:09:12.648816Z",
     "iopub.status.idle": "2022-11-21T11:09:12.663776Z",
     "shell.execute_reply": "2022-11-21T11:09:12.663776Z",
     "shell.execute_reply.started": "2022-11-21T11:09:12.649816Z"
    },
    "scrolled": true
   },
   "outputs": [],
   "source": [
    "data.groupby('YEAR')['FUEL'].value_counts()"
   ]
  },
  {
   "cell_type": "markdown",
   "id": "16dee9f2",
   "metadata": {},
   "source": [
    "## IterativeImputer"
   ]
  },
  {
   "cell_type": "code",
   "execution_count": null,
   "id": "3670cd0b",
   "metadata": {
    "ExecuteTime": {
     "end_time": "2022-11-22T10:38:44.745845Z",
     "start_time": "2022-11-22T10:38:44.731882Z"
    },
    "execution": {
     "iopub.execute_input": "2022-11-21T11:09:12.664773Z",
     "iopub.status.busy": "2022-11-21T11:09:12.664773Z",
     "iopub.status.idle": "2022-11-21T11:09:12.680730Z",
     "shell.execute_reply": "2022-11-21T11:09:12.679733Z",
     "shell.execute_reply.started": "2022-11-21T11:09:12.664773Z"
    }
   },
   "outputs": [],
   "source": [
    "FTBN = pd.DataFrame(data['FTBN'])\n",
    "FTBN"
   ]
  },
  {
   "cell_type": "code",
   "execution_count": null,
   "id": "39594eb3",
   "metadata": {
    "ExecuteTime": {
     "end_time": "2022-11-22T10:38:44.900957Z",
     "start_time": "2022-11-22T10:38:44.839594Z"
    },
    "execution": {
     "iopub.execute_input": "2022-11-21T11:09:12.681728Z",
     "iopub.status.busy": "2022-11-21T11:09:12.681728Z",
     "iopub.status.idle": "2022-11-21T11:09:12.789296Z",
     "shell.execute_reply": "2022-11-21T11:09:12.789296Z",
     "shell.execute_reply.started": "2022-11-21T11:09:12.681728Z"
    }
   },
   "outputs": [],
   "source": [
    "FTBN = pd.DataFrame(data['FTBN'])\n",
    "FTBN\n",
    "# 결측값을 예측을 통해 채워넣음 \n",
    "from sklearn.experimental import enable_iterative_imputer\n",
    "from sklearn.impute import IterativeImputer\n",
    "\n",
    "imputer = IterativeImputer(random_state=100)\n",
    "FTBN_imputed = imputer.fit_transform(FTBN)\n",
    "\n",
    "# describe()를 하기위해 dataframe으로 바꿔줌 \n",
    "FTBN_imputed = pd.DataFrame(FTBN_imputed)\n",
    "FTBN_imputed.describe()"
   ]
  },
  {
   "cell_type": "code",
   "execution_count": null,
   "id": "51dc9170",
   "metadata": {
    "ExecuteTime": {
     "end_time": "2022-11-22T10:38:45.011868Z",
     "start_time": "2022-11-22T10:38:44.997905Z"
    },
    "execution": {
     "iopub.execute_input": "2022-11-21T11:09:12.791290Z",
     "iopub.status.busy": "2022-11-21T11:09:12.790293Z",
     "iopub.status.idle": "2022-11-21T11:09:12.806250Z",
     "shell.execute_reply": "2022-11-21T11:09:12.805269Z",
     "shell.execute_reply.started": "2022-11-21T11:09:12.791290Z"
    },
    "scrolled": true
   },
   "outputs": [],
   "source": [
    "FTBN_imputed = pd.DataFrame(FTBN_imputed)\n",
    "FTBN_imputed.describe()"
   ]
  },
  {
   "cell_type": "code",
   "execution_count": null,
   "id": "6ff4b5d3",
   "metadata": {
    "ExecuteTime": {
     "end_time": "2022-11-22T10:38:45.090792Z",
     "start_time": "2022-11-22T10:38:45.076827Z"
    },
    "execution": {
     "iopub.execute_input": "2022-11-21T11:09:12.807248Z",
     "iopub.status.busy": "2022-11-21T11:09:12.806250Z",
     "iopub.status.idle": "2022-11-21T11:09:12.820212Z",
     "shell.execute_reply": "2022-11-21T11:09:12.820212Z",
     "shell.execute_reply.started": "2022-11-21T11:09:12.807248Z"
    }
   },
   "outputs": [],
   "source": [
    "# iterative impute 하기 전.\n",
    "data['FTBN'].describe()"
   ]
  },
  {
   "cell_type": "markdown",
   "id": "7078c0d1",
   "metadata": {},
   "source": [
    "## 결측치 많은 애들 heatmap"
   ]
  },
  {
   "cell_type": "code",
   "execution_count": null,
   "id": "af198564",
   "metadata": {
    "ExecuteTime": {
     "end_time": "2022-11-22T10:38:46.800869Z",
     "start_time": "2022-11-22T10:38:46.788901Z"
    },
    "execution": {
     "iopub.execute_input": "2022-11-21T11:09:12.821211Z",
     "iopub.status.busy": "2022-11-21T11:09:12.821211Z",
     "iopub.status.idle": "2022-11-21T11:09:12.836170Z",
     "shell.execute_reply": "2022-11-21T11:09:12.835174Z",
     "shell.execute_reply.started": "2022-11-21T11:09:12.821211Z"
    }
   },
   "outputs": [],
   "source": [
    "data.shape"
   ]
  },
  {
   "cell_type": "code",
   "execution_count": null,
   "id": "85ad24e7",
   "metadata": {
    "ExecuteTime": {
     "end_time": "2022-11-22T10:38:55.358020Z",
     "start_time": "2022-11-22T10:38:46.964556Z"
    },
    "execution": {
     "iopub.execute_input": "2022-11-21T11:09:12.839162Z",
     "iopub.status.busy": "2022-11-21T11:09:12.838164Z",
     "iopub.status.idle": "2022-11-21T11:09:20.967769Z",
     "shell.execute_reply": "2022-11-21T11:09:20.966771Z",
     "shell.execute_reply.started": "2022-11-21T11:09:12.839162Z"
    }
   },
   "outputs": [],
   "source": [
    "plt.figure(figsize = (35, 35))\n",
    "sns.heatmap(data.corr(), \n",
    "           annot = True, fmt = '0.1f',cmap = 'Blues')"
   ]
  },
  {
   "cell_type": "code",
   "execution_count": null,
   "id": "4deebd92-38fd-4cdc-95de-4432178eab3f",
   "metadata": {
    "ExecuteTime": {
     "end_time": "2022-11-22T10:38:55.450295Z",
     "start_time": "2022-11-22T10:38:55.437313Z"
    },
    "execution": {
     "iopub.execute_input": "2022-11-21T11:09:20.969271Z",
     "iopub.status.busy": "2022-11-21T11:09:20.968308Z",
     "iopub.status.idle": "2022-11-21T11:09:20.982237Z",
     "shell.execute_reply": "2022-11-21T11:09:20.982237Z",
     "shell.execute_reply.started": "2022-11-21T11:09:20.969271Z"
    }
   },
   "outputs": [],
   "source": [
    "data['FTBN'] = FTBN_imputed"
   ]
  },
  {
   "cell_type": "code",
   "execution_count": null,
   "id": "11d042d3-a17e-482d-a7f4-058de28e3080",
   "metadata": {
    "ExecuteTime": {
     "end_time": "2022-11-22T10:38:55.543048Z",
     "start_time": "2022-11-22T10:38:55.513126Z"
    },
    "execution": {
     "iopub.execute_input": "2022-11-21T11:09:20.983234Z",
     "iopub.status.busy": "2022-11-21T11:09:20.983234Z",
     "iopub.status.idle": "2022-11-21T11:09:21.014134Z",
     "shell.execute_reply": "2022-11-21T11:09:21.014134Z",
     "shell.execute_reply.started": "2022-11-21T11:09:20.983234Z"
    }
   },
   "outputs": [],
   "source": [
    "data"
   ]
  },
  {
   "cell_type": "code",
   "execution_count": null,
   "id": "4192ab0f-778f-4367-80bf-9eb23f9fefdd",
   "metadata": {
    "ExecuteTime": {
     "end_time": "2022-11-22T10:38:56.964869Z",
     "start_time": "2022-11-22T10:38:55.625826Z"
    },
    "execution": {
     "iopub.execute_input": "2022-11-21T11:09:21.015129Z",
     "iopub.status.busy": "2022-11-21T11:09:21.015129Z",
     "iopub.status.idle": "2022-11-21T11:09:22.337046Z",
     "shell.execute_reply": "2022-11-21T11:09:22.336040Z",
     "shell.execute_reply.started": "2022-11-21T11:09:21.015129Z"
    },
    "tags": []
   },
   "outputs": [],
   "source": [
    "msno.matrix(data)"
   ]
  },
  {
   "cell_type": "markdown",
   "id": "b72e77c5",
   "metadata": {},
   "source": [
    "# 데이터 스케일링"
   ]
  },
  {
   "cell_type": "code",
   "execution_count": null,
   "id": "f1cfe4bb-9735-4b0f-a172-fdbdb10ac7f2",
   "metadata": {
    "ExecuteTime": {
     "start_time": "2022-11-23T15:54:09.480Z"
    },
    "execution": {
     "iopub.execute_input": "2022-11-21T11:09:22.338035Z",
     "iopub.status.busy": "2022-11-21T11:09:22.337046Z",
     "iopub.status.idle": "2022-11-21T11:09:22.350999Z",
     "shell.execute_reply": "2022-11-21T11:09:22.350999Z",
     "shell.execute_reply.started": "2022-11-21T11:09:22.338035Z"
    },
    "tags": []
   },
   "outputs": [],
   "source": [
    "data.columns"
   ]
  },
  {
   "cell_type": "code",
   "execution_count": null,
   "id": "275d1771-2954-40d2-8742-39a659876aa0",
   "metadata": {
    "ExecuteTime": {
     "end_time": "2022-11-22T10:38:57.153217Z",
     "start_time": "2022-11-22T10:38:57.137773Z"
    },
    "execution": {
     "iopub.execute_input": "2022-11-21T11:09:22.358980Z",
     "iopub.status.busy": "2022-11-21T11:09:22.357981Z",
     "iopub.status.idle": "2022-11-21T11:09:22.366956Z",
     "shell.execute_reply": "2022-11-21T11:09:22.365992Z",
     "shell.execute_reply.started": "2022-11-21T11:09:22.358980Z"
    }
   },
   "outputs": [],
   "source": [
    "categorical_features = ['COMPONENT_ARBITRARY', 'YEAR']"
   ]
  },
  {
   "cell_type": "code",
   "execution_count": null,
   "id": "fee61fa0-e60d-48a9-ad78-a3404c7844db",
   "metadata": {
    "ExecuteTime": {
     "end_time": "2022-11-22T10:38:57.247530Z",
     "start_time": "2022-11-22T10:38:57.233443Z"
    },
    "execution": {
     "iopub.execute_input": "2022-11-21T11:09:22.367953Z",
     "iopub.status.busy": "2022-11-21T11:09:22.367953Z",
     "iopub.status.idle": "2022-11-21T11:09:22.381922Z",
     "shell.execute_reply": "2022-11-21T11:09:22.381922Z",
     "shell.execute_reply.started": "2022-11-21T11:09:22.367953Z"
    },
    "tags": []
   },
   "outputs": [],
   "source": [
    "from sklearn.preprocessing import LabelEncoder\n",
    "\n",
    "le = LabelEncoder()\n",
    "for col in categorical_features:    \n",
    "    data[col] = le.fit_transform(data[col])"
   ]
  },
  {
   "cell_type": "code",
   "execution_count": null,
   "id": "a48ea355-ad18-49f1-82dc-56f9c60d5c4e",
   "metadata": {
    "ExecuteTime": {
     "end_time": "2022-11-22T10:38:57.342071Z",
     "start_time": "2022-11-22T10:38:57.327788Z"
    },
    "execution": {
     "iopub.execute_input": "2022-11-21T11:09:22.383912Z",
     "iopub.status.busy": "2022-11-21T11:09:22.382913Z",
     "iopub.status.idle": "2022-11-21T11:09:22.398873Z",
     "shell.execute_reply": "2022-11-21T11:09:22.397873Z",
     "shell.execute_reply.started": "2022-11-21T11:09:22.383912Z"
    },
    "tags": []
   },
   "outputs": [],
   "source": [
    "data = data.drop('ID', axis = 1)"
   ]
  },
  {
   "cell_type": "code",
   "execution_count": null,
   "id": "b886d5fb-5f9c-415c-89e4-8b1338f5409a",
   "metadata": {
    "ExecuteTime": {
     "end_time": "2022-11-22T10:38:57.467651Z",
     "start_time": "2022-11-22T10:38:57.421777Z"
    },
    "execution": {
     "iopub.execute_input": "2022-11-21T11:09:22.399868Z",
     "iopub.status.busy": "2022-11-21T11:09:22.399868Z",
     "iopub.status.idle": "2022-11-21T11:09:22.448248Z",
     "shell.execute_reply": "2022-11-21T11:09:22.445264Z",
     "shell.execute_reply.started": "2022-11-21T11:09:22.399868Z"
    },
    "tags": []
   },
   "outputs": [],
   "source": [
    "from sklearn.preprocessing import StandardScaler\n",
    "ss = StandardScaler()\n",
    "scaled = ss.fit_transform(data.drop(['COMPONENT_ARBITRARY', 'YEAR', 'Y_LABEL'], axis = 1))\n",
    "columns = ['ANONYMOUS_1',\n",
    "       'SAMPLE_TRANSFER_DAY', 'ANONYMOUS_2', 'AG', 'AL', 'B', 'BA', 'BE', 'CA',\n",
    "       'CD', 'CO', 'CR', 'CU', 'FH2O', 'FNOX', 'FOXID', 'FSO4', 'FTBN', 'FE',\n",
    "       'FUEL', 'H2O', 'K', 'LI', 'MG', 'MN', 'MO', 'NA', 'NI', 'P', 'PB',\n",
    "       'PQINDEX', 'S', 'SB', 'SI', 'SN', 'SOOTPERCENTAGE', 'TI', 'U14', 'U6',\n",
    "       'U4', 'V', 'V40', 'ZN']\n",
    "scaled = pd.DataFrame(scaled, columns = columns)\n",
    "scaled.head()"
   ]
  },
  {
   "cell_type": "code",
   "execution_count": null,
   "id": "bae7b51b-d847-4364-b882-d57158aac7dd",
   "metadata": {
    "ExecuteTime": {
     "end_time": "2022-11-22T10:38:57.608840Z",
     "start_time": "2022-11-22T10:38:57.566953Z"
    },
    "execution": {
     "iopub.execute_input": "2022-11-21T11:10:07.639604Z",
     "iopub.status.busy": "2022-11-21T11:10:07.639604Z",
     "iopub.status.idle": "2022-11-21T11:10:07.676504Z",
     "shell.execute_reply": "2022-11-21T11:10:07.676504Z",
     "shell.execute_reply.started": "2022-11-21T11:10:07.639604Z"
    }
   },
   "outputs": [],
   "source": [
    "onehot = data[['COMPONENT_ARBITRARY', 'YEAR']]\n",
    "scaled = pd.concat([onehot, scaled], axis = 1)\n",
    "scaled"
   ]
  },
  {
   "cell_type": "code",
   "execution_count": null,
   "id": "bdb33441-39e3-4c57-a4f0-4648f6180afc",
   "metadata": {
    "execution": {
     "iopub.execute_input": "2022-11-21T11:10:49.360391Z",
     "iopub.status.busy": "2022-11-21T11:10:49.360391Z",
     "iopub.status.idle": "2022-11-21T11:10:57.644382Z",
     "shell.execute_reply": "2022-11-21T11:10:57.643385Z",
     "shell.execute_reply.started": "2022-11-21T11:10:49.360391Z"
    },
    "tags": []
   },
   "outputs": [],
   "source": [
    "plt.figure(figsize = (28, 28))\n",
    "sns.heatmap(scaled.corr(), annot = True, fmt = '0.1f', cmap = 'Blues')"
   ]
  },
  {
   "cell_type": "code",
   "execution_count": null,
   "id": "a9f080c7",
   "metadata": {
    "ExecuteTime": {
     "end_time": "2022-11-23T03:03:55.960392Z",
     "start_time": "2022-11-23T03:03:47.442363Z"
    }
   },
   "outputs": [],
   "source": [
    "data.hist(bins=80, figsize=(20,20))\n",
    "plt.show()"
   ]
  },
  {
   "cell_type": "code",
   "execution_count": null,
   "id": "89c4b552",
   "metadata": {
    "ExecuteTime": {
     "end_time": "2022-11-23T01:22:19.229639Z",
     "start_time": "2022-11-23T01:22:11.119587Z"
    }
   },
   "outputs": [],
   "source": [
    "scaled.hist(bins=80, figsize=(20,20))\n",
    "plt.show()"
   ]
  },
  {
   "cell_type": "code",
   "execution_count": null,
   "id": "a94c0949",
   "metadata": {},
   "outputs": [],
   "source": []
  },
  {
   "cell_type": "code",
   "execution_count": null,
   "id": "ed89d0ba",
   "metadata": {
    "ExecuteTime": {
     "end_time": "2022-11-23T10:15:51.296697Z",
     "start_time": "2022-11-23T10:15:51.280739Z"
    }
   },
   "outputs": [],
   "source": [
    "pd.DataFrame(data[data['BE'] >= 1].groupby('BE')['Y_LABEL'].value_counts())"
   ]
  },
  {
   "cell_type": "markdown",
   "id": "ab43d5fc",
   "metadata": {},
   "source": [
    "## train, test 세트 분리"
   ]
  },
  {
   "cell_type": "code",
   "execution_count": null,
   "id": "7b0d5085-f2e5-4186-bcf4-9a06a971d428",
   "metadata": {
    "ExecuteTime": {
     "end_time": "2022-11-22T10:39:17.455651Z",
     "start_time": "2022-11-22T10:39:17.438697Z"
    },
    "execution": {
     "iopub.execute_input": "2022-11-21T11:12:01.087920Z",
     "iopub.status.busy": "2022-11-21T11:12:01.087920Z",
     "iopub.status.idle": "2022-11-21T11:12:01.101883Z",
     "shell.execute_reply": "2022-11-21T11:12:01.100917Z",
     "shell.execute_reply.started": "2022-11-21T11:12:01.087920Z"
    }
   },
   "outputs": [],
   "source": [
    "from sklearn.model_selection import train_test_split\n",
    "\n",
    "\n",
    "X_train, X_test, y_train, y_test = train_test_split(scaled, data['Y_LABEL'], test_size = 0.2, random_state = 2022, stratify = data['Y_LABEL'])"
   ]
  },
  {
   "cell_type": "code",
   "execution_count": null,
   "id": "cb5f3f6e-25dc-4046-a5b6-7eaf63e1dd84",
   "metadata": {
    "ExecuteTime": {
     "end_time": "2022-11-22T10:39:18.317112Z",
     "start_time": "2022-11-22T10:39:18.088678Z"
    },
    "execution": {
     "iopub.execute_input": "2022-11-21T11:12:02.188951Z",
     "iopub.status.busy": "2022-11-21T11:12:02.188951Z",
     "iopub.status.idle": "2022-11-21T11:12:02.427109Z",
     "shell.execute_reply": "2022-11-21T11:12:02.427109Z",
     "shell.execute_reply.started": "2022-11-21T11:12:02.188951Z"
    }
   },
   "outputs": [],
   "source": [
    "from imblearn.under_sampling import NearMiss\n",
    "\n",
    "nearmiss=NearMiss()\n",
    "under_X,under_y = nearmiss.fit_resample(X_train, y_train)\n",
    "print(\"NearMiss 적용 전 학습용 피처/레이블 데이터 세트 : \", X_train.shape, y_train.shape)\n",
    "print('NearMiss 적용 후 학습용 피처/레이블 데이터 세트 :', under_X.shape, under_y.shape)\n",
    "print('NearMiss 적용 후 값의 분포 :\\n',pd.Series(under_y).value_counts())"
   ]
  },
  {
   "cell_type": "code",
   "execution_count": null,
   "id": "fdde823d-7c2a-4410-99ec-494b190ab071",
   "metadata": {
    "ExecuteTime": {
     "end_time": "2022-11-22T10:39:18.896410Z",
     "start_time": "2022-11-22T10:39:18.805646Z"
    },
    "execution": {
     "iopub.execute_input": "2022-11-21T11:12:02.460021Z",
     "iopub.status.busy": "2022-11-21T11:12:02.460021Z",
     "iopub.status.idle": "2022-11-21T11:12:02.534821Z",
     "shell.execute_reply": "2022-11-21T11:12:02.534821Z",
     "shell.execute_reply.started": "2022-11-21T11:12:02.460021Z"
    }
   },
   "outputs": [],
   "source": [
    "from imblearn.over_sampling import SMOTE\n",
    "\n",
    "smote = SMOTE(random_state=42)\n",
    "X_train_over, y_train_over = smote.fit_resample(X_train, y_train)\n",
    "print(\"SMOTE 적용 전 학습용 피처/레이블 데이터 세트 : \", X_train.shape, y_train.shape)\n",
    "print('SMOTE 적용 후 학습용 피처/레이블 데이터 세트 :', X_train_over.shape, y_train_over.shape)\n",
    "print('SMOTE 적용 후 값의 분포 :\\n',pd.Series(y_train_over).value_counts())"
   ]
  },
  {
   "cell_type": "markdown",
   "id": "c77419e4-b702-44d1-b4ae-2a7d0af9be34",
   "metadata": {},
   "source": [
    "# 알고리즘 적용"
   ]
  },
  {
   "cell_type": "code",
   "execution_count": null,
   "id": "90775e43-56c9-41b0-b6b0-3dbbd7b261cb",
   "metadata": {
    "execution": {
     "iopub.execute_input": "2022-11-21T11:30:38.743795Z",
     "iopub.status.busy": "2022-11-21T11:30:38.743795Z",
     "iopub.status.idle": "2022-11-21T11:30:39.003561Z",
     "shell.execute_reply": "2022-11-21T11:30:39.002564Z",
     "shell.execute_reply.started": "2022-11-21T11:30:38.743795Z"
    }
   },
   "outputs": [],
   "source": [
    "from sklearn.metrics import accuracy_score, classification_report, roc_curve, roc_auc_score\n",
    "\n",
    "fpr, tpr, thresholds = roc_curve(y_test, Y_pred_proba)\n",
    "\n",
    "plt.figure(figsize=(10, 6))\n",
    "plt.plot([0,1], [0,1], \"r--\")\n",
    "plt.plot(fpr, tpr, label='LogisticRegression', color = '#162fff')\n",
    "plt.xlabel('False Positive Rate', size = 15)\n",
    "plt.ylabel('True Positive Rate', size = 15)\n",
    "plt.title('LogisticRegression ROC curve', size = 15)\n",
    "plt.text(0.3, 0.45, 'AUC 면적 = {}'.format(round(roc_auc_score(y_test, Y_pred_proba), 4)), size = 20)\n",
    "plt.show()"
   ]
  },
  {
   "cell_type": "markdown",
   "id": "01ac7052-f8ed-4bf4-b238-a5450cf757cc",
   "metadata": {},
   "source": [
    "## 원본데이터 & hyperOpt & XGBoost"
   ]
  },
  {
   "cell_type": "code",
   "execution_count": null,
   "id": "65bf3295",
   "metadata": {
    "ExecuteTime": {
     "end_time": "2022-11-22T10:42:54.259042Z",
     "start_time": "2022-11-22T10:42:54.241089Z"
    }
   },
   "outputs": [],
   "source": [
    "from xgboost import XGBClassifier\n",
    "from hyperopt import hp\n",
    "\n",
    "# max_depth는 5에서 15까지 1간격으로 , min_child_weight는 1에서 6까지 1간격으로\n",
    "# colsample_bytree는 0.5에서 0.95사이, learning_rate는 0.01에서 0.2사이 정규 분포된 갑승로 검색\n",
    "xgb_search_space = {'num_leaves' : hp.quniform('num_leaves', 32, 64, 1),\n",
    "                     'max_depth' : hp.quniform('max_depth', 100, 160, 1),\n",
    "                     'min_child_samples' : hp.quniform('min_child_samples', 60, 100, 1),\n",
    "                    'subsample' : hp.uniform('subsample', 0.7, 1),\n",
    "                    'learning_rate' : hp.uniform('learning_rate', 0.01, 0.2)\n",
    "                   }"
   ]
  },
  {
   "cell_type": "code",
   "execution_count": null,
   "id": "d8be5d2f-30e6-43a9-b5cc-cc19e7af089b",
   "metadata": {
    "ExecuteTime": {
     "end_time": "2022-11-22T10:42:54.856068Z",
     "start_time": "2022-11-22T10:42:54.848087Z"
    },
    "code_folding": []
   },
   "outputs": [],
   "source": [
    "from sklearn.model_selection import KFold\n",
    "from sklearn.metrics import roc_auc_score\n",
    "from sklearn.model_selection import StratifiedKFold\n",
    "\n",
    "\n",
    "\n",
    "# fmim()에서 호출 시 search_space 값으로 NGBClassifier 교차 검증 학습 후 -1 * roc_auc 평균 값을 반환.\n",
    "def objective_func(search_space):\n",
    "    xgb_clf = XGBClassifier(n_estimators = 300,\n",
    "                            num_leaves = int(search_space['num_leaves']),\n",
    "                            max_depth = int(search_space['max_depth']),\n",
    "                            min_child_samples = int(search_space['min_child_samples']),\n",
    "                            subsample = search_space['subsample'],\n",
    "                            learning_rate = search_space['learning_rate'],\n",
    "                            objective = 'binary:logistic'\n",
    "                           )\n",
    "    \n",
    "    # 3개 k-fold 방식으로 평가된 roc_auc 지표를 담는 list\n",
    "    roc_auc_list = []\n",
    "    \n",
    "    # 3개 k-fold 방식 적용\n",
    "    skf = StratifiedKFold(n_splits=3, shuffle = True)\n",
    "    # X_train을 다시 학습과 검증용 데이터로 분리\n",
    "    for tr_index, val_index in skf.split(X_train, y_train):\n",
    "        #kf.split(X_train)으로 추출된 학습과 검증 index값으로 학습과 검증 데이터 세트 분리\n",
    "        X_tr, y_tr = X_train.iloc[tr_index], y_train.iloc[tr_index]\n",
    "        X_val, y_val = X_train.iloc[val_index], y_train.iloc[val_index]\n",
    "        \n",
    "        # early stopping은 30회로 설정하고 추출된 학습과 검증 데이터로 LGBMClassifier 학습 수행\n",
    "        xgb_clf.fit(X_tr, y_tr, early_stopping_rounds = 30, eval_metric = 'logloss',\n",
    "                    eval_set = [(X_tr, y_tr), (X_val, y_val)])\n",
    "        \n",
    "        # 1로 예측환 확률값 추출 후 roc auc 계산하고 평균 roc auc 계산을 위해 list에 결과값을 담음\n",
    "        score = roc_auc_score(y_val, xgb_clf.predict_proba(X_val)[:, 1])\n",
    "        roc_auc_list.append(score)\n",
    "\n",
    "    # 3개 k-fold로 계산된 roc_auc 값의 평균값을 반환하되, \n",
    "    # hyperOpt는 목적함수의 최솟값을 위한 입력값을 반환하므로 -1을 곱한 뒤 반환.\n",
    "    return -1 * np.mean(roc_auc_list)"
   ]
  },
  {
   "cell_type": "code",
   "execution_count": null,
   "id": "2ccec460-2356-4411-812b-667cc3d50786",
   "metadata": {
    "ExecuteTime": {
     "end_time": "2022-11-22T10:50:33.409343Z",
     "start_time": "2022-11-22T10:42:55.908598Z"
    }
   },
   "outputs": [],
   "source": [
    "from hyperopt import fmin, tpe, Trials\n",
    "\n",
    "trials = Trials()\n",
    "\n",
    "# fmin() 함수를 호출, max_evals 지정된 횟수만큼 반복 후 목적함수의 최솟값을 가지는 최적 입력값 추출\n",
    "best = fmin(fn = objective_func,\n",
    "           space = xgb_search_space,\n",
    "           algo = tpe.suggest,\n",
    "           max_evals = 50,\n",
    "            trials = trials, rstate = np.random.default_rng(seed = 30)\n",
    "           )\n",
    "\n",
    "print('best :', best)"
   ]
  },
  {
   "cell_type": "code",
   "execution_count": null,
   "id": "fc1a4d0b-f699-4183-865a-0017da554744",
   "metadata": {
    "ExecuteTime": {
     "end_time": "2022-11-22T10:50:56.082468Z",
     "start_time": "2022-11-22T10:50:49.404451Z"
    }
   },
   "outputs": [],
   "source": [
    "xgb = XGBClassifier(n_estimators=500,\n",
    "                   max_depth = int(best['max_depth']),\n",
    "                    subsample = round(best['subsample'], 5),\n",
    "                    learning_rate = round(best['learning_rate'], 5)\n",
    "                   )\n",
    "\n",
    "xgb.fit(X_train, y_train)\n",
    "\n",
    "Y_preds = xgb.predict(X_test)\n",
    "Y_pred_proba = xgb.predict_proba(X_test)[:, 1]"
   ]
  },
  {
   "cell_type": "code",
   "execution_count": null,
   "id": "6da128db-ebdc-4293-b047-362e453c8c2e",
   "metadata": {
    "ExecuteTime": {
     "end_time": "2022-11-22T10:51:00.007562Z",
     "start_time": "2022-11-22T10:50:59.983626Z"
    }
   },
   "outputs": [],
   "source": [
    "get_clf_eval(y_test, Y_preds, Y_pred_proba)\n",
    "print('Macro f1 socre : ', f1_score(y_test, Y_preds, average='macro'))\n",
    "print('Micro f1 socre : ', f1_score(y_test, Y_preds, average='micro'))"
   ]
  },
  {
   "cell_type": "code",
   "execution_count": null,
   "id": "28b31b91",
   "metadata": {
    "ExecuteTime": {
     "end_time": "2022-11-22T11:11:04.553511Z",
     "start_time": "2022-11-22T11:11:04.273411Z"
    }
   },
   "outputs": [],
   "source": [
    "precision_recall_curve_plot(y_test, Y_pred_proba)"
   ]
  },
  {
   "cell_type": "code",
   "execution_count": null,
   "id": "7d683cf8",
   "metadata": {
    "ExecuteTime": {
     "end_time": "2022-11-22T11:14:38.358061Z",
     "start_time": "2022-11-22T11:14:38.099756Z"
    }
   },
   "outputs": [],
   "source": [
    "from sklearn.metrics import accuracy_score, classification_report, roc_curve, roc_auc_score\n",
    "\n",
    "fpr, tpr, thresholds = roc_curve(y_test, Y_pred_proba)\n",
    "\n",
    "plt.figure(figsize=(10, 8))\n",
    "plt.plot([0,1], [0,1], \"r--\")\n",
    "plt.plot(fpr, tpr, label='XGBoost', color = '#175617')\n",
    "plt.xlabel('False Positive Rate', size = 15)\n",
    "plt.ylabel('True Positive Rate', size = 15)\n",
    "plt.title('XGBoost ROC curve', size = 15)\n",
    "plt.text(0.3, 0.45, 'AUC 면적 = {}'.format(round(roc_auc_score(y_test, Y_pred_proba), 4)), size = 20)\n",
    "plt.show()"
   ]
  },
  {
   "cell_type": "markdown",
   "id": "a92eae15",
   "metadata": {},
   "source": [
    "## 원본데이터 & hyprtOpt & LightGBM"
   ]
  },
  {
   "cell_type": "code",
   "execution_count": null,
   "id": "6a9e3556",
   "metadata": {
    "ExecuteTime": {
     "end_time": "2022-11-22T10:58:39.782314Z",
     "start_time": "2022-11-22T10:58:39.106269Z"
    }
   },
   "outputs": [],
   "source": [
    "from lightgbm import LGBMClassifier\n",
    "from hyperopt import hp\n",
    "\n",
    "# max_depth는 5에서 15까지 1간격으로 , min_child_weight는 1에서 6까지 1간격으로\n",
    "# colsample_bytree는 0.5에서 0.95사이, learning_rate는 0.01에서 0.2사이 정규 분포된 갑승로 검색\n",
    "lgbm_search_space = {'num_leaves' : hp.quniform('num_leaves', 32, 64, 1),\n",
    "                     'max_depth' : hp.quniform('max_depth', 100, 160, 1),\n",
    "                     'min_child_samples' : hp.quniform('min_child_samples', 60, 100, 1),\n",
    "                    'subsample' : hp.uniform('subsample', 0.7, 1),\n",
    "                    'learning_rate' : hp.uniform('learning_rate', 0.01, 0.2)\n",
    "                   }"
   ]
  },
  {
   "cell_type": "code",
   "execution_count": null,
   "id": "e5a78968",
   "metadata": {
    "ExecuteTime": {
     "end_time": "2022-11-22T10:58:40.175144Z",
     "start_time": "2022-11-22T10:58:40.154201Z"
    }
   },
   "outputs": [],
   "source": [
    "from sklearn.model_selection import KFold\n",
    "from sklearn.metrics import roc_auc_score\n",
    "from sklearn.model_selection import StratifiedKFold\n",
    "\n",
    "\n",
    "\n",
    "# fmim()에서 호출 시 search_space 값으로 NGBClassifier 교차 검증 학습 후 -1 * roc_auc 평균 값을 반환.\n",
    "def objective_func(search_space):\n",
    "    lgbm_clf = LGBMClassifier(n_estimators = 500,\n",
    "                            num_leaves = int(search_space['num_leaves']),\n",
    "                            max_depth = int(search_space['max_depth']),\n",
    "                            min_child_samples = int(search_space['min_child_samples']),\n",
    "                            subsample = search_space['subsample'],\n",
    "                            learning_rate = search_space['learning_rate']\n",
    "                           )\n",
    "    \n",
    "    # 3개 k-fold 방식으로 평가된 roc_auc 지표를 담는 list\n",
    "    roc_auc_list = []\n",
    "    \n",
    "    # 3개 k-fold 방식 적용\n",
    "    skf = StratifiedKFold(n_splits=3)\n",
    "    # X_train을 다시 학습과 검증용 데이터로 분리\n",
    "    for tr_index, val_index in skf.split(X_train, y_train):\n",
    "        #kf.split(X_train)으로 추출된 학습과 검증 index값으로 학습과 검증 데이터 세트 분리\n",
    "        X_tr, y_tr = X_train.iloc[tr_index], y_train.iloc[tr_index]\n",
    "        X_val, y_val = X_train.iloc[val_index], y_train.iloc[val_index]\n",
    "        \n",
    "        # early stopping은 30회로 설정하고 추출된 학습과 검증 데이터로 LGBMClassifier 학습 수행\n",
    "        lgbm_clf.fit(X_tr, y_tr, early_stopping_rounds = 30, eval_metric = 'logloss',\n",
    "                    eval_set = [(X_tr, y_tr), (X_val, y_val)])\n",
    "        \n",
    "        # 1로 예측환 확률값 추출 후 roc auc 계산하고 평균 roc auc 계산을 위해 list에 결과값을 담음\n",
    "        score = roc_auc_score(y_val, lgbm_clf.predict_proba(X_val)[:, 1])\n",
    "        roc_auc_list.append(score)\n",
    "\n",
    "    # 3개 k-fold로 계산된 roc_auc 값의 평균값을 반환하되, \n",
    "    # hyperOpt는 목적함수의 최솟값을 위한 입력값을 반환하므로 -1을 곱한 뒤 반환.\n",
    "    return -1 * np.mean(roc_auc_list)"
   ]
  },
  {
   "cell_type": "code",
   "execution_count": null,
   "id": "04963b3e",
   "metadata": {
    "ExecuteTime": {
     "end_time": "2022-11-22T11:01:08.892047Z",
     "start_time": "2022-11-22T10:58:41.593592Z"
    }
   },
   "outputs": [],
   "source": [
    "from hyperopt import fmin, tpe, Trials\n",
    "\n",
    "trials = Trials()\n",
    "\n",
    "# fmin() 함수를 호출, max_evals 지정된 횟수만큼 반복 후 목적함수의 최솟값을 가지는 최적 입력값 추출\n",
    "best = fmin(fn = objective_func,\n",
    "           space = lgbm_search_space,\n",
    "           algo = tpe.suggest,\n",
    "           max_evals = 50,\n",
    "            trials = trials, rstate = np.random.default_rng(seed = 30)\n",
    "           )\n",
    "\n",
    "print('best :', best)"
   ]
  },
  {
   "cell_type": "code",
   "execution_count": null,
   "id": "52d17e1e",
   "metadata": {
    "ExecuteTime": {
     "end_time": "2022-11-22T11:16:00.267744Z",
     "start_time": "2022-11-22T11:15:59.294351Z"
    }
   },
   "outputs": [],
   "source": [
    "ngb = LGBMClassifier(n_estimators=500, num_leaves = int(best['num_leaves']),\n",
    "                   max_depth = int(best['max_depth']),\n",
    "                    min_child_samples = int(best['min_child_samples']),\n",
    "                    subsample = round(best['subsample'], 5),\n",
    "                    learning_rate = round(best['learning_rate'], 5)\n",
    "                   )\n",
    "\n",
    "ngb.fit(X_train, y_train)\n",
    "\n",
    "Y_preds = ngb.predict(X_test)\n",
    "Y_pred_proba = ngb.predict_proba(X_test)[:, 1]"
   ]
  },
  {
   "cell_type": "code",
   "execution_count": null,
   "id": "696918aa",
   "metadata": {
    "ExecuteTime": {
     "end_time": "2022-11-22T11:16:01.384142Z",
     "start_time": "2022-11-22T11:16:01.357215Z"
    },
    "scrolled": true
   },
   "outputs": [],
   "source": [
    "get_clf_eval(y_test, Y_preds, Y_pred_proba)\n",
    "print('Macro f1 socre : ', f1_score(y_test, Y_preds, average='macro'))\n",
    "print('Micro f1 socre : ', f1_score(y_test, Y_preds, average='micro'))"
   ]
  },
  {
   "cell_type": "code",
   "execution_count": null,
   "id": "54f9fb1b",
   "metadata": {
    "ExecuteTime": {
     "end_time": "2022-11-22T11:16:18.774857Z",
     "start_time": "2022-11-22T11:16:18.482558Z"
    }
   },
   "outputs": [],
   "source": [
    "precision_recall_curve_plot(y_test, Y_pred_proba)"
   ]
  },
  {
   "cell_type": "code",
   "execution_count": null,
   "id": "7acb4ed7",
   "metadata": {
    "ExecuteTime": {
     "end_time": "2022-11-22T11:17:07.572618Z",
     "start_time": "2022-11-22T11:17:07.315938Z"
    }
   },
   "outputs": [],
   "source": [
    "fpr, tpr, thresholds = roc_curve(y_test, Y_pred_proba)\n",
    "\n",
    "plt.figure(figsize=(10, 8))\n",
    "plt.plot([0,1], [0,1], \"r--\")\n",
    "plt.plot(fpr, tpr, label='LightGBM', color = '#175617')\n",
    "plt.xlabel('False Positive Rate', size = 15)\n",
    "plt.ylabel('True Positive Rate', size = 15)\n",
    "plt.title('LightGBM ROC curve', size = 15)\n",
    "plt.text(0.3, 0.45, 'AUC 면적 = {}'.format(round(roc_auc_score(y_test, Y_pred_proba), 4)), size = 20)\n",
    "plt.show()"
   ]
  },
  {
   "cell_type": "markdown",
   "id": "2f516457",
   "metadata": {},
   "source": [
    "## 오버샘플링 & hyprtOpt & XGBoost"
   ]
  },
  {
   "cell_type": "code",
   "execution_count": null,
   "id": "4712a075",
   "metadata": {
    "ExecuteTime": {
     "end_time": "2022-11-22T11:22:50.583092Z",
     "start_time": "2022-11-22T11:22:50.563138Z"
    }
   },
   "outputs": [],
   "source": [
    "xgb_search_space = {'num_leaves' : hp.quniform('num_leaves', 32, 64, 1),\n",
    "                     'max_depth' : hp.quniform('max_depth', 100, 160, 1),\n",
    "                     'min_child_samples' : hp.quniform('min_child_samples', 60, 100, 1),\n",
    "                    'subsample' : hp.uniform('subsample', 0.7, 1),\n",
    "                    'learning_rate' : hp.uniform('learning_rate', 0.01, 0.2)\n",
    "                   }"
   ]
  },
  {
   "cell_type": "code",
   "execution_count": null,
   "id": "e8ff3890",
   "metadata": {
    "ExecuteTime": {
     "end_time": "2022-11-22T11:26:29.914390Z",
     "start_time": "2022-11-22T11:26:29.905414Z"
    }
   },
   "outputs": [],
   "source": [
    "# fmim()에서 호출 시 search_space 값으로 NGBClassifier 교차 검증 학습 후 -1 * roc_auc 평균 값을 반환.\n",
    "def objective_func(search_space):\n",
    "    xgb_clf = XGBClassifier(n_estimators = 300,\n",
    "                            num_leaves = int(search_space['num_leaves']),\n",
    "                            max_depth = int(search_space['max_depth']),\n",
    "                            min_child_samples = int(search_space['min_child_samples']),\n",
    "                            subsample = search_space['subsample'],\n",
    "                            learning_rate = search_space['learning_rate'],\n",
    "                            objective = 'binary:logistic'\n",
    "                           )\n",
    "    \n",
    "    # 3개 k-fold 방식으로 평가된 roc_auc 지표를 담는 list\n",
    "    roc_auc_list = []\n",
    "    \n",
    "    # 3개 k-fold 방식 적용\n",
    "    skf = StratifiedKFold(n_splits=3, shuffle = True)\n",
    "    # X_train을 다시 학습과 검증용 데이터로 분리\n",
    "    for tr_index, val_index in skf.split(X_train_over, y_train_over):\n",
    "        #kf.split(X_train)으로 추출된 학습과 검증 index값으로 학습과 검증 데이터 세트 분리\n",
    "        X_tr, y_tr = X_train_over.iloc[tr_index], y_train_over.iloc[tr_index]\n",
    "        X_val, y_val = X_train_over.iloc[val_index], y_train_over.iloc[val_index]\n",
    "        \n",
    "        # early stopping은 30회로 설정하고 추출된 학습과 검증 데이터로 LGBMClassifier 학습 수행\n",
    "        xgb_clf.fit(X_tr, y_tr, early_stopping_rounds = 30, eval_metric = 'logloss',\n",
    "                    eval_set = [(X_tr, y_tr), (X_val, y_val)])\n",
    "        \n",
    "        # 1로 예측환 확률값 추출 후 roc auc 계산하고 평균 roc auc 계산을 위해 list에 결과값을 담음\n",
    "        score = roc_auc_score(y_val, xgb_clf.predict_proba(X_val)[:, 1])\n",
    "        roc_auc_list.append(score)\n",
    "\n",
    "    # 3개 k-fold로 계산된 roc_auc 값의 평균값을 반환하되, \n",
    "    # hyperOpt는 목적함수의 최솟값을 위한 입력값을 반환하므로 -1을 곱한 뒤 반환.\n",
    "    return -1 * np.mean(roc_auc_list)"
   ]
  },
  {
   "cell_type": "code",
   "execution_count": null,
   "id": "129e3d57",
   "metadata": {
    "ExecuteTime": {
     "end_time": "2022-11-22T16:14:28.358163Z",
     "start_time": "2022-11-22T11:26:30.801641Z"
    }
   },
   "outputs": [],
   "source": [
    "from hyperopt import fmin, tpe, Trials\n",
    "\n",
    "trials = Trials()\n",
    "\n",
    "# fmin() 함수를 호출, max_evals 지정된 횟수만큼 반복 후 목적함수의 최솟값을 가지는 최적 입력값 추출\n",
    "best = fmin(fn = objective_func,\n",
    "           space = xgb_search_space,\n",
    "           algo = tpe.suggest,\n",
    "           max_evals = 50,\n",
    "            trials = trials, rstate = np.random.default_rng(seed = 30)\n",
    "           )\n",
    "\n",
    "print('best :', best)"
   ]
  },
  {
   "cell_type": "code",
   "execution_count": null,
   "id": "f0b1b0a6",
   "metadata": {
    "ExecuteTime": {
     "end_time": "2022-11-22T16:23:29.279407Z",
     "start_time": "2022-11-22T16:23:16.436332Z"
    }
   },
   "outputs": [],
   "source": [
    "xgb = XGBClassifier(n_estimators=500,\n",
    "                   max_depth = int(best['max_depth']),\n",
    "                    subsample = round(best['subsample'], 5),\n",
    "                    learning_rate = round(best['learning_rate'], 5),\n",
    "                    alpha = 10,\n",
    "                    gamma = 10,\n",
    "                    colsample_bytree = 0.5\n",
    "                   )\n",
    "\n",
    "\n",
    "xgb.fit(X_train_over, y_train_over, eval_metric = 'auc', objective = 'binary:logistic')\n",
    "\n",
    "Y_preds = xgb.predict(X_test)\n",
    "Y_pred_proba = xgb.predict_proba(X_test)[:, 1]"
   ]
  },
  {
   "cell_type": "code",
   "execution_count": null,
   "id": "3cb5ca7d",
   "metadata": {
    "ExecuteTime": {
     "end_time": "2022-11-22T16:23:51.399414Z",
     "start_time": "2022-11-22T16:23:51.373446Z"
    }
   },
   "outputs": [],
   "source": [
    "get_clf_eval(y_test, Y_preds, Y_pred_proba)\n",
    "print('Macro f1 socre : ', f1_score(y_test, Y_preds, average='macro'))\n",
    "print('Micro f1 socre : ', f1_score(y_test, Y_preds, average='micro'))"
   ]
  },
  {
   "cell_type": "markdown",
   "id": "4891412d",
   "metadata": {},
   "source": [
    "## 오버샘플링 & hyperOpt & LightGBM"
   ]
  },
  {
   "cell_type": "code",
   "execution_count": null,
   "id": "2430b354",
   "metadata": {
    "ExecuteTime": {
     "end_time": "2022-11-22T16:24:30.506329Z",
     "start_time": "2022-11-22T16:24:30.490658Z"
    }
   },
   "outputs": [],
   "source": [
    "lgbm_search_space = {'num_leaves' : hp.quniform('num_leaves', 32, 64, 1),\n",
    "                     'max_depth' : hp.quniform('max_depth', 100, 160, 1),\n",
    "                     'min_child_samples' : hp.quniform('min_child_samples', 60, 100, 1),\n",
    "                    'subsample' : hp.uniform('subsample', 0.7, 1),\n",
    "                    'learning_rate' : hp.uniform('learning_rate', 0.01, 0.2)\n",
    "                   }"
   ]
  },
  {
   "cell_type": "code",
   "execution_count": null,
   "id": "0022e34e",
   "metadata": {
    "ExecuteTime": {
     "end_time": "2022-11-22T16:25:04.243608Z",
     "start_time": "2022-11-22T16:25:04.233634Z"
    }
   },
   "outputs": [],
   "source": [
    "def objective_func(search_space):\n",
    "    lgbm_clf = LGBMClassifier(n_estimators = 500,\n",
    "                            num_leaves = int(search_space['num_leaves']),\n",
    "                            max_depth = int(search_space['max_depth']),\n",
    "                            min_child_samples = int(search_space['min_child_samples']),\n",
    "                            subsample = search_space['subsample'],\n",
    "                            learning_rate = search_space['learning_rate']\n",
    "                           )\n",
    "    \n",
    "    # 3개 k-fold 방식으로 평가된 roc_auc 지표를 담는 list\n",
    "    roc_auc_list = []\n",
    "    \n",
    "    # 3개 k-fold 방식 적용\n",
    "    skf = StratifiedKFold(n_splits=3)\n",
    "    # X_train을 다시 학습과 검증용 데이터로 분리\n",
    "    for tr_index, val_index in skf.split(X_train_over, y_train_over):\n",
    "        #kf.split(X_train)으로 추출된 학습과 검증 index값으로 학습과 검증 데이터 세트 분리\n",
    "        X_tr, y_tr = X_train_over.iloc[tr_index], y_train_over.iloc[tr_index]\n",
    "        X_val, y_val = X_train_over.iloc[val_index], y_train_over.iloc[val_index]\n",
    "        \n",
    "        # early stopping은 30회로 설정하고 추출된 학습과 검증 데이터로 LGBMClassifier 학습 수행\n",
    "        lgbm_clf.fit(X_tr, y_tr, early_stopping_rounds = 30, eval_metric = 'logloss',\n",
    "                    eval_set = [(X_tr, y_tr), (X_val, y_val)])\n",
    "        \n",
    "        # 1로 예측환 확률값 추출 후 roc auc 계산하고 평균 roc auc 계산을 위해 list에 결과값을 담음\n",
    "        score = roc_auc_score(y_val, lgbm_clf.predict_proba(X_val)[:, 1])\n",
    "        roc_auc_list.append(score)\n",
    "\n",
    "    # 3개 k-fold로 계산된 roc_auc 값의 평균값을 반환하되, \n",
    "    # hyperOpt는 목적함수의 최솟값을 위한 입력값을 반환하므로 -1을 곱한 뒤 반환.\n",
    "    return -1 * np.mean(roc_auc_list)"
   ]
  },
  {
   "cell_type": "code",
   "execution_count": null,
   "id": "f8b97815",
   "metadata": {
    "ExecuteTime": {
     "end_time": "2022-11-22T16:32:51.621802Z",
     "start_time": "2022-11-22T16:25:04.888083Z"
    }
   },
   "outputs": [],
   "source": [
    "trials = Trials()\n",
    "\n",
    "# fmin() 함수를 호출, max_evals 지정된 횟수만큼 반복 후 목적함수의 최솟값을 가지는 최적 입력값 추출\n",
    "best = fmin(fn = objective_func,\n",
    "           space = lgbm_search_space,\n",
    "           algo = tpe.suggest,\n",
    "           max_evals = 50,\n",
    "            trials = trials, rstate = np.random.default_rng(seed = 30)\n",
    "           )\n",
    "\n",
    "print('best :', best)"
   ]
  },
  {
   "cell_type": "code",
   "execution_count": null,
   "id": "d7d5566f",
   "metadata": {
    "ExecuteTime": {
     "end_time": "2022-11-22T16:34:39.501930Z",
     "start_time": "2022-11-22T16:34:37.909043Z"
    }
   },
   "outputs": [],
   "source": [
    "ngb = LGBMClassifier(n_estimators=500, num_leaves = int(best['num_leaves']),\n",
    "                   max_depth = int(best['max_depth']),\n",
    "                    min_child_samples = int(best['min_child_samples']),\n",
    "                    subsample = round(best['subsample'], 5),\n",
    "                    learning_rate = round(best['learning_rate'], 5),\n",
    "                     alpha = 10,\n",
    "                    colsample_bytree = 0.5\n",
    "                   )\n",
    "\n",
    "ngb.fit(X_train_over, y_train_over, eval_metric = 'auc')\n",
    "\n",
    "Y_preds = ngb.predict(X_test)\n",
    "Y_pred_proba = ngb.predict_proba(X_test)[:, 1]"
   ]
  },
  {
   "cell_type": "code",
   "execution_count": null,
   "id": "37dad816",
   "metadata": {
    "ExecuteTime": {
     "end_time": "2022-11-22T16:34:40.229249Z",
     "start_time": "2022-11-22T16:34:40.214290Z"
    }
   },
   "outputs": [],
   "source": [
    "get_clf_eval(y_test, Y_preds, Y_pred_proba)\n",
    "print('Macro f1 socre : ', f1_score(y_test, Y_preds, average='macro'))\n",
    "print('Micro f1 socre : ', f1_score(y_test, Y_preds, average='micro'))"
   ]
  },
  {
   "cell_type": "markdown",
   "id": "9f65aa28",
   "metadata": {},
   "source": [
    "## 원본데이터 & hyperOpt & NGBoost"
   ]
  },
  {
   "cell_type": "code",
   "execution_count": null,
   "id": "3e06eb5a",
   "metadata": {
    "ExecuteTime": {
     "end_time": "2022-11-23T05:02:41.342588Z",
     "start_time": "2022-11-23T05:02:41.325633Z"
    }
   },
   "outputs": [],
   "source": [
    "help(NGBClassifier)"
   ]
  },
  {
   "cell_type": "code",
   "execution_count": null,
   "id": "f200bd3f",
   "metadata": {
    "ExecuteTime": {
     "end_time": "2022-11-23T02:50:01.570261Z",
     "start_time": "2022-11-23T02:50:01.565262Z"
    }
   },
   "outputs": [],
   "source": [
    "from ngboost import NGBClassifier\n",
    "from ngboost.distns import k_categorical\n",
    "from sklearn.tree import DecisionTreeRegressor\n",
    "from hyperopt import hp\n",
    "from sklearn.metrics import log_loss\n",
    "from sklearn.model_selection import KFold\n",
    "from sklearn.metrics import roc_auc_score\n",
    "from sklearn.model_selection import StratifiedKFold"
   ]
  },
  {
   "cell_type": "code",
   "execution_count": null,
   "id": "ac938f86",
   "metadata": {
    "ExecuteTime": {
     "end_time": "2022-11-23T05:02:09.055562Z",
     "start_time": "2022-11-23T05:01:08.853821Z"
    }
   },
   "outputs": [],
   "source": [
    "ngb = NGBClassifier(random_state = 42, n_estimators = 1000, verbose = 0, learning_rate = 0.03)\n",
    "ngb.fit(X_train, y_train, early_stopping_rounds = 300)\n",
    "\n",
    "\n",
    "Y_preds = ngb.predict(X_test)\n",
    "Y_pred_proba = ngb.predict_proba(X_test)[:, 1]"
   ]
  },
  {
   "cell_type": "code",
   "execution_count": null,
   "id": "16a89de1",
   "metadata": {
    "ExecuteTime": {
     "end_time": "2022-11-23T05:02:17.562346Z",
     "start_time": "2022-11-23T05:02:17.545624Z"
    }
   },
   "outputs": [],
   "source": [
    "get_clf_eval(y_test, Y_preds, Y_pred_proba)\n",
    "print('Macro f1 socre : ', f1_score(y_test, Y_preds, average='macro'))"
   ]
  },
  {
   "cell_type": "code",
   "execution_count": null,
   "id": "d8184fb3",
   "metadata": {},
   "outputs": [],
   "source": []
  },
  {
   "cell_type": "markdown",
   "id": "27beec57",
   "metadata": {},
   "source": [
    "## 오버샘플링 & hyperOpt & NGBoost"
   ]
  },
  {
   "cell_type": "code",
   "execution_count": null,
   "id": "5934b264",
   "metadata": {
    "ExecuteTime": {
     "end_time": "2022-11-23T05:07:39.680362Z",
     "start_time": "2022-11-23T05:05:15.617714Z"
    }
   },
   "outputs": [],
   "source": [
    "ngb = NGBClassifier(random_state = 42, n_estimators = 1000, verbose = 0, learning_rate = 0.03)\n",
    "ngb.fit(X_train_over, y_train_over, early_stopping_rounds = 300)\n",
    "\n",
    "\n",
    "Y_preds = ngb.predict(X_test)\n",
    "Y_pred_proba = ngb.predict_proba(X_test)[:, 1]"
   ]
  },
  {
   "cell_type": "code",
   "execution_count": null,
   "id": "7bb31c59",
   "metadata": {
    "ExecuteTime": {
     "end_time": "2022-11-23T05:07:39.935229Z",
     "start_time": "2022-11-23T05:07:39.907389Z"
    }
   },
   "outputs": [],
   "source": [
    "get_clf_eval(y_test, Y_preds, Y_pred_proba)\n",
    "print('Macro f1 socre : ', f1_score(y_test, Y_preds, average='macro'))"
   ]
  },
  {
   "cell_type": "markdown",
   "id": "38ff817f",
   "metadata": {},
   "source": [
    "# 스태킹 앙상블"
   ]
  },
  {
   "cell_type": "markdown",
   "id": "21f85df5",
   "metadata": {},
   "source": [
    "## 원본데이터"
   ]
  },
  {
   "cell_type": "code",
   "execution_count": null,
   "id": "d1ff08b1",
   "metadata": {
    "ExecuteTime": {
     "end_time": "2022-11-23T05:46:35.548336Z",
     "start_time": "2022-11-23T05:45:33.423985Z"
    }
   },
   "outputs": [],
   "source": [
    "import numpy as np\n",
    "from sklearn.neighbors import KNeighborsClassifier\n",
    "from sklearn.ensemble import RandomForestClassifier\n",
    "from sklearn.ensemble import AdaBoostClassifier\n",
    "from sklearn.tree import DecisionTreeClassifier\n",
    "from sklearn.linear_model import LogisticRegression\n",
    "from sklearn.model_selection import train_test_split\n",
    "from sklearn.metrics import accuracy_score\n",
    "\n",
    "\n",
    "# 개별 ML 모델을 위한 Classifier 생성.\n",
    "xgb = XGBClassifier(learning_rate =  0.07, max_depth = 157, subsample = 0.73)\n",
    "                   \n",
    "\n",
    "\n",
    "lgbm = LGBMClassifier(learning_rate = 0.038, max_depth = 132, \n",
    "                      min_child_samples = 97, num_leaves = 36, subsample = 0.94)\n",
    "\n",
    "ngb = NGBClassifier(random_state = 42, n_estimators = 300, verbose = 0, learning_rate = 0.03)\n",
    "\n",
    "\n",
    "\n",
    "# 최종 Stacking 모델을 위한 Classifier생성. \n",
    "lr_final = XGBClassifier(learning_rate =  0.07, max_depth = 157, subsample = 0.73)\n",
    "\n",
    "# 개별 모델들을 학습. \n",
    "xgb.fit(X_train, y_train)\n",
    "lgbm.fit(X_train , y_train)\n",
    "ngb.fit(X_train , y_train)\n",
    "\n",
    "# 학습된 개별 모델들이 각자 반환하는 예측 데이터 셋을 생성하고 개별 모델의 정확도 측정. \n",
    "xgb_pred = xgb.predict(X_test)\n",
    "lgbm_pred = lgbm.predict(X_test)\n",
    "ngb_pred = ngb.predict(X_test)\n",
    "\n",
    "print('XGB 정확도: {0:.4f}'.format(accuracy_score(y_test, xgb_pred)))\n",
    "print('LGBM 정확도: {0:.4f}'.format(accuracy_score(y_test, lgbm_pred)))\n",
    "print('NGBoost 정확도: {0:.4f}'.format(accuracy_score(y_test, ngb_pred)))\n",
    "print('XGB macro f1 score : ', f1_score(y_test, xgb_pred, average = 'macro'))\n",
    "print('LGBM  macro f1 score : ', f1_score(y_test, lgbm_pred, average = 'macro'))\n",
    "print('NGBoost macro f1 score : ', f1_score(y_test, ngb_pred, average = 'macro'))"
   ]
  },
  {
   "cell_type": "code",
   "execution_count": null,
   "id": "b72b35ab",
   "metadata": {
    "ExecuteTime": {
     "end_time": "2022-11-23T05:46:35.861490Z",
     "start_time": "2022-11-23T05:46:35.801651Z"
    }
   },
   "outputs": [],
   "source": [
    "pred = np.array([xgb_pred, lgbm_pred, ngb_pred])\n",
    "\n",
    "# transpose를 이용해 행과 열의 위치 교환. 컬럼 레벨로 각 알고리즘의 예측 결과를 피처로 만듦. \n",
    "pred = np.transpose(pred)\n",
    "\n",
    "lr_final.fit(pred, y_test)\n",
    "final = lr_final.predict(pred)\n",
    "print('최종 메타 모델의 예측 정확도: {0:.4f}'.format(accuracy_score(y_test , final)))"
   ]
  },
  {
   "cell_type": "code",
   "execution_count": null,
   "id": "5d89de08",
   "metadata": {
    "ExecuteTime": {
     "end_time": "2022-11-23T05:59:21.324963Z",
     "start_time": "2022-11-23T05:49:38.646433Z"
    }
   },
   "outputs": [],
   "source": [
    "from sklearn.model_selection import KFold\n",
    "from sklearn.metrics import mean_absolute_error\n",
    "import re\n",
    "\n",
    "# 개별 기반 모델에서 최종 메타 모델이 사용할 학습 및 테스트용 데이터를 생성하기 위한 함수. \n",
    "def get_stacking_base_datasets(model, X_train_n, y_train_n, X_test_n, n_folds ):\n",
    "    # 지정된 n_folds값으로 KFold 생성.\n",
    "    skf = StratifiedKFold(n_splits=n_folds, shuffle=True, random_state = 2022)\n",
    "    #추후에 메타 모델이 사용할 학습 데이터 반환을 위한 넘파이 배열 초기화 \n",
    "    train_fold_pred = np.zeros((X_train_n.shape[0] ,1 ))\n",
    "    test_pred = np.zeros((X_test_n.shape[0],n_folds))\n",
    "\n",
    "    for folder_counter , (train_index, valid_index) in enumerate(skf.split(X_train_n, y_train_n)):\n",
    "        #입력된 학습 데이터에서 기반 모델이 학습/예측할 폴드 데이터 셋 추출 \n",
    "        print('\\t 폴드세트 :', folder_counter, ' 시작 ')\n",
    "        X_tr = X_train_n[train_index] \n",
    "        y_tr = y_train_n[train_index] \n",
    "        X_te = X_train_n[valid_index]  \n",
    "\n",
    "        #폴드 세트 내부에서 다시 만들어진 학습 데이터로 기반 모델의 학습 수행.\n",
    "        model.fit(X_tr , y_tr)       \n",
    "        #폴드 세트 내부에서 다시 만들어진 검증 데이터로 기반 모델 예측 후 데이터 저장.\n",
    "        train_fold_pred[valid_index, :] = model.predict(X_te).reshape(-1,1)\n",
    "        #입력된 원본 테스트 데이터를 폴드 세트내 학습된 기반 모델에서 예측 후 데이터 저장. \n",
    "        test_pred[:, folder_counter] = model.predict(X_test_n)\n",
    "   \n",
    "    # 폴드 세트 내에서 원본 테스트 데이터를 예측한 데이터를 평균하여 테스트 데이터로 생성 \n",
    "    test_pred_mean = np.mean(test_pred, axis=1).reshape(-1,1)    \n",
    "\n",
    "    #train_fold_pred는 최종 메타 모델이 사용하는 학습 데이터, test_pred_mean은 테스트 데이터\n",
    "    return train_fold_pred , test_pred_mean\n",
    "\n",
    "X_train_n = X_train.reset_index(drop=True).values\n",
    "X_test_n = X_test.reset_index(drop=True).values\n",
    "y_train_n = y_train.reset_index(drop=True).values\n",
    "\n",
    "xgb_train, xgb_test = get_stacking_base_datasets(xgb, X_train_n, y_train_n, X_test_n, 7)\n",
    "lgbm_train, lgbm_test = get_stacking_base_datasets(lgbm, X_train_n, y_train_n, X_test_n, 7)\n",
    "ngb_train, ngb_test = get_stacking_base_datasets(ngb, X_train_n, y_train_n, X_test_n,  7)   \n",
    "\n",
    "Stack_final_X_train = np.concatenate((xgb_train, lgbm_train, ngb_train), axis=1)\n",
    "Stack_final_X_test = np.concatenate((xgb_test, lgbm_test, ngb_test), axis=1)\n",
    "print('원본 학습 피처 데이터 Shape:',X_train.shape, '원본 테스트 피처 Shape:',X_test.shape)\n",
    "print('스태킹 학습 피처 데이터 Shape:', Stack_final_X_train.shape,\n",
    "      '스태킹 테스트 피처 데이터 Shape:',Stack_final_X_test.shape)"
   ]
  },
  {
   "cell_type": "code",
   "execution_count": null,
   "id": "5ffbb59e",
   "metadata": {
    "ExecuteTime": {
     "end_time": "2022-11-23T06:00:32.476471Z",
     "start_time": "2022-11-23T06:00:32.296952Z"
    }
   },
   "outputs": [],
   "source": [
    "lr_final.fit(Stack_final_X_train, y_train)\n",
    "stack_final = lr_final.predict(Stack_final_X_test)\n",
    "\n",
    "print('최종 메타 모델의 예측 정확도: {0:.4f}'.format(accuracy_score(y_test, stack_final)))\n",
    "print('최종 메타 모델의 macro f1 score :', f1_score(y_test, stack_final, average = 'macro'))"
   ]
  },
  {
   "cell_type": "code",
   "execution_count": null,
   "id": "c31a321b",
   "metadata": {
    "ExecuteTime": {
     "end_time": "2022-11-23T06:02:25.227824Z",
     "start_time": "2022-11-23T06:02:25.197907Z"
    }
   },
   "outputs": [],
   "source": [
    "stack_final_proba = lr_final.predict_proba(Stack_final_X_test)[:, 1]\n",
    "get_clf_eval(y_test, stack_final, stack_final_proba)"
   ]
  },
  {
   "cell_type": "markdown",
   "id": "fa035b0c",
   "metadata": {},
   "source": [
    "## 오버샘플링"
   ]
  },
  {
   "cell_type": "code",
   "execution_count": null,
   "id": "de345390",
   "metadata": {
    "ExecuteTime": {
     "end_time": "2022-11-23T06:06:26.784564Z",
     "start_time": "2022-11-23T06:05:41.787018Z"
    }
   },
   "outputs": [],
   "source": [
    "# 개별 ML 모델을 위한 Classifier 생성.\n",
    "xgb = XGBClassifier(learning_rate =  0.07, max_depth = 157, subsample = 0.73)\n",
    "                   \n",
    "\n",
    "\n",
    "lgbm = LGBMClassifier(learning_rate = 0.038, max_depth = 132, \n",
    "                      min_child_samples = 97, num_leaves = 36, subsample = 0.94)\n",
    "\n",
    "ngb = NGBClassifier(random_state = 42, n_estimators = 300, verbose = 0, learning_rate = 0.03)\n",
    "\n",
    "\n",
    "\n",
    "# 최종 Stacking 모델을 위한 Classifier생성. \n",
    "xgb_final = XGBClassifier(learning_rate =  0.07, max_depth = 157, subsample = 0.73)\n",
    "\n",
    "# 개별 모델들을 학습. \n",
    "xgb.fit(X_train_over, y_train_over)\n",
    "lgbm.fit(X_train_over , y_train_over)\n",
    "ngb.fit(X_train_over , y_train_over)\n",
    "\n",
    "# 학습된 개별 모델들이 각자 반환하는 예측 데이터 셋을 생성하고 개별 모델의 정확도 측정. \n",
    "xgb_pred = xgb.predict(X_test)\n",
    "lgbm_pred = lgbm.predict(X_test)\n",
    "ngb_pred = ngb.predict(X_test)\n",
    "\n",
    "print('XGB 정확도: {0:.4f}'.format(accuracy_score(y_test, xgb_pred)))\n",
    "print('LGBM 정확도: {0:.4f}'.format(accuracy_score(y_test, lgbm_pred)))\n",
    "print('NGBoost 정확도: {0:.4f}'.format(accuracy_score(y_test, ngb_pred)))\n",
    "print('XGB macro f1 score : ', f1_score(y_test, xgb_pred, average = 'macro'))\n",
    "print('LGBM  macro f1 score : ', f1_score(y_test, lgbm_pred, average = 'macro'))\n",
    "print('NGBoost macro f1 score : ', f1_score(y_test, ngb_pred, average = 'macro'))"
   ]
  },
  {
   "cell_type": "code",
   "execution_count": null,
   "id": "f70db4d5",
   "metadata": {
    "ExecuteTime": {
     "end_time": "2022-11-23T06:07:11.377060Z",
     "start_time": "2022-11-23T06:07:11.283210Z"
    }
   },
   "outputs": [],
   "source": [
    "pred = np.array([xgb_pred, lgbm_pred, ngb_pred])\n",
    "\n",
    "# transpose를 이용해 행과 열의 위치 교환. 컬럼 레벨로 각 알고리즘의 예측 결과를 피처로 만듦. \n",
    "pred = np.transpose(pred)\n",
    "\n",
    "xgb_final.fit(pred, y_test)\n",
    "final = xgb_final.predict(pred)\n",
    "print('최종 메타 모델의 예측 정확도: {0:.4f}'.format(accuracy_score(y_test , final)))"
   ]
  },
  {
   "cell_type": "code",
   "execution_count": null,
   "id": "6818b4a8",
   "metadata": {
    "ExecuteTime": {
     "end_time": "2022-11-23T06:14:23.754538Z",
     "start_time": "2022-11-23T06:08:05.672800Z"
    }
   },
   "outputs": [],
   "source": [
    "# 개별 기반 모델에서 최종 메타 모델이 사용할 학습 및 테스트용 데이터를 생성하기 위한 함수. \n",
    "def get_stacking_base_datasets(model, X_train_n, y_train_n, X_test_n, n_folds ):\n",
    "    # 지정된 n_folds값으로 KFold 생성.\n",
    "    skf = StratifiedKFold(n_splits=n_folds, shuffle=True, random_state = 2022)\n",
    "    #추후에 메타 모델이 사용할 학습 데이터 반환을 위한 넘파이 배열 초기화 \n",
    "    train_fold_pred = np.zeros((X_train_n.shape[0] ,1 ))\n",
    "    test_pred = np.zeros((X_test_n.shape[0],n_folds))\n",
    "\n",
    "    for folder_counter , (train_index, valid_index) in enumerate(skf.split(X_train_n, y_train_n)):\n",
    "        #입력된 학습 데이터에서 기반 모델이 학습/예측할 폴드 데이터 셋 추출 \n",
    "        print('\\t 폴드세트 :', folder_counter, ' 시작 ')\n",
    "        X_tr = X_train_n[train_index] \n",
    "        y_tr = y_train_n[train_index] \n",
    "        X_te = X_train_n[valid_index]  \n",
    "\n",
    "        #폴드 세트 내부에서 다시 만들어진 학습 데이터로 기반 모델의 학습 수행.\n",
    "        model.fit(X_tr , y_tr)       \n",
    "        #폴드 세트 내부에서 다시 만들어진 검증 데이터로 기반 모델 예측 후 데이터 저장.\n",
    "        train_fold_pred[valid_index, :] = model.predict(X_te).reshape(-1,1)\n",
    "        #입력된 원본 테스트 데이터를 폴드 세트내 학습된 기반 모델에서 예측 후 데이터 저장. \n",
    "        test_pred[:, folder_counter] = model.predict(X_test_n)\n",
    "   \n",
    "    # 폴드 세트 내에서 원본 테스트 데이터를 예측한 데이터를 평균하여 테스트 데이터로 생성 \n",
    "    test_pred_mean = np.mean(test_pred, axis=1).reshape(-1,1)    \n",
    "\n",
    "    #train_fold_pred는 최종 메타 모델이 사용하는 학습 데이터, test_pred_mean은 테스트 데이터\n",
    "    return train_fold_pred , test_pred_mean\n",
    "\n",
    "X_train_n = X_train_over.reset_index(drop=True).values\n",
    "X_test_n = X_test.reset_index(drop=True).values\n",
    "y_train_n = y_train_over.reset_index(drop=True).values\n",
    "\n",
    "xgb_train, xgb_test = get_stacking_base_datasets(xgb, X_train_n, y_train_n, X_test_n, 7)\n",
    "lgbm_train, lgbm_test = get_stacking_base_datasets(lgbm, X_train_n, y_train_n, X_test_n, 7)\n",
    "ngb_train, ngb_test = get_stacking_base_datasets(ngb, X_train_n, y_train_n, X_test_n,  7)   \n",
    "\n",
    "Stack_final_X_train = np.concatenate((xgb_train, lgbm_train, ngb_train), axis=1)\n",
    "Stack_final_X_test = np.concatenate((xgb_test, lgbm_test, ngb_test), axis=1)\n",
    "print('원본 학습 피처 데이터 Shape:',X_train.shape, '원본 테스트 피처 Shape:',X_test.shape)\n",
    "print('스태킹 학습 피처 데이터 Shape:', Stack_final_X_train.shape,\n",
    "      '스태킹 테스트 피처 데이터 Shape:',Stack_final_X_test.shape)"
   ]
  },
  {
   "cell_type": "code",
   "execution_count": null,
   "id": "1e179388",
   "metadata": {
    "ExecuteTime": {
     "end_time": "2022-11-23T06:07:57.730618Z",
     "start_time": "2022-11-23T06:07:57.555772Z"
    }
   },
   "outputs": [],
   "source": [
    "xgb_final.fit(Stack_final_X_train, y_train)\n",
    "stack_final = xgb_final.predict(Stack_final_X_test)\n",
    "\n",
    "print('최종 메타 모델의 예측 정확도: {0:.4f}'.format(accuracy_score(y_test, stack_final)))\n",
    "print('최종 메타 모델의 macro f1 score :', f1_score(y_test, stack_final, average = 'macro'))"
   ]
  },
  {
   "cell_type": "code",
   "execution_count": null,
   "id": "4886100c",
   "metadata": {
    "ExecuteTime": {
     "end_time": "2022-11-23T06:07:59.726194Z",
     "start_time": "2022-11-23T06:07:59.709241Z"
    }
   },
   "outputs": [],
   "source": [
    "stack_final_proba = xgb_final.predict_proba(Stack_final_X_test)[:, 1]\n",
    "get_clf_eval(y_test, stack_final, stack_final_proba)"
   ]
  },
  {
   "cell_type": "code",
   "execution_count": null,
   "id": "f6074aa6",
   "metadata": {
    "ExecuteTime": {
     "end_time": "2022-11-23T08:33:00.471554Z",
     "start_time": "2022-11-23T08:32:59.760280Z"
    }
   },
   "outputs": [],
   "source": [
    "#feature 중요도도 그려볼 수 있다. \n",
    "from xgboost import plot_importance\n",
    "import matplotlib.pyplot as plt\n",
    "%matplotlib inline\n",
    "\n",
    "fig, ax = plt.subplots(figsize=(12, 15))\n",
    "\n",
    "# 사이킷런 래퍼 클래스를 입력해도 무방. \n",
    "plot_importance(xgb, ax=ax)\n",
    "plt.rc('font', size=20)        # 기본 폰트 크기\n",
    "plt.rc('axes', labelsize=20)   # x,y축 label 폰트 크기\n",
    "plt.rc('xtick', labelsize=20)  # x축 눈금 폰트 크기 \n",
    "plt.rc('ytick', labelsize=20)  # y축 눈금 폰트 크기\n",
    "plt.rc('legend', fontsize = 30)\n",
    "plt.show()"
   ]
  }
 ],
 "metadata": {
  "kernelspec": {
   "display_name": "Python 3 (ipykernel)",
   "language": "python",
   "name": "python3"
  },
  "language_info": {
   "codemirror_mode": {
    "name": "ipython",
    "version": 3
   },
   "file_extension": ".py",
   "mimetype": "text/x-python",
   "name": "python",
   "nbconvert_exporter": "python",
   "pygments_lexer": "ipython3",
   "version": "3.9.7"
  },
  "toc": {
   "base_numbering": 1,
   "nav_menu": {},
   "number_sections": true,
   "sideBar": true,
   "skip_h1_title": false,
   "title_cell": "Table of Contents",
   "title_sidebar": "Contents",
   "toc_cell": false,
   "toc_position": {
    "height": "789px",
    "left": "54px",
    "top": "87px",
    "width": "384px"
   },
   "toc_section_display": true,
   "toc_window_display": true
  },
  "varInspector": {
   "cols": {
    "lenName": 16,
    "lenType": 16,
    "lenVar": 40
   },
   "kernels_config": {
    "python": {
     "delete_cmd_postfix": "",
     "delete_cmd_prefix": "del ",
     "library": "var_list.py",
     "varRefreshCmd": "print(var_dic_list())"
    },
    "r": {
     "delete_cmd_postfix": ") ",
     "delete_cmd_prefix": "rm(",
     "library": "var_list.r",
     "varRefreshCmd": "cat(var_dic_list()) "
    }
   },
   "types_to_exclude": [
    "module",
    "function",
    "builtin_function_or_method",
    "instance",
    "_Feature"
   ],
   "window_display": false
  }
 },
 "nbformat": 4,
 "nbformat_minor": 5
}
