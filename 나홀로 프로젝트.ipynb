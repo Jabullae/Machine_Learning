{
 "cells": [
  {
   "cell_type": "code",
   "execution_count": 1,
   "id": "a7f48789",
   "metadata": {
    "ExecuteTime": {
     "end_time": "2022-11-05T14:20:21.777484Z",
     "start_time": "2022-11-05T14:20:20.348332Z"
    }
   },
   "outputs": [],
   "source": [
    "import numpy as np\n",
    "import pandas as pd\n",
    "import matplotlib.pyplot as plt\n",
    "import matplotlib as mpl\n",
    "from IPython.display import display\n",
    "\n",
    "#!pip install mglearn\n",
    "import mglearn\n",
    "\n",
    "# 경고메시지 무시\n",
    "import warnings\n",
    "warnings.filterwarnings(action = 'ignore') # action = 'default' 경고메시지 표시\n",
    "\n",
    "## ggplot 스타일\n",
    "mpl.style.use('ggplot')\n",
    "\n",
    "# matplotlib 한글화\n",
    "mpl.rcParams['font.family'] = 'D2coding'\n",
    "\n",
    "# Scaling\n",
    "from sklearn.preprocessing import RobustScaler\n",
    "\n",
    "# Train Test Split\n",
    "from sklearn.model_selection import train_test_split\n",
    "\n",
    "# Models\n",
    "from sklearn.svm import SVC\n",
    "from sklearn.linear_model import LogisticRegression\n",
    "from sklearn.tree import DecisionTreeClassifier\n",
    "\n",
    "# Metrics\n",
    "from sklearn.metrics import accuracy_score, classification_report, roc_curve, roc_auc_score\n",
    "\n",
    "# Cross Validation\n",
    "from sklearn.model_selection import cross_val_score\n",
    "from sklearn.model_selection import GridSearchCV\n"
   ]
  },
  {
   "cell_type": "markdown",
   "id": "d0f51a67",
   "metadata": {},
   "source": [
    "# heart 데이터 셋 가져오기\n",
    "- age: 나이\n",
    "- sex: 성별 (여자 = 0, 남자 = 1)\n",
    "- cp: 가슴 통증(chest pain) 종류\n",
    "    - 0 : asymptomatic 무증상\n",
    "    - 1 : atypical angina 비전형적 협심증\n",
    "    - 2 : non-anginal pain 비협심증성 흉통\n",
    "    - 3 : typical angina 전형적 협심증\n",
    "- trestbps: (resting blood pressure) 휴식 중 혈압(mmHg)\n",
    "- chol: (serum cholestoral) 혈중 콜레스테롤 (mg/dl)\n",
    "- fbs: (fasting blood sugar) 공복 중 혈당 (120 mg/dl 이하일 시 = 0, 초과일 시 = 1)\n",
    "- restecg: (resting electrocardiographic) 환자 안정시 심전도 결과\n",
    "    - 0: 좌심실 비대증\n",
    "    - 1: 정상\n",
    "    - 2: 비정상 ST-T 파동\n",
    "- thalach: (maximum heart rate achieved) 최대 심박수\n",
    "- exang: (exercise induced angina) 활동으로 인한 협심증 여부 (없음 = 0, 있음 = 1)\n",
    "- oldpeak: (ST depression induced by exercise relative to rest) 운동으로 인한 ST 하강\n",
    "- slp: (the slope of the peak exercise ST segment) 최고 ST 분절 기울기\n",
    "    - 0: downsloping 하강\n",
    "    - 1: flat 평탄\n",
    "    - 2: upsloping 상승\n",
    "- ca: number of major vessels colored by flouroscopy 형광 투시로 확인된 주요 혈관 수 (0~3 개)\n",
    "    - Null값은 숫자 4로 인코딩됨\n",
    "- thal: thalassemia 지중해빈혈 여부(심장 결손)\n",
    "    - 0 = Null\n",
    "    - 1 = normal 정상\n",
    "    - 2 = fixed defect 고정 결함\n",
    "    - 3 = reversable defect 가역 결함\n",
    "- target: 심장 질환 진단 여부\n",
    "    - 0: < 50% diameter narrowing\n",
    "    - 1: > 50% diameter narrowing"
   ]
  },
  {
   "cell_type": "code",
   "execution_count": 2,
   "id": "e7233fa5",
   "metadata": {
    "ExecuteTime": {
     "end_time": "2022-11-05T14:20:21.809374Z",
     "start_time": "2022-11-05T14:20:21.778457Z"
    },
    "scrolled": true
   },
   "outputs": [
    {
     "data": {
      "text/html": [
       "<div>\n",
       "<style scoped>\n",
       "    .dataframe tbody tr th:only-of-type {\n",
       "        vertical-align: middle;\n",
       "    }\n",
       "\n",
       "    .dataframe tbody tr th {\n",
       "        vertical-align: top;\n",
       "    }\n",
       "\n",
       "    .dataframe thead th {\n",
       "        text-align: right;\n",
       "    }\n",
       "</style>\n",
       "<table border=\"1\" class=\"dataframe\">\n",
       "  <thead>\n",
       "    <tr style=\"text-align: right;\">\n",
       "      <th></th>\n",
       "      <th>age</th>\n",
       "      <th>sex</th>\n",
       "      <th>cp</th>\n",
       "      <th>trtbps</th>\n",
       "      <th>chol</th>\n",
       "      <th>fbs</th>\n",
       "      <th>restecg</th>\n",
       "      <th>thalachh</th>\n",
       "      <th>exng</th>\n",
       "      <th>oldpeak</th>\n",
       "      <th>slp</th>\n",
       "      <th>caa</th>\n",
       "      <th>thall</th>\n",
       "      <th>output</th>\n",
       "    </tr>\n",
       "  </thead>\n",
       "  <tbody>\n",
       "    <tr>\n",
       "      <th>0</th>\n",
       "      <td>63</td>\n",
       "      <td>1</td>\n",
       "      <td>3</td>\n",
       "      <td>145</td>\n",
       "      <td>233</td>\n",
       "      <td>1</td>\n",
       "      <td>0</td>\n",
       "      <td>150</td>\n",
       "      <td>0</td>\n",
       "      <td>2.3</td>\n",
       "      <td>0</td>\n",
       "      <td>0</td>\n",
       "      <td>1</td>\n",
       "      <td>1</td>\n",
       "    </tr>\n",
       "    <tr>\n",
       "      <th>1</th>\n",
       "      <td>37</td>\n",
       "      <td>1</td>\n",
       "      <td>2</td>\n",
       "      <td>130</td>\n",
       "      <td>250</td>\n",
       "      <td>0</td>\n",
       "      <td>1</td>\n",
       "      <td>187</td>\n",
       "      <td>0</td>\n",
       "      <td>3.5</td>\n",
       "      <td>0</td>\n",
       "      <td>0</td>\n",
       "      <td>2</td>\n",
       "      <td>1</td>\n",
       "    </tr>\n",
       "    <tr>\n",
       "      <th>2</th>\n",
       "      <td>41</td>\n",
       "      <td>0</td>\n",
       "      <td>1</td>\n",
       "      <td>130</td>\n",
       "      <td>204</td>\n",
       "      <td>0</td>\n",
       "      <td>0</td>\n",
       "      <td>172</td>\n",
       "      <td>0</td>\n",
       "      <td>1.4</td>\n",
       "      <td>2</td>\n",
       "      <td>0</td>\n",
       "      <td>2</td>\n",
       "      <td>1</td>\n",
       "    </tr>\n",
       "    <tr>\n",
       "      <th>3</th>\n",
       "      <td>56</td>\n",
       "      <td>1</td>\n",
       "      <td>1</td>\n",
       "      <td>120</td>\n",
       "      <td>236</td>\n",
       "      <td>0</td>\n",
       "      <td>1</td>\n",
       "      <td>178</td>\n",
       "      <td>0</td>\n",
       "      <td>0.8</td>\n",
       "      <td>2</td>\n",
       "      <td>0</td>\n",
       "      <td>2</td>\n",
       "      <td>1</td>\n",
       "    </tr>\n",
       "    <tr>\n",
       "      <th>4</th>\n",
       "      <td>57</td>\n",
       "      <td>0</td>\n",
       "      <td>0</td>\n",
       "      <td>120</td>\n",
       "      <td>354</td>\n",
       "      <td>0</td>\n",
       "      <td>1</td>\n",
       "      <td>163</td>\n",
       "      <td>1</td>\n",
       "      <td>0.6</td>\n",
       "      <td>2</td>\n",
       "      <td>0</td>\n",
       "      <td>2</td>\n",
       "      <td>1</td>\n",
       "    </tr>\n",
       "    <tr>\n",
       "      <th>...</th>\n",
       "      <td>...</td>\n",
       "      <td>...</td>\n",
       "      <td>...</td>\n",
       "      <td>...</td>\n",
       "      <td>...</td>\n",
       "      <td>...</td>\n",
       "      <td>...</td>\n",
       "      <td>...</td>\n",
       "      <td>...</td>\n",
       "      <td>...</td>\n",
       "      <td>...</td>\n",
       "      <td>...</td>\n",
       "      <td>...</td>\n",
       "      <td>...</td>\n",
       "    </tr>\n",
       "    <tr>\n",
       "      <th>298</th>\n",
       "      <td>57</td>\n",
       "      <td>0</td>\n",
       "      <td>0</td>\n",
       "      <td>140</td>\n",
       "      <td>241</td>\n",
       "      <td>0</td>\n",
       "      <td>1</td>\n",
       "      <td>123</td>\n",
       "      <td>1</td>\n",
       "      <td>0.2</td>\n",
       "      <td>1</td>\n",
       "      <td>0</td>\n",
       "      <td>3</td>\n",
       "      <td>0</td>\n",
       "    </tr>\n",
       "    <tr>\n",
       "      <th>299</th>\n",
       "      <td>45</td>\n",
       "      <td>1</td>\n",
       "      <td>3</td>\n",
       "      <td>110</td>\n",
       "      <td>264</td>\n",
       "      <td>0</td>\n",
       "      <td>1</td>\n",
       "      <td>132</td>\n",
       "      <td>0</td>\n",
       "      <td>1.2</td>\n",
       "      <td>1</td>\n",
       "      <td>0</td>\n",
       "      <td>3</td>\n",
       "      <td>0</td>\n",
       "    </tr>\n",
       "    <tr>\n",
       "      <th>300</th>\n",
       "      <td>68</td>\n",
       "      <td>1</td>\n",
       "      <td>0</td>\n",
       "      <td>144</td>\n",
       "      <td>193</td>\n",
       "      <td>1</td>\n",
       "      <td>1</td>\n",
       "      <td>141</td>\n",
       "      <td>0</td>\n",
       "      <td>3.4</td>\n",
       "      <td>1</td>\n",
       "      <td>2</td>\n",
       "      <td>3</td>\n",
       "      <td>0</td>\n",
       "    </tr>\n",
       "    <tr>\n",
       "      <th>301</th>\n",
       "      <td>57</td>\n",
       "      <td>1</td>\n",
       "      <td>0</td>\n",
       "      <td>130</td>\n",
       "      <td>131</td>\n",
       "      <td>0</td>\n",
       "      <td>1</td>\n",
       "      <td>115</td>\n",
       "      <td>1</td>\n",
       "      <td>1.2</td>\n",
       "      <td>1</td>\n",
       "      <td>1</td>\n",
       "      <td>3</td>\n",
       "      <td>0</td>\n",
       "    </tr>\n",
       "    <tr>\n",
       "      <th>302</th>\n",
       "      <td>57</td>\n",
       "      <td>0</td>\n",
       "      <td>1</td>\n",
       "      <td>130</td>\n",
       "      <td>236</td>\n",
       "      <td>0</td>\n",
       "      <td>0</td>\n",
       "      <td>174</td>\n",
       "      <td>0</td>\n",
       "      <td>0.0</td>\n",
       "      <td>1</td>\n",
       "      <td>1</td>\n",
       "      <td>2</td>\n",
       "      <td>0</td>\n",
       "    </tr>\n",
       "  </tbody>\n",
       "</table>\n",
       "<p>303 rows × 14 columns</p>\n",
       "</div>"
      ],
      "text/plain": [
       "     age  sex  cp  trtbps  chol  fbs  restecg  thalachh  exng  oldpeak  slp  \\\n",
       "0     63    1   3     145   233    1        0       150     0      2.3    0   \n",
       "1     37    1   2     130   250    0        1       187     0      3.5    0   \n",
       "2     41    0   1     130   204    0        0       172     0      1.4    2   \n",
       "3     56    1   1     120   236    0        1       178     0      0.8    2   \n",
       "4     57    0   0     120   354    0        1       163     1      0.6    2   \n",
       "..   ...  ...  ..     ...   ...  ...      ...       ...   ...      ...  ...   \n",
       "298   57    0   0     140   241    0        1       123     1      0.2    1   \n",
       "299   45    1   3     110   264    0        1       132     0      1.2    1   \n",
       "300   68    1   0     144   193    1        1       141     0      3.4    1   \n",
       "301   57    1   0     130   131    0        1       115     1      1.2    1   \n",
       "302   57    0   1     130   236    0        0       174     0      0.0    1   \n",
       "\n",
       "     caa  thall  output  \n",
       "0      0      1       1  \n",
       "1      0      2       1  \n",
       "2      0      2       1  \n",
       "3      0      2       1  \n",
       "4      0      2       1  \n",
       "..   ...    ...     ...  \n",
       "298    0      3       0  \n",
       "299    0      3       0  \n",
       "300    2      3       0  \n",
       "301    1      3       0  \n",
       "302    1      2       0  \n",
       "\n",
       "[303 rows x 14 columns]"
      ]
     },
     "execution_count": 2,
     "metadata": {},
     "output_type": "execute_result"
    }
   ],
   "source": [
    "# heart 데이터 가져오기\n",
    "heart = pd.read_csv('C:/k_digital/source/data/heart.csv')\n",
    "heart"
   ]
  },
  {
   "cell_type": "code",
   "execution_count": 3,
   "id": "5161a829",
   "metadata": {
    "ExecuteTime": {
     "end_time": "2022-11-05T14:20:21.825333Z",
     "start_time": "2022-11-05T14:20:21.811369Z"
    }
   },
   "outputs": [
    {
     "data": {
      "text/plain": [
       "array([1, 2, 3, 0], dtype=int64)"
      ]
     },
     "execution_count": 3,
     "metadata": {},
     "output_type": "execute_result"
    }
   ],
   "source": [
    "heart['thall'].unique()"
   ]
  },
  {
   "cell_type": "code",
   "execution_count": 4,
   "id": "e616f769",
   "metadata": {
    "ExecuteTime": {
     "end_time": "2022-11-05T14:20:21.841291Z",
     "start_time": "2022-11-05T14:20:21.827328Z"
    }
   },
   "outputs": [
    {
     "name": "stdout",
     "output_type": "stream",
     "text": [
      "<class 'pandas.core.frame.DataFrame'>\n",
      "RangeIndex: 303 entries, 0 to 302\n",
      "Data columns (total 14 columns):\n",
      " #   Column    Non-Null Count  Dtype  \n",
      "---  ------    --------------  -----  \n",
      " 0   age       303 non-null    int64  \n",
      " 1   sex       303 non-null    int64  \n",
      " 2   cp        303 non-null    int64  \n",
      " 3   trtbps    303 non-null    int64  \n",
      " 4   chol      303 non-null    int64  \n",
      " 5   fbs       303 non-null    int64  \n",
      " 6   restecg   303 non-null    int64  \n",
      " 7   thalachh  303 non-null    int64  \n",
      " 8   exng      303 non-null    int64  \n",
      " 9   oldpeak   303 non-null    float64\n",
      " 10  slp       303 non-null    int64  \n",
      " 11  caa       303 non-null    int64  \n",
      " 12  thall     303 non-null    int64  \n",
      " 13  output    303 non-null    int64  \n",
      "dtypes: float64(1), int64(13)\n",
      "memory usage: 33.3 KB\n"
     ]
    }
   ],
   "source": [
    "heart.info()"
   ]
  },
  {
   "cell_type": "code",
   "execution_count": 5,
   "id": "66c1c545",
   "metadata": {
    "ExecuteTime": {
     "end_time": "2022-11-05T14:20:21.857246Z",
     "start_time": "2022-11-05T14:20:21.843284Z"
    }
   },
   "outputs": [],
   "source": [
    "# 카테고리형, 연속형, 타겟 컬럼으로 분리하기\n",
    "cat_cols = ['sex', 'exng' ,'caa','cp','fbs','restecg','slp','thall'] # 카테고리형 \n",
    "con_cols = [\"age\",\"trtbps\",\"chol\",\"thalachh\",\"oldpeak\"] # 연속형\n",
    "target_col = [\"output\"]"
   ]
  },
  {
   "cell_type": "code",
   "execution_count": 6,
   "id": "5ba93f9c",
   "metadata": {
    "ExecuteTime": {
     "end_time": "2022-11-05T14:20:21.873204Z",
     "start_time": "2022-11-05T14:20:21.858245Z"
    }
   },
   "outputs": [
    {
     "data": {
      "text/html": [
       "<div>\n",
       "<style scoped>\n",
       "    .dataframe tbody tr th:only-of-type {\n",
       "        vertical-align: middle;\n",
       "    }\n",
       "\n",
       "    .dataframe tbody tr th {\n",
       "        vertical-align: top;\n",
       "    }\n",
       "\n",
       "    .dataframe thead th {\n",
       "        text-align: right;\n",
       "    }\n",
       "</style>\n",
       "<table border=\"1\" class=\"dataframe\">\n",
       "  <thead>\n",
       "    <tr style=\"text-align: right;\">\n",
       "      <th></th>\n",
       "      <th>age</th>\n",
       "      <th>trtbps</th>\n",
       "      <th>chol</th>\n",
       "      <th>thalachh</th>\n",
       "      <th>oldpeak</th>\n",
       "      <th>output</th>\n",
       "    </tr>\n",
       "  </thead>\n",
       "  <tbody>\n",
       "    <tr>\n",
       "      <th>age</th>\n",
       "      <td>1.000000</td>\n",
       "      <td>0.279351</td>\n",
       "      <td>0.213678</td>\n",
       "      <td>-0.398522</td>\n",
       "      <td>0.210013</td>\n",
       "      <td>-0.225439</td>\n",
       "    </tr>\n",
       "    <tr>\n",
       "      <th>trtbps</th>\n",
       "      <td>0.279351</td>\n",
       "      <td>1.000000</td>\n",
       "      <td>0.123174</td>\n",
       "      <td>-0.046698</td>\n",
       "      <td>0.193216</td>\n",
       "      <td>-0.144931</td>\n",
       "    </tr>\n",
       "    <tr>\n",
       "      <th>chol</th>\n",
       "      <td>0.213678</td>\n",
       "      <td>0.123174</td>\n",
       "      <td>1.000000</td>\n",
       "      <td>-0.009940</td>\n",
       "      <td>0.053952</td>\n",
       "      <td>-0.085239</td>\n",
       "    </tr>\n",
       "    <tr>\n",
       "      <th>thalachh</th>\n",
       "      <td>-0.398522</td>\n",
       "      <td>-0.046698</td>\n",
       "      <td>-0.009940</td>\n",
       "      <td>1.000000</td>\n",
       "      <td>-0.344187</td>\n",
       "      <td>0.421741</td>\n",
       "    </tr>\n",
       "    <tr>\n",
       "      <th>oldpeak</th>\n",
       "      <td>0.210013</td>\n",
       "      <td>0.193216</td>\n",
       "      <td>0.053952</td>\n",
       "      <td>-0.344187</td>\n",
       "      <td>1.000000</td>\n",
       "      <td>-0.430696</td>\n",
       "    </tr>\n",
       "    <tr>\n",
       "      <th>output</th>\n",
       "      <td>-0.225439</td>\n",
       "      <td>-0.144931</td>\n",
       "      <td>-0.085239</td>\n",
       "      <td>0.421741</td>\n",
       "      <td>-0.430696</td>\n",
       "      <td>1.000000</td>\n",
       "    </tr>\n",
       "  </tbody>\n",
       "</table>\n",
       "</div>"
      ],
      "text/plain": [
       "               age    trtbps      chol  thalachh   oldpeak    output\n",
       "age       1.000000  0.279351  0.213678 -0.398522  0.210013 -0.225439\n",
       "trtbps    0.279351  1.000000  0.123174 -0.046698  0.193216 -0.144931\n",
       "chol      0.213678  0.123174  1.000000 -0.009940  0.053952 -0.085239\n",
       "thalachh -0.398522 -0.046698 -0.009940  1.000000 -0.344187  0.421741\n",
       "oldpeak   0.210013  0.193216  0.053952 -0.344187  1.000000 -0.430696\n",
       "output   -0.225439 -0.144931 -0.085239  0.421741 -0.430696  1.000000"
      ]
     },
     "execution_count": 6,
     "metadata": {},
     "output_type": "execute_result"
    }
   ],
   "source": [
    "# 연속형 데이터 간의 상관계수\n",
    "con_target = [\"age\",\"trtbps\",\"chol\",\"thalachh\",\"oldpeak\", \"output\"]\n",
    "heart_corr = heart[con_target].corr()\n",
    "heart_corr\n",
    "# thalachh(최대심박수)가 심장질환 유발에 영향을 미칠것으로 보임."
   ]
  },
  {
   "cell_type": "code",
   "execution_count": 7,
   "id": "bf788cb0",
   "metadata": {
    "ExecuteTime": {
     "end_time": "2022-11-05T14:20:21.889160Z",
     "start_time": "2022-11-05T14:20:21.874203Z"
    }
   },
   "outputs": [
    {
     "data": {
      "text/html": [
       "<div>\n",
       "<style scoped>\n",
       "    .dataframe tbody tr th:only-of-type {\n",
       "        vertical-align: middle;\n",
       "    }\n",
       "\n",
       "    .dataframe tbody tr th {\n",
       "        vertical-align: top;\n",
       "    }\n",
       "\n",
       "    .dataframe thead th {\n",
       "        text-align: right;\n",
       "    }\n",
       "</style>\n",
       "<table border=\"1\" class=\"dataframe\">\n",
       "  <thead>\n",
       "    <tr style=\"text-align: right;\">\n",
       "      <th></th>\n",
       "      <th>sex</th>\n",
       "      <th>exng</th>\n",
       "      <th>caa</th>\n",
       "      <th>cp</th>\n",
       "      <th>fbs</th>\n",
       "      <th>restecg</th>\n",
       "      <th>slp</th>\n",
       "      <th>thall</th>\n",
       "      <th>output</th>\n",
       "    </tr>\n",
       "  </thead>\n",
       "  <tbody>\n",
       "    <tr>\n",
       "      <th>sex</th>\n",
       "      <td>1.000000</td>\n",
       "      <td>0.141664</td>\n",
       "      <td>0.118261</td>\n",
       "      <td>-0.049353</td>\n",
       "      <td>0.045032</td>\n",
       "      <td>-0.058196</td>\n",
       "      <td>-0.030711</td>\n",
       "      <td>0.210041</td>\n",
       "      <td>-0.280937</td>\n",
       "    </tr>\n",
       "    <tr>\n",
       "      <th>exng</th>\n",
       "      <td>0.141664</td>\n",
       "      <td>1.000000</td>\n",
       "      <td>0.115739</td>\n",
       "      <td>-0.394280</td>\n",
       "      <td>0.025665</td>\n",
       "      <td>-0.070733</td>\n",
       "      <td>-0.257748</td>\n",
       "      <td>0.206754</td>\n",
       "      <td>-0.436757</td>\n",
       "    </tr>\n",
       "    <tr>\n",
       "      <th>caa</th>\n",
       "      <td>0.118261</td>\n",
       "      <td>0.115739</td>\n",
       "      <td>1.000000</td>\n",
       "      <td>-0.181053</td>\n",
       "      <td>0.137979</td>\n",
       "      <td>-0.072042</td>\n",
       "      <td>-0.080155</td>\n",
       "      <td>0.151832</td>\n",
       "      <td>-0.391724</td>\n",
       "    </tr>\n",
       "    <tr>\n",
       "      <th>cp</th>\n",
       "      <td>-0.049353</td>\n",
       "      <td>-0.394280</td>\n",
       "      <td>-0.181053</td>\n",
       "      <td>1.000000</td>\n",
       "      <td>0.094444</td>\n",
       "      <td>0.044421</td>\n",
       "      <td>0.119717</td>\n",
       "      <td>-0.161736</td>\n",
       "      <td>0.433798</td>\n",
       "    </tr>\n",
       "    <tr>\n",
       "      <th>fbs</th>\n",
       "      <td>0.045032</td>\n",
       "      <td>0.025665</td>\n",
       "      <td>0.137979</td>\n",
       "      <td>0.094444</td>\n",
       "      <td>1.000000</td>\n",
       "      <td>-0.084189</td>\n",
       "      <td>-0.059894</td>\n",
       "      <td>-0.032019</td>\n",
       "      <td>-0.028046</td>\n",
       "    </tr>\n",
       "    <tr>\n",
       "      <th>restecg</th>\n",
       "      <td>-0.058196</td>\n",
       "      <td>-0.070733</td>\n",
       "      <td>-0.072042</td>\n",
       "      <td>0.044421</td>\n",
       "      <td>-0.084189</td>\n",
       "      <td>1.000000</td>\n",
       "      <td>0.093045</td>\n",
       "      <td>-0.011981</td>\n",
       "      <td>0.137230</td>\n",
       "    </tr>\n",
       "    <tr>\n",
       "      <th>slp</th>\n",
       "      <td>-0.030711</td>\n",
       "      <td>-0.257748</td>\n",
       "      <td>-0.080155</td>\n",
       "      <td>0.119717</td>\n",
       "      <td>-0.059894</td>\n",
       "      <td>0.093045</td>\n",
       "      <td>1.000000</td>\n",
       "      <td>-0.104764</td>\n",
       "      <td>0.345877</td>\n",
       "    </tr>\n",
       "    <tr>\n",
       "      <th>thall</th>\n",
       "      <td>0.210041</td>\n",
       "      <td>0.206754</td>\n",
       "      <td>0.151832</td>\n",
       "      <td>-0.161736</td>\n",
       "      <td>-0.032019</td>\n",
       "      <td>-0.011981</td>\n",
       "      <td>-0.104764</td>\n",
       "      <td>1.000000</td>\n",
       "      <td>-0.344029</td>\n",
       "    </tr>\n",
       "    <tr>\n",
       "      <th>output</th>\n",
       "      <td>-0.280937</td>\n",
       "      <td>-0.436757</td>\n",
       "      <td>-0.391724</td>\n",
       "      <td>0.433798</td>\n",
       "      <td>-0.028046</td>\n",
       "      <td>0.137230</td>\n",
       "      <td>0.345877</td>\n",
       "      <td>-0.344029</td>\n",
       "      <td>1.000000</td>\n",
       "    </tr>\n",
       "  </tbody>\n",
       "</table>\n",
       "</div>"
      ],
      "text/plain": [
       "              sex      exng       caa        cp       fbs   restecg       slp  \\\n",
       "sex      1.000000  0.141664  0.118261 -0.049353  0.045032 -0.058196 -0.030711   \n",
       "exng     0.141664  1.000000  0.115739 -0.394280  0.025665 -0.070733 -0.257748   \n",
       "caa      0.118261  0.115739  1.000000 -0.181053  0.137979 -0.072042 -0.080155   \n",
       "cp      -0.049353 -0.394280 -0.181053  1.000000  0.094444  0.044421  0.119717   \n",
       "fbs      0.045032  0.025665  0.137979  0.094444  1.000000 -0.084189 -0.059894   \n",
       "restecg -0.058196 -0.070733 -0.072042  0.044421 -0.084189  1.000000  0.093045   \n",
       "slp     -0.030711 -0.257748 -0.080155  0.119717 -0.059894  0.093045  1.000000   \n",
       "thall    0.210041  0.206754  0.151832 -0.161736 -0.032019 -0.011981 -0.104764   \n",
       "output  -0.280937 -0.436757 -0.391724  0.433798 -0.028046  0.137230  0.345877   \n",
       "\n",
       "            thall    output  \n",
       "sex      0.210041 -0.280937  \n",
       "exng     0.206754 -0.436757  \n",
       "caa      0.151832 -0.391724  \n",
       "cp      -0.161736  0.433798  \n",
       "fbs     -0.032019 -0.028046  \n",
       "restecg -0.011981  0.137230  \n",
       "slp     -0.104764  0.345877  \n",
       "thall    1.000000 -0.344029  \n",
       "output  -0.344029  1.000000  "
      ]
     },
     "execution_count": 7,
     "metadata": {},
     "output_type": "execute_result"
    }
   ],
   "source": [
    "# 카테고리형 데이터 간의 상관계수\n",
    "cat_target = ['sex', 'exng' ,'caa','cp','fbs','restecg','slp','thall', 'output']\n",
    "heart_corr2 = heart[cat_target].corr().transpose()\n",
    "heart_corr2\n",
    "# cp(가슴통증)와 slp(최대 ST 분절 기울기)가 심장질환 유발에 영향을 미칠것으로 보임."
   ]
  },
  {
   "cell_type": "markdown",
   "id": "c9b7c1b1",
   "metadata": {},
   "source": [
    "## 데이터 전처리"
   ]
  },
  {
   "cell_type": "code",
   "execution_count": 8,
   "id": "63a264da",
   "metadata": {
    "ExecuteTime": {
     "end_time": "2022-11-05T14:20:21.921077Z",
     "start_time": "2022-11-05T14:20:21.890159Z"
    },
    "scrolled": false
   },
   "outputs": [
    {
     "data": {
      "text/html": [
       "<div>\n",
       "<style scoped>\n",
       "    .dataframe tbody tr th:only-of-type {\n",
       "        vertical-align: middle;\n",
       "    }\n",
       "\n",
       "    .dataframe tbody tr th {\n",
       "        vertical-align: top;\n",
       "    }\n",
       "\n",
       "    .dataframe thead th {\n",
       "        text-align: right;\n",
       "    }\n",
       "</style>\n",
       "<table border=\"1\" class=\"dataframe\">\n",
       "  <thead>\n",
       "    <tr style=\"text-align: right;\">\n",
       "      <th></th>\n",
       "      <th>age</th>\n",
       "      <th>trtbps</th>\n",
       "      <th>chol</th>\n",
       "      <th>thalachh</th>\n",
       "      <th>oldpeak</th>\n",
       "      <th>output</th>\n",
       "      <th>sex_1</th>\n",
       "      <th>exng_1</th>\n",
       "      <th>caa_1</th>\n",
       "      <th>caa_2</th>\n",
       "      <th>...</th>\n",
       "      <th>cp_2</th>\n",
       "      <th>cp_3</th>\n",
       "      <th>fbs_1</th>\n",
       "      <th>restecg_1</th>\n",
       "      <th>restecg_2</th>\n",
       "      <th>slp_1</th>\n",
       "      <th>slp_2</th>\n",
       "      <th>thall_1</th>\n",
       "      <th>thall_2</th>\n",
       "      <th>thall_3</th>\n",
       "    </tr>\n",
       "  </thead>\n",
       "  <tbody>\n",
       "    <tr>\n",
       "      <th>0</th>\n",
       "      <td>63</td>\n",
       "      <td>145</td>\n",
       "      <td>233</td>\n",
       "      <td>150</td>\n",
       "      <td>2.3</td>\n",
       "      <td>1</td>\n",
       "      <td>1</td>\n",
       "      <td>0</td>\n",
       "      <td>0</td>\n",
       "      <td>0</td>\n",
       "      <td>...</td>\n",
       "      <td>0</td>\n",
       "      <td>1</td>\n",
       "      <td>1</td>\n",
       "      <td>0</td>\n",
       "      <td>0</td>\n",
       "      <td>0</td>\n",
       "      <td>0</td>\n",
       "      <td>1</td>\n",
       "      <td>0</td>\n",
       "      <td>0</td>\n",
       "    </tr>\n",
       "    <tr>\n",
       "      <th>1</th>\n",
       "      <td>37</td>\n",
       "      <td>130</td>\n",
       "      <td>250</td>\n",
       "      <td>187</td>\n",
       "      <td>3.5</td>\n",
       "      <td>1</td>\n",
       "      <td>1</td>\n",
       "      <td>0</td>\n",
       "      <td>0</td>\n",
       "      <td>0</td>\n",
       "      <td>...</td>\n",
       "      <td>1</td>\n",
       "      <td>0</td>\n",
       "      <td>0</td>\n",
       "      <td>1</td>\n",
       "      <td>0</td>\n",
       "      <td>0</td>\n",
       "      <td>0</td>\n",
       "      <td>0</td>\n",
       "      <td>1</td>\n",
       "      <td>0</td>\n",
       "    </tr>\n",
       "    <tr>\n",
       "      <th>2</th>\n",
       "      <td>41</td>\n",
       "      <td>130</td>\n",
       "      <td>204</td>\n",
       "      <td>172</td>\n",
       "      <td>1.4</td>\n",
       "      <td>1</td>\n",
       "      <td>0</td>\n",
       "      <td>0</td>\n",
       "      <td>0</td>\n",
       "      <td>0</td>\n",
       "      <td>...</td>\n",
       "      <td>0</td>\n",
       "      <td>0</td>\n",
       "      <td>0</td>\n",
       "      <td>0</td>\n",
       "      <td>0</td>\n",
       "      <td>0</td>\n",
       "      <td>1</td>\n",
       "      <td>0</td>\n",
       "      <td>1</td>\n",
       "      <td>0</td>\n",
       "    </tr>\n",
       "    <tr>\n",
       "      <th>3</th>\n",
       "      <td>56</td>\n",
       "      <td>120</td>\n",
       "      <td>236</td>\n",
       "      <td>178</td>\n",
       "      <td>0.8</td>\n",
       "      <td>1</td>\n",
       "      <td>1</td>\n",
       "      <td>0</td>\n",
       "      <td>0</td>\n",
       "      <td>0</td>\n",
       "      <td>...</td>\n",
       "      <td>0</td>\n",
       "      <td>0</td>\n",
       "      <td>0</td>\n",
       "      <td>1</td>\n",
       "      <td>0</td>\n",
       "      <td>0</td>\n",
       "      <td>1</td>\n",
       "      <td>0</td>\n",
       "      <td>1</td>\n",
       "      <td>0</td>\n",
       "    </tr>\n",
       "    <tr>\n",
       "      <th>4</th>\n",
       "      <td>57</td>\n",
       "      <td>120</td>\n",
       "      <td>354</td>\n",
       "      <td>163</td>\n",
       "      <td>0.6</td>\n",
       "      <td>1</td>\n",
       "      <td>0</td>\n",
       "      <td>1</td>\n",
       "      <td>0</td>\n",
       "      <td>0</td>\n",
       "      <td>...</td>\n",
       "      <td>0</td>\n",
       "      <td>0</td>\n",
       "      <td>0</td>\n",
       "      <td>1</td>\n",
       "      <td>0</td>\n",
       "      <td>0</td>\n",
       "      <td>1</td>\n",
       "      <td>0</td>\n",
       "      <td>1</td>\n",
       "      <td>0</td>\n",
       "    </tr>\n",
       "  </tbody>\n",
       "</table>\n",
       "<p>5 rows × 23 columns</p>\n",
       "</div>"
      ],
      "text/plain": [
       "   age  trtbps  chol  thalachh  oldpeak  output  sex_1  exng_1  caa_1  caa_2  \\\n",
       "0   63     145   233       150      2.3       1      1       0      0      0   \n",
       "1   37     130   250       187      3.5       1      1       0      0      0   \n",
       "2   41     130   204       172      1.4       1      0       0      0      0   \n",
       "3   56     120   236       178      0.8       1      1       0      0      0   \n",
       "4   57     120   354       163      0.6       1      0       1      0      0   \n",
       "\n",
       "   ...  cp_2  cp_3  fbs_1  restecg_1  restecg_2  slp_1  slp_2  thall_1  \\\n",
       "0  ...     0     1      1          0          0      0      0        1   \n",
       "1  ...     1     0      0          1          0      0      0        0   \n",
       "2  ...     0     0      0          0          0      0      1        0   \n",
       "3  ...     0     0      0          1          0      0      1        0   \n",
       "4  ...     0     0      0          1          0      0      1        0   \n",
       "\n",
       "   thall_2  thall_3  \n",
       "0        0        0  \n",
       "1        1        0  \n",
       "2        1        0  \n",
       "3        1        0  \n",
       "4        1        0  \n",
       "\n",
       "[5 rows x 23 columns]"
      ]
     },
     "execution_count": 8,
     "metadata": {},
     "output_type": "execute_result"
    }
   ],
   "source": [
    "#전처리를 위해 get_dummies()사용 => one-hot encoding\n",
    "# heart데이터에서 더미데이터를 만들 컬럼은 범주형 데이터를 가지고 있는 컬럼\n",
    "# drop_first = True는 해당컬럼의 더미 열을 N-1개 생성. False면 N개 \n",
    "heart = pd.get_dummies(heart, columns=cat_cols, drop_first=True)\n",
    "heart.head()"
   ]
  },
  {
   "cell_type": "markdown",
   "id": "1e0320bb",
   "metadata": {
    "ExecuteTime": {
     "end_time": "2022-11-05T13:25:29.938297Z",
     "start_time": "2022-11-05T13:25:29.913190Z"
    }
   },
   "source": [
    "## 스케일링\n",
    "- MinMaxSclaer는 매우 다른 스케일의 범위를 0과 1사이로 변환\n",
    "\n",
    "- StandardScalar는 각 특성의 평균을 0, 분산을 1로 변경하여 모든 특성이 같은 크기를 가지게 함\n",
    "\n",
    "    - 이 방법은 특성의 최솟값과 최댓값 크기를 제한하지 않음\n",
    "\n",
    "- RobustScaler는 특성들이 같은 스케일을 갖게 되지만 평균대신 중앙값을 사용 ==> 극단값에 영향을 받지 않음\n",
    "\n",
    "- Nomalizer는 uclidian의 길이가 1이 되도록 데이터 포인트를 조정 ==> 각도가 많이 중요할 때 사용"
   ]
  },
  {
   "cell_type": "markdown",
   "id": "f4a3814e",
   "metadata": {},
   "source": [
    "- fit_transform()\n",
    "    - fit_transform()은 train dataset에서만 사용\n",
    "    - 우리가 만든 모델은 train data에 있는 mean과 variance를 학습\n",
    "    - 이렇게 학습된 Scaler()의 parameter는 test data를 scale하는데 사용\n",
    "    - 다시말해 train data로 학습된 Scaler()의 parameter를 통해 test data의 feature 값들이 스케일 \n",
    "- transform()\n",
    "- train data로부터 학습된 mean값과 variance값을 test data에 적용하기 위해 transform() 메서드를 사용"
   ]
  },
  {
   "cell_type": "code",
   "execution_count": 9,
   "id": "8d9eb82f",
   "metadata": {
    "ExecuteTime": {
     "end_time": "2022-11-05T14:20:21.952992Z",
     "start_time": "2022-11-05T14:20:21.924069Z"
    }
   },
   "outputs": [
    {
     "data": {
      "text/html": [
       "<div>\n",
       "<style scoped>\n",
       "    .dataframe tbody tr th:only-of-type {\n",
       "        vertical-align: middle;\n",
       "    }\n",
       "\n",
       "    .dataframe tbody tr th {\n",
       "        vertical-align: top;\n",
       "    }\n",
       "\n",
       "    .dataframe thead th {\n",
       "        text-align: right;\n",
       "    }\n",
       "</style>\n",
       "<table border=\"1\" class=\"dataframe\">\n",
       "  <thead>\n",
       "    <tr style=\"text-align: right;\">\n",
       "      <th></th>\n",
       "      <th>age</th>\n",
       "      <th>trtbps</th>\n",
       "      <th>chol</th>\n",
       "      <th>thalachh</th>\n",
       "      <th>oldpeak</th>\n",
       "      <th>sex_1</th>\n",
       "      <th>exng_1</th>\n",
       "      <th>caa_1</th>\n",
       "      <th>caa_2</th>\n",
       "      <th>caa_3</th>\n",
       "      <th>...</th>\n",
       "      <th>cp_2</th>\n",
       "      <th>cp_3</th>\n",
       "      <th>fbs_1</th>\n",
       "      <th>restecg_1</th>\n",
       "      <th>restecg_2</th>\n",
       "      <th>slp_1</th>\n",
       "      <th>slp_2</th>\n",
       "      <th>thall_1</th>\n",
       "      <th>thall_2</th>\n",
       "      <th>thall_3</th>\n",
       "    </tr>\n",
       "  </thead>\n",
       "  <tbody>\n",
       "    <tr>\n",
       "      <th>0</th>\n",
       "      <td>0.592593</td>\n",
       "      <td>0.75</td>\n",
       "      <td>-0.110236</td>\n",
       "      <td>-0.092308</td>\n",
       "      <td>0.9375</td>\n",
       "      <td>1</td>\n",
       "      <td>0</td>\n",
       "      <td>0</td>\n",
       "      <td>0</td>\n",
       "      <td>0</td>\n",
       "      <td>...</td>\n",
       "      <td>0</td>\n",
       "      <td>1</td>\n",
       "      <td>1</td>\n",
       "      <td>0</td>\n",
       "      <td>0</td>\n",
       "      <td>0</td>\n",
       "      <td>0</td>\n",
       "      <td>1</td>\n",
       "      <td>0</td>\n",
       "      <td>0</td>\n",
       "    </tr>\n",
       "    <tr>\n",
       "      <th>1</th>\n",
       "      <td>-1.333333</td>\n",
       "      <td>0.00</td>\n",
       "      <td>0.157480</td>\n",
       "      <td>1.046154</td>\n",
       "      <td>1.6875</td>\n",
       "      <td>1</td>\n",
       "      <td>0</td>\n",
       "      <td>0</td>\n",
       "      <td>0</td>\n",
       "      <td>0</td>\n",
       "      <td>...</td>\n",
       "      <td>1</td>\n",
       "      <td>0</td>\n",
       "      <td>0</td>\n",
       "      <td>1</td>\n",
       "      <td>0</td>\n",
       "      <td>0</td>\n",
       "      <td>0</td>\n",
       "      <td>0</td>\n",
       "      <td>1</td>\n",
       "      <td>0</td>\n",
       "    </tr>\n",
       "    <tr>\n",
       "      <th>2</th>\n",
       "      <td>-1.037037</td>\n",
       "      <td>0.00</td>\n",
       "      <td>-0.566929</td>\n",
       "      <td>0.584615</td>\n",
       "      <td>0.3750</td>\n",
       "      <td>0</td>\n",
       "      <td>0</td>\n",
       "      <td>0</td>\n",
       "      <td>0</td>\n",
       "      <td>0</td>\n",
       "      <td>...</td>\n",
       "      <td>0</td>\n",
       "      <td>0</td>\n",
       "      <td>0</td>\n",
       "      <td>0</td>\n",
       "      <td>0</td>\n",
       "      <td>0</td>\n",
       "      <td>1</td>\n",
       "      <td>0</td>\n",
       "      <td>1</td>\n",
       "      <td>0</td>\n",
       "    </tr>\n",
       "    <tr>\n",
       "      <th>3</th>\n",
       "      <td>0.074074</td>\n",
       "      <td>-0.50</td>\n",
       "      <td>-0.062992</td>\n",
       "      <td>0.769231</td>\n",
       "      <td>0.0000</td>\n",
       "      <td>1</td>\n",
       "      <td>0</td>\n",
       "      <td>0</td>\n",
       "      <td>0</td>\n",
       "      <td>0</td>\n",
       "      <td>...</td>\n",
       "      <td>0</td>\n",
       "      <td>0</td>\n",
       "      <td>0</td>\n",
       "      <td>1</td>\n",
       "      <td>0</td>\n",
       "      <td>0</td>\n",
       "      <td>1</td>\n",
       "      <td>0</td>\n",
       "      <td>1</td>\n",
       "      <td>0</td>\n",
       "    </tr>\n",
       "    <tr>\n",
       "      <th>4</th>\n",
       "      <td>0.148148</td>\n",
       "      <td>-0.50</td>\n",
       "      <td>1.795276</td>\n",
       "      <td>0.307692</td>\n",
       "      <td>-0.1250</td>\n",
       "      <td>0</td>\n",
       "      <td>1</td>\n",
       "      <td>0</td>\n",
       "      <td>0</td>\n",
       "      <td>0</td>\n",
       "      <td>...</td>\n",
       "      <td>0</td>\n",
       "      <td>0</td>\n",
       "      <td>0</td>\n",
       "      <td>1</td>\n",
       "      <td>0</td>\n",
       "      <td>0</td>\n",
       "      <td>1</td>\n",
       "      <td>0</td>\n",
       "      <td>1</td>\n",
       "      <td>0</td>\n",
       "    </tr>\n",
       "  </tbody>\n",
       "</table>\n",
       "<p>5 rows × 22 columns</p>\n",
       "</div>"
      ],
      "text/plain": [
       "        age  trtbps      chol  thalachh  oldpeak  sex_1  exng_1  caa_1  caa_2  \\\n",
       "0  0.592593    0.75 -0.110236 -0.092308   0.9375      1       0      0      0   \n",
       "1 -1.333333    0.00  0.157480  1.046154   1.6875      1       0      0      0   \n",
       "2 -1.037037    0.00 -0.566929  0.584615   0.3750      0       0      0      0   \n",
       "3  0.074074   -0.50 -0.062992  0.769231   0.0000      1       0      0      0   \n",
       "4  0.148148   -0.50  1.795276  0.307692  -0.1250      0       1      0      0   \n",
       "\n",
       "   caa_3  ...  cp_2  cp_3  fbs_1  restecg_1  restecg_2  slp_1  slp_2  thall_1  \\\n",
       "0      0  ...     0     1      1          0          0      0      0        1   \n",
       "1      0  ...     1     0      0          1          0      0      0        0   \n",
       "2      0  ...     0     0      0          0          0      0      1        0   \n",
       "3      0  ...     0     0      0          1          0      0      1        0   \n",
       "4      0  ...     0     0      0          1          0      0      1        0   \n",
       "\n",
       "   thall_2  thall_3  \n",
       "0        0        0  \n",
       "1        1        0  \n",
       "2        1        0  \n",
       "3        1        0  \n",
       "4        1        0  \n",
       "\n",
       "[5 rows x 22 columns]"
      ]
     },
     "execution_count": 9,
     "metadata": {},
     "output_type": "execute_result"
    }
   ],
   "source": [
    "X = heart.drop(['output'], axis=1) # input 데이터\n",
    "y = heart[['output']] # target 데이터\n",
    "\n",
    "scaler = RobustScaler()\n",
    "\n",
    "# fit_transform함수는 훈련용 데이터에만 적용\n",
    "X[con_cols] = scaler.fit_transform(X[con_cols])\n",
    "X.head()\n",
    "\n",
    "# 연속형 데이터들이 정규화가 되었음을 확인할 수 있다. "
   ]
  },
  {
   "cell_type": "markdown",
   "id": "9cd7c28a",
   "metadata": {},
   "source": [
    "## 훈련세트와 테스트세트로 분리"
   ]
  },
  {
   "cell_type": "code",
   "execution_count": 10,
   "id": "69070464",
   "metadata": {
    "ExecuteTime": {
     "end_time": "2022-11-05T14:20:21.968948Z",
     "start_time": "2022-11-05T14:20:21.953989Z"
    }
   },
   "outputs": [],
   "source": [
    "# 데이터를 훈련세트와 테스트 세트로 분리\n",
    "X_train, X_test, y_train, y_test = train_test_split(X, y, test_size=0.2, random_state=42)"
   ]
  },
  {
   "cell_type": "markdown",
   "id": "8afb38dd",
   "metadata": {},
   "source": [
    "# 로지스틱 회귀"
   ]
  },
  {
   "cell_type": "markdown",
   "id": "99e2eee5",
   "metadata": {},
   "source": [
    "## 로지스틱 회귀 모델 생성"
   ]
  },
  {
   "cell_type": "code",
   "execution_count": 11,
   "id": "0c747fc9",
   "metadata": {
    "ExecuteTime": {
     "end_time": "2022-11-05T14:20:22.000864Z",
     "start_time": "2022-11-05T14:20:21.969946Z"
    }
   },
   "outputs": [
    {
     "name": "stdout",
     "output_type": "stream",
     "text": [
      "테스트 데이터의 예측 확률 :  [[0.9736568  0.0263432 ]\n",
      " [0.55194969 0.44805031]\n",
      " [0.36270083 0.63729917]\n",
      " [0.97596468 0.02403532]\n",
      " [0.06223065 0.93776935]\n",
      " [0.07767471 0.92232529]\n",
      " [0.36001742 0.63998258]\n",
      " [0.99374037 0.00625963]\n",
      " [0.98614617 0.01385383]\n",
      " [0.43332286 0.56667714]\n",
      " [0.45963983 0.54036017]\n",
      " [0.88542149 0.11457851]\n",
      " [0.0780065  0.9219935 ]\n",
      " [0.94520551 0.05479449]\n",
      " [0.0155669  0.9844331 ]\n",
      " [0.05010332 0.94989668]\n",
      " [0.02273689 0.97726311]\n",
      " [0.95890043 0.04109957]\n",
      " [0.99245422 0.00754578]\n",
      " [0.98459819 0.01540181]\n",
      " [0.57737072 0.42262928]\n",
      " [0.92160704 0.07839296]\n",
      " [0.62680473 0.37319527]\n",
      " [0.2520748  0.7479252 ]\n",
      " [0.18065773 0.81934227]\n",
      " [0.38102038 0.61897962]\n",
      " [0.12397964 0.87602036]\n",
      " [0.29516034 0.70483966]\n",
      " [0.95643204 0.04356796]\n",
      " [0.04683419 0.95316581]\n",
      " [0.97601209 0.02398791]\n",
      " [0.97138187 0.02861813]\n",
      " [0.99043313 0.00956687]\n",
      " [0.820292   0.179708  ]\n",
      " [0.15195115 0.84804885]\n",
      " [0.962519   0.037481  ]\n",
      " [0.24116498 0.75883502]\n",
      " [0.12580455 0.87419545]\n",
      " [0.383131   0.616869  ]\n",
      " [0.11234277 0.88765723]\n",
      " [0.02354599 0.97645401]\n",
      " [0.17851439 0.82148561]\n",
      " [0.0928108  0.9071892 ]\n",
      " [0.28051553 0.71948447]\n",
      " [0.20940276 0.79059724]\n",
      " [0.76789906 0.23210094]\n",
      " [0.64869084 0.35130916]\n",
      " [0.04137975 0.95862025]\n",
      " [0.95838125 0.04161875]\n",
      " [0.9882818  0.0117182 ]\n",
      " [0.90887336 0.09112664]\n",
      " [0.96171725 0.03828275]\n",
      " [0.36342885 0.63657115]\n",
      " [0.04389642 0.95610358]\n",
      " [0.80472349 0.19527651]\n",
      " [0.97740845 0.02259155]\n",
      " [0.85187942 0.14812058]\n",
      " [0.03396127 0.96603873]\n",
      " [0.97999397 0.02000603]\n",
      " [0.99522633 0.00477367]\n",
      " [0.94303851 0.05696149]]\n",
      "테스트 데이터로 예측한 값 분류 :  [0 0 1 0 1 1 1 0 0 1 1 0 1 0 1 1 1 0 0 0 0 0 0 1 1 1 1 1 0 1 0 0 0 0 1 0 1\n",
      " 1 1 1 1 1 1 1 1 0 0 1 0 0 0 0 1 1 0 0 0 1 0 0 0]\n"
     ]
    }
   ],
   "source": [
    "lr = LogisticRegression()\n",
    "lr.fit(X_train, y_train)\n",
    "\n",
    "y_pred_proba = lr.predict_proba(X_test)  #predict_proba : 예측확률\n",
    "y_pred = np.argmax(y_pred_proba, axis=1)  #np.argmax : 최댓값의 색인 위치 (0:음성, 1:양성)\n",
    "\n",
    "print('테스트 데이터의 예측 확률 : ', y_pred_proba)\n",
    "print('테스트 데이터로 예측한 값 분류 : ', y_pred)"
   ]
  },
  {
   "cell_type": "code",
   "execution_count": 12,
   "id": "483e62ba",
   "metadata": {
    "ExecuteTime": {
     "end_time": "2022-11-05T14:20:22.016883Z",
     "start_time": "2022-11-05T14:20:22.001860Z"
    }
   },
   "outputs": [
    {
     "data": {
      "text/plain": [
       "0.9016393442622951"
      ]
     },
     "execution_count": 12,
     "metadata": {},
     "output_type": "execute_result"
    }
   ],
   "source": [
    "# accuracy_score( ) : 정답률(정확도)\n",
    "# 실제 데이터 중 맞게 예측한 데이터의 비율을 뜻한다\n",
    "accuracy_score(y_test, y_pred)"
   ]
  },
  {
   "cell_type": "markdown",
   "id": "7a459a09",
   "metadata": {},
   "source": [
    "## 회귀방정식 구하기와 시그모이드 그래프 그리기"
   ]
  },
  {
   "cell_type": "code",
   "execution_count": 13,
   "id": "ddeca8ef",
   "metadata": {
    "ExecuteTime": {
     "end_time": "2022-11-05T14:20:22.032109Z",
     "start_time": "2022-11-05T14:20:22.018876Z"
    }
   },
   "outputs": [
    {
     "name": "stdout",
     "output_type": "stream",
     "text": [
      "회귀계수 : [[ 0.10222306 -0.32165753 -0.11362234  0.43671415 -0.78679113 -1.16650505\n",
      "  -0.85158796 -1.68480297 -1.85766047 -1.07195384  0.47427858  0.47744138\n",
      "   1.30733244  1.33546411  0.32730374  0.34202436 -0.04974582 -0.41530375\n",
      "   0.61600743  0.19691245  0.52945121 -0.77391356]] \n",
      "절편 : [1.13495055]\n"
     ]
    }
   ],
   "source": [
    "print('회귀계수 : {}'.format(lr.coef_), \n",
    "      '\\n절편 : {}'.format(lr.intercept_))"
   ]
  },
  {
   "cell_type": "code",
   "execution_count": 14,
   "id": "77bae177",
   "metadata": {
    "ExecuteTime": {
     "end_time": "2022-11-05T14:20:22.048116Z",
     "start_time": "2022-11-05T14:20:22.034102Z"
    }
   },
   "outputs": [
    {
     "data": {
      "text/plain": [
       "array([-3.60984871, -0.20855136,  0.56366085, -3.70390207,  2.71265631,\n",
       "        2.47436818,  0.57528855, -5.06735415, -4.26524259,  0.26830664,\n",
       "        0.16179271, -2.04480355,  2.46974601, -2.84781279,  4.14691934,\n",
       "        2.94226585,  3.76076708, -3.14978967, -4.87919294, -4.15774873,\n",
       "       -0.31198917, -2.4643848 , -0.51853327,  1.0875771 ,  1.51189764,\n",
       "        0.48521947,  1.95527199,  0.87045161, -3.08888779,  3.01317545])"
      ]
     },
     "execution_count": 14,
     "metadata": {},
     "output_type": "execute_result"
    }
   ],
   "source": [
    "# z값 계산\n",
    "decisions = lr.decision_function(X_test[:30])\n",
    "decisions"
   ]
  },
  {
   "cell_type": "code",
   "execution_count": 15,
   "id": "313c40b4",
   "metadata": {
    "ExecuteTime": {
     "end_time": "2022-11-05T14:20:22.068066Z",
     "start_time": "2022-11-05T14:20:22.050113Z"
    }
   },
   "outputs": [
    {
     "name": "stdout",
     "output_type": "stream",
     "text": [
      "양성일 확률(1일 확률) : [0.0263432  0.44805031 0.63729917 0.02403532 0.93776935 0.92232529\n",
      " 0.63998258 0.00625963 0.01385383 0.56667714 0.54036017 0.11457851\n",
      " 0.9219935  0.05479449 0.9844331  0.94989668 0.97726311 0.04109957\n",
      " 0.00754578 0.01540181 0.42262928 0.07839296 0.37319527 0.7479252\n",
      " 0.81934227 0.61897962 0.87602036 0.70483966 0.04356796 0.95316581]\n",
      "\n",
      "음성일 확률(0일 확률) : [0.9736568  0.55194969 0.36270083 0.97596468 0.06223065 0.07767471\n",
      " 0.36001742 0.99374037 0.98614617 0.43332286 0.45963983 0.88542149\n",
      " 0.0780065  0.94520551 0.0155669  0.05010332 0.02273689 0.95890043\n",
      " 0.99245422 0.98459819 0.57737072 0.92160704 0.62680473 0.2520748\n",
      " 0.18065773 0.38102038 0.12397964 0.29516034 0.95643204 0.04683419]\n"
     ]
    }
   ],
   "source": [
    "# 시그모이드 함수를 통해 확률값 추출\n",
    "from scipy.special import expit\n",
    "\n",
    "# 양성일 확률(1일 확률)\n",
    "print('양성일 확률(1일 확률) : {}'.format(expit(decisions)))\n",
    "\n",
    "# 음성일 확률(0일 확률)\n",
    "print('\\n음성일 확률(0일 확률) : {}'.format(1 - expit(decisions)))"
   ]
  },
  {
   "cell_type": "code",
   "execution_count": 16,
   "id": "b39dfa91",
   "metadata": {
    "ExecuteTime": {
     "end_time": "2022-11-05T14:20:22.235508Z",
     "start_time": "2022-11-05T14:20:22.069062Z"
    },
    "scrolled": true
   },
   "outputs": [
    {
     "data": {
      "image/png": "[encoded data removed]",
      "text/plain": [
       "<Figure size 864x576 with 1 Axes>"
      ]
     },
     "metadata": {},
     "output_type": "display_data"
    }
   ],
   "source": [
    "# 시그모이드 함수 시각화\n",
    "def sigmoid(x):\n",
    "    return 1 / (1+np.exp(-x))\n",
    "\n",
    "x_data = np.arange(-10, 10, 0.1)\n",
    "result = sigmoid(x_data)\n",
    "plt.figure(figsize=(12, 8))\n",
    "plt.plot(x_data, result)\n",
    "plt.scatter(decisions, expit(decisions), marker='^' ,color = 'g')\n",
    "plt.scatter(0, 0.5, marker = 'D', color = 'black')\n",
    "plt.axhline(0.5, 0, 1, color='black', linestyle='--', linewidth=2)\n",
    "plt.title('심장병 확률 시각화', size = 20)\n",
    "plt.xlabel('X_data', size = 20)\n",
    "plt.ylabel('result', size = 20)\n",
    "plt.xlim(-8, 8)\n",
    "plt.ylim(-0.1, 1.1)\n",
    "plt.show()"
   ]
  },
  {
   "cell_type": "markdown",
   "id": "cf7bf74c",
   "metadata": {},
   "source": [
    "## ROC커브 그래프 시각화와 하단 면적 구하기"
   ]
  },
  {
   "cell_type": "code",
   "execution_count": 33,
   "id": "8642af4f",
   "metadata": {
    "ExecuteTime": {
     "end_time": "2022-11-05T14:23:10.969558Z",
     "start_time": "2022-11-05T14:23:10.841709Z"
    }
   },
   "outputs": [
    {
     "data": {
      "image/png": "[encoded data removed]",
      "text/plain": [
       "<Figure size 864x576 with 1 Axes>"
      ]
     },
     "metadata": {},
     "output_type": "display_data"
    }
   ],
   "source": [
    "y_pred_prob = y_pred_proba[:,1] # 양성(심장병 발병)으로 예측할 확률을 들고온다. \n",
    "\n",
    "fpr, tpr, thresholds = roc_curve(y_test, y_pred_prob)\n",
    "\n",
    "plt.figure(figsize=(12, 8))\n",
    "plt.plot([0,1], [0,1], \"r--\")\n",
    "plt.plot(fpr, tpr, label='LogisticRegression', color = '#162fff')\n",
    "plt.xlabel('False Positive Rate', size = 20)\n",
    "plt.ylabel('True Positive Rate', size = 20)\n",
    "plt.title('LogisticRegression ROC curve', size = 20)\n",
    "plt.text(0.3, 0.45, 'AUC 면적 = {}'.format(round(roc_auc_score(y_test, y_pred_prob), 4)), size = 35)\n",
    "plt.show()"
   ]
  },
  {
   "cell_type": "code",
   "execution_count": 19,
   "id": "21b72cf2",
   "metadata": {
    "ExecuteTime": {
     "end_time": "2022-11-05T14:20:45.923935Z",
     "start_time": "2022-11-05T14:20:45.913961Z"
    }
   },
   "outputs": [
    {
     "name": "stdout",
     "output_type": "stream",
     "text": [
      "1. False Positive Rate(참이라 예측한 것의 실제값이 거짓일 확률) : \n",
      "[0.         0.         0.         0.03448276 0.03448276 0.06896552\n",
      " 0.06896552 0.10344828 0.10344828 0.24137931 0.24137931 0.27586207\n",
      " 0.27586207 0.68965517 0.68965517 1.        ]\n",
      "\n",
      "2. True Positive Rate(참이라 예측한 것의 실제값이 참일 확률) : \n",
      "[0.      0.03125 0.40625 0.40625 0.78125 0.78125 0.875   0.875   0.90625\n",
      " 0.90625 0.9375  0.9375  0.96875 0.96875 1.      1.     ]\n",
      "\n",
      "3. AUC 면적(ROC커브의 하단 면적) :  0.9396551724137931\n"
     ]
    }
   ],
   "source": [
    "print('1. False Positive Rate(양성이라 예측한 것의 실제값이 음성일 확률) : \\n{}\\n'.format(fpr))\n",
    "print('2. True Positive Rate(양이라 예측한 것의 실제값이 양성일 확률) : \\n{}\\n'.format(tpr))\n",
    "print('3. AUC 면적(ROC커브의 하단 면적) : ', roc_auc_score(y_test, y_pred_prob)) # 면적이 1에 가까울수록 좋다. "
   ]
  },
  {
   "cell_type": "markdown",
   "id": "b62de74b",
   "metadata": {},
   "source": [
    "# 의사결정나무"
   ]
  },
  {
   "cell_type": "code",
   "execution_count": 32,
   "id": "39456551",
   "metadata": {
    "ExecuteTime": {
     "end_time": "2022-11-05T14:22:54.946544Z",
     "start_time": "2022-11-05T14:22:54.931801Z"
    }
   },
   "outputs": [
    {
     "name": "stdout",
     "output_type": "stream",
     "text": [
      "정확도 점수 : 0.787\n",
      "훈련데이터의 정확도 점수 : 1.0\n",
      "테스트데이터의 정확도 점수 :  0.7868852459016393\n",
      "과대적합이 의심된다\n"
     ]
    }
   ],
   "source": [
    "# DecisionTreeClassfier 모델사용해서 점수 확인\n",
    "dt = DecisionTreeClassifier(random_state=42)\n",
    "dt.fit(X_train, y_train)\n",
    "y_pred = dt.predict(X_test)\n",
    "print('정확도 점수 : {:.3f}'.format(accuracy_score(y_test, y_pred)))\n",
    "print('훈련데이터의 정확도 점수 :', dt.score(X_train, y_train))\n",
    "print('테스트데이터의 정확도 점수 : ',dt.score(X_test, y_test))\n",
    "print('과대적합이 의심된다')"
   ]
  },
  {
   "cell_type": "markdown",
   "id": "240f6446",
   "metadata": {},
   "source": [
    "## 그리드 서치"
   ]
  },
  {
   "cell_type": "code",
   "execution_count": 22,
   "id": "db134808",
   "metadata": {
    "ExecuteTime": {
     "end_time": "2022-11-05T14:20:54.017118Z",
     "start_time": "2022-11-05T14:20:48.625433Z"
    }
   },
   "outputs": [
    {
     "data": {
      "text/plain": [
       "GridSearchCV(cv=3, estimator=DecisionTreeClassifier(random_state=42), n_jobs=-1,\n",
       "             param_grid={'max_depth': [2, 3, 4, 5, 6, 7, 8, 9, 10],\n",
       "                         'min_samples_leaf': [1, 2, 3, 4, 5, 6, 7, 8, 9],\n",
       "                         'min_samples_split': [2, 3, 4, 5, 6, 7, 8, 9, 10]})"
      ]
     },
     "execution_count": 22,
     "metadata": {},
     "output_type": "execute_result"
    }
   ],
   "source": [
    "from sklearn.model_selection import GridSearchCV\n",
    "model = DecisionTreeClassifier(random_state = 42)\n",
    "\n",
    "params = {\n",
    "    'max_depth':[2, 3, 4, 5, 6, 7, 8, 9, 10],    \n",
    "    'min_samples_leaf':[1, 2, 3, 4, 5, 6, 7, 8, 9],\n",
    "    'min_samples_split':[2, 3, 4, 5, 6, 7, 8, 9, 10]\n",
    "}\n",
    "\n",
    "gs = GridSearchCV(model, param_grid = params, cv = 3, refit = True, n_jobs = -1) # n_jobs는 실행 코어수 조절(-1을 주면 모든 코어 사용)\n",
    "gs.fit(X_train, y_train)"
   ]
  },
  {
   "cell_type": "code",
   "execution_count": 26,
   "id": "7b44d72b",
   "metadata": {
    "ExecuteTime": {
     "end_time": "2022-11-05T14:21:25.863734Z",
     "start_time": "2022-11-05T14:21:25.839799Z"
    }
   },
   "outputs": [
    {
     "name": "stdout",
     "output_type": "stream",
     "text": [
      "1. 그리드 서치를 이용한 최적의 매게변수 :  {'max_depth': 6, 'min_samples_leaf': 2, 'min_samples_split': 2}\n",
      "2. 그리드 서치를 이용한 최적의 매게변수 점수 : 0.740\n",
      "3. 최적의 교차검증 점수 : 0.740\n",
      "4. 훈련데이터 점수 : 0.905\n",
      "5. 테스트데이터 점수 : 0.754\n",
      "6. 결론 : 그럼에도 불구하고 과대적합이 의심된다.\n"
     ]
    }
   ],
   "source": [
    "# 그리드 서치를 사용한 모델의 최적의 파라미터값\n",
    "model = gs.best_estimator_\n",
    "print('1. 그리드 서치를 이용한 최적의 매게변수 : ', gs.best_params_)\n",
    "print('2. 그리드 서치를 이용한 최적의 매게변수 점수 : {:.3f}'.format(gs.best_score_))\n",
    "print('3. 최적의 교차검증 점수 : {:.3f}'.format(np.max(gs.cv_results_['mean_test_score'])))\n",
    "print('4. 훈련데이터 점수 : {:.3f}'.format(model.score(X_train, y_train)))\n",
    "print('5. 테스트데이터 점수 : {:.3f}'.format(model.score(X_test, y_test)))\n",
    "print('6. 결론 : 그럼에도 불구하고 과대적합이 의심된다.')"
   ]
  }
 ],
 "metadata": {
  "kernelspec": {
   "display_name": "Python 3 (ipykernel)",
   "language": "python",
   "name": "python3"
  },
  "language_info": {
   "codemirror_mode": {
    "name": "ipython",
    "version": 3
   },
   "file_extension": ".py",
   "mimetype": "text/x-python",
   "name": "python",
   "nbconvert_exporter": "python",
   "pygments_lexer": "ipython3",
   "version": "3.9.7"
  },
  "toc": {
   "base_numbering": 1,
   "nav_menu": {},
   "number_sections": true,
   "sideBar": true,
   "skip_h1_title": false,
   "title_cell": "Table of Contents",
   "title_sidebar": "Contents",
   "toc_cell": false,
   "toc_position": {},
   "toc_section_display": true,
   "toc_window_display": false
  },
  "varInspector": {
   "cols": {
    "lenName": 16,
    "lenType": 16,
    "lenVar": 40
   },
   "kernels_config": {
    "python": {
     "delete_cmd_postfix": "",
     "delete_cmd_prefix": "del ",
     "library": "var_list.py",
     "varRefreshCmd": "print(var_dic_list())"
    },
    "r": {
     "delete_cmd_postfix": ") ",
     "delete_cmd_prefix": "rm(",
     "library": "var_list.r",
     "varRefreshCmd": "cat(var_dic_list()) "
    }
   },
   "types_to_exclude": [
    "module",
    "function",
    "builtin_function_or_method",
    "instance",
    "_Feature"
   ],
   "window_display": false
  }
 },
 "nbformat": 4,
 "nbformat_minor": 5
}
