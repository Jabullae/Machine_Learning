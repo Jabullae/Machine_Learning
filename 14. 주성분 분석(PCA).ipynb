{
 "cells": [
  {
   "cell_type": "markdown",
   "id": "82da67ca",
   "metadata": {},
   "source": [
    "# 주성분 분석(PCA)\n",
    "1. 차원축소의 3가지 접근법\n",
    "    - 피처선택(Feature Selection) : 불필요한 피쳐를 버린다. 상관계수 값을 통해 판단한다.\n",
    "    - 피처추출(Feature Extrasion) : 피처를 선택하는 것이 아니라 더 작은 차원으로 피처를 매핑하는 것\n",
    "        - PCA, LDA, SVD, NMF 등\n",
    "    - 피처생성(Feature Engineering) : 특성공학, 데이터 테이블에 피처가 부족한 상황일 때 적용하는 기법  \n",
    "    \n",
    "2. PCA\n",
    "    - 가장 대표적인 차원 축소 알고리즘이다.\n",
    "    - 여러 피처간에 존재하는 상관관계를 이용해 이를 대표하는 주성분을 추출해 차원을 축소한다.\n",
    "    - PCA는 가장 높은 분산을 가지는 데이터의 축을 찾아 이 축으로 차원을 축소하는 이것이 PCA의 주성분이 된다.  \n",
    "    \n",
    "3. PCA 수행과정\n",
    "    - 입력 데이터 세트의 공분산 행렬을 생성한다.\n",
    "    - 공분산 행렬의 고유벡터와 고유값을 계산한다.\n",
    "    - 고유값이 가장 큰 순으로 k개(PCA의 변환 차수)만큼 고유벡터를 추출한다.\n",
    "    - 고유값이 가장 큰 순으로 추출된 고유벡터를 이용해 새롭게 입력 데이터를 변환한다.\n",
    "    "
   ]
  },
  {
   "cell_type": "code",
   "execution_count": 1,
   "id": "59ba3115",
   "metadata": {
    "ExecuteTime": {
     "end_time": "2022-11-11T01:07:20.484571Z",
     "start_time": "2022-11-11T01:07:17.145149Z"
    }
   },
   "outputs": [],
   "source": [
    "import numpy as np\n",
    "import pandas as pd\n",
    "\n",
    "import matplotlib.pyplot as plt\n",
    "import matplotlib as mpl\n",
    "import seaborn as sns\n",
    "\n",
    "import warnings\n",
    "from IPython.display import Image\n",
    "\n",
    "%matplotlib inline\n",
    "%config InlineBackend.figure_format = 'retina'\n",
    "\n",
    "mpl.rc('font', family = 'D2coding')\n",
    "mpl.rc('axes', unicode_minus = False)\n",
    "\n",
    "sns.set(font = 'D2coding', rc = {'axes.unicode_minus':False}, style = 'darkgrid')\n",
    "plt.rc('figure', figsize = (10, 8))\n",
    "\n",
    "warnings.filterwarnings('ignore')"
   ]
  },
  {
   "cell_type": "markdown",
   "id": "7927fe88",
   "metadata": {},
   "source": [
    "# 데이터셋 로딩"
   ]
  },
  {
   "cell_type": "code",
   "execution_count": 11,
   "id": "915ce76b",
   "metadata": {
    "ExecuteTime": {
     "end_time": "2022-11-11T01:14:36.573236Z",
     "start_time": "2022-11-11T01:14:36.557281Z"
    }
   },
   "outputs": [
    {
     "name": "stdout",
     "output_type": "stream",
     "text": [
      "['sepal length (cm)', 'sepal width (cm)', 'petal length (cm)', 'petal width (cm)']\n",
      "['setosa' 'versicolor' 'virginica']\n"
     ]
    }
   ],
   "source": [
    "from sklearn.datasets import load_iris\n",
    "iris = load_iris()\n",
    "X = iris.data\n",
    "y = iris.target\n",
    "print(iris.feature_names)\n",
    "print(iris.target_names)"
   ]
  },
  {
   "cell_type": "code",
   "execution_count": 9,
   "id": "a0f72a64",
   "metadata": {
    "ExecuteTime": {
     "end_time": "2022-11-11T01:14:04.408771Z",
     "start_time": "2022-11-11T01:14:04.370877Z"
    }
   },
   "outputs": [
    {
     "data": {
      "text/html": [
       "<div>\n",
       "<style scoped>\n",
       "    .dataframe tbody tr th:only-of-type {\n",
       "        vertical-align: middle;\n",
       "    }\n",
       "\n",
       "    .dataframe tbody tr th {\n",
       "        vertical-align: top;\n",
       "    }\n",
       "\n",
       "    .dataframe thead th {\n",
       "        text-align: right;\n",
       "    }\n",
       "</style>\n",
       "<table border=\"1\" class=\"dataframe\">\n",
       "  <thead>\n",
       "    <tr style=\"text-align: right;\">\n",
       "      <th></th>\n",
       "      <th>sepal_length</th>\n",
       "      <th>sepal_width</th>\n",
       "      <th>petal_length</th>\n",
       "      <th>petal_width</th>\n",
       "      <th>target</th>\n",
       "    </tr>\n",
       "  </thead>\n",
       "  <tbody>\n",
       "    <tr>\n",
       "      <th>139</th>\n",
       "      <td>6.9</td>\n",
       "      <td>3.1</td>\n",
       "      <td>5.4</td>\n",
       "      <td>2.1</td>\n",
       "      <td>2</td>\n",
       "    </tr>\n",
       "    <tr>\n",
       "      <th>142</th>\n",
       "      <td>5.8</td>\n",
       "      <td>2.7</td>\n",
       "      <td>5.1</td>\n",
       "      <td>1.9</td>\n",
       "      <td>2</td>\n",
       "    </tr>\n",
       "    <tr>\n",
       "      <th>67</th>\n",
       "      <td>5.8</td>\n",
       "      <td>2.7</td>\n",
       "      <td>4.1</td>\n",
       "      <td>1.0</td>\n",
       "      <td>1</td>\n",
       "    </tr>\n",
       "    <tr>\n",
       "      <th>35</th>\n",
       "      <td>5.0</td>\n",
       "      <td>3.2</td>\n",
       "      <td>1.2</td>\n",
       "      <td>0.2</td>\n",
       "      <td>0</td>\n",
       "    </tr>\n",
       "    <tr>\n",
       "      <th>70</th>\n",
       "      <td>5.9</td>\n",
       "      <td>3.2</td>\n",
       "      <td>4.8</td>\n",
       "      <td>1.8</td>\n",
       "      <td>1</td>\n",
       "    </tr>\n",
       "    <tr>\n",
       "      <th>26</th>\n",
       "      <td>5.0</td>\n",
       "      <td>3.4</td>\n",
       "      <td>1.6</td>\n",
       "      <td>0.4</td>\n",
       "      <td>0</td>\n",
       "    </tr>\n",
       "    <tr>\n",
       "      <th>64</th>\n",
       "      <td>5.6</td>\n",
       "      <td>2.9</td>\n",
       "      <td>3.6</td>\n",
       "      <td>1.3</td>\n",
       "      <td>1</td>\n",
       "    </tr>\n",
       "    <tr>\n",
       "      <th>144</th>\n",
       "      <td>6.7</td>\n",
       "      <td>3.3</td>\n",
       "      <td>5.7</td>\n",
       "      <td>2.5</td>\n",
       "      <td>2</td>\n",
       "    </tr>\n",
       "    <tr>\n",
       "      <th>132</th>\n",
       "      <td>6.4</td>\n",
       "      <td>2.8</td>\n",
       "      <td>5.6</td>\n",
       "      <td>2.2</td>\n",
       "      <td>2</td>\n",
       "    </tr>\n",
       "    <tr>\n",
       "      <th>84</th>\n",
       "      <td>5.4</td>\n",
       "      <td>3.0</td>\n",
       "      <td>4.5</td>\n",
       "      <td>1.5</td>\n",
       "      <td>1</td>\n",
       "    </tr>\n",
       "  </tbody>\n",
       "</table>\n",
       "</div>"
      ],
      "text/plain": [
       "     sepal_length  sepal_width  petal_length  petal_width  target\n",
       "139           6.9          3.1           5.4          2.1       2\n",
       "142           5.8          2.7           5.1          1.9       2\n",
       "67            5.8          2.7           4.1          1.0       1\n",
       "35            5.0          3.2           1.2          0.2       0\n",
       "70            5.9          3.2           4.8          1.8       1\n",
       "26            5.0          3.4           1.6          0.4       0\n",
       "64            5.6          2.9           3.6          1.3       1\n",
       "144           6.7          3.3           5.7          2.5       2\n",
       "132           6.4          2.8           5.6          2.2       2\n",
       "84            5.4          3.0           4.5          1.5       1"
      ]
     },
     "execution_count": 9,
     "metadata": {},
     "output_type": "execute_result"
    }
   ],
   "source": [
    "columns = ['sepal_length', 'sepal_width', 'petal_length', 'petal_width']\n",
    "iris_df = pd.DataFrame(iris.data, columns = columns)\n",
    "iris_df['target'] = iris.target\n",
    "iris_df.sample(10)"
   ]
  },
  {
   "cell_type": "markdown",
   "id": "14f7c341",
   "metadata": {},
   "source": [
    "## 각 클래스별 데이터의 분포 시각화"
   ]
  },
  {
   "cell_type": "code",
   "execution_count": 25,
   "id": "2c3f064c",
   "metadata": {
    "ExecuteTime": {
     "end_time": "2022-11-11T01:25:33.991170Z",
     "start_time": "2022-11-11T01:25:33.755370Z"
    }
   },
   "outputs": [
    {
     "data": {
      "image/png": "[encoded data removed]",
      "text/plain": [
       "<Figure size 864x720 with 1 Axes>"
      ]
     },
     "metadata": {
      "image/png": {
       "height": 598,
       "width": 733
      }
     },
     "output_type": "display_data"
    }
   ],
   "source": [
    "markers = ['^', 's', 'o']\n",
    "\n",
    "# 0:setosa, 1:versicolor, 2:virginica\n",
    "plt.figure(figsize = (12, 10)) \n",
    "for i , marker in enumerate(markers):\n",
    "    x_axis_data = iris_df[iris_df['target'] == i]['sepal_length']\n",
    "    y_axis_data = iris_df[iris_df['target'] == i]['sepal_width']\n",
    "    plt.scatter(x_axis_data, y_axis_data, marker = marker, label = iris.target_names[i])\n",
    "   \n",
    "plt.legend(loc = 0)\n",
    "plt.xlabel('sepal length', size = 15)\n",
    "plt.ylabel('sepal width', size = 15)\n",
    "plt.rc('xtick', labelsize = 15)\n",
    "plt.rc('ytick', labelsize = 15)\n",
    "plt.rc('legend', fontsize = 15)\n",
    "plt.show()"
   ]
  },
  {
   "cell_type": "markdown",
   "id": "ce7126a4",
   "metadata": {},
   "source": [
    "## 전처리 - 피처 스케일링\n",
    "\n",
    "- PCA는 여러 피처값을 연산하기에 스케일에 영향을 많이 받는다. 그래서 PCA 적용 전에 피처 스케일링 작업이 필요하다."
   ]
  },
  {
   "cell_type": "code",
   "execution_count": 30,
   "id": "a6de4231",
   "metadata": {
    "ExecuteTime": {
     "end_time": "2022-11-11T01:34:37.165341Z",
     "start_time": "2022-11-11T01:34:37.101511Z"
    },
    "scrolled": true
   },
   "outputs": [
    {
     "data": {
      "text/html": [
       "<div>\n",
       "<style scoped>\n",
       "    .dataframe tbody tr th:only-of-type {\n",
       "        vertical-align: middle;\n",
       "    }\n",
       "\n",
       "    .dataframe tbody tr th {\n",
       "        vertical-align: top;\n",
       "    }\n",
       "\n",
       "    .dataframe thead th {\n",
       "        text-align: right;\n",
       "    }\n",
       "</style>\n",
       "<table border=\"1\" class=\"dataframe\">\n",
       "  <thead>\n",
       "    <tr style=\"text-align: right;\">\n",
       "      <th></th>\n",
       "      <th>0</th>\n",
       "      <th>1</th>\n",
       "      <th>2</th>\n",
       "      <th>3</th>\n",
       "      <th>target</th>\n",
       "    </tr>\n",
       "  </thead>\n",
       "  <tbody>\n",
       "    <tr>\n",
       "      <th>count</th>\n",
       "      <td>150.000000</td>\n",
       "      <td>150.000000</td>\n",
       "      <td>150.000000</td>\n",
       "      <td>150.000000</td>\n",
       "      <td>150.000000</td>\n",
       "    </tr>\n",
       "    <tr>\n",
       "      <th>mean</th>\n",
       "      <td>-0.000000</td>\n",
       "      <td>-0.000000</td>\n",
       "      <td>-0.000000</td>\n",
       "      <td>-0.000000</td>\n",
       "      <td>1.000000</td>\n",
       "    </tr>\n",
       "    <tr>\n",
       "      <th>std</th>\n",
       "      <td>1.003350</td>\n",
       "      <td>1.003350</td>\n",
       "      <td>1.003350</td>\n",
       "      <td>1.003350</td>\n",
       "      <td>0.819232</td>\n",
       "    </tr>\n",
       "    <tr>\n",
       "      <th>min</th>\n",
       "      <td>-1.870024</td>\n",
       "      <td>-2.433947</td>\n",
       "      <td>-1.567576</td>\n",
       "      <td>-1.447077</td>\n",
       "      <td>0.000000</td>\n",
       "    </tr>\n",
       "    <tr>\n",
       "      <th>25%</th>\n",
       "      <td>-0.900681</td>\n",
       "      <td>-0.592373</td>\n",
       "      <td>-1.226552</td>\n",
       "      <td>-1.183812</td>\n",
       "      <td>0.000000</td>\n",
       "    </tr>\n",
       "    <tr>\n",
       "      <th>50%</th>\n",
       "      <td>-0.052506</td>\n",
       "      <td>-0.131979</td>\n",
       "      <td>0.336478</td>\n",
       "      <td>0.132510</td>\n",
       "      <td>1.000000</td>\n",
       "    </tr>\n",
       "    <tr>\n",
       "      <th>75%</th>\n",
       "      <td>0.674501</td>\n",
       "      <td>0.558611</td>\n",
       "      <td>0.762758</td>\n",
       "      <td>0.790671</td>\n",
       "      <td>2.000000</td>\n",
       "    </tr>\n",
       "    <tr>\n",
       "      <th>max</th>\n",
       "      <td>2.492019</td>\n",
       "      <td>3.090775</td>\n",
       "      <td>1.785832</td>\n",
       "      <td>1.712096</td>\n",
       "      <td>2.000000</td>\n",
       "    </tr>\n",
       "  </tbody>\n",
       "</table>\n",
       "</div>"
      ],
      "text/plain": [
       "                0           1           2           3      target\n",
       "count  150.000000  150.000000  150.000000  150.000000  150.000000\n",
       "mean    -0.000000   -0.000000   -0.000000   -0.000000    1.000000\n",
       "std      1.003350    1.003350    1.003350    1.003350    0.819232\n",
       "min     -1.870024   -2.433947   -1.567576   -1.447077    0.000000\n",
       "25%     -0.900681   -0.592373   -1.226552   -1.183812    0.000000\n",
       "50%     -0.052506   -0.131979    0.336478    0.132510    1.000000\n",
       "75%      0.674501    0.558611    0.762758    0.790671    2.000000\n",
       "max      2.492019    3.090775    1.785832    1.712096    2.000000"
      ]
     },
     "execution_count": 30,
     "metadata": {},
     "output_type": "execute_result"
    }
   ],
   "source": [
    "from sklearn.preprocessing import StandardScaler\n",
    "\n",
    "# 타겟값을 제외한 피처 추출\n",
    "iris_df_input = iris_df.iloc[:, :-1]\n",
    "iris_scaled = StandardScaler().fit_transform(iris_df_input)\n",
    "iris_scaled_df = pd.DataFrame(iris_scaled)\n",
    "iris_scaled_df['target'] = iris_df.target\n",
    "np.round(iris_scaled_df.describe(), 7)"
   ]
  },
  {
   "cell_type": "code",
   "execution_count": 31,
   "id": "4be46772",
   "metadata": {
    "ExecuteTime": {
     "end_time": "2022-11-11T01:37:39.631744Z",
     "start_time": "2022-11-11T01:37:39.621593Z"
    }
   },
   "outputs": [],
   "source": [
    "# 이렇게 한줄로 스케일을 진행할수도 있다. \n",
    "iris_f_scaled = StandardScaler().fit_transform(iris_df.iloc[:, :-1])"
   ]
  },
  {
   "cell_type": "markdown",
   "id": "2e171654",
   "metadata": {},
   "source": [
    "## 주성분 분석을 통해 차원축소"
   ]
  },
  {
   "cell_type": "code",
   "execution_count": 35,
   "id": "5f943af1",
   "metadata": {
    "ExecuteTime": {
     "end_time": "2022-11-11T01:43:44.051579Z",
     "start_time": "2022-11-11T01:43:44.043618Z"
    }
   },
   "outputs": [
    {
     "name": "stdout",
     "output_type": "stream",
     "text": [
      "스케일 데이터 : (150, 4)\n",
      "PCA 변환 데이터 : (150, 2)\n"
     ]
    }
   ],
   "source": [
    "from sklearn.decomposition import PCA\n",
    "\n",
    "# 변환할 차원 수 입력\n",
    "pca = PCA(n_components = 2)\n",
    "\n",
    "# 스케일 데이터 => PCA 변환 데이터\n",
    "pca.fit(iris_f_scaled)\n",
    "iris_pca = pca.transform(iris_f_scaled)\n",
    "\n",
    "# 변환후 차원 추출\n",
    "print(f'스케일 데이터 : {iris_f_scaled.shape}')\n",
    "print(f'PCA 변환 데이터 : {iris_pca.shape}')"
   ]
  },
  {
   "cell_type": "code",
   "execution_count": 38,
   "id": "9344728d",
   "metadata": {
    "ExecuteTime": {
     "end_time": "2022-11-11T01:46:46.056231Z",
     "start_time": "2022-11-11T01:46:46.033297Z"
    }
   },
   "outputs": [
    {
     "data": {
      "text/html": [
       "<div>\n",
       "<style scoped>\n",
       "    .dataframe tbody tr th:only-of-type {\n",
       "        vertical-align: middle;\n",
       "    }\n",
       "\n",
       "    .dataframe tbody tr th {\n",
       "        vertical-align: top;\n",
       "    }\n",
       "\n",
       "    .dataframe thead th {\n",
       "        text-align: right;\n",
       "    }\n",
       "</style>\n",
       "<table border=\"1\" class=\"dataframe\">\n",
       "  <thead>\n",
       "    <tr style=\"text-align: right;\">\n",
       "      <th></th>\n",
       "      <th>pca_component_1</th>\n",
       "      <th>pca_component_2</th>\n",
       "      <th>target</th>\n",
       "    </tr>\n",
       "  </thead>\n",
       "  <tbody>\n",
       "    <tr>\n",
       "      <th>0</th>\n",
       "      <td>-2.264703</td>\n",
       "      <td>0.480027</td>\n",
       "      <td>0</td>\n",
       "    </tr>\n",
       "    <tr>\n",
       "      <th>1</th>\n",
       "      <td>-2.080961</td>\n",
       "      <td>-0.674134</td>\n",
       "      <td>0</td>\n",
       "    </tr>\n",
       "    <tr>\n",
       "      <th>2</th>\n",
       "      <td>-2.364229</td>\n",
       "      <td>-0.341908</td>\n",
       "      <td>0</td>\n",
       "    </tr>\n",
       "    <tr>\n",
       "      <th>3</th>\n",
       "      <td>-2.299384</td>\n",
       "      <td>-0.597395</td>\n",
       "      <td>0</td>\n",
       "    </tr>\n",
       "    <tr>\n",
       "      <th>4</th>\n",
       "      <td>-2.389842</td>\n",
       "      <td>0.646835</td>\n",
       "      <td>0</td>\n",
       "    </tr>\n",
       "    <tr>\n",
       "      <th>5</th>\n",
       "      <td>-2.075631</td>\n",
       "      <td>1.489178</td>\n",
       "      <td>0</td>\n",
       "    </tr>\n",
       "    <tr>\n",
       "      <th>6</th>\n",
       "      <td>-2.444029</td>\n",
       "      <td>0.047644</td>\n",
       "      <td>0</td>\n",
       "    </tr>\n",
       "    <tr>\n",
       "      <th>7</th>\n",
       "      <td>-2.232847</td>\n",
       "      <td>0.223148</td>\n",
       "      <td>0</td>\n",
       "    </tr>\n",
       "    <tr>\n",
       "      <th>8</th>\n",
       "      <td>-2.334640</td>\n",
       "      <td>-1.115328</td>\n",
       "      <td>0</td>\n",
       "    </tr>\n",
       "    <tr>\n",
       "      <th>9</th>\n",
       "      <td>-2.184328</td>\n",
       "      <td>-0.469014</td>\n",
       "      <td>0</td>\n",
       "    </tr>\n",
       "  </tbody>\n",
       "</table>\n",
       "</div>"
      ],
      "text/plain": [
       "   pca_component_1  pca_component_2  target\n",
       "0        -2.264703         0.480027       0\n",
       "1        -2.080961        -0.674134       0\n",
       "2        -2.364229        -0.341908       0\n",
       "3        -2.299384        -0.597395       0\n",
       "4        -2.389842         0.646835       0\n",
       "5        -2.075631         1.489178       0\n",
       "6        -2.444029         0.047644       0\n",
       "7        -2.232847         0.223148       0\n",
       "8        -2.334640        -1.115328       0\n",
       "9        -2.184328        -0.469014       0"
      ]
     },
     "execution_count": 38,
     "metadata": {},
     "output_type": "execute_result"
    }
   ],
   "source": [
    "# PCA 데이터 프레임 생성\n",
    "pca_columns = ['pca_component_1', 'pca_component_2']\n",
    "\n",
    "iris_df_pca = pd.DataFrame(iris_pca, columns = pca_columns)\n",
    "iris_df_pca['target'] = iris.target\n",
    "\n",
    "iris_df_pca.head(10)"
   ]
  },
  {
   "cell_type": "code",
   "execution_count": 43,
   "id": "3c2b6f9f",
   "metadata": {
    "ExecuteTime": {
     "end_time": "2022-11-11T01:48:57.109700Z",
     "start_time": "2022-11-11T01:48:56.863589Z"
    }
   },
   "outputs": [
    {
     "data": {
      "image/png": "[encoded data removed]",
      "text/plain": [
       "<Figure size 864x720 with 1 Axes>"
      ]
     },
     "metadata": {
      "image/png": {
       "height": 597,
       "width": 725
      }
     },
     "output_type": "display_data"
    }
   ],
   "source": [
    "markers = ['^', 's', 'o']\n",
    "\n",
    "# 0:setosa, 1:versicolor, 2:virginica\n",
    "plt.figure(figsize = (12, 10)) \n",
    "for i , marker in enumerate(markers):\n",
    "    x_axis_data = iris_df_pca[iris_df_pca['target'] == i]['pca_component_1']\n",
    "    y_axis_data = iris_df_pca[iris_df_pca['target'] == i]['pca_component_2']\n",
    "    plt.scatter(x_axis_data, y_axis_data, marker = marker, label = iris.target_names[i])\n",
    "    \n",
    "plt.legend(loc = 0)\n",
    "plt.xlabel('pca_component_1', size = 15)\n",
    "plt.ylabel('pca_component_2', size = 15)\n",
    "plt.rc('xtick', labelsize = 15)\n",
    "plt.rc('ytick', labelsize = 15)\n",
    "plt.rc('legend', fontsize = 15)\n",
    "plt.show()"
   ]
  },
  {
   "cell_type": "code",
   "execution_count": 45,
   "id": "4d06d66b",
   "metadata": {
    "ExecuteTime": {
     "end_time": "2022-11-11T01:51:52.079335Z",
     "start_time": "2022-11-11T01:51:52.068364Z"
    }
   },
   "outputs": [
    {
     "data": {
      "text/plain": [
       "array([0.72962445, 0.22850762])"
      ]
     },
     "execution_count": 45,
     "metadata": {},
     "output_type": "execute_result"
    }
   ],
   "source": [
    "# component 변동성이 반영된 변동 비율\n",
    "# explained_variance_ratio_ 속석ㅇ : 전체 변동성에서 개별 PCA 컴포넌트별 차지하는 변동성 비율\n",
    "pca.explained_variance_ratio_"
   ]
  },
  {
   "cell_type": "markdown",
   "id": "65ad0b01",
   "metadata": {},
   "source": [
    "## PCA 변환 전/후 분류"
   ]
  },
  {
   "cell_type": "code",
   "execution_count": 46,
   "id": "1a815856",
   "metadata": {
    "ExecuteTime": {
     "end_time": "2022-11-11T02:18:50.330230Z",
     "start_time": "2022-11-11T02:18:49.509490Z"
    }
   },
   "outputs": [
    {
     "name": "stdout",
     "output_type": "stream",
     "text": [
      "원본 데이터 fold별 정확도 : [0.98 0.94 0.96]\n",
      "원본 데이터 평균 정확도 : 0.9600\n"
     ]
    }
   ],
   "source": [
    "from sklearn.ensemble import RandomForestClassifier\n",
    "from sklearn.model_selection import cross_val_score\n",
    "\n",
    "# PCA 변환 전 \n",
    "\n",
    "# 분류 모델 : 랜덤포레스트\n",
    "rcf = RandomForestClassifier(random_state = 2022)\n",
    "\n",
    "# 교차검증\n",
    "scores = cross_val_score(rcf, iris_df.iloc[:, :-1], \n",
    "                         iris_df.target, scoring = 'accuracy', cv = 3)\n",
    "\n",
    "# 정확도\n",
    "print(f'원본 데이터 fold별 정확도 : {scores}')\n",
    "print(f'원본 데이터 평균 정확도 : {np.mean(scores):.4f}')"
   ]
  },
  {
   "cell_type": "code",
   "execution_count": 47,
   "id": "9294d28c",
   "metadata": {
    "ExecuteTime": {
     "end_time": "2022-11-11T02:20:40.506523Z",
     "start_time": "2022-11-11T02:20:39.720147Z"
    }
   },
   "outputs": [
    {
     "name": "stdout",
     "output_type": "stream",
     "text": [
      "원본 데이터 fold별 정확도 : [0.88 0.88 0.9 ]\n",
      "원본 데이터 평균 정확도 : 0.8867\n"
     ]
    }
   ],
   "source": [
    "# PCA 변환 후 \n",
    "\n",
    "# 분류 모델 : 랜덤포레스트\n",
    "rcf = RandomForestClassifier(random_state = 2022)\n",
    "\n",
    "# 교차검증\n",
    "pca_scores = cross_val_score(rcf, iris_df_pca.iloc[:, :-1], \n",
    "                         iris_df_pca.target, scoring = 'accuracy', cv = 3)\n",
    "\n",
    "# 정확도\n",
    "print(f'원본 데이터 fold별 정확도 : {pca_scores}')\n",
    "print(f'원본 데이터 평균 정확도 : {np.mean(pca_scores):.4f}')"
   ]
  },
  {
   "cell_type": "markdown",
   "id": "04400df7",
   "metadata": {},
   "source": [
    "# UCI 신용카드 고객 데이터"
   ]
  },
  {
   "cell_type": "code",
   "execution_count": 60,
   "id": "ca5aa20c",
   "metadata": {
    "ExecuteTime": {
     "end_time": "2022-11-11T02:40:22.212722Z",
     "start_time": "2022-11-11T02:40:20.447457Z"
    }
   },
   "outputs": [
    {
     "data": {
      "text/html": [
       "<div>\n",
       "<style scoped>\n",
       "    .dataframe tbody tr th:only-of-type {\n",
       "        vertical-align: middle;\n",
       "    }\n",
       "\n",
       "    .dataframe tbody tr th {\n",
       "        vertical-align: top;\n",
       "    }\n",
       "\n",
       "    .dataframe thead th {\n",
       "        text-align: right;\n",
       "    }\n",
       "</style>\n",
       "<table border=\"1\" class=\"dataframe\">\n",
       "  <thead>\n",
       "    <tr style=\"text-align: right;\">\n",
       "      <th></th>\n",
       "      <th>LIMIT_BAL</th>\n",
       "      <th>SEX</th>\n",
       "      <th>EDUCATION</th>\n",
       "      <th>MARRIAGE</th>\n",
       "      <th>AGE</th>\n",
       "      <th>PAY_0</th>\n",
       "      <th>PAY_2</th>\n",
       "      <th>PAY_3</th>\n",
       "      <th>PAY_4</th>\n",
       "      <th>PAY_5</th>\n",
       "      <th>...</th>\n",
       "      <th>BILL_AMT4</th>\n",
       "      <th>BILL_AMT5</th>\n",
       "      <th>BILL_AMT6</th>\n",
       "      <th>PAY_AMT1</th>\n",
       "      <th>PAY_AMT2</th>\n",
       "      <th>PAY_AMT3</th>\n",
       "      <th>PAY_AMT4</th>\n",
       "      <th>PAY_AMT5</th>\n",
       "      <th>PAY_AMT6</th>\n",
       "      <th>default payment next month</th>\n",
       "    </tr>\n",
       "  </thead>\n",
       "  <tbody>\n",
       "    <tr>\n",
       "      <th>0</th>\n",
       "      <td>20000</td>\n",
       "      <td>2</td>\n",
       "      <td>2</td>\n",
       "      <td>1</td>\n",
       "      <td>24</td>\n",
       "      <td>2</td>\n",
       "      <td>2</td>\n",
       "      <td>-1</td>\n",
       "      <td>-1</td>\n",
       "      <td>-2</td>\n",
       "      <td>...</td>\n",
       "      <td>0</td>\n",
       "      <td>0</td>\n",
       "      <td>0</td>\n",
       "      <td>0</td>\n",
       "      <td>689</td>\n",
       "      <td>0</td>\n",
       "      <td>0</td>\n",
       "      <td>0</td>\n",
       "      <td>0</td>\n",
       "      <td>1</td>\n",
       "    </tr>\n",
       "    <tr>\n",
       "      <th>1</th>\n",
       "      <td>120000</td>\n",
       "      <td>2</td>\n",
       "      <td>2</td>\n",
       "      <td>2</td>\n",
       "      <td>26</td>\n",
       "      <td>-1</td>\n",
       "      <td>2</td>\n",
       "      <td>0</td>\n",
       "      <td>0</td>\n",
       "      <td>0</td>\n",
       "      <td>...</td>\n",
       "      <td>3272</td>\n",
       "      <td>3455</td>\n",
       "      <td>3261</td>\n",
       "      <td>0</td>\n",
       "      <td>1000</td>\n",
       "      <td>1000</td>\n",
       "      <td>1000</td>\n",
       "      <td>0</td>\n",
       "      <td>2000</td>\n",
       "      <td>1</td>\n",
       "    </tr>\n",
       "    <tr>\n",
       "      <th>2</th>\n",
       "      <td>90000</td>\n",
       "      <td>2</td>\n",
       "      <td>2</td>\n",
       "      <td>2</td>\n",
       "      <td>34</td>\n",
       "      <td>0</td>\n",
       "      <td>0</td>\n",
       "      <td>0</td>\n",
       "      <td>0</td>\n",
       "      <td>0</td>\n",
       "      <td>...</td>\n",
       "      <td>14331</td>\n",
       "      <td>14948</td>\n",
       "      <td>15549</td>\n",
       "      <td>1518</td>\n",
       "      <td>1500</td>\n",
       "      <td>1000</td>\n",
       "      <td>1000</td>\n",
       "      <td>1000</td>\n",
       "      <td>5000</td>\n",
       "      <td>0</td>\n",
       "    </tr>\n",
       "    <tr>\n",
       "      <th>3</th>\n",
       "      <td>50000</td>\n",
       "      <td>2</td>\n",
       "      <td>2</td>\n",
       "      <td>1</td>\n",
       "      <td>37</td>\n",
       "      <td>0</td>\n",
       "      <td>0</td>\n",
       "      <td>0</td>\n",
       "      <td>0</td>\n",
       "      <td>0</td>\n",
       "      <td>...</td>\n",
       "      <td>28314</td>\n",
       "      <td>28959</td>\n",
       "      <td>29547</td>\n",
       "      <td>2000</td>\n",
       "      <td>2019</td>\n",
       "      <td>1200</td>\n",
       "      <td>1100</td>\n",
       "      <td>1069</td>\n",
       "      <td>1000</td>\n",
       "      <td>0</td>\n",
       "    </tr>\n",
       "    <tr>\n",
       "      <th>4</th>\n",
       "      <td>50000</td>\n",
       "      <td>1</td>\n",
       "      <td>2</td>\n",
       "      <td>1</td>\n",
       "      <td>57</td>\n",
       "      <td>-1</td>\n",
       "      <td>0</td>\n",
       "      <td>-1</td>\n",
       "      <td>0</td>\n",
       "      <td>0</td>\n",
       "      <td>...</td>\n",
       "      <td>20940</td>\n",
       "      <td>19146</td>\n",
       "      <td>19131</td>\n",
       "      <td>2000</td>\n",
       "      <td>36681</td>\n",
       "      <td>10000</td>\n",
       "      <td>9000</td>\n",
       "      <td>689</td>\n",
       "      <td>679</td>\n",
       "      <td>0</td>\n",
       "    </tr>\n",
       "    <tr>\n",
       "      <th>...</th>\n",
       "      <td>...</td>\n",
       "      <td>...</td>\n",
       "      <td>...</td>\n",
       "      <td>...</td>\n",
       "      <td>...</td>\n",
       "      <td>...</td>\n",
       "      <td>...</td>\n",
       "      <td>...</td>\n",
       "      <td>...</td>\n",
       "      <td>...</td>\n",
       "      <td>...</td>\n",
       "      <td>...</td>\n",
       "      <td>...</td>\n",
       "      <td>...</td>\n",
       "      <td>...</td>\n",
       "      <td>...</td>\n",
       "      <td>...</td>\n",
       "      <td>...</td>\n",
       "      <td>...</td>\n",
       "      <td>...</td>\n",
       "      <td>...</td>\n",
       "    </tr>\n",
       "    <tr>\n",
       "      <th>29995</th>\n",
       "      <td>220000</td>\n",
       "      <td>1</td>\n",
       "      <td>3</td>\n",
       "      <td>1</td>\n",
       "      <td>39</td>\n",
       "      <td>0</td>\n",
       "      <td>0</td>\n",
       "      <td>0</td>\n",
       "      <td>0</td>\n",
       "      <td>0</td>\n",
       "      <td>...</td>\n",
       "      <td>88004</td>\n",
       "      <td>31237</td>\n",
       "      <td>15980</td>\n",
       "      <td>8500</td>\n",
       "      <td>20000</td>\n",
       "      <td>5003</td>\n",
       "      <td>3047</td>\n",
       "      <td>5000</td>\n",
       "      <td>1000</td>\n",
       "      <td>0</td>\n",
       "    </tr>\n",
       "    <tr>\n",
       "      <th>29996</th>\n",
       "      <td>150000</td>\n",
       "      <td>1</td>\n",
       "      <td>3</td>\n",
       "      <td>2</td>\n",
       "      <td>43</td>\n",
       "      <td>-1</td>\n",
       "      <td>-1</td>\n",
       "      <td>-1</td>\n",
       "      <td>-1</td>\n",
       "      <td>0</td>\n",
       "      <td>...</td>\n",
       "      <td>8979</td>\n",
       "      <td>5190</td>\n",
       "      <td>0</td>\n",
       "      <td>1837</td>\n",
       "      <td>3526</td>\n",
       "      <td>8998</td>\n",
       "      <td>129</td>\n",
       "      <td>0</td>\n",
       "      <td>0</td>\n",
       "      <td>0</td>\n",
       "    </tr>\n",
       "    <tr>\n",
       "      <th>29997</th>\n",
       "      <td>30000</td>\n",
       "      <td>1</td>\n",
       "      <td>2</td>\n",
       "      <td>2</td>\n",
       "      <td>37</td>\n",
       "      <td>4</td>\n",
       "      <td>3</td>\n",
       "      <td>2</td>\n",
       "      <td>-1</td>\n",
       "      <td>0</td>\n",
       "      <td>...</td>\n",
       "      <td>20878</td>\n",
       "      <td>20582</td>\n",
       "      <td>19357</td>\n",
       "      <td>0</td>\n",
       "      <td>0</td>\n",
       "      <td>22000</td>\n",
       "      <td>4200</td>\n",
       "      <td>2000</td>\n",
       "      <td>3100</td>\n",
       "      <td>1</td>\n",
       "    </tr>\n",
       "    <tr>\n",
       "      <th>29998</th>\n",
       "      <td>80000</td>\n",
       "      <td>1</td>\n",
       "      <td>3</td>\n",
       "      <td>1</td>\n",
       "      <td>41</td>\n",
       "      <td>1</td>\n",
       "      <td>-1</td>\n",
       "      <td>0</td>\n",
       "      <td>0</td>\n",
       "      <td>0</td>\n",
       "      <td>...</td>\n",
       "      <td>52774</td>\n",
       "      <td>11855</td>\n",
       "      <td>48944</td>\n",
       "      <td>85900</td>\n",
       "      <td>3409</td>\n",
       "      <td>1178</td>\n",
       "      <td>1926</td>\n",
       "      <td>52964</td>\n",
       "      <td>1804</td>\n",
       "      <td>1</td>\n",
       "    </tr>\n",
       "    <tr>\n",
       "      <th>29999</th>\n",
       "      <td>50000</td>\n",
       "      <td>1</td>\n",
       "      <td>2</td>\n",
       "      <td>1</td>\n",
       "      <td>46</td>\n",
       "      <td>0</td>\n",
       "      <td>0</td>\n",
       "      <td>0</td>\n",
       "      <td>0</td>\n",
       "      <td>0</td>\n",
       "      <td>...</td>\n",
       "      <td>36535</td>\n",
       "      <td>32428</td>\n",
       "      <td>15313</td>\n",
       "      <td>2078</td>\n",
       "      <td>1800</td>\n",
       "      <td>1430</td>\n",
       "      <td>1000</td>\n",
       "      <td>1000</td>\n",
       "      <td>1000</td>\n",
       "      <td>1</td>\n",
       "    </tr>\n",
       "  </tbody>\n",
       "</table>\n",
       "<p>30000 rows × 24 columns</p>\n",
       "</div>"
      ],
      "text/plain": [
       "       LIMIT_BAL  SEX  EDUCATION  MARRIAGE  AGE  PAY_0  PAY_2  PAY_3  PAY_4  \\\n",
       "0          20000    2          2         1   24      2      2     -1     -1   \n",
       "1         120000    2          2         2   26     -1      2      0      0   \n",
       "2          90000    2          2         2   34      0      0      0      0   \n",
       "3          50000    2          2         1   37      0      0      0      0   \n",
       "4          50000    1          2         1   57     -1      0     -1      0   \n",
       "...          ...  ...        ...       ...  ...    ...    ...    ...    ...   \n",
       "29995     220000    1          3         1   39      0      0      0      0   \n",
       "29996     150000    1          3         2   43     -1     -1     -1     -1   \n",
       "29997      30000    1          2         2   37      4      3      2     -1   \n",
       "29998      80000    1          3         1   41      1     -1      0      0   \n",
       "29999      50000    1          2         1   46      0      0      0      0   \n",
       "\n",
       "       PAY_5  ...  BILL_AMT4  BILL_AMT5  BILL_AMT6  PAY_AMT1  PAY_AMT2  \\\n",
       "0         -2  ...          0          0          0         0       689   \n",
       "1          0  ...       3272       3455       3261         0      1000   \n",
       "2          0  ...      14331      14948      15549      1518      1500   \n",
       "3          0  ...      28314      28959      29547      2000      2019   \n",
       "4          0  ...      20940      19146      19131      2000     36681   \n",
       "...      ...  ...        ...        ...        ...       ...       ...   \n",
       "29995      0  ...      88004      31237      15980      8500     20000   \n",
       "29996      0  ...       8979       5190          0      1837      3526   \n",
       "29997      0  ...      20878      20582      19357         0         0   \n",
       "29998      0  ...      52774      11855      48944     85900      3409   \n",
       "29999      0  ...      36535      32428      15313      2078      1800   \n",
       "\n",
       "       PAY_AMT3  PAY_AMT4  PAY_AMT5  PAY_AMT6  default payment next month  \n",
       "0             0         0         0         0                           1  \n",
       "1          1000      1000         0      2000                           1  \n",
       "2          1000      1000      1000      5000                           0  \n",
       "3          1200      1100      1069      1000                           0  \n",
       "4         10000      9000       689       679                           0  \n",
       "...         ...       ...       ...       ...                         ...  \n",
       "29995      5003      3047      5000      1000                           0  \n",
       "29996      8998       129         0         0                           0  \n",
       "29997     22000      4200      2000      3100                           1  \n",
       "29998      1178      1926     52964      1804                           1  \n",
       "29999      1430      1000      1000      1000                           1  \n",
       "\n",
       "[30000 rows x 24 columns]"
      ]
     },
     "execution_count": 60,
     "metadata": {},
     "output_type": "execute_result"
    }
   ],
   "source": [
    "# 첫 행 제거, ID 제거\n",
    "df = pd.read_excel('C:/k_digital/source/data/default_of_credit_card_clients.xls', header = 1)\n",
    "df = df.drop('ID', axis = 1)\n",
    "df"
   ]
  },
  {
   "cell_type": "code",
   "execution_count": 62,
   "id": "b522a65b",
   "metadata": {
    "ExecuteTime": {
     "end_time": "2022-11-11T02:40:33.965310Z",
     "start_time": "2022-11-11T02:40:33.953343Z"
    }
   },
   "outputs": [
    {
     "data": {
      "text/plain": [
       "(30000, 24)"
      ]
     },
     "execution_count": 62,
     "metadata": {},
     "output_type": "execute_result"
    }
   ],
   "source": [
    "df.shape"
   ]
  },
  {
   "cell_type": "markdown",
   "id": "b00628b6",
   "metadata": {},
   "source": [
    "- target : default ~, 다음달 연체 여부를 의미(0:정상납부, 1:연체)\n",
    "- PAY_0 => PAY_1"
   ]
  },
  {
   "cell_type": "code",
   "execution_count": 63,
   "id": "23b2b3c1",
   "metadata": {
    "ExecuteTime": {
     "end_time": "2022-11-11T02:47:41.553489Z",
     "start_time": "2022-11-11T02:47:41.535537Z"
    }
   },
   "outputs": [],
   "source": [
    "# 컬럼명 변경\n",
    "df.rename(columns = {'PAY_0':'PAY_1', 'default payment next month':'default'}, inplace = True)"
   ]
  },
  {
   "cell_type": "code",
   "execution_count": 64,
   "id": "7d550275",
   "metadata": {
    "ExecuteTime": {
     "end_time": "2022-11-11T02:48:26.716720Z",
     "start_time": "2022-11-11T02:48:26.702756Z"
    }
   },
   "outputs": [],
   "source": [
    "X_features = df.drop('default', axis = 1)\n",
    "y_target = df['default']"
   ]
  },
  {
   "cell_type": "code",
   "execution_count": 65,
   "id": "814bc276",
   "metadata": {
    "ExecuteTime": {
     "end_time": "2022-11-11T02:48:31.191595Z",
     "start_time": "2022-11-11T02:48:31.159688Z"
    }
   },
   "outputs": [
    {
     "data": {
      "text/html": [
       "<div>\n",
       "<style scoped>\n",
       "    .dataframe tbody tr th:only-of-type {\n",
       "        vertical-align: middle;\n",
       "    }\n",
       "\n",
       "    .dataframe tbody tr th {\n",
       "        vertical-align: top;\n",
       "    }\n",
       "\n",
       "    .dataframe thead th {\n",
       "        text-align: right;\n",
       "    }\n",
       "</style>\n",
       "<table border=\"1\" class=\"dataframe\">\n",
       "  <thead>\n",
       "    <tr style=\"text-align: right;\">\n",
       "      <th></th>\n",
       "      <th>LIMIT_BAL</th>\n",
       "      <th>SEX</th>\n",
       "      <th>EDUCATION</th>\n",
       "      <th>MARRIAGE</th>\n",
       "      <th>AGE</th>\n",
       "      <th>PAY_1</th>\n",
       "      <th>PAY_2</th>\n",
       "      <th>PAY_3</th>\n",
       "      <th>PAY_4</th>\n",
       "      <th>PAY_5</th>\n",
       "      <th>...</th>\n",
       "      <th>BILL_AMT3</th>\n",
       "      <th>BILL_AMT4</th>\n",
       "      <th>BILL_AMT5</th>\n",
       "      <th>BILL_AMT6</th>\n",
       "      <th>PAY_AMT1</th>\n",
       "      <th>PAY_AMT2</th>\n",
       "      <th>PAY_AMT3</th>\n",
       "      <th>PAY_AMT4</th>\n",
       "      <th>PAY_AMT5</th>\n",
       "      <th>PAY_AMT6</th>\n",
       "    </tr>\n",
       "  </thead>\n",
       "  <tbody>\n",
       "    <tr>\n",
       "      <th>0</th>\n",
       "      <td>20000</td>\n",
       "      <td>2</td>\n",
       "      <td>2</td>\n",
       "      <td>1</td>\n",
       "      <td>24</td>\n",
       "      <td>2</td>\n",
       "      <td>2</td>\n",
       "      <td>-1</td>\n",
       "      <td>-1</td>\n",
       "      <td>-2</td>\n",
       "      <td>...</td>\n",
       "      <td>689</td>\n",
       "      <td>0</td>\n",
       "      <td>0</td>\n",
       "      <td>0</td>\n",
       "      <td>0</td>\n",
       "      <td>689</td>\n",
       "      <td>0</td>\n",
       "      <td>0</td>\n",
       "      <td>0</td>\n",
       "      <td>0</td>\n",
       "    </tr>\n",
       "    <tr>\n",
       "      <th>1</th>\n",
       "      <td>120000</td>\n",
       "      <td>2</td>\n",
       "      <td>2</td>\n",
       "      <td>2</td>\n",
       "      <td>26</td>\n",
       "      <td>-1</td>\n",
       "      <td>2</td>\n",
       "      <td>0</td>\n",
       "      <td>0</td>\n",
       "      <td>0</td>\n",
       "      <td>...</td>\n",
       "      <td>2682</td>\n",
       "      <td>3272</td>\n",
       "      <td>3455</td>\n",
       "      <td>3261</td>\n",
       "      <td>0</td>\n",
       "      <td>1000</td>\n",
       "      <td>1000</td>\n",
       "      <td>1000</td>\n",
       "      <td>0</td>\n",
       "      <td>2000</td>\n",
       "    </tr>\n",
       "    <tr>\n",
       "      <th>2</th>\n",
       "      <td>90000</td>\n",
       "      <td>2</td>\n",
       "      <td>2</td>\n",
       "      <td>2</td>\n",
       "      <td>34</td>\n",
       "      <td>0</td>\n",
       "      <td>0</td>\n",
       "      <td>0</td>\n",
       "      <td>0</td>\n",
       "      <td>0</td>\n",
       "      <td>...</td>\n",
       "      <td>13559</td>\n",
       "      <td>14331</td>\n",
       "      <td>14948</td>\n",
       "      <td>15549</td>\n",
       "      <td>1518</td>\n",
       "      <td>1500</td>\n",
       "      <td>1000</td>\n",
       "      <td>1000</td>\n",
       "      <td>1000</td>\n",
       "      <td>5000</td>\n",
       "    </tr>\n",
       "    <tr>\n",
       "      <th>3</th>\n",
       "      <td>50000</td>\n",
       "      <td>2</td>\n",
       "      <td>2</td>\n",
       "      <td>1</td>\n",
       "      <td>37</td>\n",
       "      <td>0</td>\n",
       "      <td>0</td>\n",
       "      <td>0</td>\n",
       "      <td>0</td>\n",
       "      <td>0</td>\n",
       "      <td>...</td>\n",
       "      <td>49291</td>\n",
       "      <td>28314</td>\n",
       "      <td>28959</td>\n",
       "      <td>29547</td>\n",
       "      <td>2000</td>\n",
       "      <td>2019</td>\n",
       "      <td>1200</td>\n",
       "      <td>1100</td>\n",
       "      <td>1069</td>\n",
       "      <td>1000</td>\n",
       "    </tr>\n",
       "    <tr>\n",
       "      <th>4</th>\n",
       "      <td>50000</td>\n",
       "      <td>1</td>\n",
       "      <td>2</td>\n",
       "      <td>1</td>\n",
       "      <td>57</td>\n",
       "      <td>-1</td>\n",
       "      <td>0</td>\n",
       "      <td>-1</td>\n",
       "      <td>0</td>\n",
       "      <td>0</td>\n",
       "      <td>...</td>\n",
       "      <td>35835</td>\n",
       "      <td>20940</td>\n",
       "      <td>19146</td>\n",
       "      <td>19131</td>\n",
       "      <td>2000</td>\n",
       "      <td>36681</td>\n",
       "      <td>10000</td>\n",
       "      <td>9000</td>\n",
       "      <td>689</td>\n",
       "      <td>679</td>\n",
       "    </tr>\n",
       "    <tr>\n",
       "      <th>...</th>\n",
       "      <td>...</td>\n",
       "      <td>...</td>\n",
       "      <td>...</td>\n",
       "      <td>...</td>\n",
       "      <td>...</td>\n",
       "      <td>...</td>\n",
       "      <td>...</td>\n",
       "      <td>...</td>\n",
       "      <td>...</td>\n",
       "      <td>...</td>\n",
       "      <td>...</td>\n",
       "      <td>...</td>\n",
       "      <td>...</td>\n",
       "      <td>...</td>\n",
       "      <td>...</td>\n",
       "      <td>...</td>\n",
       "      <td>...</td>\n",
       "      <td>...</td>\n",
       "      <td>...</td>\n",
       "      <td>...</td>\n",
       "      <td>...</td>\n",
       "    </tr>\n",
       "    <tr>\n",
       "      <th>29995</th>\n",
       "      <td>220000</td>\n",
       "      <td>1</td>\n",
       "      <td>3</td>\n",
       "      <td>1</td>\n",
       "      <td>39</td>\n",
       "      <td>0</td>\n",
       "      <td>0</td>\n",
       "      <td>0</td>\n",
       "      <td>0</td>\n",
       "      <td>0</td>\n",
       "      <td>...</td>\n",
       "      <td>208365</td>\n",
       "      <td>88004</td>\n",
       "      <td>31237</td>\n",
       "      <td>15980</td>\n",
       "      <td>8500</td>\n",
       "      <td>20000</td>\n",
       "      <td>5003</td>\n",
       "      <td>3047</td>\n",
       "      <td>5000</td>\n",
       "      <td>1000</td>\n",
       "    </tr>\n",
       "    <tr>\n",
       "      <th>29996</th>\n",
       "      <td>150000</td>\n",
       "      <td>1</td>\n",
       "      <td>3</td>\n",
       "      <td>2</td>\n",
       "      <td>43</td>\n",
       "      <td>-1</td>\n",
       "      <td>-1</td>\n",
       "      <td>-1</td>\n",
       "      <td>-1</td>\n",
       "      <td>0</td>\n",
       "      <td>...</td>\n",
       "      <td>3502</td>\n",
       "      <td>8979</td>\n",
       "      <td>5190</td>\n",
       "      <td>0</td>\n",
       "      <td>1837</td>\n",
       "      <td>3526</td>\n",
       "      <td>8998</td>\n",
       "      <td>129</td>\n",
       "      <td>0</td>\n",
       "      <td>0</td>\n",
       "    </tr>\n",
       "    <tr>\n",
       "      <th>29997</th>\n",
       "      <td>30000</td>\n",
       "      <td>1</td>\n",
       "      <td>2</td>\n",
       "      <td>2</td>\n",
       "      <td>37</td>\n",
       "      <td>4</td>\n",
       "      <td>3</td>\n",
       "      <td>2</td>\n",
       "      <td>-1</td>\n",
       "      <td>0</td>\n",
       "      <td>...</td>\n",
       "      <td>2758</td>\n",
       "      <td>20878</td>\n",
       "      <td>20582</td>\n",
       "      <td>19357</td>\n",
       "      <td>0</td>\n",
       "      <td>0</td>\n",
       "      <td>22000</td>\n",
       "      <td>4200</td>\n",
       "      <td>2000</td>\n",
       "      <td>3100</td>\n",
       "    </tr>\n",
       "    <tr>\n",
       "      <th>29998</th>\n",
       "      <td>80000</td>\n",
       "      <td>1</td>\n",
       "      <td>3</td>\n",
       "      <td>1</td>\n",
       "      <td>41</td>\n",
       "      <td>1</td>\n",
       "      <td>-1</td>\n",
       "      <td>0</td>\n",
       "      <td>0</td>\n",
       "      <td>0</td>\n",
       "      <td>...</td>\n",
       "      <td>76304</td>\n",
       "      <td>52774</td>\n",
       "      <td>11855</td>\n",
       "      <td>48944</td>\n",
       "      <td>85900</td>\n",
       "      <td>3409</td>\n",
       "      <td>1178</td>\n",
       "      <td>1926</td>\n",
       "      <td>52964</td>\n",
       "      <td>1804</td>\n",
       "    </tr>\n",
       "    <tr>\n",
       "      <th>29999</th>\n",
       "      <td>50000</td>\n",
       "      <td>1</td>\n",
       "      <td>2</td>\n",
       "      <td>1</td>\n",
       "      <td>46</td>\n",
       "      <td>0</td>\n",
       "      <td>0</td>\n",
       "      <td>0</td>\n",
       "      <td>0</td>\n",
       "      <td>0</td>\n",
       "      <td>...</td>\n",
       "      <td>49764</td>\n",
       "      <td>36535</td>\n",
       "      <td>32428</td>\n",
       "      <td>15313</td>\n",
       "      <td>2078</td>\n",
       "      <td>1800</td>\n",
       "      <td>1430</td>\n",
       "      <td>1000</td>\n",
       "      <td>1000</td>\n",
       "      <td>1000</td>\n",
       "    </tr>\n",
       "  </tbody>\n",
       "</table>\n",
       "<p>30000 rows × 23 columns</p>\n",
       "</div>"
      ],
      "text/plain": [
       "       LIMIT_BAL  SEX  EDUCATION  MARRIAGE  AGE  PAY_1  PAY_2  PAY_3  PAY_4  \\\n",
       "0          20000    2          2         1   24      2      2     -1     -1   \n",
       "1         120000    2          2         2   26     -1      2      0      0   \n",
       "2          90000    2          2         2   34      0      0      0      0   \n",
       "3          50000    2          2         1   37      0      0      0      0   \n",
       "4          50000    1          2         1   57     -1      0     -1      0   \n",
       "...          ...  ...        ...       ...  ...    ...    ...    ...    ...   \n",
       "29995     220000    1          3         1   39      0      0      0      0   \n",
       "29996     150000    1          3         2   43     -1     -1     -1     -1   \n",
       "29997      30000    1          2         2   37      4      3      2     -1   \n",
       "29998      80000    1          3         1   41      1     -1      0      0   \n",
       "29999      50000    1          2         1   46      0      0      0      0   \n",
       "\n",
       "       PAY_5  ...  BILL_AMT3  BILL_AMT4  BILL_AMT5  BILL_AMT6  PAY_AMT1  \\\n",
       "0         -2  ...        689          0          0          0         0   \n",
       "1          0  ...       2682       3272       3455       3261         0   \n",
       "2          0  ...      13559      14331      14948      15549      1518   \n",
       "3          0  ...      49291      28314      28959      29547      2000   \n",
       "4          0  ...      35835      20940      19146      19131      2000   \n",
       "...      ...  ...        ...        ...        ...        ...       ...   \n",
       "29995      0  ...     208365      88004      31237      15980      8500   \n",
       "29996      0  ...       3502       8979       5190          0      1837   \n",
       "29997      0  ...       2758      20878      20582      19357         0   \n",
       "29998      0  ...      76304      52774      11855      48944     85900   \n",
       "29999      0  ...      49764      36535      32428      15313      2078   \n",
       "\n",
       "       PAY_AMT2  PAY_AMT3  PAY_AMT4  PAY_AMT5  PAY_AMT6  \n",
       "0           689         0         0         0         0  \n",
       "1          1000      1000      1000         0      2000  \n",
       "2          1500      1000      1000      1000      5000  \n",
       "3          2019      1200      1100      1069      1000  \n",
       "4         36681     10000      9000       689       679  \n",
       "...         ...       ...       ...       ...       ...  \n",
       "29995     20000      5003      3047      5000      1000  \n",
       "29996      3526      8998       129         0         0  \n",
       "29997         0     22000      4200      2000      3100  \n",
       "29998      3409      1178      1926     52964      1804  \n",
       "29999      1800      1430      1000      1000      1000  \n",
       "\n",
       "[30000 rows x 23 columns]"
      ]
     },
     "execution_count": 65,
     "metadata": {},
     "output_type": "execute_result"
    }
   ],
   "source": [
    "X_features"
   ]
  },
  {
   "cell_type": "code",
   "execution_count": 81,
   "id": "84320dac",
   "metadata": {
    "ExecuteTime": {
     "end_time": "2022-11-11T03:00:19.714954Z",
     "start_time": "2022-11-11T03:00:19.355652Z"
    }
   },
   "outputs": [
    {
     "data": {
      "image/png": "[encoded data removed]",
      "text/plain": [
       "<Figure size 1080x864 with 2 Axes>"
      ]
     },
     "metadata": {
      "image/png": {
       "height": 694,
       "width": 827
      }
     },
     "output_type": "display_data"
    }
   ],
   "source": [
    "# 컬럼 BILL_AMT1 ~ BILL_AMT6 \n",
    "# 피처선택 : 불필요한 피처 제거\n",
    "cols_bill = ['BILL_AMT' + str(i) for i in range(1, 7)]\n",
    "\n",
    "# 피처 상관관계\n",
    "corr = X_features[cols_bill].corr()\n",
    "plt.figure(figsize = (15, 12))\n",
    "sns.heatmap(corr, annot = True, fmt = '.1f', cmap='BuPu')\n",
    "plt.rc('font', size = 20)\n",
    "plt.show()"
   ]
  },
  {
   "cell_type": "code",
   "execution_count": 91,
   "id": "b68e2e8a",
   "metadata": {
    "ExecuteTime": {
     "end_time": "2022-11-11T03:15:22.302953Z",
     "start_time": "2022-11-11T03:15:22.248101Z"
    }
   },
   "outputs": [
    {
     "name": "stdout",
     "output_type": "stream",
     "text": [
      "PCA Component별 변동성 : [0.90555253 0.0509867 ]\n"
     ]
    }
   ],
   "source": [
    "# 피처 스케일링\n",
    "scaler = StandardScaler()\n",
    "df_cols_scaled = scaler.fit_transform(X_features[cols_bill])\n",
    "\n",
    "# 차원축소 = 2\n",
    "pca = PCA(n_components = 2)\n",
    "pca.fit(df_cols_scaled)\n",
    "df_pca = pca.transform(df_cols_scaled)\n",
    "\n",
    "# 변동비율\n",
    "print('PCA Component별 변동성 :', pca.explained_variance_ratio_)"
   ]
  },
  {
   "cell_type": "markdown",
   "id": "acb369bb",
   "metadata": {},
   "source": [
    "## PCA 변환 전/후 분류"
   ]
  },
  {
   "cell_type": "code",
   "execution_count": 98,
   "id": "42963aac",
   "metadata": {
    "ExecuteTime": {
     "end_time": "2022-11-11T03:20:31.481989Z",
     "start_time": "2022-11-11T03:19:51.357660Z"
    }
   },
   "outputs": [
    {
     "name": "stdout",
     "output_type": "stream",
     "text": [
      "원본 데이터 fold별 정확도 : [0.8072 0.8207 0.8222]\n",
      "원본 데이터 평균 정확도 : 0.8167\n"
     ]
    }
   ],
   "source": [
    "# PCA 변환 전 \n",
    "\n",
    "# 분류 모델 : 랜덤포레스트\n",
    "rcf = RandomForestClassifier(n_estimators = 300, random_state = 2022)\n",
    ", \n",
    "# 교차검증\n",
    "scores = cross_val_score(rcf, X_features, \n",
    "                         df['default'], scoring = 'accuracy', cv = 3)\n",
    "\n",
    "# 정확도\n",
    "print(f'원본 데이터 fold별 정확도 : {scores}')\n",
    "print(f'원본 데이터 평균 정확도 : {np.mean(scores):.4f}')"
   ]
  },
  {
   "cell_type": "code",
   "execution_count": 100,
   "id": "ba53bef0",
   "metadata": {
    "ExecuteTime": {
     "end_time": "2022-11-11T05:18:42.098916Z",
     "start_time": "2022-11-11T05:18:03.130521Z"
    }
   },
   "outputs": [
    {
     "name": "stdout",
     "output_type": "stream",
     "text": [
      "원본 데이터 fold별 정확도 : [0.7903 0.7982 0.8011]\n",
      "원본 데이터 평균 정확도 : 0.7965\n",
      "PCA Component별 변동성 : [0.28448215 0.17818817 0.06743307 0.06401154 0.04457556 0.04161726]\n"
     ]
    }
   ],
   "source": [
    "# PCA 변환 후 \n",
    "\n",
    "# 피처 스케일링\n",
    "scaler = StandardScaler()\n",
    "df_scaled = scaler.fit_transform(X_features)\n",
    "\n",
    "# 차원축소 = 6\n",
    "pca = PCA(n_components = 6)\n",
    "df_pca = pca.fit_transform(df_scaled)\n",
    "\n",
    "# 분류 모델 : 랜덤포레스트\n",
    "rcf = RandomForestClassifier(n_estimators = 300, random_state = 2022)\n",
    "\n",
    "# 교차검증\n",
    "pca_scores = cross_val_score(rcf, df_pca, \n",
    "                         df['default'], scoring = 'accuracy', cv = 3)\n",
    "\n",
    "# 정확도\n",
    "print(f'원본 데이터 fold별 정확도 : {pca_scores}')\n",
    "print(f'원본 데이터 평균 정확도 : {np.mean(pca_scores):.4f}')\n",
    "print('PCA Component별 변동성 :', pca.explained_variance_ratio_)"
   ]
  },
  {
   "cell_type": "code",
   "execution_count": null,
   "id": "df3926df",
   "metadata": {},
   "outputs": [],
   "source": []
  },
  {
   "cell_type": "code",
   "execution_count": null,
   "id": "069ed2ad",
   "metadata": {},
   "outputs": [],
   "source": []
  },
  {
   "cell_type": "code",
   "execution_count": null,
   "id": "b5269aa7",
   "metadata": {},
   "outputs": [],
   "source": []
  }
 ],
 "metadata": {
  "kernelspec": {
   "display_name": "Python 3 (ipykernel)",
   "language": "python",
   "name": "python3"
  },
  "language_info": {
   "codemirror_mode": {
    "name": "ipython",
    "version": 3
   },
   "file_extension": ".py",
   "mimetype": "text/x-python",
   "name": "python",
   "nbconvert_exporter": "python",
   "pygments_lexer": "ipython3",
   "version": "3.9.7"
  },
  "toc": {
   "base_numbering": 1,
   "nav_menu": {},
   "number_sections": true,
   "sideBar": true,
   "skip_h1_title": false,
   "title_cell": "Table of Contents",
   "title_sidebar": "Contents",
   "toc_cell": false,
   "toc_position": {},
   "toc_section_display": true,
   "toc_window_display": false
  },
  "varInspector": {
   "cols": {
    "lenName": 16,
    "lenType": 16,
    "lenVar": 40
   },
   "kernels_config": {
    "python": {
     "delete_cmd_postfix": "",
     "delete_cmd_prefix": "del ",
     "library": "var_list.py",
     "varRefreshCmd": "print(var_dic_list())"
    },
    "r": {
     "delete_cmd_postfix": ") ",
     "delete_cmd_prefix": "rm(",
     "library": "var_list.r",
     "varRefreshCmd": "cat(var_dic_list()) "
    }
   },
   "types_to_exclude": [
    "module",
    "function",
    "builtin_function_or_method",
    "instance",
    "_Feature"
   ],
   "window_display": false
  }
 },
 "nbformat": 4,
 "nbformat_minor": 5
}
