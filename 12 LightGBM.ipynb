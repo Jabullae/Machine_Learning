{
 "cells": [
  {
   "cell_type": "markdown",
   "id": "3f053d1e",
   "metadata": {},
   "source": [
    "# LightGBM"
   ]
  },
  {
   "cell_type": "markdown",
   "id": "240fe647",
   "metadata": {},
   "source": [
    "## LightGBM 장단점\n",
    "- XGB보다도 학습에 걸리는 시간이 훨씬 적으며 메모리 사용량도 상대적으로 적다.\n",
    "- 카테고리형 피처를 자동 변환하고, 예측 성능 역시 XGB와 큰 차이가 없다.\n",
    "- 데이터의 갯수가 적을 경우 과적합이 발생하기 쉽다.\n",
    "- 적은 데이터의 갯수에 대한 기준은 애매하지만 LightGBM의 공식문서에서 10,000건 이하라고 기술하였다."
   ]
  },
  {
   "cell_type": "markdown",
   "id": "4afdb1df",
   "metadata": {},
   "source": [
    "## 트리 기반 알고리즘 특징\n",
    "- 기존의 대부분 트리 기반 알고리즘은 트리의 깊이를 효과적으로 줄이기 위한 균형 트리 분할(Level Wise) 방식을 사용한다.\n",
    "- 최대한 균형 잡힌 트리를 유지하면서 분할하기 때문에 깊이가 최소화되며 과대적합에 보다 강한 구조를 가진다.\n",
    "- 하지만 균형을 맞추기 위한 시간이 오래 걸리는 단점이 있다."
   ]
  },
  {
   "cell_type": "markdown",
   "id": "190fe7f4",
   "metadata": {},
   "source": [
    "## LightGBM 특징\n",
    "- LightGBM은 일반 GBM 계열의 트리 분할 방법과 다르게 리프 중심 트리 분할(Leaf Wise) 방식을 사용한다.\n",
    "- 트리의 균형을 맞추지 않고 최대 손실값(max delta loss)을 가지는 리프 노드를 지속적으로 분할하여 깊이가 증가하고 비대치적인 트리를 생성한다.\n",
    "- 이렇게 생선된 트리는 학습을 반복할수록 결국은 균형 트리 분할 방식보다 예측 오류 손실을 최소화 할 수 있다는 것이 LightGBM의 구현 사상이다."
   ]
  },
  {
   "cell_type": "markdown",
   "id": "4bf4838b",
   "metadata": {},
   "source": [
    "# 필수 라이브러리 로딩"
   ]
  },
  {
   "cell_type": "code",
   "execution_count": 1,
   "id": "ae48d925",
   "metadata": {
    "ExecuteTime": {
     "end_time": "2022-11-10T05:41:38.905208Z",
     "start_time": "2022-11-10T05:41:37.775451Z"
    }
   },
   "outputs": [],
   "source": [
    "import numpy as np\n",
    "import pandas as pd\n",
    "\n",
    "import matplotlib.pyplot as plt\n",
    "import matplotlib as mpl\n",
    "import seaborn as sns\n",
    "\n",
    "import warnings\n",
    "from IPython.display import Image"
   ]
  },
  {
   "cell_type": "code",
   "execution_count": 2,
   "id": "703ec03a",
   "metadata": {
    "ExecuteTime": {
     "end_time": "2022-11-10T05:41:43.057757Z",
     "start_time": "2022-11-10T05:41:43.032798Z"
    }
   },
   "outputs": [],
   "source": [
    "%matplotlib inline\n",
    "%config InlineBackend.figure_format = 'retina'\n",
    "\n",
    "mpl.rc('font', family = 'D2coding')\n",
    "mpl.rc('axes', unicode_minus = False)\n",
    "\n",
    "sns.set_style('darkgrid')\n",
    "plt.rc('figure', figsize = (10, 8))\n",
    "\n",
    "warnings.filterwarnings('ignore')"
   ]
  },
  {
   "cell_type": "markdown",
   "id": "2a426d1a",
   "metadata": {},
   "source": [
    "# 데이터 로딩과 훈련세트와 테스트세트 분리"
   ]
  },
  {
   "cell_type": "code",
   "execution_count": 5,
   "id": "82533606",
   "metadata": {
    "ExecuteTime": {
     "end_time": "2022-11-10T05:46:21.727689Z",
     "start_time": "2022-11-10T05:46:20.633072Z"
    }
   },
   "outputs": [
    {
     "name": "stdout",
     "output_type": "stream",
     "text": [
      "(569, 30)\n",
      "(569,)\n"
     ]
    }
   ],
   "source": [
    "from lightgbm import LGBMClassifier\n",
    "from sklearn.datasets import load_breast_cancer\n",
    "from sklearn.model_selection import train_test_split\n",
    "\n",
    "X, y = load_breast_cancer(True)\n",
    "\n",
    "print(X.shape)\n",
    "print(y.shape)"
   ]
  },
  {
   "cell_type": "code",
   "execution_count": 15,
   "id": "ac314b17",
   "metadata": {
    "ExecuteTime": {
     "end_time": "2022-11-10T06:19:07.972308Z",
     "start_time": "2022-11-10T06:19:07.873940Z"
    }
   },
   "outputs": [
    {
     "name": "stdout",
     "output_type": "stream",
     "text": [
      "[1]\tvalid_0's binary_logloss: 0.565079\n",
      "Training until validation scores don't improve for 100 rounds\n",
      "[2]\tvalid_0's binary_logloss: 0.507451\n",
      "[3]\tvalid_0's binary_logloss: 0.458489\n",
      "[4]\tvalid_0's binary_logloss: 0.417481\n",
      "[5]\tvalid_0's binary_logloss: 0.385507\n",
      "[6]\tvalid_0's binary_logloss: 0.355773\n",
      "[7]\tvalid_0's binary_logloss: 0.329587\n",
      "[8]\tvalid_0's binary_logloss: 0.308478\n",
      "[9]\tvalid_0's binary_logloss: 0.285395\n",
      "[10]\tvalid_0's binary_logloss: 0.267055\n",
      "[11]\tvalid_0's binary_logloss: 0.252013\n",
      "[12]\tvalid_0's binary_logloss: 0.237018\n",
      "[13]\tvalid_0's binary_logloss: 0.224756\n",
      "[14]\tvalid_0's binary_logloss: 0.213383\n",
      "[15]\tvalid_0's binary_logloss: 0.203058\n",
      "[16]\tvalid_0's binary_logloss: 0.194015\n",
      "[17]\tvalid_0's binary_logloss: 0.186412\n",
      "[18]\tvalid_0's binary_logloss: 0.179108\n",
      "[19]\tvalid_0's binary_logloss: 0.174004\n",
      "[20]\tvalid_0's binary_logloss: 0.167155\n",
      "[21]\tvalid_0's binary_logloss: 0.162494\n",
      "[22]\tvalid_0's binary_logloss: 0.156886\n",
      "[23]\tvalid_0's binary_logloss: 0.152855\n",
      "[24]\tvalid_0's binary_logloss: 0.151113\n",
      "[25]\tvalid_0's binary_logloss: 0.148395\n",
      "[26]\tvalid_0's binary_logloss: 0.145869\n",
      "[27]\tvalid_0's binary_logloss: 0.143036\n",
      "[28]\tvalid_0's binary_logloss: 0.14033\n",
      "[29]\tvalid_0's binary_logloss: 0.139609\n",
      "[30]\tvalid_0's binary_logloss: 0.136109\n",
      "[31]\tvalid_0's binary_logloss: 0.134867\n",
      "[32]\tvalid_0's binary_logloss: 0.134729\n",
      "[33]\tvalid_0's binary_logloss: 0.1311\n",
      "[34]\tvalid_0's binary_logloss: 0.131143\n",
      "[35]\tvalid_0's binary_logloss: 0.129435\n",
      "[36]\tvalid_0's binary_logloss: 0.128474\n",
      "[37]\tvalid_0's binary_logloss: 0.126683\n",
      "[38]\tvalid_0's binary_logloss: 0.126112\n",
      "[39]\tvalid_0's binary_logloss: 0.122831\n",
      "[40]\tvalid_0's binary_logloss: 0.123162\n",
      "[41]\tvalid_0's binary_logloss: 0.125592\n",
      "[42]\tvalid_0's binary_logloss: 0.128293\n",
      "[43]\tvalid_0's binary_logloss: 0.128123\n",
      "[44]\tvalid_0's binary_logloss: 0.12789\n",
      "[45]\tvalid_0's binary_logloss: 0.122818\n",
      "[46]\tvalid_0's binary_logloss: 0.12496\n",
      "[47]\tvalid_0's binary_logloss: 0.125578\n",
      "[48]\tvalid_0's binary_logloss: 0.127381\n",
      "[49]\tvalid_0's binary_logloss: 0.128349\n",
      "[50]\tvalid_0's binary_logloss: 0.127004\n",
      "[51]\tvalid_0's binary_logloss: 0.130288\n",
      "[52]\tvalid_0's binary_logloss: 0.131362\n",
      "[53]\tvalid_0's binary_logloss: 0.133363\n",
      "[54]\tvalid_0's binary_logloss: 0.1332\n",
      "[55]\tvalid_0's binary_logloss: 0.134543\n",
      "[56]\tvalid_0's binary_logloss: 0.130803\n",
      "[57]\tvalid_0's binary_logloss: 0.130306\n",
      "[58]\tvalid_0's binary_logloss: 0.132514\n",
      "[59]\tvalid_0's binary_logloss: 0.133278\n",
      "[60]\tvalid_0's binary_logloss: 0.134804\n",
      "[61]\tvalid_0's binary_logloss: 0.136888\n",
      "[62]\tvalid_0's binary_logloss: 0.138745\n",
      "[63]\tvalid_0's binary_logloss: 0.140497\n",
      "[64]\tvalid_0's binary_logloss: 0.141368\n",
      "[65]\tvalid_0's binary_logloss: 0.140764\n",
      "[66]\tvalid_0's binary_logloss: 0.14348\n",
      "[67]\tvalid_0's binary_logloss: 0.143418\n",
      "[68]\tvalid_0's binary_logloss: 0.143682\n",
      "[69]\tvalid_0's binary_logloss: 0.145076\n",
      "[70]\tvalid_0's binary_logloss: 0.14686\n",
      "[71]\tvalid_0's binary_logloss: 0.148051\n",
      "[72]\tvalid_0's binary_logloss: 0.147664\n",
      "[73]\tvalid_0's binary_logloss: 0.149478\n",
      "[74]\tvalid_0's binary_logloss: 0.14708\n",
      "[75]\tvalid_0's binary_logloss: 0.14545\n",
      "[76]\tvalid_0's binary_logloss: 0.148767\n",
      "[77]\tvalid_0's binary_logloss: 0.149959\n",
      "[78]\tvalid_0's binary_logloss: 0.146083\n",
      "[79]\tvalid_0's binary_logloss: 0.14638\n",
      "[80]\tvalid_0's binary_logloss: 0.148461\n",
      "[81]\tvalid_0's binary_logloss: 0.15091\n",
      "[82]\tvalid_0's binary_logloss: 0.153011\n",
      "[83]\tvalid_0's binary_logloss: 0.154807\n",
      "[84]\tvalid_0's binary_logloss: 0.156501\n",
      "[85]\tvalid_0's binary_logloss: 0.158586\n",
      "[86]\tvalid_0's binary_logloss: 0.159819\n",
      "[87]\tvalid_0's binary_logloss: 0.161745\n",
      "[88]\tvalid_0's binary_logloss: 0.162829\n",
      "[89]\tvalid_0's binary_logloss: 0.159142\n",
      "[90]\tvalid_0's binary_logloss: 0.156765\n",
      "[91]\tvalid_0's binary_logloss: 0.158625\n",
      "[92]\tvalid_0's binary_logloss: 0.156832\n",
      "[93]\tvalid_0's binary_logloss: 0.154616\n",
      "[94]\tvalid_0's binary_logloss: 0.154263\n",
      "[95]\tvalid_0's binary_logloss: 0.157156\n",
      "[96]\tvalid_0's binary_logloss: 0.158617\n",
      "[97]\tvalid_0's binary_logloss: 0.157495\n",
      "[98]\tvalid_0's binary_logloss: 0.159413\n",
      "[99]\tvalid_0's binary_logloss: 0.15847\n",
      "[100]\tvalid_0's binary_logloss: 0.160746\n",
      "[101]\tvalid_0's binary_logloss: 0.16217\n",
      "[102]\tvalid_0's binary_logloss: 0.165293\n",
      "[103]\tvalid_0's binary_logloss: 0.164749\n",
      "[104]\tvalid_0's binary_logloss: 0.167097\n",
      "[105]\tvalid_0's binary_logloss: 0.167697\n",
      "[106]\tvalid_0's binary_logloss: 0.169462\n",
      "[107]\tvalid_0's binary_logloss: 0.169947\n",
      "[108]\tvalid_0's binary_logloss: 0.171\n",
      "[109]\tvalid_0's binary_logloss: 0.16907\n",
      "[110]\tvalid_0's binary_logloss: 0.169521\n",
      "[111]\tvalid_0's binary_logloss: 0.167719\n",
      "[112]\tvalid_0's binary_logloss: 0.166648\n",
      "[113]\tvalid_0's binary_logloss: 0.169053\n",
      "[114]\tvalid_0's binary_logloss: 0.169613\n",
      "[115]\tvalid_0's binary_logloss: 0.170059\n",
      "[116]\tvalid_0's binary_logloss: 0.1723\n",
      "[117]\tvalid_0's binary_logloss: 0.174733\n",
      "[118]\tvalid_0's binary_logloss: 0.173526\n",
      "[119]\tvalid_0's binary_logloss: 0.1751\n",
      "[120]\tvalid_0's binary_logloss: 0.178254\n",
      "[121]\tvalid_0's binary_logloss: 0.182968\n",
      "[122]\tvalid_0's binary_logloss: 0.179017\n",
      "[123]\tvalid_0's binary_logloss: 0.178326\n",
      "[124]\tvalid_0's binary_logloss: 0.177149\n",
      "[125]\tvalid_0's binary_logloss: 0.179171\n",
      "[126]\tvalid_0's binary_logloss: 0.180948\n",
      "[127]\tvalid_0's binary_logloss: 0.183861\n",
      "[128]\tvalid_0's binary_logloss: 0.187579\n",
      "[129]\tvalid_0's binary_logloss: 0.188122\n",
      "[130]\tvalid_0's binary_logloss: 0.1857\n",
      "[131]\tvalid_0's binary_logloss: 0.187442\n",
      "[132]\tvalid_0's binary_logloss: 0.188578\n",
      "[133]\tvalid_0's binary_logloss: 0.189729\n",
      "[134]\tvalid_0's binary_logloss: 0.187313\n",
      "[135]\tvalid_0's binary_logloss: 0.189279\n",
      "[136]\tvalid_0's binary_logloss: 0.191068\n",
      "[137]\tvalid_0's binary_logloss: 0.192414\n",
      "[138]\tvalid_0's binary_logloss: 0.191255\n",
      "[139]\tvalid_0's binary_logloss: 0.193453\n",
      "[140]\tvalid_0's binary_logloss: 0.196969\n",
      "[141]\tvalid_0's binary_logloss: 0.196378\n",
      "[142]\tvalid_0's binary_logloss: 0.196367\n",
      "[143]\tvalid_0's binary_logloss: 0.19869\n",
      "[144]\tvalid_0's binary_logloss: 0.200352\n",
      "[145]\tvalid_0's binary_logloss: 0.19712\n",
      "Early stopping, best iteration is:\n",
      "[45]\tvalid_0's binary_logloss: 0.122818\n"
     ]
    },
    {
     "data": {
      "text/plain": [
       "LGBMClassifier(n_estimators=4000)"
      ]
     },
     "execution_count": 15,
     "metadata": {},
     "output_type": "execute_result"
    }
   ],
   "source": [
    "X_train, X_test, y_train, y_test = train_test_split(X, y, test_size = 0.2, random_state = 156)\n",
    "\n",
    "evals = [(X_test, y_test)]\n",
    "\n",
    "# 학습\n",
    "lgbm = LGBMClassifier(n_estimators = 4000)\n",
    "lgbm.fit(X_train, y_train, early_stopping_rounds = 100, eval_metric = 'logloss', \n",
    "        eval_set = evals, verbose = True) # verbose는 출력값을 띄우는 파라미터"
   ]
  },
  {
   "cell_type": "markdown",
   "id": "aa92388d",
   "metadata": {},
   "source": [
    "## 예측과 평가"
   ]
  },
  {
   "cell_type": "code",
   "execution_count": 12,
   "id": "7d2837ed",
   "metadata": {
    "ExecuteTime": {
     "end_time": "2022-11-10T06:18:20.079021Z",
     "start_time": "2022-11-10T06:18:20.067071Z"
    }
   },
   "outputs": [],
   "source": [
    "from sklearn.model_selection import train_test_split\n",
    "from sklearn.metrics import accuracy_score, precision_score, recall_score, roc_auc_score\n",
    "from sklearn.metrics import f1_score, confusion_matrix, precision_recall_curve, roc_curve\n",
    "\n",
    "from sklearn.preprocessing import StandardScaler, MinMaxScaler\n",
    "from sklearn.linear_model import LogisticRegression\n",
    "from sklearn.preprocessing import Binarizer\n"
   ]
  },
  {
   "cell_type": "code",
   "execution_count": 63,
   "id": "23a1a34f",
   "metadata": {
    "ExecuteTime": {
     "end_time": "2022-11-10T06:33:15.597341Z",
     "start_time": "2022-11-10T06:33:15.585341Z"
    }
   },
   "outputs": [],
   "source": [
    "# 평가지표 분류\n",
    "def get_clf_eval(y_test, pred = None, pred_proba = None):\n",
    "    confusion = confusion_matrix(y_test, pred)\n",
    "    accuracy = accuracy_score(y_test, pred)\n",
    "    precision = precision_score(y_test, pred)\n",
    "    recall = recall_score(y_test, pred)\n",
    "    f1 = f1_score(y_test, pred)\n",
    "    roc_auc = roc_auc_score(y_test, pred_proba)\n",
    "    print('오차 행렬')\n",
    "    print(confusion)\n",
    "    print('정확도 : {:.4f}, 정밀도 : {:.4f}, 재현율 : {:.4f}, F1 : {:.4f}, AUC : {:.4f}'.\n",
    "          format(accuracy, precision, recall, f1, roc_auc))\n",
    "    \n",
    "# 재현율과 정밀도의 시각화\n",
    "def precision_recall_curve_plot(y_test, pred_proba_c1):\n",
    "    precisions, recalls, thresholds = precision_recall_curve(y_test, pred_proba_c1)\n",
    "    \n",
    "    plt.figure(figsize = (14, 10))\n",
    "    plt.rc('font', family = 'D2coding')\n",
    "    threshold_boundary = thresholds.shape[0]\n",
    "    a = thresholds[precisions[0:threshold_boundary] == recalls[0:threshold_boundary]]\n",
    "    loc = np.where(thresholds == a[0])[0][0]\n",
    "    plt.plot(thresholds, precisions[0:threshold_boundary], linestyle = '--', label = 'precision')\n",
    "    plt.plot(thresholds, recalls[0:threshold_boundary], label = 'recall')\n",
    "    plt.scatter(thresholds[loc], precisions[loc], c = 'black', s = 60)\n",
    "    plt.text(0.02 + thresholds[loc], precisions[loc], '임계값 : {:.3f}'.format(thresholds[loc]), size = 25)\n",
    "    \n",
    "    start, end = plt.xlim()\n",
    "    plt.xticks(np.round(np.arange(start, end, 0.1), 2), size = 20)\n",
    "    plt.xlabel('Threshold value', size = 20); plt.ylabel('Precision and Recall value', size = 20)\n",
    "    plt.legend()\n",
    "    plt.rc('legend', fontsize = 20)\n",
    "    plt.rc('ytick', labelsize = 20)\n",
    "    plt.show()\n",
    "    \n",
    "\n",
    "# 임계값 조정 함수\n",
    "def get_clf_eval_thres(y_test, pred_po, threshold, f1_show=False, auc_show=False):\n",
    "    eval_df = pd.DataFrame()\n",
    "    \n",
    "    for thres in threshold:\n",
    "        # threshold에 따른 예측 분류 값\n",
    "        binarizer = Binarizer(threshold = thres)\n",
    "        binarizer.fit(pred_po)\n",
    "        thres_pred = binarizer.transform(pred_po)\n",
    "        \n",
    "        # 평가지표  \n",
    "        accuracy = accuracy_score(y_test, thres_pred)\n",
    "        precision = precision_score(y_test, thres_pred)\n",
    "        recall = recall_score(y_test, thres_pred)\n",
    "        f1 = f1_score(y_test, thres_pred)\n",
    "        auc = roc_auc_score(y_test, pred_po)\n",
    "        \n",
    "        # 데이터 프레임 형태\n",
    "        eval_lst = np.array([accuracy, precision, recall, f1, auc]).reshape(-1,1)\n",
    "        temp = pd.DataFrame(eval_lst, columns=[thres], \n",
    "                            index = [\"정확도\", \"정밀도\", \"재현율\", \"F1스코어\", \"AUC\"])\n",
    "        eval_df = pd.concat([eval_df,temp], axis=1)\n",
    "        \n",
    "    eval_df.columns.names = [\"임계값\"]\n",
    "    \n",
    "    if f1_show == False:\n",
    "        eval_df.drop(\"F1스코어\", axis=0, inplace=True)\n",
    "        \n",
    "    if auc_show == False:\n",
    "        eval_df.drop(\"AUC\", axis=0, inplace=True)\n",
    "        \n",
    "    return round(eval_df, 4)"
   ]
  },
  {
   "cell_type": "code",
   "execution_count": 55,
   "id": "c6917851",
   "metadata": {
    "ExecuteTime": {
     "end_time": "2022-11-10T06:32:37.490548Z",
     "start_time": "2022-11-10T06:32:37.465628Z"
    }
   },
   "outputs": [
    {
     "name": "stdout",
     "output_type": "stream",
     "text": [
      "오차 행렬\n",
      "[[33  4]\n",
      " [ 1 76]]\n",
      "정확도 : 0.9561, 정밀도 : 0.9500, 재현율 : 0.9870, F1 : 0.9682, AUC : 0.9905\n"
     ]
    }
   ],
   "source": [
    "# 오차행렬과 평가\n",
    "pred = lgbm.predict(X_test)\n",
    "pred_proba = lgbm.predict_proba(X_test)[:, 1]\n",
    "pred_proba_po = lgbm.predict_proba(X_test)[:, 1].reshape(-1, 1)\n",
    "\n",
    "get_clf_eval(y_test, pred, pred_proba)"
   ]
  },
  {
   "cell_type": "code",
   "execution_count": 64,
   "id": "5a939e65",
   "metadata": {
    "ExecuteTime": {
     "end_time": "2022-11-10T06:33:18.319754Z",
     "start_time": "2022-11-10T06:33:18.059733Z"
    }
   },
   "outputs": [
    {
     "data": {
      "image/png": "[encoded data removed]",
      "text/plain": [
       "<Figure size 1008x720 with 1 Axes>"
      ]
     },
     "metadata": {
      "image/png": {
       "height": 605,
       "width": 864
      }
     },
     "output_type": "display_data"
    }
   ],
   "source": [
    "precision_recall_curve_plot(y_test, pred_proba)"
   ]
  },
  {
   "cell_type": "code",
   "execution_count": 61,
   "id": "558b52b5",
   "metadata": {
    "ExecuteTime": {
     "end_time": "2022-11-10T06:33:04.082608Z",
     "start_time": "2022-11-10T06:33:04.016364Z"
    }
   },
   "outputs": [
    {
     "data": {
      "text/html": [
       "<div>\n",
       "<style scoped>\n",
       "    .dataframe tbody tr th:only-of-type {\n",
       "        vertical-align: middle;\n",
       "    }\n",
       "\n",
       "    .dataframe tbody tr th {\n",
       "        vertical-align: top;\n",
       "    }\n",
       "\n",
       "    .dataframe thead th {\n",
       "        text-align: right;\n",
       "    }\n",
       "</style>\n",
       "<table border=\"1\" class=\"dataframe\">\n",
       "  <thead>\n",
       "    <tr style=\"text-align: right;\">\n",
       "      <th>임계값</th>\n",
       "      <th>0.30</th>\n",
       "      <th>0.00</th>\n",
       "      <th>33.00</th>\n",
       "      <th>0.00</th>\n",
       "      <th>36.00</th>\n",
       "      <th>0.00</th>\n",
       "      <th>39.00</th>\n",
       "      <th>0.42</th>\n",
       "      <th>0.45</th>\n",
       "      <th>0.48</th>\n",
       "      <th>0.50</th>\n",
       "    </tr>\n",
       "  </thead>\n",
       "  <tbody>\n",
       "    <tr>\n",
       "      <th>정확도</th>\n",
       "      <td>0.9561</td>\n",
       "      <td>0.6754</td>\n",
       "      <td>0.3246</td>\n",
       "      <td>0.6754</td>\n",
       "      <td>0.3246</td>\n",
       "      <td>0.6754</td>\n",
       "      <td>0.3246</td>\n",
       "      <td>0.9561</td>\n",
       "      <td>0.9561</td>\n",
       "      <td>0.9561</td>\n",
       "      <td>0.9561</td>\n",
       "    </tr>\n",
       "    <tr>\n",
       "      <th>정밀도</th>\n",
       "      <td>0.9500</td>\n",
       "      <td>0.6754</td>\n",
       "      <td>0.0000</td>\n",
       "      <td>0.6754</td>\n",
       "      <td>0.0000</td>\n",
       "      <td>0.6754</td>\n",
       "      <td>0.0000</td>\n",
       "      <td>0.9500</td>\n",
       "      <td>0.9500</td>\n",
       "      <td>0.9500</td>\n",
       "      <td>0.9500</td>\n",
       "    </tr>\n",
       "    <tr>\n",
       "      <th>재현율</th>\n",
       "      <td>0.9870</td>\n",
       "      <td>1.0000</td>\n",
       "      <td>0.0000</td>\n",
       "      <td>1.0000</td>\n",
       "      <td>0.0000</td>\n",
       "      <td>1.0000</td>\n",
       "      <td>0.0000</td>\n",
       "      <td>0.9870</td>\n",
       "      <td>0.9870</td>\n",
       "      <td>0.9870</td>\n",
       "      <td>0.9870</td>\n",
       "    </tr>\n",
       "    <tr>\n",
       "      <th>F1스코어</th>\n",
       "      <td>0.9682</td>\n",
       "      <td>0.8063</td>\n",
       "      <td>0.0000</td>\n",
       "      <td>0.8063</td>\n",
       "      <td>0.0000</td>\n",
       "      <td>0.8063</td>\n",
       "      <td>0.0000</td>\n",
       "      <td>0.9682</td>\n",
       "      <td>0.9682</td>\n",
       "      <td>0.9682</td>\n",
       "      <td>0.9682</td>\n",
       "    </tr>\n",
       "    <tr>\n",
       "      <th>AUC</th>\n",
       "      <td>0.9905</td>\n",
       "      <td>0.9905</td>\n",
       "      <td>0.9905</td>\n",
       "      <td>0.9905</td>\n",
       "      <td>0.9905</td>\n",
       "      <td>0.9905</td>\n",
       "      <td>0.9905</td>\n",
       "      <td>0.9905</td>\n",
       "      <td>0.9905</td>\n",
       "      <td>0.9905</td>\n",
       "      <td>0.9905</td>\n",
       "    </tr>\n",
       "  </tbody>\n",
       "</table>\n",
       "</div>"
      ],
      "text/plain": [
       "임계값     0.30    0.00    33.00   0.00    36.00   0.00    39.00   0.42    0.45   \\\n",
       "정확도    0.9561  0.6754  0.3246  0.6754  0.3246  0.6754  0.3246  0.9561  0.9561   \n",
       "정밀도    0.9500  0.6754  0.0000  0.6754  0.0000  0.6754  0.0000  0.9500  0.9500   \n",
       "재현율    0.9870  1.0000  0.0000  1.0000  0.0000  1.0000  0.0000  0.9870  0.9870   \n",
       "F1스코어  0.9682  0.8063  0.0000  0.8063  0.0000  0.8063  0.0000  0.9682  0.9682   \n",
       "AUC    0.9905  0.9905  0.9905  0.9905  0.9905  0.9905  0.9905  0.9905  0.9905   \n",
       "\n",
       "임계값     0.48    0.50   \n",
       "정확도    0.9561  0.9561  \n",
       "정밀도    0.9500  0.9500  \n",
       "재현율    0.9870  0.9870  \n",
       "F1스코어  0.9682  0.9682  \n",
       "AUC    0.9905  0.9905  "
      ]
     },
     "execution_count": 61,
     "metadata": {},
     "output_type": "execute_result"
    }
   ],
   "source": [
    "thres_list = [0.3, 0,33, 0,36, 0,39, 0.42, 0.45, 0.48, 0.5]\n",
    "get_clf_eval_thres(y_test, pred_proba_po, thres_list, f1_show=True, auc_show=True)"
   ]
  },
  {
   "cell_type": "code",
   "execution_count": 66,
   "id": "4523b716",
   "metadata": {
    "ExecuteTime": {
     "end_time": "2022-11-10T08:12:09.810405Z",
     "start_time": "2022-11-10T08:12:09.780665Z"
    }
   },
   "outputs": [
    {
     "ename": "ImportError",
     "evalue": "cannot import name '_ClassNamePrefixFeaturesOutMixin' from 'sklearn.base' (C:\\Ananconda3\\lib\\site-packages\\sklearn\\base.py)",
     "output_type": "error",
     "traceback": [
      "\u001b[1;31m---------------------------------------------------------------------------\u001b[0m",
      "\u001b[1;31mImportError\u001b[0m                               Traceback (most recent call last)",
      "\u001b[1;32m~\\AppData\\Local\\Temp/ipykernel_5792/3914469790.py\u001b[0m in \u001b[0;36m<module>\u001b[1;34m\u001b[0m\n\u001b[1;32m----> 1\u001b[1;33m \u001b[1;32mfrom\u001b[0m \u001b[0msklearn\u001b[0m\u001b[1;33m.\u001b[0m\u001b[0mneural_network\u001b[0m \u001b[1;32mimport\u001b[0m \u001b[0mMLPClassifier\u001b[0m\u001b[1;33m\u001b[0m\u001b[1;33m\u001b[0m\u001b[0m\n\u001b[0m\u001b[0;32m      2\u001b[0m mlp = MLPClassifier(hidden_layer_sizes=(10,), activation='logistic', \\\n\u001b[0;32m      3\u001b[0m                     \u001b[0msolver\u001b[0m\u001b[1;33m=\u001b[0m\u001b[1;34m'sgd'\u001b[0m\u001b[1;33m,\u001b[0m \u001b[0malpha\u001b[0m\u001b[1;33m=\u001b[0m\u001b[1;36m0.01\u001b[0m\u001b[1;33m,\u001b[0m \u001b[0mbatch_size\u001b[0m\u001b[1;33m=\u001b[0m\u001b[1;36m32\u001b[0m\u001b[1;33m,\u001b[0m\u001b[0;31m \u001b[0m\u001b[0;31m\\\u001b[0m\u001b[1;33m\u001b[0m\u001b[1;33m\u001b[0m\u001b[0m\n\u001b[0;32m      4\u001b[0m                     learning_rate_init=0.1, max_iter=500)\n\u001b[0;32m      5\u001b[0m \u001b[1;36m1\u001b[0m\u001b[1;33m\u001b[0m\u001b[1;33m\u001b[0m\u001b[0m\n",
      "\u001b[1;32mC:\\Ananconda3\\lib\\site-packages\\sklearn\\neural_network\\__init__.py\u001b[0m in \u001b[0;36m<module>\u001b[1;34m\u001b[0m\n\u001b[0;32m      6\u001b[0m \u001b[1;31m# License: BSD 3 clause\u001b[0m\u001b[1;33m\u001b[0m\u001b[1;33m\u001b[0m\u001b[0m\n\u001b[0;32m      7\u001b[0m \u001b[1;33m\u001b[0m\u001b[0m\n\u001b[1;32m----> 8\u001b[1;33m \u001b[1;32mfrom\u001b[0m \u001b[1;33m.\u001b[0m\u001b[0m_rbm\u001b[0m \u001b[1;32mimport\u001b[0m \u001b[0mBernoulliRBM\u001b[0m\u001b[1;33m\u001b[0m\u001b[1;33m\u001b[0m\u001b[0m\n\u001b[0m\u001b[0;32m      9\u001b[0m \u001b[1;33m\u001b[0m\u001b[0m\n\u001b[0;32m     10\u001b[0m \u001b[1;32mfrom\u001b[0m \u001b[1;33m.\u001b[0m\u001b[0m_multilayer_perceptron\u001b[0m \u001b[1;32mimport\u001b[0m \u001b[0mMLPClassifier\u001b[0m\u001b[1;33m\u001b[0m\u001b[1;33m\u001b[0m\u001b[0m\n",
      "\u001b[1;32mC:\\Ananconda3\\lib\\site-packages\\sklearn\\neural_network\\_rbm.py\u001b[0m in \u001b[0;36m<module>\u001b[1;34m\u001b[0m\n\u001b[0;32m     16\u001b[0m \u001b[1;32mfrom\u001b[0m \u001b[1;33m.\u001b[0m\u001b[1;33m.\u001b[0m\u001b[0mbase\u001b[0m \u001b[1;32mimport\u001b[0m \u001b[0mBaseEstimator\u001b[0m\u001b[1;33m\u001b[0m\u001b[1;33m\u001b[0m\u001b[0m\n\u001b[0;32m     17\u001b[0m \u001b[1;32mfrom\u001b[0m \u001b[1;33m.\u001b[0m\u001b[1;33m.\u001b[0m\u001b[0mbase\u001b[0m \u001b[1;32mimport\u001b[0m \u001b[0mTransformerMixin\u001b[0m\u001b[1;33m\u001b[0m\u001b[1;33m\u001b[0m\u001b[0m\n\u001b[1;32m---> 18\u001b[1;33m \u001b[1;32mfrom\u001b[0m \u001b[1;33m.\u001b[0m\u001b[1;33m.\u001b[0m\u001b[0mbase\u001b[0m \u001b[1;32mimport\u001b[0m \u001b[0m_ClassNamePrefixFeaturesOutMixin\u001b[0m\u001b[1;33m\u001b[0m\u001b[1;33m\u001b[0m\u001b[0m\n\u001b[0m\u001b[0;32m     19\u001b[0m \u001b[1;32mfrom\u001b[0m \u001b[1;33m.\u001b[0m\u001b[1;33m.\u001b[0m\u001b[0mutils\u001b[0m \u001b[1;32mimport\u001b[0m \u001b[0mcheck_random_state\u001b[0m\u001b[1;33m\u001b[0m\u001b[1;33m\u001b[0m\u001b[0m\n\u001b[0;32m     20\u001b[0m \u001b[1;32mfrom\u001b[0m \u001b[1;33m.\u001b[0m\u001b[1;33m.\u001b[0m\u001b[0mutils\u001b[0m \u001b[1;32mimport\u001b[0m \u001b[0mgen_even_slices\u001b[0m\u001b[1;33m\u001b[0m\u001b[1;33m\u001b[0m\u001b[0m\n",
      "\u001b[1;31mImportError\u001b[0m: cannot import name '_ClassNamePrefixFeaturesOutMixin' from 'sklearn.base' (C:\\Ananconda3\\lib\\site-packages\\sklearn\\base.py)"
     ]
    }
   ],
   "source": [
    "from sklearn.neural_network import MLPClassifier\n",
    "mlp = MLPClassifier(hidden_layer_sizes=(10,), activation='logistic', \\\n",
    "                    solver='sgd', alpha=0.01, batch_size=32, \\\n",
    "                    learning_rate_init=0.1, max_iter=500)\n",
    "1\n",
    "2"
   ]
  },
  {
   "cell_type": "code",
   "execution_count": null,
   "id": "f5e60753",
   "metadata": {},
   "outputs": [],
   "source": []
  }
 ],
 "metadata": {
  "kernelspec": {
   "display_name": "Python 3 (ipykernel)",
   "language": "python",
   "name": "python3"
  },
  "language_info": {
   "codemirror_mode": {
    "name": "ipython",
    "version": 3
   },
   "file_extension": ".py",
   "mimetype": "text/x-python",
   "name": "python",
   "nbconvert_exporter": "python",
   "pygments_lexer": "ipython3",
   "version": "3.9.7"
  },
  "toc": {
   "base_numbering": 1,
   "nav_menu": {},
   "number_sections": true,
   "sideBar": true,
   "skip_h1_title": false,
   "title_cell": "Table of Contents",
   "title_sidebar": "Contents",
   "toc_cell": false,
   "toc_position": {},
   "toc_section_display": true,
   "toc_window_display": false
  },
  "varInspector": {
   "cols": {
    "lenName": 16,
    "lenType": 16,
    "lenVar": 40
   },
   "kernels_config": {
    "python": {
     "delete_cmd_postfix": "",
     "delete_cmd_prefix": "del ",
     "library": "var_list.py",
     "varRefreshCmd": "print(var_dic_list())"
    },
    "r": {
     "delete_cmd_postfix": ") ",
     "delete_cmd_prefix": "rm(",
     "library": "var_list.r",
     "varRefreshCmd": "cat(var_dic_list()) "
    }
   },
   "types_to_exclude": [
    "module",
    "function",
    "builtin_function_or_method",
    "instance",
    "_Feature"
   ],
   "window_display": false
  }
 },
 "nbformat": 4,
 "nbformat_minor": 5
}
