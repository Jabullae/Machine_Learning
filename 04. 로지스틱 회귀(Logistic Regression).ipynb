{
 "cells": [
  {
   "cell_type": "code",
   "execution_count": 1,
   "id": "da60ebd6",
   "metadata": {
    "ExecuteTime": {
     "end_time": "2022-11-02T05:09:59.195082Z",
     "start_time": "2022-11-02T05:09:58.047402Z"
    }
   },
   "outputs": [],
   "source": [
    "import numpy as np\n",
    "import pandas as pd\n",
    "import matplotlib.pyplot as plt\n",
    "import matplotlib as mpl\n",
    "import seaborn as sns\n",
    "\n",
    "## ggplot 스타일\n",
    "mpl.style.use('ggplot')\n",
    "# matplotlib 한글화\n",
    "mpl.rcParams['font.family'] = 'D2coding'"
   ]
  },
  {
   "cell_type": "markdown",
   "id": "51a9725a",
   "metadata": {},
   "source": [
    "## 데이터 로딩"
   ]
  },
  {
   "cell_type": "markdown",
   "id": "13394bf6",
   "metadata": {},
   "source": [
    "- 머신러닝을 돌리기 위해서는 데이터프레임을 넘파이배열로 바꾸어야 한다."
   ]
  },
  {
   "cell_type": "code",
   "execution_count": 2,
   "id": "d59b8a17",
   "metadata": {
    "ExecuteTime": {
     "end_time": "2022-11-02T05:09:59.231857Z",
     "start_time": "2022-11-02T05:09:59.196637Z"
    }
   },
   "outputs": [
    {
     "data": {
      "text/html": [
       "<div>\n",
       "<style scoped>\n",
       "    .dataframe tbody tr th:only-of-type {\n",
       "        vertical-align: middle;\n",
       "    }\n",
       "\n",
       "    .dataframe tbody tr th {\n",
       "        vertical-align: top;\n",
       "    }\n",
       "\n",
       "    .dataframe thead th {\n",
       "        text-align: right;\n",
       "    }\n",
       "</style>\n",
       "<table border=\"1\" class=\"dataframe\">\n",
       "  <thead>\n",
       "    <tr style=\"text-align: right;\">\n",
       "      <th></th>\n",
       "      <th>Species</th>\n",
       "      <th>Weight</th>\n",
       "      <th>Length</th>\n",
       "      <th>Diagonal</th>\n",
       "      <th>Height</th>\n",
       "      <th>Width</th>\n",
       "    </tr>\n",
       "  </thead>\n",
       "  <tbody>\n",
       "    <tr>\n",
       "      <th>77</th>\n",
       "      <td>Perch</td>\n",
       "      <td>100.0</td>\n",
       "      <td>18.0</td>\n",
       "      <td>19.2</td>\n",
       "      <td>5.2224</td>\n",
       "      <td>3.3216</td>\n",
       "    </tr>\n",
       "    <tr>\n",
       "      <th>112</th>\n",
       "      <td>Perch</td>\n",
       "      <td>685.0</td>\n",
       "      <td>36.5</td>\n",
       "      <td>39.0</td>\n",
       "      <td>10.8810</td>\n",
       "      <td>6.8640</td>\n",
       "    </tr>\n",
       "    <tr>\n",
       "      <th>19</th>\n",
       "      <td>Bream</td>\n",
       "      <td>650.0</td>\n",
       "      <td>33.5</td>\n",
       "      <td>38.7</td>\n",
       "      <td>14.4738</td>\n",
       "      <td>5.7276</td>\n",
       "    </tr>\n",
       "    <tr>\n",
       "      <th>0</th>\n",
       "      <td>Bream</td>\n",
       "      <td>242.0</td>\n",
       "      <td>25.4</td>\n",
       "      <td>30.0</td>\n",
       "      <td>11.5200</td>\n",
       "      <td>4.0200</td>\n",
       "    </tr>\n",
       "    <tr>\n",
       "      <th>68</th>\n",
       "      <td>Parkki</td>\n",
       "      <td>145.0</td>\n",
       "      <td>21.5</td>\n",
       "      <td>24.1</td>\n",
       "      <td>9.7364</td>\n",
       "      <td>3.1571</td>\n",
       "    </tr>\n",
       "    <tr>\n",
       "      <th>89</th>\n",
       "      <td>Perch</td>\n",
       "      <td>135.0</td>\n",
       "      <td>22.0</td>\n",
       "      <td>23.5</td>\n",
       "      <td>5.8750</td>\n",
       "      <td>3.5250</td>\n",
       "    </tr>\n",
       "    <tr>\n",
       "      <th>83</th>\n",
       "      <td>Perch</td>\n",
       "      <td>115.0</td>\n",
       "      <td>21.0</td>\n",
       "      <td>22.5</td>\n",
       "      <td>5.9175</td>\n",
       "      <td>3.3075</td>\n",
       "    </tr>\n",
       "    <tr>\n",
       "      <th>136</th>\n",
       "      <td>Pike</td>\n",
       "      <td>540.0</td>\n",
       "      <td>43.0</td>\n",
       "      <td>45.8</td>\n",
       "      <td>7.7860</td>\n",
       "      <td>5.1296</td>\n",
       "    </tr>\n",
       "    <tr>\n",
       "      <th>82</th>\n",
       "      <td>Perch</td>\n",
       "      <td>110.0</td>\n",
       "      <td>21.0</td>\n",
       "      <td>22.5</td>\n",
       "      <td>5.6925</td>\n",
       "      <td>3.5550</td>\n",
       "    </tr>\n",
       "    <tr>\n",
       "      <th>8</th>\n",
       "      <td>Bream</td>\n",
       "      <td>450.0</td>\n",
       "      <td>30.0</td>\n",
       "      <td>35.1</td>\n",
       "      <td>14.0049</td>\n",
       "      <td>4.8438</td>\n",
       "    </tr>\n",
       "  </tbody>\n",
       "</table>\n",
       "</div>"
      ],
      "text/plain": [
       "    Species  Weight  Length  Diagonal   Height   Width\n",
       "77    Perch   100.0    18.0      19.2   5.2224  3.3216\n",
       "112   Perch   685.0    36.5      39.0  10.8810  6.8640\n",
       "19    Bream   650.0    33.5      38.7  14.4738  5.7276\n",
       "0     Bream   242.0    25.4      30.0  11.5200  4.0200\n",
       "68   Parkki   145.0    21.5      24.1   9.7364  3.1571\n",
       "89    Perch   135.0    22.0      23.5   5.8750  3.5250\n",
       "83    Perch   115.0    21.0      22.5   5.9175  3.3075\n",
       "136    Pike   540.0    43.0      45.8   7.7860  5.1296\n",
       "82    Perch   110.0    21.0      22.5   5.6925  3.5550\n",
       "8     Bream   450.0    30.0      35.1  14.0049  4.8438"
      ]
     },
     "execution_count": 2,
     "metadata": {},
     "output_type": "execute_result"
    }
   ],
   "source": [
    "fish = pd.read_csv('C:/k_digital/source/data/fish.csv')\n",
    "fish.sample(10)"
   ]
  },
  {
   "cell_type": "code",
   "execution_count": 3,
   "id": "06e15160",
   "metadata": {
    "ExecuteTime": {
     "end_time": "2022-11-02T05:09:59.247820Z",
     "start_time": "2022-11-02T05:09:59.232853Z"
    }
   },
   "outputs": [
    {
     "data": {
      "text/plain": [
       "array(['Bream', 'Roach', 'Whitefish', 'Parkki', 'Perch', 'Pike', 'Smelt'],\n",
       "      dtype=object)"
      ]
     },
     "execution_count": 3,
     "metadata": {},
     "output_type": "execute_result"
    }
   ],
   "source": [
    "fish['Species'].unique()"
   ]
  },
  {
   "cell_type": "code",
   "execution_count": 4,
   "id": "5173e78f",
   "metadata": {
    "ExecuteTime": {
     "end_time": "2022-11-02T05:09:59.268789Z",
     "start_time": "2022-11-02T05:09:59.249808Z"
    }
   },
   "outputs": [
    {
     "data": {
      "text/plain": [
       "array(['Bream', 'Roach', 'Whitefish', 'Parkki', 'Perch', 'Pike', 'Smelt'],\n",
       "      dtype=object)"
      ]
     },
     "execution_count": 4,
     "metadata": {},
     "output_type": "execute_result"
    }
   ],
   "source": [
    "pd.unique(fish['Species'])"
   ]
  },
  {
   "cell_type": "code",
   "execution_count": 5,
   "id": "8bf16740",
   "metadata": {
    "ExecuteTime": {
     "end_time": "2022-11-02T05:09:59.282131Z",
     "start_time": "2022-11-02T05:09:59.269300Z"
    }
   },
   "outputs": [],
   "source": [
    "fish_input = fish[['Weight', 'Length', 'Diagonal', 'Height', 'Width']].to_numpy() # numpy 배열로 변환"
   ]
  },
  {
   "cell_type": "code",
   "execution_count": 6,
   "id": "4a20e1dc",
   "metadata": {
    "ExecuteTime": {
     "end_time": "2022-11-02T05:09:59.297968Z",
     "start_time": "2022-11-02T05:09:59.282131Z"
    }
   },
   "outputs": [
    {
     "data": {
      "text/plain": [
       "array([[242.    ,  25.4   ,  30.    ,  11.52  ,   4.02  ],\n",
       "       [290.    ,  26.3   ,  31.2   ,  12.48  ,   4.3056],\n",
       "       [340.    ,  26.5   ,  31.1   ,  12.3778,   4.6961],\n",
       "       [363.    ,  29.    ,  33.5   ,  12.73  ,   4.4555],\n",
       "       [430.    ,  29.    ,  34.    ,  12.444 ,   5.134 ]])"
      ]
     },
     "execution_count": 6,
     "metadata": {},
     "output_type": "execute_result"
    }
   ],
   "source": [
    "fish_input[:5]"
   ]
  },
  {
   "cell_type": "code",
   "execution_count": 7,
   "id": "78834385",
   "metadata": {
    "ExecuteTime": {
     "end_time": "2022-11-02T05:09:59.304028Z",
     "start_time": "2022-11-02T05:09:59.298964Z"
    }
   },
   "outputs": [],
   "source": [
    "fish_target = fish['Species'].to_numpy()"
   ]
  },
  {
   "cell_type": "code",
   "execution_count": 8,
   "id": "f47832e4",
   "metadata": {
    "ExecuteTime": {
     "end_time": "2022-11-02T05:09:59.318274Z",
     "start_time": "2022-11-02T05:09:59.304028Z"
    }
   },
   "outputs": [
    {
     "data": {
      "text/plain": [
       "array(['Bream', 'Bream', 'Bream', 'Bream', 'Bream'], dtype=object)"
      ]
     },
     "execution_count": 8,
     "metadata": {},
     "output_type": "execute_result"
    }
   ],
   "source": [
    "fish_target[:5]"
   ]
  },
  {
   "cell_type": "markdown",
   "id": "1355c6ba",
   "metadata": {},
   "source": [
    "## 훈련세트와 테스트세트로 분리"
   ]
  },
  {
   "cell_type": "code",
   "execution_count": 9,
   "id": "3c172077",
   "metadata": {
    "ExecuteTime": {
     "end_time": "2022-11-02T05:09:59.496154Z",
     "start_time": "2022-11-02T05:09:59.318274Z"
    }
   },
   "outputs": [],
   "source": [
    "from sklearn.model_selection import train_test_split\n",
    "train_input, test_input, train_target, test_target = train_test_split(fish_input, fish_target, random_state = 42)"
   ]
  },
  {
   "cell_type": "markdown",
   "id": "82854171",
   "metadata": {},
   "source": [
    "## 피쳐 스케일링"
   ]
  },
  {
   "cell_type": "code",
   "execution_count": 10,
   "id": "bfdcb072",
   "metadata": {
    "ExecuteTime": {
     "end_time": "2022-11-02T05:09:59.515051Z",
     "start_time": "2022-11-02T05:09:59.498149Z"
    }
   },
   "outputs": [],
   "source": [
    "# 분류에서는 score를 정확도\n",
    "# 예측에서는 score를 R2결정계수\n",
    "# 전처리에서는 fit(input데이터) - 표준화, transform - 데이터 반영"
   ]
  },
  {
   "cell_type": "code",
   "execution_count": 11,
   "id": "fae8b8fe",
   "metadata": {
    "ExecuteTime": {
     "end_time": "2022-11-02T05:09:59.530975Z",
     "start_time": "2022-11-02T05:09:59.516048Z"
    }
   },
   "outputs": [],
   "source": [
    "from sklearn.preprocessing import StandardScaler\n",
    "ss = StandardScaler()\n",
    "ss.fit(train_input) # train_input에서 표준화할 데이터를 찾으면 test_input은 fit을 할 필요가 없다.\n",
    "train_scaled = ss.transform(train_input)\n",
    "test_scaled = ss.transform(test_input)"
   ]
  },
  {
   "cell_type": "markdown",
   "id": "5ae369df",
   "metadata": {},
   "source": [
    "## k-최근접 이웃 분류기를 이용한 확률 예측"
   ]
  },
  {
   "cell_type": "code",
   "execution_count": 12,
   "id": "01023b7a",
   "metadata": {
    "ExecuteTime": {
     "end_time": "2022-11-02T05:09:59.612402Z",
     "start_time": "2022-11-02T05:09:59.531972Z"
    }
   },
   "outputs": [
    {
     "name": "stdout",
     "output_type": "stream",
     "text": [
      "훈련데이터의 점수 : 0.89\n",
      "테스트데이터의 점수 : 0.85\n"
     ]
    }
   ],
   "source": [
    "from sklearn.neighbors import KNeighborsClassifier\n",
    "knn = KNeighborsClassifier(n_neighbors = 3)\n",
    "knn.fit(train_scaled, train_target)\n",
    "\n",
    "print('훈련데이터의 점수 : {:.2f}'.format(knn.score(train_scaled, train_target)))\n",
    "print('테스트데이터의 점수 : {:.2f}'.format(knn.score(test_scaled, test_target)))"
   ]
  },
  {
   "cell_type": "code",
   "execution_count": 13,
   "id": "ebeec6cc",
   "metadata": {
    "ExecuteTime": {
     "end_time": "2022-11-02T05:09:59.620821Z",
     "start_time": "2022-11-02T05:09:59.614396Z"
    }
   },
   "outputs": [
    {
     "data": {
      "text/plain": [
       "array(['Bream', 'Parkki', 'Perch', 'Pike', 'Roach', 'Smelt', 'Whitefish'],\n",
       "      dtype=object)"
      ]
     },
     "execution_count": 13,
     "metadata": {},
     "output_type": "execute_result"
    }
   ],
   "source": [
    " # 모델의 학습을 통해 새롭게 얻어진 변수(보통 '_'를 붙인다.)\n",
    "knn.classes_ "
   ]
  },
  {
   "cell_type": "code",
   "execution_count": 14,
   "id": "2a721cc5",
   "metadata": {
    "ExecuteTime": {
     "end_time": "2022-11-02T05:09:59.636741Z",
     "start_time": "2022-11-02T05:09:59.620821Z"
    }
   },
   "outputs": [
    {
     "data": {
      "text/plain": [
       "array(['Perch', 'Smelt', 'Pike', 'Perch', 'Perch'], dtype=object)"
      ]
     },
     "execution_count": 14,
     "metadata": {},
     "output_type": "execute_result"
    }
   ],
   "source": [
    "# 테스트 데이터에서 5개만 예측\n",
    "knn.predict(test_scaled[:5])"
   ]
  },
  {
   "cell_type": "code",
   "execution_count": 15,
   "id": "63db41cc",
   "metadata": {
    "ExecuteTime": {
     "end_time": "2022-11-02T05:09:59.656393Z",
     "start_time": "2022-11-02T05:09:59.637747Z"
    }
   },
   "outputs": [
    {
     "data": {
      "text/plain": [
       "array([[0.    , 0.    , 1.    , 0.    , 0.    , 0.    , 0.    ],\n",
       "       [0.    , 0.    , 0.    , 0.    , 0.    , 1.    , 0.    ],\n",
       "       [0.    , 0.    , 0.    , 1.    , 0.    , 0.    , 0.    ],\n",
       "       [0.    , 0.    , 0.6667, 0.    , 0.3333, 0.    , 0.    ],\n",
       "       [0.    , 0.    , 0.6667, 0.    , 0.3333, 0.    , 0.    ]])"
      ]
     },
     "execution_count": 15,
     "metadata": {},
     "output_type": "execute_result"
    }
   ],
   "source": [
    "# predict_proba() : 클래스별 확률값을 반환해주는 메서드\n",
    "proba = knn.predict_proba(test_scaled[:5])\n",
    "\n",
    "# decimals : 유지할 소수점 자리수\n",
    "np.round(proba, decimals = 4) \n",
    "\n",
    "#'Bream', 'Parkki', 'Perch', 'Pike', 'Roach', 'Smelt', 'Whitefish' 중에 하나가 될 확률이 출력"
   ]
  },
  {
   "cell_type": "code",
   "execution_count": 16,
   "id": "e397eaaf",
   "metadata": {
    "ExecuteTime": {
     "end_time": "2022-11-02T05:09:59.671351Z",
     "start_time": "2022-11-02T05:09:59.658387Z"
    }
   },
   "outputs": [
    {
     "data": {
      "text/plain": [
       "array([['Roach', 'Perch', 'Perch']], dtype=object)"
      ]
     },
     "execution_count": 16,
     "metadata": {},
     "output_type": "execute_result"
    }
   ],
   "source": [
    "distances, indexs = knn.kneighbors(test_scaled[3:4])\n",
    "train_target[indexs]"
   ]
  },
  {
   "cell_type": "markdown",
   "id": "fb8d7f44",
   "metadata": {
    "ExecuteTime": {
     "end_time": "2022-11-02T01:42:40.951868Z",
     "start_time": "2022-11-02T01:42:40.861960Z"
    }
   },
   "source": [
    "## 로지스틱 회귀\n",
    "- 대표적인 분류 알고리즘\n",
    "- 인공신경망의 기본이 되는 알고리즘\n",
    "- 선형회귀와 비슷하게 선형 방정식을 학습하는 알고리즘이다. "
   ]
  },
  {
   "cell_type": "markdown",
   "id": "bb4ed4d9",
   "metadata": {},
   "source": [
    "### 로지스틱 회귀(이진 분류)"
   ]
  },
  {
   "cell_type": "code",
   "execution_count": 17,
   "id": "05ce80c0",
   "metadata": {
    "ExecuteTime": {
     "end_time": "2022-11-02T05:09:59.689438Z",
     "start_time": "2022-11-02T05:09:59.672348Z"
    }
   },
   "outputs": [
    {
     "data": {
      "text/plain": [
       "array(['A', 'C'], dtype='<U1')"
      ]
     },
     "execution_count": 17,
     "metadata": {},
     "output_type": "execute_result"
    }
   ],
   "source": [
    "arr = np.array(['A', 'B', 'C', 'D', 'E'])\n",
    "# boolean indexing\n",
    "boolean = [True, False, True, False, False]\n",
    "arr[boolean]"
   ]
  },
  {
   "cell_type": "code",
   "execution_count": 18,
   "id": "3a37cb26",
   "metadata": {
    "ExecuteTime": {
     "end_time": "2022-11-02T05:09:59.704334Z",
     "start_time": "2022-11-02T05:09:59.689438Z"
    }
   },
   "outputs": [
    {
     "data": {
      "text/html": [
       "<div>\n",
       "<style scoped>\n",
       "    .dataframe tbody tr th:only-of-type {\n",
       "        vertical-align: middle;\n",
       "    }\n",
       "\n",
       "    .dataframe tbody tr th {\n",
       "        vertical-align: top;\n",
       "    }\n",
       "\n",
       "    .dataframe thead th {\n",
       "        text-align: right;\n",
       "    }\n",
       "</style>\n",
       "<table border=\"1\" class=\"dataframe\">\n",
       "  <thead>\n",
       "    <tr style=\"text-align: right;\">\n",
       "      <th></th>\n",
       "      <th>Species</th>\n",
       "      <th>Weight</th>\n",
       "      <th>Length</th>\n",
       "      <th>Diagonal</th>\n",
       "      <th>Height</th>\n",
       "      <th>Width</th>\n",
       "    </tr>\n",
       "  </thead>\n",
       "  <tbody>\n",
       "    <tr>\n",
       "      <th>0</th>\n",
       "      <td>Bream</td>\n",
       "      <td>242.0</td>\n",
       "      <td>25.4</td>\n",
       "      <td>30.0</td>\n",
       "      <td>11.5200</td>\n",
       "      <td>4.0200</td>\n",
       "    </tr>\n",
       "    <tr>\n",
       "      <th>1</th>\n",
       "      <td>Bream</td>\n",
       "      <td>290.0</td>\n",
       "      <td>26.3</td>\n",
       "      <td>31.2</td>\n",
       "      <td>12.4800</td>\n",
       "      <td>4.3056</td>\n",
       "    </tr>\n",
       "    <tr>\n",
       "      <th>2</th>\n",
       "      <td>Bream</td>\n",
       "      <td>340.0</td>\n",
       "      <td>26.5</td>\n",
       "      <td>31.1</td>\n",
       "      <td>12.3778</td>\n",
       "      <td>4.6961</td>\n",
       "    </tr>\n",
       "    <tr>\n",
       "      <th>3</th>\n",
       "      <td>Bream</td>\n",
       "      <td>363.0</td>\n",
       "      <td>29.0</td>\n",
       "      <td>33.5</td>\n",
       "      <td>12.7300</td>\n",
       "      <td>4.4555</td>\n",
       "    </tr>\n",
       "    <tr>\n",
       "      <th>4</th>\n",
       "      <td>Bream</td>\n",
       "      <td>430.0</td>\n",
       "      <td>29.0</td>\n",
       "      <td>34.0</td>\n",
       "      <td>12.4440</td>\n",
       "      <td>5.1340</td>\n",
       "    </tr>\n",
       "  </tbody>\n",
       "</table>\n",
       "</div>"
      ],
      "text/plain": [
       "  Species  Weight  Length  Diagonal   Height   Width\n",
       "0   Bream   242.0    25.4      30.0  11.5200  4.0200\n",
       "1   Bream   290.0    26.3      31.2  12.4800  4.3056\n",
       "2   Bream   340.0    26.5      31.1  12.3778  4.6961\n",
       "3   Bream   363.0    29.0      33.5  12.7300  4.4555\n",
       "4   Bream   430.0    29.0      34.0  12.4440  5.1340"
      ]
     },
     "execution_count": 18,
     "metadata": {},
     "output_type": "execute_result"
    }
   ],
   "source": [
    "fish.head()"
   ]
  },
  {
   "cell_type": "code",
   "execution_count": 19,
   "id": "4d515423",
   "metadata": {
    "ExecuteTime": {
     "end_time": "2022-11-02T05:09:59.719490Z",
     "start_time": "2022-11-02T05:09:59.706526Z"
    }
   },
   "outputs": [
    {
     "name": "stdout",
     "output_type": "stream",
     "text": [
      "(119, 5) (119,) (40, 5) (40,)\n"
     ]
    }
   ],
   "source": [
    "print(train_input.shape, train_target.shape, test_input.shape, test_target.shape)"
   ]
  },
  {
   "cell_type": "code",
   "execution_count": 20,
   "id": "91d38da7",
   "metadata": {
    "ExecuteTime": {
     "end_time": "2022-11-02T05:09:59.730672Z",
     "start_time": "2022-11-02T05:09:59.721485Z"
    }
   },
   "outputs": [],
   "source": [
    "# Bream, Smelt 데이터만 이용한 이진분류 학습\n",
    "# Boolean Indexing\n",
    "indexes = (train_target == 'Bream') | (train_target == 'Smelt')\n",
    "train = train_scaled[indexes]\n",
    "target = train_target[indexes]"
   ]
  },
  {
   "cell_type": "code",
   "execution_count": 21,
   "id": "27677191",
   "metadata": {
    "ExecuteTime": {
     "end_time": "2022-11-02T05:09:59.746031Z",
     "start_time": "2022-11-02T05:09:59.730672Z"
    }
   },
   "outputs": [
    {
     "data": {
      "text/plain": [
       "LogisticRegression()"
      ]
     },
     "execution_count": 21,
     "metadata": {},
     "output_type": "execute_result"
    }
   ],
   "source": [
    "from sklearn.linear_model import LogisticRegression\n",
    "lr = LogisticRegression()\n",
    "lr.fit(train, target)"
   ]
  },
  {
   "cell_type": "code",
   "execution_count": 22,
   "id": "b56b5075",
   "metadata": {
    "ExecuteTime": {
     "end_time": "2022-11-02T05:09:59.761655Z",
     "start_time": "2022-11-02T05:09:59.746031Z"
    }
   },
   "outputs": [
    {
     "data": {
      "text/plain": [
       "array(['Bream', 'Smelt', 'Bream', 'Bream', 'Bream'], dtype=object)"
      ]
     },
     "execution_count": 22,
     "metadata": {},
     "output_type": "execute_result"
    }
   ],
   "source": [
    "lr.predict(train[:5])"
   ]
  },
  {
   "cell_type": "code",
   "execution_count": 23,
   "id": "cd7a974f",
   "metadata": {
    "ExecuteTime": {
     "end_time": "2022-11-02T05:09:59.777415Z",
     "start_time": "2022-11-02T05:09:59.763021Z"
    }
   },
   "outputs": [
    {
     "data": {
      "text/plain": [
       "array(['Bream', 'Smelt'], dtype=object)"
      ]
     },
     "execution_count": 23,
     "metadata": {},
     "output_type": "execute_result"
    }
   ],
   "source": [
    "# 예측 클래스\n",
    "lr.classes_"
   ]
  },
  {
   "cell_type": "code",
   "execution_count": 24,
   "id": "35afd052",
   "metadata": {
    "ExecuteTime": {
     "end_time": "2022-11-02T05:09:59.795009Z",
     "start_time": "2022-11-02T05:09:59.778414Z"
    }
   },
   "outputs": [
    {
     "data": {
      "text/plain": [
       "array([[0.99759855, 0.00240145],\n",
       "       [0.02735183, 0.97264817],\n",
       "       [0.99486072, 0.00513928],\n",
       "       [0.98584202, 0.01415798],\n",
       "       [0.99767269, 0.00232731]])"
      ]
     },
     "execution_count": 24,
     "metadata": {},
     "output_type": "execute_result"
    }
   ],
   "source": [
    "# 예측확률\n",
    "lr.predict_proba(train[:5])\n",
    "# 'Bream', 'Smelt'\n",
    "#  '음성',  '양성'"
   ]
  },
  {
   "cell_type": "code",
   "execution_count": 25,
   "id": "9752e062",
   "metadata": {
    "ExecuteTime": {
     "end_time": "2022-11-02T05:09:59.811565Z",
     "start_time": "2022-11-02T05:09:59.795931Z"
    }
   },
   "outputs": [
    {
     "data": {
      "text/plain": [
       "Index(['Species', 'Weight', 'Length', 'Diagonal', 'Height', 'Width'], dtype='object')"
      ]
     },
     "execution_count": 25,
     "metadata": {},
     "output_type": "execute_result"
    }
   ],
   "source": [
    "fish.keys()"
   ]
  },
  {
   "cell_type": "code",
   "execution_count": 26,
   "id": "654ef4cc",
   "metadata": {
    "ExecuteTime": {
     "end_time": "2022-11-02T05:09:59.828290Z",
     "start_time": "2022-11-02T05:09:59.812633Z"
    }
   },
   "outputs": [
    {
     "name": "stdout",
     "output_type": "stream",
     "text": [
      "회귀계수 : [[-0.4037798  -0.57620209 -0.66280298 -1.01290277 -0.73168947]] \n",
      "절편 : [-2.16155132] \n",
      "회귀방정식 : -0.404 x Weight + -0.576 x Length + -0.663 x Diagonal + -1.013 x Height + -0.732 x Width + -2.162\n"
     ]
    }
   ],
   "source": [
    "print('회귀계수 : {}'.format(lr.coef_), \n",
    "      '\\n절편 : {}'.format(lr.intercept_),\n",
    "      '\\n회귀방정식 : {:.3f} x Weight + {:.3f} x Length + {:.3f} x Diagonal + {:.3f} x Height + {:.3f} x Width + {:.3f}'.format(\n",
    "          lr.coef_[0, 0], lr.coef_[0, 1], lr.coef_[0, 2], lr.coef_[0, 3], lr.coef_[0, 4], lr.intercept_[0]))"
   ]
  },
  {
   "cell_type": "code",
   "execution_count": 27,
   "id": "531d9092",
   "metadata": {
    "ExecuteTime": {
     "end_time": "2022-11-02T05:09:59.845333Z",
     "start_time": "2022-11-02T05:09:59.829199Z"
    }
   },
   "outputs": [
    {
     "data": {
      "text/plain": [
       "-0.4037797979636808"
      ]
     },
     "execution_count": 27,
     "metadata": {},
     "output_type": "execute_result"
    }
   ],
   "source": [
    "lr.coef_[0, 0]"
   ]
  },
  {
   "cell_type": "code",
   "execution_count": 28,
   "id": "106832f9",
   "metadata": {
    "ExecuteTime": {
     "end_time": "2022-11-02T05:09:59.861536Z",
     "start_time": "2022-11-02T05:09:59.845904Z"
    }
   },
   "outputs": [
    {
     "data": {
      "text/plain": [
       "array([-6.02927744,  3.57123907, -5.26568906, -4.24321775, -6.0607117 ,\n",
       "        3.41171526, -3.58936263, -7.66849569, -4.31680801, -2.22303129])"
      ]
     },
     "execution_count": 28,
     "metadata": {},
     "output_type": "execute_result"
    }
   ],
   "source": [
    "# z값 계산\n",
    "decisions = lr.decision_function(train[:10])\n",
    "decisions"
   ]
  },
  {
   "cell_type": "code",
   "execution_count": 29,
   "id": "0abc29e0",
   "metadata": {
    "ExecuteTime": {
     "end_time": "2022-11-02T05:09:59.878260Z",
     "start_time": "2022-11-02T05:09:59.862609Z"
    }
   },
   "outputs": [
    {
     "data": {
      "text/plain": [
       "array([0.99759855, 0.02735183, 0.99486072, 0.98584202, 0.99767269,\n",
       "       0.03193133, 0.97312622, 0.9995329 , 0.98683327, 0.90229875])"
      ]
     },
     "execution_count": 29,
     "metadata": {},
     "output_type": "execute_result"
    }
   ],
   "source": [
    "# 시그모이드 함수를 통해 확률값 추출\n",
    "from scipy.special import expit\n",
    "\n",
    "# 양성일 확률(smelt일 확률)\n",
    "expit(decisions)\n",
    "\n",
    "# 음성일 확률(Bream일 확률)\n",
    "1 - expit(decisions)"
   ]
  },
  {
   "cell_type": "code",
   "execution_count": 71,
   "id": "236648d1",
   "metadata": {
    "ExecuteTime": {
     "end_time": "2022-11-02T05:33:50.171750Z",
     "start_time": "2022-11-02T05:33:50.046858Z"
    }
   },
   "outputs": [
    {
     "data": {
      "image/png": "[encoded data removed]",
      "text/plain": [
       "<Figure size 720x576 with 1 Axes>"
      ]
     },
     "metadata": {},
     "output_type": "display_data"
    }
   ],
   "source": [
    "# 시그모이드 함수 시각화\n",
    "def sigmoid(x):\n",
    "    return 1 / (1+np.exp(-x))\n",
    "\n",
    "x_data = np.arange(-10, 10, 0.1)\n",
    "result = sigmoid(x_data)\n",
    "plt.figure(figsize=(10, 8))\n",
    "plt.plot(x_data, result)\n",
    "plt.scatter(decisions, expit(decisions), marker='^' ,color = 'g')\n",
    "plt.scatter(0, 0.5, marker = 'D', color = 'black')\n",
    "plt.axhline(0.5, color='black', linestyle='--', linewidth=2)\n",
    "plt.axvline(0, 0, 1, color='black', linestyle='--', linewidth=2)\n",
    "plt.title('시그모이드 시각화')\n",
    "plt.xlabel('Z값')\n",
    "plt.ylabel('시그모이드 값')\n",
    "plt.ylim(-0.1, 1.1)\n",
    "plt.show()"
   ]
  },
  {
   "cell_type": "markdown",
   "id": "30c61d63",
   "metadata": {},
   "source": [
    "### 로지스틱 회귀(다중 분류)"
   ]
  },
  {
   "cell_type": "code",
   "execution_count": 54,
   "id": "4ae3a382",
   "metadata": {
    "ExecuteTime": {
     "end_time": "2022-11-02T05:23:41.660469Z",
     "start_time": "2022-11-02T05:23:41.561667Z"
    }
   },
   "outputs": [
    {
     "name": "stdout",
     "output_type": "stream",
     "text": [
      "0.9327731092436975\n",
      "0.925\n"
     ]
    }
   ],
   "source": [
    "from sklearn.linear_model import LogisticRegression\n",
    "# 규제 C = 1 / alpha\n",
    "# max_iter : 반복횟수\n",
    "lr = LogisticRegression(C = 20, max_iter = 1000)\n",
    "lr.fit(train_scaled, train_target)\n",
    "print(lr.score(train_scaled, train_target))\n",
    "print(lr.score(test_scaled, test_target))"
   ]
  },
  {
   "cell_type": "code",
   "execution_count": 59,
   "id": "23d8f533",
   "metadata": {
    "ExecuteTime": {
     "end_time": "2022-11-02T05:26:41.371770Z",
     "start_time": "2022-11-02T05:26:41.356372Z"
    }
   },
   "outputs": [
    {
     "data": {
      "text/plain": [
       "array(['Bream', 'Parkki', 'Perch', 'Pike', 'Roach', 'Smelt', 'Whitefish'],\n",
       "      dtype=object)"
      ]
     },
     "execution_count": 59,
     "metadata": {},
     "output_type": "execute_result"
    }
   ],
   "source": [
    "lr.classes_"
   ]
  },
  {
   "cell_type": "code",
   "execution_count": 55,
   "id": "f14e84b7",
   "metadata": {
    "ExecuteTime": {
     "end_time": "2022-11-02T05:24:41.018696Z",
     "start_time": "2022-11-02T05:24:41.006736Z"
    }
   },
   "outputs": [
    {
     "data": {
      "text/plain": [
       "array(['Perch', 'Smelt', 'Pike', 'Roach', 'Perch'], dtype=object)"
      ]
     },
     "execution_count": 55,
     "metadata": {},
     "output_type": "execute_result"
    }
   ],
   "source": [
    "lr.predict(test_scaled[:5])"
   ]
  },
  {
   "cell_type": "code",
   "execution_count": 58,
   "id": "ca8194f2",
   "metadata": {
    "ExecuteTime": {
     "end_time": "2022-11-02T05:26:01.767233Z",
     "start_time": "2022-11-02T05:26:01.752704Z"
    }
   },
   "outputs": [
    {
     "data": {
      "text/plain": [
       "array([[0.   , 0.014, 0.841, 0.   , 0.136, 0.007, 0.003],\n",
       "       [0.   , 0.003, 0.044, 0.   , 0.007, 0.946, 0.   ],\n",
       "       [0.   , 0.   , 0.034, 0.935, 0.015, 0.016, 0.   ],\n",
       "       [0.011, 0.034, 0.306, 0.007, 0.567, 0.   , 0.076],\n",
       "       [0.   , 0.   , 0.904, 0.002, 0.089, 0.002, 0.001]])"
      ]
     },
     "execution_count": 58,
     "metadata": {},
     "output_type": "execute_result"
    }
   ],
   "source": [
    "proba = lr.predict_proba(test_scaled[:5])\n",
    "np.round(proba, decimals = 3)\n",
    "# 'Bream', 'Parkki', 'Perch', 'Pike', 'Roach', 'Smelt', 'Whitefish'"
   ]
  }
 ],
 "metadata": {
  "kernelspec": {
   "display_name": "Python 3 (ipykernel)",
   "language": "python",
   "name": "python3"
  },
  "language_info": {
   "codemirror_mode": {
    "name": "ipython",
    "version": 3
   },
   "file_extension": ".py",
   "mimetype": "text/x-python",
   "name": "python",
   "nbconvert_exporter": "python",
   "pygments_lexer": "ipython3",
   "version": "3.9.7"
  },
  "toc": {
   "base_numbering": 1,
   "nav_menu": {},
   "number_sections": true,
   "sideBar": true,
   "skip_h1_title": false,
   "title_cell": "Table of Contents",
   "title_sidebar": "Contents",
   "toc_cell": false,
   "toc_position": {
    "height": "calc(100% - 180px)",
    "left": "10px",
    "top": "150px",
    "width": "341.333px"
   },
   "toc_section_display": true,
   "toc_window_display": true
  },
  "varInspector": {
   "cols": {
    "lenName": 16,
    "lenType": 16,
    "lenVar": 40
   },
   "kernels_config": {
    "python": {
     "delete_cmd_postfix": "",
     "delete_cmd_prefix": "del ",
     "library": "var_list.py",
     "varRefreshCmd": "print(var_dic_list())"
    },
    "r": {
     "delete_cmd_postfix": ") ",
     "delete_cmd_prefix": "rm(",
     "library": "var_list.r",
     "varRefreshCmd": "cat(var_dic_list()) "
    }
   },
   "types_to_exclude": [
    "module",
    "function",
    "builtin_function_or_method",
    "instance",
    "_Feature"
   ],
   "window_display": false
  }
 },
 "nbformat": 4,
 "nbformat_minor": 5
}
