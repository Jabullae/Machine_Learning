{
 "cells": [
  {
   "cell_type": "markdown",
   "id": "cc7629fa",
   "metadata": {},
   "source": [
    "# 군집분석이란?"
   ]
  },
  {
   "cell_type": "markdown",
   "id": "af9bfc48-17e5-49e7-abe2-48094aea3950",
   "metadata": {
    "tags": []
   },
   "source": [
    "1. 군집분석이란\n",
    "    - 서로 유사한 정도에 따라 다수의 객체를 군집으로 나누는 작업 또는 이엥 기반한 분석을 의미한다.\n",
    "    - 유사도가 높은 데이터끼리 그룹화(대표적으로 유클리드 거리계산식을 이용)\n",
    "    - 계층형 클러스터링과 비계층형 클러스터링으로 분류\n",
    "    - 주요 알고리즘 : k-means, hierarchical 등  \n",
    "    \n",
    "<br>\n",
    "\n",
    "2. 군집분석의 특징\n",
    "    - 종속변수(y)가 없는 데이터 마이닝 기법(비지도 학습)\n",
    "    - 유클리드 거리 기반 유사 객체 묶음(유사성 = 유클리드 거리)\n",
    "    - 전체적인 데이터 구조를 파악하는데 이용\n",
    "    - 분석 결과에 대한 가설 검정 없음(타다성 검증 방법 없음)\n",
    "    - 계층형 군집분석(탐색적), 비계층적 군집분석(확인적)  \n",
    "    \n",
    "<br>\n",
    "3. 계층적 군집분석(hierarchical)  \n",
    "\n",
    "    - 유클리드 거리를 이용한 군집분석 방법\n",
    "    - 계층적으로 군집 결과 도출\n",
    "    - 탐색적 군집분석\n",
    "    - 계층적 군집분석의 결과 : 덴드로그램(Dendrogram) - 표본들이 군을 형성하는 과정을 나타내는 나무 형식의 그림\n",
    "    - 군집 수는 사용자가 정할 수 있음  \n",
    "    \n",
    "<br>\n",
    "\n",
    "4. 비계층적 군집분석(k-means)  \n",
    "\n",
    "    - 계층적 군집분석보다 속도 빠름\n",
    "    - 군집의 수를 알고 있는 경우 이용\n",
    "    - k는 미리 정하는 군집수\n",
    "    - 확인적 군집분석\n",
    "    - 계층적 군집화의 결과에 의거하여 군집 수 결정\n",
    "    - 변수보다 관측대상 군집화에 많이 이용\n",
    "    - 군집의 중심(cluster center)은 사용자가 정함  \n",
    "    \n",
    "<br>\n",
    "\n",
    "5. k-means 군집분석 알고리즘  \n",
    "\n",
    "    1) k값을 초기값으로 k개의 centroid에 선정(랜덤)\n",
    "    2) 각 데이터 포인터를 가장 가까운 centroid에 할당\n",
    "    3) centroid에 할당된 모든 데이터 포인터의 중심 위치 계산(centroid 재조정)\n",
    "    4) 재조정된 centroid와 가장 가까운 데이터 포인트 할당\n",
    "    5) centroid 재조정이 발생되지 않을 때까지 3), 4) 단계 반복\n",
    "    "
   ]
  },
  {
   "cell_type": "code",
   "execution_count": null,
   "id": "2f512918-00db-4399-9256-f472779b0499",
   "metadata": {},
   "outputs": [],
   "source": []
  }
 ],
 "metadata": {
  "kernelspec": {
   "display_name": "Python 3 (ipykernel)",
   "language": "python",
   "name": "python3"
  },
  "language_info": {
   "codemirror_mode": {
    "name": "ipython",
    "version": 3
   },
   "file_extension": ".py",
   "mimetype": "text/x-python",
   "name": "python",
   "nbconvert_exporter": "python",
   "pygments_lexer": "ipython3",
   "version": "3.9.7"
  },
  "toc": {
   "base_numbering": 1,
   "nav_menu": {},
   "number_sections": true,
   "sideBar": true,
   "skip_h1_title": false,
   "title_cell": "Table of Contents",
   "title_sidebar": "Contents",
   "toc_cell": false,
   "toc_position": {},
   "toc_section_display": true,
   "toc_window_display": false
  },
  "varInspector": {
   "cols": {
    "lenName": 16,
    "lenType": 16,
    "lenVar": 40
   },
   "kernels_config": {
    "python": {
     "delete_cmd_postfix": "",
     "delete_cmd_prefix": "del ",
     "library": "var_list.py",
     "varRefreshCmd": "print(var_dic_list())"
    },
    "r": {
     "delete_cmd_postfix": ") ",
     "delete_cmd_prefix": "rm(",
     "library": "var_list.r",
     "varRefreshCmd": "cat(var_dic_list()) "
    }
   },
   "types_to_exclude": [
    "module",
    "function",
    "builtin_function_or_method",
    "instance",
    "_Feature"
   ],
   "window_display": false
  }
 },
 "nbformat": 4,
 "nbformat_minor": 5
}
