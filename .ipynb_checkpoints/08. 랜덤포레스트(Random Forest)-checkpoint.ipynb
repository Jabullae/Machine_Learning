{
 "cells": [
  {
   "cell_type": "markdown",
   "id": "d957ef6a",
   "metadata": {},
   "source": [
    "# 현업에서 사용중인 머신러닝 알고리즘 Top10\n",
    "\n",
    "1. 지도학습\n",
    "    - 선형회귀\n",
    "    - 로지스틱회귀\n",
    "    - k-nn\n",
    "    - 나이브베이스\n",
    "    - 결정트리\n",
    "    - 랜덤포레스트\n",
    "    - XGBoost\n",
    "    - LightGBM  \n",
    "      \n",
    "      \n",
    "\n",
    "2. 비지도학습\n",
    "    - k-means\n",
    "    - PCA  \n",
    "      \n",
    "      \n",
    "\n",
    "3. 선택이유\n",
    "    - 범용성\n",
    "    - 속도\n",
    "    - 예측력\n",
    "    - 하이퍼파라미터 튜닝\n",
    "    - 시각화\n",
    "    - 해석력"
   ]
  },
  {
   "cell_type": "markdown",
   "id": "9978b133",
   "metadata": {},
   "source": [
    "# 머신러닝 필수 라이브러리\n",
    "1. Numpy : Nummerical Python의 줄임\n",
    "    - 파이썬 산술계산의 대표적인 라이브러리\n",
    "    - 자료구조, 알고리즘 산술 데이터를 다루는 대부분의 과학 계산에 필수 라이브러리\n",
    "    - ndarray 객체\n",
    "  \n",
    "    \n",
    "2. Pandas : 구조화된 데이터나 표 형식의 데이터를 빠르고 쉽게 표현적으로 다루도록 설계된 고수준 자료구조\n",
    "    - 데이터 과학에서 데이터를 처리하는 대표적인 라이브러리\n",
    "    - 데이터 핸들링의 표준\n",
    "    - Series 객체와 DataFrame 객체가 대표적인 자료구조  \n",
    "    \n",
    "    \n",
    "3. Matplotlib : 시각화 라이브러리\n",
    "    - 그래프나 2차원 데이터를 시각화하는 파이썬 기반의 라이브러리  \n",
    "    \n",
    "    \n",
    "4. Seaborn : 다양한 시각화 종류를 제공하는 라이브러리\n",
    "    - Matplotlib에 종속된 라이브러리  \n",
    "    \n",
    "    \n",
    "5. Scipy : 사이파이\n",
    "    - 과학 계산 컴퓨팅 영역의 여러 기본 문제를 다루는 패키지 모음\n",
    "    - Scipy.stats : 가장 많이 사용되는 통계도구를 가지고 있는 라이브러리  \n",
    "    \n",
    "    \n",
    "6. scikit-learn : 머신러닝의 핵심 라이브러리\n",
    "    - 분류 : SVM, 최근접 이웃, 랜덤 포레스트, 로지스틱 회귀 등\n",
    "    - 회귀 : 라쏘, 릿지 회귀 등\n",
    "    - 클러스터링 : k-평균 등\n",
    "    - 차원축소 : PCA, 특징 선택, 행렬 인수분해 등\n",
    "    - 모델 선택 : 격자 탐색, 교차검증, 행렬\n",
    "    - 전처리 : 특징 추출, 정규화 등  \n",
    "    \n",
    "    \n",
    "7. statsmodels : R 언어용 회귀분석 모델을 구현한 통계분석 패키지\n",
    "    - 회귀모델 : 선형회귀\n",
    "    - 분산분석(ANOVA)\n",
    "    - 시계열분석 : AR, ARMA, ARIMA 등\n",
    "    - 통계 모델 결과의 시각화 제공\n",
    "    "
   ]
  },
  {
   "cell_type": "markdown",
   "id": "e19e8999",
   "metadata": {},
   "source": [
    "# 앙상블 학습"
   ]
  },
  {
   "cell_type": "code",
   "execution_count": 4,
   "id": "0e0bfc97",
   "metadata": {
    "ExecuteTime": {
     "end_time": "2022-11-07T00:49:04.372917Z",
     "start_time": "2022-11-07T00:49:04.057730Z"
    }
   },
   "outputs": [],
   "source": [
    "import numpy as np\n",
    "import pandas as pd\n",
    "import matplotlib.pyplot as plt\n",
    "import matplotlib as mpl\n",
    "\n",
    "# 보팅 분류기\n",
    "from sklearn.ensemble import VotingClassifier\n",
    "\n",
    "# 보팅용 학습알고리즘\n",
    "from sklearn.linear_model import LogisticRegression\n",
    "from sklearn.neighbors import KNeighborsClassifier\n",
    "\n",
    "from sklearn.model_selection import train_test_split\n",
    "from sklearn.metrics import accuracy_score\n",
    "\n",
    "# 데이터셋\n",
    "from sklearn.datasets import load_breast_cancer\n",
    "cancer = load_breast_cancer()\n",
    "\n",
    "# 경고무시\n",
    "from warnings import filterwarnings\n",
    "filterwarnings('ignore')\n",
    "\n",
    "# ggplot 스타일\n",
    "mpl.style.use('ggplot')\n",
    "# matplotlib 한글화\n",
    "mpl.rcParams['font.family'] = 'D2coding'"
   ]
  },
  {
   "cell_type": "code",
   "execution_count": 11,
   "id": "e63f8873",
   "metadata": {
    "ExecuteTime": {
     "end_time": "2022-11-07T00:50:15.597748Z",
     "start_time": "2022-11-07T00:50:15.580784Z"
    }
   },
   "outputs": [
    {
     "data": {
      "text/plain": [
       "array(['mean radius', 'mean texture', 'mean perimeter', 'mean area',\n",
       "       'mean smoothness', 'mean compactness', 'mean concavity',\n",
       "       'mean concave points', 'mean symmetry', 'mean fractal dimension',\n",
       "       'radius error', 'texture error', 'perimeter error', 'area error',\n",
       "       'smoothness error', 'compactness error', 'concavity error',\n",
       "       'concave points error', 'symmetry error',\n",
       "       'fractal dimension error', 'worst radius', 'worst texture',\n",
       "       'worst perimeter', 'worst area', 'worst smoothness',\n",
       "       'worst compactness', 'worst concavity', 'worst concave points',\n",
       "       'worst symmetry', 'worst fractal dimension'], dtype='<U23')"
      ]
     },
     "execution_count": 11,
     "metadata": {},
     "output_type": "execute_result"
    }
   ],
   "source": [
    "cancer.feature_names"
   ]
  },
  {
   "cell_type": "code",
   "execution_count": 13,
   "id": "7bc72ef0",
   "metadata": {
    "ExecuteTime": {
     "end_time": "2022-11-07T01:08:37.400966Z",
     "start_time": "2022-11-07T01:08:37.395980Z"
    }
   },
   "outputs": [
    {
     "data": {
      "text/plain": [
       "dict_keys(['data', 'target', 'frame', 'target_names', 'DESCR', 'feature_names', 'filename'])"
      ]
     },
     "execution_count": 13,
     "metadata": {},
     "output_type": "execute_result"
    }
   ],
   "source": [
    "cancer.keys()"
   ]
  },
  {
   "cell_type": "code",
   "execution_count": 14,
   "id": "e783e13f",
   "metadata": {
    "ExecuteTime": {
     "end_time": "2022-11-07T01:09:21.208506Z",
     "start_time": "2022-11-07T01:09:21.159407Z"
    }
   },
   "outputs": [
    {
     "data": {
      "text/html": [
       "<div>\n",
       "<style scoped>\n",
       "    .dataframe tbody tr th:only-of-type {\n",
       "        vertical-align: middle;\n",
       "    }\n",
       "\n",
       "    .dataframe tbody tr th {\n",
       "        vertical-align: top;\n",
       "    }\n",
       "\n",
       "    .dataframe thead th {\n",
       "        text-align: right;\n",
       "    }\n",
       "</style>\n",
       "<table border=\"1\" class=\"dataframe\">\n",
       "  <thead>\n",
       "    <tr style=\"text-align: right;\">\n",
       "      <th></th>\n",
       "      <th>mean radius</th>\n",
       "      <th>mean texture</th>\n",
       "      <th>mean perimeter</th>\n",
       "      <th>mean area</th>\n",
       "      <th>mean smoothness</th>\n",
       "      <th>mean compactness</th>\n",
       "      <th>mean concavity</th>\n",
       "      <th>mean concave points</th>\n",
       "      <th>mean symmetry</th>\n",
       "      <th>mean fractal dimension</th>\n",
       "      <th>...</th>\n",
       "      <th>worst radius</th>\n",
       "      <th>worst texture</th>\n",
       "      <th>worst perimeter</th>\n",
       "      <th>worst area</th>\n",
       "      <th>worst smoothness</th>\n",
       "      <th>worst compactness</th>\n",
       "      <th>worst concavity</th>\n",
       "      <th>worst concave points</th>\n",
       "      <th>worst symmetry</th>\n",
       "      <th>worst fractal dimension</th>\n",
       "    </tr>\n",
       "  </thead>\n",
       "  <tbody>\n",
       "    <tr>\n",
       "      <th>0</th>\n",
       "      <td>17.99</td>\n",
       "      <td>10.38</td>\n",
       "      <td>122.8</td>\n",
       "      <td>1001.0</td>\n",
       "      <td>0.11840</td>\n",
       "      <td>0.27760</td>\n",
       "      <td>0.3001</td>\n",
       "      <td>0.14710</td>\n",
       "      <td>0.2419</td>\n",
       "      <td>0.07871</td>\n",
       "      <td>...</td>\n",
       "      <td>25.38</td>\n",
       "      <td>17.33</td>\n",
       "      <td>184.6</td>\n",
       "      <td>2019.0</td>\n",
       "      <td>0.1622</td>\n",
       "      <td>0.6656</td>\n",
       "      <td>0.7119</td>\n",
       "      <td>0.2654</td>\n",
       "      <td>0.4601</td>\n",
       "      <td>0.11890</td>\n",
       "    </tr>\n",
       "    <tr>\n",
       "      <th>1</th>\n",
       "      <td>20.57</td>\n",
       "      <td>17.77</td>\n",
       "      <td>132.9</td>\n",
       "      <td>1326.0</td>\n",
       "      <td>0.08474</td>\n",
       "      <td>0.07864</td>\n",
       "      <td>0.0869</td>\n",
       "      <td>0.07017</td>\n",
       "      <td>0.1812</td>\n",
       "      <td>0.05667</td>\n",
       "      <td>...</td>\n",
       "      <td>24.99</td>\n",
       "      <td>23.41</td>\n",
       "      <td>158.8</td>\n",
       "      <td>1956.0</td>\n",
       "      <td>0.1238</td>\n",
       "      <td>0.1866</td>\n",
       "      <td>0.2416</td>\n",
       "      <td>0.1860</td>\n",
       "      <td>0.2750</td>\n",
       "      <td>0.08902</td>\n",
       "    </tr>\n",
       "    <tr>\n",
       "      <th>2</th>\n",
       "      <td>19.69</td>\n",
       "      <td>21.25</td>\n",
       "      <td>130.0</td>\n",
       "      <td>1203.0</td>\n",
       "      <td>0.10960</td>\n",
       "      <td>0.15990</td>\n",
       "      <td>0.1974</td>\n",
       "      <td>0.12790</td>\n",
       "      <td>0.2069</td>\n",
       "      <td>0.05999</td>\n",
       "      <td>...</td>\n",
       "      <td>23.57</td>\n",
       "      <td>25.53</td>\n",
       "      <td>152.5</td>\n",
       "      <td>1709.0</td>\n",
       "      <td>0.1444</td>\n",
       "      <td>0.4245</td>\n",
       "      <td>0.4504</td>\n",
       "      <td>0.2430</td>\n",
       "      <td>0.3613</td>\n",
       "      <td>0.08758</td>\n",
       "    </tr>\n",
       "  </tbody>\n",
       "</table>\n",
       "<p>3 rows × 30 columns</p>\n",
       "</div>"
      ],
      "text/plain": [
       "   mean radius  mean texture  mean perimeter  mean area  mean smoothness  \\\n",
       "0        17.99         10.38           122.8     1001.0          0.11840   \n",
       "1        20.57         17.77           132.9     1326.0          0.08474   \n",
       "2        19.69         21.25           130.0     1203.0          0.10960   \n",
       "\n",
       "   mean compactness  mean concavity  mean concave points  mean symmetry  \\\n",
       "0           0.27760          0.3001              0.14710         0.2419   \n",
       "1           0.07864          0.0869              0.07017         0.1812   \n",
       "2           0.15990          0.1974              0.12790         0.2069   \n",
       "\n",
       "   mean fractal dimension  ...  worst radius  worst texture  worst perimeter  \\\n",
       "0                 0.07871  ...         25.38          17.33            184.6   \n",
       "1                 0.05667  ...         24.99          23.41            158.8   \n",
       "2                 0.05999  ...         23.57          25.53            152.5   \n",
       "\n",
       "   worst area  worst smoothness  worst compactness  worst concavity  \\\n",
       "0      2019.0            0.1622             0.6656           0.7119   \n",
       "1      1956.0            0.1238             0.1866           0.2416   \n",
       "2      1709.0            0.1444             0.4245           0.4504   \n",
       "\n",
       "   worst concave points  worst symmetry  worst fractal dimension  \n",
       "0                0.2654          0.4601                  0.11890  \n",
       "1                0.1860          0.2750                  0.08902  \n",
       "2                0.2430          0.3613                  0.08758  \n",
       "\n",
       "[3 rows x 30 columns]"
      ]
     },
     "execution_count": 14,
     "metadata": {},
     "output_type": "execute_result"
    }
   ],
   "source": [
    "df = pd.DataFrame(cancer.data, columns = cancer.feature_names)\n",
    "df.head(3)"
   ]
  },
  {
   "cell_type": "code",
   "execution_count": 15,
   "id": "c6c9eb5c",
   "metadata": {
    "ExecuteTime": {
     "end_time": "2022-11-07T01:11:37.628493Z",
     "start_time": "2022-11-07T01:11:37.609543Z"
    }
   },
   "outputs": [
    {
     "data": {
      "text/plain": [
       "(569, 30)"
      ]
     },
     "execution_count": 15,
     "metadata": {},
     "output_type": "execute_result"
    }
   ],
   "source": [
    "df.shape"
   ]
  },
  {
   "cell_type": "code",
   "execution_count": 17,
   "id": "d95e373d",
   "metadata": {
    "ExecuteTime": {
     "end_time": "2022-11-07T01:15:07.047169Z",
     "start_time": "2022-11-07T01:15:07.030208Z"
    }
   },
   "outputs": [],
   "source": [
    "logistic_regression = LogisticRegression()\n",
    "knn = KNeighborsClassifier(n_neighbors = 5)\n",
    "\n",
    "voting_model = VotingClassifier(estimators = [('LogisticRegression', logistic_regression), ('KNN', knn)], \n",
    "                               voting = 'soft')"
   ]
  },
  {
   "cell_type": "code",
   "execution_count": 18,
   "id": "2b77f8cc",
   "metadata": {
    "ExecuteTime": {
     "end_time": "2022-11-07T01:17:16.345845Z",
     "start_time": "2022-11-07T01:17:16.334871Z"
    }
   },
   "outputs": [],
   "source": [
    "X_train, X_test, y_train, y_test = train_test_split(cancer.data, cancer.target, test_size = 0.2, random_state = 156)"
   ]
  },
  {
   "cell_type": "code",
   "execution_count": 19,
   "id": "2495d2ac",
   "metadata": {
    "ExecuteTime": {
     "end_time": "2022-11-07T01:18:25.051335Z",
     "start_time": "2022-11-07T01:18:24.918794Z"
    }
   },
   "outputs": [
    {
     "data": {
      "text/plain": [
       "array([1, 0, 1, 0, 1, 1, 1, 1, 1, 0, 0, 0, 1, 1, 1, 1, 1, 1, 1, 1, 0, 1,\n",
       "       0, 1, 0, 1, 1, 0, 1, 0, 1, 0, 1, 1, 0, 0, 1, 1, 0, 1, 1, 1, 1, 1,\n",
       "       1, 1, 0, 1, 1, 1, 1, 0, 1, 1, 1, 1, 1, 1, 1, 0, 1, 1, 0, 0, 1, 1,\n",
       "       0, 1, 1, 1, 0, 1, 0, 1, 1, 0, 1, 1, 1, 0, 0, 1, 1, 1, 1, 1, 1, 1,\n",
       "       1, 0, 0, 1, 0, 0, 1, 1, 0, 1, 0, 1, 0, 0, 1, 1, 1, 1, 1, 1, 1, 1,\n",
       "       1, 1, 1, 1])"
      ]
     },
     "execution_count": 19,
     "metadata": {},
     "output_type": "execute_result"
    }
   ],
   "source": [
    "voting_model.fit(X_train, y_train)\n",
    "pred = voting_model.predict(X_test)\n",
    "pred # X_test를 예측한 데이터"
   ]
  },
  {
   "cell_type": "code",
   "execution_count": 20,
   "id": "0a460fb2",
   "metadata": {
    "ExecuteTime": {
     "end_time": "2022-11-07T01:19:33.272689Z",
     "start_time": "2022-11-07T01:19:33.256987Z"
    }
   },
   "outputs": [
    {
     "name": "stdout",
     "output_type": "stream",
     "text": [
      "보팅 분류기 정확도 : 0.947\n"
     ]
    }
   ],
   "source": [
    "print('보팅 분류기 정확도 : {:.3f}'.format(accuracy_score(y_test, pred)))"
   ]
  },
  {
   "cell_type": "code",
   "execution_count": 29,
   "id": "7abc7cdc",
   "metadata": {
    "ExecuteTime": {
     "end_time": "2022-11-07T01:27:46.467040Z",
     "start_time": "2022-11-07T01:27:46.412189Z"
    }
   },
   "outputs": [
    {
     "name": "stdout",
     "output_type": "stream",
     "text": [
      "모델명 : LogisticRegression\n",
      "정확도 : 0.939\n",
      "\n",
      "모델명 : KNeighborsClassifier\n",
      "정확도 : 0.904\n",
      "\n"
     ]
    }
   ],
   "source": [
    "# 개별 모델의 학습과 예측 그리고 평가\n",
    "classifier = [logistic_regression, knn]\n",
    "\n",
    "for model in classifier:\n",
    "    model.fit(X_train, y_train)\n",
    "    pred = model.predict(X_test)\n",
    "    model_name = model.__class__.__name__\n",
    "    print('모델명 : {}'.format(model_name))\n",
    "    print('정확도 : {:.3f}\\n'.format(accuracy_score(y_test, pred)))"
   ]
  },
  {
   "cell_type": "markdown",
   "id": "21076029",
   "metadata": {},
   "source": [
    "# 랜덤포레스트(RandomForest)"
   ]
  },
  {
   "cell_type": "code",
   "execution_count": 43,
   "id": "a709ea2d",
   "metadata": {
    "ExecuteTime": {
     "end_time": "2022-11-07T01:50:22.396439Z",
     "start_time": "2022-11-07T01:50:22.240601Z"
    }
   },
   "outputs": [],
   "source": [
    "wine = pd.read_csv('https://raw.githubusercontent.com/rickiepark/hg-mldl/master/wine.csv')\n",
    "\n",
    "data = wine[['alcohol', 'sugar', 'pH']].to_numpy()\n",
    "target = wine['class'].to_numpy()"
   ]
  },
  {
   "cell_type": "code",
   "execution_count": 44,
   "id": "c4ceb013",
   "metadata": {
    "ExecuteTime": {
     "end_time": "2022-11-07T01:50:22.664290Z",
     "start_time": "2022-11-07T01:50:22.645319Z"
    }
   },
   "outputs": [],
   "source": [
    "X_train, X_test, y_train, y_test = train_test_split(data, target, test_size = 0.2, random_state = 42)"
   ]
  },
  {
   "cell_type": "code",
   "execution_count": 45,
   "id": "4f46bb0c",
   "metadata": {
    "ExecuteTime": {
     "end_time": "2022-11-07T01:50:23.983997Z",
     "start_time": "2022-11-07T01:50:23.167561Z"
    }
   },
   "outputs": [
    {
     "name": "stdout",
     "output_type": "stream",
     "text": [
      "훈련테스트 데이터 : 0.9974, 테스트데이터 점수 : 0.8905\n"
     ]
    }
   ],
   "source": [
    "from sklearn.model_selection import cross_validate\n",
    "from sklearn.ensemble import RandomForestClassifier\n",
    "\n",
    "rf = RandomForestClassifier(n_jobs = -1, random_state = 42)\n",
    "scores = cross_validate(rf, X_train, y_train, return_train_score = True) # return_train_score : 훈련세트와 테스트데이터 점수 둘 다 출력\n",
    "\n",
    "print('훈련테스트 데이터 : {:.4f}, 테스트데이터 점수 : {:.4f}'.format(np.mean(scores['train_score']), np.mean(scores['test_score'])))"
   ]
  },
  {
   "cell_type": "code",
   "execution_count": 53,
   "id": "97c6da06",
   "metadata": {
    "ExecuteTime": {
     "end_time": "2022-11-07T02:00:47.182132Z",
     "start_time": "2022-11-07T01:58:24.074131Z"
    }
   },
   "outputs": [
    {
     "name": "stdout",
     "output_type": "stream",
     "text": [
      "1. 그리드 서치를 이용한 최적의 매게변수 :  {'max_depth': 10, 'min_samples_leaf': 2, 'min_samples_split': 2}\n",
      "2. 그리드 서치를 이용한 최적의 매게변수 점수 : 0.885\n",
      "3. 최적의 교차검증 점수 : 0.885\n",
      "4. 훈련데이터 점수 : 0.923\n",
      "5. 테스트데이터 점수 : 0.869\n"
     ]
    }
   ],
   "source": [
    "# 그리드 서치\n",
    "from sklearn.tree import DecisionTreeClassifier\n",
    "from sklearn.model_selection import GridSearchCV\n",
    "rf = RandomForestClassifier(n_jobs = -1, random_state = 42)\n",
    "\n",
    "params = {\n",
    "    'max_depth':[2, 3, 4, 5, 6, 7, 8, 9, 10],    \n",
    "    'min_samples_leaf':[1, 2, 3, 4, 5, 6, 7, 8, 9],\n",
    "    'min_samples_split':[2, 3, 4, 5, 6, 7, 8, 9, 10]\n",
    "}\n",
    "\n",
    "gs = GridSearchCV(rf, param_grid = params, cv = 3, refit = True, n_jobs = -1) # n_jobs는 실행 코어수 조절(-1을 주면 모든 코어 사용)\n",
    "gs.fit(X_train, y_train)\n",
    "\n",
    "# 그리드 서치를 사용한 모델의 최적의 파라미터값\n",
    "model = gs.best_estimator_\n",
    "print('1. 그리드 서치를 이용한 최적의 매게변수 : ', gs.best_params_)\n",
    "print('2. 그리드 서치를 이용한 최적의 매게변수 점수 : {:.3f}'.format(gs.best_score_))\n",
    "print('3. 최적의 교차검증 점수 : {:.3f}'.format(np.max(gs.cv_results_['mean_test_score'])))\n",
    "print('4. 훈련데이터 점수 : {:.3f}'.format(model.score(X_train, y_train)))\n",
    "print('5. 테스트데이터 점수 : {:.3f}'.format(model.score(X_test, y_test)))\n"
   ]
  },
  {
   "cell_type": "code",
   "execution_count": 55,
   "id": "bbf8527b",
   "metadata": {
    "ExecuteTime": {
     "end_time": "2022-11-07T02:01:41.149805Z",
     "start_time": "2022-11-07T02:01:40.895048Z"
    }
   },
   "outputs": [
    {
     "name": "stdout",
     "output_type": "stream",
     "text": [
      "특성 중요도 - alcohol : 0.2317, sugar : 0.5004, pH : 0.2679\n"
     ]
    }
   ],
   "source": [
    "rf.fit(X_train, y_train)\n",
    "\n",
    "# 랜덤 포레스트를 사용했을때 특성을 더 골고루 사용한다. \n",
    "print('특성 중요도 - alcohol : {:.4f}, sugar : {:.4f}, pH : {:.4f}'.format(\n",
    "    rf.feature_importances_[0], rf.feature_importances_[1], rf.feature_importances_[2]))"
   ]
  },
  {
   "cell_type": "code",
   "execution_count": 52,
   "id": "9f9085df",
   "metadata": {
    "ExecuteTime": {
     "end_time": "2022-11-07T01:58:15.488792Z",
     "start_time": "2022-11-07T01:58:14.938704Z"
    }
   },
   "outputs": [
    {
     "name": "stdout",
     "output_type": "stream",
     "text": [
      "0.8934000384837406\n"
     ]
    }
   ],
   "source": [
    "# OOB(Out Of Bag) 샘플 : 부트스트랩 샘플에 포함되지 않고 남는 샘플\n",
    "rf = RandomForestClassifier(oob_score = True, n_jobs = -1, random_state = 42)\n",
    "rf.fit(X_train, y_train)\n",
    "\n",
    "print(rf.oob_score_)"
   ]
  },
  {
   "cell_type": "markdown",
   "id": "68f6a804",
   "metadata": {},
   "source": [
    "# 실전예제 : 중고차 가격 예측\n",
    "1. 알고리즘 : 랜덤포레스트(RandomForest)  \n",
    "  \n",
    "  \n",
    "2. 데이터 셋 : 해외 중고차 거래 데이터셋 이용  \n",
    "  \n",
    "  \n",
    "3. 데이터 셋의 소개 : 종속변수(), 독립변수()\n",
    "    - 중고차 판매 이력을 수집한 데이터 세트  \n",
    "    \n",
    "    \n",
    "4. 문제유형 : 회귀  \n",
    "  \n",
    "  \n",
    "5. 평가지표 : RMSE  \n",
    "  \n",
    "  \n",
    "6. 사용할 모델 : RandomForestRegressor  \n",
    "  \n",
    "  \n",
    "7. 사용 라이브러리 : "
   ]
  },
  {
   "cell_type": "code",
   "execution_count": 173,
   "id": "770cacc3",
   "metadata": {
    "ExecuteTime": {
     "end_time": "2022-11-07T06:13:31.719440Z",
     "start_time": "2022-11-07T06:13:31.279050Z"
    },
    "scrolled": false
   },
   "outputs": [
    {
     "data": {
      "text/html": [
       "<div>\n",
       "<style scoped>\n",
       "    .dataframe tbody tr th:only-of-type {\n",
       "        vertical-align: middle;\n",
       "    }\n",
       "\n",
       "    .dataframe tbody tr th {\n",
       "        vertical-align: top;\n",
       "    }\n",
       "\n",
       "    .dataframe thead th {\n",
       "        text-align: right;\n",
       "    }\n",
       "</style>\n",
       "<table border=\"1\" class=\"dataframe\">\n",
       "  <thead>\n",
       "    <tr style=\"text-align: right;\">\n",
       "      <th></th>\n",
       "      <th>name</th>\n",
       "      <th>year</th>\n",
       "      <th>selling_price</th>\n",
       "      <th>km_driven</th>\n",
       "      <th>fuel</th>\n",
       "      <th>seller_type</th>\n",
       "      <th>transmission</th>\n",
       "      <th>owner</th>\n",
       "      <th>mileage</th>\n",
       "      <th>engine</th>\n",
       "      <th>max_power</th>\n",
       "      <th>torque</th>\n",
       "      <th>seats</th>\n",
       "    </tr>\n",
       "  </thead>\n",
       "  <tbody>\n",
       "    <tr>\n",
       "      <th>0</th>\n",
       "      <td>Maruti Swift Dzire VDI</td>\n",
       "      <td>2014</td>\n",
       "      <td>450000</td>\n",
       "      <td>145500</td>\n",
       "      <td>Diesel</td>\n",
       "      <td>Individual</td>\n",
       "      <td>Manual</td>\n",
       "      <td>First Owner</td>\n",
       "      <td>23.4 kmpl</td>\n",
       "      <td>1248 CC</td>\n",
       "      <td>74 bhp</td>\n",
       "      <td>190Nm@ 2000rpm</td>\n",
       "      <td>5.0</td>\n",
       "    </tr>\n",
       "    <tr>\n",
       "      <th>1</th>\n",
       "      <td>Skoda Rapid 1.5 TDI Ambition</td>\n",
       "      <td>2014</td>\n",
       "      <td>370000</td>\n",
       "      <td>120000</td>\n",
       "      <td>Diesel</td>\n",
       "      <td>Individual</td>\n",
       "      <td>Manual</td>\n",
       "      <td>Second Owner</td>\n",
       "      <td>21.14 kmpl</td>\n",
       "      <td>1498 CC</td>\n",
       "      <td>103.52 bhp</td>\n",
       "      <td>250Nm@ 1500-2500rpm</td>\n",
       "      <td>5.0</td>\n",
       "    </tr>\n",
       "    <tr>\n",
       "      <th>2</th>\n",
       "      <td>Honda City 2017-2020 EXi</td>\n",
       "      <td>2006</td>\n",
       "      <td>158000</td>\n",
       "      <td>140000</td>\n",
       "      <td>Petrol</td>\n",
       "      <td>Individual</td>\n",
       "      <td>Manual</td>\n",
       "      <td>Third Owner</td>\n",
       "      <td>17.7 kmpl</td>\n",
       "      <td>1497 CC</td>\n",
       "      <td>78 bhp</td>\n",
       "      <td>12.7@ 2,700(kgm@ rpm)</td>\n",
       "      <td>5.0</td>\n",
       "    </tr>\n",
       "    <tr>\n",
       "      <th>3</th>\n",
       "      <td>Hyundai i20 Sportz Diesel</td>\n",
       "      <td>2010</td>\n",
       "      <td>225000</td>\n",
       "      <td>127000</td>\n",
       "      <td>Diesel</td>\n",
       "      <td>Individual</td>\n",
       "      <td>Manual</td>\n",
       "      <td>First Owner</td>\n",
       "      <td>23.0 kmpl</td>\n",
       "      <td>1396 CC</td>\n",
       "      <td>90 bhp</td>\n",
       "      <td>22.4 kgm at 1750-2750rpm</td>\n",
       "      <td>5.0</td>\n",
       "    </tr>\n",
       "    <tr>\n",
       "      <th>4</th>\n",
       "      <td>Maruti Swift VXI BSIII</td>\n",
       "      <td>2007</td>\n",
       "      <td>130000</td>\n",
       "      <td>120000</td>\n",
       "      <td>Petrol</td>\n",
       "      <td>Individual</td>\n",
       "      <td>Manual</td>\n",
       "      <td>First Owner</td>\n",
       "      <td>16.1 kmpl</td>\n",
       "      <td>1298 CC</td>\n",
       "      <td>88.2 bhp</td>\n",
       "      <td>11.5@ 4,500(kgm@ rpm)</td>\n",
       "      <td>5.0</td>\n",
       "    </tr>\n",
       "    <tr>\n",
       "      <th>...</th>\n",
       "      <td>...</td>\n",
       "      <td>...</td>\n",
       "      <td>...</td>\n",
       "      <td>...</td>\n",
       "      <td>...</td>\n",
       "      <td>...</td>\n",
       "      <td>...</td>\n",
       "      <td>...</td>\n",
       "      <td>...</td>\n",
       "      <td>...</td>\n",
       "      <td>...</td>\n",
       "      <td>...</td>\n",
       "      <td>...</td>\n",
       "    </tr>\n",
       "    <tr>\n",
       "      <th>8123</th>\n",
       "      <td>Hyundai i20 Magna</td>\n",
       "      <td>2013</td>\n",
       "      <td>320000</td>\n",
       "      <td>110000</td>\n",
       "      <td>Petrol</td>\n",
       "      <td>Individual</td>\n",
       "      <td>Manual</td>\n",
       "      <td>First Owner</td>\n",
       "      <td>18.5 kmpl</td>\n",
       "      <td>1197 CC</td>\n",
       "      <td>82.85 bhp</td>\n",
       "      <td>113.7Nm@ 4000rpm</td>\n",
       "      <td>5.0</td>\n",
       "    </tr>\n",
       "    <tr>\n",
       "      <th>8124</th>\n",
       "      <td>Hyundai Verna CRDi SX</td>\n",
       "      <td>2007</td>\n",
       "      <td>135000</td>\n",
       "      <td>119000</td>\n",
       "      <td>Diesel</td>\n",
       "      <td>Individual</td>\n",
       "      <td>Manual</td>\n",
       "      <td>Fourth &amp; Above Owner</td>\n",
       "      <td>16.8 kmpl</td>\n",
       "      <td>1493 CC</td>\n",
       "      <td>110 bhp</td>\n",
       "      <td>24@ 1,900-2,750(kgm@ rpm)</td>\n",
       "      <td>5.0</td>\n",
       "    </tr>\n",
       "    <tr>\n",
       "      <th>8125</th>\n",
       "      <td>Maruti Swift Dzire ZDi</td>\n",
       "      <td>2009</td>\n",
       "      <td>382000</td>\n",
       "      <td>120000</td>\n",
       "      <td>Diesel</td>\n",
       "      <td>Individual</td>\n",
       "      <td>Manual</td>\n",
       "      <td>First Owner</td>\n",
       "      <td>19.3 kmpl</td>\n",
       "      <td>1248 CC</td>\n",
       "      <td>73.9 bhp</td>\n",
       "      <td>190Nm@ 2000rpm</td>\n",
       "      <td>5.0</td>\n",
       "    </tr>\n",
       "    <tr>\n",
       "      <th>8126</th>\n",
       "      <td>Tata Indigo CR4</td>\n",
       "      <td>2013</td>\n",
       "      <td>290000</td>\n",
       "      <td>25000</td>\n",
       "      <td>Diesel</td>\n",
       "      <td>Individual</td>\n",
       "      <td>Manual</td>\n",
       "      <td>First Owner</td>\n",
       "      <td>23.57 kmpl</td>\n",
       "      <td>1396 CC</td>\n",
       "      <td>70 bhp</td>\n",
       "      <td>140Nm@ 1800-3000rpm</td>\n",
       "      <td>5.0</td>\n",
       "    </tr>\n",
       "    <tr>\n",
       "      <th>8127</th>\n",
       "      <td>Tata Indigo CR4</td>\n",
       "      <td>2013</td>\n",
       "      <td>290000</td>\n",
       "      <td>25000</td>\n",
       "      <td>Diesel</td>\n",
       "      <td>Individual</td>\n",
       "      <td>Manual</td>\n",
       "      <td>First Owner</td>\n",
       "      <td>23.57 kmpl</td>\n",
       "      <td>1396 CC</td>\n",
       "      <td>70 bhp</td>\n",
       "      <td>140Nm@ 1800-3000rpm</td>\n",
       "      <td>5.0</td>\n",
       "    </tr>\n",
       "  </tbody>\n",
       "</table>\n",
       "<p>8128 rows × 13 columns</p>\n",
       "</div>"
      ],
      "text/plain": [
       "                              name  year  selling_price  km_driven    fuel  \\\n",
       "0           Maruti Swift Dzire VDI  2014         450000     145500  Diesel   \n",
       "1     Skoda Rapid 1.5 TDI Ambition  2014         370000     120000  Diesel   \n",
       "2         Honda City 2017-2020 EXi  2006         158000     140000  Petrol   \n",
       "3        Hyundai i20 Sportz Diesel  2010         225000     127000  Diesel   \n",
       "4           Maruti Swift VXI BSIII  2007         130000     120000  Petrol   \n",
       "...                            ...   ...            ...        ...     ...   \n",
       "8123             Hyundai i20 Magna  2013         320000     110000  Petrol   \n",
       "8124         Hyundai Verna CRDi SX  2007         135000     119000  Diesel   \n",
       "8125        Maruti Swift Dzire ZDi  2009         382000     120000  Diesel   \n",
       "8126               Tata Indigo CR4  2013         290000      25000  Diesel   \n",
       "8127               Tata Indigo CR4  2013         290000      25000  Diesel   \n",
       "\n",
       "     seller_type transmission                 owner     mileage   engine  \\\n",
       "0     Individual       Manual           First Owner   23.4 kmpl  1248 CC   \n",
       "1     Individual       Manual          Second Owner  21.14 kmpl  1498 CC   \n",
       "2     Individual       Manual           Third Owner   17.7 kmpl  1497 CC   \n",
       "3     Individual       Manual           First Owner   23.0 kmpl  1396 CC   \n",
       "4     Individual       Manual           First Owner   16.1 kmpl  1298 CC   \n",
       "...          ...          ...                   ...         ...      ...   \n",
       "8123  Individual       Manual           First Owner   18.5 kmpl  1197 CC   \n",
       "8124  Individual       Manual  Fourth & Above Owner   16.8 kmpl  1493 CC   \n",
       "8125  Individual       Manual           First Owner   19.3 kmpl  1248 CC   \n",
       "8126  Individual       Manual           First Owner  23.57 kmpl  1396 CC   \n",
       "8127  Individual       Manual           First Owner  23.57 kmpl  1396 CC   \n",
       "\n",
       "       max_power                     torque  seats  \n",
       "0         74 bhp             190Nm@ 2000rpm    5.0  \n",
       "1     103.52 bhp        250Nm@ 1500-2500rpm    5.0  \n",
       "2         78 bhp      12.7@ 2,700(kgm@ rpm)    5.0  \n",
       "3         90 bhp   22.4 kgm at 1750-2750rpm    5.0  \n",
       "4       88.2 bhp      11.5@ 4,500(kgm@ rpm)    5.0  \n",
       "...          ...                        ...    ...  \n",
       "8123   82.85 bhp           113.7Nm@ 4000rpm    5.0  \n",
       "8124     110 bhp  24@ 1,900-2,750(kgm@ rpm)    5.0  \n",
       "8125    73.9 bhp             190Nm@ 2000rpm    5.0  \n",
       "8126      70 bhp        140Nm@ 1800-3000rpm    5.0  \n",
       "8127      70 bhp        140Nm@ 1800-3000rpm    5.0  \n",
       "\n",
       "[8128 rows x 13 columns]"
      ]
     },
     "execution_count": 173,
     "metadata": {},
     "output_type": "execute_result"
    }
   ],
   "source": [
    "data = pd.read_csv('https://media.githubusercontent.com/media/musthave-ML10/data_source/main/car.csv')\n",
    "data"
   ]
  },
  {
   "cell_type": "code",
   "execution_count": 174,
   "id": "f49b9922",
   "metadata": {
    "ExecuteTime": {
     "end_time": "2022-11-07T06:13:32.403062Z",
     "start_time": "2022-11-07T06:13:32.395083Z"
    }
   },
   "outputs": [
    {
     "data": {
      "text/plain": [
       "array(['74 bhp', '103.52 bhp', '78 bhp', '90 bhp', '88.2 bhp',\n",
       "       '81.86 bhp', '57.5 bhp', '37 bhp', '67.1 bhp', '68.1 bhp',\n",
       "       '108.45 bhp', '60 bhp', '73.9 bhp', nan, '67 bhp', '82 bhp',\n",
       "       '88.5 bhp', '46.3 bhp', '88.73 bhp', '64.1 bhp', '98.6 bhp',\n",
       "       '88.8 bhp', '83.81 bhp', '83.1 bhp', '47.3 bhp', '73.8 bhp',\n",
       "       '34.2 bhp', '35 bhp', '81.83 bhp', '40.3 bhp', '121.3 bhp',\n",
       "       '138.03 bhp', '160.77 bhp', '117.3 bhp', '116.3 bhp', '83.14 bhp',\n",
       "       '67.05 bhp', '168.5 bhp', '100 bhp', '120.7 bhp', '98.63 bhp',\n",
       "       '175.56 bhp', '103.25 bhp', '171.5 bhp', '100.6 bhp', '174.33 bhp',\n",
       "       '187.74 bhp', '170 bhp', '78.9 bhp', '88.76 bhp', '86.8 bhp',\n",
       "       '108.495 bhp', '108.62 bhp', '93.7 bhp', '103.6 bhp', '98.59 bhp',\n",
       "       '189 bhp', '67.04 bhp', '68.05 bhp', '58.2 bhp', '82.85 bhp',\n",
       "       '81.80 bhp', '73 bhp', '120 bhp', '94.68 bhp', '160 bhp', '65 bhp',\n",
       "       '155 bhp', '69.01 bhp', '126.32 bhp', '138.1 bhp', '83.8 bhp',\n",
       "       '126.2 bhp', '98.96 bhp', '62.1 bhp', '86.7 bhp', '188 bhp',\n",
       "       '214.56 bhp', '177 bhp', '280 bhp', '148.31 bhp', '254.79 bhp',\n",
       "       '190 bhp', '177.46 bhp', '204 bhp', '141 bhp', '117.6 bhp',\n",
       "       '241.4 bhp', '282 bhp', '150 bhp', '147.5 bhp', '108.5 bhp',\n",
       "       '103.5 bhp', '183 bhp', '181.04 bhp', '157.7 bhp', '164.7 bhp',\n",
       "       '91.1 bhp', '400 bhp', '68 bhp', '75 bhp', '85.8 bhp', '87.2 bhp',\n",
       "       '53 bhp', '118 bhp', '103.2 bhp', '83 bhp', '84 bhp', '58.16 bhp',\n",
       "       '147.94 bhp', '74.02 bhp', '53.3 bhp', '80 bhp', '88.7 bhp',\n",
       "       '97.7 bhp', '121.36 bhp', '162 bhp', '140 bhp', '94 bhp',\n",
       "       '100.57 bhp', '82.9 bhp', '83.11 bhp', '70 bhp', '153.86 bhp',\n",
       "       '121 bhp', '126.3 bhp', '73.97 bhp', '171 bhp', '69 bhp',\n",
       "       '99.6 bhp', '102 bhp', '105 bhp', '63 bhp', '79.4 bhp', '97.9 bhp',\n",
       "       '63.1 bhp', '66.1 bhp', '110 bhp', '174.5 bhp', '53.26 bhp',\n",
       "       '73.75 bhp', '67.06 bhp', '64.08 bhp', '37.5 bhp', '189.3 bhp',\n",
       "       '158.8 bhp', '61.7 bhp', '55.2 bhp', '71.01 bhp', '73.74 bhp',\n",
       "       '147.9 bhp', '71 bhp', '77 bhp', '121.4 bhp', '113.4 bhp',\n",
       "       '47 bhp', '130 bhp', '57.6 bhp', '138 bhp', '52.8 bhp',\n",
       "       '53.64 bhp', '53.5 bhp', '76.8 bhp', '82.4 bhp', '113.42 bhp',\n",
       "       '76 bhp', '84.8 bhp', '0', '56.3 bhp', '218 bhp', '112 bhp',\n",
       "       '92 bhp', '105.5 bhp', '169 bhp', '95 bhp', '72.4 bhp', '115 bhp',\n",
       "       '152 bhp', '91.2 bhp', '156 bhp', '74.9 bhp', '62 bhp',\n",
       "       '105.3 bhp', '73.94 bhp', '85.80 bhp', '85 bhp', '118.3 bhp',\n",
       "       '72 bhp', '147.51 bhp', '58 bhp', '64 bhp', '126.24 bhp',\n",
       "       '76.9 bhp', '194.3 bhp', '99.23 bhp', '89.84 bhp', '123.7 bhp',\n",
       "       '118.35 bhp', '99 bhp', '241 bhp', '136 bhp', '261.4 bhp',\n",
       "       '104.68 bhp', '37.48 bhp', '104 bhp', '88.50 bhp', '63.12 bhp',\n",
       "       '91.7 bhp', '102.5 bhp', '177.6 bhp', '45 bhp', '123.37 bhp',\n",
       "       '147.8 bhp', '184 bhp', '84.48 bhp', '68.07 bhp', '74.96 bhp',\n",
       "       '167.6 bhp', '152.87 bhp', '112.2 bhp', '83.83 bhp', '197 bhp',\n",
       "       '110.4 bhp', '104.55 bhp', '103 bhp', '103.3 bhp', '66 bhp',\n",
       "       '108.6 bhp', '165 bhp', '163.7 bhp', '116.9 bhp', '94.93 bhp',\n",
       "       '127 bhp', '198.5 bhp', '179.5 bhp', '120.69 bhp', '121.31 bhp',\n",
       "       '138.08 bhp', '187.7 bhp', '80.8 bhp', '86.79 bhp', '93.87 bhp',\n",
       "       '116.6 bhp', '143 bhp', '92.7 bhp', '88 bhp', '58.33 bhp',\n",
       "       '78.8 bhp', '64.4 bhp', '125 bhp', '139.01 bhp', '254.8 bhp',\n",
       "       '181 bhp', '258 bhp', '55.23 bhp', '270.9 bhp', '265 bhp',\n",
       "       '157.75 bhp', '101 bhp', '186 bhp', '187.4 bhp', '224 bhp',\n",
       "       '64.9 bhp', '148 bhp', '35.5 bhp', '89.75 bhp', '32.8 bhp',\n",
       "       '91.72 bhp', '106 bhp', '98.97 bhp', '66.6 bhp', '86 bhp',\n",
       "       '65.3 bhp', '98.82 bhp', '198.25 bhp', '38 bhp', '142 bhp',\n",
       "       '132 bhp', '174.57 bhp', '178 bhp', '163.2 bhp', '203.2 bhp',\n",
       "       '177.5 bhp', '175 bhp', '57 bhp', '80.84 bhp', '68.4 bhp',\n",
       "       '167.67 bhp', '170.63 bhp', '52 bhp', '149.5 bhp', '48.21 bhp',\n",
       "       ' bhp', '201.1 bhp', '100.5 bhp', '144 bhp', '194.4 bhp',\n",
       "       '168.7 bhp', '104.5 bhp', '103.26 bhp', '116.4 bhp', '98.79 bhp',\n",
       "       '80.9 bhp', '58.3 bhp', '272 bhp', '235 bhp', '167.62 bhp',\n",
       "       '170.30 bhp', '139.46 bhp', '158 bhp', '110.5 bhp', '82.5 bhp',\n",
       "       '141.1 bhp', '38.4 bhp', '197.2 bhp', '161 bhp', '194 bhp',\n",
       "       '122.4 bhp', '134.10 bhp', '60.2 bhp', '134 bhp', '203 bhp',\n",
       "       '135.1 bhp'], dtype=object)"
      ]
     },
     "execution_count": 174,
     "metadata": {},
     "output_type": "execute_result"
    }
   ],
   "source": [
    "data['max_power'].unique()"
   ]
  },
  {
   "cell_type": "markdown",
   "id": "d49114e1",
   "metadata": {},
   "source": [
    "1. feature 탐색\n",
    "    - name : 차종\n",
    "    - year : 년식\n",
    "    - selling_price : 판매가\n",
    "    - km_driven : 주행거리\n",
    "    - fuel : 연료\n",
    "    - seller_type : 판매자유형\n",
    "    - transmission : 변속기\n",
    "    - owner : 소유자 이력\n",
    "    - mileage : 연비(km)\n",
    "    - engine : 배기량\n",
    "    - max_power : 최대출력(제동마력)\n",
    "    - torque : 회전력(타이어를 회전시키는 힘)\n",
    "    - seats : 좌석수(인승)"
   ]
  },
  {
   "cell_type": "code",
   "execution_count": 175,
   "id": "3d329785",
   "metadata": {
    "ExecuteTime": {
     "end_time": "2022-11-07T06:13:32.701807Z",
     "start_time": "2022-11-07T06:13:32.682856Z"
    }
   },
   "outputs": [
    {
     "name": "stdout",
     "output_type": "stream",
     "text": [
      "<class 'pandas.core.frame.DataFrame'>\n",
      "RangeIndex: 8128 entries, 0 to 8127\n",
      "Data columns (total 13 columns):\n",
      " #   Column         Non-Null Count  Dtype  \n",
      "---  ------         --------------  -----  \n",
      " 0   name           8128 non-null   object \n",
      " 1   year           8128 non-null   int64  \n",
      " 2   selling_price  8128 non-null   int64  \n",
      " 3   km_driven      8128 non-null   int64  \n",
      " 4   fuel           8128 non-null   object \n",
      " 5   seller_type    8128 non-null   object \n",
      " 6   transmission   8128 non-null   object \n",
      " 7   owner          8128 non-null   object \n",
      " 8   mileage        7907 non-null   object \n",
      " 9   engine         7907 non-null   object \n",
      " 10  max_power      7913 non-null   object \n",
      " 11  torque         7906 non-null   object \n",
      " 12  seats          7907 non-null   float64\n",
      "dtypes: float64(1), int64(3), object(9)\n",
      "memory usage: 825.6+ KB\n"
     ]
    }
   ],
   "source": [
    "data.info()"
   ]
  },
  {
   "cell_type": "code",
   "execution_count": 176,
   "id": "ad653a22",
   "metadata": {
    "ExecuteTime": {
     "end_time": "2022-11-07T06:13:32.812567Z",
     "start_time": "2022-11-07T06:13:32.783645Z"
    }
   },
   "outputs": [
    {
     "data": {
      "text/html": [
       "<div>\n",
       "<style scoped>\n",
       "    .dataframe tbody tr th:only-of-type {\n",
       "        vertical-align: middle;\n",
       "    }\n",
       "\n",
       "    .dataframe tbody tr th {\n",
       "        vertical-align: top;\n",
       "    }\n",
       "\n",
       "    .dataframe thead th {\n",
       "        text-align: right;\n",
       "    }\n",
       "</style>\n",
       "<table border=\"1\" class=\"dataframe\">\n",
       "  <thead>\n",
       "    <tr style=\"text-align: right;\">\n",
       "      <th></th>\n",
       "      <th>year</th>\n",
       "      <th>selling_price</th>\n",
       "      <th>km_driven</th>\n",
       "      <th>seats</th>\n",
       "    </tr>\n",
       "  </thead>\n",
       "  <tbody>\n",
       "    <tr>\n",
       "      <th>count</th>\n",
       "      <td>8128.00</td>\n",
       "      <td>8128.00</td>\n",
       "      <td>8128.00</td>\n",
       "      <td>7907.00</td>\n",
       "    </tr>\n",
       "    <tr>\n",
       "      <th>mean</th>\n",
       "      <td>2013.80</td>\n",
       "      <td>638271.81</td>\n",
       "      <td>69819.51</td>\n",
       "      <td>5.42</td>\n",
       "    </tr>\n",
       "    <tr>\n",
       "      <th>std</th>\n",
       "      <td>4.04</td>\n",
       "      <td>806253.40</td>\n",
       "      <td>56550.55</td>\n",
       "      <td>0.96</td>\n",
       "    </tr>\n",
       "    <tr>\n",
       "      <th>min</th>\n",
       "      <td>1983.00</td>\n",
       "      <td>29999.00</td>\n",
       "      <td>1.00</td>\n",
       "      <td>2.00</td>\n",
       "    </tr>\n",
       "    <tr>\n",
       "      <th>25%</th>\n",
       "      <td>2011.00</td>\n",
       "      <td>254999.00</td>\n",
       "      <td>35000.00</td>\n",
       "      <td>5.00</td>\n",
       "    </tr>\n",
       "    <tr>\n",
       "      <th>50%</th>\n",
       "      <td>2015.00</td>\n",
       "      <td>450000.00</td>\n",
       "      <td>60000.00</td>\n",
       "      <td>5.00</td>\n",
       "    </tr>\n",
       "    <tr>\n",
       "      <th>75%</th>\n",
       "      <td>2017.00</td>\n",
       "      <td>675000.00</td>\n",
       "      <td>98000.00</td>\n",
       "      <td>5.00</td>\n",
       "    </tr>\n",
       "    <tr>\n",
       "      <th>max</th>\n",
       "      <td>2020.00</td>\n",
       "      <td>10000000.00</td>\n",
       "      <td>2360457.00</td>\n",
       "      <td>14.00</td>\n",
       "    </tr>\n",
       "  </tbody>\n",
       "</table>\n",
       "</div>"
      ],
      "text/plain": [
       "          year  selling_price   km_driven    seats\n",
       "count  8128.00        8128.00     8128.00  7907.00\n",
       "mean   2013.80      638271.81    69819.51     5.42\n",
       "std       4.04      806253.40    56550.55     0.96\n",
       "min    1983.00       29999.00        1.00     2.00\n",
       "25%    2011.00      254999.00    35000.00     5.00\n",
       "50%    2015.00      450000.00    60000.00     5.00\n",
       "75%    2017.00      675000.00    98000.00     5.00\n",
       "max    2020.00    10000000.00  2360457.00    14.00"
      ]
     },
     "execution_count": 176,
     "metadata": {},
     "output_type": "execute_result"
    }
   ],
   "source": [
    "round(data.describe(), 2)"
   ]
  },
  {
   "cell_type": "markdown",
   "id": "54296634",
   "metadata": {},
   "source": [
    "## 전처리 : 텍스트 데이터\n",
    "- split() : 문자열 분리"
   ]
  },
  {
   "cell_type": "markdown",
   "id": "ab9fa786",
   "metadata": {},
   "source": [
    "### engine"
   ]
  },
  {
   "cell_type": "code",
   "execution_count": 177,
   "id": "6ea3b240",
   "metadata": {
    "ExecuteTime": {
     "end_time": "2022-11-07T06:13:33.077419Z",
     "start_time": "2022-11-07T06:13:33.053172Z"
    }
   },
   "outputs": [],
   "source": [
    "data[['engine', 'engine_unit']] = data['engine'].str.split(expand = True)\n",
    "data['engine'] = data['engine'].astype(float)"
   ]
  },
  {
   "cell_type": "code",
   "execution_count": 178,
   "id": "56db6425",
   "metadata": {
    "ExecuteTime": {
     "end_time": "2022-11-07T06:13:33.173271Z",
     "start_time": "2022-11-07T06:13:33.159200Z"
    }
   },
   "outputs": [
    {
     "data": {
      "text/plain": [
       "array(['CC', nan], dtype=object)"
      ]
     },
     "execution_count": 178,
     "metadata": {},
     "output_type": "execute_result"
    }
   ],
   "source": [
    "data['engine_unit'].unique()"
   ]
  },
  {
   "cell_type": "code",
   "execution_count": 179,
   "id": "61839160",
   "metadata": {
    "ExecuteTime": {
     "end_time": "2022-11-07T06:13:33.251840Z",
     "start_time": "2022-11-07T06:13:33.237875Z"
    }
   },
   "outputs": [
    {
     "data": {
      "text/plain": [
       "CC    7907\n",
       "Name: engine_unit, dtype: int64"
      ]
     },
     "execution_count": 179,
     "metadata": {},
     "output_type": "execute_result"
    }
   ],
   "source": [
    "data['engine_unit'].value_counts()"
   ]
  },
  {
   "cell_type": "code",
   "execution_count": 180,
   "id": "6a9e7d92",
   "metadata": {
    "ExecuteTime": {
     "end_time": "2022-11-07T06:13:33.330715Z",
     "start_time": "2022-11-07T06:13:33.317502Z"
    }
   },
   "outputs": [],
   "source": [
    "data.drop('engine_unit', axis = 1, inplace = True)"
   ]
  },
  {
   "cell_type": "markdown",
   "id": "27c117fa",
   "metadata": {},
   "source": [
    "### mileage"
   ]
  },
  {
   "cell_type": "code",
   "execution_count": 181,
   "id": "4578b484",
   "metadata": {
    "ExecuteTime": {
     "end_time": "2022-11-07T06:13:33.850193Z",
     "start_time": "2022-11-07T06:13:33.831243Z"
    }
   },
   "outputs": [],
   "source": [
    "data[['mileage', 'mileage_unit']] = data['mileage'].str.split(expand = True)"
   ]
  },
  {
   "cell_type": "code",
   "execution_count": 182,
   "id": "fae0bffe",
   "metadata": {
    "ExecuteTime": {
     "end_time": "2022-11-07T06:13:34.072996Z",
     "start_time": "2022-11-07T06:13:34.054046Z"
    }
   },
   "outputs": [],
   "source": [
    "data['mileage'] = data['mileage'].astype(float)"
   ]
  },
  {
   "cell_type": "code",
   "execution_count": 183,
   "id": "1c9c4a62",
   "metadata": {
    "ExecuteTime": {
     "end_time": "2022-11-07T06:13:34.310548Z",
     "start_time": "2022-11-07T06:13:34.294919Z"
    }
   },
   "outputs": [
    {
     "data": {
      "text/plain": [
       "array(['kmpl', 'km/kg', nan], dtype=object)"
      ]
     },
     "execution_count": 183,
     "metadata": {},
     "output_type": "execute_result"
    }
   ],
   "source": [
    "data['mileage_unit'].unique()"
   ]
  },
  {
   "cell_type": "code",
   "execution_count": 184,
   "id": "d53312ed",
   "metadata": {
    "ExecuteTime": {
     "end_time": "2022-11-07T06:13:34.672358Z",
     "start_time": "2022-11-07T06:13:34.660393Z"
    }
   },
   "outputs": [
    {
     "data": {
      "text/plain": [
       "array(['Diesel', 'Petrol', 'LPG', 'CNG'], dtype=object)"
      ]
     },
     "execution_count": 184,
     "metadata": {},
     "output_type": "execute_result"
    }
   ],
   "source": [
    "data['fuel'].unique()"
   ]
  },
  {
   "cell_type": "markdown",
   "id": "1f8bd4be",
   "metadata": {},
   "source": [
    "- 연료종류가 4종류\n",
    "- 다른 종류의 연료로 주행거리를 비교하려면 같은 기준을 세워야 한다.\n",
    "- 연료 가격을 활용하면 어떨까? 1달러당 몇 km를 주행할 수 있는지 알아보자.\n",
    "- 연료의 단위를 liter로 바꾸면 어떨까?\n",
    "    - Diesel : \n",
    "    - Petrol\n",
    "    - LPG\n",
    "    - CNG"
   ]
  },
  {
   "cell_type": "code",
   "execution_count": 185,
   "id": "14d8ec5b",
   "metadata": {
    "ExecuteTime": {
     "end_time": "2022-11-07T06:13:35.525134Z",
     "start_time": "2022-11-07T06:13:35.510153Z"
    }
   },
   "outputs": [],
   "source": [
    "def mile(x):\n",
    "    if x['fuel'] == 'Petrol':\n",
    "        return x['mileage'] / 1.048\n",
    "    elif x['fuel'] == 'Diesel':\n",
    "        return x['mileage'] / 1.405\n",
    "    elif x['fuel'] == 'LPG':\n",
    "        return x['mileage'] / 3.54\n",
    "    else:\n",
    "        return x['mileage'] / 2.76"
   ]
  },
  {
   "cell_type": "code",
   "execution_count": 186,
   "id": "32949ea7",
   "metadata": {
    "ExecuteTime": {
     "end_time": "2022-11-07T06:13:35.730224Z",
     "start_time": "2022-11-07T06:13:35.616399Z"
    }
   },
   "outputs": [],
   "source": [
    "data['mileage'] = data.apply(mile, axis = 1)"
   ]
  },
  {
   "cell_type": "code",
   "execution_count": 187,
   "id": "f38178c7",
   "metadata": {
    "ExecuteTime": {
     "end_time": "2022-11-07T06:13:35.808693Z",
     "start_time": "2022-11-07T06:13:35.789507Z"
    }
   },
   "outputs": [],
   "source": [
    "data.drop('mileage_unit', axis = 1, inplace = True)"
   ]
  },
  {
   "cell_type": "markdown",
   "id": "1ba77ce5",
   "metadata": {},
   "source": [
    "### torque\n",
    "   - 앞 부분의 숫자만 추출해서 숫자형\n",
    "   - 단위 스케일(Nm)"
   ]
  },
  {
   "cell_type": "code",
   "execution_count": 188,
   "id": "cb62be97",
   "metadata": {
    "ExecuteTime": {
     "end_time": "2022-11-07T06:13:36.487663Z",
     "start_time": "2022-11-07T06:13:36.478687Z"
    }
   },
   "outputs": [],
   "source": [
    "data['torque'] = data['torque'].str.upper()"
   ]
  },
  {
   "cell_type": "code",
   "execution_count": 189,
   "id": "39d4c013",
   "metadata": {
    "ExecuteTime": {
     "end_time": "2022-11-07T06:13:37.945123Z",
     "start_time": "2022-11-07T06:13:37.931162Z"
    }
   },
   "outputs": [
    {
     "data": {
      "text/plain": [
       "0              190NM@ 2000RPM\n",
       "1         250NM@ 1500-2500RPM\n",
       "2       12.7@ 2,700(KGM@ RPM)\n",
       "3    22.4 KGM AT 1750-2750RPM\n",
       "4       11.5@ 4,500(KGM@ RPM)\n",
       "Name: torque, dtype: object"
      ]
     },
     "execution_count": 189,
     "metadata": {},
     "output_type": "execute_result"
    }
   ],
   "source": [
    "data['torque'].head()"
   ]
  },
  {
   "cell_type": "markdown",
   "id": "fbbc37b7",
   "metadata": {},
   "source": [
    "### max_power"
   ]
  },
  {
   "cell_type": "code",
   "execution_count": 144,
   "id": "b5d61089",
   "metadata": {
    "ExecuteTime": {
     "end_time": "2022-11-07T03:35:28.700409Z",
     "start_time": "2022-11-07T03:35:28.674332Z"
    }
   },
   "outputs": [],
   "source": [
    "data['max_power'] = data['max_power'].str.split(expand = True).get(0)\n",
    "data['max_power'][data['max_power'] == 'bhp'] = 0\n",
    "data['max_power'] = data['max_power'].astype(float)"
   ]
  },
  {
   "cell_type": "code",
   "execution_count": 169,
   "id": "5ffad375",
   "metadata": {
    "ExecuteTime": {
     "end_time": "2022-11-07T05:50:13.692375Z",
     "start_time": "2022-11-07T05:50:13.686390Z"
    }
   },
   "outputs": [
    {
     "data": {
      "text/plain": [
       "0           74 bhp\n",
       "1       103.52 bhp\n",
       "2           78 bhp\n",
       "3           90 bhp\n",
       "4         88.2 bhp\n",
       "           ...    \n",
       "8123     82.85 bhp\n",
       "8124       110 bhp\n",
       "8125      73.9 bhp\n",
       "8126        70 bhp\n",
       "8127        70 bhp\n",
       "Name: max_power, Length: 8128, dtype: object"
      ]
     },
     "execution_count": 169,
     "metadata": {},
     "output_type": "execute_result"
    }
   ],
   "source": [
    "data['max_power']"
   ]
  },
  {
   "cell_type": "markdown",
   "id": "d28f5f1f",
   "metadata": {},
   "source": [
    "### torque"
   ]
  },
  {
   "cell_type": "code",
   "execution_count": 191,
   "id": "dd649353",
   "metadata": {
    "ExecuteTime": {
     "end_time": "2022-11-07T06:14:12.468652Z",
     "start_time": "2022-11-07T06:14:12.457680Z"
    }
   },
   "outputs": [
    {
     "data": {
      "text/plain": [
       "array(['190NM@ 2000RPM', '250NM@ 1500-2500RPM', '12.7@ 2,700(KGM@ RPM)',\n",
       "       '22.4 KGM AT 1750-2750RPM', '11.5@ 4,500(KGM@ RPM)',\n",
       "       '113.75NM@ 4000RPM', '7.8@ 4,500(KGM@ RPM)', '59NM@ 2500RPM',\n",
       "       '170NM@ 1800-2400RPM', '160NM@ 2000RPM', '248NM@ 2250RPM',\n",
       "       '78NM@ 4500RPM', nan, '84NM@ 3500RPM', '115NM@ 3500-3600RPM',\n",
       "       '200NM@ 1750RPM', '62NM@ 3000RPM', '219.7NM@ 1500-2750RPM',\n",
       "       '114NM@ 3500RPM', '115NM@ 4000RPM', '69NM@ 3500RPM',\n",
       "       '172.5NM@ 1750RPM', '6.1KGM@ 3000RPM', '114.7NM@ 4000RPM',\n",
       "       '60NM@ 3500RPM', '90NM@ 3500RPM', '151NM@ 4850RPM',\n",
       "       '104NM@ 4000RPM', '320NM@ 1700-2700RPM', '250NM@ 1750-2500RPM',\n",
       "       '145NM@ 4600RPM', '146NM@ 4800RPM', '343NM@ 1400-3400RPM',\n",
       "       '200NM@ 1400-3400RPM', '200NM@ 1250-4000RPM',\n",
       "       '400NM@ 2000-2500RPM', '138NM@ 4400RPM', '360NM@ 1200-3400RPM',\n",
       "       '200NM@ 1200-3600RPM', '380NM@ 1750-2500RPM', '173NM@ 4000RPM',\n",
       "       '400NM@ 1750-3000RPM', '400NM@ 1400-2800RPM',\n",
       "       '200NM@ 1750-3000RPM', '111.7NM@ 4000RPM', '219.6NM@ 1500-2750RPM',\n",
       "       '112NM@ 4000RPM', '250NM@ 1500-3000RPM', '130NM@ 4000RPM',\n",
       "       '205NM@ 1750-3250RPM', '280NM@ 1350-4600RPM', '99.04NM@ 4500RPM',\n",
       "       '77NM@ 3500RPM', '110NM@ 3750RPM', '153NM@ 3800RPM',\n",
       "       '113.7NM@ 4000RPM', '114NM@ 4000RPM', '113NM@ 4200RPM',\n",
       "       '101NM@ 3000RPM', '290NM@ 1800-2800RPM', '120NM@ 4250RPM',\n",
       "       '250NM@ 1500~4500RPM', '96 NM AT 3000 RPM', '360NM@ 1750-2800RPM',\n",
       "       '135NM@ 2500RPM', '259.8NM@ 1900-2750RPM', '200NM@ 1900RPM',\n",
       "       '259.9NM@ 1900-2750RPM', '91NM@ 4250RPM', '96.1NM@ 3000RPM',\n",
       "       '109NM@ 4500RPM', '202NM@ 3600-5200RPM', '430NM@ 1750-2500RPM',\n",
       "       '347NM@ 4300RPM', '382NM@ 1750-2250RPM', '620NM@ 1600-2400RPM',\n",
       "       '400NM@ 1750-2500RPM', '250@ 1250-5000RPM', '500NM@ 1600-1800RPM',\n",
       "       '250NM@ 1600-3600RPM', '400NM', '550NM@ 1750-2750RPM',\n",
       "       '490NM@ 1600RPM', '250 NM AT 2750 RPM', '177.5NM@ 4700RPM',\n",
       "       '170NM@ 1750-4000RPM', '300NM@ 1200-4000RPM',\n",
       "       '300NM@ 1200-1400RPM', '260NM@ 1500-2750RPM', '213NM@ 4500RPM',\n",
       "       '224NM@ 4000RPM', '640NM@ 1740RPM', '113NM@ 4500RPM',\n",
       "       '95NM@ 3000-4300RPM', '13.1KGM@ 4600RPM', '205NM@ 1800-2800RPM',\n",
       "       '71NM@ 3500RPM', '190NM@ 1750-3000RPM', '146NM AT 4800 RPM',\n",
       "       '14.9 KGM AT 3000 RPM', '115NM@ 3200RPM', '117NM@ 4000RPM',\n",
       "       '320NM@ 1500-3000RPM', '72NM@ 4386RPM', '11.4 KGM AT 4,000 RPM',\n",
       "       '140NM@ 1500-4000RPM', '134NM@ 4000RPM', '150NM@ 4500RPM',\n",
       "       '340NM@ 1800-3250RPM', '240NM@ 1600-2800RPM',\n",
       "       '330NM@ 1600-2800RPM', '12.5@ 3,500(KGM@ RPM)', '110NM@ 4800RPM',\n",
       "       '111.8NM@ 4000RPM', '11.8@ 3,200(KGM@ RPM)', '135.4NM@ 2500RPM',\n",
       "       '300NM@ 1750-2500RPM', '190.25NM@ 1750-2250RPM',\n",
       "       '140NM@ 1800-3000RPM', '20.4@ 1400-3400(KGM@ RPM)',\n",
       "       '247NM@ 1800-2000RPM', '223NM@ 1600-2200RPM',\n",
       "       '180 NM AT 1440-1500RPM', '195NM@ 1400-2200RPM',\n",
       "       '154.9NM@ 4200RPM', '114.73NM@ 4000RPM', '160NM@ 1500-2750RPM',\n",
       "       '108NM@ 4400RPM', '190.24NM@ 1750-2250RPM', '200NM@ 2000-3500RPM',\n",
       "       '420NM@ 1400-2600RPM', '100NM@ 2700RPM', '51NM@ 4000RPM',\n",
       "       '250NM@ 1250-5300RPM', '132NM@ 3000RPM', '350NM@ 1500-2750RPM',\n",
       "       '218NM@ 4200RPM', '14.9@ 3,000(KGM@ RPM)',\n",
       "       '24@ 1,900-2,750(KGM@ RPM)', '13.5@ 2,500(KGM@ RPM)',\n",
       "       '85NM@ 3000RPM', '74.5NM@ 4000RPM', '160NM@ 1750RPM',\n",
       "       '180.4NM@ 1750-2500RPM', '230NM@ 1500-2500RPM',\n",
       "       '219.66NM@ 1500-2750RPM', '245NM@ 1750RPM', '360NM@ 1400-3200RPM',\n",
       "       '320NM@ 2000RPM', '135 NM AT 2500  RPM ',\n",
       "       '24 KGM AT 1900-2750 RPM', '190NM@ 1750-2250RPM',\n",
       "       '204NM@ 2000-2750RPM', '14.3@ 1,800-3,000(KGM@ RPM)',\n",
       "       '250NM@ 1500-2750RPM', '125NM@ 2000RPM', '172NM@ 4300RPM',\n",
       "       '150NM@ 1750RPM', '102NM@ 4000RPM', '85NM@ 2500RPM',\n",
       "       '8.5@ 2,500(KGM@ RPM)', '180NM@ 1440-1500RPM', '106.5NM@ 4400RPM',\n",
       "       '108.5NM@ 5000RPM', '350NM@ 1750-2500RPM', '144.15NM@ 4500RPM',\n",
       "       '104NM@ 4400RPM', '99NM@ 4500RPM', '200NM@ 2000RPM',\n",
       "       '280NM@ 1800-2800RPM', '142.5NM@ 1750RPM', '140NM@ 4400RPM',\n",
       "       '115@ 2,500(KGM@ RPM)', '196NM@ 5000RPM',\n",
       "       '260 NM AT 1800-2200 RPM', '9.8@ 3,000(KGM@ RPM)',\n",
       "       '209NM@ 2000RPM', '135 NM AT 2500 RPM', '140NM@ 4200RPM',\n",
       "       '220NM AT 1400-2600 RPM', '48NM@ 3000RPM', '171NM@ 1800RPM',\n",
       "       '277.5NM@ 1700-2200RPM', '215NM@ 3600RPM', '219.6NM@ 1750-2750RPM',\n",
       "       '195NM@ 1440-2200RPM', '13@ 2,500(KGM@ RPM)', '180NM@ 2000RPM',\n",
       "       '200NM@ 1400-2200RPM', '380NM(38.7KGM)@ 2500RPM', '110NM@ 4400RPM',\n",
       "       '72NM@ 4388RPM', '263.7NM@ 2500RPM', '320NM@ 1600-2800RPM',\n",
       "       '25.5@ 1,500-3,000(KGM@ RPM)', '16.3@ 2,000(KGM@ RPM)',\n",
       "       '190 NM AT 1750 RPM ', '94.14NM@ 3500RPM', '12@ 3,500(KGM@ RPM)',\n",
       "       '113NM@ 5000RPM', '280NM@ 2400-2800RPM', '96NM@ 3500RPM',\n",
       "       '16@ 2,000(KGM@ RPM)', '320NM@ 1750-3000RPM',\n",
       "       '320NM@ 1750-2500RPM', '190NM@ 1750RPM', '789NM@ 2250RPM',\n",
       "       '259.87NM@ 1900-2750RPM', '205NM@ 1750RPM',\n",
       "       '436.39NM@ 1800-2500RPM', '182.5NM@ 1500-1800RPM',\n",
       "       '90.3NM@ 4200RPM', '12.5@ 2,500(KGM@ RPM)', '215NM@ 1750-3000RPM',\n",
       "       '215NM@ 1750-3000', '305NM@ 2000RPM', '540NM@ 2000RPM',\n",
       "       '327NM@ 2600RPM', '300NM@ 1600-3000RPM', '620NM@ 2000-2500RPM',\n",
       "       '450NM@ 1600-2400RPM', '19@ 1,800(KGM@ RPM)',\n",
       "       '9.2@ 4,200(KGM@ RPM)', '145@ 4,100(KGM@ RPM)',\n",
       "       '51NM@ 4000+/-500RPM', '110NM@ 3000RPM', '148NM@ 3500RPM',\n",
       "       '116NM@ 4750RPM', '48@ 3,000+/-500(NM@ RPM)', '148NM@ 4000RPM',\n",
       "       '222NM@ 4300RPM', '135.3NM@ 5000RPM', '98NM@ 1600-3000RPM',\n",
       "       '170NM@ 1400-4500RPM', '343NM@ 1400-2800RPM',\n",
       "       '402NM@ 1600-3000RPM', '113NM@ 3300RPM', '99.07NM@ 4500RPM',\n",
       "       '210NM@ 1600-2200RPM', '190 NM AT 1750  RPM ', '32.1KGM@ 2000RPM',\n",
       "       '224NM@ 1500-2750RPM', '215NM@ 1750-2500RPM',\n",
       "       '25@ 1,800-2,800(KGM@ RPM)', '197NM@ 1750RPM', '136.3NM@ 4200RPM',\n",
       "       '470NM@ 1750-2500RPM', '11@ 3,000(KGM@ RPM)', '142NM@ 4000RPM',\n",
       "       '145NM@ 4100RPM', '320NM@ 1500-2800RPM', '123NM@ 1000-2500RPM',\n",
       "       '218NM@ 1400-2600RPM', '510@ 1600-2400', '220NM@ 1500-2750RPM',\n",
       "       '380NM@ 2000RPM', '104NM@ 3100RPM', '292NM@ 2000RPM',\n",
       "       '20@ 3,750(KGM@ RPM)', '46.5@ 1,400-2,800(KGM@ RPM)',\n",
       "       '380NM@ 2500RPM', '15@ 3,800(KGM@ RPM)', '136NM@ 4250RPM',\n",
       "       '228NM@ 4400RPM', '149NM@ 4500RPM', '187NM@ 2500RPM',\n",
       "       '146NM@ 3400RPM', '8.6@ 3,500(KGM@ RPM)', '219.7NM@ 1750-2750RPM',\n",
       "       '190NM@ 2000-3000', '450NM@ 2000RPM', '300NM@ 2000RPM',\n",
       "       '230NM@ 1800-2000RPM', '42@ 2,000(KGM@ RPM)',\n",
       "       '110NM@ 3000-4300RPM', '110(11.2)@ 4800', '330NM@ 1800RPM',\n",
       "       '225NM@ 1500-2500RPM', '380NM@ 1750-2750RPM',\n",
       "       '28.3@ 1,700-2,200(KGM@ RPM)', '259.88NM@ 1900-2750RPM',\n",
       "       '580NM@ 1400-3250RPM', '400 NM /2000 RPM', '127NM@ 3500RPM',\n",
       "       '300NM@ 1500-2500RPM', '132.3NM@ 4000RPM', '113NM@ 4400RPM',\n",
       "       '153NM@ 3750-3800RPM', '10.7@ 2,500(KGM@ RPM)', '124.6NM@ 3500RPM',\n",
       "       '78NM@ 3500RPM', '219.9NM@ 1750-2750RPM', '420.7NM@ 1800-2500RPM',\n",
       "       '130NM@ 3000RPM', '424NM@ 2000RPM', '130@ 2500(KGM@ RPM)',\n",
       "       '99.8NM@ 2700RPM', '113NM@ 4,500RPM', '11.2@ 4,400(KGM@ RPM)',\n",
       "       '240NM@ 1850RPM', '16.1@ 4,200(KGM@ RPM)', '320NM@ 1750-2700RPM',\n",
       "       '115NM@ 4500RPM', '245NM@ 4000RPM', '321NM@ 1600-2400RPM',\n",
       "       '619NM@ 1600-2400RPM', '380NM@ 1750-3000RPM', '560NM@ 1500RPM',\n",
       "       '230NM@ 1500-2250RPM', '90NM@ 2650RPM', '260NM@ 1800-2200RPM',\n",
       "       '600NM@ 2000RPM', '259.87NM@ 1500-3000RPM',\n",
       "       '16.6@ 4,500(KGM@ RPM)', '12.5@ 3,000(KGM@ RPM)',\n",
       "       '620NM@ 1500-2500RPM', '250NM@ 1500-4500RPM',\n",
       "       '14.9@ 3,400(KGM@ RPM)', '25.5@ 1,900(KGM@ RPM)',\n",
       "       '33.7@ 1,800(KGM@ RPM)', '285NM@ 2400-4000RPM',\n",
       "       '10.7@ 2,600(KGM@ RPM)', '250NM@ 1000-2000RPM', '240NM@ 1750RPM',\n",
       "       '226NM@ 4400RPM', '510NM@ 1600-2800RPM', '155 NM AT 1600-2800 RPM',\n",
       "       '240NM@ 2000RPM', '103NM@ 4500RPM', '13.5@ 4,800(KGM@ RPM)',\n",
       "       '400NM@ 1750-2750RPM', '175NM@ 1500-4100RPM', '72.9NM@ 2250RPM',\n",
       "       '135.4NM@ 2500', '245NM@ 5000RPM', '57NM@ 2500RPM',\n",
       "       '96NM@ 2500RPM', '10.4@ 3,200(KGM@ RPM)', '128NM@ 3100RPM',\n",
       "       '102NM@ 2600RPM', '131NM@ 4400RPM', '11.4@ 4,000(KGM@ RPM)',\n",
       "       '250NM@ 4250RPM', '343NM@ 1600-2800RPM', '185NM@ 1750-2750RPM',\n",
       "       '12@ 2500(KGM@ RPM)', '12.4@ 2,600(KGM@ RPM)', '170NM@ 4200RPM',\n",
       "       '176NM@ 1500RPM', '380NM@ 1800-2800RPM', '250NM@ 1600-2000RPM',\n",
       "       '24.5@ 3,500-4,500(KGM@ RPM)', '22.9@ 1,950-4,700(KGM@ RPM)',\n",
       "       '121NM@ 2800RPM', '210 / 1900', '250NM@ 1250-5000RPM',\n",
       "       '400NM@ 175-2750RPM', '350NM@ 1500-3500RPM', '175NM@ 1750-4000RPM',\n",
       "       '115@ 2500(KGM@ RPM)', '110NM@ 4500RPM', '190NM@ 2000-3000RPM',\n",
       "       '106NM@ 2200RPM', '21.4@ 1,750-4,600(KGM@ RPM)', '96NM@ 3000RPM',\n",
       "       '23.6@ 4,250(KGM@ RPM)', '11.3KGM@ 4700RPM', '450NM@ 1750-2500RPM',\n",
       "       '35.7@ 1,750-3,000(KGM@ RPM)', '6@ 2,500(KGM@ RPM)',\n",
       "       '13.9 KGM AT 4200 RPM', '320NM@ 1400-4100RPM',\n",
       "       '150NM@ 1700-4500RPM', '113.8NM@ 4000RPM', '110@ 3,000(KGM@ RPM)',\n",
       "       '151NM@ 2400RPM', '62NM@ 2500RPM', '18@ 1,600-2,200(KGM@ RPM)',\n",
       "       '83NM@ 3000RPM', '124.5NM@ 3500RPM', '20@ 4,700(KGM@ RPM)',\n",
       "       '300NM@ 1600-4000RPM', '171.6NM@ 1500-4000RPM',\n",
       "       '21.4@ 1,900(KGM@ RPM)', '190@ 21,800(KGM@ RPM)',\n",
       "       '5.7@ 2,500(KGM@ RPM)', '88.4NM@ 4200RPM',\n",
       "       '250 NM AT 1,500-3,000 RPM', '340NM@ 1750-3000RPM',\n",
       "       '36.6@ 1,750-2,500(KGM@ RPM)', '12.5KGM@ 3500RPM',\n",
       "       '6.1@ 3,000(KGM@ RPM)', '110NM@ 4000RPM', '350NM@ 1800-2600RPM',\n",
       "       '4.8KGM@ 3000RPM', '355NM@ 4500RPM', '51@ 1,750-3,000(KGM@ RPM)',\n",
       "       '119NM@ 4250RPM', '410NM@ 1600-2800RPM', '174NM@ 4300RPM',\n",
       "       '99.1NM@ 4500RPM', '385NM@ 1600-2500RPM', '180 NM AT 2000RPM',\n",
       "       '190 NM AT 1750 RPM', '53@ 2,000-2,750(KGM@ RPM)',\n",
       "       '360NM@ 1400-2600RPM', '420NM@ 2000RPM', '124NM@ 3500RPM',\n",
       "       '17.5@ 4,300(KGM@ RPM)', '360NM@ 2000RPM', '145NM@ 3750RPM',\n",
       "       '85NM@ 3500RPM', '190NM@ 4200RPM', '190 NM AT 2000RPM',\n",
       "       '13.5@ 2500(KGM@ RPM)', '159.8NM@ 1500-2750RPM', '500NM@ 2000RPM',\n",
       "       '333NM@ 1600-3200RPM', '400NM@ 2800RPM',\n",
       "       '33@ 2,000-2,680(KGM@ RPM)', '10.2@ 2,600(KGM@ RPM)', '480NM',\n",
       "       '190NM@ 4300RPM', '320NM@ 1800-2800RPM', '380NM@ 1750RPM',\n",
       "       '250.06NM@ 1500-2750RPM', '190NM@ 3700RPM',\n",
       "       '436.4NM@ 1800-2500RPM', '96  NM AT 3000  RPM '], dtype=object)"
      ]
     },
     "execution_count": 191,
     "metadata": {},
     "output_type": "execute_result"
    }
   ],
   "source": [
    "data['torque'].unique()"
   ]
  },
  {
   "cell_type": "code",
   "execution_count": null,
   "id": "6b2ed10e",
   "metadata": {},
   "outputs": [],
   "source": [
    "data[data['torque'].isna() == False & data['mileage'].isna() == False & data['engine'] & data['max_power'] == False &\n",
    "    data['seats'] == False].drop(axis = 0, inplace = True)"
   ]
  },
  {
   "cell_type": "code",
   "execution_count": 192,
   "id": "e5a18941",
   "metadata": {
    "ExecuteTime": {
     "end_time": "2022-11-07T06:15:02.233606Z",
     "start_time": "2022-11-07T06:15:02.227639Z"
    }
   },
   "outputs": [],
   "source": [
    "def torque_unit(x):\n",
    "    if 'NM' in str(x):\n",
    "        return 'NM'\n",
    "    elif 'KGM' in str(x):\n",
    "        return 'KGM'"
   ]
  },
  {
   "cell_type": "code",
   "execution_count": 193,
   "id": "a604ea12",
   "metadata": {
    "ExecuteTime": {
     "end_time": "2022-11-07T06:15:58.791419Z",
     "start_time": "2022-11-07T06:15:58.783443Z"
    }
   },
   "outputs": [],
   "source": [
    "data['torque_unit'] = data['torque'].apply(torque_unit)"
   ]
  },
  {
   "cell_type": "code",
   "execution_count": 196,
   "id": "0a2a7037",
   "metadata": {
    "ExecuteTime": {
     "end_time": "2022-11-07T06:16:34.463467Z",
     "start_time": "2022-11-07T06:16:34.447845Z"
    }
   },
   "outputs": [
    {
     "data": {
      "text/plain": [
       "array(['NM', 'KGM', None], dtype=object)"
      ]
     },
     "execution_count": 196,
     "metadata": {},
     "output_type": "execute_result"
    }
   ],
   "source": [
    "data['torque_unit'].unique()"
   ]
  },
  {
   "cell_type": "code",
   "execution_count": 199,
   "id": "c77fb745",
   "metadata": {
    "ExecuteTime": {
     "end_time": "2022-11-07T06:17:45.214208Z",
     "start_time": "2022-11-07T06:17:45.205219Z"
    }
   },
   "outputs": [
    {
     "data": {
      "text/plain": [
       "False    7894\n",
       "True      234\n",
       "Name: torque_unit, dtype: int64"
      ]
     },
     "execution_count": 199,
     "metadata": {},
     "output_type": "execute_result"
    }
   ],
   "source": [
    "data['torque_unit'].isna().value_counts()"
   ]
  },
  {
   "cell_type": "code",
   "execution_count": 201,
   "id": "3b15a227",
   "metadata": {
    "ExecuteTime": {
     "end_time": "2022-11-07T06:18:43.776786Z",
     "start_time": "2022-11-07T06:18:43.761828Z"
    }
   },
   "outputs": [
    {
     "data": {
      "text/plain": [
       "False    7906\n",
       "True      222\n",
       "Name: torque, dtype: int64"
      ]
     },
     "execution_count": 201,
     "metadata": {},
     "output_type": "execute_result"
    }
   ],
   "source": [
    "data['torque'].isna().value_counts()"
   ]
  },
  {
   "cell_type": "code",
   "execution_count": 203,
   "id": "9e695f36",
   "metadata": {
    "ExecuteTime": {
     "end_time": "2022-11-07T06:21:16.545486Z",
     "start_time": "2022-11-07T06:21:16.531523Z"
    }
   },
   "outputs": [
    {
     "data": {
      "text/plain": [
       "NM     7390\n",
       "KGM     504\n",
       "Name: torque_unit, dtype: int64"
      ]
     },
     "execution_count": 203,
     "metadata": {},
     "output_type": "execute_result"
    }
   ],
   "source": [
    "data['torque_unit'].value_counts()"
   ]
  },
  {
   "cell_type": "code",
   "execution_count": 204,
   "id": "cf10c585",
   "metadata": {
    "ExecuteTime": {
     "end_time": "2022-11-07T06:21:56.944034Z",
     "start_time": "2022-11-07T06:21:56.925086Z"
    }
   },
   "outputs": [],
   "source": [
    "data['torque_unit'].fillna('NM', inplace = True)"
   ]
  },
  {
   "cell_type": "code",
   "execution_count": 202,
   "id": "2a76abf2",
   "metadata": {
    "ExecuteTime": {
     "end_time": "2022-11-07T06:19:57.702831Z",
     "start_time": "2022-11-07T06:19:57.688892Z"
    }
   },
   "outputs": [
    {
     "data": {
      "text/plain": [
       "array([nan, '250@ 1250-5000RPM', '510@ 1600-2400', '110(11.2)@ 4800',\n",
       "       '210 / 1900'], dtype=object)"
      ]
     },
     "execution_count": 202,
     "metadata": {},
     "output_type": "execute_result"
    }
   ],
   "source": [
    "data[data['torque_unit'].isna()]['torque'].unique()"
   ]
  },
  {
   "cell_type": "code",
   "execution_count": null,
   "id": "42a9d762",
   "metadata": {},
   "outputs": [],
   "source": [
    "data['torque'] = data['torque'].str.split(expand = True)"
   ]
  },
  {
   "cell_type": "code",
   "execution_count": null,
   "id": "055e9f7c",
   "metadata": {},
   "outputs": [],
   "source": []
  }
 ],
 "metadata": {
  "kernelspec": {
   "display_name": "Python 3 (ipykernel)",
   "language": "python",
   "name": "python3"
  },
  "language_info": {
   "codemirror_mode": {
    "name": "ipython",
    "version": 3
   },
   "file_extension": ".py",
   "mimetype": "text/x-python",
   "name": "python",
   "nbconvert_exporter": "python",
   "pygments_lexer": "ipython3",
   "version": "3.9.7"
  },
  "toc": {
   "base_numbering": 1,
   "nav_menu": {},
   "number_sections": true,
   "sideBar": true,
   "skip_h1_title": false,
   "title_cell": "Table of Contents",
   "title_sidebar": "Contents",
   "toc_cell": false,
   "toc_position": {},
   "toc_section_display": true,
   "toc_window_display": false
  },
  "varInspector": {
   "cols": {
    "lenName": 16,
    "lenType": 16,
    "lenVar": 40
   },
   "kernels_config": {
    "python": {
     "delete_cmd_postfix": "",
     "delete_cmd_prefix": "del ",
     "library": "var_list.py",
     "varRefreshCmd": "print(var_dic_list())"
    },
    "r": {
     "delete_cmd_postfix": ") ",
     "delete_cmd_prefix": "rm(",
     "library": "var_list.r",
     "varRefreshCmd": "cat(var_dic_list()) "
    }
   },
   "types_to_exclude": [
    "module",
    "function",
    "builtin_function_or_method",
    "instance",
    "_Feature"
   ],
   "window_display": false
  }
 },
 "nbformat": 4,
 "nbformat_minor": 5
}
