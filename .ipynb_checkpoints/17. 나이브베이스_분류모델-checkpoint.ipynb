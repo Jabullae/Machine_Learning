{
 "cells": [
  {
   "cell_type": "markdown",
   "id": "b528c555-39fd-4865-9f18-838f43d154e8",
   "metadata": {},
   "source": [
    "# 필수라이브러리 로딩"
   ]
  },
  {
   "cell_type": "code",
   "execution_count": 1,
   "id": "abb39a7c-daf0-47d6-b075-014485f0f7aa",
   "metadata": {
    "execution": {
     "iopub.execute_input": "2022-11-17T00:14:37.666826Z",
     "iopub.status.busy": "2022-11-17T00:14:37.666826Z",
     "iopub.status.idle": "2022-11-17T00:14:39.313135Z",
     "shell.execute_reply": "2022-11-17T00:14:39.312141Z",
     "shell.execute_reply.started": "2022-11-17T00:14:37.666826Z"
    }
   },
   "outputs": [],
   "source": [
    "import numpy as np\n",
    "import pandas as pd\n",
    "\n",
    "import matplotlib.pyplot as plt\n",
    "import matplotlib as mpl\n",
    "import seaborn as sns\n",
    "\n",
    "import warnings\n",
    "from IPython.display import Image\n",
    "\n",
    "%matplotlib inline\n",
    "%config InlineBackend.figure_format = 'retina'\n",
    "\n",
    "mpl.rc('font', family = 'D2coding')\n",
    "mpl.rc('axes', unicode_minus = False)\n",
    "\n",
    "sns.set(font = 'D2coding', rc = {'axes.unicode_minus':False}, style = 'darkgrid')\n",
    "plt.rc('figure', figsize = (10, 8))\n",
    "\n",
    "warnings.filterwarnings('ignore')"
   ]
  },
  {
   "cell_type": "markdown",
   "id": "a22418ac-d394-4a46-b1a3-581bb5dd89a3",
   "metadata": {},
   "source": [
    "# 데이터 로딩"
   ]
  },
  {
   "cell_type": "code",
   "execution_count": 2,
   "id": "46f73a83-b795-488a-82d2-3eb782e85de1",
   "metadata": {
    "execution": {
     "iopub.execute_input": "2022-11-17T00:14:39.314132Z",
     "iopub.status.busy": "2022-11-17T00:14:39.314132Z",
     "iopub.status.idle": "2022-11-17T00:14:39.407232Z",
     "shell.execute_reply": "2022-11-17T00:14:39.407232Z",
     "shell.execute_reply.started": "2022-11-17T00:14:39.314132Z"
    },
    "tags": []
   },
   "outputs": [
    {
     "data": {
      "text/html": [
       "<div>\n",
       "<style scoped>\n",
       "    .dataframe tbody tr th:only-of-type {\n",
       "        vertical-align: middle;\n",
       "    }\n",
       "\n",
       "    .dataframe tbody tr th {\n",
       "        vertical-align: top;\n",
       "    }\n",
       "\n",
       "    .dataframe thead th {\n",
       "        text-align: right;\n",
       "    }\n",
       "</style>\n",
       "<table border=\"1\" class=\"dataframe\">\n",
       "  <thead>\n",
       "    <tr style=\"text-align: right;\">\n",
       "      <th></th>\n",
       "      <th>target</th>\n",
       "      <th>text</th>\n",
       "    </tr>\n",
       "  </thead>\n",
       "  <tbody>\n",
       "    <tr>\n",
       "      <th>0</th>\n",
       "      <td>ham</td>\n",
       "      <td>Go until jurong point, crazy.. Available only ...</td>\n",
       "    </tr>\n",
       "    <tr>\n",
       "      <th>1</th>\n",
       "      <td>ham</td>\n",
       "      <td>Ok lar... Joking wif u oni...</td>\n",
       "    </tr>\n",
       "    <tr>\n",
       "      <th>2</th>\n",
       "      <td>spam</td>\n",
       "      <td>Free entry in 2 a wkly comp to win FA Cup fina...</td>\n",
       "    </tr>\n",
       "    <tr>\n",
       "      <th>3</th>\n",
       "      <td>ham</td>\n",
       "      <td>U dun say so early hor... U c already then say...</td>\n",
       "    </tr>\n",
       "    <tr>\n",
       "      <th>4</th>\n",
       "      <td>ham</td>\n",
       "      <td>Nah I don't think he goes to usf, he lives aro...</td>\n",
       "    </tr>\n",
       "  </tbody>\n",
       "</table>\n",
       "</div>"
      ],
      "text/plain": [
       "  target                                               text\n",
       "0    ham  Go until jurong point, crazy.. Available only ...\n",
       "1    ham                      Ok lar... Joking wif u oni...\n",
       "2   spam  Free entry in 2 a wkly comp to win FA Cup fina...\n",
       "3    ham  U dun say so early hor... U c already then say...\n",
       "4    ham  Nah I don't think he goes to usf, he lives aro..."
      ]
     },
     "execution_count": 2,
     "metadata": {},
     "output_type": "execute_result"
    }
   ],
   "source": [
    "data = pd.read_csv('C:/k_digital/source/data/spam.csv')\n",
    "data.head()"
   ]
  },
  {
   "cell_type": "markdown",
   "id": "b72e575d-c9cb-408c-a93b-2388e77b4c96",
   "metadata": {
    "execution": {
     "iopub.execute_input": "2022-11-16T00:31:30.102140Z",
     "iopub.status.busy": "2022-11-16T00:31:30.102140Z",
     "iopub.status.idle": "2022-11-16T00:31:30.117102Z",
     "shell.execute_reply": "2022-11-16T00:31:30.117102Z",
     "shell.execute_reply.started": "2022-11-16T00:31:30.102140Z"
    },
    "tags": []
   },
   "source": [
    "# 탐색적 데이터 분석 : EDA"
   ]
  },
  {
   "cell_type": "markdown",
   "id": "f2c75ba0-b949-47e7-91ca-39b2f7cfe2c1",
   "metadata": {},
   "source": [
    "    [자주 사용하는 문자 클래스]\n",
    "    [0-9] 또는 [a-zA-Z] 등은 무척 자주 사용하는 정규 표현식이다. 이렇게 자주 사용하는 정규식은 별도의 표기법으로 표현할 수 있다. 다음을 기억해 두자.\n",
    "\n",
    "    \\d - 숫자와 매치, [0-9]와 동일한 표현식이다.\n",
    "    \\D - 숫자가 아닌 것과 매치, [^0-9]와 동일한 표현식이다.\n",
    "    \\s - whitespace 문자와 매치, [ \\t\\n\\r\\f\\v]와 동일한 표현식이다. 맨 앞의 빈 칸은 공백문자(space)를 의미한다.\n",
    "    \\S - whitespace 문자가 아닌 것과 매치, [^ \\t\\n\\r\\f\\v]와 동일한 표현식이다.\n",
    "    \\w - 문자+숫자(alphanumeric)와 매치, [a-zA-Z0-9_]와 동일한 표현식이다.\n",
    "    \\W - 문자+숫자(alphanumeric)가 아닌 문자와 매치, [^a-zA-Z0-9_]와 동일한 표현식이다."
   ]
  },
  {
   "cell_type": "markdown",
   "id": "9f1f2b31-7967-4a9c-8056-70ac3b39b253",
   "metadata": {},
   "source": [
    "## target : 목표변수 or 종속변수"
   ]
  },
  {
   "cell_type": "code",
   "execution_count": 3,
   "id": "f18500ef-8870-4f61-8425-c67e50c35302",
   "metadata": {
    "execution": {
     "iopub.execute_input": "2022-11-17T00:14:39.409227Z",
     "iopub.status.busy": "2022-11-17T00:14:39.408229Z",
     "iopub.status.idle": "2022-11-17T00:14:39.424188Z",
     "shell.execute_reply": "2022-11-17T00:14:39.423190Z",
     "shell.execute_reply.started": "2022-11-17T00:14:39.409227Z"
    },
    "tags": []
   },
   "outputs": [
    {
     "data": {
      "text/plain": [
       "array(['ham', 'spam'], dtype=object)"
      ]
     },
     "execution_count": 3,
     "metadata": {},
     "output_type": "execute_result"
    }
   ],
   "source": [
    "data['target'].unique()"
   ]
  },
  {
   "cell_type": "markdown",
   "id": "388421c9-7218-4479-8cf5-319465474180",
   "metadata": {},
   "source": [
    "- spam : 스팸 문자, ham : 스팸이 아닌 문자\n",
    "- NLTK(Natural Language Toolkit) : 자연어 처리를 위해 만든 도구(패키지)\n",
    "- 주요기능 : 말뭉치, 토큰 생성, 형태소 분석, 품사 태깅"
   ]
  },
  {
   "cell_type": "code",
   "execution_count": 43,
   "id": "224efe5a-c129-4724-93ba-aacb940190da",
   "metadata": {
    "execution": {
     "iopub.execute_input": "2022-11-17T00:17:29.927041Z",
     "iopub.status.busy": "2022-11-17T00:17:29.926045Z",
     "iopub.status.idle": "2022-11-17T00:17:29.943997Z",
     "shell.execute_reply": "2022-11-17T00:17:29.943997Z",
     "shell.execute_reply.started": "2022-11-17T00:17:29.926045Z"
    },
    "tags": []
   },
   "outputs": [
    {
     "data": {
      "text/plain": [
       "0    4827\n",
       "1     747\n",
       "Name: target, dtype: int64"
      ]
     },
     "execution_count": 43,
     "metadata": {},
     "output_type": "execute_result"
    }
   ],
   "source": [
    "data['target'].value_counts() # 샘플에 편향이 있다. "
   ]
  },
  {
   "cell_type": "markdown",
   "id": "e115e49d-3092-4f90-9e64-1f543b7bbe4b",
   "metadata": {},
   "source": [
    "## 말뭉치(corpus)\n",
    "- 자연어 분석을 위해 만든 샘플 문서 집합"
   ]
  },
  {
   "cell_type": "code",
   "execution_count": 4,
   "id": "7bfe0bf5-b315-448f-8da4-91dca16e16fa",
   "metadata": {
    "execution": {
     "iopub.execute_input": "2022-11-17T00:14:39.425186Z",
     "iopub.status.busy": "2022-11-17T00:14:39.424188Z",
     "iopub.status.idle": "2022-11-17T00:14:47.480056Z",
     "shell.execute_reply": "2022-11-17T00:14:47.479057Z",
     "shell.execute_reply.started": "2022-11-17T00:14:39.425186Z"
    }
   },
   "outputs": [
    {
     "name": "stderr",
     "output_type": "stream",
     "text": [
      "[nltk_data] Downloading collection 'book'\n",
      "[nltk_data]    | \n",
      "[nltk_data]    | Downloading package abc to\n",
      "[nltk_data]    |     C:\\Users\\admin\\AppData\\Roaming\\nltk_data...\n",
      "[nltk_data]    |   Package abc is already up-to-date!\n",
      "[nltk_data]    | Downloading package brown to\n",
      "[nltk_data]    |     C:\\Users\\admin\\AppData\\Roaming\\nltk_data...\n",
      "[nltk_data]    |   Package brown is already up-to-date!\n",
      "[nltk_data]    | Downloading package chat80 to\n",
      "[nltk_data]    |     C:\\Users\\admin\\AppData\\Roaming\\nltk_data...\n",
      "[nltk_data]    |   Package chat80 is already up-to-date!\n",
      "[nltk_data]    | Downloading package cmudict to\n",
      "[nltk_data]    |     C:\\Users\\admin\\AppData\\Roaming\\nltk_data...\n",
      "[nltk_data]    |   Package cmudict is already up-to-date!\n",
      "[nltk_data]    | Downloading package conll2000 to\n",
      "[nltk_data]    |     C:\\Users\\admin\\AppData\\Roaming\\nltk_data...\n",
      "[nltk_data]    |   Package conll2000 is already up-to-date!\n",
      "[nltk_data]    | Downloading package conll2002 to\n",
      "[nltk_data]    |     C:\\Users\\admin\\AppData\\Roaming\\nltk_data...\n",
      "[nltk_data]    |   Package conll2002 is already up-to-date!\n",
      "[nltk_data]    | Downloading package dependency_treebank to\n",
      "[nltk_data]    |     C:\\Users\\admin\\AppData\\Roaming\\nltk_data...\n",
      "[nltk_data]    |   Package dependency_treebank is already up-to-date!\n",
      "[nltk_data]    | Downloading package genesis to\n",
      "[nltk_data]    |     C:\\Users\\admin\\AppData\\Roaming\\nltk_data...\n",
      "[nltk_data]    |   Package genesis is already up-to-date!\n",
      "[nltk_data]    | Downloading package gutenberg to\n",
      "[nltk_data]    |     C:\\Users\\admin\\AppData\\Roaming\\nltk_data...\n",
      "[nltk_data]    |   Package gutenberg is already up-to-date!\n",
      "[nltk_data]    | Downloading package ieer to\n",
      "[nltk_data]    |     C:\\Users\\admin\\AppData\\Roaming\\nltk_data...\n",
      "[nltk_data]    |   Package ieer is already up-to-date!\n",
      "[nltk_data]    | Downloading package inaugural to\n",
      "[nltk_data]    |     C:\\Users\\admin\\AppData\\Roaming\\nltk_data...\n",
      "[nltk_data]    |   Package inaugural is already up-to-date!\n",
      "[nltk_data]    | Downloading package movie_reviews to\n",
      "[nltk_data]    |     C:\\Users\\admin\\AppData\\Roaming\\nltk_data...\n",
      "[nltk_data]    |   Package movie_reviews is already up-to-date!\n",
      "[nltk_data]    | Downloading package nps_chat to\n",
      "[nltk_data]    |     C:\\Users\\admin\\AppData\\Roaming\\nltk_data...\n",
      "[nltk_data]    |   Package nps_chat is already up-to-date!\n",
      "[nltk_data]    | Downloading package names to\n",
      "[nltk_data]    |     C:\\Users\\admin\\AppData\\Roaming\\nltk_data...\n",
      "[nltk_data]    |   Package names is already up-to-date!\n",
      "[nltk_data]    | Downloading package ppattach to\n",
      "[nltk_data]    |     C:\\Users\\admin\\AppData\\Roaming\\nltk_data...\n",
      "[nltk_data]    |   Package ppattach is already up-to-date!\n",
      "[nltk_data]    | Downloading package reuters to\n",
      "[nltk_data]    |     C:\\Users\\admin\\AppData\\Roaming\\nltk_data...\n",
      "[nltk_data]    |   Package reuters is already up-to-date!\n",
      "[nltk_data]    | Downloading package senseval to\n",
      "[nltk_data]    |     C:\\Users\\admin\\AppData\\Roaming\\nltk_data...\n",
      "[nltk_data]    |   Package senseval is already up-to-date!\n",
      "[nltk_data]    | Downloading package state_union to\n",
      "[nltk_data]    |     C:\\Users\\admin\\AppData\\Roaming\\nltk_data...\n",
      "[nltk_data]    |   Package state_union is already up-to-date!\n",
      "[nltk_data]    | Downloading package stopwords to\n",
      "[nltk_data]    |     C:\\Users\\admin\\AppData\\Roaming\\nltk_data...\n",
      "[nltk_data]    |   Package stopwords is already up-to-date!\n",
      "[nltk_data]    | Downloading package swadesh to\n",
      "[nltk_data]    |     C:\\Users\\admin\\AppData\\Roaming\\nltk_data...\n",
      "[nltk_data]    |   Package swadesh is already up-to-date!\n",
      "[nltk_data]    | Downloading package timit to\n",
      "[nltk_data]    |     C:\\Users\\admin\\AppData\\Roaming\\nltk_data...\n",
      "[nltk_data]    |   Package timit is already up-to-date!\n",
      "[nltk_data]    | Downloading package treebank to\n",
      "[nltk_data]    |     C:\\Users\\admin\\AppData\\Roaming\\nltk_data...\n",
      "[nltk_data]    |   Package treebank is already up-to-date!\n",
      "[nltk_data]    | Downloading package toolbox to\n",
      "[nltk_data]    |     C:\\Users\\admin\\AppData\\Roaming\\nltk_data...\n",
      "[nltk_data]    |   Package toolbox is already up-to-date!\n",
      "[nltk_data]    | Downloading package udhr to\n",
      "[nltk_data]    |     C:\\Users\\admin\\AppData\\Roaming\\nltk_data...\n",
      "[nltk_data]    |   Package udhr is already up-to-date!\n",
      "[nltk_data]    | Downloading package udhr2 to\n",
      "[nltk_data]    |     C:\\Users\\admin\\AppData\\Roaming\\nltk_data...\n",
      "[nltk_data]    |   Package udhr2 is already up-to-date!\n",
      "[nltk_data]    | Downloading package unicode_samples to\n",
      "[nltk_data]    |     C:\\Users\\admin\\AppData\\Roaming\\nltk_data...\n",
      "[nltk_data]    |   Package unicode_samples is already up-to-date!\n",
      "[nltk_data]    | Downloading package webtext to\n",
      "[nltk_data]    |     C:\\Users\\admin\\AppData\\Roaming\\nltk_data...\n",
      "[nltk_data]    |   Package webtext is already up-to-date!\n",
      "[nltk_data]    | Downloading package wordnet to\n",
      "[nltk_data]    |     C:\\Users\\admin\\AppData\\Roaming\\nltk_data...\n",
      "[nltk_data]    |   Package wordnet is already up-to-date!\n",
      "[nltk_data]    | Downloading package wordnet_ic to\n",
      "[nltk_data]    |     C:\\Users\\admin\\AppData\\Roaming\\nltk_data...\n",
      "[nltk_data]    |   Package wordnet_ic is already up-to-date!\n",
      "[nltk_data]    | Downloading package words to\n",
      "[nltk_data]    |     C:\\Users\\admin\\AppData\\Roaming\\nltk_data...\n",
      "[nltk_data]    |   Package words is already up-to-date!\n",
      "[nltk_data]    | Downloading package maxent_treebank_pos_tagger to\n",
      "[nltk_data]    |     C:\\Users\\admin\\AppData\\Roaming\\nltk_data...\n",
      "[nltk_data]    |   Package maxent_treebank_pos_tagger is already up-\n",
      "[nltk_data]    |       to-date!\n",
      "[nltk_data]    | Downloading package maxent_ne_chunker to\n",
      "[nltk_data]    |     C:\\Users\\admin\\AppData\\Roaming\\nltk_data...\n",
      "[nltk_data]    |   Package maxent_ne_chunker is already up-to-date!\n",
      "[nltk_data]    | Downloading package universal_tagset to\n",
      "[nltk_data]    |     C:\\Users\\admin\\AppData\\Roaming\\nltk_data...\n",
      "[nltk_data]    |   Package universal_tagset is already up-to-date!\n",
      "[nltk_data]    | Downloading package punkt to\n",
      "[nltk_data]    |     C:\\Users\\admin\\AppData\\Roaming\\nltk_data...\n",
      "[nltk_data]    |   Package punkt is already up-to-date!\n",
      "[nltk_data]    | Downloading package book_grammars to\n",
      "[nltk_data]    |     C:\\Users\\admin\\AppData\\Roaming\\nltk_data...\n",
      "[nltk_data]    |   Package book_grammars is already up-to-date!\n",
      "[nltk_data]    | Downloading package city_database to\n",
      "[nltk_data]    |     C:\\Users\\admin\\AppData\\Roaming\\nltk_data...\n",
      "[nltk_data]    |   Package city_database is already up-to-date!\n",
      "[nltk_data]    | Downloading package tagsets to\n",
      "[nltk_data]    |     C:\\Users\\admin\\AppData\\Roaming\\nltk_data...\n",
      "[nltk_data]    |   Package tagsets is already up-to-date!\n",
      "[nltk_data]    | Downloading package panlex_swadesh to\n",
      "[nltk_data]    |     C:\\Users\\admin\\AppData\\Roaming\\nltk_data...\n",
      "[nltk_data]    |   Package panlex_swadesh is already up-to-date!\n",
      "[nltk_data]    | Downloading package averaged_perceptron_tagger to\n",
      "[nltk_data]    |     C:\\Users\\admin\\AppData\\Roaming\\nltk_data...\n",
      "[nltk_data]    |   Package averaged_perceptron_tagger is already up-\n",
      "[nltk_data]    |       to-date!\n",
      "[nltk_data]    | \n",
      "[nltk_data]  Done downloading collection book\n"
     ]
    },
    {
     "name": "stdout",
     "output_type": "stream",
     "text": [
      "*** Introductory Examples for the NLTK Book ***\n",
      "Loading text1, ..., text9 and sent1, ..., sent9\n",
      "Type the name of the text or sentence to view it.\n",
      "Type: 'texts()' or 'sents()' to list the materials.\n",
      "text1: Moby Dick by Herman Melville 1851\n",
      "text2: Sense and Sensibility by Jane Austen 1811\n",
      "text3: The Book of Genesis\n",
      "text4: Inaugural Address Corpus\n",
      "text5: Chat Corpus\n",
      "text6: Monty Python and the Holy Grail\n",
      "text7: Wall Street Journal\n",
      "text8: Personals Corpus\n",
      "text9: The Man Who Was Thursday by G . K . Chesterton 1908\n"
     ]
    }
   ],
   "source": [
    "import nltk\n",
    "nltk.download('book')\n",
    "from nltk.book import *"
   ]
  },
  {
   "cell_type": "code",
   "execution_count": 5,
   "id": "01eb8441-a659-4db8-ade4-34df255576bc",
   "metadata": {
    "execution": {
     "iopub.execute_input": "2022-11-17T00:14:47.481054Z",
     "iopub.status.busy": "2022-11-17T00:14:47.481054Z",
     "iopub.status.idle": "2022-11-17T00:14:47.495015Z",
     "shell.execute_reply": "2022-11-17T00:14:47.495015Z",
     "shell.execute_reply.started": "2022-11-17T00:14:47.481054Z"
    },
    "tags": []
   },
   "outputs": [
    {
     "data": {
      "text/plain": [
       "['austen-emma.txt',\n",
       " 'austen-persuasion.txt',\n",
       " 'austen-sense.txt',\n",
       " 'bible-kjv.txt',\n",
       " 'blake-poems.txt',\n",
       " 'bryant-stories.txt',\n",
       " 'burgess-busterbrown.txt',\n",
       " 'carroll-alice.txt',\n",
       " 'chesterton-ball.txt',\n",
       " 'chesterton-brown.txt',\n",
       " 'chesterton-thursday.txt',\n",
       " 'edgeworth-parents.txt',\n",
       " 'melville-moby_dick.txt',\n",
       " 'milton-paradise.txt',\n",
       " 'shakespeare-caesar.txt',\n",
       " 'shakespeare-hamlet.txt',\n",
       " 'shakespeare-macbeth.txt',\n",
       " 'whitman-leaves.txt']"
      ]
     },
     "execution_count": 5,
     "metadata": {},
     "output_type": "execute_result"
    }
   ],
   "source": [
    "# gutenberg 말뭉치 : 저작권이 만료된 소설같은 작품들을 가지고 있는 문서 집합\n",
    "nltk.corpus.gutenberg.fileids()"
   ]
  },
  {
   "cell_type": "code",
   "execution_count": 6,
   "id": "17eaa1b1-3173-4f90-9570-9a2e758db1e1",
   "metadata": {
    "execution": {
     "iopub.execute_input": "2022-11-17T00:14:47.496013Z",
     "iopub.status.busy": "2022-11-17T00:14:47.496013Z",
     "iopub.status.idle": "2022-11-17T00:14:47.524881Z",
     "shell.execute_reply": "2022-11-17T00:14:47.524881Z",
     "shell.execute_reply.started": "2022-11-17T00:14:47.496013Z"
    },
    "tags": []
   },
   "outputs": [
    {
     "name": "stdout",
     "output_type": "stream",
     "text": [
      "[Emma by Jane Austen 1816]\n",
      "\n",
      "VOLUME I\n",
      "\n",
      "CHAPTER I\n",
      "\n",
      "\n",
      "Emma Woodhouse, handsome, clever, and rich, with a comfortable home\n",
      "and happy disposition, seemed to unite some of the best blessings\n",
      "of existence; and had lived nearly twenty-one years in the world\n",
      "with very little to distress or vex her.\n",
      "\n",
      "She was the youngest of the two daughters of a most affectionate,\n",
      "indulgent father; and had, in consequence of her sister's marriage,\n",
      "been mistress of his house from a very early period.  Her mother\n",
      "had died too long ago for her to have more than an indistinct\n",
      "remembrance of her caresses; and her place had been supplied\n",
      "by an excellent woman as governess, who had fallen little short\n",
      "of a mother in affection.\n",
      "\n",
      "Sixteen years had Miss Taylor been in Mr. Woodhouse's family,\n",
      "less as a governess than a friend, very fond of both daughters,\n",
      "but particularly of Emma.  Between _them_ it was more the intimacy\n",
      "of sisters.  Even before Miss Taylor had ceased to hold the nominal\n",
      "office of governess, the mildness o\n"
     ]
    }
   ],
   "source": [
    "emma = nltk.corpus.gutenberg.raw('austen-emma.txt')\n",
    "print(emma[:1000])"
   ]
  },
  {
   "cell_type": "code",
   "execution_count": 7,
   "id": "bd948fd1-6bb7-4bac-b879-d43b7cfa9b8c",
   "metadata": {
    "execution": {
     "iopub.execute_input": "2022-11-17T00:14:47.526874Z",
     "iopub.status.busy": "2022-11-17T00:14:47.526874Z",
     "iopub.status.idle": "2022-11-17T00:14:47.557602Z",
     "shell.execute_reply": "2022-11-17T00:14:47.556609Z",
     "shell.execute_reply.started": "2022-11-17T00:14:47.526874Z"
    },
    "tags": []
   },
   "outputs": [
    {
     "name": "stdout",
     "output_type": "stream",
     "text": [
      "[The Tragedie of Hamlet by William Shakespeare 1599]\n",
      "\n",
      "\n",
      "Actus Primus. Scoena Prima.\n",
      "\n",
      "Enter Barnardo and Francisco two Centinels.\n",
      "\n",
      "  Barnardo. Who's there?\n",
      "  Fran. Nay answer me: Stand & vnfold\n",
      "your selfe\n",
      "\n",
      "   Bar. Long liue the King\n",
      "\n",
      "   Fran. Barnardo?\n",
      "  Bar. He\n",
      "\n",
      "   Fran. You come most carefully vpon your houre\n",
      "\n",
      "   Bar. 'Tis now strook twelue, get thee to bed Francisco\n",
      "\n",
      "   Fran. For this releefe much thankes: 'Tis bitter cold,\n",
      "And I am sicke at heart\n",
      "\n",
      "   Barn. Haue you had quiet Guard?\n",
      "  Fran. Not a Mouse stirring\n",
      "\n",
      "   Barn. Well, goodnight. If you do meet Horatio and\n",
      "Marcellus, the Riuals of my Watch, bid them make hast.\n",
      "Enter Horatio and Marcellus.\n",
      "\n",
      "  Fran. I thinke I heare them. Stand: who's there?\n",
      "  Hor. Friends to this ground\n",
      "\n",
      "   Mar. And Leige-men to the Dane\n",
      "\n",
      "   Fran. Giue you good night\n",
      "\n",
      "   Mar. O farwel honest Soldier, who hath relieu'd you?\n",
      "  Fra. Barnardo ha's my place: giue you goodnight.\n",
      "\n",
      "Exit Fran.\n",
      "\n",
      "  Mar. Holla Barnardo\n",
      "\n",
      "   Bar. Say, what is Horatio there?\n",
      "  Hor. A peece of\n"
     ]
    }
   ],
   "source": [
    "shakespeare = nltk.corpus.gutenberg.raw('shakespeare-hamlet.txt')\n",
    "print(shakespeare[:1000])"
   ]
  },
  {
   "cell_type": "markdown",
   "id": "27c70d04-93e7-4918-bcee-0208d23bbc0e",
   "metadata": {},
   "source": [
    "## 토큰 생성 : 문자열을 가장 작은 단위인 토큰으로 나누는 작업"
   ]
  },
  {
   "cell_type": "code",
   "execution_count": 8,
   "id": "774d02ce-f492-432d-a7c5-ffb73e07f2eb",
   "metadata": {
    "execution": {
     "iopub.execute_input": "2022-11-17T00:14:47.558596Z",
     "iopub.status.busy": "2022-11-17T00:14:47.558596Z",
     "iopub.status.idle": "2022-11-17T00:14:47.589632Z",
     "shell.execute_reply": "2022-11-17T00:14:47.588635Z",
     "shell.execute_reply.started": "2022-11-17T00:14:47.558596Z"
    },
    "tags": []
   },
   "outputs": [
    {
     "name": "stdout",
     "output_type": "stream",
     "text": [
      "['[The Tragedie of Hamlet by William Shakespeare 1599]\\n\\n\\nActus Primus.', 'Scoena Prima.', 'Enter Barnardo and Francisco two Centinels.', 'Barnardo.', \"Who's there?\", 'Fran.', 'Nay answer me: Stand & vnfold\\nyour selfe\\n\\n   Bar.', 'Long liue the King\\n\\n   Fran.', 'Barnardo?', 'Bar.', 'He\\n\\n   Fran.', 'You come most carefully vpon your houre\\n\\n   Bar.', \"'Tis now strook twelue, get thee to bed Francisco\\n\\n   Fran.\", \"For this releefe much thankes: 'Tis bitter cold,\\nAnd I am sicke at heart\\n\\n   Barn.\", 'Haue you had quiet Guard?', 'Fran.', 'Not a Mouse stirring\\n\\n   Barn.', 'Well, goodnight.', 'If you do meet Horatio and\\nMarcellus, the Riuals of my Watch, bid them make hast.', 'Enter Horatio and Marcellus.', 'Fran.', 'I thinke I heare them.', \"Stand: who's there?\", 'Hor.', 'Friends to this ground\\n\\n   Mar.', 'And Leige-men to the Dane\\n\\n   Fran.', 'Giue you good night\\n\\n   Mar.', \"O farwel honest Soldier, who hath relieu'd you?\", 'Fra.', \"Barnardo ha's my place: giue you goodnight.\", 'Exit Fran.', 'Mar.', 'Holla Barnardo\\n\\n   Bar.', 'Say, what is Horatio there?', 'Hor.', 'A peece of']\n"
     ]
    }
   ],
   "source": [
    "from nltk.tokenize import sent_tokenize\n",
    "print(sent_tokenize(shakespeare[:1000]))"
   ]
  },
  {
   "cell_type": "code",
   "execution_count": 9,
   "id": "6e38cc00-042e-40ee-9e9d-e9d6b43026bb",
   "metadata": {
    "execution": {
     "iopub.execute_input": "2022-11-17T00:14:47.591636Z",
     "iopub.status.busy": "2022-11-17T00:14:47.591636Z",
     "iopub.status.idle": "2022-11-17T00:14:47.606267Z",
     "shell.execute_reply": "2022-11-17T00:14:47.605269Z",
     "shell.execute_reply.started": "2022-11-17T00:14:47.591636Z"
    },
    "tags": []
   },
   "outputs": [
    {
     "name": "stdout",
     "output_type": "stream",
     "text": [
      "['9', ']', 'Actus', 'Primus', '.', 'Scoena', 'Prima', '.', 'Enter', 'Barnardo', 'a']\n"
     ]
    }
   ],
   "source": [
    "from nltk.tokenize import word_tokenize\n",
    "print(word_tokenize(shakespeare[50:100]))"
   ]
  },
  {
   "cell_type": "code",
   "execution_count": 10,
   "id": "aec8f7cf-0c60-493e-b97d-60fe776b34fc",
   "metadata": {
    "execution": {
     "iopub.execute_input": "2022-11-17T00:14:47.610255Z",
     "iopub.status.busy": "2022-11-17T00:14:47.610255Z",
     "iopub.status.idle": "2022-11-17T00:14:47.621225Z",
     "shell.execute_reply": "2022-11-17T00:14:47.621225Z",
     "shell.execute_reply.started": "2022-11-17T00:14:47.610255Z"
    },
    "tags": []
   },
   "outputs": [
    {
     "data": {
      "text/plain": [
       "['9', 'Actus', 'Primus', 'Scoena', 'Prima', 'Enter', 'Barnardo', 'a']"
      ]
     },
     "execution_count": 10,
     "metadata": {},
     "output_type": "execute_result"
    }
   ],
   "source": [
    "from nltk.tokenize import RegexpTokenizer\n",
    "# \\w : 영문자, 숫자, _(밑줄)\n",
    "re = RegexpTokenizer('[\\w]+')\n",
    "re.tokenize(shakespeare[50:100])"
   ]
  },
  {
   "cell_type": "markdown",
   "id": "e4c99957-36a9-4a78-8f87-85d8f696dc1a",
   "metadata": {},
   "source": [
    "## 형태소(morpheme)분석\n",
    "\n",
    "- 형태소 : 의미가 있는 가장 작은 말의 단위\n",
    "- 형태소 분석 : 단어에서 어근, 접두사, 접미사, 품사 같은 속성을 파악하는 작업\n",
    "- 기능\n",
    "    1. 어간 추출(stemming) : 단어의 기본형\n",
    "    2. 원형 복원(lemmatizing) : 같은 의미를 가진 여러 단어를 통합하는 작업\n",
    "    3. 품사 부착(Part-Of-Speech tagging, POS)"
   ]
  },
  {
   "cell_type": "code",
   "execution_count": 11,
   "id": "d1b70677-d031-4f4a-8dfa-5f9327da21d9",
   "metadata": {
    "execution": {
     "iopub.execute_input": "2022-11-17T00:14:47.623225Z",
     "iopub.status.busy": "2022-11-17T00:14:47.623225Z",
     "iopub.status.idle": "2022-11-17T00:14:48.998617Z",
     "shell.execute_reply": "2022-11-17T00:14:48.998617Z",
     "shell.execute_reply.started": "2022-11-17T00:14:47.623225Z"
    },
    "tags": []
   },
   "outputs": [
    {
     "name": "stdout",
     "output_type": "stream",
     "text": [
      "Poter Stemmer :  ['fli', 'fli', 'fli', 'flew', 'flown']\n",
      "Lancaster Stemmer :  ['fly', 'fli', 'fly', 'flew', 'flown']\n"
     ]
    },
    {
     "name": "stderr",
     "output_type": "stream",
     "text": [
      "[nltk_data] Downloading package omw-1.4 to\n",
      "[nltk_data]     C:\\Users\\admin\\AppData\\Roaming\\nltk_data...\n",
      "[nltk_data]   Package omw-1.4 is already up-to-date!\n"
     ]
    },
    {
     "name": "stdout",
     "output_type": "stream",
     "text": [
      "WordNet Lemmatizer :  ['fly', 'fly', 'fly', 'fly', 'fly']\n"
     ]
    }
   ],
   "source": [
    "nltk.download('omw-1.4')\n",
    "from nltk.stem import PorterStemmer, LancasterStemmer\n",
    "from nltk.stem import WordNetLemmatizer\n",
    "\n",
    "st1 = PorterStemmer()\n",
    "st2 = LancasterStemmer()\n",
    "lm = WordNetLemmatizer()\n",
    "\n",
    "words = ['fly', 'flies', 'flying', 'flew', 'flown']\n",
    "\n",
    "print('Poter Stemmer : ', [st1.stem(w) for w in words])\n",
    "print('Lancaster Stemmer : ', [st2.stem(w) for w in words])\n",
    "print('WordNet Lemmatizer : ', [lm.lemmatize(w, pos='v') for w in words])"
   ]
  },
  {
   "cell_type": "code",
   "execution_count": 12,
   "id": "a1923cd2-7094-45fc-ad4f-bae29c863bef",
   "metadata": {
    "execution": {
     "iopub.execute_input": "2022-11-17T00:14:49.000603Z",
     "iopub.status.busy": "2022-11-17T00:14:48.999608Z",
     "iopub.status.idle": "2022-11-17T00:14:49.029563Z",
     "shell.execute_reply": "2022-11-17T00:14:49.028569Z",
     "shell.execute_reply.started": "2022-11-17T00:14:49.000603Z"
    },
    "tags": []
   },
   "outputs": [
    {
     "name": "stdout",
     "output_type": "stream",
     "text": [
      "VB: verb, base form\n",
      "    ask assemble assess assign assume atone attention avoid bake balkanize\n",
      "    bank begin behold believe bend benefit bevel beware bless boil bomb\n",
      "    boost brace break bring broil brush build ...\n"
     ]
    }
   ],
   "source": [
    "nltk.help.upenn_tagset('VB')"
   ]
  },
  {
   "cell_type": "code",
   "execution_count": 13,
   "id": "b07cc8cf-3aed-4348-ac44-d7d8305dac2b",
   "metadata": {
    "execution": {
     "iopub.execute_input": "2022-11-17T00:14:49.030561Z",
     "iopub.status.busy": "2022-11-17T00:14:49.030561Z",
     "iopub.status.idle": "2022-11-17T00:14:49.124639Z",
     "shell.execute_reply": "2022-11-17T00:14:49.123631Z",
     "shell.execute_reply.started": "2022-11-17T00:14:49.030561Z"
    }
   },
   "outputs": [
    {
     "data": {
      "text/plain": [
       "[('Emma', 'NNP'),\n",
       " ('Woodhouse', 'NNP'),\n",
       " (',', ','),\n",
       " ('handsome', 'NN'),\n",
       " (',', ','),\n",
       " ('clever', 'NN'),\n",
       " (',', ','),\n",
       " ('and', 'CC'),\n",
       " ('rich', 'JJ'),\n",
       " (',', ','),\n",
       " ('with', 'IN'),\n",
       " ('a', 'DT'),\n",
       " ('comfortable', 'JJ'),\n",
       " ('home', 'NN'),\n",
       " ('and', 'CC'),\n",
       " ('happy', 'JJ'),\n",
       " ('disposition', 'NN'),\n",
       " (',', ','),\n",
       " ('seemed', 'VBD'),\n",
       " ('to', 'TO'),\n",
       " ('unite', 'VB'),\n",
       " ('some', 'DT'),\n",
       " ('of', 'IN'),\n",
       " ('the', 'DT'),\n",
       " ('best', 'JJS'),\n",
       " ('blessings', 'NNS'),\n",
       " ('of', 'IN'),\n",
       " ('existence', 'NN')]"
      ]
     },
     "execution_count": 13,
     "metadata": {},
     "output_type": "execute_result"
    }
   ],
   "source": [
    "from  nltk.tag import pos_tag\n",
    "\n",
    "text = '''Emma Woodhouse, handsome, clever, and rich, with a comfortable home\n",
    "and happy disposition, seemed to unite some of the best blessings\n",
    "of existence'''\n",
    "\n",
    "tag_list = pos_tag(word_tokenize(text))\n",
    "tag_list"
   ]
  },
  {
   "cell_type": "code",
   "execution_count": 14,
   "id": "f512f799-131d-487d-a9f9-a44a4849ad85",
   "metadata": {
    "execution": {
     "iopub.execute_input": "2022-11-17T00:14:49.125625Z",
     "iopub.status.busy": "2022-11-17T00:14:49.125625Z",
     "iopub.status.idle": "2022-11-17T00:14:49.139588Z",
     "shell.execute_reply": "2022-11-17T00:14:49.139588Z",
     "shell.execute_reply.started": "2022-11-17T00:14:49.125625Z"
    },
    "tags": []
   },
   "outputs": [
    {
     "data": {
      "text/plain": [
       "['handsome', 'clever', 'home', 'disposition', 'existence']"
      ]
     },
     "execution_count": 14,
     "metadata": {},
     "output_type": "execute_result"
    }
   ],
   "source": [
    "nouns_list = [t[0] for t in tag_list if t[1] == 'NN']\n",
    "nouns_list"
   ]
  },
  {
   "cell_type": "markdown",
   "id": "218128c7-b95c-4100-829e-a984adf15281",
   "metadata": {},
   "source": [
    "# 전처리"
   ]
  },
  {
   "cell_type": "markdown",
   "id": "a0bcce54-d585-463a-8d1a-f5c918dab19d",
   "metadata": {},
   "source": [
    "## 특수문자(특수기호) 제거"
   ]
  },
  {
   "cell_type": "code",
   "execution_count": 15,
   "id": "bd8aa839-1800-4926-8b58-21fa597b8f97",
   "metadata": {
    "execution": {
     "iopub.execute_input": "2022-11-17T00:14:49.141583Z",
     "iopub.status.busy": "2022-11-17T00:14:49.140586Z",
     "iopub.status.idle": "2022-11-17T00:14:49.155550Z",
     "shell.execute_reply": "2022-11-17T00:14:49.154548Z",
     "shell.execute_reply.started": "2022-11-17T00:14:49.141583Z"
    },
    "tags": []
   },
   "outputs": [],
   "source": [
    "# 파이썬에 내장된 패키지 string은 문자열을 처리하는 다양한 함수를 제공한다.\n",
    "import string "
   ]
  },
  {
   "cell_type": "code",
   "execution_count": 16,
   "id": "ab56c3cd-644e-4b29-97a4-d06e791cf091",
   "metadata": {
    "execution": {
     "iopub.execute_input": "2022-11-17T00:14:49.157540Z",
     "iopub.status.busy": "2022-11-17T00:14:49.156543Z",
     "iopub.status.idle": "2022-11-17T00:14:49.170506Z",
     "shell.execute_reply": "2022-11-17T00:14:49.170506Z",
     "shell.execute_reply.started": "2022-11-17T00:14:49.157540Z"
    },
    "tags": []
   },
   "outputs": [
    {
     "data": {
      "text/plain": [
       "'!\"#$%&\\'()*+,-./:;<=>?@[\\\\]^_`{|}~'"
      ]
     },
     "execution_count": 16,
     "metadata": {},
     "output_type": "execute_result"
    }
   ],
   "source": [
    "# 특수기호 목록을 확인\n",
    "string.punctuation"
   ]
  },
  {
   "cell_type": "code",
   "execution_count": 17,
   "id": "cdae1848-1544-461d-b60c-b0a11566eff4",
   "metadata": {
    "execution": {
     "iopub.execute_input": "2022-11-17T00:14:49.172504Z",
     "iopub.status.busy": "2022-11-17T00:14:49.172504Z",
     "iopub.status.idle": "2022-11-17T00:14:49.186462Z",
     "shell.execute_reply": "2022-11-17T00:14:49.186462Z",
     "shell.execute_reply.started": "2022-11-17T00:14:49.172504Z"
    },
    "tags": []
   },
   "outputs": [
    {
     "data": {
      "text/plain": [
       "'Go until jurong point, crazy.. Available only in bugis n great world la e buffet... Cine there got amore wat...'"
      ]
     },
     "execution_count": 17,
     "metadata": {},
     "output_type": "execute_result"
    }
   ],
   "source": [
    "sample = data['text'].loc[0]\n",
    "sample"
   ]
  },
  {
   "cell_type": "code",
   "execution_count": 18,
   "id": "ca527516-a6eb-4f98-a2cc-9f0fa737601d",
   "metadata": {
    "execution": {
     "iopub.execute_input": "2022-11-17T00:14:49.188458Z",
     "iopub.status.busy": "2022-11-17T00:14:49.187460Z",
     "iopub.status.idle": "2022-11-17T00:14:49.203417Z",
     "shell.execute_reply": "2022-11-17T00:14:49.202420Z",
     "shell.execute_reply.started": "2022-11-17T00:14:49.187460Z"
    },
    "tags": []
   },
   "outputs": [
    {
     "name": "stdout",
     "output_type": "stream",
     "text": [
      "G\n",
      "o\n",
      " \n",
      "u\n",
      "n\n",
      "t\n",
      "i\n",
      "l\n",
      " \n",
      "j\n",
      "u\n",
      "r\n",
      "o\n",
      "n\n",
      "g\n",
      " \n",
      "p\n",
      "o\n",
      "i\n",
      "n\n",
      "t\n",
      ",\n",
      " \n",
      "c\n",
      "r\n",
      "a\n",
      "z\n",
      "y\n",
      ".\n",
      ".\n",
      " \n",
      "A\n",
      "v\n",
      "a\n",
      "i\n",
      "l\n",
      "a\n",
      "b\n",
      "l\n",
      "e\n",
      " \n",
      "o\n",
      "n\n",
      "l\n",
      "y\n",
      " \n",
      "i\n",
      "n\n",
      " \n",
      "b\n",
      "u\n",
      "g\n",
      "i\n",
      "s\n",
      " \n",
      "n\n",
      " \n",
      "g\n",
      "r\n",
      "e\n",
      "a\n",
      "t\n",
      " \n",
      "w\n",
      "o\n",
      "r\n",
      "l\n",
      "d\n",
      " \n",
      "l\n",
      "a\n",
      " \n",
      "e\n",
      " \n",
      "b\n",
      "u\n",
      "f\n",
      "f\n",
      "e\n",
      "t\n",
      ".\n",
      ".\n",
      ".\n",
      " \n",
      "C\n",
      "i\n",
      "n\n",
      "e\n",
      " \n",
      "t\n",
      "h\n",
      "e\n",
      "r\n",
      "e\n",
      " \n",
      "g\n",
      "o\n",
      "t\n",
      " \n",
      "a\n",
      "m\n",
      "o\n",
      "r\n",
      "e\n",
      " \n",
      "w\n",
      "a\n",
      "t\n",
      ".\n",
      ".\n",
      ".\n"
     ]
    }
   ],
   "source": [
    "# 한글자씩 출력\n",
    "for i in sample:\n",
    "    print(i)"
   ]
  },
  {
   "cell_type": "code",
   "execution_count": 19,
   "id": "56aa0120-fd2f-4e64-b366-cb1c8dd9fbed",
   "metadata": {
    "execution": {
     "iopub.execute_input": "2022-11-17T00:14:49.204422Z",
     "iopub.status.busy": "2022-11-17T00:14:49.204422Z",
     "iopub.status.idle": "2022-11-17T00:14:49.218377Z",
     "shell.execute_reply": "2022-11-17T00:14:49.218377Z",
     "shell.execute_reply.started": "2022-11-17T00:14:49.204422Z"
    },
    "tags": []
   },
   "outputs": [
    {
     "data": {
      "text/plain": [
       "'Go until jurong point crazy Available only in bugis n great world la e buffet Cine there got amore wat'"
      ]
     },
     "execution_count": 19,
     "metadata": {},
     "output_type": "execute_result"
    }
   ],
   "source": [
    "# 특수문자를 제외하고 출력\n",
    "str = ''\n",
    "for i in sample:\n",
    "    if i not in string.punctuation:\n",
    "        str += i\n",
    "        \n",
    "str"
   ]
  },
  {
   "cell_type": "code",
   "execution_count": 20,
   "id": "68f0cce4-aa2d-418d-aa9a-a8899805d658",
   "metadata": {
    "execution": {
     "iopub.execute_input": "2022-11-17T00:14:49.220372Z",
     "iopub.status.busy": "2022-11-17T00:14:49.220372Z",
     "iopub.status.idle": "2022-11-17T00:14:49.235331Z",
     "shell.execute_reply": "2022-11-17T00:14:49.234355Z",
     "shell.execute_reply.started": "2022-11-17T00:14:49.220372Z"
    },
    "tags": []
   },
   "outputs": [
    {
     "data": {
      "text/html": [
       "<div>\n",
       "<style scoped>\n",
       "    .dataframe tbody tr th:only-of-type {\n",
       "        vertical-align: middle;\n",
       "    }\n",
       "\n",
       "    .dataframe tbody tr th {\n",
       "        vertical-align: top;\n",
       "    }\n",
       "\n",
       "    .dataframe thead th {\n",
       "        text-align: right;\n",
       "    }\n",
       "</style>\n",
       "<table border=\"1\" class=\"dataframe\">\n",
       "  <thead>\n",
       "    <tr style=\"text-align: right;\">\n",
       "      <th></th>\n",
       "      <th>target</th>\n",
       "      <th>text</th>\n",
       "    </tr>\n",
       "  </thead>\n",
       "  <tbody>\n",
       "    <tr>\n",
       "      <th>0</th>\n",
       "      <td>ham</td>\n",
       "      <td>Go until jurong point, crazy.. Available only ...</td>\n",
       "    </tr>\n",
       "    <tr>\n",
       "      <th>1</th>\n",
       "      <td>ham</td>\n",
       "      <td>Ok lar... Joking wif u oni...</td>\n",
       "    </tr>\n",
       "    <tr>\n",
       "      <th>2</th>\n",
       "      <td>spam</td>\n",
       "      <td>Free entry in 2 a wkly comp to win FA Cup fina...</td>\n",
       "    </tr>\n",
       "    <tr>\n",
       "      <th>3</th>\n",
       "      <td>ham</td>\n",
       "      <td>U dun say so early hor... U c already then say...</td>\n",
       "    </tr>\n",
       "    <tr>\n",
       "      <th>4</th>\n",
       "      <td>ham</td>\n",
       "      <td>Nah I don't think he goes to usf, he lives aro...</td>\n",
       "    </tr>\n",
       "  </tbody>\n",
       "</table>\n",
       "</div>"
      ],
      "text/plain": [
       "  target                                               text\n",
       "0    ham  Go until jurong point, crazy.. Available only ...\n",
       "1    ham                      Ok lar... Joking wif u oni...\n",
       "2   spam  Free entry in 2 a wkly comp to win FA Cup fina...\n",
       "3    ham  U dun say so early hor... U c already then say...\n",
       "4    ham  Nah I don't think he goes to usf, he lives aro..."
      ]
     },
     "execution_count": 20,
     "metadata": {},
     "output_type": "execute_result"
    }
   ],
   "source": [
    "data.head()"
   ]
  },
  {
   "cell_type": "code",
   "execution_count": 21,
   "id": "6638be4a-8ca5-48e5-a8ab-61b566e325e3",
   "metadata": {
    "execution": {
     "iopub.execute_input": "2022-11-17T00:14:49.236329Z",
     "iopub.status.busy": "2022-11-17T00:14:49.235331Z",
     "iopub.status.idle": "2022-11-17T00:14:49.250325Z",
     "shell.execute_reply": "2022-11-17T00:14:49.250325Z",
     "shell.execute_reply.started": "2022-11-17T00:14:49.236329Z"
    },
    "tags": []
   },
   "outputs": [
    {
     "data": {
      "text/plain": [
       "['G',\n",
       " 'o',\n",
       " ' ',\n",
       " 'u',\n",
       " 'n',\n",
       " 't',\n",
       " 'i',\n",
       " 'l',\n",
       " ' ',\n",
       " 'j',\n",
       " 'u',\n",
       " 'r',\n",
       " 'o',\n",
       " 'n',\n",
       " 'g',\n",
       " ' ',\n",
       " 'p',\n",
       " 'o',\n",
       " 'i',\n",
       " 'n',\n",
       " 't',\n",
       " ' ',\n",
       " 'c',\n",
       " 'r',\n",
       " 'a',\n",
       " 'z',\n",
       " 'y',\n",
       " ' ',\n",
       " 'A',\n",
       " 'v',\n",
       " 'a',\n",
       " 'i',\n",
       " 'l',\n",
       " 'a',\n",
       " 'b',\n",
       " 'l',\n",
       " 'e',\n",
       " ' ',\n",
       " 'o',\n",
       " 'n',\n",
       " 'l',\n",
       " 'y',\n",
       " ' ',\n",
       " 'i',\n",
       " 'n',\n",
       " ' ',\n",
       " 'b',\n",
       " 'u',\n",
       " 'g',\n",
       " 'i',\n",
       " 's',\n",
       " ' ',\n",
       " 'n',\n",
       " ' ',\n",
       " 'g',\n",
       " 'r',\n",
       " 'e',\n",
       " 'a',\n",
       " 't',\n",
       " ' ',\n",
       " 'w',\n",
       " 'o',\n",
       " 'r',\n",
       " 'l',\n",
       " 'd',\n",
       " ' ',\n",
       " 'l',\n",
       " 'a',\n",
       " ' ',\n",
       " 'e',\n",
       " ' ',\n",
       " 'b',\n",
       " 'u',\n",
       " 'f',\n",
       " 'f',\n",
       " 'e',\n",
       " 't',\n",
       " ' ',\n",
       " 'C',\n",
       " 'i',\n",
       " 'n',\n",
       " 'e',\n",
       " ' ',\n",
       " 't',\n",
       " 'h',\n",
       " 'e',\n",
       " 'r',\n",
       " 'e',\n",
       " ' ',\n",
       " 'g',\n",
       " 'o',\n",
       " 't',\n",
       " ' ',\n",
       " 'a',\n",
       " 'm',\n",
       " 'o',\n",
       " 'r',\n",
       " 'e',\n",
       " ' ',\n",
       " 'w',\n",
       " 'a',\n",
       " 't']"
      ]
     },
     "execution_count": 21,
     "metadata": {},
     "output_type": "execute_result"
    }
   ],
   "source": [
    "new_text = []\n",
    "for i in sample:\n",
    "    if i not in string.punctuation:\n",
    "        new_text.append(i)\n",
    "        \n",
    "new_text"
   ]
  },
  {
   "cell_type": "code",
   "execution_count": 22,
   "id": "a5e637b6-2b61-4199-b90a-e7ad3f1356ac",
   "metadata": {
    "execution": {
     "iopub.execute_input": "2022-11-17T00:14:49.251289Z",
     "iopub.status.busy": "2022-11-17T00:14:49.251289Z",
     "iopub.status.idle": "2022-11-17T00:14:49.266248Z",
     "shell.execute_reply": "2022-11-17T00:14:49.266248Z",
     "shell.execute_reply.started": "2022-11-17T00:14:49.251289Z"
    },
    "tags": []
   },
   "outputs": [
    {
     "data": {
      "text/plain": [
       "'apple'"
      ]
     },
     "execution_count": 22,
     "metadata": {},
     "output_type": "execute_result"
    }
   ],
   "source": [
    "s = ['a', 'p', 'p', 'l', 'e']\n",
    "''.join(s)"
   ]
  },
  {
   "cell_type": "code",
   "execution_count": 23,
   "id": "4d91edb2-f280-46cf-bfbc-07cbc4a3dc0e",
   "metadata": {
    "execution": {
     "iopub.execute_input": "2022-11-17T00:14:49.268244Z",
     "iopub.status.busy": "2022-11-17T00:14:49.268244Z",
     "iopub.status.idle": "2022-11-17T00:14:49.283204Z",
     "shell.execute_reply": "2022-11-17T00:14:49.282213Z",
     "shell.execute_reply.started": "2022-11-17T00:14:49.268244Z"
    },
    "tags": []
   },
   "outputs": [
    {
     "data": {
      "text/plain": [
       "'Go until jurong point crazy Available only in bugis n great world la e buffet Cine there got amore wat'"
      ]
     },
     "execution_count": 23,
     "metadata": {},
     "output_type": "execute_result"
    }
   ],
   "source": [
    "# 문장형태\n",
    "new_sample = []\n",
    "for i in sample:\n",
    "    if i not in string.punctuation:\n",
    "        new_sample.append(i)\n",
    "new_sample = ''.join(new_sample)\n",
    "new_sample"
   ]
  },
  {
   "cell_type": "code",
   "execution_count": 24,
   "id": "7d9d26ad-b8cf-4bf6-b6fb-421fe109bc74",
   "metadata": {
    "execution": {
     "iopub.execute_input": "2022-11-17T00:14:49.284205Z",
     "iopub.status.busy": "2022-11-17T00:14:49.284205Z",
     "iopub.status.idle": "2022-11-17T00:14:49.299166Z",
     "shell.execute_reply": "2022-11-17T00:14:49.298164Z",
     "shell.execute_reply.started": "2022-11-17T00:14:49.284205Z"
    }
   },
   "outputs": [],
   "source": [
    "def remove_punc(x):\n",
    "    new_sample = []\n",
    "    for i in x:\n",
    "        if i not in string.punctuation:\n",
    "            new_sample.append(i)\n",
    "    new_sample = ''.join(new_sample)\n",
    "    return new_sample"
   ]
  },
  {
   "cell_type": "code",
   "execution_count": 25,
   "id": "6b39ffcf-498e-4f97-96ba-8fa728e0d5a1",
   "metadata": {
    "execution": {
     "iopub.execute_input": "2022-11-17T00:14:49.301156Z",
     "iopub.status.busy": "2022-11-17T00:14:49.300158Z",
     "iopub.status.idle": "2022-11-17T00:14:49.315119Z",
     "shell.execute_reply": "2022-11-17T00:14:49.314129Z",
     "shell.execute_reply.started": "2022-11-17T00:14:49.301156Z"
    },
    "tags": []
   },
   "outputs": [
    {
     "data": {
      "text/plain": [
       "'Go until jurong point, crazy.. Available only in bugis n great world la e buffet... Cine there got amore wat...'"
      ]
     },
     "execution_count": 25,
     "metadata": {},
     "output_type": "execute_result"
    }
   ],
   "source": [
    "sample"
   ]
  },
  {
   "cell_type": "code",
   "execution_count": 26,
   "id": "ec6056dc-29e2-4ceb-94fd-3190c5ecc0f2",
   "metadata": {
    "execution": {
     "iopub.execute_input": "2022-11-17T00:14:49.316116Z",
     "iopub.status.busy": "2022-11-17T00:14:49.316116Z",
     "iopub.status.idle": "2022-11-17T00:14:49.331076Z",
     "shell.execute_reply": "2022-11-17T00:14:49.330110Z",
     "shell.execute_reply.started": "2022-11-17T00:14:49.316116Z"
    },
    "tags": []
   },
   "outputs": [
    {
     "data": {
      "text/plain": [
       "'Go until jurong point crazy Available only in bugis n great world la e buffet Cine there got amore wat'"
      ]
     },
     "execution_count": 26,
     "metadata": {},
     "output_type": "execute_result"
    }
   ],
   "source": [
    "remove_punc(sample)"
   ]
  },
  {
   "cell_type": "code",
   "execution_count": 27,
   "id": "07ef0ae8-732c-4a9a-95b7-4f6efa19b25c",
   "metadata": {
    "execution": {
     "iopub.execute_input": "2022-11-17T00:14:49.331076Z",
     "iopub.status.busy": "2022-11-17T00:14:49.331076Z",
     "iopub.status.idle": "2022-11-17T00:14:49.439785Z",
     "shell.execute_reply": "2022-11-17T00:14:49.438787Z",
     "shell.execute_reply.started": "2022-11-17T00:14:49.331076Z"
    },
    "tags": []
   },
   "outputs": [],
   "source": [
    "data['text'] = data['text'].apply(remove_punc)"
   ]
  },
  {
   "cell_type": "code",
   "execution_count": 28,
   "id": "7d9e156e-6cb4-4b71-8c4b-05251edf244c",
   "metadata": {
    "execution": {
     "iopub.execute_input": "2022-11-17T00:14:49.441786Z",
     "iopub.status.busy": "2022-11-17T00:14:49.440782Z",
     "iopub.status.idle": "2022-11-17T00:14:49.454747Z",
     "shell.execute_reply": "2022-11-17T00:14:49.454747Z",
     "shell.execute_reply.started": "2022-11-17T00:14:49.441786Z"
    },
    "tags": []
   },
   "outputs": [
    {
     "data": {
      "text/html": [
       "<div>\n",
       "<style scoped>\n",
       "    .dataframe tbody tr th:only-of-type {\n",
       "        vertical-align: middle;\n",
       "    }\n",
       "\n",
       "    .dataframe tbody tr th {\n",
       "        vertical-align: top;\n",
       "    }\n",
       "\n",
       "    .dataframe thead th {\n",
       "        text-align: right;\n",
       "    }\n",
       "</style>\n",
       "<table border=\"1\" class=\"dataframe\">\n",
       "  <thead>\n",
       "    <tr style=\"text-align: right;\">\n",
       "      <th></th>\n",
       "      <th>target</th>\n",
       "      <th>text</th>\n",
       "    </tr>\n",
       "  </thead>\n",
       "  <tbody>\n",
       "    <tr>\n",
       "      <th>0</th>\n",
       "      <td>ham</td>\n",
       "      <td>Go until jurong point crazy Available only in ...</td>\n",
       "    </tr>\n",
       "    <tr>\n",
       "      <th>1</th>\n",
       "      <td>ham</td>\n",
       "      <td>Ok lar Joking wif u oni</td>\n",
       "    </tr>\n",
       "    <tr>\n",
       "      <th>2</th>\n",
       "      <td>spam</td>\n",
       "      <td>Free entry in 2 a wkly comp to win FA Cup fina...</td>\n",
       "    </tr>\n",
       "    <tr>\n",
       "      <th>3</th>\n",
       "      <td>ham</td>\n",
       "      <td>U dun say so early hor U c already then say</td>\n",
       "    </tr>\n",
       "    <tr>\n",
       "      <th>4</th>\n",
       "      <td>ham</td>\n",
       "      <td>Nah I dont think he goes to usf he lives aroun...</td>\n",
       "    </tr>\n",
       "    <tr>\n",
       "      <th>...</th>\n",
       "      <td>...</td>\n",
       "      <td>...</td>\n",
       "    </tr>\n",
       "    <tr>\n",
       "      <th>5569</th>\n",
       "      <td>spam</td>\n",
       "      <td>This is the 2nd time we have tried 2 contact u...</td>\n",
       "    </tr>\n",
       "    <tr>\n",
       "      <th>5570</th>\n",
       "      <td>ham</td>\n",
       "      <td>Will 체 b going to esplanade fr home</td>\n",
       "    </tr>\n",
       "    <tr>\n",
       "      <th>5571</th>\n",
       "      <td>ham</td>\n",
       "      <td>Pity  was in mood for that Soany other suggest...</td>\n",
       "    </tr>\n",
       "    <tr>\n",
       "      <th>5572</th>\n",
       "      <td>ham</td>\n",
       "      <td>The guy did some bitching but I acted like id ...</td>\n",
       "    </tr>\n",
       "    <tr>\n",
       "      <th>5573</th>\n",
       "      <td>ham</td>\n",
       "      <td>Rofl Its true to its name</td>\n",
       "    </tr>\n",
       "  </tbody>\n",
       "</table>\n",
       "<p>5574 rows × 2 columns</p>\n",
       "</div>"
      ],
      "text/plain": [
       "     target                                               text\n",
       "0       ham  Go until jurong point crazy Available only in ...\n",
       "1       ham                            Ok lar Joking wif u oni\n",
       "2      spam  Free entry in 2 a wkly comp to win FA Cup fina...\n",
       "3       ham        U dun say so early hor U c already then say\n",
       "4       ham  Nah I dont think he goes to usf he lives aroun...\n",
       "...     ...                                                ...\n",
       "5569   spam  This is the 2nd time we have tried 2 contact u...\n",
       "5570    ham                Will 체 b going to esplanade fr home\n",
       "5571    ham  Pity  was in mood for that Soany other suggest...\n",
       "5572    ham  The guy did some bitching but I acted like id ...\n",
       "5573    ham                          Rofl Its true to its name\n",
       "\n",
       "[5574 rows x 2 columns]"
      ]
     },
     "execution_count": 28,
     "metadata": {},
     "output_type": "execute_result"
    }
   ],
   "source": [
    "data"
   ]
  },
  {
   "cell_type": "markdown",
   "id": "35754787-a7e4-4de7-aa46-c3f92aff9b33",
   "metadata": {},
   "source": [
    "## 전처리 - 불용어(stopword)\n",
    "\n",
    "- 불용어 : 자연어 분석을 할 때 분석에 의미가 없는 단어\n",
    "- 불용어 사전 : nltk"
   ]
  },
  {
   "cell_type": "code",
   "execution_count": 29,
   "id": "dbc3ccb7-055e-4dae-a767-26713cd8359e",
   "metadata": {
    "execution": {
     "iopub.execute_input": "2022-11-17T00:14:49.455743Z",
     "iopub.status.busy": "2022-11-17T00:14:49.455743Z",
     "iopub.status.idle": "2022-11-17T00:14:49.469705Z",
     "shell.execute_reply": "2022-11-17T00:14:49.469705Z",
     "shell.execute_reply.started": "2022-11-17T00:14:49.455743Z"
    }
   },
   "outputs": [
    {
     "name": "stderr",
     "output_type": "stream",
     "text": [
      "[nltk_data] Downloading package stopwords to\n",
      "[nltk_data]     C:\\Users\\admin\\AppData\\Roaming\\nltk_data...\n",
      "[nltk_data]   Package stopwords is already up-to-date!\n"
     ]
    },
    {
     "data": {
      "text/plain": [
       "True"
      ]
     },
     "execution_count": 29,
     "metadata": {},
     "output_type": "execute_result"
    }
   ],
   "source": [
    "# 불용어 목록 확인\n",
    "nltk.download('stopwords')"
   ]
  },
  {
   "cell_type": "code",
   "execution_count": 30,
   "id": "9c3c2f3f-7734-4386-a7f8-39963160269d",
   "metadata": {
    "execution": {
     "iopub.execute_input": "2022-11-17T00:14:49.470702Z",
     "iopub.status.busy": "2022-11-17T00:14:49.470702Z",
     "iopub.status.idle": "2022-11-17T00:14:49.484665Z",
     "shell.execute_reply": "2022-11-17T00:14:49.484665Z",
     "shell.execute_reply.started": "2022-11-17T00:14:49.470702Z"
    },
    "tags": []
   },
   "outputs": [
    {
     "name": "stdout",
     "output_type": "stream",
     "text": [
      "['i', 'me', 'my', 'myself', 'we', 'our', 'ours', 'ourselves', 'you', \"you're\", \"you've\", \"you'll\", \"you'd\", 'your', 'yours', 'yourself', 'yourselves', 'he', 'him', 'his', 'himself', 'she', \"she's\", 'her', 'hers', 'herself', 'it', \"it's\", 'its', 'itself', 'they', 'them', 'their', 'theirs', 'themselves', 'what', 'which', 'who', 'whom', 'this', 'that', \"that'll\", 'these', 'those', 'am', 'is', 'are', 'was', 'were', 'be', 'been', 'being', 'have', 'has', 'had', 'having', 'do', 'does', 'did', 'doing', 'a', 'an', 'the', 'and', 'but', 'if', 'or', 'because', 'as', 'until', 'while', 'of', 'at', 'by', 'for', 'with', 'about', 'against', 'between', 'into', 'through', 'during', 'before', 'after', 'above', 'below', 'to', 'from', 'up', 'down', 'in', 'out', 'on', 'off', 'over', 'under', 'again', 'further', 'then', 'once', 'here', 'there', 'when', 'where', 'why', 'how', 'all', 'any', 'both', 'each', 'few', 'more', 'most', 'other', 'some', 'such', 'no', 'nor', 'not', 'only', 'own', 'same', 'so', 'than', 'too', 'very', 's', 't', 'can', 'will', 'just', 'don', \"don't\", 'should', \"should've\", 'now', 'd', 'll', 'm', 'o', 're', 've', 'y', 'ain', 'aren', \"aren't\", 'couldn', \"couldn't\", 'didn', \"didn't\", 'doesn', \"doesn't\", 'hadn', \"hadn't\", 'hasn', \"hasn't\", 'haven', \"haven't\", 'isn', \"isn't\", 'ma', 'mightn', \"mightn't\", 'mustn', \"mustn't\", 'needn', \"needn't\", 'shan', \"shan't\", 'shouldn', \"shouldn't\", 'wasn', \"wasn't\", 'weren', \"weren't\", 'won', \"won't\", 'wouldn', \"wouldn't\"]\n"
     ]
    }
   ],
   "source": [
    "from nltk.corpus import stopwords\n",
    "print(stopwords.words('english'))"
   ]
  },
  {
   "cell_type": "code",
   "execution_count": 31,
   "id": "2bd8dad5-2042-45a5-9458-f7d592f7d535",
   "metadata": {
    "execution": {
     "iopub.execute_input": "2022-11-17T00:14:49.485662Z",
     "iopub.status.busy": "2022-11-17T00:14:49.485662Z",
     "iopub.status.idle": "2022-11-17T00:14:49.500624Z",
     "shell.execute_reply": "2022-11-17T00:14:49.500624Z",
     "shell.execute_reply.started": "2022-11-17T00:14:49.485662Z"
    },
    "tags": []
   },
   "outputs": [
    {
     "data": {
      "text/plain": [
       "['arabic',\n",
       " 'azerbaijani',\n",
       " 'basque',\n",
       " 'bengali',\n",
       " 'catalan',\n",
       " 'chinese',\n",
       " 'danish',\n",
       " 'dutch',\n",
       " 'english',\n",
       " 'finnish',\n",
       " 'french',\n",
       " 'german',\n",
       " 'greek',\n",
       " 'hebrew',\n",
       " 'hinglish',\n",
       " 'hungarian',\n",
       " 'indonesian',\n",
       " 'italian',\n",
       " 'kazakh',\n",
       " 'nepali',\n",
       " 'norwegian',\n",
       " 'portuguese',\n",
       " 'romanian',\n",
       " 'russian',\n",
       " 'slovene',\n",
       " 'spanish',\n",
       " 'swedish',\n",
       " 'tajik',\n",
       " 'turkish']"
      ]
     },
     "execution_count": 31,
     "metadata": {},
     "output_type": "execute_result"
    }
   ],
   "source": [
    "stopwords.fileids()"
   ]
  },
  {
   "cell_type": "code",
   "execution_count": 32,
   "id": "d2300646-2d4b-4518-8b6c-ffc9df73f8bd",
   "metadata": {
    "execution": {
     "iopub.execute_input": "2022-11-17T00:14:49.502618Z",
     "iopub.status.busy": "2022-11-17T00:14:49.501619Z",
     "iopub.status.idle": "2022-11-17T00:14:49.516593Z",
     "shell.execute_reply": "2022-11-17T00:14:49.515583Z",
     "shell.execute_reply.started": "2022-11-17T00:14:49.502618Z"
    }
   },
   "outputs": [
    {
     "data": {
      "text/plain": [
       "'Go until jurong point crazy Available only in bugis n great world la e buffet Cine there got amore wat'"
      ]
     },
     "execution_count": 32,
     "metadata": {},
     "output_type": "execute_result"
    }
   ],
   "source": [
    "sample = data['text'].loc[0]\n",
    "sample"
   ]
  },
  {
   "cell_type": "code",
   "execution_count": 33,
   "id": "7b159cdb-ea07-416a-bcd7-f434fa0128c8",
   "metadata": {
    "execution": {
     "iopub.execute_input": "2022-11-17T00:14:49.517576Z",
     "iopub.status.busy": "2022-11-17T00:14:49.516593Z",
     "iopub.status.idle": "2022-11-17T00:14:49.531544Z",
     "shell.execute_reply": "2022-11-17T00:14:49.531544Z",
     "shell.execute_reply.started": "2022-11-17T00:14:49.516593Z"
    }
   },
   "outputs": [
    {
     "data": {
      "text/plain": [
       "['Go',\n",
       " 'until',\n",
       " 'jurong',\n",
       " 'point',\n",
       " 'crazy',\n",
       " 'Available',\n",
       " 'only',\n",
       " 'in',\n",
       " 'bugis',\n",
       " 'n',\n",
       " 'great',\n",
       " 'world',\n",
       " 'la',\n",
       " 'e',\n",
       " 'buffet',\n",
       " 'Cine',\n",
       " 'there',\n",
       " 'got',\n",
       " 'amore',\n",
       " 'wat']"
      ]
     },
     "execution_count": 33,
     "metadata": {},
     "output_type": "execute_result"
    }
   ],
   "source": [
    "sample.split() # 문장이 단어 단위로 분리"
   ]
  },
  {
   "cell_type": "code",
   "execution_count": 34,
   "id": "9aaf0634-820a-48c5-9a97-da4e273703e8",
   "metadata": {
    "execution": {
     "iopub.execute_input": "2022-11-17T00:14:49.532536Z",
     "iopub.status.busy": "2022-11-17T00:14:49.532536Z",
     "iopub.status.idle": "2022-11-17T00:14:49.547497Z",
     "shell.execute_reply": "2022-11-17T00:14:49.547497Z",
     "shell.execute_reply.started": "2022-11-17T00:14:49.532536Z"
    },
    "tags": []
   },
   "outputs": [
    {
     "name": "stdout",
     "output_type": "stream",
     "text": [
      "go\n",
      "jurong\n",
      "point\n",
      "crazy\n",
      "available\n",
      "bugis\n",
      "n\n",
      "great\n",
      "world\n",
      "la\n",
      "e\n",
      "buffet\n",
      "cine\n",
      "got\n",
      "amore\n",
      "wat\n"
     ]
    }
   ],
   "source": [
    "for w in sample.split():\n",
    "    if w.lower() not in stopwords.words('english'): # 불용어가 아니라면\n",
    "        print(w.lower())"
   ]
  },
  {
   "cell_type": "code",
   "execution_count": 35,
   "id": "4168f99d-7c1a-4ebb-a738-fa85c801e93a",
   "metadata": {
    "execution": {
     "iopub.execute_input": "2022-11-17T00:14:49.549491Z",
     "iopub.status.busy": "2022-11-17T00:14:49.548494Z",
     "iopub.status.idle": "2022-11-17T00:14:49.562457Z",
     "shell.execute_reply": "2022-11-17T00:14:49.562457Z",
     "shell.execute_reply.started": "2022-11-17T00:14:49.549491Z"
    },
    "tags": []
   },
   "outputs": [
    {
     "data": {
      "text/plain": [
       "'go jurong point crazy available bugis n great world la e buffet cine got amore wat'"
      ]
     },
     "execution_count": 35,
     "metadata": {},
     "output_type": "execute_result"
    }
   ],
   "source": [
    "new_sample = []\n",
    "for w in sample.split():\n",
    "    if w.lower() not in stopwords.words('english'): # 불용어가 아니라면\n",
    "        new_sample.append(w.lower())\n",
    "new_sample = ' '.join(new_sample)\n",
    "new_sample"
   ]
  },
  {
   "cell_type": "code",
   "execution_count": 36,
   "id": "1d8dd10c-a995-4e1c-8cc1-60c9851cc0ed",
   "metadata": {
    "execution": {
     "iopub.execute_input": "2022-11-17T00:14:49.564451Z",
     "iopub.status.busy": "2022-11-17T00:14:49.563454Z",
     "iopub.status.idle": "2022-11-17T00:14:49.578414Z",
     "shell.execute_reply": "2022-11-17T00:14:49.578414Z",
     "shell.execute_reply.started": "2022-11-17T00:14:49.564451Z"
    },
    "tags": []
   },
   "outputs": [],
   "source": [
    "def stop_words(x):\n",
    "    new_sample = []\n",
    "    for w in x.split():\n",
    "        if w.lower() not in stopwords.words('english'): # 불용어가 아니라면\n",
    "            new_sample.append(w.lower())\n",
    "    new_sample = ' '.join(new_sample)\n",
    "    return new_sample"
   ]
  },
  {
   "cell_type": "code",
   "execution_count": 37,
   "id": "583d2a6d-0e43-4d0a-8fef-709c8c78b845",
   "metadata": {
    "execution": {
     "iopub.execute_input": "2022-11-17T00:14:49.585397Z",
     "iopub.status.busy": "2022-11-17T00:14:49.585397Z",
     "iopub.status.idle": "2022-11-17T00:15:07.293540Z",
     "shell.execute_reply": "2022-11-17T00:15:07.293540Z",
     "shell.execute_reply.started": "2022-11-17T00:14:49.585397Z"
    },
    "tags": []
   },
   "outputs": [
    {
     "data": {
      "text/plain": [
       "0       go jurong point crazy available bugis n great ...\n",
       "1                                 ok lar joking wif u oni\n",
       "2       free entry 2 wkly comp win fa cup final tkts 2...\n",
       "3                     u dun say early hor u c already say\n",
       "4             nah dont think goes usf lives around though\n",
       "                              ...                        \n",
       "5569    2nd time tried 2 contact u u 짙750 pound prize ...\n",
       "5570                          체 b going esplanade fr home\n",
       "5571                          pity mood soany suggestions\n",
       "5572    guy bitching acted like id interested buying s...\n",
       "5573                                       rofl true name\n",
       "Name: text, Length: 5574, dtype: object"
      ]
     },
     "execution_count": 37,
     "metadata": {},
     "output_type": "execute_result"
    }
   ],
   "source": [
    "data['text'] = data['text'].apply(stop_words)\n",
    "data['text']"
   ]
  },
  {
   "cell_type": "markdown",
   "id": "49e4168d-f6e2-4a1d-946e-0a970fb608c5",
   "metadata": {
    "execution": {
     "iopub.execute_input": "2022-11-16T03:33:30.598883Z",
     "iopub.status.busy": "2022-11-16T03:33:30.598883Z",
     "iopub.status.idle": "2022-11-16T03:33:30.618830Z",
     "shell.execute_reply": "2022-11-16T03:33:30.617832Z",
     "shell.execute_reply.started": "2022-11-16T03:33:30.598883Z"
    },
    "tags": []
   },
   "source": [
    "## 전처리 - 정형화 처리(target)"
   ]
  },
  {
   "cell_type": "code",
   "execution_count": 38,
   "id": "df3c62b7-3be3-4d17-bd8b-7b8fa13fb665",
   "metadata": {
    "execution": {
     "iopub.execute_input": "2022-11-17T00:15:07.295624Z",
     "iopub.status.busy": "2022-11-17T00:15:07.295544Z",
     "iopub.status.idle": "2022-11-17T00:15:07.304748Z",
     "shell.execute_reply": "2022-11-17T00:15:07.303749Z",
     "shell.execute_reply.started": "2022-11-17T00:15:07.295624Z"
    },
    "tags": []
   },
   "outputs": [
    {
     "data": {
      "text/plain": [
       "0     apple\n",
       "1    banana\n",
       "2     candy\n",
       "dtype: object"
      ]
     },
     "execution_count": 38,
     "metadata": {},
     "output_type": "execute_result"
    }
   ],
   "source": [
    "sample = pd.Series(['a', 'b', 'c'])\n",
    "# map()\n",
    "# zip()\n",
    "sample.map({'a':'apple', 'b':'banana', 'c':'candy'})"
   ]
  },
  {
   "cell_type": "code",
   "execution_count": 39,
   "id": "4bc43147-0c52-4815-a441-54043beabd1e",
   "metadata": {
    "execution": {
     "iopub.execute_input": "2022-11-17T00:15:07.305745Z",
     "iopub.status.busy": "2022-11-17T00:15:07.305745Z",
     "iopub.status.idle": "2022-11-17T00:15:07.319708Z",
     "shell.execute_reply": "2022-11-17T00:15:07.319708Z",
     "shell.execute_reply.started": "2022-11-17T00:15:07.305745Z"
    },
    "tags": []
   },
   "outputs": [
    {
     "data": {
      "text/plain": [
       "0       0\n",
       "1       0\n",
       "2       1\n",
       "3       0\n",
       "4       0\n",
       "       ..\n",
       "5569    1\n",
       "5570    0\n",
       "5571    0\n",
       "5572    0\n",
       "5573    0\n",
       "Name: target, Length: 5574, dtype: int64"
      ]
     },
     "execution_count": 39,
     "metadata": {},
     "output_type": "execute_result"
    }
   ],
   "source": [
    "data['target'] = data['target'].map({'spam':1, 'ham':0})\n",
    "data['target']"
   ]
  },
  {
   "cell_type": "markdown",
   "id": "88dad019-c50d-4b7d-8165-e7ffe944d7e4",
   "metadata": {},
   "source": [
    "## 카운트 기반의 벡터화 처리\n",
    "\n",
    "- 카운트 기반 벡터화 : 문자를 개수 기반으로 벡터화하는 방식\n",
    "- 데이터 전체에 존재하는 모든 단어들을 사전처럼 모은 다음에 각각의 인덱스를 부여하고, 문장마다 속한 단어가 있는 인덱스를 카운트하는 방식이다."
   ]
  },
  {
   "cell_type": "code",
   "execution_count": 40,
   "id": "a587c13d-39a0-460e-af21-a45b7eae435a",
   "metadata": {
    "execution": {
     "iopub.execute_input": "2022-11-17T00:15:07.321701Z",
     "iopub.status.busy": "2022-11-17T00:15:07.320707Z",
     "iopub.status.idle": "2022-11-17T00:15:07.335665Z",
     "shell.execute_reply": "2022-11-17T00:15:07.335665Z",
     "shell.execute_reply.started": "2022-11-17T00:15:07.321701Z"
    }
   },
   "outputs": [],
   "source": [
    "X = data['text']\n",
    "y = data['target']"
   ]
  },
  {
   "cell_type": "code",
   "execution_count": 41,
   "id": "ec9b1484-702d-4a8f-8856-9581a24a3fb6",
   "metadata": {
    "collapsed": true,
    "execution": {
     "iopub.execute_input": "2022-11-17T00:15:07.336661Z",
     "iopub.status.busy": "2022-11-17T00:15:07.336661Z",
     "iopub.status.idle": "2022-11-17T00:15:07.430534Z",
     "shell.execute_reply": "2022-11-17T00:15:07.429535Z",
     "shell.execute_reply.started": "2022-11-17T00:15:07.336661Z"
    },
    "jupyter": {
     "outputs_hidden": true
    },
    "tags": []
   },
   "outputs": [
    {
     "data": {
      "text/plain": [
       "{'go': 3769,\n",
       " 'jurong': 4671,\n",
       " 'point': 6416,\n",
       " 'crazy': 2471,\n",
       " 'available': 1379,\n",
       " 'bugis': 1848,\n",
       " 'great': 3866,\n",
       " 'world': 9171,\n",
       " 'la': 4831,\n",
       " 'buffet': 1846,\n",
       " 'cine': 2186,\n",
       " 'got': 3826,\n",
       " 'amore': 1146,\n",
       " 'wat': 8933,\n",
       " 'ok': 5978,\n",
       " 'lar': 4870,\n",
       " 'joking': 4639,\n",
       " 'wif': 9066,\n",
       " 'oni': 6010,\n",
       " 'free': 3555,\n",
       " 'entry': 3137,\n",
       " 'wkly': 9123,\n",
       " 'comp': 2302,\n",
       " 'win': 9080,\n",
       " 'fa': 3274,\n",
       " 'cup': 2527,\n",
       " 'final': 3399,\n",
       " 'tkts': 8366,\n",
       " '21st': 433,\n",
       " 'may': 5318,\n",
       " '2005': 420,\n",
       " 'text': 8201,\n",
       " '87121': 840,\n",
       " 'receive': 6816,\n",
       " 'questionstd': 6708,\n",
       " 'txt': 8578,\n",
       " 'ratetcs': 6760,\n",
       " 'apply': 1232,\n",
       " '08452810075over18s': 71,\n",
       " 'dun': 2988,\n",
       " 'say': 7176,\n",
       " 'early': 3008,\n",
       " 'hor': 4200,\n",
       " 'already': 1119,\n",
       " 'nah': 5665,\n",
       " 'dont': 2894,\n",
       " 'think': 8277,\n",
       " 'goes': 3783,\n",
       " 'usf': 8727,\n",
       " 'lives': 5033,\n",
       " 'around': 1283,\n",
       " 'though': 8296,\n",
       " 'freemsg': 3563,\n",
       " 'hey': 4095,\n",
       " 'darling': 2591,\n",
       " 'weeks': 8988,\n",
       " 'word': 9157,\n",
       " 'back': 1431,\n",
       " 'id': 4321,\n",
       " 'like': 4983,\n",
       " 'fun': 3630,\n",
       " 'still': 7843,\n",
       " 'tb': 8131,\n",
       " 'xxx': 9296,\n",
       " 'std': 7818,\n",
       " 'chgs': 2131,\n",
       " 'send': 7271,\n",
       " '짙150': 9442,\n",
       " 'rcv': 6772,\n",
       " 'even': 3184,\n",
       " 'brother': 1815,\n",
       " 'speak': 7689,\n",
       " 'treat': 8503,\n",
       " 'aids': 1065,\n",
       " 'patent': 6209,\n",
       " 'per': 6251,\n",
       " 'request': 6929,\n",
       " 'melle': 5361,\n",
       " 'oru': 6074,\n",
       " 'minnaminunginte': 5444,\n",
       " 'nurungu': 5905,\n",
       " 'vettam': 8790,\n",
       " 'set': 7300,\n",
       " 'callertune': 1932,\n",
       " 'callers': 1931,\n",
       " 'press': 6546,\n",
       " 'copy': 2407,\n",
       " 'friends': 3588,\n",
       " 'winner': 9091,\n",
       " 'valued': 8761,\n",
       " 'network': 5741,\n",
       " 'customer': 2540,\n",
       " 'selected': 7257,\n",
       " 'receivea': 6817,\n",
       " '짙900': 9483,\n",
       " 'prize': 6580,\n",
       " 'reward': 6988,\n",
       " 'claim': 2192,\n",
       " 'call': 1913,\n",
       " '09061701461': 217,\n",
       " 'code': 2253,\n",
       " 'kl341': 4787,\n",
       " 'valid': 8757,\n",
       " '12': 322,\n",
       " 'hours': 4219,\n",
       " 'mobile': 5503,\n",
       " '11': 311,\n",
       " 'months': 5548,\n",
       " 'entitled': 3134,\n",
       " 'update': 8682,\n",
       " 'latest': 4887,\n",
       " 'colour': 2276,\n",
       " 'mobiles': 5504,\n",
       " 'camera': 1949,\n",
       " 'co': 2242,\n",
       " '08002986030': 56,\n",
       " 'im': 4351,\n",
       " 'gonna': 3800,\n",
       " 'home': 4166,\n",
       " 'soon': 7639,\n",
       " 'want': 8912,\n",
       " 'talk': 8097,\n",
       " 'stuff': 7917,\n",
       " 'anymore': 1199,\n",
       " 'tonight': 8425,\n",
       " 'ive': 4548,\n",
       " 'cried': 2488,\n",
       " 'enough': 3125,\n",
       " 'today': 8383,\n",
       " 'six': 7491,\n",
       " 'chances': 2068,\n",
       " 'cash': 2011,\n",
       " '100': 291,\n",
       " '20000': 417,\n",
       " 'pounds': 6483,\n",
       " 'csh11': 2505,\n",
       " '87575': 844,\n",
       " 'cost': 2420,\n",
       " '150pday': 350,\n",
       " '6days': 729,\n",
       " '16': 374,\n",
       " 'tsandcs': 8538,\n",
       " 'reply': 6921,\n",
       " 'hl': 4132,\n",
       " 'info': 4414,\n",
       " 'urgent': 8705,\n",
       " 'week': 8983,\n",
       " 'membership': 5367,\n",
       " '짙100000': 9436,\n",
       " 'jackpot': 4561,\n",
       " '81010': 790,\n",
       " 'tc': 8133,\n",
       " 'wwwdbuknet': 9240,\n",
       " 'lccltd': 4905,\n",
       " 'pobox': 6395,\n",
       " '4403ldnw1a7rw18': 603,\n",
       " 'searching': 7224,\n",
       " 'right': 7000,\n",
       " 'words': 9160,\n",
       " 'thank': 8219,\n",
       " 'breather': 1784,\n",
       " 'promise': 6619,\n",
       " 'wont': 9148,\n",
       " 'take': 8088,\n",
       " 'help': 4063,\n",
       " 'granted': 3855,\n",
       " 'fulfil': 3626,\n",
       " 'wonderful': 9145,\n",
       " 'blessing': 1655,\n",
       " 'times': 8341,\n",
       " 'date': 2600,\n",
       " 'sunday': 7985,\n",
       " 'xxxmobilemovieclub': 9297,\n",
       " 'use': 8721,\n",
       " 'credit': 2478,\n",
       " 'click': 2214,\n",
       " 'wap': 8917,\n",
       " 'link': 5006,\n",
       " 'next': 5760,\n",
       " 'message': 5392,\n",
       " 'httpwap': 4249,\n",
       " 'xxxmobilemovieclubcomnqjkgighjjgcbl': 9298,\n",
       " 'oh': 5971,\n",
       " 'kim': 4754,\n",
       " 'watching': 8938,\n",
       " 'eh': 3058,\n",
       " 'remember': 6888,\n",
       " 'spell': 7705,\n",
       " 'name': 5671,\n",
       " 'yes': 9336,\n",
       " 'naughty': 5697,\n",
       " 'make': 5236,\n",
       " 'wet': 9025,\n",
       " 'fine': 3407,\n",
       " 'that혪s': 8238,\n",
       " 'way': 8949,\n",
       " 'feel': 3351,\n",
       " 'gota': 3827,\n",
       " 'england': 3116,\n",
       " 'macedonia': 5198,\n",
       " 'miss': 5463,\n",
       " 'goalsteam': 3775,\n",
       " 'news': 5755,\n",
       " 'ur': 8702,\n",
       " 'national': 5690,\n",
       " 'team': 8147,\n",
       " '87077': 839,\n",
       " 'eg': 3049,\n",
       " 'trywales': 8536,\n",
       " 'scotland': 7203,\n",
       " '4txt첬120': 650,\n",
       " 'poboxox36504w45wq': 6407,\n",
       " 'seriously': 7293,\n",
       " 'going': 3788,\n",
       " 'try': 8533,\n",
       " 'ha': 3937,\n",
       " 'pay': 6220,\n",
       " 'first': 3427,\n",
       " 'da': 2556,\n",
       " 'stock': 7847,\n",
       " 'comin': 2292,\n",
       " 'aft': 1027,\n",
       " 'finish': 3413,\n",
       " 'lunch': 5164,\n",
       " 'str': 7874,\n",
       " 'lor': 5089,\n",
       " 'ard': 1259,\n",
       " 'smth': 7577,\n",
       " 'ffffffffff': 3369,\n",
       " 'alright': 1121,\n",
       " 'meet': 5346,\n",
       " 'sooner': 7641,\n",
       " 'forced': 3505,\n",
       " 'eat': 3021,\n",
       " 'slice': 7526,\n",
       " 'really': 6797,\n",
       " 'hungry': 4277,\n",
       " 'tho': 8292,\n",
       " 'sucks': 7955,\n",
       " 'mark': 5272,\n",
       " 'getting': 3728,\n",
       " 'worried': 9177,\n",
       " 'knows': 4799,\n",
       " 'sick': 7434,\n",
       " 'turn': 8559,\n",
       " 'pizza': 6345,\n",
       " 'lol': 5066,\n",
       " 'always': 1131,\n",
       " 'convincing': 2393,\n",
       " 'catch': 2023,\n",
       " 'bus': 1868,\n",
       " 'frying': 3614,\n",
       " 'egg': 3053,\n",
       " 'tea': 8141,\n",
       " 'eating': 3024,\n",
       " 'moms': 5527,\n",
       " 'left': 4927,\n",
       " 'dinner': 2800,\n",
       " 'love': 5115,\n",
       " 'amp': 1148,\n",
       " 'packing': 6132,\n",
       " 'car': 1977,\n",
       " 'ill': 4347,\n",
       " 'let': 4950,\n",
       " 'know': 4794,\n",
       " 'theres': 8262,\n",
       " 'room': 7046,\n",
       " 'ahhh': 1056,\n",
       " 'work': 9163,\n",
       " 'vaguely': 8752,\n",
       " 'wait': 8882,\n",
       " 'thats': 8237,\n",
       " 'clear': 2208,\n",
       " 'sure': 8013,\n",
       " 'sarcastic': 7150,\n",
       " 'doesnt': 2865,\n",
       " 'live': 5029,\n",
       " 'us': 8717,\n",
       " 'yeah': 9323,\n",
       " 'apologetic': 1220,\n",
       " 'fallen': 3301,\n",
       " 'actin': 965,\n",
       " 'spoilt': 7733,\n",
       " 'child': 2147,\n",
       " 'caught': 2027,\n",
       " 'till': 8335,\n",
       " 'badly': 1437,\n",
       " 'cheers': 2113,\n",
       " 'tell': 8166,\n",
       " 'anything': 1205,\n",
       " 'fear': 3343,\n",
       " 'fainting': 3291,\n",
       " 'housework': 4224,\n",
       " 'quick': 6709,\n",
       " 'cuppa': 2529,\n",
       " 'thanks': 8220,\n",
       " 'subscription': 7944,\n",
       " 'ringtone': 7009,\n",
       " 'uk': 8609,\n",
       " 'charged': 2080,\n",
       " '짙5month': 9475,\n",
       " 'please': 6374,\n",
       " 'confirm': 2348,\n",
       " 'replying': 6923,\n",
       " 'yup': 9407,\n",
       " 'look': 5077,\n",
       " 'timings': 8348,\n",
       " 'msg': 5591,\n",
       " 'xuhui': 9292,\n",
       " 'learn': 4916,\n",
       " '2nd': 498,\n",
       " 'lesson': 4948,\n",
       " '8am': 867,\n",
       " 'oops': 6028,\n",
       " 'roommates': 7049,\n",
       " 'done': 2891,\n",
       " 'see': 7241,\n",
       " 'letter': 4952,\n",
       " 'decide': 2655,\n",
       " 'hello': 4056,\n",
       " 'hows': 4231,\n",
       " 'saturday': 7166,\n",
       " 'texting': 8209,\n",
       " 'youd': 9371,\n",
       " 'decided': 2656,\n",
       " 'tomo': 8410,\n",
       " 'trying': 8535,\n",
       " 'invite': 4478,\n",
       " 'pls': 6382,\n",
       " 'ahead': 1054,\n",
       " 'watts': 8947,\n",
       " 'wanted': 8914,\n",
       " 'weekend': 8985,\n",
       " 'abiola': 917,\n",
       " 'forget': 3511,\n",
       " 'need': 5716,\n",
       " 'crave': 2468,\n",
       " 'sweet': 8044,\n",
       " 'arabian': 1256,\n",
       " 'steed': 7825,\n",
       " 'mmmmmm': 5493,\n",
       " 'yummy': 9402,\n",
       " '07732584351': 28,\n",
       " 'rodger': 7035,\n",
       " 'burns': 1865,\n",
       " 'tried': 8512,\n",
       " 'sms': 7571,\n",
       " 'nokia': 5825,\n",
       " 'camcorder': 1947,\n",
       " '08000930705': 52,\n",
       " 'delivery': 2694,\n",
       " 'tomorrow': 8413,\n",
       " 'seeing': 7243,\n",
       " 'hope': 4190,\n",
       " 'man': 5246,\n",
       " 'well': 9002,\n",
       " 'endowed': 3106,\n",
       " 'ltgt': 5149,\n",
       " 'inches': 4382,\n",
       " 'callsmessagesmissed': 1940,\n",
       " 'calls': 1938,\n",
       " 'didnt': 2769,\n",
       " 'get': 3720,\n",
       " 'hep': 4077,\n",
       " 'immunisation': 4363,\n",
       " 'nigeria': 5773,\n",
       " 'fair': 3292,\n",
       " 'hopefully': 4194,\n",
       " 'tyler': 8588,\n",
       " 'cant': 1967,\n",
       " 'could': 2432,\n",
       " 'maybe': 5320,\n",
       " 'ask': 1311,\n",
       " 'bit': 1630,\n",
       " 'stubborn': 7905,\n",
       " 'hospital': 4207,\n",
       " 'kept': 4725,\n",
       " 'telling': 8167,\n",
       " 'weak': 8956,\n",
       " 'sucker': 7953,\n",
       " 'hospitals': 4208,\n",
       " 'suckers': 7954,\n",
       " 'thinked': 8278,\n",
       " 'time': 8337,\n",
       " 'saw': 7175,\n",
       " 'class': 2200,\n",
       " 'gram': 3847,\n",
       " 'usually': 8738,\n",
       " 'runs': 7093,\n",
       " 'half': 3954,\n",
       " 'eighth': 3061,\n",
       " 'smarter': 7549,\n",
       " 'gets': 3724,\n",
       " 'almost': 1115,\n",
       " 'whole': 9055,\n",
       " 'second': 7228,\n",
       " 'fyi': 3645,\n",
       " 'ride': 6999,\n",
       " 'morning': 5557,\n",
       " 'hes': 4090,\n",
       " 'crashing': 2467,\n",
       " 'place': 6347,\n",
       " 'wow': 9196,\n",
       " 'never': 5746,\n",
       " 'realized': 6795,\n",
       " 'embarassed': 3086,\n",
       " 'accomodations': 945,\n",
       " 'thought': 8297,\n",
       " 'liked': 4984,\n",
       " 'since': 7461,\n",
       " 'best': 1584,\n",
       " 'seemed': 7247,\n",
       " 'happy': 3988,\n",
       " 'cave': 2031,\n",
       " 'sorry': 7651,\n",
       " 'give': 3750,\n",
       " 'offered': 5951,\n",
       " 'embarassing': 3087,\n",
       " 'ac': 931,\n",
       " 'sptv': 7756,\n",
       " 'new': 5750,\n",
       " 'jersey': 4605,\n",
       " 'devils': 2747,\n",
       " 'detroit': 2741,\n",
       " 'red': 6840,\n",
       " 'wings': 9089,\n",
       " 'play': 6363,\n",
       " 'ice': 4316,\n",
       " 'hockey': 4150,\n",
       " 'correct': 2412,\n",
       " 'incorrect': 4393,\n",
       " 'end': 3101,\n",
       " 'mallika': 5245,\n",
       " 'sherawat': 7354,\n",
       " 'yesterday': 9351,\n",
       " 'find': 3404,\n",
       " 'lturlgt': 5152,\n",
       " 'congrats': 2355,\n",
       " 'year': 9325,\n",
       " 'special': 7691,\n",
       " 'cinema': 2187,\n",
       " 'pass': 6197,\n",
       " '09061209465': 212,\n",
       " 'suprman': 8011,\n",
       " 'matrix3': 5305,\n",
       " 'starwars3': 7805,\n",
       " 'etc': 3170,\n",
       " 'bx420ip45we': 1891,\n",
       " '150pm': 351,\n",
       " 'later': 4885,\n",
       " 'meeting': 5349,\n",
       " 'reached': 6778,\n",
       " 'yesgauti': 9344,\n",
       " 'sehwag': 7254,\n",
       " 'odi': 5944,\n",
       " 'series': 7291,\n",
       " 'pick': 6315,\n",
       " 'burger': 1860,\n",
       " 'move': 5575,\n",
       " 'pain': 6139,\n",
       " 'killing': 4751,\n",
       " 'good': 3802,\n",
       " 'joke': 4634,\n",
       " 'girls': 3747,\n",
       " 'situation': 7487,\n",
       " 'seekers': 7244,\n",
       " 'part': 6184,\n",
       " 'checking': 2107,\n",
       " 'iq': 4493,\n",
       " 'took': 8432,\n",
       " 'forever': 3508,\n",
       " 'come': 2284,\n",
       " 'double': 2910,\n",
       " 'check': 2103,\n",
       " 'hair': 3949,\n",
       " 'dresser': 2945,\n",
       " 'said': 7118,\n",
       " 'wun': 9226,\n",
       " 'cut': 2544,\n",
       " 'short': 7395,\n",
       " 'nice': 5766,\n",
       " 'pleased': 6375,\n",
       " 'advise': 1010,\n",
       " 'following': 3486,\n",
       " 'recent': 6820,\n",
       " 'review': 6986,\n",
       " 'mob': 5501,\n",
       " 'awarded': 1398,\n",
       " '짙1500': 9443,\n",
       " 'bonus': 1699,\n",
       " '09066364589': 261,\n",
       " 'song': 7633,\n",
       " 'dedicated': 2666,\n",
       " 'day': 2613,\n",
       " 'dedicate': 2665,\n",
       " 'valuable': 8759,\n",
       " 'frnds': 3598,\n",
       " 'rply': 7066,\n",
       " 'complimentary': 2321,\n",
       " 'trip': 8513,\n",
       " 'eurodisinc': 3177,\n",
       " 'trav': 8495,\n",
       " 'acoentry41': 960,\n",
       " '짙1000': 9434,\n",
       " 'dis': 2813,\n",
       " '186짙150morefrmmob': 383,\n",
       " 'shracomorsglsuplt10': 7419,\n",
       " 'ls1': 5138,\n",
       " '3aj': 556,\n",
       " 'hear': 4031,\n",
       " 'divorce': 2842,\n",
       " 'barbie': 1468,\n",
       " 'comes': 2288,\n",
       " 'kens': 4723,\n",
       " 'plane': 6354,\n",
       " 'month': 5544,\n",
       " 'wah': 8875,\n",
       " 'lucky': 5157,\n",
       " 'save': 7171,\n",
       " 'money': 5532,\n",
       " 'hee': 4047,\n",
       " 'finished': 3415,\n",
       " 'hi': 4101,\n",
       " 'babe': 1419,\n",
       " 'wanna': 8910,\n",
       " 'something': 7619,\n",
       " 'xx': 9293,\n",
       " 'kkwhere': 4784,\n",
       " 'youhow': 9374,\n",
       " 'performed': 6258,\n",
       " 'waiting': 8886,\n",
       " 'machan': 5200,\n",
       " 'cool': 2399,\n",
       " 'gentleman': 3711,\n",
       " 'dignity': 2790,\n",
       " 'respect': 6950,\n",
       " 'peoples': 6250,\n",
       " 'much': 5611,\n",
       " 'shy': 7429,\n",
       " 'pa': 6127,\n",
       " 'operate': 6035,\n",
       " 'looking': 5081,\n",
       " 'job': 4620,\n",
       " 'tas': 8115,\n",
       " 'earn': 3009,\n",
       " 'ah': 1052,\n",
       " 'stop': 7857,\n",
       " 'urgnt': 8709,\n",
       " 'real': 6788,\n",
       " 'yo': 9361,\n",
       " 'tickets': 8326,\n",
       " 'one': 6006,\n",
       " 'jacket': 4560,\n",
       " 'used': 8722,\n",
       " 'multis': 5622,\n",
       " 'started': 7798,\n",
       " 'requests': 6930,\n",
       " 'came': 1948,\n",
       " 'bed': 1538,\n",
       " 'coins': 2260,\n",
       " 'factory': 3282,\n",
       " 'gotta': 3831,\n",
       " 'nitros': 5797,\n",
       " 'ela': 3066,\n",
       " 'kanoil': 4699,\n",
       " 'download': 2918,\n",
       " 'wen': 9008,\n",
       " 'don': 2889,\n",
       " 'stand': 7786,\n",
       " 'close': 2221,\n",
       " 'you': 9367,\n",
       " '쁫l': 9426,\n",
       " 'another': 1183,\n",
       " 'night': 5775,\n",
       " 'spent': 7710,\n",
       " 'late': 4880,\n",
       " 'afternoon': 1029,\n",
       " 'casualty': 2021,\n",
       " 'means': 5332,\n",
       " 'havent': 4013,\n",
       " 'stuff42moro': 7918,\n",
       " 'includes': 4386,\n",
       " 'sheets': 7349,\n",
       " 'smile': 7558,\n",
       " 'pleasure': 6377,\n",
       " 'trouble': 8519,\n",
       " 'pours': 6485,\n",
       " 'rain': 6733,\n",
       " 'sum1': 7976,\n",
       " 'hurts': 4292,\n",
       " 'becoz': 1536,\n",
       " 'someone': 7612,\n",
       " 'loves': 5125,\n",
       " 'smiling': 7562,\n",
       " 'service': 7296,\n",
       " 'representative': 6927,\n",
       " '0800': 48,\n",
       " '169': 376,\n",
       " '6031': 697,\n",
       " '10am9pm': 305,\n",
       " 'guaranteed': 3905,\n",
       " '짙5000': 9470,\n",
       " 'planning': 6359,\n",
       " 'buy': 1880,\n",
       " 'lido': 4965,\n",
       " '530': 670,\n",
       " 'show': 7410,\n",
       " 'collected': 2269,\n",
       " 'simply': 7458,\n",
       " 'password': 6205,\n",
       " 'mix': 5483,\n",
       " '85069': 825,\n",
       " 'verify': 8786,\n",
       " 'usher': 8729,\n",
       " 'britney': 1805,\n",
       " 'fml': 3476,\n",
       " 'po': 6393,\n",
       " 'box': 1735,\n",
       " '5249': 667,\n",
       " 'mk17': 5486,\n",
       " '92h': 882,\n",
       " '450ppw': 614,\n",
       " 'telugu': 8172,\n",
       " 'moviewat': 5580,\n",
       " 'abt': 926,\n",
       " 'loads': 5043,\n",
       " 'loans': 5045,\n",
       " 'wk': 9119,\n",
       " 'hols': 4164,\n",
       " 'run': 7090,\n",
       " 'forgot': 3516,\n",
       " 'hairdressers': 3951,\n",
       " 'appointment': 1236,\n",
       " 'four': 3536,\n",
       " 'shower': 7412,\n",
       " 'beforehand': 1553,\n",
       " 'cause': 2028,\n",
       " 'prob': 6586,\n",
       " 'coffee': 2255,\n",
       " 'animation': 1170,\n",
       " 'nothing': 5859,\n",
       " 'else': 3080,\n",
       " 'okay': 5979,\n",
       " 'price': 6559,\n",
       " 'long': 5073,\n",
       " 'legal': 4930,\n",
       " 'ave': 1385,\n",
       " 'ams': 1152,\n",
       " 'gone': 3797,\n",
       " '4the': 647,\n",
       " 'driving': 2954,\n",
       " 'test': 8195,\n",
       " 'yet': 9352,\n",
       " 'youre': 9384,\n",
       " 'mean': 5328,\n",
       " 'guess': 3913,\n",
       " 'gave': 3679,\n",
       " 'boston': 1721,\n",
       " 'men': 5372,\n",
       " 'changed': 2070,\n",
       " 'search': 7223,\n",
       " 'location': 5048,\n",
       " 'nyc': 5915,\n",
       " 'cuz': 2551,\n",
       " 'signin': 7446,\n",
       " 'page': 6135,\n",
       " 'says': 7181,\n",
       " 'umma': 8618,\n",
       " 'life': 4968,\n",
       " 'vava': 8773,\n",
       " 'lot': 5099,\n",
       " 'dear': 2637,\n",
       " 'wishes': 9104,\n",
       " 'birthday': 1628,\n",
       " 'making': 5240,\n",
       " 'truly': 8527,\n",
       " 'memorable': 5369,\n",
       " 'aight': 1067,\n",
       " 'hit': 4123,\n",
       " 'would': 9192,\n",
       " 'ip': 4486,\n",
       " 'address': 984,\n",
       " 'considering': 2366,\n",
       " 'computer': 2328,\n",
       " 'isnt': 4513,\n",
       " 'minecraft': 5440,\n",
       " 'server': 7295,\n",
       " 'grumpy': 3897,\n",
       " 'old': 5996,\n",
       " 'people': 6249,\n",
       " 'mom': 5524,\n",
       " 'better': 1592,\n",
       " 'lying': 5180,\n",
       " 'jokes': 4636,\n",
       " 'worry': 9180,\n",
       " 'busy': 1874,\n",
       " 'plural': 6387,\n",
       " 'noun': 5868,\n",
       " 'research': 6936,\n",
       " 'dinnermsg': 2801,\n",
       " 'cos': 2418,\n",
       " 'things': 8276,\n",
       " 'scared': 7188,\n",
       " 'mah': 5224,\n",
       " 'loud': 5110,\n",
       " 'gent': 3709,\n",
       " 'contact': 2371,\n",
       " 'last': 4877,\n",
       " 'weekends': 8986,\n",
       " 'draw': 2932,\n",
       " 'shows': 7418,\n",
       " '09064012160': 236,\n",
       " 'k52': 4678,\n",
       " '12hrs': 333,\n",
       " '150ppm': 361,\n",
       " 'wa': 8870,\n",
       " 'openin': 6032,\n",
       " 'sentence': 7284,\n",
       " 'formal': 3519,\n",
       " 'anyway': 1209,\n",
       " 'juz': 4677,\n",
       " 'tt': 8545,\n",
       " 'eatin': 3023,\n",
       " 'puttin': 6686,\n",
       " 'weighthaha': 8993,\n",
       " 'anythin': 1204,\n",
       " 'happened': 3980,\n",
       " 'entered': 3127,\n",
       " 'cabin': 1899,\n",
       " 'bday': 1521,\n",
       " 'boss': 1720,\n",
       " 'felt': 3361,\n",
       " 'askd': 1312,\n",
       " 'invited': 4479,\n",
       " 'apartment': 1214,\n",
       " 'went': 9011,\n",
       " 'specially': 7696,\n",
       " 'holiday': 4160,\n",
       " 'flights': 3453,\n",
       " 'inc': 4380,\n",
       " 'operator': 6036,\n",
       " '0871277810910pmin': 121,\n",
       " '18': 379,\n",
       " 'goodo': 3816,\n",
       " 'must': 5642,\n",
       " 'friday': 3581,\n",
       " 'eggpotato': 3054,\n",
       " 'ratio': 6762,\n",
       " 'tortilla': 8451,\n",
       " 'needed': 5718,\n",
       " 'hmmmy': 4145,\n",
       " 'uncle': 8625,\n",
       " 'informed': 4418,\n",
       " 'paying': 6226,\n",
       " 'school': 7194,\n",
       " 'directly': 2807,\n",
       " 'food': 3494,\n",
       " 'private': 6577,\n",
       " '2004': 419,\n",
       " 'account': 949,\n",
       " 'statement': 7808,\n",
       " '07742676969': 30,\n",
       " '786': 758,\n",
       " 'unredeemed': 8667,\n",
       " 'points': 6417,\n",
       " '08719180248': 169,\n",
       " 'identifier': 4328,\n",
       " '45239': 616,\n",
       " 'expires': 3253,\n",
       " '짙2000': 9455,\n",
       " 'caller': 1930,\n",
       " '5903': 675,\n",
       " 'landline': 4857,\n",
       " '09064019788': 242,\n",
       " 'box42wr29c': 1747,\n",
       " 'applespairsall': 1230,\n",
       " 'malarky': 5242,\n",
       " 'todays': 8389,\n",
       " 'voda': 8840,\n",
       " 'numbers': 5901,\n",
       " 'ending': 3103,\n",
       " '7548': 753,\n",
       " '350': 546,\n",
       " 'award': 1397,\n",
       " 'match': 5293,\n",
       " '08712300220': 103,\n",
       " 'quoting': 6721,\n",
       " '4041': 587,\n",
       " 'standard': 7787,\n",
       " 'rates': 6759,\n",
       " 'app': 1224,\n",
       " 'sao': 7144,\n",
       " 'mu': 5610,\n",
       " 'predict': 6520,\n",
       " '체ll': 9488,\n",
       " 'buying': 1883,\n",
       " 'knowyetunde': 4802,\n",
       " 'hasnt': 4000,\n",
       " 'sent': 7282,\n",
       " 'bother': 1723,\n",
       " 'sending': 7274,\n",
       " 'involve': 4483,\n",
       " 'shouldnt': 7405,\n",
       " 'imposed': 4369,\n",
       " 'apologise': 1221,\n",
       " 'girl': 3743,\n",
       " 'del': 2684,\n",
       " 'bak': 1445,\n",
       " 'sum': 7975,\n",
       " 'lucyxx': 5161,\n",
       " 'kkhow': 4778,\n",
       " 'tmorrowpls': 8371,\n",
       " 'accomodate': 944,\n",
       " 'answer': 1186,\n",
       " 'question': 6705,\n",
       " 'sunshine': 7992,\n",
       " 'quiz': 6716,\n",
       " 'top': 8441,\n",
       " 'sony': 7636,\n",
       " 'dvd': 2997,\n",
       " 'player': 6365,\n",
       " 'country': 2439,\n",
       " 'algarve': 1096,\n",
       " 'ansr': 1185,\n",
       " '82277': 796,\n",
       " 'sptyrone': 7757,\n",
       " 'laid': 4848,\n",
       " 'dogging': 2871,\n",
       " 'locations': 5049,\n",
       " 'direct': 2806,\n",
       " 'join': 4629,\n",
       " 'uks': 8612,\n",
       " 'largest': 4874,\n",
       " 'bt': 1831,\n",
       " 'txting': 8583,\n",
       " 'gravel': 3860,\n",
       " '69888': 723,\n",
       " 'nt': 5889,\n",
       " 'ec2a': 3026,\n",
       " '31pmsg150p': 539,\n",
       " 'haf': 3943,\n",
       " 'msn': 5603,\n",
       " 'yijuehotmailcom': 9358,\n",
       " 'rooms': 7050,\n",
       " 'befor': 1552,\n",
       " 'activities': 971,\n",
       " 'youll': 9378,\n",
       " 'msgs': 5595,\n",
       " 'chat': 2092,\n",
       " 'svc': 8029,\n",
       " 'hardcore': 3990,\n",
       " 'services': 7297,\n",
       " '69988': 727,\n",
       " 'age': 1037,\n",
       " 'yr': 9398,\n",
       " 'lazy': 4904,\n",
       " 'type': 8590,\n",
       " 'lect': 4924,\n",
       " 'pouch': 6480,\n",
       " 'sir': 7473,\n",
       " 'mail': 5227,\n",
       " 'swt': 8058,\n",
       " 'nver': 5910,\n",
       " 'tired': 8352,\n",
       " 'little': 5028,\n",
       " 'lovable': 5114,\n",
       " 'persons': 6276,\n",
       " 'cozsomtimes': 2453,\n",
       " 'occupy': 5937,\n",
       " 'biggest': 1609,\n",
       " 'hearts': 4039,\n",
       " 'gud': 3907,\n",
       " 'ni8': 5763,\n",
       " 'open': 6029,\n",
       " 'ya': 9307,\n",
       " 'dot': 2909,\n",
       " 'whats': 9033,\n",
       " 'staff': 7777,\n",
       " 'taking': 8094,\n",
       " 'replied': 6919,\n",
       " 'randy': 6752,\n",
       " 'sexy': 7313,\n",
       " 'female': 3362,\n",
       " 'local': 5047,\n",
       " 'luv': 5170,\n",
       " 'netcollex': 5737,\n",
       " 'ltd': 5144,\n",
       " '08700621170150p': 73,\n",
       " 'ummmawill': 8619,\n",
       " 'inour': 4435,\n",
       " 'begin': 1558,\n",
       " 'qatar': 6692,\n",
       " 'pray': 6513,\n",
       " 'hard': 3989,\n",
       " 'ki': 4739,\n",
       " 'deleted': 2688,\n",
       " 'sindu': 7463,\n",
       " 'birla': 1624,\n",
       " 'soft': 7599,\n",
       " 'wine': 9087,\n",
       " 'flowing': 3467,\n",
       " 'nevering': 5747,\n",
       " 'thk': 8286,\n",
       " 'plaza': 6372,\n",
       " 'typical': 8593,\n",
       " 'everywhere': 3203,\n",
       " 'dirt': 2810,\n",
       " 'floor': 3461,\n",
       " 'windows': 9084,\n",
       " 'shirt': 7369,\n",
       " 'sometimes': 7623,\n",
       " 'mouth': 5574,\n",
       " 'dream': 2936,\n",
       " 'without': 9113,\n",
       " 'chores': 2173,\n",
       " 'joy': 4651,\n",
       " 'lots': 5102,\n",
       " 'tv': 8564,\n",
       " 'exist': 3237,\n",
       " 'hail': 3948,\n",
       " 'mist': 5474,\n",
       " 'become': 1534,\n",
       " 'aaooooright': 906,\n",
       " 'leaving': 4923,\n",
       " 'house': 4220,\n",
       " 'interview': 4465,\n",
       " 'boy': 1752,\n",
       " 'meare': 5335,\n",
       " 'missing': 5467,\n",
       " 'annoncement': 1176,\n",
       " 'years': 9326,\n",
       " '07046744435': 21,\n",
       " 'arrange': 1287,\n",
       " '0871277810810': 120,\n",
       " 'keep': 4716,\n",
       " 'safe': 7113,\n",
       " 'envy': 3141,\n",
       " 'everyone': 3197,\n",
       " 'sees': 7251,\n",
       " 'parentsi': 6175,\n",
       " 'hand': 3963,\n",
       " 'excited': 3225,\n",
       " 'spend': 7708,\n",
       " 'bootydelious': 1712,\n",
       " '32f': 544,\n",
       " 'inviting': 4480,\n",
       " 'friend': 3586,\n",
       " 'yes434': 9338,\n",
       " 'no434': 5804,\n",
       " 'wwwsmsacubootydelious': 9260,\n",
       " 'frnd': 3597,\n",
       " '62468': 705,\n",
       " 'bangbabes': 1459,\n",
       " 'order': 6060,\n",
       " 'content': 2375,\n",
       " 'goto': 3830,\n",
       " 'bangb': 1458,\n",
       " 'internetservice': 4464,\n",
       " 'menu': 5380,\n",
       " 'cultures': 2523,\n",
       " 'module': 5517,\n",
       " '09061701939': 219,\n",
       " 's89': 7103,\n",
       " 'avoid': 1391,\n",
       " 'missunderstding': 5472,\n",
       " 'wit': 9109,\n",
       " 'beloved': 1574,\n",
       " 'ones': 6008,\n",
       " 'escape': 3160,\n",
       " 'fancy': 3313,\n",
       " 'bridge': 1789,\n",
       " 'needs': 5722,\n",
       " 'lager': 4847,\n",
       " 'completely': 2317,\n",
       " 'formclark': 3523,\n",
       " 'also': 1125,\n",
       " 'utter': 8740,\n",
       " 'waste': 8930,\n",
       " 'axis': 1405,\n",
       " 'bank': 1461,\n",
       " 'hmmm': 4139,\n",
       " 'hop': 4189,\n",
       " 'muz': 5648,\n",
       " 'discuss': 2826,\n",
       " 'liao': 4957,\n",
       " 'coming': 2293,\n",
       " 'bloody': 1670,\n",
       " 'hell': 4054,\n",
       " 'believe': 1565,\n",
       " 'surname': 8019,\n",
       " 'mr': 5585,\n",
       " 'clue': 2235,\n",
       " 'spanish': 7683,\n",
       " 'begins': 1559,\n",
       " 'bath': 1491,\n",
       " 'goodfine': 3806,\n",
       " 'youve': 9391,\n",
       " 'carlos': 1998,\n",
       " 'mall': 5244,\n",
       " 'turns': 8562,\n",
       " ...}"
      ]
     },
     "execution_count": 41,
     "metadata": {},
     "output_type": "execute_result"
    }
   ],
   "source": [
    "from sklearn.feature_extraction.text import CountVectorizer\n",
    "# 객체 생성\n",
    "cv = CountVectorizer()\n",
    "# 모델 학습\n",
    "cv.fit(X)\n",
    "# 단어와 인덱스 출력\n",
    "# 모델 파라미터 : 모델이 만들어진 이후에 생성된 변수\n",
    "cv.vocabulary_"
   ]
  },
  {
   "cell_type": "code",
   "execution_count": 42,
   "id": "e2bbeb2f-f615-4944-b762-c8ac7238b924",
   "metadata": {
    "execution": {
     "iopub.execute_input": "2022-11-17T00:15:07.432528Z",
     "iopub.status.busy": "2022-11-17T00:15:07.431536Z",
     "iopub.status.idle": "2022-11-17T00:15:07.493542Z",
     "shell.execute_reply": "2022-11-17T00:15:07.492798Z",
     "shell.execute_reply.started": "2022-11-17T00:15:07.432528Z"
    },
    "tags": []
   },
   "outputs": [
    {
     "name": "stdout",
     "output_type": "stream",
     "text": [
      "  (0, 1146)\t1\n",
      "  (0, 1379)\t1\n",
      "  (0, 1846)\t1\n",
      "  (0, 1848)\t1\n",
      "  (0, 2186)\t1\n",
      "  (0, 2471)\t1\n",
      "  (0, 3769)\t1\n",
      "  (0, 3826)\t1\n",
      "  (0, 3866)\t1\n",
      "  (0, 4671)\t1\n",
      "  (0, 4831)\t1\n",
      "  (0, 6416)\t1\n",
      "  (0, 8933)\t1\n",
      "  (0, 9171)\t1\n",
      "  (1, 4639)\t1\n",
      "  (1, 4870)\t1\n",
      "  (1, 5978)\t1\n",
      "  (1, 6010)\t1\n",
      "  (1, 9066)\t1\n",
      "  (2, 71)\t1\n",
      "  (2, 420)\t1\n",
      "  (2, 433)\t1\n",
      "  (2, 840)\t1\n",
      "  (2, 1232)\t1\n",
      "  (2, 2302)\t1\n",
      "  :\t:\n",
      "  (5570, 3165)\t1\n",
      "  (5570, 3542)\t1\n",
      "  (5570, 3788)\t1\n",
      "  (5570, 4166)\t1\n",
      "  (5571, 5549)\t1\n",
      "  (5571, 6342)\t1\n",
      "  (5571, 7594)\t1\n",
      "  (5571, 7970)\t1\n",
      "  (5572, 964)\t1\n",
      "  (5572, 1632)\t1\n",
      "  (5572, 1883)\t1\n",
      "  (5572, 3080)\t1\n",
      "  (5572, 3555)\t1\n",
      "  (5572, 3679)\t1\n",
      "  (5572, 3928)\t1\n",
      "  (5572, 4321)\t1\n",
      "  (5572, 4458)\t1\n",
      "  (5572, 4983)\t1\n",
      "  (5572, 5760)\t1\n",
      "  (5572, 7619)\t1\n",
      "  (5572, 8717)\t1\n",
      "  (5572, 8983)\t1\n",
      "  (5573, 5671)\t1\n",
      "  (5573, 7036)\t1\n",
      "  (5573, 8524)\t1\n"
     ]
    }
   ],
   "source": [
    "X = cv.transform(X)\n",
    "print(X)\n",
    "# (행인덱스, 인덱스)  갯수"
   ]
  },
  {
   "cell_type": "code",
   "execution_count": 44,
   "id": "3e7b08b4-2149-4a61-808d-a26d5f64bb20",
   "metadata": {
    "execution": {
     "iopub.execute_input": "2022-11-17T00:33:26.619832Z",
     "iopub.status.busy": "2022-11-17T00:33:26.619832Z",
     "iopub.status.idle": "2022-11-17T00:33:26.635791Z",
     "shell.execute_reply": "2022-11-17T00:33:26.634793Z",
     "shell.execute_reply.started": "2022-11-17T00:33:26.619832Z"
    },
    "tags": []
   },
   "outputs": [
    {
     "data": {
      "text/plain": [
       "'go jurong point crazy available bugis n great world la e buffet cine got amore wat'"
      ]
     },
     "execution_count": 44,
     "metadata": {},
     "output_type": "execute_result"
    }
   ],
   "source": [
    "# 0번째 행의 데이터 확인 \n",
    "data.text[0]"
   ]
  },
  {
   "cell_type": "code",
   "execution_count": 45,
   "id": "6015d4b7-7446-4cf3-840c-2a920e2d4b22",
   "metadata": {
    "execution": {
     "iopub.execute_input": "2022-11-17T00:34:37.028747Z",
     "iopub.status.busy": "2022-11-17T00:34:37.028747Z",
     "iopub.status.idle": "2022-11-17T00:34:37.037720Z",
     "shell.execute_reply": "2022-11-17T00:34:37.037720Z",
     "shell.execute_reply.started": "2022-11-17T00:34:37.028747Z"
    },
    "tags": []
   },
   "outputs": [
    {
     "name": "stdout",
     "output_type": "stream",
     "text": [
      "3769\n"
     ]
    }
   ],
   "source": [
    "# 'go'의 인덱스 확인\n",
    "print(cv.vocabulary_['go'])"
   ]
  },
  {
   "cell_type": "code",
   "execution_count": 46,
   "id": "b250df0c-37d6-472c-8b42-8e768919d8da",
   "metadata": {
    "execution": {
     "iopub.execute_input": "2022-11-17T00:35:26.223140Z",
     "iopub.status.busy": "2022-11-17T00:35:26.223140Z",
     "iopub.status.idle": "2022-11-17T00:35:26.239104Z",
     "shell.execute_reply": "2022-11-17T00:35:26.238099Z",
     "shell.execute_reply.started": "2022-11-17T00:35:26.223140Z"
    }
   },
   "outputs": [
    {
     "name": "stdout",
     "output_type": "stream",
     "text": [
      "4671\n"
     ]
    }
   ],
   "source": [
    "# 'jorong'의 인덱스 확인\n",
    "print(cv.vocabulary_['jurong'])"
   ]
  },
  {
   "cell_type": "code",
   "execution_count": 47,
   "id": "48a7f7bf-20a2-46d4-bcd8-5cf072921915",
   "metadata": {
    "execution": {
     "iopub.execute_input": "2022-11-17T00:35:39.397824Z",
     "iopub.status.busy": "2022-11-17T00:35:39.396828Z",
     "iopub.status.idle": "2022-11-17T00:35:39.416030Z",
     "shell.execute_reply": "2022-11-17T00:35:39.415032Z",
     "shell.execute_reply.started": "2022-11-17T00:35:39.397824Z"
    },
    "tags": []
   },
   "outputs": [
    {
     "name": "stdout",
     "output_type": "stream",
     "text": [
      "6416\n"
     ]
    }
   ],
   "source": [
    "# 'point'의 인덱스 확인\n",
    "print(cv.vocabulary_['point'])"
   ]
  },
  {
   "cell_type": "markdown",
   "id": "daab0423-1d60-441d-bf44-b0fdb57ba256",
   "metadata": {},
   "source": [
    "# 모델링 및 예측/평가"
   ]
  },
  {
   "cell_type": "markdown",
   "id": "355e3cb7-9652-4cad-a04a-4079da13f4c8",
   "metadata": {},
   "source": [
    "## 훈련세트와 테스트세트로 분리"
   ]
  },
  {
   "cell_type": "code",
   "execution_count": 48,
   "id": "17858a4f-5cf9-4bc2-b6a6-60cf3a77a35e",
   "metadata": {
    "execution": {
     "iopub.execute_input": "2022-11-17T00:39:13.381890Z",
     "iopub.status.busy": "2022-11-17T00:39:13.380893Z",
     "iopub.status.idle": "2022-11-17T00:39:13.394856Z",
     "shell.execute_reply": "2022-11-17T00:39:13.393858Z",
     "shell.execute_reply.started": "2022-11-17T00:39:13.381890Z"
    }
   },
   "outputs": [],
   "source": [
    "from sklearn.model_selection import train_test_split\n",
    "\n",
    "X_train, X_test, y_train, y_test = train_test_split(X, y, test_size=0.2, random_state = 100)"
   ]
  },
  {
   "cell_type": "markdown",
   "id": "01910b4e-efb5-484e-b2a1-4f49c81fb238",
   "metadata": {},
   "source": [
    "## MultinomialNB : 다항 분포에 대한 나이브 베이스 알고리즘 \n",
    "\n",
    "- 정규분포(Gaussian)\n",
    "- 베르누이분포(Bernoulli)"
   ]
  },
  {
   "cell_type": "code",
   "execution_count": 65,
   "id": "72f8608d-f54c-4119-b96a-60729fe6946d",
   "metadata": {
    "execution": {
     "iopub.execute_input": "2022-11-17T00:52:54.935960Z",
     "iopub.status.busy": "2022-11-17T00:52:54.935960Z",
     "iopub.status.idle": "2022-11-17T00:52:54.954908Z",
     "shell.execute_reply": "2022-11-17T00:52:54.953913Z",
     "shell.execute_reply.started": "2022-11-17T00:52:54.935960Z"
    },
    "tags": []
   },
   "outputs": [],
   "source": [
    "from sklearn.model_selection import train_test_split\n",
    "from sklearn.metrics import accuracy_score, precision_score, recall_score, roc_auc_score\n",
    "from sklearn.metrics import f1_score, confusion_matrix, precision_recall_curve, roc_curve\n",
    "\n",
    "from sklearn.preprocessing import StandardScaler, MinMaxScaler\n",
    "from sklearn.linear_model import LogisticRegression\n",
    "from sklearn.preprocessing import Binarizer\n",
    "\n",
    "# 평가지표 분류\n",
    "def get_clf_eval(y_test, pred = None, pred_proba = None):\n",
    "    confusion = confusion_matrix(y_test, pred)\n",
    "    accuracy = accuracy_score(y_test, pred)\n",
    "    precision = precision_score(y_test, pred)\n",
    "    recall = recall_score(y_test, pred)\n",
    "    f1 = f1_score(y_test, pred)\n",
    "    roc_auc = roc_auc_score(y_test, pred_proba)\n",
    "    print('오차 행렬')\n",
    "    print(confusion)\n",
    "    print('정확도 : {:.4f}, 정밀도 : {:.4f}, 재현율 : {:.4f}, F1 : {:.4f}, AUC : {:.4f}'.\n",
    "          format(accuracy, precision, recall, f1, roc_auc))\n",
    "\n",
    "# 재현율과 정밀도의 시각화\n",
    "def precision_recall_curve_plot(y_test, pred_proba_c1):\n",
    "    precisions, recalls, thresholds = precision_recall_curve(y_test, pred_proba_c1)\n",
    "    \n",
    "    plt.figure(figsize = (10, 7))\n",
    "    plt.rc('font', family = 'D2coding')\n",
    "    threshold_boundary = thresholds.shape[0]\n",
    "    a = thresholds[precisions[0:threshold_boundary] == recalls[0:threshold_boundary]]\n",
    "    loc = np.where(thresholds == a[0])[0][0]\n",
    "    plt.plot(thresholds, precisions[0:threshold_boundary], linestyle = '--', label = 'precision')\n",
    "    plt.plot(thresholds, recalls[0:threshold_boundary], label = 'recall')\n",
    "    plt.scatter(thresholds[loc], precisions[loc], c = 'black', s = 60)\n",
    "    plt.text(0.02 + thresholds[loc], precisions[loc], '임계값 : {:.3f}'.format(thresholds[loc]), size = 15)\n",
    "    \n",
    "    start, end = plt.xlim()\n",
    "    plt.xticks(np.round(np.arange(start, end, 0.1), 2), size = 15)\n",
    "    plt.xlabel('Threshold value', size = 15); plt.ylabel('Precision and Recall value', size = 15)\n",
    "    plt.legend()\n",
    "    plt.rc('legend', fontsize = 15)\n",
    "    plt.rc('ytick', labelsize = 15)\n",
    "    plt.show()\n",
    "    \n",
    "\n",
    "# 임계값 조정 함수\n",
    "def get_clf_eval_thres(y_test, pred_po, threshold, f1_show=False, auc_show=False):\n",
    "    eval_df = pd.DataFrame()\n",
    "    \n",
    "    for thres in threshold:\n",
    "        # threshold에 따른 예측 분류 값\n",
    "        binarizer = Binarizer(threshold = thres)\n",
    "        binarizer.fit(pred_po)\n",
    "        thres_pred = binarizer.transform(pred_po)\n",
    "        \n",
    "        # 평가지표  \n",
    "        accuracy = accuracy_score(y_test, thres_pred)\n",
    "        precision = precision_score(y_test, thres_pred)\n",
    "        recall = recall_score(y_test, thres_pred)\n",
    "        f1 = f1_score(y_test, thres_pred)\n",
    "        auc = roc_auc_score(y_test, pred_po)\n",
    "        \n",
    "        # 데이터 프레임 형태\n",
    "        eval_lst = np.array([accuracy, precision, recall, f1, auc]).reshape(-1,1)\n",
    "        temp = pd.DataFrame(eval_lst, columns=[thres], \n",
    "                            index = [\"정확도\", \"정밀도\", \"재현율\", \"F1스코어\", \"AUC\"])\n",
    "        eval_df = pd.concat([eval_df,temp], axis=1)\n",
    "        \n",
    "    eval_df.columns.names = [\"임계값\"]\n",
    "    \n",
    "    if f1_show == False:\n",
    "        eval_df.drop(\"F1스코어\", axis=0, inplace=True)\n",
    "        \n",
    "    if auc_show == False:\n",
    "        eval_df.drop(\"AUC\", axis=0, inplace=True)\n",
    "        \n",
    "    return round(eval_df, 4)"
   ]
  },
  {
   "cell_type": "code",
   "execution_count": 57,
   "id": "265f4d00-5b34-45b7-a4b2-36be5b6db633",
   "metadata": {
    "execution": {
     "iopub.execute_input": "2022-11-17T00:49:55.141354Z",
     "iopub.status.busy": "2022-11-17T00:49:55.141354Z",
     "iopub.status.idle": "2022-11-17T00:49:55.162297Z",
     "shell.execute_reply": "2022-11-17T00:49:55.162297Z",
     "shell.execute_reply.started": "2022-11-17T00:49:55.141354Z"
    },
    "tags": []
   },
   "outputs": [],
   "source": [
    "from sklearn.naive_bayes import MultinomialNB\n",
    "\n",
    "model = MultinomialNB()\n",
    "model.fit(X_train, y_train)\n",
    "pred = model.predict(X_test)\n",
    "pred_proba = model.predict_proba(X_test)[:, 1]"
   ]
  },
  {
   "cell_type": "code",
   "execution_count": 58,
   "id": "bc2ca1d5-b54e-4e42-9eec-e40be453fde4",
   "metadata": {
    "execution": {
     "iopub.execute_input": "2022-11-17T00:50:12.059965Z",
     "iopub.status.busy": "2022-11-17T00:50:12.058968Z",
     "iopub.status.idle": "2022-11-17T00:50:12.073928Z",
     "shell.execute_reply": "2022-11-17T00:50:12.073928Z",
     "shell.execute_reply.started": "2022-11-17T00:50:12.059965Z"
    },
    "tags": []
   },
   "outputs": [
    {
     "name": "stdout",
     "output_type": "stream",
     "text": [
      "오차 행렬\n",
      "[[965  12]\n",
      " [  4 134]]\n",
      "정확도 : 0.9857, 정밀도 : 0.9178, 재현율 : 0.9710, F1 : 0.9437, AUC : 0.9949\n"
     ]
    }
   ],
   "source": [
    "get_clf_eval(y_test, pred, pred_proba)"
   ]
  },
  {
   "cell_type": "code",
   "execution_count": 92,
   "id": "ff7fde32-20b3-4677-b373-fecff987c5c8",
   "metadata": {
    "execution": {
     "iopub.execute_input": "2022-11-17T01:30:09.823793Z",
     "iopub.status.busy": "2022-11-17T01:30:09.823793Z",
     "iopub.status.idle": "2022-11-17T01:30:10.364459Z",
     "shell.execute_reply": "2022-11-17T01:30:10.363480Z",
     "shell.execute_reply.started": "2022-11-17T01:30:09.823793Z"
    },
    "tags": []
   },
   "outputs": [
    {
     "data": {
      "image/png": "[encoded data removed]",
      "text/plain": [
       "<Figure size 1000x800 with 2 Axes>"
      ]
     },
     "metadata": {
      "image/png": {
       "height": 693,
       "width": 816
      }
     },
     "output_type": "display_data"
    }
   ],
   "source": [
    "# 혼돈 행렬 시각화\n",
    "cm = confusion_matrix(y_test, pred)\n",
    "plt.figure(figsize=(10, 8))\n",
    "sns.heatmap(cm, annot = True, annot_kws = {'size':20}, fmt = '0.0f', cmap='Blues')\n",
    "plt.xlabel('Predicted', size = 20)\n",
    "plt.ylabel('Actual', size = 20)\n",
    "plt.text(0.45, 0.4, 'TN', color = 'w', fontsize = 20)\n",
    "plt.text(1.45, 0.4, 'FP', color = 'black', fontsize = 20)\n",
    "plt.text(0.45, 1.4, 'FN', color = 'black', fontsize = 20)\n",
    "plt.text(1.45, 1.4, 'TP', color = 'black', fontsize = 20)\n",
    "plt.show()"
   ]
  },
  {
   "cell_type": "code",
   "execution_count": 66,
   "id": "561f1c7b-6396-44af-ab1b-5f4e08d14dec",
   "metadata": {
    "execution": {
     "iopub.execute_input": "2022-11-17T00:52:57.233470Z",
     "iopub.status.busy": "2022-11-17T00:52:57.233470Z",
     "iopub.status.idle": "2022-11-17T00:52:57.489860Z",
     "shell.execute_reply": "2022-11-17T00:52:57.488858Z",
     "shell.execute_reply.started": "2022-11-17T00:52:57.233470Z"
    },
    "tags": []
   },
   "outputs": [
    {
     "data": {
      "image/png": "[encoded data removed]",
      "text/plain": [
       "<Figure size 1000x700 with 1 Axes>"
      ]
     },
     "metadata": {
      "image/png": {
       "height": 615,
       "width": 864
      }
     },
     "output_type": "display_data"
    }
   ],
   "source": [
    "# 정밀도와 재현율 곡선\n",
    "precision_recall_curve_plot(y_test, pred_proba)"
   ]
  },
  {
   "cell_type": "code",
   "execution_count": 91,
   "id": "67eabf50-8e05-4857-a243-8f35ce34f73e",
   "metadata": {
    "execution": {
     "iopub.execute_input": "2022-11-17T01:27:38.654109Z",
     "iopub.status.busy": "2022-11-17T01:27:38.653111Z",
     "iopub.status.idle": "2022-11-17T01:27:38.881517Z",
     "shell.execute_reply": "2022-11-17T01:27:38.881517Z",
     "shell.execute_reply.started": "2022-11-17T01:27:38.654109Z"
    },
    "tags": []
   },
   "outputs": [
    {
     "data": {
      "image/png": "[encoded data removed]",
      "text/plain": [
       "<Figure size 1000x600 with 1 Axes>"
      ]
     },
     "metadata": {
      "image/png": {
       "height": 558,
       "width": 864
      }
     },
     "output_type": "display_data"
    }
   ],
   "source": [
    "from sklearn.metrics import accuracy_score, classification_report, roc_curve, roc_auc_score\n",
    "\n",
    "fpr, tpr, thresholds = roc_curve(y_test, pred_proba)\n",
    "\n",
    "plt.figure(figsize=(10, 6))\n",
    "plt.plot([0,1], [0,1], \"r--\")\n",
    "plt.plot(fpr, tpr, label='LogisticRegression', color = '#162fff')\n",
    "plt.xlabel('False Positive Rate', size = 15)\n",
    "plt.ylabel('True Positive Rate', size = 15)\n",
    "plt.title('LogisticRegression ROC curve', size = 15)\n",
    "plt.text(0.3, 0.45, 'AUC 면적 = {}'.format(round(roc_auc_score(y_test, pred_proba), 4)), size = 20)\n",
    "plt.show()"
   ]
  },
  {
   "cell_type": "code",
   "execution_count": null,
   "id": "a8ba5de4-7e10-49a7-9895-c098d15d0dff",
   "metadata": {},
   "outputs": [],
   "source": []
  }
 ],
 "metadata": {
  "kernelspec": {
   "display_name": "Python 3 (ipykernel)",
   "language": "python",
   "name": "python3"
  },
  "language_info": {
   "codemirror_mode": {
    "name": "ipython",
    "version": 3
   },
   "file_extension": ".py",
   "mimetype": "text/x-python",
   "name": "python",
   "nbconvert_exporter": "python",
   "pygments_lexer": "ipython3",
   "version": "3.9.7"
  },
  "toc-autonumbering": true,
  "toc-showcode": false,
  "toc-showmarkdowntxt": false
 },
 "nbformat": 4,
 "nbformat_minor": 5
}
