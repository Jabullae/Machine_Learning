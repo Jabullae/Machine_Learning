{
 "cells": [
  {
   "cell_type": "markdown",
   "id": "52aff2fa",
   "metadata": {},
   "source": [
    "# K-최근접 이웃 회귀 알고리즘"
   ]
  },
  {
   "cell_type": "markdown",
   "id": "205b34dd",
   "metadata": {},
   "source": [
    "## k-최근접 이웃 회귀\n",
    "- 회귀(regression) : 특정한 입력변수값을 사용하여 출력변수의 값을 계산하는 것을 예측(prediction) 문제라고 한다. 예측문제 중에서 출력변수의 값이 연속값인 문제를 회귀(regression) 또는 회귀분석(regression analysis)라고 부른다.\n",
    "- KNN Regression(K-최근접 이웃 회귀) 알고리즘 : 주변의 가장 가까운 K개의 샘플을 통해 값을 예측하는 방식으로 가장 간단한 방식으로는 K개 샘플의 평균을 이용할 수 있다. "
   ]
  },
  {
   "cell_type": "markdown",
   "id": "dd0bf737",
   "metadata": {},
   "source": [
    "## 분류 및 예측을 위한 모델\n",
    "1. Model_based Learning(모델 기반 학습)\n",
    "    - 데이터로부터 모델을 생성하여 분류/예측을 진행한다.\n",
    "    - 선형/비선형 모델(linear regression, logistic regression)\n",
    "    - Neural Network\n",
    "    - 의사결정나무(desision tree)\n",
    "    - SVM(support vector machine)\n",
    "2. Instance_based Learning(사례 기반 학습)\n",
    "    - 별도의 모델 생성없이 데이터베이스에 있는 자료들을 분류/예측에 사용한다.\n",
    "    - 각각의 관측치만을 이용하여 새로운 데이터에 대한 예측을 진행한다. \n",
    "    - 대표적인 알고리즘은 knn 알고리즘"
   ]
  },
  {
   "cell_type": "code",
   "execution_count": 7,
   "id": "57877ad7",
   "metadata": {
    "ExecuteTime": {
     "end_time": "2022-11-01T00:33:03.340211Z",
     "start_time": "2022-11-01T00:33:03.332005Z"
    }
   },
   "outputs": [],
   "source": [
    "import numpy as np\n",
    "import pandas as pd\n",
    "import matplotlib.pyplot as plt\n",
    "import matplotlib as mpl"
   ]
  },
  {
   "cell_type": "markdown",
   "id": "8f71626d",
   "metadata": {},
   "source": [
    "## 생선 무게 예측"
   ]
  },
  {
   "cell_type": "code",
   "execution_count": 2,
   "id": "65c42f6a",
   "metadata": {
    "ExecuteTime": {
     "end_time": "2022-11-01T00:22:23.918782Z",
     "start_time": "2022-11-01T00:22:23.912797Z"
    }
   },
   "outputs": [],
   "source": [
    "# 생선의 길이\n",
    "perch_length = np.array([8.4, 13.7, 15.0, 16.2, 17.4, 18.0, 18.7, 19.0, 19.6, 20.0, 21.0,\n",
    "       21.0, 21.0, 21.3, 22.0, 22.0, 22.0, 22.0, 22.0, 22.5, 22.5, 22.7,\n",
    "       23.0, 23.5, 24.0, 24.0, 24.6, 25.0, 25.6, 26.5, 27.3, 27.5, 27.5,\n",
    "       27.5, 28.0, 28.7, 30.0, 32.8, 34.5, 35.0, 36.5, 36.0, 37.0, 37.0,\n",
    "       39.0, 39.0, 39.0, 40.0, 40.0, 40.0, 40.0, 42.0, 43.0, 43.0, 43.5,\n",
    "       44.0])\n",
    "\n",
    "# 생선의 무게\n",
    "perch_weight = np.array([5.9, 32.0, 40.0, 51.5, 70.0, 100.0, 78.0, 80.0, 85.0, 85.0, 110.0,\n",
    "       115.0, 125.0, 130.0, 120.0, 120.0, 130.0, 135.0, 110.0, 130.0,\n",
    "       150.0, 145.0, 150.0, 170.0, 225.0, 145.0, 188.0, 180.0, 197.0,\n",
    "       218.0, 300.0, 260.0, 265.0, 250.0, 250.0, 300.0, 320.0, 514.0,\n",
    "       556.0, 840.0, 685.0, 700.0, 700.0, 690.0, 900.0, 650.0, 820.0,\n",
    "       850.0, 900.0, 1015.0, 820.0, 1100.0, 1000.0, 1100.0, 1000.0,\n",
    "       1000.0])"
   ]
  },
  {
   "cell_type": "code",
   "execution_count": 8,
   "id": "a0a8b77c",
   "metadata": {
    "ExecuteTime": {
     "end_time": "2022-11-01T00:33:05.914150Z",
     "start_time": "2022-11-01T00:33:05.907172Z"
    }
   },
   "outputs": [],
   "source": [
    "## ggplot 스타일\n",
    "mpl.style.use('ggplot')\n",
    "# matplotlib 한글화\n",
    "mpl.rcParams['font.family'] = 'D2coding'"
   ]
  },
  {
   "cell_type": "code",
   "execution_count": 10,
   "id": "f12ef637",
   "metadata": {
    "ExecuteTime": {
     "end_time": "2022-11-01T00:33:21.038451Z",
     "start_time": "2022-11-01T00:33:20.921448Z"
    }
   },
   "outputs": [
    {
     "data": {
      "image/png": "[encoded data removed]",
      "text/plain": [
       "<Figure size 432x288 with 1 Axes>"
      ]
     },
     "metadata": {},
     "output_type": "display_data"
    }
   ],
   "source": [
    "# 데이터 특성을 파악하기 위한 산점도 그래프\n",
    "plt.scatter(perch_length, perch_weight)\n",
    "plt.title('생선')\n",
    "plt.xlabel('length')\n",
    "plt.ylabel('weight')\n",
    "plt.show()"
   ]
  },
  {
   "cell_type": "markdown",
   "id": "f6228f14",
   "metadata": {},
   "source": [
    "## 훈련데이터세트와 테스트 데이터 세트로 분리"
   ]
  },
  {
   "cell_type": "code",
   "execution_count": 11,
   "id": "d27cd41f",
   "metadata": {
    "ExecuteTime": {
     "end_time": "2022-11-01T00:48:16.641234Z",
     "start_time": "2022-11-01T00:48:15.051016Z"
    }
   },
   "outputs": [],
   "source": [
    "from sklearn.model_selection import train_test_split\n",
    "\n",
    "train_input, test_input, train_target, test_target = train_test_split(\n",
    "perch_length, perch_weight, random_state = 42)"
   ]
  },
  {
   "cell_type": "code",
   "execution_count": 15,
   "id": "d879cb8e",
   "metadata": {
    "ExecuteTime": {
     "end_time": "2022-11-01T00:50:11.581305Z",
     "start_time": "2022-11-01T00:50:11.575347Z"
    }
   },
   "outputs": [
    {
     "data": {
      "text/plain": [
       "(4,)"
      ]
     },
     "execution_count": 15,
     "metadata": {},
     "output_type": "execute_result"
    }
   ],
   "source": [
    "a = np.array([1, 2, 3, 4])\n",
    "a.shape"
   ]
  },
  {
   "cell_type": "code",
   "execution_count": 17,
   "id": "8c66291a",
   "metadata": {
    "ExecuteTime": {
     "end_time": "2022-11-01T00:50:37.164571Z",
     "start_time": "2022-11-01T00:50:37.145901Z"
    }
   },
   "outputs": [
    {
     "data": {
      "text/plain": [
       "(2, 2)"
      ]
     },
     "execution_count": 17,
     "metadata": {},
     "output_type": "execute_result"
    }
   ],
   "source": [
    "a = a.reshape(2, 2)\n",
    "a.shape"
   ]
  },
  {
   "cell_type": "code",
   "execution_count": 22,
   "id": "35e7f736",
   "metadata": {
    "ExecuteTime": {
     "end_time": "2022-11-01T00:54:01.702256Z",
     "start_time": "2022-11-01T00:54:01.671014Z"
    }
   },
   "outputs": [],
   "source": [
    "train_input = train_input.reshape(-1, 1)\n",
    "test_input = test_input.reshape(-1, 1)"
   ]
  },
  {
   "cell_type": "code",
   "execution_count": 23,
   "id": "68b38d97",
   "metadata": {
    "ExecuteTime": {
     "end_time": "2022-11-01T00:54:23.741027Z",
     "start_time": "2022-11-01T00:54:23.730059Z"
    }
   },
   "outputs": [
    {
     "name": "stdout",
     "output_type": "stream",
     "text": [
      "(42, 1) (14, 1)\n"
     ]
    }
   ],
   "source": [
    "print(train_input.shape, test_input.shape)"
   ]
  },
  {
   "cell_type": "code",
   "execution_count": 24,
   "id": "2fddebdf",
   "metadata": {
    "ExecuteTime": {
     "end_time": "2022-11-01T00:54:59.013204Z",
     "start_time": "2022-11-01T00:54:59.003318Z"
    }
   },
   "outputs": [
    {
     "data": {
      "text/plain": [
       "array([  85.,  135.,   78.,   70.,  700.,  180.,  850.,  820., 1000.,\n",
       "        120.,   85.,  130.,  225.,  260., 1100.,  900.,  145.,  115.,\n",
       "        265., 1015.,  514.,  218.,  685.,   32.,  145.,   40.,  690.,\n",
       "        840.,  300.,  170.,  650.,  110.,  150.,  110., 1000.,  150.,\n",
       "         80.,  700.,  120.,  197., 1100.,  556.])"
      ]
     },
     "execution_count": 24,
     "metadata": {},
     "output_type": "execute_result"
    }
   ],
   "source": [
    "train_target"
   ]
  },
  {
   "cell_type": "code",
   "execution_count": 25,
   "id": "05ee41bc",
   "metadata": {
    "ExecuteTime": {
     "end_time": "2022-11-01T01:09:10.814945Z",
     "start_time": "2022-11-01T01:09:10.465423Z"
    }
   },
   "outputs": [
    {
     "data": {
      "text/plain": [
       "KNeighborsRegressor()"
      ]
     },
     "execution_count": 25,
     "metadata": {},
     "output_type": "execute_result"
    }
   ],
   "source": [
    "from sklearn.neighbors import KNeighborsRegressor\n",
    "knr = KNeighborsRegressor()\n",
    "\n",
    "knr.fit(train_input, train_target)"
   ]
  },
  {
   "cell_type": "markdown",
   "id": "fd8d77b1",
   "metadata": {},
   "source": [
    "### Machine Learning Package Version List"
   ]
  },
  {
   "cell_type": "code",
   "execution_count": 26,
   "id": "85b0e1fe",
   "metadata": {
    "ExecuteTime": {
     "end_time": "2022-11-01T01:10:26.395883Z",
     "start_time": "2022-11-01T01:10:26.386903Z"
    }
   },
   "outputs": [
    {
     "name": "stdout",
     "output_type": "stream",
     "text": [
      "Python version :  3.9.7 (default, Sep 16 2021, 16:59:28) [MSC v.1916 64 bit (AMD64)]\n"
     ]
    }
   ],
   "source": [
    "import sys\n",
    "print('Python version : ', sys.version)"
   ]
  },
  {
   "cell_type": "code",
   "execution_count": 27,
   "id": "87079d6e",
   "metadata": {
    "ExecuteTime": {
     "end_time": "2022-11-01T01:10:49.885738Z",
     "start_time": "2022-11-01T01:10:49.854353Z"
    }
   },
   "outputs": [
    {
     "name": "stdout",
     "output_type": "stream",
     "text": [
      "pandas version :  1.3.4\n"
     ]
    }
   ],
   "source": [
    "print('pandas version : ', pd.__version__)"
   ]
  },
  {
   "cell_type": "code",
   "execution_count": 30,
   "id": "c6f9f323",
   "metadata": {
    "ExecuteTime": {
     "end_time": "2022-11-01T01:12:42.957596Z",
     "start_time": "2022-11-01T01:12:42.936652Z"
    }
   },
   "outputs": [
    {
     "name": "stdout",
     "output_type": "stream",
     "text": [
      "matplotlib version :  3.4.3\n"
     ]
    }
   ],
   "source": [
    "print('matplotlib version : ', mpl.__version__)"
   ]
  },
  {
   "cell_type": "code",
   "execution_count": 31,
   "id": "4d505f26",
   "metadata": {
    "ExecuteTime": {
     "end_time": "2022-11-01T01:13:00.680399Z",
     "start_time": "2022-11-01T01:13:00.664460Z"
    }
   },
   "outputs": [
    {
     "name": "stdout",
     "output_type": "stream",
     "text": [
      "scipy version :  1.7.1\n"
     ]
    }
   ],
   "source": [
    "import scipy as sp\n",
    "print('scipy version : ', sp.__version__)"
   ]
  },
  {
   "cell_type": "code",
   "execution_count": 32,
   "id": "c5760601",
   "metadata": {
    "ExecuteTime": {
     "end_time": "2022-11-01T01:13:33.730480Z",
     "start_time": "2022-11-01T01:13:33.709507Z"
    }
   },
   "outputs": [
    {
     "name": "stdout",
     "output_type": "stream",
     "text": [
      "IPython version :  7.29.0\n"
     ]
    }
   ],
   "source": [
    "import IPython\n",
    "print('IPython version : ', IPython.__version__)"
   ]
  },
  {
   "cell_type": "code",
   "execution_count": 34,
   "id": "f709b67e",
   "metadata": {
    "ExecuteTime": {
     "end_time": "2022-11-01T01:14:04.847952Z",
     "start_time": "2022-11-01T01:14:04.831997Z"
    }
   },
   "outputs": [
    {
     "name": "stdout",
     "output_type": "stream",
     "text": [
      "scikit-learn version :  0.24.2\n"
     ]
    }
   ],
   "source": [
    "import sklearn\n",
    "print('scikit-learn version : ', sklearn.__version__)"
   ]
  },
  {
   "cell_type": "code",
   "execution_count": 35,
   "id": "42d9a89b",
   "metadata": {
    "ExecuteTime": {
     "end_time": "2022-11-01T01:27:19.279688Z",
     "start_time": "2022-11-01T01:27:19.264065Z"
    }
   },
   "outputs": [
    {
     "data": {
      "text/plain": [
       "0.992809406101064"
      ]
     },
     "execution_count": 35,
     "metadata": {},
     "output_type": "execute_result"
    }
   ],
   "source": [
    "# 정확도 : 정답을 맞춘 개수의 비율\n",
    "# 테스트 데이터의 정확도 측정\n",
    "knr.score(test_input, test_target)"
   ]
  },
  {
   "cell_type": "code",
   "execution_count": 38,
   "id": "d244f9b9",
   "metadata": {
    "ExecuteTime": {
     "end_time": "2022-11-01T01:34:37.117570Z",
     "start_time": "2022-11-01T01:34:37.092637Z"
    }
   },
   "outputs": [
    {
     "data": {
      "text/plain": [
       "19.157142857142862"
      ]
     },
     "execution_count": 38,
     "metadata": {},
     "output_type": "execute_result"
    }
   ],
   "source": [
    "# 결정계수(R ^ 2) = 1 - (타깃 - 예측) ^ 2의 합 / (타깃 -평균) ^ 2의 합\n",
    "from sklearn.metrics import mean_absolute_error\n",
    "# MAE : 타깃과 예측의 절대값 오차를 평균하여 반환\n",
    "# 테스트 데이터의 예측\n",
    "test_predict = knr.predict(test_input)\n",
    "mae = mean_absolute_error(test_target, test_predict)\n",
    "mae"
   ]
  },
  {
   "cell_type": "code",
   "execution_count": 39,
   "id": "c1680a16",
   "metadata": {
    "ExecuteTime": {
     "end_time": "2022-11-01T01:36:18.185916Z",
     "start_time": "2022-11-01T01:36:18.171947Z"
    }
   },
   "outputs": [
    {
     "data": {
      "text/plain": [
       "0.9698823289099254"
      ]
     },
     "execution_count": 39,
     "metadata": {},
     "output_type": "execute_result"
    }
   ],
   "source": [
    "# 훈련데이터 정확도 측정\n",
    "knr.score(train_input, train_target)"
   ]
  },
  {
   "cell_type": "markdown",
   "id": "10606204",
   "metadata": {},
   "source": [
    "## 과대적합 vs 과소적합\n",
    "- 과대적합(Overfitting) : 훈련 세트에서 점수가 높은 것에 반해 테스트 세트에서는 점수가 굉장히 낮을 때\n",
    "- 과소적합(Underfitting) : 훈련 세트보다 테스트 세트의 점수가 높거나 두 점수가 너무 낮은 경우"
   ]
  },
  {
   "cell_type": "code",
   "execution_count": null,
   "id": "f4924e65",
   "metadata": {},
   "outputs": [],
   "source": []
  },
  {
   "cell_type": "code",
   "execution_count": null,
   "id": "e46f0e8c",
   "metadata": {},
   "outputs": [],
   "source": []
  },
  {
   "cell_type": "code",
   "execution_count": null,
   "id": "801788cb",
   "metadata": {},
   "outputs": [],
   "source": []
  }
 ],
 "metadata": {
  "kernelspec": {
   "display_name": "Python 3 (ipykernel)",
   "language": "python",
   "name": "python3"
  },
  "language_info": {
   "codemirror_mode": {
    "name": "ipython",
    "version": 3
   },
   "file_extension": ".py",
   "mimetype": "text/x-python",
   "name": "python",
   "nbconvert_exporter": "python",
   "pygments_lexer": "ipython3",
   "version": "3.9.7"
  },
  "toc": {
   "base_numbering": 1,
   "nav_menu": {},
   "number_sections": true,
   "sideBar": true,
   "skip_h1_title": false,
   "title_cell": "Table of Contents",
   "title_sidebar": "Contents",
   "toc_cell": false,
   "toc_position": {},
   "toc_section_display": true,
   "toc_window_display": false
  },
  "varInspector": {
   "cols": {
    "lenName": 16,
    "lenType": 16,
    "lenVar": 40
   },
   "kernels_config": {
    "python": {
     "delete_cmd_postfix": "",
     "delete_cmd_prefix": "del ",
     "library": "var_list.py",
     "varRefreshCmd": "print(var_dic_list())"
    },
    "r": {
     "delete_cmd_postfix": ") ",
     "delete_cmd_prefix": "rm(",
     "library": "var_list.r",
     "varRefreshCmd": "cat(var_dic_list()) "
    }
   },
   "types_to_exclude": [
    "module",
    "function",
    "builtin_function_or_method",
    "instance",
    "_Feature"
   ],
   "window_display": false
  }
 },
 "nbformat": 4,
 "nbformat_minor": 5
}
