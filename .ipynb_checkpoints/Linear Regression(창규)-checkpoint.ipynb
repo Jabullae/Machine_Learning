{
 "cells": [
  {
   "cell_type": "markdown",
   "id": "b53dcb0a-7dc5-4ec9-bb1d-5bbd0b088165",
   "metadata": {},
   "source": [
    "# k-최근접 이웃회귀의 한계\n",
    "- 데이터 범위 밖의 새로운 데이터는 예측이 불가능"
   ]
  },
  {
   "cell_type": "code",
   "execution_count": 1,
   "id": "03503966-ad26-40d1-9c77-c6c4a490de75",
   "metadata": {
    "ExecuteTime": {
     "end_time": "2022-11-03T00:02:40.194712Z",
     "start_time": "2022-11-03T00:02:38.250149Z"
    },
    "execution": {
     "iopub.execute_input": "2022-11-02T08:16:05.865196Z",
     "iopub.status.busy": "2022-11-02T08:16:05.864196Z",
     "iopub.status.idle": "2022-11-02T08:16:09.437750Z",
     "shell.execute_reply": "2022-11-02T08:16:09.437750Z",
     "shell.execute_reply.started": "2022-11-02T08:16:05.865196Z"
    },
    "tags": []
   },
   "outputs": [],
   "source": [
    "import numpy as np\n",
    "import pandas as pd\n",
    "import matplotlib.pyplot as plt\n",
    "import matplotlib as mpl\n",
    "import seaborn as sns\n",
    "import mglearn\n",
    "from sklearn.neighbors import KNeighborsRegressor\n",
    "from sklearn.model_selection import train_test_split, cross_val_score\n",
    "from sklearn.metrics import accuracy_score, mean_squared_error, r2_score\n",
    "from sklearn.datasets import load_breast_cancer, load_boston, load_diabetes\n",
    "import warnings\n",
    "from sklearn.linear_model import LinearRegression, Ridge, Lasso\n",
    "from sklearn.preprocessing import PolynomialFeatures, StandardScaler, MinMaxScaler\n",
    "from statsmodels.stats.outliers_influence import variance_inflation_factor\n",
    "from patsy import dmatrix\n",
    "\n",
    "warnings.simplefilter(action='ignore', category=FutureWarning)\n",
    "# FutureWarning제거\n",
    "\n",
    "%matplotlib inline\n",
    "\n",
    "mpl.rcParams['font.family'] = 'D2coding'  # 한글 깨짐 해결"
   ]
  },
  {
   "cell_type": "code",
   "execution_count": 2,
   "id": "a63ffaf7-b6dc-4812-bcb1-b2aef82b99d2",
   "metadata": {
    "ExecuteTime": {
     "end_time": "2022-11-03T00:02:40.225863Z",
     "start_time": "2022-11-03T00:02:40.210630Z"
    },
    "execution": {
     "iopub.execute_input": "2022-11-01T01:53:58.995806Z",
     "iopub.status.busy": "2022-11-01T01:53:58.995806Z",
     "iopub.status.idle": "2022-11-01T01:53:59.026184Z",
     "shell.execute_reply": "2022-11-01T01:53:59.025179Z",
     "shell.execute_reply.started": "2022-11-01T01:53:58.995806Z"
    }
   },
   "outputs": [],
   "source": [
    "perch_length = np.array([8.4, 13.7, 15.0, 16.2, 17.4,\n",
    "                         18.0, 18.7, 19.0, 19.6, 20.0,\n",
    "                         21.0, 21.0, 21.0, 21.3, 22.0,\n",
    "                         22.0, 22.0, 22.0, 22.0, 22.5,\n",
    "                         22.5, 22.7, 23.0, 23.5, 24.0,\n",
    "                         24.0, 24.6, 25.0, 25.6, 26.5,\n",
    "                         27.3, 27.5, 27.5, 27.5, 28.0,\n",
    "                         28.7, 30.0, 32.8, 34.5, 35.0,\n",
    "                         36.5, 36.0, 37.0, 37.0, 39.0,\n",
    "                         39.0, 39.0, 40.0, 40.0, 40.0,\n",
    "                         40.0, 42.0, 43.0, 43.0, 43.5, 44.0])\n",
    "perch_weight = np.array([5.9, 32.0, 40.0, 51.5, 70.0, 100.0,\n",
    "                         78.0, 80.0, 85.0, 85.0, 110.0,\n",
    "                         115.0, 125.0, 130.0, 120.0, 120.0,\n",
    "                         130.0, 135.0, 110.0, 130.0, 150.0,\n",
    "                         145.0, 150.0, 170.0, 225.0, 145.0,\n",
    "                         188.0, 180.0, 197.0, 218.0, 300.0,\n",
    "                         260.0, 265.0, 250.0, 250.0, 300.0,\n",
    "                         320.0, 514.0, 556.0, 840.0, 685.0,\n",
    "                         700.0, 700.0, 690.0, 900.0, 650.0,\n",
    "                         820.0, 850.0, 900.0, 1015.0, 820.0,\n",
    "                         1100.0, 1000.0, 1100.0, 1000.0, 1000.0])"
   ]
  },
  {
   "cell_type": "code",
   "execution_count": 3,
   "id": "c3977efa-ac33-43bd-aadf-3574c60c0395",
   "metadata": {
    "ExecuteTime": {
     "end_time": "2022-11-03T00:02:40.252810Z",
     "start_time": "2022-11-03T00:02:40.243590Z"
    },
    "execution": {
     "iopub.execute_input": "2022-11-01T02:20:09.448920Z",
     "iopub.status.busy": "2022-11-01T02:20:09.448920Z",
     "iopub.status.idle": "2022-11-01T02:20:09.463460Z",
     "shell.execute_reply": "2022-11-01T02:20:09.462273Z",
     "shell.execute_reply.started": "2022-11-01T02:20:09.448920Z"
    }
   },
   "outputs": [],
   "source": [
    "train_input, test_input, train_target, test_target = train_test_split(\n",
    "    perch_length, perch_weight, random_state=42\n",
    ")"
   ]
  },
  {
   "cell_type": "code",
   "execution_count": 4,
   "id": "daf57ff4-6261-451b-86f0-2dd0c61a950b",
   "metadata": {
    "ExecuteTime": {
     "end_time": "2022-11-03T00:02:40.283690Z",
     "start_time": "2022-11-03T00:02:40.269328Z"
    },
    "execution": {
     "iopub.execute_input": "2022-11-01T02:21:36.772015Z",
     "iopub.status.busy": "2022-11-01T02:21:36.772015Z",
     "iopub.status.idle": "2022-11-01T02:21:36.788034Z",
     "shell.execute_reply": "2022-11-01T02:21:36.787042Z",
     "shell.execute_reply.started": "2022-11-01T02:21:36.772015Z"
    }
   },
   "outputs": [],
   "source": [
    "train_input = train_input.reshape(-1, 1)\n",
    "test_input = test_input.reshape(-1, 1)"
   ]
  },
  {
   "cell_type": "code",
   "execution_count": 5,
   "id": "a825c878-4219-4878-b5fc-83c7b3aebe82",
   "metadata": {
    "ExecuteTime": {
     "end_time": "2022-11-03T00:02:40.324791Z",
     "start_time": "2022-11-03T00:02:40.302742Z"
    },
    "execution": {
     "iopub.execute_input": "2022-11-01T02:24:54.857786Z",
     "iopub.status.busy": "2022-11-01T02:24:54.857786Z",
     "iopub.status.idle": "2022-11-01T02:24:54.873763Z",
     "shell.execute_reply": "2022-11-01T02:24:54.871769Z",
     "shell.execute_reply.started": "2022-11-01T02:24:54.857786Z"
    },
    "tags": []
   },
   "outputs": [
    {
     "data": {
      "text/plain": [
       "KNeighborsRegressor(n_neighbors=3)"
      ]
     },
     "execution_count": 5,
     "metadata": {},
     "output_type": "execute_result"
    }
   ],
   "source": [
    "# k = 3 변경\n",
    "knr = KNeighborsRegressor(n_neighbors=3)\n",
    "knr.fit(train_input, train_target)"
   ]
  },
  {
   "cell_type": "code",
   "execution_count": 6,
   "id": "12aeb940-e854-4339-b96b-212614d7dff3",
   "metadata": {
    "ExecuteTime": {
     "end_time": "2022-11-03T00:02:40.997722Z",
     "start_time": "2022-11-03T00:02:40.993723Z"
    },
    "execution": {
     "iopub.execute_input": "2022-11-01T02:25:44.903109Z",
     "iopub.status.busy": "2022-11-01T02:25:44.903109Z",
     "iopub.status.idle": "2022-11-01T02:25:44.913426Z",
     "shell.execute_reply": "2022-11-01T02:25:44.911890Z",
     "shell.execute_reply.started": "2022-11-01T02:25:44.903109Z"
    },
    "tags": []
   },
   "outputs": [
    {
     "data": {
      "text/plain": [
       "array([1033.33333333])"
      ]
     },
     "execution_count": 6,
     "metadata": {},
     "output_type": "execute_result"
    }
   ],
   "source": [
    "# 길이가 50cm인 생선의 무게 예측\n",
    "knr.predict([[50]])"
   ]
  },
  {
   "cell_type": "code",
   "execution_count": 7,
   "id": "3a48190d-e602-4865-9b59-90ff20256a2a",
   "metadata": {
    "ExecuteTime": {
     "end_time": "2022-11-03T00:02:42.329326Z",
     "start_time": "2022-11-03T00:02:42.184731Z"
    },
    "execution": {
     "iopub.execute_input": "2022-11-01T02:33:06.015168Z",
     "iopub.status.busy": "2022-11-01T02:33:06.015168Z",
     "iopub.status.idle": "2022-11-01T02:33:06.228075Z",
     "shell.execute_reply": "2022-11-01T02:33:06.226955Z",
     "shell.execute_reply.started": "2022-11-01T02:33:06.015168Z"
    },
    "tags": []
   },
   "outputs": [
    {
     "data": {
      "image/png": "[encoded data removed]",
      "text/plain": [
       "<Figure size 432x288 with 1 Axes>"
      ]
     },
     "metadata": {
      "needs_background": "light"
     },
     "output_type": "display_data"
    }
   ],
   "source": [
    "# 길이가 50cm인 생선의 주변 이웃\n",
    "distances, indexs = knr.kneighbors([[50]])\n",
    "plt.scatter(train_input, train_target)\n",
    "plt.scatter(train_input[indexs],train_target[indexs], marker='D')\n",
    "plt.scatter(50, 1033, marker='^')\n",
    "\n",
    "plt.title('학습된 데이터 범위 밖의 데이터는 예측을 할수 없다')\n",
    "plt.xlabel('length')\n",
    "plt.ylabel('weight')\n",
    "plt.show()"
   ]
  },
  {
   "cell_type": "code",
   "execution_count": 8,
   "id": "a7149a88-9336-4b68-8df6-71da1098b1cf",
   "metadata": {
    "ExecuteTime": {
     "end_time": "2022-11-03T00:02:43.941933Z",
     "start_time": "2022-11-03T00:02:43.922556Z"
    },
    "execution": {
     "iopub.execute_input": "2022-11-01T02:43:40.665837Z",
     "iopub.status.busy": "2022-11-01T02:43:40.665837Z",
     "iopub.status.idle": "2022-11-01T02:43:40.699227Z",
     "shell.execute_reply": "2022-11-01T02:43:40.698221Z",
     "shell.execute_reply.started": "2022-11-01T02:43:40.665837Z"
    },
    "tags": []
   },
   "outputs": [
    {
     "data": {
      "text/plain": [
       "LinearRegression()"
      ]
     },
     "execution_count": 8,
     "metadata": {},
     "output_type": "execute_result"
    }
   ],
   "source": [
    "# Linear Regression 알고리즘\n",
    "lr = LinearRegression()\n",
    "lr.fit(train_input, train_target)"
   ]
  },
  {
   "cell_type": "code",
   "execution_count": 9,
   "id": "5f645149-c299-47ca-94ba-3d43a268319c",
   "metadata": {
    "ExecuteTime": {
     "end_time": "2022-11-03T00:02:44.697658Z",
     "start_time": "2022-11-03T00:02:44.679706Z"
    },
    "execution": {
     "iopub.execute_input": "2022-11-01T02:43:40.915436Z",
     "iopub.status.busy": "2022-11-01T02:43:40.915436Z",
     "iopub.status.idle": "2022-11-01T02:43:40.933369Z",
     "shell.execute_reply": "2022-11-01T02:43:40.931425Z",
     "shell.execute_reply.started": "2022-11-01T02:43:40.915436Z"
    },
    "tags": []
   },
   "outputs": [
    {
     "data": {
      "text/plain": [
       "array([1241.83860323])"
      ]
     },
     "execution_count": 9,
     "metadata": {},
     "output_type": "execute_result"
    }
   ],
   "source": [
    "lr.predict([[50]])"
   ]
  },
  {
   "cell_type": "code",
   "execution_count": 10,
   "id": "d179046f-b068-4f12-9507-ac8e8fe734ae",
   "metadata": {
    "ExecuteTime": {
     "end_time": "2022-11-03T00:02:45.164322Z",
     "start_time": "2022-11-03T00:02:45.150987Z"
    },
    "execution": {
     "iopub.execute_input": "2022-11-01T02:45:57.787116Z",
     "iopub.status.busy": "2022-11-01T02:45:57.787116Z",
     "iopub.status.idle": "2022-11-01T02:45:57.804186Z",
     "shell.execute_reply": "2022-11-01T02:45:57.802262Z",
     "shell.execute_reply.started": "2022-11-01T02:45:57.787116Z"
    },
    "tags": []
   },
   "outputs": [
    {
     "name": "stdout",
     "output_type": "stream",
     "text": [
      "[39.01714496] -709.0186449535477\n"
     ]
    }
   ],
   "source": [
    "print(lr.coef_, lr.intercept_)"
   ]
  },
  {
   "cell_type": "code",
   "execution_count": 11,
   "id": "38530529-ecd8-421e-bb1a-116092702aaa",
   "metadata": {
    "ExecuteTime": {
     "end_time": "2022-11-03T00:02:45.913272Z",
     "start_time": "2022-11-03T00:02:45.802303Z"
    },
    "execution": {
     "iopub.execute_input": "2022-11-01T03:06:35.375517Z",
     "iopub.status.busy": "2022-11-01T03:06:35.375517Z",
     "iopub.status.idle": "2022-11-01T03:06:35.555383Z",
     "shell.execute_reply": "2022-11-01T03:06:35.554383Z",
     "shell.execute_reply.started": "2022-11-01T03:06:35.375517Z"
    },
    "tags": []
   },
   "outputs": [
    {
     "data": {
      "image/png": "[encoded data removed]",
      "text/plain": [
       "<Figure size 432x288 with 1 Axes>"
      ]
     },
     "metadata": {
      "needs_background": "light"
     },
     "output_type": "display_data"
    }
   ],
   "source": [
    "plt.scatter(train_input, train_target)\n",
    "\n",
    "# 15 ~ 50\n",
    "plt.plot([15, 50], [15*lr.coef_+lr.intercept_, 50*lr.coef_+lr.intercept_])\n",
    "\n",
    "plt.scatter(50, 1241.8, marker='^')\n",
    "plt.show()"
   ]
  },
  {
   "cell_type": "code",
   "execution_count": 12,
   "id": "35fd911d-51e8-4d7b-b4f4-6fd1735d335c",
   "metadata": {
    "ExecuteTime": {
     "end_time": "2022-11-03T00:02:46.633804Z",
     "start_time": "2022-11-03T00:02:46.623808Z"
    },
    "execution": {
     "iopub.execute_input": "2022-11-01T03:07:52.179652Z",
     "iopub.status.busy": "2022-11-01T03:07:52.179652Z",
     "iopub.status.idle": "2022-11-01T03:07:52.188159Z",
     "shell.execute_reply": "2022-11-01T03:07:52.187220Z",
     "shell.execute_reply.started": "2022-11-01T03:07:52.179652Z"
    }
   },
   "outputs": [
    {
     "name": "stdout",
     "output_type": "stream",
     "text": [
      "0.939846333997604\n",
      "0.8247503123313558\n"
     ]
    }
   ],
   "source": [
    "print(lr.score(train_input, train_target))\n",
    "print(lr.score(test_input, test_target))"
   ]
  },
  {
   "cell_type": "markdown",
   "id": "1dfbfe1d-b42e-4bcd-9fd9-adf5290f6185",
   "metadata": {},
   "source": [
    "## 다항회귀"
   ]
  },
  {
   "cell_type": "code",
   "execution_count": 13,
   "id": "0d42eca7-b76d-4bc5-bdf5-1d7fe79ebc68",
   "metadata": {
    "ExecuteTime": {
     "end_time": "2022-11-03T00:02:47.992775Z",
     "start_time": "2022-11-03T00:02:47.988785Z"
    },
    "execution": {
     "iopub.execute_input": "2022-11-01T03:18:36.826377Z",
     "iopub.status.busy": "2022-11-01T03:18:36.826377Z",
     "iopub.status.idle": "2022-11-01T03:18:36.838598Z",
     "shell.execute_reply": "2022-11-01T03:18:36.837478Z",
     "shell.execute_reply.started": "2022-11-01T03:18:36.826377Z"
    },
    "tags": []
   },
   "outputs": [],
   "source": [
    "# 2차 방정식 그래프를 그리기 위해 길이를 제곱한 항을 추가\n",
    "train_poly = np.column_stack((train_input ** 2, train_input))\n",
    "test_poly = np.column_stack((test_input **2, test_input))"
   ]
  },
  {
   "cell_type": "code",
   "execution_count": 14,
   "id": "2b149be1-edb5-4976-a0e6-32bc6d80ddd3",
   "metadata": {
    "ExecuteTime": {
     "end_time": "2022-11-03T00:02:48.364295Z",
     "start_time": "2022-11-03T00:02:48.349185Z"
    },
    "execution": {
     "iopub.execute_input": "2022-11-01T03:19:08.973329Z",
     "iopub.status.busy": "2022-11-01T03:19:08.973329Z",
     "iopub.status.idle": "2022-11-01T03:19:08.986367Z",
     "shell.execute_reply": "2022-11-01T03:19:08.984848Z",
     "shell.execute_reply.started": "2022-11-01T03:19:08.973329Z"
    },
    "tags": []
   },
   "outputs": [
    {
     "name": "stdout",
     "output_type": "stream",
     "text": [
      "(42, 2) (14, 2)\n"
     ]
    }
   ],
   "source": [
    "print(train_poly.shape, test_poly.shape)"
   ]
  },
  {
   "cell_type": "code",
   "execution_count": 15,
   "id": "16514324-9b6a-4bc8-9d1a-67a0051f0388",
   "metadata": {
    "ExecuteTime": {
     "end_time": "2022-11-03T00:02:48.812268Z",
     "start_time": "2022-11-03T00:02:48.796644Z"
    },
    "execution": {
     "iopub.execute_input": "2022-11-01T03:19:55.169693Z",
     "iopub.status.busy": "2022-11-01T03:19:55.168799Z",
     "iopub.status.idle": "2022-11-01T03:19:55.194855Z",
     "shell.execute_reply": "2022-11-01T03:19:55.192856Z",
     "shell.execute_reply.started": "2022-11-01T03:19:55.169693Z"
    }
   },
   "outputs": [
    {
     "data": {
      "text/plain": [
       "LinearRegression()"
      ]
     },
     "execution_count": 15,
     "metadata": {},
     "output_type": "execute_result"
    }
   ],
   "source": [
    "lr = LinearRegression()\n",
    "lr.fit(train_poly, train_target)"
   ]
  },
  {
   "cell_type": "code",
   "execution_count": 16,
   "id": "43620d9e-2e4c-4670-bb03-f5cade91b98b",
   "metadata": {
    "ExecuteTime": {
     "end_time": "2022-11-03T00:02:49.412423Z",
     "start_time": "2022-11-03T00:02:49.401450Z"
    },
    "execution": {
     "iopub.execute_input": "2022-11-01T03:20:16.251224Z",
     "iopub.status.busy": "2022-11-01T03:20:16.251224Z",
     "iopub.status.idle": "2022-11-01T03:20:16.269735Z",
     "shell.execute_reply": "2022-11-01T03:20:16.268253Z",
     "shell.execute_reply.started": "2022-11-01T03:20:16.251224Z"
    }
   },
   "outputs": [
    {
     "name": "stdout",
     "output_type": "stream",
     "text": [
      "[1573.98423528]\n"
     ]
    }
   ],
   "source": [
    "print(lr.predict([[50**2, 50]]))"
   ]
  },
  {
   "cell_type": "code",
   "execution_count": 17,
   "id": "4a5e2e67-3d28-483d-a0be-6b3d4bcd7150",
   "metadata": {
    "ExecuteTime": {
     "end_time": "2022-11-03T00:02:50.148159Z",
     "start_time": "2022-11-03T00:02:50.133199Z"
    },
    "execution": {
     "iopub.execute_input": "2022-11-01T03:23:00.664063Z",
     "iopub.status.busy": "2022-11-01T03:23:00.664063Z",
     "iopub.status.idle": "2022-11-01T03:23:00.683139Z",
     "shell.execute_reply": "2022-11-01T03:23:00.682133Z",
     "shell.execute_reply.started": "2022-11-01T03:23:00.664063Z"
    },
    "tags": []
   },
   "outputs": [
    {
     "name": "stdout",
     "output_type": "stream",
     "text": [
      "[  1.01433211 -21.55792498] 116.05021078278259\n"
     ]
    }
   ],
   "source": [
    "# coef : 기울기, intercept : 절편\n",
    "print(lr.coef_, lr.intercept_)"
   ]
  },
  {
   "cell_type": "markdown",
   "id": "47440331-7970-4167-b612-1f69739b80f8",
   "metadata": {},
   "source": [
    "- 무게 = 1.01 * 길이^2 + -21.6 * 길이 + 116.05"
   ]
  },
  {
   "cell_type": "code",
   "execution_count": 18,
   "id": "b329da8c-a397-44be-9c23-e30a96951300",
   "metadata": {
    "ExecuteTime": {
     "end_time": "2022-11-03T00:02:51.943790Z",
     "start_time": "2022-11-03T00:02:51.823896Z"
    },
    "execution": {
     "iopub.execute_input": "2022-11-01T03:24:47.895861Z",
     "iopub.status.busy": "2022-11-01T03:24:47.894856Z",
     "iopub.status.idle": "2022-11-01T03:24:48.100675Z",
     "shell.execute_reply": "2022-11-01T03:24:48.099676Z",
     "shell.execute_reply.started": "2022-11-01T03:24:47.895861Z"
    },
    "tags": []
   },
   "outputs": [
    {
     "data": {
      "image/png": "[encoded data removed]",
      "text/plain": [
       "<Figure size 432x288 with 1 Axes>"
      ]
     },
     "metadata": {
      "needs_background": "light"
     },
     "output_type": "display_data"
    }
   ],
   "source": [
    "point = np.arange(15, 50)\n",
    "\n",
    "plt.scatter(train_input, train_target)\n",
    "\n",
    "plt.plot(point, 1.01*point**2 -21.6*point +116.05)\n",
    "plt.scatter(50, 1574, marker='^')\n",
    "plt.show()"
   ]
  },
  {
   "cell_type": "code",
   "execution_count": 19,
   "id": "54154db4-4493-4949-b23c-5266f338c9a8",
   "metadata": {
    "ExecuteTime": {
     "end_time": "2022-11-03T00:02:52.313097Z",
     "start_time": "2022-11-03T00:02:52.298085Z"
    },
    "execution": {
     "iopub.execute_input": "2022-11-01T03:25:37.508810Z",
     "iopub.status.busy": "2022-11-01T03:25:37.507811Z",
     "iopub.status.idle": "2022-11-01T03:25:37.531697Z",
     "shell.execute_reply": "2022-11-01T03:25:37.530695Z",
     "shell.execute_reply.started": "2022-11-01T03:25:37.508810Z"
    }
   },
   "outputs": [
    {
     "name": "stdout",
     "output_type": "stream",
     "text": [
      "0.9706807451768623\n",
      "0.9775935108325121\n"
     ]
    }
   ],
   "source": [
    "print(lr.score(train_poly, train_target))\n",
    "print(lr.score(test_poly, test_target))"
   ]
  },
  {
   "cell_type": "markdown",
   "id": "130aa78b-f0cf-4be8-b664-61df50f29c01",
   "metadata": {
    "tags": []
   },
   "source": [
    "# 특성공학과 규제"
   ]
  },
  {
   "cell_type": "markdown",
   "id": "8bc88dc8-6e39-4373-80dd-837da64dff06",
   "metadata": {},
   "source": [
    "## 다중회귀(Multiple Regression)\n",
    "- 여러 개의 특성을 사용한 선형 회귀 알고리즘\n",
    "- 특성공학 : 기존의 특성을 사용해 새로운 특성을 뽑아내는 것"
   ]
  },
  {
   "cell_type": "code",
   "execution_count": 20,
   "id": "faad7fd5-dcb2-4148-b4b3-4f1d4c2f4641",
   "metadata": {
    "ExecuteTime": {
     "end_time": "2022-11-03T00:02:54.176565Z",
     "start_time": "2022-11-03T00:02:53.796777Z"
    },
    "execution": {
     "iopub.execute_input": "2022-11-01T06:40:00.292409Z",
     "iopub.status.busy": "2022-11-01T06:40:00.292409Z",
     "iopub.status.idle": "2022-11-01T06:40:00.379110Z",
     "shell.execute_reply": "2022-11-01T06:40:00.378024Z",
     "shell.execute_reply.started": "2022-11-01T06:40:00.292409Z"
    },
    "tags": []
   },
   "outputs": [],
   "source": [
    "df = pd.read_csv('https://raw.githubusercontent.com/rickiepark/hg-mldl/master/perch_full.csv')"
   ]
  },
  {
   "cell_type": "code",
   "execution_count": 21,
   "id": "cf8bbd47-b46e-4508-9e06-03d9c8a8ce18",
   "metadata": {
    "ExecuteTime": {
     "end_time": "2022-11-03T00:02:54.215833Z",
     "start_time": "2022-11-03T00:02:54.208907Z"
    },
    "execution": {
     "iopub.execute_input": "2022-11-01T06:40:00.568041Z",
     "iopub.status.busy": "2022-11-01T06:40:00.568041Z",
     "iopub.status.idle": "2022-11-01T06:40:00.577069Z",
     "shell.execute_reply": "2022-11-01T06:40:00.575924Z",
     "shell.execute_reply.started": "2022-11-01T06:40:00.568041Z"
    },
    "tags": []
   },
   "outputs": [],
   "source": [
    "raw = df.to_numpy()"
   ]
  },
  {
   "cell_type": "code",
   "execution_count": 22,
   "id": "2fc65bd9-a4c8-4058-8f8c-6d4ad5746142",
   "metadata": {
    "ExecuteTime": {
     "end_time": "2022-11-03T00:02:54.843747Z",
     "start_time": "2022-11-03T00:02:54.828125Z"
    },
    "execution": {
     "iopub.execute_input": "2022-11-01T06:40:00.896676Z",
     "iopub.status.busy": "2022-11-01T06:40:00.896676Z",
     "iopub.status.idle": "2022-11-01T06:40:00.912820Z",
     "shell.execute_reply": "2022-11-01T06:40:00.911871Z",
     "shell.execute_reply.started": "2022-11-01T06:40:00.896676Z"
    },
    "tags": []
   },
   "outputs": [
    {
     "data": {
      "text/plain": [
       "array([[ 8.4 ,  2.11,  1.41],\n",
       "       [13.7 ,  3.53,  2.  ],\n",
       "       [15.  ,  3.82,  2.43],\n",
       "       [16.2 ,  4.59,  2.63],\n",
       "       [17.4 ,  4.59,  2.94],\n",
       "       [18.  ,  5.22,  3.32],\n",
       "       [18.7 ,  5.2 ,  3.12],\n",
       "       [19.  ,  5.64,  3.05],\n",
       "       [19.6 ,  5.14,  3.04],\n",
       "       [20.  ,  5.08,  2.77],\n",
       "       [21.  ,  5.69,  3.56],\n",
       "       [21.  ,  5.92,  3.31],\n",
       "       [21.  ,  5.69,  3.67],\n",
       "       [21.3 ,  6.38,  3.53],\n",
       "       [22.  ,  6.11,  3.41],\n",
       "       [22.  ,  5.64,  3.52],\n",
       "       [22.  ,  6.11,  3.52],\n",
       "       [22.  ,  5.88,  3.52],\n",
       "       [22.  ,  5.52,  4.  ],\n",
       "       [22.5 ,  5.86,  3.62],\n",
       "       [22.5 ,  6.79,  3.62],\n",
       "       [22.7 ,  5.95,  3.63],\n",
       "       [23.  ,  5.22,  3.63],\n",
       "       [23.5 ,  6.28,  3.72],\n",
       "       [24.  ,  7.29,  3.72],\n",
       "       [24.  ,  6.38,  3.82],\n",
       "       [24.6 ,  6.73,  4.17],\n",
       "       [25.  ,  6.44,  3.68],\n",
       "       [25.6 ,  6.56,  4.24],\n",
       "       [26.5 ,  7.17,  4.14],\n",
       "       [27.3 ,  8.32,  5.14],\n",
       "       [27.5 ,  7.17,  4.34],\n",
       "       [27.5 ,  7.05,  4.34],\n",
       "       [27.5 ,  7.28,  4.57],\n",
       "       [28.  ,  7.82,  4.2 ],\n",
       "       [28.7 ,  7.59,  4.64],\n",
       "       [30.  ,  7.62,  4.77],\n",
       "       [32.8 , 10.03,  6.02],\n",
       "       [34.5 , 10.26,  6.39],\n",
       "       [35.  , 11.49,  7.8 ],\n",
       "       [36.5 , 10.88,  6.86],\n",
       "       [36.  , 10.61,  6.74],\n",
       "       [37.  , 10.84,  6.26],\n",
       "       [37.  , 10.57,  6.37],\n",
       "       [39.  , 11.14,  7.49],\n",
       "       [39.  , 11.14,  6.  ],\n",
       "       [39.  , 12.43,  7.35],\n",
       "       [40.  , 11.93,  7.11],\n",
       "       [40.  , 11.73,  7.22],\n",
       "       [40.  , 12.38,  7.46],\n",
       "       [40.  , 11.14,  6.63],\n",
       "       [42.  , 12.8 ,  6.87],\n",
       "       [43.  , 11.93,  7.28],\n",
       "       [43.  , 12.51,  7.42],\n",
       "       [43.5 , 12.6 ,  8.14],\n",
       "       [44.  , 12.49,  7.6 ]])"
      ]
     },
     "execution_count": 22,
     "metadata": {},
     "output_type": "execute_result"
    }
   ],
   "source": [
    "# 생선의 길이, 높이, 두께를 이용한 회귀분석\n",
    "raw"
   ]
  },
  {
   "cell_type": "code",
   "execution_count": 23,
   "id": "fb75c822-e207-4bca-b044-75a9adc64ee3",
   "metadata": {
    "ExecuteTime": {
     "end_time": "2022-11-03T00:02:55.453798Z",
     "start_time": "2022-11-03T00:02:55.437841Z"
    },
    "execution": {
     "iopub.execute_input": "2022-11-01T06:40:01.262160Z",
     "iopub.status.busy": "2022-11-01T06:40:01.262160Z",
     "iopub.status.idle": "2022-11-01T06:40:01.278984Z",
     "shell.execute_reply": "2022-11-01T06:40:01.277034Z",
     "shell.execute_reply.started": "2022-11-01T06:40:01.262160Z"
    },
    "tags": []
   },
   "outputs": [],
   "source": [
    "weight = np.array([5.9, 32.0, 40.0, 51.5, 70.0, 100.0, 78.0, 80.0, 85.0, 85.0, 110.0,\n",
    "       115.0, 125.0, 130.0, 120.0, 120.0, 130.0, 135.0, 110.0, 130.0,\n",
    "       150.0, 145.0, 150.0, 170.0, 225.0, 145.0, 188.0, 180.0, 197.0,\n",
    "       218.0, 300.0, 260.0, 265.0, 250.0, 250.0, 300.0, 320.0, 514.0,\n",
    "       556.0, 840.0, 685.0, 700.0, 700.0, 690.0, 900.0, 650.0, 820.0,\n",
    "       850.0, 900.0, 1015.0, 820.0, 1100.0, 1000.0, 1100.0, 1000.0, 1000.0])"
   ]
  },
  {
   "cell_type": "markdown",
   "id": "fa68199f-7703-4c16-baab-4546fc3183d6",
   "metadata": {
    "tags": []
   },
   "source": [
    "## 데이터 분리"
   ]
  },
  {
   "cell_type": "code",
   "execution_count": 24,
   "id": "36ebac59-f437-4a25-a07e-441408f14b74",
   "metadata": {
    "ExecuteTime": {
     "end_time": "2022-11-03T00:02:56.287135Z",
     "start_time": "2022-11-03T00:02:56.282130Z"
    },
    "execution": {
     "iopub.execute_input": "2022-11-01T06:40:02.396395Z",
     "iopub.status.busy": "2022-11-01T06:40:02.388241Z",
     "iopub.status.idle": "2022-11-01T06:40:02.413619Z",
     "shell.execute_reply": "2022-11-01T06:40:02.413120Z",
     "shell.execute_reply.started": "2022-11-01T06:40:02.396395Z"
    },
    "tags": []
   },
   "outputs": [],
   "source": [
    "train_input, test_input, train_target, test_target = train_test_split(\n",
    "    raw, weight, random_state=42\n",
    ")"
   ]
  },
  {
   "cell_type": "markdown",
   "id": "d1d9bc92-a560-45ac-99a2-8f2a105fd2a3",
   "metadata": {},
   "source": [
    "### 사이킷런 변환기"
   ]
  },
  {
   "cell_type": "code",
   "execution_count": 25,
   "id": "b3203331-e0cd-443c-a4d8-50a095a1df8f",
   "metadata": {
    "ExecuteTime": {
     "end_time": "2022-11-03T00:02:56.725830Z",
     "start_time": "2022-11-03T00:02:56.710531Z"
    },
    "execution": {
     "iopub.execute_input": "2022-11-01T06:40:03.193987Z",
     "iopub.status.busy": "2022-11-01T06:40:03.193987Z",
     "iopub.status.idle": "2022-11-01T06:40:03.211751Z",
     "shell.execute_reply": "2022-11-01T06:40:03.210164Z",
     "shell.execute_reply.started": "2022-11-01T06:40:03.193987Z"
    },
    "tags": []
   },
   "outputs": [],
   "source": [
    "# 다항식 변환기\n",
    "# from sklearn.preprocessing import PolynomialFeatures\n",
    "# PolynomialFeatures : 현재 데이터를 다항식의 형태로 변경하는 역할"
   ]
  },
  {
   "cell_type": "markdown",
   "id": "34634f39-2c38-4257-a6fc-d51dddaeef8a",
   "metadata": {},
   "source": [
    "- 무게 = a*길이 + b*높이 + c*두께 + 1"
   ]
  },
  {
   "cell_type": "code",
   "execution_count": 26,
   "id": "9401951a-4386-48aa-94e1-79fb28d8237f",
   "metadata": {
    "ExecuteTime": {
     "end_time": "2022-11-03T00:02:57.125465Z",
     "start_time": "2022-11-03T00:02:57.109841Z"
    },
    "execution": {
     "iopub.execute_input": "2022-11-01T06:40:06.384513Z",
     "iopub.status.busy": "2022-11-01T06:40:06.375977Z",
     "iopub.status.idle": "2022-11-01T06:40:06.399899Z",
     "shell.execute_reply": "2022-11-01T06:40:06.399899Z",
     "shell.execute_reply.started": "2022-11-01T06:40:06.384513Z"
    },
    "tags": []
   },
   "outputs": [],
   "source": [
    "poly = PolynomialFeatures(include_bias=False)\n",
    "poly.fit(train_input)\n",
    "train_poly = poly.transform(train_input)\n",
    "# 컬럼명 추출\n",
    "poly.get_feature_names()\n",
    "test_poly = poly.transform(test_input)"
   ]
  },
  {
   "cell_type": "markdown",
   "id": "56ad46aa-03a5-4a3a-8e54-debccce8f877",
   "metadata": {},
   "source": [
    "### 다중 회귀 모델"
   ]
  },
  {
   "cell_type": "code",
   "execution_count": 27,
   "id": "c03bf91d-48a2-47c5-986f-e7a18111c8b9",
   "metadata": {
    "ExecuteTime": {
     "end_time": "2022-11-03T00:02:57.525537Z",
     "start_time": "2022-11-03T00:02:57.510035Z"
    },
    "execution": {
     "iopub.execute_input": "2022-11-01T06:41:02.080094Z",
     "iopub.status.busy": "2022-11-01T06:41:02.080094Z",
     "iopub.status.idle": "2022-11-01T06:41:02.096082Z",
     "shell.execute_reply": "2022-11-01T06:41:02.094730Z",
     "shell.execute_reply.started": "2022-11-01T06:41:02.080094Z"
    },
    "tags": []
   },
   "outputs": [
    {
     "data": {
      "text/plain": [
       "LinearRegression()"
      ]
     },
     "execution_count": 27,
     "metadata": {},
     "output_type": "execute_result"
    }
   ],
   "source": [
    "# from sklearn.linear_model import LinearRegression\n",
    "lr = LinearRegression()\n",
    "lr.fit(train_poly, train_target)"
   ]
  },
  {
   "cell_type": "code",
   "execution_count": 28,
   "id": "79118b1d-aa44-404e-8cb8-e4a034013e75",
   "metadata": {
    "ExecuteTime": {
     "end_time": "2022-11-03T00:02:57.711118Z",
     "start_time": "2022-11-03T00:02:57.698160Z"
    },
    "execution": {
     "iopub.execute_input": "2022-11-01T06:41:02.354684Z",
     "iopub.status.busy": "2022-11-01T06:41:02.354684Z",
     "iopub.status.idle": "2022-11-01T06:41:02.371563Z",
     "shell.execute_reply": "2022-11-01T06:41:02.370547Z",
     "shell.execute_reply.started": "2022-11-01T06:41:02.354684Z"
    },
    "tags": []
   },
   "outputs": [
    {
     "data": {
      "text/plain": [
       "0.9903183436982125"
      ]
     },
     "execution_count": 28,
     "metadata": {},
     "output_type": "execute_result"
    }
   ],
   "source": [
    "lr.score(train_poly, train_target)"
   ]
  },
  {
   "cell_type": "code",
   "execution_count": 29,
   "id": "54264ef4-5701-4432-befc-f4e138a06983",
   "metadata": {
    "ExecuteTime": {
     "end_time": "2022-11-03T00:02:57.891447Z",
     "start_time": "2022-11-03T00:02:57.859923Z"
    },
    "execution": {
     "iopub.execute_input": "2022-11-01T06:41:02.770128Z",
     "iopub.status.busy": "2022-11-01T06:41:02.770128Z",
     "iopub.status.idle": "2022-11-01T06:41:02.786457Z",
     "shell.execute_reply": "2022-11-01T06:41:02.785703Z",
     "shell.execute_reply.started": "2022-11-01T06:41:02.770128Z"
    },
    "tags": []
   },
   "outputs": [
    {
     "data": {
      "text/plain": [
       "0.9714559911594155"
      ]
     },
     "execution_count": 29,
     "metadata": {},
     "output_type": "execute_result"
    }
   ],
   "source": [
    "lr.score(test_poly, test_target)"
   ]
  },
  {
   "cell_type": "code",
   "execution_count": 30,
   "id": "e7712883-1d18-471d-a5d1-14979c4120da",
   "metadata": {
    "ExecuteTime": {
     "end_time": "2022-11-03T00:02:58.041954Z",
     "start_time": "2022-11-03T00:02:58.026264Z"
    },
    "execution": {
     "iopub.execute_input": "2022-11-01T06:41:03.484965Z",
     "iopub.status.busy": "2022-11-01T06:41:03.484965Z",
     "iopub.status.idle": "2022-11-01T06:41:03.512259Z",
     "shell.execute_reply": "2022-11-01T06:41:03.510729Z",
     "shell.execute_reply.started": "2022-11-01T06:41:03.484965Z"
    },
    "tags": []
   },
   "outputs": [
    {
     "data": {
      "text/plain": [
       "(42, 55)"
      ]
     },
     "execution_count": 30,
     "metadata": {},
     "output_type": "execute_result"
    }
   ],
   "source": [
    "poly = PolynomialFeatures(degree=5, include_bias=False)\n",
    "poly.fit(train_input)\n",
    "train_poly = poly.transform(train_input)\n",
    "test_poly = poly.transform(test_input)\n",
    "train_poly.shape"
   ]
  },
  {
   "cell_type": "code",
   "execution_count": 31,
   "id": "2f4ed062-073f-4447-8710-5c763018fbf9",
   "metadata": {
    "ExecuteTime": {
     "end_time": "2022-11-03T00:02:58.573431Z",
     "start_time": "2022-11-03T00:02:58.555206Z"
    },
    "execution": {
     "iopub.execute_input": "2022-11-01T06:41:07.932040Z",
     "iopub.status.busy": "2022-11-01T06:41:07.932040Z",
     "iopub.status.idle": "2022-11-01T06:41:07.970466Z",
     "shell.execute_reply": "2022-11-01T06:41:07.970466Z",
     "shell.execute_reply.started": "2022-11-01T06:41:07.932040Z"
    },
    "tags": []
   },
   "outputs": [
    {
     "data": {
      "text/plain": [
       "-144.40744532797535"
      ]
     },
     "execution_count": 31,
     "metadata": {},
     "output_type": "execute_result"
    }
   ],
   "source": [
    "lr.fit(train_poly, train_target)\n",
    "lr.score(train_poly, train_target)\n",
    "lr.score(test_poly, test_target)"
   ]
  },
  {
   "cell_type": "markdown",
   "id": "a8316d5a-d2d6-4ca5-a92f-7e0cb06fa9a6",
   "metadata": {},
   "source": [
    "### 규제\n",
    "- ML 모델이 과대적합되지 않도록 만드는 것\n",
    "- 선형 회귀 모델의 경우 특성에 곱해지는 계수(기울기)의 크기를 작게 만드는 일"
   ]
  },
  {
   "cell_type": "code",
   "execution_count": 32,
   "id": "0d7acf5a-b68f-40ee-8326-b14f9fb50621",
   "metadata": {
    "ExecuteTime": {
     "end_time": "2022-11-03T00:02:58.788614Z",
     "start_time": "2022-11-03T00:02:58.783629Z"
    },
    "execution": {
     "iopub.execute_input": "2022-11-01T06:41:10.100607Z",
     "iopub.status.busy": "2022-11-01T06:41:10.100607Z",
     "iopub.status.idle": "2022-11-01T06:41:10.122776Z",
     "shell.execute_reply": "2022-11-01T06:41:10.121451Z",
     "shell.execute_reply.started": "2022-11-01T06:41:10.100607Z"
    },
    "tags": []
   },
   "outputs": [],
   "source": [
    "# from sklearn.preprocessing import StandardScaler\n",
    "ss = StandardScaler()\n",
    "ss.fit(train_poly)\n",
    "train_scaled = ss.transform(train_poly)\n",
    "test_scaled = ss.transform(test_poly)"
   ]
  },
  {
   "cell_type": "markdown",
   "id": "f4620c68-70d3-4071-bb49-82cc3736c7c2",
   "metadata": {
    "tags": []
   },
   "source": [
    "## 릿지 회귀 : ridge regression"
   ]
  },
  {
   "cell_type": "code",
   "execution_count": 33,
   "id": "a9a5aeb6-10a3-48b9-a78b-b8c5d693c5f4",
   "metadata": {
    "ExecuteTime": {
     "end_time": "2022-11-03T00:02:58.952652Z",
     "start_time": "2022-11-03T00:02:58.945672Z"
    },
    "execution": {
     "iopub.execute_input": "2022-11-01T06:41:11.699111Z",
     "iopub.status.busy": "2022-11-01T06:41:11.699111Z",
     "iopub.status.idle": "2022-11-01T06:41:11.733888Z",
     "shell.execute_reply": "2022-11-01T06:41:11.732641Z",
     "shell.execute_reply.started": "2022-11-01T06:41:11.699111Z"
    },
    "tags": []
   },
   "outputs": [
    {
     "name": "stdout",
     "output_type": "stream",
     "text": [
      "0.9896101671037343\n"
     ]
    }
   ],
   "source": [
    "# from sklearn.linear_model import Ridge\n",
    "ridge = Ridge()\n",
    "ridge.fit(train_scaled, train_target)\n",
    "print(ridge.score(train_scaled, train_target))"
   ]
  },
  {
   "cell_type": "code",
   "execution_count": 34,
   "id": "118f56f6-a124-4ccc-96d6-feb33d5bb4a3",
   "metadata": {
    "ExecuteTime": {
     "end_time": "2022-11-03T00:02:59.056375Z",
     "start_time": "2022-11-03T00:02:59.043410Z"
    },
    "execution": {
     "iopub.execute_input": "2022-11-01T06:41:13.219642Z",
     "iopub.status.busy": "2022-11-01T06:41:13.219642Z",
     "iopub.status.idle": "2022-11-01T06:41:13.236078Z",
     "shell.execute_reply": "2022-11-01T06:41:13.235282Z",
     "shell.execute_reply.started": "2022-11-01T06:41:13.219642Z"
    },
    "tags": []
   },
   "outputs": [
    {
     "data": {
      "text/plain": [
       "0.9790693977615386"
      ]
     },
     "execution_count": 34,
     "metadata": {},
     "output_type": "execute_result"
    }
   ],
   "source": [
    "ridge.score(test_scaled, test_target)"
   ]
  },
  {
   "cell_type": "markdown",
   "id": "286c95d6-95fd-410c-a837-5d881291d330",
   "metadata": {},
   "source": [
    "- 릿지 회귀(Ridge Regression) 모델 : 계수를 제곱한 값을 기준으로 규제 적용\n",
    "- 라쏘 회귀(Lasso Regression) 모델 : 계수의 절대값을 기준으로 규제 적용\n",
    "- 두 알고리즘 모두 계수의 크기를 줄이지만 라소는 아예 0으로 만들 수 있어서 릿지를 더 선호\n",
    "- alpha : 릿지와 라쏘 모델을 사용할 때 규제의 양을 임의로 조절하는 하이퍼파라미터\n",
    "- alpha 값이 크면 규제강도가 세지므로 계수값을 더 줄이고 조금 더 과소적합되도록 유도한다.\n",
    "- alpha 값이 작으면 계수를 줄이는 역할이 줄어들고 선형 회귀모델과 유사해지므로 과대적합될 가능성이 크다.\n",
    "- 하이퍼파라미터(Hyperparameter) : ML 모델이 학습할 수 없고 사람이 알려줘야 하는 파라미터"
   ]
  },
  {
   "cell_type": "code",
   "execution_count": 35,
   "id": "cf0dda13-aa1d-4640-8c95-ab630e47c00a",
   "metadata": {
    "ExecuteTime": {
     "end_time": "2022-11-03T00:02:59.250751Z",
     "start_time": "2022-11-03T00:02:59.225818Z"
    },
    "execution": {
     "iopub.execute_input": "2022-11-01T07:22:06.373734Z",
     "iopub.status.busy": "2022-11-01T07:22:06.373734Z",
     "iopub.status.idle": "2022-11-01T07:22:06.409315Z",
     "shell.execute_reply": "2022-11-01T07:22:06.409315Z",
     "shell.execute_reply.started": "2022-11-01T07:22:06.373734Z"
    }
   },
   "outputs": [],
   "source": [
    "# 훈련세트와 테스트세트의 점수가 가장 가까운 지점이 최적의 alpha값이 된다.\n",
    "train_score = []\n",
    "test_score = []\n",
    "\n",
    "alpha_list = [0.001, 0.01, 0.1, 1, 10, 100]\n",
    "\n",
    "for alpha in alpha_list:\n",
    "    # ridge model\n",
    "    ridge = Ridge(alpha=alpha)\n",
    "    # ridge model\n",
    "    ridge.fit(train_scaled, train_target)\n",
    "    # R^2 score(결정계수)\n",
    "    train_score.append(ridge.score(train_scaled, train_target))\n",
    "    test_score.append(ridge.score(test_scaled, test_target))"
   ]
  },
  {
   "cell_type": "code",
   "execution_count": 36,
   "id": "57739311-90dc-460f-b897-63a0a56e2dd6",
   "metadata": {
    "ExecuteTime": {
     "end_time": "2022-11-03T00:02:59.463494Z",
     "start_time": "2022-11-03T00:02:59.330122Z"
    },
    "execution": {
     "iopub.execute_input": "2022-11-01T07:25:51.802211Z",
     "iopub.status.busy": "2022-11-01T07:25:51.802211Z",
     "iopub.status.idle": "2022-11-01T07:25:51.999025Z",
     "shell.execute_reply": "2022-11-01T07:25:51.997618Z",
     "shell.execute_reply.started": "2022-11-01T07:25:51.802211Z"
    },
    "tags": []
   },
   "outputs": [
    {
     "data": {
      "image/png": "[encoded data removed]",
      "text/plain": [
       "<Figure size 432x288 with 1 Axes>"
      ]
     },
     "metadata": {
      "needs_background": "light"
     },
     "output_type": "display_data"
    }
   ],
   "source": [
    "plt.plot(np.log10(alpha_list), train_score)\n",
    "plt.plot(np.log10(alpha_list), test_score)\n",
    "plt.xlabel('alpha')\n",
    "plt.ylabel('R^2(결정계수)')\n",
    "plt.show()\n",
    "# 최적 alpha값은 0.1"
   ]
  },
  {
   "cell_type": "code",
   "execution_count": 37,
   "id": "5004ad7f-00b0-4693-a56c-114b799dd48a",
   "metadata": {
    "ExecuteTime": {
     "end_time": "2022-11-03T00:02:59.524394Z",
     "start_time": "2022-11-03T00:02:59.508772Z"
    },
    "execution": {
     "iopub.execute_input": "2022-11-01T07:28:47.232208Z",
     "iopub.status.busy": "2022-11-01T07:28:47.228945Z",
     "iopub.status.idle": "2022-11-01T07:28:47.259189Z",
     "shell.execute_reply": "2022-11-01T07:28:47.259189Z",
     "shell.execute_reply.started": "2022-11-01T07:28:47.232208Z"
    }
   },
   "outputs": [
    {
     "name": "stdout",
     "output_type": "stream",
     "text": [
      "0.9903815817570368\n",
      "0.9827976465386896\n"
     ]
    }
   ],
   "source": [
    "ridge = Ridge(alpha=0.1)\n",
    "ridge.fit(train_scaled, train_target)\n",
    "print(ridge.score(train_scaled, train_target))\n",
    "print(ridge.score(test_scaled, test_target))"
   ]
  },
  {
   "cell_type": "markdown",
   "id": "1858855f-759e-4aea-83e4-0a5f39315cda",
   "metadata": {
    "tags": []
   },
   "source": [
    "## 라쏘 회귀 : lasso Regression"
   ]
  },
  {
   "cell_type": "code",
   "execution_count": 38,
   "id": "ad8eb41f-8887-4e0d-a583-26d489db3a07",
   "metadata": {
    "ExecuteTime": {
     "end_time": "2022-11-03T00:02:59.891128Z",
     "start_time": "2022-11-03T00:02:59.875728Z"
    },
    "execution": {
     "iopub.execute_input": "2022-11-01T07:32:25.581525Z",
     "iopub.status.busy": "2022-11-01T07:32:25.581525Z",
     "iopub.status.idle": "2022-11-01T07:32:25.624719Z",
     "shell.execute_reply": "2022-11-01T07:32:25.623576Z",
     "shell.execute_reply.started": "2022-11-01T07:32:25.581525Z"
    },
    "tags": []
   },
   "outputs": [
    {
     "name": "stdout",
     "output_type": "stream",
     "text": [
      "0.989789897208096\n",
      "0.9800593698421884\n"
     ]
    }
   ],
   "source": [
    "# import Lasso\n",
    "lasso = Lasso()\n",
    "lasso.fit(train_scaled, train_target)\n",
    "print(lasso.score(train_scaled, train_target))\n",
    "print(lasso.score(test_scaled, test_target))"
   ]
  },
  {
   "cell_type": "code",
   "execution_count": 39,
   "id": "fb1c16de-16be-4a5e-8efb-e6be21f53657",
   "metadata": {
    "ExecuteTime": {
     "end_time": "2022-11-03T00:02:59.997196Z",
     "start_time": "2022-11-03T00:02:59.959713Z"
    },
    "execution": {
     "iopub.execute_input": "2022-11-01T07:34:08.085013Z",
     "iopub.status.busy": "2022-11-01T07:34:08.085013Z",
     "iopub.status.idle": "2022-11-01T07:34:08.263785Z",
     "shell.execute_reply": "2022-11-01T07:34:08.262780Z",
     "shell.execute_reply.started": "2022-11-01T07:34:08.085013Z"
    }
   },
   "outputs": [
    {
     "name": "stderr",
     "output_type": "stream",
     "text": [
      "C:\\Ananconda3\\lib\\site-packages\\sklearn\\linear_model\\_coordinate_descent.py:530: ConvergenceWarning: Objective did not converge. You might want to increase the number of iterations. Duality gap: 23364.075969939724, tolerance: 518.2793833333334\n",
      "  model = cd_fast.enet_coordinate_descent(\n",
      "C:\\Ananconda3\\lib\\site-packages\\sklearn\\linear_model\\_coordinate_descent.py:530: ConvergenceWarning: Objective did not converge. You might want to increase the number of iterations. Duality gap: 20251.975097475362, tolerance: 518.2793833333334\n",
      "  model = cd_fast.enet_coordinate_descent(\n",
      "C:\\Ananconda3\\lib\\site-packages\\sklearn\\linear_model\\_coordinate_descent.py:530: ConvergenceWarning: Objective did not converge. You might want to increase the number of iterations. Duality gap: 806.2370926335934, tolerance: 518.2793833333334\n",
      "  model = cd_fast.enet_coordinate_descent(\n"
     ]
    }
   ],
   "source": [
    "# 훈련세트와 테스트세트의 점수가 가장 가까운 지점이 최적의 alpha값이 된다.\n",
    "train_score = []\n",
    "test_score = []\n",
    "\n",
    "alpha_list = [0.001, 0.01, 0.1, 1, 10, 100]\n",
    "\n",
    "for alpha in alpha_list:\n",
    "    # lasso model\n",
    "    lasso = Lasso(alpha=alpha)\n",
    "    # lasso model\n",
    "    lasso.fit(train_scaled, train_target)\n",
    "    # R^2 score(결정계수)\n",
    "    train_score.append(lasso.score(train_scaled, train_target))\n",
    "    test_score.append(lasso.score(test_scaled, test_target))"
   ]
  },
  {
   "cell_type": "code",
   "execution_count": 40,
   "id": "475823bb-d662-4fe1-b594-d534b718cb43",
   "metadata": {
    "ExecuteTime": {
     "end_time": "2022-11-03T00:03:00.224381Z",
     "start_time": "2022-11-03T00:03:00.073134Z"
    },
    "execution": {
     "iopub.execute_input": "2022-11-01T07:35:41.374825Z",
     "iopub.status.busy": "2022-11-01T07:35:41.374825Z",
     "iopub.status.idle": "2022-11-01T07:35:41.554311Z",
     "shell.execute_reply": "2022-11-01T07:35:41.552956Z",
     "shell.execute_reply.started": "2022-11-01T07:35:41.374825Z"
    },
    "tags": []
   },
   "outputs": [
    {
     "data": {
      "image/png": "[encoded data removed]",
      "text/plain": [
       "<Figure size 432x288 with 1 Axes>"
      ]
     },
     "metadata": {
      "needs_background": "light"
     },
     "output_type": "display_data"
    }
   ],
   "source": [
    "plt.plot(np.log10(alpha_list), train_score)\n",
    "plt.plot(np.log10(alpha_list), test_score)\n",
    "plt.xlabel('alpha')\n",
    "plt.ylabel('R^2(결정계수)')\n",
    "plt.show()\n",
    "# 최적 alpha값은 10"
   ]
  },
  {
   "cell_type": "code",
   "execution_count": 41,
   "id": "1062c70f-8bbe-4f7d-b5f7-bab349b2a2e4",
   "metadata": {
    "ExecuteTime": {
     "end_time": "2022-11-03T00:03:00.274827Z",
     "start_time": "2022-11-03T00:03:00.257660Z"
    },
    "execution": {
     "iopub.execute_input": "2022-11-01T07:35:50.966016Z",
     "iopub.status.busy": "2022-11-01T07:35:50.957618Z",
     "iopub.status.idle": "2022-11-01T07:35:51.003640Z",
     "shell.execute_reply": "2022-11-01T07:35:51.003640Z",
     "shell.execute_reply.started": "2022-11-01T07:35:50.966016Z"
    }
   },
   "outputs": [
    {
     "name": "stdout",
     "output_type": "stream",
     "text": [
      "0.9888067471131867\n",
      "0.9824470598706695\n"
     ]
    }
   ],
   "source": [
    "# import Lasso\n",
    "lasso = Lasso(alpha=10)\n",
    "lasso.fit(train_scaled, train_target)\n",
    "print(lasso.score(train_scaled, train_target))\n",
    "print(lasso.score(test_scaled, test_target))"
   ]
  },
  {
   "cell_type": "code",
   "execution_count": 42,
   "id": "48c37c83-8b68-4163-bf76-cb0d072fe264",
   "metadata": {
    "ExecuteTime": {
     "end_time": "2022-11-03T00:03:00.323264Z",
     "start_time": "2022-11-03T00:03:00.308208Z"
    },
    "execution": {
     "iopub.execute_input": "2022-11-01T07:36:42.595950Z",
     "iopub.status.busy": "2022-11-01T07:36:42.595950Z",
     "iopub.status.idle": "2022-11-01T07:36:42.615258Z",
     "shell.execute_reply": "2022-11-01T07:36:42.613978Z",
     "shell.execute_reply.started": "2022-11-01T07:36:42.595950Z"
    },
    "tags": []
   },
   "outputs": [
    {
     "data": {
      "text/plain": [
       "40"
      ]
     },
     "execution_count": 42,
     "metadata": {},
     "output_type": "execute_result"
    }
   ],
   "source": [
    "np.sum(lasso.coef_ == 0)"
   ]
  },
  {
   "cell_type": "markdown",
   "id": "2673b33e-e20d-449a-a019-574f0181e1db",
   "metadata": {},
   "source": [
    "# 실습문제 : 보스턴 집값 예측"
   ]
  },
  {
   "cell_type": "code",
   "execution_count": 43,
   "id": "af4cbd86-832a-402c-8ac7-23b8bd5f3510",
   "metadata": {
    "ExecuteTime": {
     "end_time": "2022-11-03T00:03:00.887760Z",
     "start_time": "2022-11-03T00:03:00.865814Z"
    },
    "execution": {
     "iopub.execute_input": "2022-11-02T08:17:03.848626Z",
     "iopub.status.busy": "2022-11-02T08:17:03.848626Z",
     "iopub.status.idle": "2022-11-02T08:17:03.881642Z",
     "shell.execute_reply": "2022-11-02T08:17:03.880625Z",
     "shell.execute_reply.started": "2022-11-02T08:17:03.848626Z"
    },
    "tags": []
   },
   "outputs": [
    {
     "data": {
      "text/plain": [
       "['DESCR', 'data', 'feature_names', 'filename', 'target']"
      ]
     },
     "execution_count": 43,
     "metadata": {},
     "output_type": "execute_result"
    }
   ],
   "source": [
    "boston = load_boston()\n",
    "dir(boston)"
   ]
  },
  {
   "cell_type": "code",
   "execution_count": 44,
   "id": "24c9dbcc-9873-45da-a80b-bb5d5c8ab2c8",
   "metadata": {
    "ExecuteTime": {
     "end_time": "2022-11-03T00:03:01.256550Z",
     "start_time": "2022-11-03T00:03:01.240920Z"
    },
    "execution": {
     "iopub.execute_input": "2022-11-02T08:17:05.394689Z",
     "iopub.status.busy": "2022-11-02T08:17:05.394689Z",
     "iopub.status.idle": "2022-11-02T08:17:05.416173Z",
     "shell.execute_reply": "2022-11-02T08:17:05.414173Z",
     "shell.execute_reply.started": "2022-11-02T08:17:05.394689Z"
    },
    "tags": []
   },
   "outputs": [
    {
     "data": {
      "text/plain": [
       "(506, 13)"
      ]
     },
     "execution_count": 44,
     "metadata": {},
     "output_type": "execute_result"
    }
   ],
   "source": [
    "boston.data.shape"
   ]
  },
  {
   "cell_type": "code",
   "execution_count": 45,
   "id": "4143e38b-9d85-4214-822f-b275bfba76b4",
   "metadata": {
    "ExecuteTime": {
     "end_time": "2022-11-03T00:03:01.440393Z",
     "start_time": "2022-11-03T00:03:01.425042Z"
    },
    "execution": {
     "iopub.execute_input": "2022-11-02T08:17:06.007293Z",
     "iopub.status.busy": "2022-11-02T08:17:06.007293Z",
     "iopub.status.idle": "2022-11-02T08:17:06.023764Z",
     "shell.execute_reply": "2022-11-02T08:17:06.021761Z",
     "shell.execute_reply.started": "2022-11-02T08:17:06.007293Z"
    },
    "tags": []
   },
   "outputs": [
    {
     "data": {
      "text/plain": [
       "(506,)"
      ]
     },
     "execution_count": 45,
     "metadata": {},
     "output_type": "execute_result"
    }
   ],
   "source": [
    "boston.target.shape"
   ]
  },
  {
   "cell_type": "code",
   "execution_count": 46,
   "id": "5a8d03aa-c641-4402-9648-242852700640",
   "metadata": {
    "ExecuteTime": {
     "end_time": "2022-11-03T00:03:01.640355Z",
     "start_time": "2022-11-03T00:03:01.624880Z"
    },
    "execution": {
     "iopub.execute_input": "2022-11-02T08:17:06.488094Z",
     "iopub.status.busy": "2022-11-02T08:17:06.488094Z",
     "iopub.status.idle": "2022-11-02T08:17:06.496996Z",
     "shell.execute_reply": "2022-11-02T08:17:06.495995Z",
     "shell.execute_reply.started": "2022-11-02T08:17:06.488094Z"
    },
    "tags": []
   },
   "outputs": [],
   "source": [
    "bos_df = pd.DataFrame(boston.data, columns=boston.feature_names)"
   ]
  },
  {
   "cell_type": "code",
   "execution_count": 47,
   "id": "df939516-690f-49a3-ab82-d1b31b2901e8",
   "metadata": {
    "ExecuteTime": {
     "end_time": "2022-11-03T00:03:01.872192Z",
     "start_time": "2022-11-03T00:03:01.824685Z"
    },
    "execution": {
     "iopub.execute_input": "2022-11-02T08:17:07.298343Z",
     "iopub.status.busy": "2022-11-02T08:17:07.298343Z",
     "iopub.status.idle": "2022-11-02T08:17:07.363678Z",
     "shell.execute_reply": "2022-11-02T08:17:07.362677Z",
     "shell.execute_reply.started": "2022-11-02T08:17:07.298343Z"
    },
    "tags": []
   },
   "outputs": [
    {
     "data": {
      "text/html": [
       "<div>\n",
       "<style scoped>\n",
       "    .dataframe tbody tr th:only-of-type {\n",
       "        vertical-align: middle;\n",
       "    }\n",
       "\n",
       "    .dataframe tbody tr th {\n",
       "        vertical-align: top;\n",
       "    }\n",
       "\n",
       "    .dataframe thead th {\n",
       "        text-align: right;\n",
       "    }\n",
       "</style>\n",
       "<table border=\"1\" class=\"dataframe\">\n",
       "  <thead>\n",
       "    <tr style=\"text-align: right;\">\n",
       "      <th></th>\n",
       "      <th>CRIM</th>\n",
       "      <th>ZN</th>\n",
       "      <th>INDUS</th>\n",
       "      <th>CHAS</th>\n",
       "      <th>NOX</th>\n",
       "      <th>RM</th>\n",
       "      <th>AGE</th>\n",
       "      <th>DIS</th>\n",
       "      <th>RAD</th>\n",
       "      <th>TAX</th>\n",
       "      <th>PTRATIO</th>\n",
       "      <th>B</th>\n",
       "      <th>LSTAT</th>\n",
       "    </tr>\n",
       "  </thead>\n",
       "  <tbody>\n",
       "    <tr>\n",
       "      <th>0</th>\n",
       "      <td>0.00632</td>\n",
       "      <td>18.0</td>\n",
       "      <td>2.31</td>\n",
       "      <td>0.0</td>\n",
       "      <td>0.538</td>\n",
       "      <td>6.575</td>\n",
       "      <td>65.2</td>\n",
       "      <td>4.0900</td>\n",
       "      <td>1.0</td>\n",
       "      <td>296.0</td>\n",
       "      <td>15.3</td>\n",
       "      <td>396.90</td>\n",
       "      <td>4.98</td>\n",
       "    </tr>\n",
       "    <tr>\n",
       "      <th>1</th>\n",
       "      <td>0.02731</td>\n",
       "      <td>0.0</td>\n",
       "      <td>7.07</td>\n",
       "      <td>0.0</td>\n",
       "      <td>0.469</td>\n",
       "      <td>6.421</td>\n",
       "      <td>78.9</td>\n",
       "      <td>4.9671</td>\n",
       "      <td>2.0</td>\n",
       "      <td>242.0</td>\n",
       "      <td>17.8</td>\n",
       "      <td>396.90</td>\n",
       "      <td>9.14</td>\n",
       "    </tr>\n",
       "    <tr>\n",
       "      <th>2</th>\n",
       "      <td>0.02729</td>\n",
       "      <td>0.0</td>\n",
       "      <td>7.07</td>\n",
       "      <td>0.0</td>\n",
       "      <td>0.469</td>\n",
       "      <td>7.185</td>\n",
       "      <td>61.1</td>\n",
       "      <td>4.9671</td>\n",
       "      <td>2.0</td>\n",
       "      <td>242.0</td>\n",
       "      <td>17.8</td>\n",
       "      <td>392.83</td>\n",
       "      <td>4.03</td>\n",
       "    </tr>\n",
       "    <tr>\n",
       "      <th>3</th>\n",
       "      <td>0.03237</td>\n",
       "      <td>0.0</td>\n",
       "      <td>2.18</td>\n",
       "      <td>0.0</td>\n",
       "      <td>0.458</td>\n",
       "      <td>6.998</td>\n",
       "      <td>45.8</td>\n",
       "      <td>6.0622</td>\n",
       "      <td>3.0</td>\n",
       "      <td>222.0</td>\n",
       "      <td>18.7</td>\n",
       "      <td>394.63</td>\n",
       "      <td>2.94</td>\n",
       "    </tr>\n",
       "    <tr>\n",
       "      <th>4</th>\n",
       "      <td>0.06905</td>\n",
       "      <td>0.0</td>\n",
       "      <td>2.18</td>\n",
       "      <td>0.0</td>\n",
       "      <td>0.458</td>\n",
       "      <td>7.147</td>\n",
       "      <td>54.2</td>\n",
       "      <td>6.0622</td>\n",
       "      <td>3.0</td>\n",
       "      <td>222.0</td>\n",
       "      <td>18.7</td>\n",
       "      <td>396.90</td>\n",
       "      <td>5.33</td>\n",
       "    </tr>\n",
       "    <tr>\n",
       "      <th>...</th>\n",
       "      <td>...</td>\n",
       "      <td>...</td>\n",
       "      <td>...</td>\n",
       "      <td>...</td>\n",
       "      <td>...</td>\n",
       "      <td>...</td>\n",
       "      <td>...</td>\n",
       "      <td>...</td>\n",
       "      <td>...</td>\n",
       "      <td>...</td>\n",
       "      <td>...</td>\n",
       "      <td>...</td>\n",
       "      <td>...</td>\n",
       "    </tr>\n",
       "    <tr>\n",
       "      <th>501</th>\n",
       "      <td>0.06263</td>\n",
       "      <td>0.0</td>\n",
       "      <td>11.93</td>\n",
       "      <td>0.0</td>\n",
       "      <td>0.573</td>\n",
       "      <td>6.593</td>\n",
       "      <td>69.1</td>\n",
       "      <td>2.4786</td>\n",
       "      <td>1.0</td>\n",
       "      <td>273.0</td>\n",
       "      <td>21.0</td>\n",
       "      <td>391.99</td>\n",
       "      <td>9.67</td>\n",
       "    </tr>\n",
       "    <tr>\n",
       "      <th>502</th>\n",
       "      <td>0.04527</td>\n",
       "      <td>0.0</td>\n",
       "      <td>11.93</td>\n",
       "      <td>0.0</td>\n",
       "      <td>0.573</td>\n",
       "      <td>6.120</td>\n",
       "      <td>76.7</td>\n",
       "      <td>2.2875</td>\n",
       "      <td>1.0</td>\n",
       "      <td>273.0</td>\n",
       "      <td>21.0</td>\n",
       "      <td>396.90</td>\n",
       "      <td>9.08</td>\n",
       "    </tr>\n",
       "    <tr>\n",
       "      <th>503</th>\n",
       "      <td>0.06076</td>\n",
       "      <td>0.0</td>\n",
       "      <td>11.93</td>\n",
       "      <td>0.0</td>\n",
       "      <td>0.573</td>\n",
       "      <td>6.976</td>\n",
       "      <td>91.0</td>\n",
       "      <td>2.1675</td>\n",
       "      <td>1.0</td>\n",
       "      <td>273.0</td>\n",
       "      <td>21.0</td>\n",
       "      <td>396.90</td>\n",
       "      <td>5.64</td>\n",
       "    </tr>\n",
       "    <tr>\n",
       "      <th>504</th>\n",
       "      <td>0.10959</td>\n",
       "      <td>0.0</td>\n",
       "      <td>11.93</td>\n",
       "      <td>0.0</td>\n",
       "      <td>0.573</td>\n",
       "      <td>6.794</td>\n",
       "      <td>89.3</td>\n",
       "      <td>2.3889</td>\n",
       "      <td>1.0</td>\n",
       "      <td>273.0</td>\n",
       "      <td>21.0</td>\n",
       "      <td>393.45</td>\n",
       "      <td>6.48</td>\n",
       "    </tr>\n",
       "    <tr>\n",
       "      <th>505</th>\n",
       "      <td>0.04741</td>\n",
       "      <td>0.0</td>\n",
       "      <td>11.93</td>\n",
       "      <td>0.0</td>\n",
       "      <td>0.573</td>\n",
       "      <td>6.030</td>\n",
       "      <td>80.8</td>\n",
       "      <td>2.5050</td>\n",
       "      <td>1.0</td>\n",
       "      <td>273.0</td>\n",
       "      <td>21.0</td>\n",
       "      <td>396.90</td>\n",
       "      <td>7.88</td>\n",
       "    </tr>\n",
       "  </tbody>\n",
       "</table>\n",
       "<p>506 rows × 13 columns</p>\n",
       "</div>"
      ],
      "text/plain": [
       "        CRIM    ZN  INDUS  CHAS    NOX     RM   AGE     DIS  RAD    TAX  \\\n",
       "0    0.00632  18.0   2.31   0.0  0.538  6.575  65.2  4.0900  1.0  296.0   \n",
       "1    0.02731   0.0   7.07   0.0  0.469  6.421  78.9  4.9671  2.0  242.0   \n",
       "2    0.02729   0.0   7.07   0.0  0.469  7.185  61.1  4.9671  2.0  242.0   \n",
       "3    0.03237   0.0   2.18   0.0  0.458  6.998  45.8  6.0622  3.0  222.0   \n",
       "4    0.06905   0.0   2.18   0.0  0.458  7.147  54.2  6.0622  3.0  222.0   \n",
       "..       ...   ...    ...   ...    ...    ...   ...     ...  ...    ...   \n",
       "501  0.06263   0.0  11.93   0.0  0.573  6.593  69.1  2.4786  1.0  273.0   \n",
       "502  0.04527   0.0  11.93   0.0  0.573  6.120  76.7  2.2875  1.0  273.0   \n",
       "503  0.06076   0.0  11.93   0.0  0.573  6.976  91.0  2.1675  1.0  273.0   \n",
       "504  0.10959   0.0  11.93   0.0  0.573  6.794  89.3  2.3889  1.0  273.0   \n",
       "505  0.04741   0.0  11.93   0.0  0.573  6.030  80.8  2.5050  1.0  273.0   \n",
       "\n",
       "     PTRATIO       B  LSTAT  \n",
       "0       15.3  396.90   4.98  \n",
       "1       17.8  396.90   9.14  \n",
       "2       17.8  392.83   4.03  \n",
       "3       18.7  394.63   2.94  \n",
       "4       18.7  396.90   5.33  \n",
       "..       ...     ...    ...  \n",
       "501     21.0  391.99   9.67  \n",
       "502     21.0  396.90   9.08  \n",
       "503     21.0  396.90   5.64  \n",
       "504     21.0  393.45   6.48  \n",
       "505     21.0  396.90   7.88  \n",
       "\n",
       "[506 rows x 13 columns]"
      ]
     },
     "execution_count": 47,
     "metadata": {},
     "output_type": "execute_result"
    }
   ],
   "source": [
    "bos_df"
   ]
  },
  {
   "cell_type": "code",
   "execution_count": 48,
   "id": "db3fcf16-fe8a-47ae-b9bf-83a36a9624e2",
   "metadata": {
    "ExecuteTime": {
     "end_time": "2022-11-03T00:03:02.040102Z",
     "start_time": "2022-11-03T00:03:02.024536Z"
    },
    "execution": {
     "iopub.execute_input": "2022-11-02T08:17:10.026668Z",
     "iopub.status.busy": "2022-11-02T08:17:10.026668Z",
     "iopub.status.idle": "2022-11-02T08:17:10.042471Z",
     "shell.execute_reply": "2022-11-02T08:17:10.041450Z",
     "shell.execute_reply.started": "2022-11-02T08:17:10.026668Z"
    },
    "tags": []
   },
   "outputs": [],
   "source": [
    "MEDV_df = pd.DataFrame(boston.target, columns=['MEDV'])"
   ]
  },
  {
   "cell_type": "code",
   "execution_count": 49,
   "id": "d384d121-7119-4a04-859b-d102b901bc6c",
   "metadata": {
    "ExecuteTime": {
     "end_time": "2022-11-03T00:03:02.343009Z",
     "start_time": "2022-11-03T00:03:02.327160Z"
    },
    "execution": {
     "iopub.execute_input": "2022-11-02T08:17:10.552619Z",
     "iopub.status.busy": "2022-11-02T08:17:10.552619Z",
     "iopub.status.idle": "2022-11-02T08:17:10.569770Z",
     "shell.execute_reply": "2022-11-02T08:17:10.568721Z",
     "shell.execute_reply.started": "2022-11-02T08:17:10.552619Z"
    },
    "tags": []
   },
   "outputs": [
    {
     "data": {
      "text/html": [
       "<div>\n",
       "<style scoped>\n",
       "    .dataframe tbody tr th:only-of-type {\n",
       "        vertical-align: middle;\n",
       "    }\n",
       "\n",
       "    .dataframe tbody tr th {\n",
       "        vertical-align: top;\n",
       "    }\n",
       "\n",
       "    .dataframe thead th {\n",
       "        text-align: right;\n",
       "    }\n",
       "</style>\n",
       "<table border=\"1\" class=\"dataframe\">\n",
       "  <thead>\n",
       "    <tr style=\"text-align: right;\">\n",
       "      <th></th>\n",
       "      <th>MEDV</th>\n",
       "    </tr>\n",
       "  </thead>\n",
       "  <tbody>\n",
       "    <tr>\n",
       "      <th>0</th>\n",
       "      <td>24.0</td>\n",
       "    </tr>\n",
       "    <tr>\n",
       "      <th>1</th>\n",
       "      <td>21.6</td>\n",
       "    </tr>\n",
       "    <tr>\n",
       "      <th>2</th>\n",
       "      <td>34.7</td>\n",
       "    </tr>\n",
       "    <tr>\n",
       "      <th>3</th>\n",
       "      <td>33.4</td>\n",
       "    </tr>\n",
       "    <tr>\n",
       "      <th>4</th>\n",
       "      <td>36.2</td>\n",
       "    </tr>\n",
       "    <tr>\n",
       "      <th>...</th>\n",
       "      <td>...</td>\n",
       "    </tr>\n",
       "    <tr>\n",
       "      <th>501</th>\n",
       "      <td>22.4</td>\n",
       "    </tr>\n",
       "    <tr>\n",
       "      <th>502</th>\n",
       "      <td>20.6</td>\n",
       "    </tr>\n",
       "    <tr>\n",
       "      <th>503</th>\n",
       "      <td>23.9</td>\n",
       "    </tr>\n",
       "    <tr>\n",
       "      <th>504</th>\n",
       "      <td>22.0</td>\n",
       "    </tr>\n",
       "    <tr>\n",
       "      <th>505</th>\n",
       "      <td>11.9</td>\n",
       "    </tr>\n",
       "  </tbody>\n",
       "</table>\n",
       "<p>506 rows × 1 columns</p>\n",
       "</div>"
      ],
      "text/plain": [
       "     MEDV\n",
       "0    24.0\n",
       "1    21.6\n",
       "2    34.7\n",
       "3    33.4\n",
       "4    36.2\n",
       "..    ...\n",
       "501  22.4\n",
       "502  20.6\n",
       "503  23.9\n",
       "504  22.0\n",
       "505  11.9\n",
       "\n",
       "[506 rows x 1 columns]"
      ]
     },
     "execution_count": 49,
     "metadata": {},
     "output_type": "execute_result"
    }
   ],
   "source": [
    "MEDV_df"
   ]
  },
  {
   "cell_type": "code",
   "execution_count": 50,
   "id": "3230c414-cd4c-4f8b-b171-1177bc941d4b",
   "metadata": {
    "ExecuteTime": {
     "end_time": "2022-11-03T00:03:02.639438Z",
     "start_time": "2022-11-03T00:03:02.607841Z"
    },
    "execution": {
     "iopub.execute_input": "2022-11-02T08:17:12.468573Z",
     "iopub.status.busy": "2022-11-02T08:17:12.467661Z",
     "iopub.status.idle": "2022-11-02T08:17:12.493594Z",
     "shell.execute_reply": "2022-11-02T08:17:12.492586Z",
     "shell.execute_reply.started": "2022-11-02T08:17:12.468573Z"
    },
    "tags": []
   },
   "outputs": [
    {
     "data": {
      "text/html": [
       "<div>\n",
       "<style scoped>\n",
       "    .dataframe tbody tr th:only-of-type {\n",
       "        vertical-align: middle;\n",
       "    }\n",
       "\n",
       "    .dataframe tbody tr th {\n",
       "        vertical-align: top;\n",
       "    }\n",
       "\n",
       "    .dataframe thead th {\n",
       "        text-align: right;\n",
       "    }\n",
       "</style>\n",
       "<table border=\"1\" class=\"dataframe\">\n",
       "  <thead>\n",
       "    <tr style=\"text-align: right;\">\n",
       "      <th></th>\n",
       "      <th>CRIM</th>\n",
       "      <th>ZN</th>\n",
       "      <th>INDUS</th>\n",
       "      <th>CHAS</th>\n",
       "      <th>NOX</th>\n",
       "      <th>RM</th>\n",
       "      <th>AGE</th>\n",
       "      <th>DIS</th>\n",
       "      <th>RAD</th>\n",
       "      <th>TAX</th>\n",
       "      <th>PTRATIO</th>\n",
       "      <th>B</th>\n",
       "      <th>LSTAT</th>\n",
       "      <th>MEDV</th>\n",
       "    </tr>\n",
       "  </thead>\n",
       "  <tbody>\n",
       "    <tr>\n",
       "      <th>0</th>\n",
       "      <td>0.00632</td>\n",
       "      <td>18.0</td>\n",
       "      <td>2.31</td>\n",
       "      <td>0.0</td>\n",
       "      <td>0.538</td>\n",
       "      <td>6.575</td>\n",
       "      <td>65.2</td>\n",
       "      <td>4.0900</td>\n",
       "      <td>1.0</td>\n",
       "      <td>296.0</td>\n",
       "      <td>15.3</td>\n",
       "      <td>396.90</td>\n",
       "      <td>4.98</td>\n",
       "      <td>24.0</td>\n",
       "    </tr>\n",
       "    <tr>\n",
       "      <th>1</th>\n",
       "      <td>0.02731</td>\n",
       "      <td>0.0</td>\n",
       "      <td>7.07</td>\n",
       "      <td>0.0</td>\n",
       "      <td>0.469</td>\n",
       "      <td>6.421</td>\n",
       "      <td>78.9</td>\n",
       "      <td>4.9671</td>\n",
       "      <td>2.0</td>\n",
       "      <td>242.0</td>\n",
       "      <td>17.8</td>\n",
       "      <td>396.90</td>\n",
       "      <td>9.14</td>\n",
       "      <td>21.6</td>\n",
       "    </tr>\n",
       "    <tr>\n",
       "      <th>2</th>\n",
       "      <td>0.02729</td>\n",
       "      <td>0.0</td>\n",
       "      <td>7.07</td>\n",
       "      <td>0.0</td>\n",
       "      <td>0.469</td>\n",
       "      <td>7.185</td>\n",
       "      <td>61.1</td>\n",
       "      <td>4.9671</td>\n",
       "      <td>2.0</td>\n",
       "      <td>242.0</td>\n",
       "      <td>17.8</td>\n",
       "      <td>392.83</td>\n",
       "      <td>4.03</td>\n",
       "      <td>34.7</td>\n",
       "    </tr>\n",
       "  </tbody>\n",
       "</table>\n",
       "</div>"
      ],
      "text/plain": [
       "      CRIM    ZN  INDUS  CHAS    NOX     RM   AGE     DIS  RAD    TAX  \\\n",
       "0  0.00632  18.0   2.31   0.0  0.538  6.575  65.2  4.0900  1.0  296.0   \n",
       "1  0.02731   0.0   7.07   0.0  0.469  6.421  78.9  4.9671  2.0  242.0   \n",
       "2  0.02729   0.0   7.07   0.0  0.469  7.185  61.1  4.9671  2.0  242.0   \n",
       "\n",
       "   PTRATIO       B  LSTAT  MEDV  \n",
       "0     15.3  396.90   4.98  24.0  \n",
       "1     17.8  396.90   9.14  21.6  \n",
       "2     17.8  392.83   4.03  34.7  "
      ]
     },
     "execution_count": 50,
     "metadata": {},
     "output_type": "execute_result"
    }
   ],
   "source": [
    "df = pd.concat([bos_df, MEDV_df], axis=1)\n",
    "df.head(3)"
   ]
  },
  {
   "cell_type": "code",
   "execution_count": 51,
   "id": "5e450485-3275-4817-b901-33c8660b80aa",
   "metadata": {
    "ExecuteTime": {
     "end_time": "2022-11-03T00:03:02.890042Z",
     "start_time": "2022-11-03T00:03:02.859773Z"
    },
    "execution": {
     "iopub.execute_input": "2022-11-02T08:17:13.222501Z",
     "iopub.status.busy": "2022-11-02T08:17:13.222501Z",
     "iopub.status.idle": "2022-11-02T08:17:13.241630Z",
     "shell.execute_reply": "2022-11-02T08:17:13.239747Z",
     "shell.execute_reply.started": "2022-11-02T08:17:13.222501Z"
    },
    "tags": []
   },
   "outputs": [
    {
     "data": {
      "text/plain": [
       "CRIM       0\n",
       "ZN         0\n",
       "INDUS      0\n",
       "CHAS       0\n",
       "NOX        0\n",
       "RM         0\n",
       "AGE        0\n",
       "DIS        0\n",
       "RAD        0\n",
       "TAX        0\n",
       "PTRATIO    0\n",
       "B          0\n",
       "LSTAT      0\n",
       "MEDV       0\n",
       "dtype: int64"
      ]
     },
     "execution_count": 51,
     "metadata": {},
     "output_type": "execute_result"
    }
   ],
   "source": [
    "df.isnull().sum()"
   ]
  },
  {
   "cell_type": "code",
   "execution_count": 52,
   "id": "4c58517a-90db-484f-887a-776210843e1f",
   "metadata": {
    "ExecuteTime": {
     "end_time": "2022-11-03T00:03:03.338952Z",
     "start_time": "2022-11-03T00:03:03.307833Z"
    },
    "execution": {
     "iopub.execute_input": "2022-11-02T08:17:15.163701Z",
     "iopub.status.busy": "2022-11-02T08:17:15.163701Z",
     "iopub.status.idle": "2022-11-02T08:17:15.209187Z",
     "shell.execute_reply": "2022-11-02T08:17:15.208183Z",
     "shell.execute_reply.started": "2022-11-02T08:17:15.163701Z"
    },
    "tags": []
   },
   "outputs": [
    {
     "data": {
      "text/html": [
       "<div>\n",
       "<style scoped>\n",
       "    .dataframe tbody tr th:only-of-type {\n",
       "        vertical-align: middle;\n",
       "    }\n",
       "\n",
       "    .dataframe tbody tr th {\n",
       "        vertical-align: top;\n",
       "    }\n",
       "\n",
       "    .dataframe thead th {\n",
       "        text-align: right;\n",
       "    }\n",
       "</style>\n",
       "<table border=\"1\" class=\"dataframe\">\n",
       "  <thead>\n",
       "    <tr style=\"text-align: right;\">\n",
       "      <th></th>\n",
       "      <th>CRIM</th>\n",
       "      <th>ZN</th>\n",
       "      <th>INDUS</th>\n",
       "      <th>CHAS</th>\n",
       "      <th>NOX</th>\n",
       "      <th>RM</th>\n",
       "      <th>AGE</th>\n",
       "      <th>DIS</th>\n",
       "      <th>RAD</th>\n",
       "      <th>TAX</th>\n",
       "      <th>PTRATIO</th>\n",
       "      <th>B</th>\n",
       "      <th>LSTAT</th>\n",
       "      <th>MEDV</th>\n",
       "    </tr>\n",
       "  </thead>\n",
       "  <tbody>\n",
       "    <tr>\n",
       "      <th>0</th>\n",
       "      <td>0.000000</td>\n",
       "      <td>0.18</td>\n",
       "      <td>0.067815</td>\n",
       "      <td>0.0</td>\n",
       "      <td>0.314815</td>\n",
       "      <td>0.577505</td>\n",
       "      <td>0.641607</td>\n",
       "      <td>0.269203</td>\n",
       "      <td>0.000000</td>\n",
       "      <td>0.208015</td>\n",
       "      <td>0.287234</td>\n",
       "      <td>1.000000</td>\n",
       "      <td>0.089680</td>\n",
       "      <td>24.0</td>\n",
       "    </tr>\n",
       "    <tr>\n",
       "      <th>1</th>\n",
       "      <td>0.000236</td>\n",
       "      <td>0.00</td>\n",
       "      <td>0.242302</td>\n",
       "      <td>0.0</td>\n",
       "      <td>0.172840</td>\n",
       "      <td>0.547998</td>\n",
       "      <td>0.782698</td>\n",
       "      <td>0.348962</td>\n",
       "      <td>0.043478</td>\n",
       "      <td>0.104962</td>\n",
       "      <td>0.553191</td>\n",
       "      <td>1.000000</td>\n",
       "      <td>0.204470</td>\n",
       "      <td>21.6</td>\n",
       "    </tr>\n",
       "    <tr>\n",
       "      <th>2</th>\n",
       "      <td>0.000236</td>\n",
       "      <td>0.00</td>\n",
       "      <td>0.242302</td>\n",
       "      <td>0.0</td>\n",
       "      <td>0.172840</td>\n",
       "      <td>0.694386</td>\n",
       "      <td>0.599382</td>\n",
       "      <td>0.348962</td>\n",
       "      <td>0.043478</td>\n",
       "      <td>0.104962</td>\n",
       "      <td>0.553191</td>\n",
       "      <td>0.989737</td>\n",
       "      <td>0.063466</td>\n",
       "      <td>34.7</td>\n",
       "    </tr>\n",
       "    <tr>\n",
       "      <th>3</th>\n",
       "      <td>0.000293</td>\n",
       "      <td>0.00</td>\n",
       "      <td>0.063050</td>\n",
       "      <td>0.0</td>\n",
       "      <td>0.150206</td>\n",
       "      <td>0.658555</td>\n",
       "      <td>0.441813</td>\n",
       "      <td>0.448545</td>\n",
       "      <td>0.086957</td>\n",
       "      <td>0.066794</td>\n",
       "      <td>0.648936</td>\n",
       "      <td>0.994276</td>\n",
       "      <td>0.033389</td>\n",
       "      <td>33.4</td>\n",
       "    </tr>\n",
       "    <tr>\n",
       "      <th>4</th>\n",
       "      <td>0.000705</td>\n",
       "      <td>0.00</td>\n",
       "      <td>0.063050</td>\n",
       "      <td>0.0</td>\n",
       "      <td>0.150206</td>\n",
       "      <td>0.687105</td>\n",
       "      <td>0.528321</td>\n",
       "      <td>0.448545</td>\n",
       "      <td>0.086957</td>\n",
       "      <td>0.066794</td>\n",
       "      <td>0.648936</td>\n",
       "      <td>1.000000</td>\n",
       "      <td>0.099338</td>\n",
       "      <td>36.2</td>\n",
       "    </tr>\n",
       "  </tbody>\n",
       "</table>\n",
       "</div>"
      ],
      "text/plain": [
       "       CRIM    ZN     INDUS  CHAS       NOX        RM       AGE       DIS  \\\n",
       "0  0.000000  0.18  0.067815   0.0  0.314815  0.577505  0.641607  0.269203   \n",
       "1  0.000236  0.00  0.242302   0.0  0.172840  0.547998  0.782698  0.348962   \n",
       "2  0.000236  0.00  0.242302   0.0  0.172840  0.694386  0.599382  0.348962   \n",
       "3  0.000293  0.00  0.063050   0.0  0.150206  0.658555  0.441813  0.448545   \n",
       "4  0.000705  0.00  0.063050   0.0  0.150206  0.687105  0.528321  0.448545   \n",
       "\n",
       "        RAD       TAX   PTRATIO         B     LSTAT  MEDV  \n",
       "0  0.000000  0.208015  0.287234  1.000000  0.089680  24.0  \n",
       "1  0.043478  0.104962  0.553191  1.000000  0.204470  21.6  \n",
       "2  0.043478  0.104962  0.553191  0.989737  0.063466  34.7  \n",
       "3  0.086957  0.066794  0.648936  0.994276  0.033389  33.4  \n",
       "4  0.086957  0.066794  0.648936  1.000000  0.099338  36.2  "
      ]
     },
     "execution_count": 52,
     "metadata": {},
     "output_type": "execute_result"
    }
   ],
   "source": [
    "scaler = MinMaxScaler()\n",
    "\n",
    "df_scaled = df.iloc[:, :-1]  # 마지막열임을 나타내는 -1은 포함하지 않음\n",
    "scaler.fit(df_scaled)\n",
    "df_scaled = scaler.transform(df_scaled)\n",
    "\n",
    "# 스케일링 변환된 값을 데이터프레임에 반영\n",
    "df.iloc[:, :-1] = df_scaled[:, :]\n",
    "df.head()"
   ]
  },
  {
   "cell_type": "code",
   "execution_count": 53,
   "id": "7762115d-a3d5-4460-b2dd-a6c983df7557",
   "metadata": {
    "ExecuteTime": {
     "end_time": "2022-11-03T00:03:05.155678Z",
     "start_time": "2022-11-03T00:03:04.525190Z"
    },
    "execution": {
     "iopub.execute_input": "2022-11-02T08:17:17.685643Z",
     "iopub.status.busy": "2022-11-02T08:17:17.685643Z",
     "iopub.status.idle": "2022-11-02T08:17:18.785592Z",
     "shell.execute_reply": "2022-11-02T08:17:18.784604Z",
     "shell.execute_reply.started": "2022-11-02T08:17:17.685643Z"
    },
    "tags": []
   },
   "outputs": [
    {
     "data": {
      "image/png": "[encoded data removed]",
      "text/plain": [
       "<Figure size 720x720 with 1 Axes>"
      ]
     },
     "metadata": {
      "needs_background": "light"
     },
     "output_type": "display_data"
    }
   ],
   "source": [
    "# 상관 관계 행렬(VIF 예측 가능)\n",
    "df_corr = df.corr()\n",
    "\n",
    "# 히트맵\n",
    "plt.figure(figsize=(10, 10))\n",
    "sns.set(font_scale=0.8)\n",
    "sns.heatmap(df_corr, annot=True, cbar=False)\n",
    "plt.show()"
   ]
  },
  {
   "cell_type": "code",
   "execution_count": 54,
   "id": "553d5eb4-88af-4022-aead-380f95464bb8",
   "metadata": {
    "ExecuteTime": {
     "end_time": "2022-11-03T00:03:05.324374Z",
     "start_time": "2022-11-03T00:03:05.308715Z"
    },
    "execution": {
     "iopub.execute_input": "2022-11-02T08:17:21.009006Z",
     "iopub.status.busy": "2022-11-02T08:17:21.009006Z",
     "iopub.status.idle": "2022-11-02T08:17:21.042222Z",
     "shell.execute_reply": "2022-11-02T08:17:21.039888Z",
     "shell.execute_reply.started": "2022-11-02T08:17:21.009006Z"
    },
    "tags": []
   },
   "outputs": [
    {
     "name": "stdout",
     "output_type": "stream",
     "text": [
      "(379, 5) (379,)\n",
      "(127, 5) (127,)\n"
     ]
    }
   ],
   "source": [
    "# 학습데이터와 테스트데이터 분할\n",
    "X_train, X_test, y_train, y_test = train_test_split(df[['LSTAT', 'RM', 'PTRATIO', 'INDUS', 'TAX']],\n",
    "                                                    df.iloc[:, -1],\n",
    "                                                    random_state=42)\n",
    "\n",
    "print(X_train.shape, y_train.shape)\n",
    "print(X_test.shape, y_test.shape)"
   ]
  },
  {
   "cell_type": "code",
   "execution_count": 55,
   "id": "a93af3d3-324d-470e-aba1-a393d47e00c2",
   "metadata": {
    "ExecuteTime": {
     "end_time": "2022-11-03T00:03:06.118209Z",
     "start_time": "2022-11-03T00:03:06.097251Z"
    },
    "execution": {
     "iopub.execute_input": "2022-11-02T08:17:22.198578Z",
     "iopub.status.busy": "2022-11-02T08:17:22.197458Z",
     "iopub.status.idle": "2022-11-02T08:17:22.218457Z",
     "shell.execute_reply": "2022-11-02T08:17:22.216554Z",
     "shell.execute_reply.started": "2022-11-02T08:17:22.198578Z"
    },
    "tags": []
   },
   "outputs": [
    {
     "data": {
      "text/plain": [
       "LSTAT      0.737663\n",
       "RM         0.695360\n",
       "PTRATIO    0.507787\n",
       "INDUS      0.483725\n",
       "TAX        0.468536\n",
       "NOX        0.427321\n",
       "CRIM       0.388305\n",
       "RAD        0.381626\n",
       "AGE        0.376955\n",
       "ZN         0.360445\n",
       "B          0.333461\n",
       "DIS        0.249929\n",
       "CHAS       0.175260\n",
       "Name: MEDV, dtype: float64"
      ]
     },
     "execution_count": 55,
     "metadata": {},
     "output_type": "execute_result"
    }
   ],
   "source": [
    "# 상관계수가 높은 순으로 정렬해서 출력\n",
    "order = df.corr().loc[:'LSTAT', 'MEDV'].abs().sort_values(ascending=False)\n",
    "order"
   ]
  },
  {
   "cell_type": "code",
   "execution_count": 56,
   "id": "d3845137-bdcf-4fd8-9c33-7adc009da7db",
   "metadata": {
    "ExecuteTime": {
     "end_time": "2022-11-03T00:03:06.956882Z",
     "start_time": "2022-11-03T00:03:06.847084Z"
    },
    "execution": {
     "iopub.execute_input": "2022-11-02T08:17:24.474878Z",
     "iopub.status.busy": "2022-11-02T08:17:24.474878Z",
     "iopub.status.idle": "2022-11-02T08:17:24.671959Z",
     "shell.execute_reply": "2022-11-02T08:17:24.671215Z",
     "shell.execute_reply.started": "2022-11-02T08:17:24.474878Z"
    },
    "tags": []
   },
   "outputs": [
    {
     "data": {
      "text/html": [
       "<div>\n",
       "<style scoped>\n",
       "    .dataframe tbody tr th:only-of-type {\n",
       "        vertical-align: middle;\n",
       "    }\n",
       "\n",
       "    .dataframe tbody tr th {\n",
       "        vertical-align: top;\n",
       "    }\n",
       "\n",
       "    .dataframe thead th {\n",
       "        text-align: right;\n",
       "    }\n",
       "</style>\n",
       "<table border=\"1\" class=\"dataframe\">\n",
       "  <thead>\n",
       "    <tr style=\"text-align: right;\">\n",
       "      <th></th>\n",
       "      <th>VIF_Factor</th>\n",
       "      <th>Feature</th>\n",
       "    </tr>\n",
       "  </thead>\n",
       "  <tbody>\n",
       "    <tr>\n",
       "      <th>0</th>\n",
       "      <td>1.000000</td>\n",
       "      <td>Intercept</td>\n",
       "    </tr>\n",
       "    <tr>\n",
       "      <th>1</th>\n",
       "      <td>1.792192</td>\n",
       "      <td>scale(CRIM)</td>\n",
       "    </tr>\n",
       "    <tr>\n",
       "      <th>2</th>\n",
       "      <td>2.298758</td>\n",
       "      <td>scale(ZN)</td>\n",
       "    </tr>\n",
       "    <tr>\n",
       "      <th>3</th>\n",
       "      <td>3.991596</td>\n",
       "      <td>scale(INDUS)</td>\n",
       "    </tr>\n",
       "    <tr>\n",
       "      <th>4</th>\n",
       "      <td>1.073995</td>\n",
       "      <td>scale(CHAS)</td>\n",
       "    </tr>\n",
       "    <tr>\n",
       "      <th>5</th>\n",
       "      <td>4.393720</td>\n",
       "      <td>scale(NOX)</td>\n",
       "    </tr>\n",
       "    <tr>\n",
       "      <th>6</th>\n",
       "      <td>1.933744</td>\n",
       "      <td>scale(RM)</td>\n",
       "    </tr>\n",
       "    <tr>\n",
       "      <th>7</th>\n",
       "      <td>3.100826</td>\n",
       "      <td>scale(AGE)</td>\n",
       "    </tr>\n",
       "    <tr>\n",
       "      <th>8</th>\n",
       "      <td>3.955945</td>\n",
       "      <td>scale(DIS)</td>\n",
       "    </tr>\n",
       "    <tr>\n",
       "      <th>9</th>\n",
       "      <td>7.484496</td>\n",
       "      <td>scale(RAD)</td>\n",
       "    </tr>\n",
       "    <tr>\n",
       "      <th>10</th>\n",
       "      <td>9.008554</td>\n",
       "      <td>scale(TAX)</td>\n",
       "    </tr>\n",
       "    <tr>\n",
       "      <th>11</th>\n",
       "      <td>1.799084</td>\n",
       "      <td>scale(PTRATIO)</td>\n",
       "    </tr>\n",
       "    <tr>\n",
       "      <th>12</th>\n",
       "      <td>1.348521</td>\n",
       "      <td>scale(B)</td>\n",
       "    </tr>\n",
       "    <tr>\n",
       "      <th>13</th>\n",
       "      <td>2.941491</td>\n",
       "      <td>scale(LSTAT)</td>\n",
       "    </tr>\n",
       "  </tbody>\n",
       "</table>\n",
       "</div>"
      ],
      "text/plain": [
       "    VIF_Factor         Feature\n",
       "0     1.000000       Intercept\n",
       "1     1.792192     scale(CRIM)\n",
       "2     2.298758       scale(ZN)\n",
       "3     3.991596    scale(INDUS)\n",
       "4     1.073995     scale(CHAS)\n",
       "5     4.393720      scale(NOX)\n",
       "6     1.933744       scale(RM)\n",
       "7     3.100826      scale(AGE)\n",
       "8     3.955945      scale(DIS)\n",
       "9     7.484496      scale(RAD)\n",
       "10    9.008554      scale(TAX)\n",
       "11    1.799084  scale(PTRATIO)\n",
       "12    1.348521        scale(B)\n",
       "13    2.941491    scale(LSTAT)"
      ]
     },
     "execution_count": 56,
     "metadata": {},
     "output_type": "execute_result"
    }
   ],
   "source": [
    "TEST = pd.DataFrame(boston.data, columns=boston.feature_names)\n",
    "\n",
    "formula = 'scale(CRIM) + scale(ZN) + scale(INDUS) + scale(CHAS) + scale(NOX) + scale(RM) + scale(AGE) + scale(DIS) + scale(RAD) +\\\n",
    "scale(TAX) + scale(PTRATIO) + scale(B) + scale(LSTAT)'\n",
    "dfx = dmatrix(formula, TEST, return_type='dataframe')\n",
    "dfy = pd.DataFrame(boston.target, columns=['MEDV'])\n",
    "vif = pd.DataFrame()\n",
    "\n",
    "vif['VIF_Factor'] = [variance_inflation_factor(dfx.values, i) for i in range(dfx.shape[1])]\n",
    "vif['Feature'] = dfx.columns\n",
    "vif.sort_values(by='VIF_Factor', ascending=True).reset_index(drop=True)\n",
    "vif"
   ]
  },
  {
   "cell_type": "code",
   "execution_count": 57,
   "id": "36749496-0175-4b07-b2e5-eb85a619c89b",
   "metadata": {
    "ExecuteTime": {
     "end_time": "2022-11-03T00:03:07.437497Z",
     "start_time": "2022-11-03T00:03:07.421876Z"
    },
    "execution": {
     "iopub.execute_input": "2022-11-02T08:17:26.353309Z",
     "iopub.status.busy": "2022-11-02T08:17:26.353309Z",
     "iopub.status.idle": "2022-11-02T08:17:26.376168Z",
     "shell.execute_reply": "2022-11-02T08:17:26.375159Z",
     "shell.execute_reply.started": "2022-11-02T08:17:26.353309Z"
    },
    "tags": []
   },
   "outputs": [
    {
     "data": {
      "text/plain": [
       "Index(['CRIM', 'ZN', 'INDUS', 'CHAS', 'NOX', 'RM', 'AGE', 'DIS', 'RAD', 'TAX',\n",
       "       'PTRATIO', 'B', 'LSTAT', 'MEDV'],\n",
       "      dtype='object')"
      ]
     },
     "execution_count": 57,
     "metadata": {},
     "output_type": "execute_result"
    }
   ],
   "source": [
    "df.columns"
   ]
  },
  {
   "cell_type": "code",
   "execution_count": 58,
   "id": "8cdebd5a-25b9-4704-8207-466ce05e89df",
   "metadata": {
    "ExecuteTime": {
     "end_time": "2022-11-03T00:03:07.887138Z",
     "start_time": "2022-11-03T00:03:07.871517Z"
    },
    "execution": {
     "iopub.execute_input": "2022-11-02T08:17:26.823584Z",
     "iopub.status.busy": "2022-11-02T08:17:26.823584Z",
     "iopub.status.idle": "2022-11-02T08:17:26.850986Z",
     "shell.execute_reply": "2022-11-02T08:17:26.849983Z",
     "shell.execute_reply.started": "2022-11-02T08:17:26.823584Z"
    },
    "tags": []
   },
   "outputs": [
    {
     "data": {
      "text/html": [
       "<div>\n",
       "<style scoped>\n",
       "    .dataframe tbody tr th:only-of-type {\n",
       "        vertical-align: middle;\n",
       "    }\n",
       "\n",
       "    .dataframe tbody tr th {\n",
       "        vertical-align: top;\n",
       "    }\n",
       "\n",
       "    .dataframe thead th {\n",
       "        text-align: right;\n",
       "    }\n",
       "</style>\n",
       "<table border=\"1\" class=\"dataframe\">\n",
       "  <thead>\n",
       "    <tr style=\"text-align: right;\">\n",
       "      <th></th>\n",
       "      <th>LSTAT</th>\n",
       "      <th>RM</th>\n",
       "      <th>PTRATIO</th>\n",
       "      <th>INDUS</th>\n",
       "      <th>TAX</th>\n",
       "      <th>MEDV</th>\n",
       "    </tr>\n",
       "  </thead>\n",
       "  <tbody>\n",
       "    <tr>\n",
       "      <th>0</th>\n",
       "      <td>0.089680</td>\n",
       "      <td>0.577505</td>\n",
       "      <td>0.287234</td>\n",
       "      <td>0.067815</td>\n",
       "      <td>0.208015</td>\n",
       "      <td>24.0</td>\n",
       "    </tr>\n",
       "    <tr>\n",
       "      <th>1</th>\n",
       "      <td>0.204470</td>\n",
       "      <td>0.547998</td>\n",
       "      <td>0.553191</td>\n",
       "      <td>0.242302</td>\n",
       "      <td>0.104962</td>\n",
       "      <td>21.6</td>\n",
       "    </tr>\n",
       "    <tr>\n",
       "      <th>2</th>\n",
       "      <td>0.063466</td>\n",
       "      <td>0.694386</td>\n",
       "      <td>0.553191</td>\n",
       "      <td>0.242302</td>\n",
       "      <td>0.104962</td>\n",
       "      <td>34.7</td>\n",
       "    </tr>\n",
       "    <tr>\n",
       "      <th>3</th>\n",
       "      <td>0.033389</td>\n",
       "      <td>0.658555</td>\n",
       "      <td>0.648936</td>\n",
       "      <td>0.063050</td>\n",
       "      <td>0.066794</td>\n",
       "      <td>33.4</td>\n",
       "    </tr>\n",
       "    <tr>\n",
       "      <th>4</th>\n",
       "      <td>0.099338</td>\n",
       "      <td>0.687105</td>\n",
       "      <td>0.648936</td>\n",
       "      <td>0.063050</td>\n",
       "      <td>0.066794</td>\n",
       "      <td>36.2</td>\n",
       "    </tr>\n",
       "  </tbody>\n",
       "</table>\n",
       "</div>"
      ],
      "text/plain": [
       "      LSTAT        RM   PTRATIO     INDUS       TAX  MEDV\n",
       "0  0.089680  0.577505  0.287234  0.067815  0.208015  24.0\n",
       "1  0.204470  0.547998  0.553191  0.242302  0.104962  21.6\n",
       "2  0.063466  0.694386  0.553191  0.242302  0.104962  34.7\n",
       "3  0.033389  0.658555  0.648936  0.063050  0.066794  33.4\n",
       "4  0.099338  0.687105  0.648936  0.063050  0.066794  36.2"
      ]
     },
     "execution_count": 58,
     "metadata": {},
     "output_type": "execute_result"
    }
   ],
   "source": [
    "# 상관계수가 높은 열 추출\n",
    "plot_cols = ['LSTAT', 'RM', 'PTRATIO', 'INDUS', 'TAX', 'MEDV']\n",
    "plot_df = df.loc[:, plot_cols]\n",
    "plot_df.head()"
   ]
  },
  {
   "cell_type": "code",
   "execution_count": 59,
   "id": "ee667b79-7a83-458d-8c6a-26a1cc470a8d",
   "metadata": {
    "ExecuteTime": {
     "end_time": "2022-11-03T00:03:09.971259Z",
     "start_time": "2022-11-03T00:03:08.736327Z"
    },
    "execution": {
     "iopub.execute_input": "2022-11-02T08:17:29.021990Z",
     "iopub.status.busy": "2022-11-02T08:17:29.021990Z",
     "iopub.status.idle": "2022-11-02T08:17:32.720150Z",
     "shell.execute_reply": "2022-11-02T08:17:32.720150Z",
     "shell.execute_reply.started": "2022-11-02T08:17:29.021990Z"
    },
    "tags": []
   },
   "outputs": [
    {
     "data": {
      "image/png": "[encoded data removed]",
      "text/plain": [
       "<Figure size 720x720 with 5 Axes>"
      ]
     },
     "metadata": {},
     "output_type": "display_data"
    }
   ],
   "source": [
    "# 그래프로 연관성 확인\n",
    "plt.figure(figsize=(10, 10))\n",
    "for idx, col in enumerate(plot_cols[:-1]):\n",
    "    ax1 = plt.subplot(5, 1, idx+1)\n",
    "    sns.regplot(x=col, y=plot_cols[-1], data=plot_df, ax=ax1)\n",
    "plt.tight_layout()\n",
    "plt.show()"
   ]
  },
  {
   "cell_type": "code",
   "execution_count": 60,
   "id": "09b4d7ce-3380-4b9a-bb53-bbebd729be93",
   "metadata": {
    "ExecuteTime": {
     "end_time": "2022-11-03T00:03:10.337645Z",
     "start_time": "2022-11-03T00:03:10.056294Z"
    },
    "execution": {
     "iopub.execute_input": "2022-11-02T08:17:35.553413Z",
     "iopub.status.busy": "2022-11-02T08:17:35.553413Z",
     "iopub.status.idle": "2022-11-02T08:17:35.939325Z",
     "shell.execute_reply": "2022-11-02T08:17:35.938420Z",
     "shell.execute_reply.started": "2022-11-02T08:17:35.553413Z"
    },
    "tags": []
   },
   "outputs": [
    {
     "data": {
      "image/png": "[encoded data removed]",
      "text/plain": [
       "<Figure size 360x360 with 1 Axes>"
      ]
     },
     "metadata": {},
     "output_type": "display_data"
    }
   ],
   "source": [
    "sns.displot(x='MEDV', kind='hist', data=df)\n",
    "plt.show()"
   ]
  },
  {
   "cell_type": "code",
   "execution_count": 61,
   "id": "530879ad-c88c-44c8-854e-15de8f6ad8ce",
   "metadata": {
    "ExecuteTime": {
     "end_time": "2022-11-03T00:03:10.882762Z",
     "start_time": "2022-11-03T00:03:10.861818Z"
    },
    "execution": {
     "iopub.execute_input": "2022-11-02T08:17:37.795916Z",
     "iopub.status.busy": "2022-11-02T08:17:37.795916Z",
     "iopub.status.idle": "2022-11-02T08:17:37.814917Z",
     "shell.execute_reply": "2022-11-02T08:17:37.813915Z",
     "shell.execute_reply.started": "2022-11-02T08:17:37.795916Z"
    },
    "tags": []
   },
   "outputs": [
    {
     "name": "stdout",
     "output_type": "stream",
     "text": [
      "['x0', 'x1', 'x2', 'x3', 'x4', 'x0^2', 'x0 x1', 'x0 x2', 'x0 x3', 'x0 x4', 'x1^2', 'x1 x2', 'x1 x3', 'x1 x4', 'x2^2', 'x2 x3', 'x2 x4', 'x3^2', 'x3 x4', 'x4^2']\n"
     ]
    }
   ],
   "source": [
    "poly = PolynomialFeatures(include_bias=False)\n",
    "poly.fit(X_train)\n",
    "train_poly = poly.transform(X_train)\n",
    "# 컬럼명 추출\n",
    "print(poly.get_feature_names())\n",
    "test_poly = poly.transform(X_test)"
   ]
  },
  {
   "cell_type": "code",
   "execution_count": 62,
   "id": "d639ed76-7879-433f-9faa-7391098f98e1",
   "metadata": {
    "ExecuteTime": {
     "end_time": "2022-11-03T00:03:12.046084Z",
     "start_time": "2022-11-03T00:03:12.025144Z"
    },
    "execution": {
     "iopub.execute_input": "2022-11-02T08:17:38.305547Z",
     "iopub.status.busy": "2022-11-02T08:17:38.305547Z",
     "iopub.status.idle": "2022-11-02T08:17:38.323037Z",
     "shell.execute_reply": "2022-11-02T08:17:38.322037Z",
     "shell.execute_reply.started": "2022-11-02T08:17:38.305547Z"
    },
    "tags": []
   },
   "outputs": [
    {
     "name": "stdout",
     "output_type": "stream",
     "text": [
      "회귀계수(기울기): [-26.8  52.1  17.5  16.1   8.7  49.   -3.3  -1.3 -19.4 -45.6  11.7 -31.3\n",
      " -10.6 -41.5  -8.5 -12.8  30.4   4.1   5.9   0.6]\n",
      "상수항(절편): -0.1\n"
     ]
    }
   ],
   "source": [
    "# 선형 회귀 모형\n",
    "lr = LinearRegression()\n",
    "lr.fit(train_poly, y_train)\n",
    "\n",
    "print(\"회귀계수(기울기):\", np.round(lr.coef_, 1))  # np: numpy, coef_: 피처에 대한 회귀 계수 값\n",
    "print(\"상수항(절편):\", np.round(lr.intercept_, 1))  # intercept_: 상수항(절편) 값"
   ]
  },
  {
   "cell_type": "code",
   "execution_count": 63,
   "id": "4aa112ba-c951-4fd3-ab11-6cb119cfa0e5",
   "metadata": {
    "ExecuteTime": {
     "end_time": "2022-11-03T00:03:12.880874Z",
     "start_time": "2022-11-03T00:03:12.865912Z"
    },
    "execution": {
     "iopub.execute_input": "2022-11-02T08:17:39.671639Z",
     "iopub.status.busy": "2022-11-02T08:17:39.671639Z",
     "iopub.status.idle": "2022-11-02T08:17:39.694719Z",
     "shell.execute_reply": "2022-11-02T08:17:39.692718Z",
     "shell.execute_reply.started": "2022-11-02T08:17:39.671639Z"
    },
    "tags": []
   },
   "outputs": [
    {
     "name": "stdout",
     "output_type": "stream",
     "text": [
      "Train MSE : 12.0690\n",
      "Train RMSE : 3.4741\n",
      "Train score : 0.8639\n",
      "Test MSE : 15.9664\n",
      "Test RMSE : 3.9958\n",
      "Test score : 0.7720\n"
     ]
    }
   ],
   "source": [
    "# 성능 평가\n",
    "y_train_pred = lr.predict(train_poly)\n",
    "y_test_pred = lr.predict(test_poly)\n",
    "\n",
    "train_mse = mean_squared_error(y_train, y_train_pred) #훈련 데이터의 평가 점수\n",
    "\n",
    "print(\"Train MSE : %.4f\" % train_mse)\n",
    "print('Train RMSE : %.4f' % np.sqrt(train_mse))\n",
    "print('Train score : %.4f' % lr.score(train_poly, y_train))\n",
    "\n",
    "test_mse = mean_squared_error(y_test, y_test_pred)\n",
    "print(\"Test MSE : %.4f\" % test_mse)\n",
    "print('Test RMSE : %.4f' % np.sqrt(test_mse))\n",
    "print('Test score : %.4f' % lr.score(test_poly, y_test))"
   ]
  },
  {
   "cell_type": "code",
   "execution_count": 64,
   "id": "53306273-cd90-4a99-aa34-2c87d2d9c3a1",
   "metadata": {
    "ExecuteTime": {
     "end_time": "2022-11-03T00:03:13.652686Z",
     "start_time": "2022-11-03T00:03:13.484671Z"
    },
    "execution": {
     "iopub.execute_input": "2022-11-02T08:17:43.224409Z",
     "iopub.status.busy": "2022-11-02T08:17:43.224409Z",
     "iopub.status.idle": "2022-11-02T08:17:43.421259Z",
     "shell.execute_reply": "2022-11-02T08:17:43.420322Z",
     "shell.execute_reply.started": "2022-11-02T08:17:43.224409Z"
    },
    "tags": []
   },
   "outputs": [
    {
     "name": "stderr",
     "output_type": "stream",
     "text": [
      "C:\\Ananconda3\\lib\\site-packages\\matplotlib\\backends\\backend_agg.py:240: RuntimeWarning: Glyph 44208 missing from current font.\n",
      "  font.set_text(s, 0.0, flags=flags)\n",
      "C:\\Ananconda3\\lib\\site-packages\\matplotlib\\backends\\backend_agg.py:240: RuntimeWarning: Glyph 51221 missing from current font.\n",
      "  font.set_text(s, 0.0, flags=flags)\n",
      "C:\\Ananconda3\\lib\\site-packages\\matplotlib\\backends\\backend_agg.py:240: RuntimeWarning: Glyph 44228 missing from current font.\n",
      "  font.set_text(s, 0.0, flags=flags)\n",
      "C:\\Ananconda3\\lib\\site-packages\\matplotlib\\backends\\backend_agg.py:240: RuntimeWarning: Glyph 49688 missing from current font.\n",
      "  font.set_text(s, 0.0, flags=flags)\n",
      "C:\\Ananconda3\\lib\\site-packages\\matplotlib\\backends\\backend_agg.py:203: RuntimeWarning: Glyph 44208 missing from current font.\n",
      "  font.set_text(s, 0, flags=flags)\n",
      "C:\\Ananconda3\\lib\\site-packages\\matplotlib\\backends\\backend_agg.py:203: RuntimeWarning: Glyph 51221 missing from current font.\n",
      "  font.set_text(s, 0, flags=flags)\n",
      "C:\\Ananconda3\\lib\\site-packages\\matplotlib\\backends\\backend_agg.py:203: RuntimeWarning: Glyph 44228 missing from current font.\n",
      "  font.set_text(s, 0, flags=flags)\n",
      "C:\\Ananconda3\\lib\\site-packages\\matplotlib\\backends\\backend_agg.py:203: RuntimeWarning: Glyph 49688 missing from current font.\n",
      "  font.set_text(s, 0, flags=flags)\n"
     ]
    },
    {
     "data": {
      "image/png": "[encoded data removed]",
      "text/plain": [
       "<Figure size 432x288 with 1 Axes>"
      ]
     },
     "metadata": {},
     "output_type": "display_data"
    }
   ],
   "source": [
    "# 훈련세트와 테스트세트의 점수가 가장 가까운 지점이 최적의 alpha값이 된다.\n",
    "train_score = []\n",
    "test_score = []\n",
    "\n",
    "alpha_list = [0.001, 0.01, 0.1, 1, 10, 100]\n",
    "\n",
    "for alpha in alpha_list:\n",
    "    # ridge model\n",
    "    ridge = Ridge(alpha=alpha)\n",
    "    # ridge model\n",
    "    ridge.fit(train_poly, y_train)\n",
    "    # R^2 score(결정계수)\n",
    "    train_score.append(ridge.score(train_poly, y_train))\n",
    "    test_score.append(ridge.score(test_poly, y_test))\n",
    "\n",
    "plt.plot(np.log10(alpha_list), train_score)\n",
    "plt.plot(np.log10(alpha_list), test_score)\n",
    "plt.xlabel('alpha')\n",
    "plt.ylabel('R^2(결정계수)')\n",
    "plt.show()\n",
    "# alpha -1, 0"
   ]
  },
  {
   "cell_type": "code",
   "execution_count": 65,
   "id": "f516f7d1-10d1-481b-be98-74d5cd634337",
   "metadata": {
    "ExecuteTime": {
     "end_time": "2022-11-03T00:03:14.052757Z",
     "start_time": "2022-11-03T00:03:14.036801Z"
    },
    "execution": {
     "iopub.execute_input": "2022-11-02T08:21:35.037574Z",
     "iopub.status.busy": "2022-11-02T08:21:35.037574Z",
     "iopub.status.idle": "2022-11-02T08:21:35.059173Z",
     "shell.execute_reply": "2022-11-02T08:21:35.058173Z",
     "shell.execute_reply.started": "2022-11-02T08:21:35.037574Z"
    },
    "tags": []
   },
   "outputs": [
    {
     "name": "stdout",
     "output_type": "stream",
     "text": [
      "0.8570972004324747\n",
      "0.7815129923699176\n"
     ]
    }
   ],
   "source": [
    "ridge = Ridge(alpha=0.1)\n",
    "ridge.fit(train_poly, y_train)\n",
    "print(ridge.score(train_poly, y_train))\n",
    "print(ridge.score(test_poly, y_test))"
   ]
  },
  {
   "cell_type": "code",
   "execution_count": 66,
   "id": "786715fd-6706-427b-b62b-be96f458b083",
   "metadata": {
    "ExecuteTime": {
     "end_time": "2022-11-03T00:03:14.598951Z",
     "start_time": "2022-11-03T00:03:14.567571Z"
    },
    "execution": {
     "iopub.execute_input": "2022-11-02T08:31:51.759860Z",
     "iopub.status.busy": "2022-11-02T08:31:51.759860Z",
     "iopub.status.idle": "2022-11-02T08:31:51.800787Z",
     "shell.execute_reply": "2022-11-02T08:31:51.800787Z",
     "shell.execute_reply.started": "2022-11-02T08:31:51.759860Z"
    },
    "tags": []
   },
   "outputs": [
    {
     "name": "stderr",
     "output_type": "stream",
     "text": [
      "C:\\Ananconda3\\lib\\site-packages\\sklearn\\linear_model\\_coordinate_descent.py:530: ConvergenceWarning: Objective did not converge. You might want to increase the number of iterations. Duality gap: 9.399711205509448, tolerance: 3.361037625329815\n",
      "  model = cd_fast.enet_coordinate_descent(\n"
     ]
    }
   ],
   "source": [
    "# 훈련세트와 테스트세트의 점수가 가장 가까운 지점이 최적의 alpha값이 된다.\n",
    "train_score = []\n",
    "test_score = []\n",
    "\n",
    "lasso = Lasso()\n",
    "\n",
    "alpha_list = [0.001, 0.01, 0.1, 1, 10, 100]\n",
    "for alpha in alpha_list:\n",
    "    # lasso model\n",
    "    lasso = Lasso(alpha=alpha)\n",
    "    # lasso model\n",
    "    lasso.fit(train_poly, y_train)\n",
    "    # R^2 score(결정계수)\n",
    "    train_score.append(lasso.score(train_poly, y_train))\n",
    "    test_score.append(lasso.score(test_poly, y_test))"
   ]
  },
  {
   "cell_type": "code",
   "execution_count": 67,
   "id": "50920afe-a20c-4ad9-9d04-865981b5707d",
   "metadata": {
    "ExecuteTime": {
     "end_time": "2022-11-03T00:03:15.731895Z",
     "start_time": "2022-11-03T00:03:15.601611Z"
    },
    "execution": {
     "iopub.execute_input": "2022-11-02T08:32:09.845794Z",
     "iopub.status.busy": "2022-11-02T08:32:09.845794Z",
     "iopub.status.idle": "2022-11-02T08:32:09.945826Z",
     "shell.execute_reply": "2022-11-02T08:32:09.945826Z",
     "shell.execute_reply.started": "2022-11-02T08:32:09.845794Z"
    },
    "tags": []
   },
   "outputs": [
    {
     "name": "stderr",
     "output_type": "stream",
     "text": [
      "C:\\Ananconda3\\lib\\site-packages\\matplotlib\\backends\\backend_agg.py:240: RuntimeWarning: Glyph 44208 missing from current font.\n",
      "  font.set_text(s, 0.0, flags=flags)\n",
      "C:\\Ananconda3\\lib\\site-packages\\matplotlib\\backends\\backend_agg.py:240: RuntimeWarning: Glyph 51221 missing from current font.\n",
      "  font.set_text(s, 0.0, flags=flags)\n",
      "C:\\Ananconda3\\lib\\site-packages\\matplotlib\\backends\\backend_agg.py:240: RuntimeWarning: Glyph 44228 missing from current font.\n",
      "  font.set_text(s, 0.0, flags=flags)\n",
      "C:\\Ananconda3\\lib\\site-packages\\matplotlib\\backends\\backend_agg.py:240: RuntimeWarning: Glyph 49688 missing from current font.\n",
      "  font.set_text(s, 0.0, flags=flags)\n",
      "C:\\Ananconda3\\lib\\site-packages\\matplotlib\\backends\\backend_agg.py:203: RuntimeWarning: Glyph 44208 missing from current font.\n",
      "  font.set_text(s, 0, flags=flags)\n",
      "C:\\Ananconda3\\lib\\site-packages\\matplotlib\\backends\\backend_agg.py:203: RuntimeWarning: Glyph 51221 missing from current font.\n",
      "  font.set_text(s, 0, flags=flags)\n",
      "C:\\Ananconda3\\lib\\site-packages\\matplotlib\\backends\\backend_agg.py:203: RuntimeWarning: Glyph 44228 missing from current font.\n",
      "  font.set_text(s, 0, flags=flags)\n",
      "C:\\Ananconda3\\lib\\site-packages\\matplotlib\\backends\\backend_agg.py:203: RuntimeWarning: Glyph 49688 missing from current font.\n",
      "  font.set_text(s, 0, flags=flags)\n"
     ]
    },
    {
     "data": {
      "image/png": "[encoded data removed]",
      "text/plain": [
       "<Figure size 432x288 with 1 Axes>"
      ]
     },
     "metadata": {},
     "output_type": "display_data"
    }
   ],
   "source": [
    "plt.plot(np.log10(alpha_list), train_score)\n",
    "plt.plot(np.log10(alpha_list), test_score)\n",
    "plt.xlabel('alpha')\n",
    "plt.ylabel('R^2(결정계수)')\n",
    "plt.show()"
   ]
  },
  {
   "cell_type": "code",
   "execution_count": 68,
   "id": "c5436787-ca4f-45d5-b2bf-9dbeb2d64b0d",
   "metadata": {
    "ExecuteTime": {
     "end_time": "2022-11-03T00:03:16.627852Z",
     "start_time": "2022-11-03T00:03:16.608901Z"
    },
    "execution": {
     "iopub.execute_input": "2022-11-02T08:35:13.550696Z",
     "iopub.status.busy": "2022-11-02T08:35:13.549654Z",
     "iopub.status.idle": "2022-11-02T08:35:13.565216Z",
     "shell.execute_reply": "2022-11-02T08:35:13.565216Z",
     "shell.execute_reply.started": "2022-11-02T08:35:13.550696Z"
    },
    "tags": []
   },
   "outputs": [
    {
     "name": "stdout",
     "output_type": "stream",
     "text": [
      "0.8482761312258675\n",
      "0.775369853731808\n"
     ]
    }
   ],
   "source": [
    "lasso = Lasso(alpha=0.01)\n",
    "lasso.fit(train_poly, y_train)\n",
    "print(lasso.score(train_poly, y_train))\n",
    "print(lasso.score(test_poly, y_test))"
   ]
  },
  {
   "cell_type": "code",
   "execution_count": 69,
   "id": "bede7f32-9b10-43b2-9c2b-da7e9ad0ee92",
   "metadata": {
    "ExecuteTime": {
     "end_time": "2022-11-03T00:03:17.352261Z",
     "start_time": "2022-11-03T00:03:17.337303Z"
    }
   },
   "outputs": [],
   "source": [
    "# 추가"
   ]
  },
  {
   "cell_type": "markdown",
   "id": "959ab39b-d64a-4772-bff9-c93f03ee2ac1",
   "metadata": {
    "tags": []
   },
   "source": [
    "# 실습문제 : 당뇨병 진행도 예측"
   ]
  },
  {
   "cell_type": "code",
   "execution_count": 70,
   "id": "050ea360-2cfd-4bb3-b98f-35f5a1ab926a",
   "metadata": {
    "ExecuteTime": {
     "end_time": "2022-11-03T00:03:18.403284Z",
     "start_time": "2022-11-03T00:03:18.384334Z"
    },
    "execution": {
     "iopub.execute_input": "2022-11-01T07:41:40.837578Z",
     "iopub.status.busy": "2022-11-01T07:41:40.837578Z",
     "iopub.status.idle": "2022-11-01T07:41:40.889398Z",
     "shell.execute_reply": "2022-11-01T07:41:40.887923Z",
     "shell.execute_reply.started": "2022-11-01T07:41:40.837578Z"
    },
    "tags": []
   },
   "outputs": [
    {
     "data": {
      "text/plain": [
       "['DESCR',\n",
       " 'data',\n",
       " 'data_filename',\n",
       " 'feature_names',\n",
       " 'frame',\n",
       " 'target',\n",
       " 'target_filename']"
      ]
     },
     "execution_count": 70,
     "metadata": {},
     "output_type": "execute_result"
    }
   ],
   "source": [
    "diabetes = load_diabetes()\n",
    "dir(diabetes)"
   ]
  },
  {
   "cell_type": "code",
   "execution_count": null,
   "id": "6f73867e",
   "metadata": {},
   "outputs": [],
   "source": []
  },
  {
   "cell_type": "code",
   "execution_count": null,
   "id": "6929b23b",
   "metadata": {},
   "outputs": [],
   "source": []
  },
  {
   "cell_type": "code",
   "execution_count": null,
   "id": "0b42b6ef",
   "metadata": {},
   "outputs": [],
   "source": []
  }
 ],
 "metadata": {
  "kernelspec": {
   "display_name": "Python 3 (ipykernel)",
   "language": "python",
   "name": "python3"
  },
  "language_info": {
   "codemirror_mode": {
    "name": "ipython",
    "version": 3
   },
   "file_extension": ".py",
   "mimetype": "text/x-python",
   "name": "python",
   "nbconvert_exporter": "python",
   "pygments_lexer": "ipython3",
   "version": "3.9.7"
  },
  "toc": {
   "base_numbering": 1,
   "nav_menu": {},
   "number_sections": true,
   "sideBar": true,
   "skip_h1_title": false,
   "title_cell": "Table of Contents",
   "title_sidebar": "Contents",
   "toc_cell": false,
   "toc_position": {},
   "toc_section_display": true,
   "toc_window_display": false
  },
  "varInspector": {
   "cols": {
    "lenName": 16,
    "lenType": 16,
    "lenVar": 40
   },
   "kernels_config": {
    "python": {
     "delete_cmd_postfix": "",
     "delete_cmd_prefix": "del ",
     "library": "var_list.py",
     "varRefreshCmd": "print(var_dic_list())"
    },
    "r": {
     "delete_cmd_postfix": ") ",
     "delete_cmd_prefix": "rm(",
     "library": "var_list.r",
     "varRefreshCmd": "cat(var_dic_list()) "
    }
   },
   "types_to_exclude": [
    "module",
    "function",
    "builtin_function_or_method",
    "instance",
    "_Feature"
   ],
   "window_display": false
  }
 },
 "nbformat": 4,
 "nbformat_minor": 5
}
