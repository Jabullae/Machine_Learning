{
 "cells": [
  {
   "cell_type": "code",
   "execution_count": 1,
   "id": "ab7f3a34",
   "metadata": {
    "ExecuteTime": {
     "end_time": "2022-11-04T00:50:18.594280Z",
     "start_time": "2022-11-04T00:50:16.450122Z"
    }
   },
   "outputs": [
    {
     "name": "stdout",
     "output_type": "stream",
     "text": [
      "Requirement already satisfied: mglearn in c:\\ananconda3\\lib\\site-packages (0.1.9)\n",
      "Requirement already satisfied: cycler in c:\\ananconda3\\lib\\site-packages (from mglearn) (0.10.0)\n",
      "Requirement already satisfied: scikit-learn in c:\\ananconda3\\lib\\site-packages (from mglearn) (0.24.2)\n",
      "Requirement already satisfied: joblib in c:\\ananconda3\\lib\\site-packages (from mglearn) (1.1.0)\n",
      "Requirement already satisfied: pandas in c:\\ananconda3\\lib\\site-packages (from mglearn) (1.3.4)\n",
      "Requirement already satisfied: pillow in c:\\ananconda3\\lib\\site-packages (from mglearn) (8.4.0)\n",
      "Requirement already satisfied: matplotlib in c:\\ananconda3\\lib\\site-packages (from mglearn) (3.4.3)\n",
      "Requirement already satisfied: imageio in c:\\ananconda3\\lib\\site-packages (from mglearn) (2.9.0)\n",
      "Requirement already satisfied: numpy in c:\\ananconda3\\lib\\site-packages (from mglearn) (1.20.3)\n",
      "Requirement already satisfied: six in c:\\ananconda3\\lib\\site-packages (from cycler->mglearn) (1.16.0)\n",
      "Requirement already satisfied: python-dateutil>=2.7 in c:\\ananconda3\\lib\\site-packages (from matplotlib->mglearn) (2.8.2)\n",
      "Requirement already satisfied: pyparsing>=2.2.1 in c:\\ananconda3\\lib\\site-packages (from matplotlib->mglearn) (3.0.4)\n",
      "Requirement already satisfied: kiwisolver>=1.0.1 in c:\\ananconda3\\lib\\site-packages (from matplotlib->mglearn) (1.3.1)\n",
      "Requirement already satisfied: pytz>=2017.3 in c:\\ananconda3\\lib\\site-packages (from pandas->mglearn) (2021.3)\n",
      "Requirement already satisfied: threadpoolctl>=2.0.0 in c:\\ananconda3\\lib\\site-packages (from scikit-learn->mglearn) (2.2.0)\n",
      "Requirement already satisfied: scipy>=0.19.1 in c:\\ananconda3\\lib\\site-packages (from scikit-learn->mglearn) (1.7.1)\n"
     ]
    }
   ],
   "source": [
    "!pip install mglearn"
   ]
  },
  {
   "cell_type": "code",
   "execution_count": 52,
   "id": "103ae6ff",
   "metadata": {
    "ExecuteTime": {
     "end_time": "2022-11-04T02:19:14.839513Z",
     "start_time": "2022-11-04T02:19:14.822839Z"
    }
   },
   "outputs": [],
   "source": [
    "import numpy as np\n",
    "import pandas as pd\n",
    "import matplotlib.pyplot as plt\n",
    "import matplotlib as mpl\n",
    "from IPython.display import display\n",
    "\n",
    "#!pip install mglearn\n",
    "import mglearn\n",
    "\n",
    "# 경고메시지 무시\n",
    "import warnings\n",
    "warnings.filterwarnings(action = 'ignore') # action = 'default' 경고메시지 표시\n",
    "\n",
    "## ggplot 스타일\n",
    "mpl.style.use('ggplot')\n",
    "# matplotlib 한글화\n",
    "mpl.rcParams['font.family'] = 'D2coding'"
   ]
  },
  {
   "cell_type": "markdown",
   "id": "e6c3cdc1",
   "metadata": {},
   "source": [
    "# 데이터셋 로딩"
   ]
  },
  {
   "cell_type": "code",
   "execution_count": 3,
   "id": "d8d84e7e",
   "metadata": {
    "ExecuteTime": {
     "end_time": "2022-11-04T00:50:19.996664Z",
     "start_time": "2022-11-04T00:50:19.981031Z"
    }
   },
   "outputs": [],
   "source": [
    "from sklearn.datasets import load_iris\n",
    "iris = load_iris()"
   ]
  },
  {
   "cell_type": "markdown",
   "id": "692d1dba",
   "metadata": {},
   "source": [
    "## iris dataset 탐색"
   ]
  },
  {
   "cell_type": "code",
   "execution_count": 4,
   "id": "f628e9a6",
   "metadata": {
    "ExecuteTime": {
     "end_time": "2022-11-04T00:50:20.011905Z",
     "start_time": "2022-11-04T00:50:19.997917Z"
    }
   },
   "outputs": [
    {
     "data": {
      "text/plain": [
       "dict_keys(['data', 'target', 'frame', 'target_names', 'DESCR', 'feature_names', 'filename'])"
      ]
     },
     "execution_count": 4,
     "metadata": {},
     "output_type": "execute_result"
    }
   ],
   "source": [
    "iris.keys()"
   ]
  },
  {
   "cell_type": "code",
   "execution_count": 5,
   "id": "8145dd20",
   "metadata": {
    "ExecuteTime": {
     "end_time": "2022-11-04T00:50:20.021829Z",
     "start_time": "2022-11-04T00:50:20.012912Z"
    }
   },
   "outputs": [
    {
     "name": "stdout",
     "output_type": "stream",
     "text": [
      ".. _iris_dataset:\n",
      "\n",
      "Iris plants dataset\n",
      "--------------------\n",
      "\n",
      "**Data Set Characteristics:**\n",
      "\n",
      "    :Number of Instances: 150 (50 in each of three classes)\n",
      "    :Number of Attributes: 4 numeric, predictive attributes and the class\n",
      "    :Attribute Information:\n",
      "        - sepal length in cm\n",
      "        - sepal width in cm\n",
      "        - petal length in cm\n",
      "        - petal width in cm\n",
      "        - class:\n",
      "                - Iris-Setosa\n",
      "                - Iris-Versicolour\n",
      "                - Iris-Virginica\n",
      "                \n",
      "    :Summary Statistics:\n",
      "\n",
      "    ============== ==== ==== ======= ===== ====================\n",
      "                    Min  Max   Mean    SD   Class Correlation\n",
      "    ============== ==== ==== ======= ===== ====================\n",
      "    sepal length:   4.3  7.9   5.84   0.83    0.7826\n",
      "    sepal width:    2.0  4.4   3.05   0.43   -0.4194\n",
      "    petal length:   1.0  6.9   3.76   1.76    0.9490  (high!)\n",
      "    petal width:    0.1  2.5   1.20   0.76    0.9565  (high!)\n",
      "    ============== ==== ==== ======= ===== ====================\n",
      "\n",
      "    :Missing Attribute Values: None\n",
      "    :Class Distribution: 33.3% for each of 3 classes.\n",
      "    :Creator: R.A. Fisher\n",
      "    :Donor: Michael Marshall (MARSHALL%PLU@io.arc.nasa.gov)\n",
      "    :Date: July, 1988\n",
      "\n",
      "The famous Iris database, first used by Sir R.A. Fisher. The dataset is taken\n",
      "from Fisher's paper. Note that it's the same as in R, but not as in the UCI\n",
      "Machine Learning Repository, which has two wrong data points.\n",
      "\n",
      "This is perhaps the best known database to be found in the\n",
      "pattern recognition literature.  Fisher's paper is a classic in the field and\n",
      "is referenced frequently to this day.  (See Duda & Hart, for example.)  The\n",
      "data set contains 3 classes of 50 instances each, where each class refers to a\n",
      "type of iris plant.  One class is linearly separable from the other 2; the\n",
      "latter are NOT linearly separable from each other.\n",
      "\n",
      ".. topic:: References\n",
      "\n",
      "   - Fisher, R.A. \"The use of multiple measurements in taxonomic problems\"\n",
      "     Annual Eugenics, 7, Part II, 179-188 (1936); also in \"Contributions to\n",
      "     Mathematical Statistics\" (John Wiley, NY, 1950).\n",
      "   - Duda, R.O., & Hart, P.E. (1973) Pattern Classification and Scene Analysis.\n",
      "     (Q327.D83) John Wiley & Sons.  ISBN 0-471-22361-1.  See page 218.\n",
      "   - Dasarathy, B.V. (1980) \"Nosing Around the Neighborhood: A New System\n",
      "     Structure and Classification Rule for Recognition in Partially Exposed\n",
      "     Environments\".  IEEE Transactions on Pattern Analysis and Machine\n",
      "     Intelligence, Vol. PAMI-2, No. 1, 67-71.\n",
      "   - Gates, G.W. (1972) \"The Reduced Nearest Neighbor Rule\".  IEEE Transactions\n",
      "     on Information Theory, May 1972, 431-433.\n",
      "   - See also: 1988 MLC Proceedings, 54-64.  Cheeseman et al\"s AUTOCLASS II\n",
      "     conceptual clustering system finds 3 classes in the data.\n",
      "   - Many, many more ...\n"
     ]
    }
   ],
   "source": [
    "print(iris['DESCR'])"
   ]
  },
  {
   "cell_type": "code",
   "execution_count": 6,
   "id": "2ab9a19c",
   "metadata": {
    "ExecuteTime": {
     "end_time": "2022-11-04T00:50:20.035714Z",
     "start_time": "2022-11-04T00:50:20.021829Z"
    }
   },
   "outputs": [
    {
     "data": {
      "text/plain": [
       "array(['setosa', 'versicolor', 'virginica'], dtype='<U10')"
      ]
     },
     "execution_count": 6,
     "metadata": {},
     "output_type": "execute_result"
    }
   ],
   "source": [
    "iris['target_names']"
   ]
  },
  {
   "cell_type": "code",
   "execution_count": 7,
   "id": "5bd8f906",
   "metadata": {
    "ExecuteTime": {
     "end_time": "2022-11-04T00:50:20.050924Z",
     "start_time": "2022-11-04T00:50:20.035714Z"
    }
   },
   "outputs": [
    {
     "data": {
      "text/plain": [
       "['sepal length (cm)',\n",
       " 'sepal width (cm)',\n",
       " 'petal length (cm)',\n",
       " 'petal width (cm)']"
      ]
     },
     "execution_count": 7,
     "metadata": {},
     "output_type": "execute_result"
    }
   ],
   "source": [
    "iris['feature_names']"
   ]
  },
  {
   "cell_type": "code",
   "execution_count": 8,
   "id": "d4fceeea",
   "metadata": {
    "ExecuteTime": {
     "end_time": "2022-11-04T00:50:20.068555Z",
     "start_time": "2022-11-04T00:50:20.052608Z"
    }
   },
   "outputs": [
    {
     "data": {
      "text/plain": [
       "numpy.ndarray"
      ]
     },
     "execution_count": 8,
     "metadata": {},
     "output_type": "execute_result"
    }
   ],
   "source": [
    "type(iris['data'])"
   ]
  },
  {
   "cell_type": "code",
   "execution_count": 9,
   "id": "a8b56d8e",
   "metadata": {
    "ExecuteTime": {
     "end_time": "2022-11-04T00:50:20.084038Z",
     "start_time": "2022-11-04T00:50:20.069242Z"
    }
   },
   "outputs": [
    {
     "data": {
      "text/plain": [
       "(150, 4)"
      ]
     },
     "execution_count": 9,
     "metadata": {},
     "output_type": "execute_result"
    }
   ],
   "source": [
    "iris['data'].shape"
   ]
  },
  {
   "cell_type": "code",
   "execution_count": 10,
   "id": "2e0cc244",
   "metadata": {
    "ExecuteTime": {
     "end_time": "2022-11-04T00:50:20.114711Z",
     "start_time": "2022-11-04T00:50:20.085036Z"
    }
   },
   "outputs": [
    {
     "data": {
      "text/plain": [
       "array([[5.1, 3.5, 1.4, 0.2],\n",
       "       [4.9, 3. , 1.4, 0.2],\n",
       "       [4.7, 3.2, 1.3, 0.2],\n",
       "       [4.6, 3.1, 1.5, 0.2],\n",
       "       [5. , 3.6, 1.4, 0.2]])"
      ]
     },
     "execution_count": 10,
     "metadata": {},
     "output_type": "execute_result"
    }
   ],
   "source": [
    "iris.data[:5]"
   ]
  },
  {
   "cell_type": "code",
   "execution_count": 11,
   "id": "8f365850",
   "metadata": {
    "ExecuteTime": {
     "end_time": "2022-11-04T00:50:20.133265Z",
     "start_time": "2022-11-04T00:50:20.115746Z"
    }
   },
   "outputs": [],
   "source": [
    "df = pd.DataFrame(iris.data, columns = iris.feature_names)\n",
    "df['species'] = iris.target"
   ]
  },
  {
   "cell_type": "code",
   "execution_count": 12,
   "id": "ef2cef97",
   "metadata": {
    "ExecuteTime": {
     "end_time": "2022-11-04T00:50:20.151255Z",
     "start_time": "2022-11-04T00:50:20.134261Z"
    }
   },
   "outputs": [
    {
     "data": {
      "text/html": [
       "<div>\n",
       "<style scoped>\n",
       "    .dataframe tbody tr th:only-of-type {\n",
       "        vertical-align: middle;\n",
       "    }\n",
       "\n",
       "    .dataframe tbody tr th {\n",
       "        vertical-align: top;\n",
       "    }\n",
       "\n",
       "    .dataframe thead th {\n",
       "        text-align: right;\n",
       "    }\n",
       "</style>\n",
       "<table border=\"1\" class=\"dataframe\">\n",
       "  <thead>\n",
       "    <tr style=\"text-align: right;\">\n",
       "      <th></th>\n",
       "      <th>sepal length (cm)</th>\n",
       "      <th>sepal width (cm)</th>\n",
       "      <th>petal length (cm)</th>\n",
       "      <th>petal width (cm)</th>\n",
       "      <th>species</th>\n",
       "    </tr>\n",
       "  </thead>\n",
       "  <tbody>\n",
       "    <tr>\n",
       "      <th>53</th>\n",
       "      <td>5.5</td>\n",
       "      <td>2.3</td>\n",
       "      <td>4.0</td>\n",
       "      <td>1.3</td>\n",
       "      <td>1</td>\n",
       "    </tr>\n",
       "    <tr>\n",
       "      <th>30</th>\n",
       "      <td>4.8</td>\n",
       "      <td>3.1</td>\n",
       "      <td>1.6</td>\n",
       "      <td>0.2</td>\n",
       "      <td>0</td>\n",
       "    </tr>\n",
       "    <tr>\n",
       "      <th>76</th>\n",
       "      <td>6.8</td>\n",
       "      <td>2.8</td>\n",
       "      <td>4.8</td>\n",
       "      <td>1.4</td>\n",
       "      <td>1</td>\n",
       "    </tr>\n",
       "    <tr>\n",
       "      <th>27</th>\n",
       "      <td>5.2</td>\n",
       "      <td>3.5</td>\n",
       "      <td>1.5</td>\n",
       "      <td>0.2</td>\n",
       "      <td>0</td>\n",
       "    </tr>\n",
       "    <tr>\n",
       "      <th>46</th>\n",
       "      <td>5.1</td>\n",
       "      <td>3.8</td>\n",
       "      <td>1.6</td>\n",
       "      <td>0.2</td>\n",
       "      <td>0</td>\n",
       "    </tr>\n",
       "    <tr>\n",
       "      <th>13</th>\n",
       "      <td>4.3</td>\n",
       "      <td>3.0</td>\n",
       "      <td>1.1</td>\n",
       "      <td>0.1</td>\n",
       "      <td>0</td>\n",
       "    </tr>\n",
       "    <tr>\n",
       "      <th>8</th>\n",
       "      <td>4.4</td>\n",
       "      <td>2.9</td>\n",
       "      <td>1.4</td>\n",
       "      <td>0.2</td>\n",
       "      <td>0</td>\n",
       "    </tr>\n",
       "    <tr>\n",
       "      <th>38</th>\n",
       "      <td>4.4</td>\n",
       "      <td>3.0</td>\n",
       "      <td>1.3</td>\n",
       "      <td>0.2</td>\n",
       "      <td>0</td>\n",
       "    </tr>\n",
       "    <tr>\n",
       "      <th>106</th>\n",
       "      <td>4.9</td>\n",
       "      <td>2.5</td>\n",
       "      <td>4.5</td>\n",
       "      <td>1.7</td>\n",
       "      <td>2</td>\n",
       "    </tr>\n",
       "    <tr>\n",
       "      <th>26</th>\n",
       "      <td>5.0</td>\n",
       "      <td>3.4</td>\n",
       "      <td>1.6</td>\n",
       "      <td>0.4</td>\n",
       "      <td>0</td>\n",
       "    </tr>\n",
       "  </tbody>\n",
       "</table>\n",
       "</div>"
      ],
      "text/plain": [
       "     sepal length (cm)  sepal width (cm)  petal length (cm)  petal width (cm)  \\\n",
       "53                 5.5               2.3                4.0               1.3   \n",
       "30                 4.8               3.1                1.6               0.2   \n",
       "76                 6.8               2.8                4.8               1.4   \n",
       "27                 5.2               3.5                1.5               0.2   \n",
       "46                 5.1               3.8                1.6               0.2   \n",
       "13                 4.3               3.0                1.1               0.1   \n",
       "8                  4.4               2.9                1.4               0.2   \n",
       "38                 4.4               3.0                1.3               0.2   \n",
       "106                4.9               2.5                4.5               1.7   \n",
       "26                 5.0               3.4                1.6               0.4   \n",
       "\n",
       "     species  \n",
       "53         1  \n",
       "30         0  \n",
       "76         1  \n",
       "27         0  \n",
       "46         0  \n",
       "13         0  \n",
       "8          0  \n",
       "38         0  \n",
       "106        2  \n",
       "26         0  "
      ]
     },
     "execution_count": 12,
     "metadata": {},
     "output_type": "execute_result"
    }
   ],
   "source": [
    "df.sample(10)"
   ]
  },
  {
   "cell_type": "code",
   "execution_count": 13,
   "id": "f8ecd80d",
   "metadata": {
    "ExecuteTime": {
     "end_time": "2022-11-04T00:50:20.171412Z",
     "start_time": "2022-11-04T00:50:20.152252Z"
    }
   },
   "outputs": [
    {
     "data": {
      "text/plain": [
       "array([0, 1, 2])"
      ]
     },
     "execution_count": 13,
     "metadata": {},
     "output_type": "execute_result"
    }
   ],
   "source": [
    "# unique() : 중복을 제거하고 고유값만 추출\n",
    "df['species'].unique()"
   ]
  },
  {
   "cell_type": "code",
   "execution_count": 14,
   "id": "3d6c16fe",
   "metadata": {
    "ExecuteTime": {
     "end_time": "2022-11-04T00:50:20.176222Z",
     "start_time": "2022-11-04T00:50:20.172408Z"
    }
   },
   "outputs": [
    {
     "data": {
      "text/plain": [
       "array(['setosa', 'versicolor', 'virginica'], dtype='<U10')"
      ]
     },
     "execution_count": 14,
     "metadata": {},
     "output_type": "execute_result"
    }
   ],
   "source": [
    "iris['target_names']"
   ]
  },
  {
   "cell_type": "code",
   "execution_count": 15,
   "id": "63a96ae3",
   "metadata": {
    "ExecuteTime": {
     "end_time": "2022-11-04T00:50:20.188503Z",
     "start_time": "2022-11-04T00:50:20.176222Z"
    }
   },
   "outputs": [],
   "source": [
    "df[df['species'] == 0].iloc[:,4] = 'setosa'"
   ]
  },
  {
   "cell_type": "markdown",
   "id": "6ab50310",
   "metadata": {},
   "source": [
    "## 훈련세트와 테스트세트로 분리"
   ]
  },
  {
   "cell_type": "code",
   "execution_count": 16,
   "id": "709313bf",
   "metadata": {
    "ExecuteTime": {
     "end_time": "2022-11-04T00:50:20.204196Z",
     "start_time": "2022-11-04T00:50:20.188503Z"
    }
   },
   "outputs": [],
   "source": [
    "from sklearn.model_selection import train_test_split\n",
    "X_train, X_test, y_train, y_test = train_test_split(\n",
    "    iris.data, iris.target, test_size = 0.2, random_state = 0)"
   ]
  },
  {
   "cell_type": "code",
   "execution_count": 17,
   "id": "ff739a88",
   "metadata": {
    "ExecuteTime": {
     "end_time": "2022-11-04T00:50:20.219713Z",
     "start_time": "2022-11-04T00:50:20.204750Z"
    }
   },
   "outputs": [
    {
     "data": {
      "text/plain": [
       "((120, 4), (30, 4))"
      ]
     },
     "execution_count": 17,
     "metadata": {},
     "output_type": "execute_result"
    }
   ],
   "source": [
    "X_train.shape, X_test.shape"
   ]
  },
  {
   "cell_type": "markdown",
   "id": "af70f550",
   "metadata": {},
   "source": [
    "## 분류 알고리즘 : 의사결정트리(DecisionTreeClassifier)\n",
    "- 분류와 회귀에 사용되는 지도학습 알고리즘\n",
    "- 데이터 특성으로 부터 추론된 결정규칙을 통해 값을 예측\n",
    "- if-then-else 결정 규칙을 통해 데이터 학습\n",
    "- 트리의 깊이가 깊을수록 복잡한 모델이 된다.\n",
    "- 결정트리의 장점 \n",
    "    - 이해와 해석이 쉽다.\n",
    "    - 시각화가 용이하다.\n",
    "    - 많은 데이터의 전처리가 필요하지 않다.\n",
    "    - 수치형과 범주형 데이터 모두를 다룰 수 있다. "
   ]
  },
  {
   "cell_type": "code",
   "execution_count": 19,
   "id": "3d127dcd",
   "metadata": {
    "ExecuteTime": {
     "end_time": "2022-11-04T00:52:24.025366Z",
     "start_time": "2022-11-04T00:52:24.011173Z"
    }
   },
   "outputs": [
    {
     "data": {
      "text/plain": [
       "DecisionTreeClassifier(random_state=121)"
      ]
     },
     "execution_count": 19,
     "metadata": {},
     "output_type": "execute_result"
    }
   ],
   "source": [
    "from sklearn.tree import DecisionTreeClassifier\n",
    "dtree = DecisionTreeClassifier(random_state = 121) # 실전에서는 random_state를 안담는 경우가 많다.\n",
    "dtree.fit(X_train, y_train) # 지도학습은 문제와 답을 함께 담아야 한다."
   ]
  },
  {
   "cell_type": "markdown",
   "id": "84c682a2",
   "metadata": {},
   "source": [
    "### 트리 구조를 시각화 하는 패키지 graphviz"
   ]
  },
  {
   "cell_type": "code",
   "execution_count": 20,
   "id": "b0627c23",
   "metadata": {
    "ExecuteTime": {
     "end_time": "2022-11-04T00:53:44.134139Z",
     "start_time": "2022-11-04T00:53:44.088261Z"
    }
   },
   "outputs": [],
   "source": [
    "import graphviz"
   ]
  },
  {
   "cell_type": "code",
   "execution_count": 26,
   "id": "bb823fec",
   "metadata": {
    "ExecuteTime": {
     "end_time": "2022-11-04T00:55:26.776332Z",
     "start_time": "2022-11-04T00:55:26.770358Z"
    }
   },
   "outputs": [
    {
     "data": {
      "text/plain": [
       "array(['setosa', 'versicolor', 'virginica'], dtype='<U10')"
      ]
     },
     "execution_count": 26,
     "metadata": {},
     "output_type": "execute_result"
    }
   ],
   "source": [
    "iris.target_names"
   ]
  },
  {
   "cell_type": "code",
   "execution_count": 42,
   "id": "ad130c1f",
   "metadata": {
    "ExecuteTime": {
     "end_time": "2022-11-04T02:13:13.600552Z",
     "start_time": "2022-11-04T02:13:13.586604Z"
    }
   },
   "outputs": [],
   "source": [
    "from sklearn.tree import export_graphviz\n",
    "# expert_graphviz(모델객체, 출력파일명, 결정트리클래스명칭, 결정트리피처명칭, 옵션)\n",
    "export_graphviz(dtree, out_file = 'tree.dot', class_names = iris.target_names, \n",
    "               feature_names = iris.feature_names, impurity = True, filled = True)\n",
    "\n",
    "# filled = Ture일때 색이 진할수록 불순도가 낮다.\n",
    "# 보통 root부터 level1로 둔다."
   ]
  },
  {
   "cell_type": "code",
   "execution_count": 43,
   "id": "9372d037",
   "metadata": {
    "ExecuteTime": {
     "end_time": "2022-11-04T02:13:13.867167Z",
     "start_time": "2022-11-04T02:13:13.807619Z"
    },
    "scrolled": true
   },
   "outputs": [
    {
     "data": {
      "image/svg+xml": [
       "<?xml version=\"1.0\" encoding=\"UTF-8\" standalone=\"no\"?>\n",
       "<!DOCTYPE svg PUBLIC \"-//W3C//DTD SVG 1.1//EN\"\n",
       " \"http://www.w3.org/Graphics/SVG/1.1/DTD/svg11.dtd\">\n",
       "<!-- Generated by graphviz version 6.0.2 (20221011.1828)\n",
       " -->\n",
       "<!-- Title: Tree Pages: 1 -->\n",
       "<svg width=\"831pt\" height=\"671pt\"\n",
       " viewBox=\"0.00 0.00 831.00 671.00\" xmlns=\"http://www.w3.org/2000/svg\" xmlns:xlink=\"http://www.w3.org/1999/xlink\">\n",
       "<g id=\"graph0\" class=\"graph\" transform=\"scale(1 1) rotate(0) translate(4 667)\">\n",
       "<title>Tree</title>\n",
       "<polygon fill=\"white\" stroke=\"none\" points=\"-4,4 -4,-667 827,-667 827,4 -4,4\"/>\n",
       "<!-- 0 -->\n",
       "<g id=\"node1\" class=\"node\">\n",
       "<title>0</title>\n",
       "<polygon fill=\"#f7f3fd\" stroke=\"black\" points=\"512,-663 354,-663 354,-580 512,-580 512,-663\"/>\n",
       "<text text-anchor=\"middle\" x=\"433\" y=\"-647.8\" font-family=\"Times New Roman,serif\" font-size=\"14.00\">petal length (cm) &lt;= 2.35</text>\n",
       "<text text-anchor=\"middle\" x=\"433\" y=\"-632.8\" font-family=\"Times New Roman,serif\" font-size=\"14.00\">gini = 0.665</text>\n",
       "<text text-anchor=\"middle\" x=\"433\" y=\"-617.8\" font-family=\"Times New Roman,serif\" font-size=\"14.00\">samples = 120</text>\n",
       "<text text-anchor=\"middle\" x=\"433\" y=\"-602.8\" font-family=\"Times New Roman,serif\" font-size=\"14.00\">value = [39, 37, 44]</text>\n",
       "<text text-anchor=\"middle\" x=\"433\" y=\"-587.8\" font-family=\"Times New Roman,serif\" font-size=\"14.00\">class = virginica</text>\n",
       "</g>\n",
       "<!-- 1 -->\n",
       "<g id=\"node2\" class=\"node\">\n",
       "<title>1</title>\n",
       "<polygon fill=\"#e58139\" stroke=\"black\" points=\"413,-536.5 301,-536.5 301,-468.5 413,-468.5 413,-536.5\"/>\n",
       "<text text-anchor=\"middle\" x=\"357\" y=\"-521.3\" font-family=\"Times New Roman,serif\" font-size=\"14.00\">gini = 0.0</text>\n",
       "<text text-anchor=\"middle\" x=\"357\" y=\"-506.3\" font-family=\"Times New Roman,serif\" font-size=\"14.00\">samples = 39</text>\n",
       "<text text-anchor=\"middle\" x=\"357\" y=\"-491.3\" font-family=\"Times New Roman,serif\" font-size=\"14.00\">value = [39, 0, 0]</text>\n",
       "<text text-anchor=\"middle\" x=\"357\" y=\"-476.3\" font-family=\"Times New Roman,serif\" font-size=\"14.00\">class = setosa</text>\n",
       "</g>\n",
       "<!-- 0&#45;&gt;1 -->\n",
       "<g id=\"edge1\" class=\"edge\">\n",
       "<title>0&#45;&gt;1</title>\n",
       "<path fill=\"none\" stroke=\"black\" d=\"M406.63,-579.91C399.32,-568.65 391.37,-556.42 384.03,-545.11\"/>\n",
       "<polygon fill=\"black\" stroke=\"black\" points=\"386.93,-543.15 378.54,-536.67 381.06,-546.96 386.93,-543.15\"/>\n",
       "<text text-anchor=\"middle\" x=\"373.35\" y=\"-557.42\" font-family=\"Times New Roman,serif\" font-size=\"14.00\">True</text>\n",
       "</g>\n",
       "<!-- 2 -->\n",
       "<g id=\"node3\" class=\"node\">\n",
       "<title>2</title>\n",
       "<polygon fill=\"#ebe0fb\" stroke=\"black\" points=\"586.5,-544 431.5,-544 431.5,-461 586.5,-461 586.5,-544\"/>\n",
       "<text text-anchor=\"middle\" x=\"509\" y=\"-528.8\" font-family=\"Times New Roman,serif\" font-size=\"14.00\">petal width (cm) &lt;= 1.75</text>\n",
       "<text text-anchor=\"middle\" x=\"509\" y=\"-513.8\" font-family=\"Times New Roman,serif\" font-size=\"14.00\">gini = 0.496</text>\n",
       "<text text-anchor=\"middle\" x=\"509\" y=\"-498.8\" font-family=\"Times New Roman,serif\" font-size=\"14.00\">samples = 81</text>\n",
       "<text text-anchor=\"middle\" x=\"509\" y=\"-483.8\" font-family=\"Times New Roman,serif\" font-size=\"14.00\">value = [0, 37, 44]</text>\n",
       "<text text-anchor=\"middle\" x=\"509\" y=\"-468.8\" font-family=\"Times New Roman,serif\" font-size=\"14.00\">class = virginica</text>\n",
       "</g>\n",
       "<!-- 0&#45;&gt;2 -->\n",
       "<g id=\"edge2\" class=\"edge\">\n",
       "<title>0&#45;&gt;2</title>\n",
       "<path fill=\"none\" stroke=\"black\" d=\"M459.37,-579.91C465.09,-571.1 471.19,-561.7 477.1,-552.61\"/>\n",
       "<polygon fill=\"black\" stroke=\"black\" points=\"480.17,-554.31 482.68,-544.02 474.3,-550.5 480.17,-554.31\"/>\n",
       "<text text-anchor=\"middle\" x=\"487.87\" y=\"-564.78\" font-family=\"Times New Roman,serif\" font-size=\"14.00\">False</text>\n",
       "</g>\n",
       "<!-- 3 -->\n",
       "<g id=\"node4\" class=\"node\">\n",
       "<title>3</title>\n",
       "<polygon fill=\"#4fe88f\" stroke=\"black\" points=\"480,-425 322,-425 322,-342 480,-342 480,-425\"/>\n",
       "<text text-anchor=\"middle\" x=\"401\" y=\"-409.8\" font-family=\"Times New Roman,serif\" font-size=\"14.00\">petal length (cm) &lt;= 4.95</text>\n",
       "<text text-anchor=\"middle\" x=\"401\" y=\"-394.8\" font-family=\"Times New Roman,serif\" font-size=\"14.00\">gini = 0.18</text>\n",
       "<text text-anchor=\"middle\" x=\"401\" y=\"-379.8\" font-family=\"Times New Roman,serif\" font-size=\"14.00\">samples = 40</text>\n",
       "<text text-anchor=\"middle\" x=\"401\" y=\"-364.8\" font-family=\"Times New Roman,serif\" font-size=\"14.00\">value = [0, 36, 4]</text>\n",
       "<text text-anchor=\"middle\" x=\"401\" y=\"-349.8\" font-family=\"Times New Roman,serif\" font-size=\"14.00\">class = versicolor</text>\n",
       "</g>\n",
       "<!-- 2&#45;&gt;3 -->\n",
       "<g id=\"edge3\" class=\"edge\">\n",
       "<title>2&#45;&gt;3</title>\n",
       "<path fill=\"none\" stroke=\"black\" d=\"M471.53,-460.91C463.07,-451.74 454.01,-441.93 445.3,-432.49\"/>\n",
       "<polygon fill=\"black\" stroke=\"black\" points=\"447.76,-429.99 438.4,-425.02 442.61,-434.74 447.76,-429.99\"/>\n",
       "</g>\n",
       "<!-- 12 -->\n",
       "<g id=\"node13\" class=\"node\">\n",
       "<title>12</title>\n",
       "<polygon fill=\"#843ee6\" stroke=\"black\" points=\"696,-425 538,-425 538,-342 696,-342 696,-425\"/>\n",
       "<text text-anchor=\"middle\" x=\"617\" y=\"-409.8\" font-family=\"Times New Roman,serif\" font-size=\"14.00\">petal length (cm) &lt;= 4.85</text>\n",
       "<text text-anchor=\"middle\" x=\"617\" y=\"-394.8\" font-family=\"Times New Roman,serif\" font-size=\"14.00\">gini = 0.048</text>\n",
       "<text text-anchor=\"middle\" x=\"617\" y=\"-379.8\" font-family=\"Times New Roman,serif\" font-size=\"14.00\">samples = 41</text>\n",
       "<text text-anchor=\"middle\" x=\"617\" y=\"-364.8\" font-family=\"Times New Roman,serif\" font-size=\"14.00\">value = [0, 1, 40]</text>\n",
       "<text text-anchor=\"middle\" x=\"617\" y=\"-349.8\" font-family=\"Times New Roman,serif\" font-size=\"14.00\">class = virginica</text>\n",
       "</g>\n",
       "<!-- 2&#45;&gt;12 -->\n",
       "<g id=\"edge12\" class=\"edge\">\n",
       "<title>2&#45;&gt;12</title>\n",
       "<path fill=\"none\" stroke=\"black\" d=\"M546.47,-460.91C554.93,-451.74 563.99,-441.93 572.7,-432.49\"/>\n",
       "<polygon fill=\"black\" stroke=\"black\" points=\"575.39,-434.74 579.6,-425.02 570.24,-429.99 575.39,-434.74\"/>\n",
       "</g>\n",
       "<!-- 4 -->\n",
       "<g id=\"node5\" class=\"node\">\n",
       "<title>4</title>\n",
       "<polygon fill=\"#3fe685\" stroke=\"black\" points=\"265.5,-306 110.5,-306 110.5,-223 265.5,-223 265.5,-306\"/>\n",
       "<text text-anchor=\"middle\" x=\"188\" y=\"-290.8\" font-family=\"Times New Roman,serif\" font-size=\"14.00\">petal width (cm) &lt;= 1.65</text>\n",
       "<text text-anchor=\"middle\" x=\"188\" y=\"-275.8\" font-family=\"Times New Roman,serif\" font-size=\"14.00\">gini = 0.056</text>\n",
       "<text text-anchor=\"middle\" x=\"188\" y=\"-260.8\" font-family=\"Times New Roman,serif\" font-size=\"14.00\">samples = 35</text>\n",
       "<text text-anchor=\"middle\" x=\"188\" y=\"-245.8\" font-family=\"Times New Roman,serif\" font-size=\"14.00\">value = [0, 34, 1]</text>\n",
       "<text text-anchor=\"middle\" x=\"188\" y=\"-230.8\" font-family=\"Times New Roman,serif\" font-size=\"14.00\">class = versicolor</text>\n",
       "</g>\n",
       "<!-- 3&#45;&gt;4 -->\n",
       "<g id=\"edge4\" class=\"edge\">\n",
       "<title>3&#45;&gt;4</title>\n",
       "<path fill=\"none\" stroke=\"black\" d=\"M327.1,-341.91C308.84,-331.88 289.17,-321.07 270.54,-310.84\"/>\n",
       "<polygon fill=\"black\" stroke=\"black\" points=\"272.22,-307.77 261.77,-306.02 268.85,-313.9 272.22,-307.77\"/>\n",
       "</g>\n",
       "<!-- 7 -->\n",
       "<g id=\"node8\" class=\"node\">\n",
       "<title>7</title>\n",
       "<polygon fill=\"#d5bdf6\" stroke=\"black\" points=\"478.5,-306 323.5,-306 323.5,-223 478.5,-223 478.5,-306\"/>\n",
       "<text text-anchor=\"middle\" x=\"401\" y=\"-290.8\" font-family=\"Times New Roman,serif\" font-size=\"14.00\">petal width (cm) &lt;= 1.55</text>\n",
       "<text text-anchor=\"middle\" x=\"401\" y=\"-275.8\" font-family=\"Times New Roman,serif\" font-size=\"14.00\">gini = 0.48</text>\n",
       "<text text-anchor=\"middle\" x=\"401\" y=\"-260.8\" font-family=\"Times New Roman,serif\" font-size=\"14.00\">samples = 5</text>\n",
       "<text text-anchor=\"middle\" x=\"401\" y=\"-245.8\" font-family=\"Times New Roman,serif\" font-size=\"14.00\">value = [0, 2, 3]</text>\n",
       "<text text-anchor=\"middle\" x=\"401\" y=\"-230.8\" font-family=\"Times New Roman,serif\" font-size=\"14.00\">class = virginica</text>\n",
       "</g>\n",
       "<!-- 3&#45;&gt;7 -->\n",
       "<g id=\"edge7\" class=\"edge\">\n",
       "<title>3&#45;&gt;7</title>\n",
       "<path fill=\"none\" stroke=\"black\" d=\"M401,-341.91C401,-333.65 401,-324.86 401,-316.3\"/>\n",
       "<polygon fill=\"black\" stroke=\"black\" points=\"404.5,-316.02 401,-306.02 397.5,-316.02 404.5,-316.02\"/>\n",
       "</g>\n",
       "<!-- 5 -->\n",
       "<g id=\"node6\" class=\"node\">\n",
       "<title>5</title>\n",
       "<polygon fill=\"#39e581\" stroke=\"black\" points=\"116,-179.5 0,-179.5 0,-111.5 116,-111.5 116,-179.5\"/>\n",
       "<text text-anchor=\"middle\" x=\"58\" y=\"-164.3\" font-family=\"Times New Roman,serif\" font-size=\"14.00\">gini = 0.0</text>\n",
       "<text text-anchor=\"middle\" x=\"58\" y=\"-149.3\" font-family=\"Times New Roman,serif\" font-size=\"14.00\">samples = 34</text>\n",
       "<text text-anchor=\"middle\" x=\"58\" y=\"-134.3\" font-family=\"Times New Roman,serif\" font-size=\"14.00\">value = [0, 34, 0]</text>\n",
       "<text text-anchor=\"middle\" x=\"58\" y=\"-119.3\" font-family=\"Times New Roman,serif\" font-size=\"14.00\">class = versicolor</text>\n",
       "</g>\n",
       "<!-- 4&#45;&gt;5 -->\n",
       "<g id=\"edge5\" class=\"edge\">\n",
       "<title>4&#45;&gt;5</title>\n",
       "<path fill=\"none\" stroke=\"black\" d=\"M142.9,-222.91C129.78,-211.1 115.46,-198.22 102.39,-186.45\"/>\n",
       "<polygon fill=\"black\" stroke=\"black\" points=\"104.63,-183.76 94.85,-179.67 99.94,-188.96 104.63,-183.76\"/>\n",
       "</g>\n",
       "<!-- 6 -->\n",
       "<g id=\"node7\" class=\"node\">\n",
       "<title>6</title>\n",
       "<polygon fill=\"#8139e5\" stroke=\"black\" points=\"241.5,-179.5 134.5,-179.5 134.5,-111.5 241.5,-111.5 241.5,-179.5\"/>\n",
       "<text text-anchor=\"middle\" x=\"188\" y=\"-164.3\" font-family=\"Times New Roman,serif\" font-size=\"14.00\">gini = 0.0</text>\n",
       "<text text-anchor=\"middle\" x=\"188\" y=\"-149.3\" font-family=\"Times New Roman,serif\" font-size=\"14.00\">samples = 1</text>\n",
       "<text text-anchor=\"middle\" x=\"188\" y=\"-134.3\" font-family=\"Times New Roman,serif\" font-size=\"14.00\">value = [0, 0, 1]</text>\n",
       "<text text-anchor=\"middle\" x=\"188\" y=\"-119.3\" font-family=\"Times New Roman,serif\" font-size=\"14.00\">class = virginica</text>\n",
       "</g>\n",
       "<!-- 4&#45;&gt;6 -->\n",
       "<g id=\"edge6\" class=\"edge\">\n",
       "<title>4&#45;&gt;6</title>\n",
       "<path fill=\"none\" stroke=\"black\" d=\"M188,-222.91C188,-212.2 188,-200.62 188,-189.78\"/>\n",
       "<polygon fill=\"black\" stroke=\"black\" points=\"191.5,-189.67 188,-179.67 184.5,-189.67 191.5,-189.67\"/>\n",
       "</g>\n",
       "<!-- 8 -->\n",
       "<g id=\"node9\" class=\"node\">\n",
       "<title>8</title>\n",
       "<polygon fill=\"#8139e5\" stroke=\"black\" points=\"366.5,-179.5 259.5,-179.5 259.5,-111.5 366.5,-111.5 366.5,-179.5\"/>\n",
       "<text text-anchor=\"middle\" x=\"313\" y=\"-164.3\" font-family=\"Times New Roman,serif\" font-size=\"14.00\">gini = 0.0</text>\n",
       "<text text-anchor=\"middle\" x=\"313\" y=\"-149.3\" font-family=\"Times New Roman,serif\" font-size=\"14.00\">samples = 2</text>\n",
       "<text text-anchor=\"middle\" x=\"313\" y=\"-134.3\" font-family=\"Times New Roman,serif\" font-size=\"14.00\">value = [0, 0, 2]</text>\n",
       "<text text-anchor=\"middle\" x=\"313\" y=\"-119.3\" font-family=\"Times New Roman,serif\" font-size=\"14.00\">class = virginica</text>\n",
       "</g>\n",
       "<!-- 7&#45;&gt;8 -->\n",
       "<g id=\"edge8\" class=\"edge\">\n",
       "<title>7&#45;&gt;8</title>\n",
       "<path fill=\"none\" stroke=\"black\" d=\"M370.47,-222.91C361.92,-211.54 352.62,-199.18 344.04,-187.77\"/>\n",
       "<polygon fill=\"black\" stroke=\"black\" points=\"346.75,-185.55 337.95,-179.67 341.16,-189.76 346.75,-185.55\"/>\n",
       "</g>\n",
       "<!-- 9 -->\n",
       "<g id=\"node10\" class=\"node\">\n",
       "<title>9</title>\n",
       "<polygon fill=\"#9cf2c0\" stroke=\"black\" points=\"545,-187 385,-187 385,-104 545,-104 545,-187\"/>\n",
       "<text text-anchor=\"middle\" x=\"465\" y=\"-171.8\" font-family=\"Times New Roman,serif\" font-size=\"14.00\">sepal length (cm) &lt;= 6.95</text>\n",
       "<text text-anchor=\"middle\" x=\"465\" y=\"-156.8\" font-family=\"Times New Roman,serif\" font-size=\"14.00\">gini = 0.444</text>\n",
       "<text text-anchor=\"middle\" x=\"465\" y=\"-141.8\" font-family=\"Times New Roman,serif\" font-size=\"14.00\">samples = 3</text>\n",
       "<text text-anchor=\"middle\" x=\"465\" y=\"-126.8\" font-family=\"Times New Roman,serif\" font-size=\"14.00\">value = [0, 2, 1]</text>\n",
       "<text text-anchor=\"middle\" x=\"465\" y=\"-111.8\" font-family=\"Times New Roman,serif\" font-size=\"14.00\">class = versicolor</text>\n",
       "</g>\n",
       "<!-- 7&#45;&gt;9 -->\n",
       "<g id=\"edge9\" class=\"edge\">\n",
       "<title>7&#45;&gt;9</title>\n",
       "<path fill=\"none\" stroke=\"black\" d=\"M423.2,-222.91C427.97,-214.2 433.06,-204.9 437.98,-195.89\"/>\n",
       "<polygon fill=\"black\" stroke=\"black\" points=\"441.11,-197.47 442.83,-187.02 434.97,-194.11 441.11,-197.47\"/>\n",
       "</g>\n",
       "<!-- 10 -->\n",
       "<g id=\"node11\" class=\"node\">\n",
       "<title>10</title>\n",
       "<polygon fill=\"#39e581\" stroke=\"black\" points=\"458,-68 342,-68 342,0 458,0 458,-68\"/>\n",
       "<text text-anchor=\"middle\" x=\"400\" y=\"-52.8\" font-family=\"Times New Roman,serif\" font-size=\"14.00\">gini = 0.0</text>\n",
       "<text text-anchor=\"middle\" x=\"400\" y=\"-37.8\" font-family=\"Times New Roman,serif\" font-size=\"14.00\">samples = 2</text>\n",
       "<text text-anchor=\"middle\" x=\"400\" y=\"-22.8\" font-family=\"Times New Roman,serif\" font-size=\"14.00\">value = [0, 2, 0]</text>\n",
       "<text text-anchor=\"middle\" x=\"400\" y=\"-7.8\" font-family=\"Times New Roman,serif\" font-size=\"14.00\">class = versicolor</text>\n",
       "</g>\n",
       "<!-- 9&#45;&gt;10 -->\n",
       "<g id=\"edge10\" class=\"edge\">\n",
       "<title>9&#45;&gt;10</title>\n",
       "<path fill=\"none\" stroke=\"black\" d=\"M440.8,-103.73C435.6,-94.97 430.1,-85.7 424.88,-76.91\"/>\n",
       "<polygon fill=\"black\" stroke=\"black\" points=\"427.88,-75.11 419.77,-68.3 421.86,-78.69 427.88,-75.11\"/>\n",
       "</g>\n",
       "<!-- 11 -->\n",
       "<g id=\"node12\" class=\"node\">\n",
       "<title>11</title>\n",
       "<polygon fill=\"#8139e5\" stroke=\"black\" points=\"583.5,-68 476.5,-68 476.5,0 583.5,0 583.5,-68\"/>\n",
       "<text text-anchor=\"middle\" x=\"530\" y=\"-52.8\" font-family=\"Times New Roman,serif\" font-size=\"14.00\">gini = 0.0</text>\n",
       "<text text-anchor=\"middle\" x=\"530\" y=\"-37.8\" font-family=\"Times New Roman,serif\" font-size=\"14.00\">samples = 1</text>\n",
       "<text text-anchor=\"middle\" x=\"530\" y=\"-22.8\" font-family=\"Times New Roman,serif\" font-size=\"14.00\">value = [0, 0, 1]</text>\n",
       "<text text-anchor=\"middle\" x=\"530\" y=\"-7.8\" font-family=\"Times New Roman,serif\" font-size=\"14.00\">class = virginica</text>\n",
       "</g>\n",
       "<!-- 9&#45;&gt;11 -->\n",
       "<g id=\"edge11\" class=\"edge\">\n",
       "<title>9&#45;&gt;11</title>\n",
       "<path fill=\"none\" stroke=\"black\" d=\"M489.2,-103.73C494.4,-94.97 499.9,-85.7 505.12,-76.91\"/>\n",
       "<polygon fill=\"black\" stroke=\"black\" points=\"508.14,-78.69 510.23,-68.3 502.12,-75.11 508.14,-78.69\"/>\n",
       "</g>\n",
       "<!-- 13 -->\n",
       "<g id=\"node14\" class=\"node\">\n",
       "<title>13</title>\n",
       "<polygon fill=\"#ffffff\" stroke=\"black\" points=\"692.5,-306 541.5,-306 541.5,-223 692.5,-223 692.5,-306\"/>\n",
       "<text text-anchor=\"middle\" x=\"617\" y=\"-290.8\" font-family=\"Times New Roman,serif\" font-size=\"14.00\">sepal width (cm) &lt;= 3.1</text>\n",
       "<text text-anchor=\"middle\" x=\"617\" y=\"-275.8\" font-family=\"Times New Roman,serif\" font-size=\"14.00\">gini = 0.5</text>\n",
       "<text text-anchor=\"middle\" x=\"617\" y=\"-260.8\" font-family=\"Times New Roman,serif\" font-size=\"14.00\">samples = 2</text>\n",
       "<text text-anchor=\"middle\" x=\"617\" y=\"-245.8\" font-family=\"Times New Roman,serif\" font-size=\"14.00\">value = [0, 1, 1]</text>\n",
       "<text text-anchor=\"middle\" x=\"617\" y=\"-230.8\" font-family=\"Times New Roman,serif\" font-size=\"14.00\">class = versicolor</text>\n",
       "</g>\n",
       "<!-- 12&#45;&gt;13 -->\n",
       "<g id=\"edge13\" class=\"edge\">\n",
       "<title>12&#45;&gt;13</title>\n",
       "<path fill=\"none\" stroke=\"black\" d=\"M617,-341.91C617,-333.65 617,-324.86 617,-316.3\"/>\n",
       "<polygon fill=\"black\" stroke=\"black\" points=\"620.5,-316.02 617,-306.02 613.5,-316.02 620.5,-316.02\"/>\n",
       "</g>\n",
       "<!-- 16 -->\n",
       "<g id=\"node17\" class=\"node\">\n",
       "<title>16</title>\n",
       "<polygon fill=\"#8139e5\" stroke=\"black\" points=\"823,-298.5 711,-298.5 711,-230.5 823,-230.5 823,-298.5\"/>\n",
       "<text text-anchor=\"middle\" x=\"767\" y=\"-283.3\" font-family=\"Times New Roman,serif\" font-size=\"14.00\">gini = 0.0</text>\n",
       "<text text-anchor=\"middle\" x=\"767\" y=\"-268.3\" font-family=\"Times New Roman,serif\" font-size=\"14.00\">samples = 39</text>\n",
       "<text text-anchor=\"middle\" x=\"767\" y=\"-253.3\" font-family=\"Times New Roman,serif\" font-size=\"14.00\">value = [0, 0, 39]</text>\n",
       "<text text-anchor=\"middle\" x=\"767\" y=\"-238.3\" font-family=\"Times New Roman,serif\" font-size=\"14.00\">class = virginica</text>\n",
       "</g>\n",
       "<!-- 12&#45;&gt;16 -->\n",
       "<g id=\"edge16\" class=\"edge\">\n",
       "<title>12&#45;&gt;16</title>\n",
       "<path fill=\"none\" stroke=\"black\" d=\"M669.04,-341.91C684.32,-329.99 701.01,-316.98 716.21,-305.12\"/>\n",
       "<polygon fill=\"black\" stroke=\"black\" points=\"718.75,-307.58 724.48,-298.67 714.44,-302.06 718.75,-307.58\"/>\n",
       "</g>\n",
       "<!-- 14 -->\n",
       "<g id=\"node15\" class=\"node\">\n",
       "<title>14</title>\n",
       "<polygon fill=\"#8139e5\" stroke=\"black\" points=\"670.5,-179.5 563.5,-179.5 563.5,-111.5 670.5,-111.5 670.5,-179.5\"/>\n",
       "<text text-anchor=\"middle\" x=\"617\" y=\"-164.3\" font-family=\"Times New Roman,serif\" font-size=\"14.00\">gini = 0.0</text>\n",
       "<text text-anchor=\"middle\" x=\"617\" y=\"-149.3\" font-family=\"Times New Roman,serif\" font-size=\"14.00\">samples = 1</text>\n",
       "<text text-anchor=\"middle\" x=\"617\" y=\"-134.3\" font-family=\"Times New Roman,serif\" font-size=\"14.00\">value = [0, 0, 1]</text>\n",
       "<text text-anchor=\"middle\" x=\"617\" y=\"-119.3\" font-family=\"Times New Roman,serif\" font-size=\"14.00\">class = virginica</text>\n",
       "</g>\n",
       "<!-- 13&#45;&gt;14 -->\n",
       "<g id=\"edge14\" class=\"edge\">\n",
       "<title>13&#45;&gt;14</title>\n",
       "<path fill=\"none\" stroke=\"black\" d=\"M617,-222.91C617,-212.2 617,-200.62 617,-189.78\"/>\n",
       "<polygon fill=\"black\" stroke=\"black\" points=\"620.5,-189.67 617,-179.67 613.5,-189.67 620.5,-189.67\"/>\n",
       "</g>\n",
       "<!-- 15 -->\n",
       "<g id=\"node16\" class=\"node\">\n",
       "<title>15</title>\n",
       "<polygon fill=\"#39e581\" stroke=\"black\" points=\"805,-179.5 689,-179.5 689,-111.5 805,-111.5 805,-179.5\"/>\n",
       "<text text-anchor=\"middle\" x=\"747\" y=\"-164.3\" font-family=\"Times New Roman,serif\" font-size=\"14.00\">gini = 0.0</text>\n",
       "<text text-anchor=\"middle\" x=\"747\" y=\"-149.3\" font-family=\"Times New Roman,serif\" font-size=\"14.00\">samples = 1</text>\n",
       "<text text-anchor=\"middle\" x=\"747\" y=\"-134.3\" font-family=\"Times New Roman,serif\" font-size=\"14.00\">value = [0, 1, 0]</text>\n",
       "<text text-anchor=\"middle\" x=\"747\" y=\"-119.3\" font-family=\"Times New Roman,serif\" font-size=\"14.00\">class = versicolor</text>\n",
       "</g>\n",
       "<!-- 13&#45;&gt;15 -->\n",
       "<g id=\"edge15\" class=\"edge\">\n",
       "<title>13&#45;&gt;15</title>\n",
       "<path fill=\"none\" stroke=\"black\" d=\"M662.1,-222.91C675.22,-211.1 689.54,-198.22 702.61,-186.45\"/>\n",
       "<polygon fill=\"black\" stroke=\"black\" points=\"705.06,-188.96 710.15,-179.67 700.37,-183.76 705.06,-188.96\"/>\n",
       "</g>\n",
       "</g>\n",
       "</svg>\n"
      ],
      "text/plain": [
       "<graphviz.sources.Source at 0x22e35ea88e0>"
      ]
     },
     "execution_count": 43,
     "metadata": {},
     "output_type": "execute_result"
    }
   ],
   "source": [
    "# open(fillname, mode)\n",
    "# mode : r, w, a\n",
    "# graphviz 파이썬 래퍼 모듈을 호출해 결정트리 규칙을 시각화한다.\n",
    "\n",
    "with open('tree.dot') as f:\n",
    "    dot_graph = f.read()\n",
    "    \n",
    "src = graphviz.Source(dot_graph)\n",
    "src"
   ]
  },
  {
   "cell_type": "code",
   "execution_count": 34,
   "id": "d6ff1733",
   "metadata": {
    "ExecuteTime": {
     "end_time": "2022-11-04T01:47:17.808493Z",
     "start_time": "2022-11-04T01:47:17.403344Z"
    }
   },
   "outputs": [
    {
     "data": {
      "text/plain": [
       "'Source.gv.pdf'"
      ]
     },
     "execution_count": 34,
     "metadata": {},
     "output_type": "execute_result"
    }
   ],
   "source": [
    "# 결정트리를 pdf 파일로 생성 : Source.gv, Source.gv.pdf 두개의 파일이 생성된다.\n",
    "src.view()"
   ]
  },
  {
   "cell_type": "code",
   "execution_count": 35,
   "id": "c6acf054",
   "metadata": {
    "ExecuteTime": {
     "end_time": "2022-11-04T02:06:35.287485Z",
     "start_time": "2022-11-04T02:06:35.271392Z"
    }
   },
   "outputs": [
    {
     "name": "stdout",
     "output_type": "stream",
     "text": [
      "1.0\n",
      "1.0\n"
     ]
    }
   ],
   "source": [
    "print(dtree.score(X_train, y_train))\n",
    "print(dtree.score(X_test, y_test))\n",
    "# 과대적합이 의심된다."
   ]
  },
  {
   "cell_type": "markdown",
   "id": "1d39b401",
   "metadata": {},
   "source": [
    "## DecisionTree의 중요 하이퍼파라미터 조정"
   ]
  },
  {
   "cell_type": "code",
   "execution_count": 36,
   "id": "9a068783",
   "metadata": {
    "ExecuteTime": {
     "end_time": "2022-11-04T02:10:25.118067Z",
     "start_time": "2022-11-04T02:10:25.103072Z"
    }
   },
   "outputs": [
    {
     "data": {
      "text/plain": [
       "DecisionTreeClassifier(min_samples_split=4, random_state=121)"
      ]
     },
     "execution_count": 36,
     "metadata": {},
     "output_type": "execute_result"
    }
   ],
   "source": [
    "model = DecisionTreeClassifier(min_samples_split = 4, random_state = 121)\n",
    "model.fit(X_train, y_train)"
   ]
  },
  {
   "cell_type": "code",
   "execution_count": 38,
   "id": "bb1b8ffc",
   "metadata": {
    "ExecuteTime": {
     "end_time": "2022-11-04T02:11:28.803668Z",
     "start_time": "2022-11-04T02:11:28.789730Z"
    }
   },
   "outputs": [
    {
     "name": "stdout",
     "output_type": "stream",
     "text": [
      "0.9833333333333333\n",
      "0.9666666666666667\n"
     ]
    }
   ],
   "source": [
    "print(model.score(X_train, y_train))\n",
    "print(model.score(X_test, y_test))"
   ]
  },
  {
   "cell_type": "code",
   "execution_count": 44,
   "id": "721e70ab",
   "metadata": {
    "ExecuteTime": {
     "end_time": "2022-11-04T02:13:23.664436Z",
     "start_time": "2022-11-04T02:13:23.592695Z"
    }
   },
   "outputs": [
    {
     "data": {
      "image/svg+xml": [
       "<?xml version=\"1.0\" encoding=\"UTF-8\" standalone=\"no\"?>\n",
       "<!DOCTYPE svg PUBLIC \"-//W3C//DTD SVG 1.1//EN\"\n",
       " \"http://www.w3.org/Graphics/SVG/1.1/DTD/svg11.dtd\">\n",
       "<!-- Generated by graphviz version 6.0.2 (20221011.1828)\n",
       " -->\n",
       "<!-- Title: Tree Pages: 1 -->\n",
       "<svg width=\"710pt\" height=\"552pt\"\n",
       " viewBox=\"0.00 0.00 710.00 552.00\" xmlns=\"http://www.w3.org/2000/svg\" xmlns:xlink=\"http://www.w3.org/1999/xlink\">\n",
       "<g id=\"graph0\" class=\"graph\" transform=\"scale(1 1) rotate(0) translate(4 548)\">\n",
       "<title>Tree</title>\n",
       "<polygon fill=\"white\" stroke=\"none\" points=\"-4,4 -4,-548 706,-548 706,4 -4,4\"/>\n",
       "<!-- 0 -->\n",
       "<g id=\"node1\" class=\"node\">\n",
       "<title>0</title>\n",
       "<polygon fill=\"#f7f3fd\" stroke=\"black\" points=\"434,-544 276,-544 276,-461 434,-461 434,-544\"/>\n",
       "<text text-anchor=\"middle\" x=\"355\" y=\"-528.8\" font-family=\"Times New Roman,serif\" font-size=\"14.00\">petal length (cm) &lt;= 2.35</text>\n",
       "<text text-anchor=\"middle\" x=\"355\" y=\"-513.8\" font-family=\"Times New Roman,serif\" font-size=\"14.00\">gini = 0.665</text>\n",
       "<text text-anchor=\"middle\" x=\"355\" y=\"-498.8\" font-family=\"Times New Roman,serif\" font-size=\"14.00\">samples = 120</text>\n",
       "<text text-anchor=\"middle\" x=\"355\" y=\"-483.8\" font-family=\"Times New Roman,serif\" font-size=\"14.00\">value = [39, 37, 44]</text>\n",
       "<text text-anchor=\"middle\" x=\"355\" y=\"-468.8\" font-family=\"Times New Roman,serif\" font-size=\"14.00\">class = virginica</text>\n",
       "</g>\n",
       "<!-- 1 -->\n",
       "<g id=\"node2\" class=\"node\">\n",
       "<title>1</title>\n",
       "<polygon fill=\"#e58139\" stroke=\"black\" points=\"335,-417.5 223,-417.5 223,-349.5 335,-349.5 335,-417.5\"/>\n",
       "<text text-anchor=\"middle\" x=\"279\" y=\"-402.3\" font-family=\"Times New Roman,serif\" font-size=\"14.00\">gini = 0.0</text>\n",
       "<text text-anchor=\"middle\" x=\"279\" y=\"-387.3\" font-family=\"Times New Roman,serif\" font-size=\"14.00\">samples = 39</text>\n",
       "<text text-anchor=\"middle\" x=\"279\" y=\"-372.3\" font-family=\"Times New Roman,serif\" font-size=\"14.00\">value = [39, 0, 0]</text>\n",
       "<text text-anchor=\"middle\" x=\"279\" y=\"-357.3\" font-family=\"Times New Roman,serif\" font-size=\"14.00\">class = setosa</text>\n",
       "</g>\n",
       "<!-- 0&#45;&gt;1 -->\n",
       "<g id=\"edge1\" class=\"edge\">\n",
       "<title>0&#45;&gt;1</title>\n",
       "<path fill=\"none\" stroke=\"black\" d=\"M328.63,-460.91C321.32,-449.65 313.37,-437.42 306.03,-426.11\"/>\n",
       "<polygon fill=\"black\" stroke=\"black\" points=\"308.93,-424.15 300.54,-417.67 303.06,-427.96 308.93,-424.15\"/>\n",
       "<text text-anchor=\"middle\" x=\"295.35\" y=\"-438.42\" font-family=\"Times New Roman,serif\" font-size=\"14.00\">True</text>\n",
       "</g>\n",
       "<!-- 2 -->\n",
       "<g id=\"node3\" class=\"node\">\n",
       "<title>2</title>\n",
       "<polygon fill=\"#ebe0fb\" stroke=\"black\" points=\"508.5,-425 353.5,-425 353.5,-342 508.5,-342 508.5,-425\"/>\n",
       "<text text-anchor=\"middle\" x=\"431\" y=\"-409.8\" font-family=\"Times New Roman,serif\" font-size=\"14.00\">petal width (cm) &lt;= 1.75</text>\n",
       "<text text-anchor=\"middle\" x=\"431\" y=\"-394.8\" font-family=\"Times New Roman,serif\" font-size=\"14.00\">gini = 0.496</text>\n",
       "<text text-anchor=\"middle\" x=\"431\" y=\"-379.8\" font-family=\"Times New Roman,serif\" font-size=\"14.00\">samples = 81</text>\n",
       "<text text-anchor=\"middle\" x=\"431\" y=\"-364.8\" font-family=\"Times New Roman,serif\" font-size=\"14.00\">value = [0, 37, 44]</text>\n",
       "<text text-anchor=\"middle\" x=\"431\" y=\"-349.8\" font-family=\"Times New Roman,serif\" font-size=\"14.00\">class = virginica</text>\n",
       "</g>\n",
       "<!-- 0&#45;&gt;2 -->\n",
       "<g id=\"edge2\" class=\"edge\">\n",
       "<title>0&#45;&gt;2</title>\n",
       "<path fill=\"none\" stroke=\"black\" d=\"M381.37,-460.91C387.09,-452.1 393.19,-442.7 399.1,-433.61\"/>\n",
       "<polygon fill=\"black\" stroke=\"black\" points=\"402.17,-435.31 404.68,-425.02 396.3,-431.5 402.17,-435.31\"/>\n",
       "<text text-anchor=\"middle\" x=\"409.87\" y=\"-445.78\" font-family=\"Times New Roman,serif\" font-size=\"14.00\">False</text>\n",
       "</g>\n",
       "<!-- 3 -->\n",
       "<g id=\"node4\" class=\"node\">\n",
       "<title>3</title>\n",
       "<polygon fill=\"#4fe88f\" stroke=\"black\" points=\"422,-306 264,-306 264,-223 422,-223 422,-306\"/>\n",
       "<text text-anchor=\"middle\" x=\"343\" y=\"-290.8\" font-family=\"Times New Roman,serif\" font-size=\"14.00\">petal length (cm) &lt;= 4.95</text>\n",
       "<text text-anchor=\"middle\" x=\"343\" y=\"-275.8\" font-family=\"Times New Roman,serif\" font-size=\"14.00\">gini = 0.18</text>\n",
       "<text text-anchor=\"middle\" x=\"343\" y=\"-260.8\" font-family=\"Times New Roman,serif\" font-size=\"14.00\">samples = 40</text>\n",
       "<text text-anchor=\"middle\" x=\"343\" y=\"-245.8\" font-family=\"Times New Roman,serif\" font-size=\"14.00\">value = [0, 36, 4]</text>\n",
       "<text text-anchor=\"middle\" x=\"343\" y=\"-230.8\" font-family=\"Times New Roman,serif\" font-size=\"14.00\">class = versicolor</text>\n",
       "</g>\n",
       "<!-- 2&#45;&gt;3 -->\n",
       "<g id=\"edge3\" class=\"edge\">\n",
       "<title>2&#45;&gt;3</title>\n",
       "<path fill=\"none\" stroke=\"black\" d=\"M400.47,-341.91C393.71,-332.92 386.48,-323.32 379.52,-314.05\"/>\n",
       "<polygon fill=\"black\" stroke=\"black\" points=\"382.29,-311.91 373.48,-306.02 376.69,-316.12 382.29,-311.91\"/>\n",
       "</g>\n",
       "<!-- 10 -->\n",
       "<g id=\"node11\" class=\"node\">\n",
       "<title>10</title>\n",
       "<polygon fill=\"#843ee6\" stroke=\"black\" points=\"598,-306 440,-306 440,-223 598,-223 598,-306\"/>\n",
       "<text text-anchor=\"middle\" x=\"519\" y=\"-290.8\" font-family=\"Times New Roman,serif\" font-size=\"14.00\">petal length (cm) &lt;= 4.85</text>\n",
       "<text text-anchor=\"middle\" x=\"519\" y=\"-275.8\" font-family=\"Times New Roman,serif\" font-size=\"14.00\">gini = 0.048</text>\n",
       "<text text-anchor=\"middle\" x=\"519\" y=\"-260.8\" font-family=\"Times New Roman,serif\" font-size=\"14.00\">samples = 41</text>\n",
       "<text text-anchor=\"middle\" x=\"519\" y=\"-245.8\" font-family=\"Times New Roman,serif\" font-size=\"14.00\">value = [0, 1, 40]</text>\n",
       "<text text-anchor=\"middle\" x=\"519\" y=\"-230.8\" font-family=\"Times New Roman,serif\" font-size=\"14.00\">class = virginica</text>\n",
       "</g>\n",
       "<!-- 2&#45;&gt;10 -->\n",
       "<g id=\"edge10\" class=\"edge\">\n",
       "<title>2&#45;&gt;10</title>\n",
       "<path fill=\"none\" stroke=\"black\" d=\"M461.53,-341.91C468.29,-332.92 475.52,-323.32 482.48,-314.05\"/>\n",
       "<polygon fill=\"black\" stroke=\"black\" points=\"485.31,-316.12 488.52,-306.02 479.71,-311.91 485.31,-316.12\"/>\n",
       "</g>\n",
       "<!-- 4 -->\n",
       "<g id=\"node5\" class=\"node\">\n",
       "<title>4</title>\n",
       "<polygon fill=\"#3fe685\" stroke=\"black\" points=\"253.5,-187 98.5,-187 98.5,-104 253.5,-104 253.5,-187\"/>\n",
       "<text text-anchor=\"middle\" x=\"176\" y=\"-171.8\" font-family=\"Times New Roman,serif\" font-size=\"14.00\">petal width (cm) &lt;= 1.65</text>\n",
       "<text text-anchor=\"middle\" x=\"176\" y=\"-156.8\" font-family=\"Times New Roman,serif\" font-size=\"14.00\">gini = 0.056</text>\n",
       "<text text-anchor=\"middle\" x=\"176\" y=\"-141.8\" font-family=\"Times New Roman,serif\" font-size=\"14.00\">samples = 35</text>\n",
       "<text text-anchor=\"middle\" x=\"176\" y=\"-126.8\" font-family=\"Times New Roman,serif\" font-size=\"14.00\">value = [0, 34, 1]</text>\n",
       "<text text-anchor=\"middle\" x=\"176\" y=\"-111.8\" font-family=\"Times New Roman,serif\" font-size=\"14.00\">class = versicolor</text>\n",
       "</g>\n",
       "<!-- 3&#45;&gt;4 -->\n",
       "<g id=\"edge4\" class=\"edge\">\n",
       "<title>3&#45;&gt;4</title>\n",
       "<path fill=\"none\" stroke=\"black\" d=\"M285.06,-222.91C271.2,-213.2 256.3,-202.76 242.1,-192.81\"/>\n",
       "<polygon fill=\"black\" stroke=\"black\" points=\"244.04,-189.89 233.84,-187.02 240.02,-195.63 244.04,-189.89\"/>\n",
       "</g>\n",
       "<!-- 7 -->\n",
       "<g id=\"node8\" class=\"node\">\n",
       "<title>7</title>\n",
       "<polygon fill=\"#d5bdf6\" stroke=\"black\" points=\"426.5,-187 271.5,-187 271.5,-104 426.5,-104 426.5,-187\"/>\n",
       "<text text-anchor=\"middle\" x=\"349\" y=\"-171.8\" font-family=\"Times New Roman,serif\" font-size=\"14.00\">petal width (cm) &lt;= 1.55</text>\n",
       "<text text-anchor=\"middle\" x=\"349\" y=\"-156.8\" font-family=\"Times New Roman,serif\" font-size=\"14.00\">gini = 0.48</text>\n",
       "<text text-anchor=\"middle\" x=\"349\" y=\"-141.8\" font-family=\"Times New Roman,serif\" font-size=\"14.00\">samples = 5</text>\n",
       "<text text-anchor=\"middle\" x=\"349\" y=\"-126.8\" font-family=\"Times New Roman,serif\" font-size=\"14.00\">value = [0, 2, 3]</text>\n",
       "<text text-anchor=\"middle\" x=\"349\" y=\"-111.8\" font-family=\"Times New Roman,serif\" font-size=\"14.00\">class = virginica</text>\n",
       "</g>\n",
       "<!-- 3&#45;&gt;7 -->\n",
       "<g id=\"edge7\" class=\"edge\">\n",
       "<title>3&#45;&gt;7</title>\n",
       "<path fill=\"none\" stroke=\"black\" d=\"M345.08,-222.91C345.51,-214.56 345.97,-205.67 346.41,-197.02\"/>\n",
       "<polygon fill=\"black\" stroke=\"black\" points=\"349.91,-197.19 346.92,-187.02 342.91,-196.83 349.91,-197.19\"/>\n",
       "</g>\n",
       "<!-- 5 -->\n",
       "<g id=\"node6\" class=\"node\">\n",
       "<title>5</title>\n",
       "<polygon fill=\"#39e581\" stroke=\"black\" points=\"116,-68 0,-68 0,0 116,0 116,-68\"/>\n",
       "<text text-anchor=\"middle\" x=\"58\" y=\"-52.8\" font-family=\"Times New Roman,serif\" font-size=\"14.00\">gini = 0.0</text>\n",
       "<text text-anchor=\"middle\" x=\"58\" y=\"-37.8\" font-family=\"Times New Roman,serif\" font-size=\"14.00\">samples = 34</text>\n",
       "<text text-anchor=\"middle\" x=\"58\" y=\"-22.8\" font-family=\"Times New Roman,serif\" font-size=\"14.00\">value = [0, 34, 0]</text>\n",
       "<text text-anchor=\"middle\" x=\"58\" y=\"-7.8\" font-family=\"Times New Roman,serif\" font-size=\"14.00\">class = versicolor</text>\n",
       "</g>\n",
       "<!-- 4&#45;&gt;5 -->\n",
       "<g id=\"edge5\" class=\"edge\">\n",
       "<title>4&#45;&gt;5</title>\n",
       "<path fill=\"none\" stroke=\"black\" d=\"M132.06,-103.73C122.04,-94.42 111.39,-84.54 101.39,-75.26\"/>\n",
       "<polygon fill=\"black\" stroke=\"black\" points=\"103.6,-72.54 93.88,-68.3 98.83,-77.67 103.6,-72.54\"/>\n",
       "</g>\n",
       "<!-- 6 -->\n",
       "<g id=\"node7\" class=\"node\">\n",
       "<title>6</title>\n",
       "<polygon fill=\"#8139e5\" stroke=\"black\" points=\"241.5,-68 134.5,-68 134.5,0 241.5,0 241.5,-68\"/>\n",
       "<text text-anchor=\"middle\" x=\"188\" y=\"-52.8\" font-family=\"Times New Roman,serif\" font-size=\"14.00\">gini = 0.0</text>\n",
       "<text text-anchor=\"middle\" x=\"188\" y=\"-37.8\" font-family=\"Times New Roman,serif\" font-size=\"14.00\">samples = 1</text>\n",
       "<text text-anchor=\"middle\" x=\"188\" y=\"-22.8\" font-family=\"Times New Roman,serif\" font-size=\"14.00\">value = [0, 0, 1]</text>\n",
       "<text text-anchor=\"middle\" x=\"188\" y=\"-7.8\" font-family=\"Times New Roman,serif\" font-size=\"14.00\">class = virginica</text>\n",
       "</g>\n",
       "<!-- 4&#45;&gt;6 -->\n",
       "<g id=\"edge6\" class=\"edge\">\n",
       "<title>4&#45;&gt;6</title>\n",
       "<path fill=\"none\" stroke=\"black\" d=\"M180.47,-103.73C181.38,-95.43 182.34,-86.67 183.26,-78.28\"/>\n",
       "<polygon fill=\"black\" stroke=\"black\" points=\"186.74,-78.62 184.35,-68.3 179.78,-77.86 186.74,-78.62\"/>\n",
       "</g>\n",
       "<!-- 8 -->\n",
       "<g id=\"node9\" class=\"node\">\n",
       "<title>8</title>\n",
       "<polygon fill=\"#8139e5\" stroke=\"black\" points=\"390.5,-68 283.5,-68 283.5,0 390.5,0 390.5,-68\"/>\n",
       "<text text-anchor=\"middle\" x=\"337\" y=\"-52.8\" font-family=\"Times New Roman,serif\" font-size=\"14.00\">gini = 0.0</text>\n",
       "<text text-anchor=\"middle\" x=\"337\" y=\"-37.8\" font-family=\"Times New Roman,serif\" font-size=\"14.00\">samples = 2</text>\n",
       "<text text-anchor=\"middle\" x=\"337\" y=\"-22.8\" font-family=\"Times New Roman,serif\" font-size=\"14.00\">value = [0, 0, 2]</text>\n",
       "<text text-anchor=\"middle\" x=\"337\" y=\"-7.8\" font-family=\"Times New Roman,serif\" font-size=\"14.00\">class = virginica</text>\n",
       "</g>\n",
       "<!-- 7&#45;&gt;8 -->\n",
       "<g id=\"edge8\" class=\"edge\">\n",
       "<title>7&#45;&gt;8</title>\n",
       "<path fill=\"none\" stroke=\"black\" d=\"M344.53,-103.73C343.62,-95.43 342.66,-86.67 341.74,-78.28\"/>\n",
       "<polygon fill=\"black\" stroke=\"black\" points=\"345.22,-77.86 340.65,-68.3 338.26,-78.62 345.22,-77.86\"/>\n",
       "</g>\n",
       "<!-- 9 -->\n",
       "<g id=\"node10\" class=\"node\">\n",
       "<title>9</title>\n",
       "<polygon fill=\"#9cf2c0\" stroke=\"black\" points=\"525,-68 409,-68 409,0 525,0 525,-68\"/>\n",
       "<text text-anchor=\"middle\" x=\"467\" y=\"-52.8\" font-family=\"Times New Roman,serif\" font-size=\"14.00\">gini = 0.444</text>\n",
       "<text text-anchor=\"middle\" x=\"467\" y=\"-37.8\" font-family=\"Times New Roman,serif\" font-size=\"14.00\">samples = 3</text>\n",
       "<text text-anchor=\"middle\" x=\"467\" y=\"-22.8\" font-family=\"Times New Roman,serif\" font-size=\"14.00\">value = [0, 2, 1]</text>\n",
       "<text text-anchor=\"middle\" x=\"467\" y=\"-7.8\" font-family=\"Times New Roman,serif\" font-size=\"14.00\">class = versicolor</text>\n",
       "</g>\n",
       "<!-- 7&#45;&gt;9 -->\n",
       "<g id=\"edge9\" class=\"edge\">\n",
       "<title>7&#45;&gt;9</title>\n",
       "<path fill=\"none\" stroke=\"black\" d=\"M392.94,-103.73C402.96,-94.42 413.61,-84.54 423.61,-75.26\"/>\n",
       "<polygon fill=\"black\" stroke=\"black\" points=\"426.17,-77.67 431.12,-68.3 421.4,-72.54 426.17,-77.67\"/>\n",
       "</g>\n",
       "<!-- 11 -->\n",
       "<g id=\"node12\" class=\"node\">\n",
       "<title>11</title>\n",
       "<polygon fill=\"#ffffff\" stroke=\"black\" points=\"572,-179.5 456,-179.5 456,-111.5 572,-111.5 572,-179.5\"/>\n",
       "<text text-anchor=\"middle\" x=\"514\" y=\"-164.3\" font-family=\"Times New Roman,serif\" font-size=\"14.00\">gini = 0.5</text>\n",
       "<text text-anchor=\"middle\" x=\"514\" y=\"-149.3\" font-family=\"Times New Roman,serif\" font-size=\"14.00\">samples = 2</text>\n",
       "<text text-anchor=\"middle\" x=\"514\" y=\"-134.3\" font-family=\"Times New Roman,serif\" font-size=\"14.00\">value = [0, 1, 1]</text>\n",
       "<text text-anchor=\"middle\" x=\"514\" y=\"-119.3\" font-family=\"Times New Roman,serif\" font-size=\"14.00\">class = versicolor</text>\n",
       "</g>\n",
       "<!-- 10&#45;&gt;11 -->\n",
       "<g id=\"edge11\" class=\"edge\">\n",
       "<title>10&#45;&gt;11</title>\n",
       "<path fill=\"none\" stroke=\"black\" d=\"M517.27,-222.91C516.81,-212.2 516.31,-200.62 515.85,-189.78\"/>\n",
       "<polygon fill=\"black\" stroke=\"black\" points=\"519.34,-189.51 515.42,-179.67 512.35,-189.81 519.34,-189.51\"/>\n",
       "</g>\n",
       "<!-- 12 -->\n",
       "<g id=\"node13\" class=\"node\">\n",
       "<title>12</title>\n",
       "<polygon fill=\"#8139e5\" stroke=\"black\" points=\"702,-179.5 590,-179.5 590,-111.5 702,-111.5 702,-179.5\"/>\n",
       "<text text-anchor=\"middle\" x=\"646\" y=\"-164.3\" font-family=\"Times New Roman,serif\" font-size=\"14.00\">gini = 0.0</text>\n",
       "<text text-anchor=\"middle\" x=\"646\" y=\"-149.3\" font-family=\"Times New Roman,serif\" font-size=\"14.00\">samples = 39</text>\n",
       "<text text-anchor=\"middle\" x=\"646\" y=\"-134.3\" font-family=\"Times New Roman,serif\" font-size=\"14.00\">value = [0, 0, 39]</text>\n",
       "<text text-anchor=\"middle\" x=\"646\" y=\"-119.3\" font-family=\"Times New Roman,serif\" font-size=\"14.00\">class = virginica</text>\n",
       "</g>\n",
       "<!-- 10&#45;&gt;12 -->\n",
       "<g id=\"edge12\" class=\"edge\">\n",
       "<title>10&#45;&gt;12</title>\n",
       "<path fill=\"none\" stroke=\"black\" d=\"M563.06,-222.91C575.88,-211.1 589.86,-198.22 602.64,-186.45\"/>\n",
       "<polygon fill=\"black\" stroke=\"black\" points=\"605.02,-189.02 610,-179.67 600.27,-183.87 605.02,-189.02\"/>\n",
       "</g>\n",
       "</g>\n",
       "</svg>\n"
      ],
      "text/plain": [
       "<graphviz.sources.Source at 0x22e35ea8490>"
      ]
     },
     "execution_count": 44,
     "metadata": {},
     "output_type": "execute_result"
    }
   ],
   "source": [
    "export_graphviz(model, out_file = 'tree1.dot', class_names = iris.target_names, \n",
    "               feature_names = iris.feature_names, impurity = True, filled = True)\n",
    "print(model.score(X_train, y_train))\n",
    "print(model.score(X_test, y_test))\n",
    "with open('tree1.dot') as f:\n",
    "    dot_graph = f.read()\n",
    "    \n",
    "src = graphviz.Source(dot_graph)\n",
    "src"
   ]
  },
  {
   "cell_type": "markdown",
   "id": "cb95655b",
   "metadata": {},
   "source": [
    "## feature 별 결정 트리 알고리즘의 중요도"
   ]
  },
  {
   "cell_type": "code",
   "execution_count": 45,
   "id": "5ac71235",
   "metadata": {
    "ExecuteTime": {
     "end_time": "2022-11-04T02:13:59.913955Z",
     "start_time": "2022-11-04T02:13:59.900991Z"
    }
   },
   "outputs": [
    {
     "data": {
      "text/plain": [
       "array([0.        , 0.        , 0.56028618, 0.43971382])"
      ]
     },
     "execution_count": 45,
     "metadata": {},
     "output_type": "execute_result"
    }
   ],
   "source": [
    "# 모델에 학습을 시켜야지만 생겨나는 매개변수. \n",
    "model.feature_importances_"
   ]
  },
  {
   "cell_type": "markdown",
   "id": "2875125d",
   "metadata": {},
   "source": [
    "### feature 별 중요도 값 매칭"
   ]
  },
  {
   "cell_type": "code",
   "execution_count": 49,
   "id": "2236e41a",
   "metadata": {
    "ExecuteTime": {
     "end_time": "2022-11-04T02:17:33.131964Z",
     "start_time": "2022-11-04T02:17:33.122990Z"
    }
   },
   "outputs": [
    {
     "name": "stdout",
     "output_type": "stream",
     "text": [
      "sepal length (cm) : 0.000\n",
      "sepal width (cm) : 0.000\n",
      "petal length (cm) : 0.560\n",
      "petal width (cm) : 0.440\n"
     ]
    }
   ],
   "source": [
    "for name, value in zip(iris.feature_names, model.feature_importances_):\n",
    "    print('{} : {:.3f}'.format(name, value))"
   ]
  },
  {
   "cell_type": "markdown",
   "id": "466b2639",
   "metadata": {},
   "source": [
    "### feature별 중요도 시각화"
   ]
  },
  {
   "cell_type": "code",
   "execution_count": 59,
   "id": "8faa28d9",
   "metadata": {
    "ExecuteTime": {
     "end_time": "2022-11-04T02:20:12.211699Z",
     "start_time": "2022-11-04T02:20:12.107923Z"
    }
   },
   "outputs": [
    {
     "data": {
      "image/png": "[encoded data removed]",
      "text/plain": [
       "<Figure size 864x576 with 1 Axes>"
      ]
     },
     "metadata": {},
     "output_type": "display_data"
    }
   ],
   "source": [
    "import seaborn as sns\n",
    "plt.figure(figsize=(12, 8))\n",
    "sns.barplot(model.feature_importances_, iris.feature_names)\n",
    "plt.show()"
   ]
  },
  {
   "cell_type": "markdown",
   "id": "0818fa4e",
   "metadata": {},
   "source": [
    "## 가지치기(Prunning)\n",
    "1. Tree Prunning : 의사결정 트리 모델의 과적합(Overfitting)을 줄이고, 일반화 가능성을 증대시킬 수 있는 subtree를 찾는 과정\n",
    "2. 가지치기 방법\n",
    "    - cross-validation\n",
    "    - independent validation set\n",
    "3. Prunning Logic\n",
    "    - 가지치기 과정에서는 트리 해당 데이터셋에 과도하게 최적화되지 않도록 결정트리의 최대깊이를 제한하고, leaf node의 최대 개수를 제한한다.\n",
    "    - 노드를 분할시키기 위해 필요한 '최소한의 데이터 개수'를 지정한다."
   ]
  },
  {
   "cell_type": "code",
   "execution_count": 85,
   "id": "e8900b9c",
   "metadata": {
    "ExecuteTime": {
     "end_time": "2022-11-04T03:08:49.334766Z",
     "start_time": "2022-11-04T03:08:49.317793Z"
    }
   },
   "outputs": [
    {
     "name": "stdout",
     "output_type": "stream",
     "text": [
      "0.9583333333333334\n",
      "0.9666666666666667\n"
     ]
    }
   ],
   "source": [
    "# 결정트리에서 가지치기를 하는 가장 간단한 방법은 트리의 깊이를 지정하는 것이다. \n",
    "# 규칙을 많이 준다고 좋은것은 아니다. 과적합을 발생시킬수 있기 때문\n",
    "model = DecisionTreeClassifier(max_depth = 3, min_samples_leaf = 6, random_state = 121)\n",
    "model.fit(X_train, y_train)\n",
    "print(model.score(X_train, y_train))\n",
    "print(model.score(X_test, y_test))"
   ]
  },
  {
   "cell_type": "markdown",
   "id": "ac375b28",
   "metadata": {},
   "source": [
    "### 교차검증"
   ]
  },
  {
   "cell_type": "code",
   "execution_count": 65,
   "id": "17880fcd",
   "metadata": {
    "ExecuteTime": {
     "end_time": "2022-11-04T02:46:10.070368Z",
     "start_time": "2022-11-04T02:46:10.038910Z"
    }
   },
   "outputs": [
    {
     "data": {
      "text/plain": [
       "{'fit_time': array([0.0130055 , 0.00149775, 0.00099707, 0.0009985 , 0.00099564]),\n",
       " 'score_time': array([0., 0., 0., 0., 0.]),\n",
       " 'test_score': array([0.95833333, 0.91666667, 1.        , 0.95833333, 0.91666667])}"
      ]
     },
     "execution_count": 65,
     "metadata": {},
     "output_type": "execute_result"
    }
   ],
   "source": [
    "from sklearn.model_selection import cross_validate\n",
    "scores = cross_validate(model, X_train, y_train)\n",
    "scores"
   ]
  },
  {
   "cell_type": "code",
   "execution_count": 67,
   "id": "57465f42",
   "metadata": {
    "ExecuteTime": {
     "end_time": "2022-11-04T02:46:30.048461Z",
     "start_time": "2022-11-04T02:46:30.029679Z"
    }
   },
   "outputs": [
    {
     "data": {
      "text/plain": [
       "0.95"
      ]
     },
     "execution_count": 67,
     "metadata": {},
     "output_type": "execute_result"
    }
   ],
   "source": [
    "np.mean(scores['test_score'])"
   ]
  },
  {
   "cell_type": "code",
   "execution_count": 70,
   "id": "5a01e4c3",
   "metadata": {
    "ExecuteTime": {
     "end_time": "2022-11-04T02:49:09.445310Z",
     "start_time": "2022-11-04T02:49:09.424368Z"
    }
   },
   "outputs": [
    {
     "data": {
      "text/plain": [
       "0.95"
      ]
     },
     "execution_count": 70,
     "metadata": {},
     "output_type": "execute_result"
    }
   ],
   "source": [
    "from sklearn.model_selection import StratifiedKFold\n",
    "# 이때 StratifiedKFold는 분할기이다.\n",
    "scores = cross_validate(model, X_train, y_train, cv = StratifiedKFold())\n",
    "np.mean(scores['test_score'])"
   ]
  },
  {
   "cell_type": "markdown",
   "id": "1cdb0ecf",
   "metadata": {},
   "source": [
    "### 그리드 서치(Grid Search)\n",
    "- 결정 트리의 하이퍼파라미터 값을 바꿔가며 가장 좋은 성능이 나오는 모델을 찾는 작업\n",
    "- 테스트 세트를 사용하지 않고 교차 검증을 통해서 좋은 모델을 고르면 된다."
   ]
  },
  {
   "cell_type": "code",
   "execution_count": 72,
   "id": "58b4c369",
   "metadata": {
    "ExecuteTime": {
     "end_time": "2022-11-04T02:58:31.106136Z",
     "start_time": "2022-11-04T02:58:26.747592Z"
    }
   },
   "outputs": [
    {
     "data": {
      "text/plain": [
       "GridSearchCV(cv=3, estimator=DecisionTreeClassifier(random_state=2022),\n",
       "             n_jobs=-1,\n",
       "             param_grid={'max_depth': [2, 3, 4, 5, 6, None],\n",
       "                         'min_samples_leaf': [1, 2, 3, 4, 5, 6, 7, 8, 9],\n",
       "                         'min_samples_split': [2, 3, 4, 5, 6, 7, 8, 9, 10]})"
      ]
     },
     "execution_count": 72,
     "metadata": {},
     "output_type": "execute_result"
    }
   ],
   "source": [
    "from sklearn.model_selection import GridSearchCV\n",
    "model = DecisionTreeClassifier(random_state = 2022)\n",
    "\n",
    "params = {\n",
    "    'max_depth':[2, 3, 4, 5, 6, None],    # 갯수를 맞추기 위해 뒤에 값은 'None'으로 부여\n",
    "    'min_samples_leaf':[1, 2, 3, 4, 5, 6, 7, 8, 9],\n",
    "    'min_samples_split':[2, 3, 4, 5, 6, 7, 8, 9, 10]\n",
    "}\n",
    "\n",
    "gs = GridSearchCV(model, param_grid = params, cv = 3, refit = True, n_jobs = -1) # n_jobs는 실행 코어수 조절(-1을 주면 모든 코어 사용)\n",
    "gs.fit(X_train, y_train)"
   ]
  },
  {
   "cell_type": "code",
   "execution_count": 74,
   "id": "aee48828",
   "metadata": {
    "ExecuteTime": {
     "end_time": "2022-11-04T03:00:22.738476Z",
     "start_time": "2022-11-04T03:00:22.719799Z"
    }
   },
   "outputs": [
    {
     "name": "stdout",
     "output_type": "stream",
     "text": [
      "0.9666666666666667\n",
      "0.9666666666666667\n"
     ]
    }
   ],
   "source": [
    "# 그리드 서치를 사용한 모델의 최적의 파라미터값\n",
    "model = gs.best_estimator_\n",
    "print(model.score(X_train, y_train))\n",
    "print(model.score(X_test, y_test))"
   ]
  },
  {
   "cell_type": "code",
   "execution_count": 77,
   "id": "f52bda03",
   "metadata": {
    "ExecuteTime": {
     "end_time": "2022-11-04T03:02:04.076800Z",
     "start_time": "2022-11-04T03:02:04.059854Z"
    }
   },
   "outputs": [
    {
     "name": "stdout",
     "output_type": "stream",
     "text": [
      "{'max_depth': 3, 'min_samples_leaf': 1, 'min_samples_split': 2}\n",
      "0.9499999999999998\n"
     ]
    }
   ],
   "source": [
    "# 그리드 서치를 통해 찾은 최적의 매개변수\n",
    "print(gs.best_params_)\n",
    "print(gs.best_score_)"
   ]
  },
  {
   "cell_type": "code",
   "execution_count": 80,
   "id": "96ce07b5",
   "metadata": {
    "ExecuteTime": {
     "end_time": "2022-11-04T03:03:40.962018Z",
     "start_time": "2022-11-04T03:03:40.947060Z"
    }
   },
   "outputs": [
    {
     "data": {
      "text/plain": [
       "0.9499999999999998"
      ]
     },
     "execution_count": 80,
     "metadata": {},
     "output_type": "execute_result"
    }
   ],
   "source": [
    "# 최상의 교차검증 점수\n",
    "np.max(gs.cv_results_['mean_test_score'])"
   ]
  },
  {
   "cell_type": "code",
   "execution_count": 83,
   "id": "92d076e3",
   "metadata": {
    "ExecuteTime": {
     "end_time": "2022-11-04T03:06:47.645192Z",
     "start_time": "2022-11-04T03:06:47.635220Z"
    }
   },
   "outputs": [
    {
     "name": "stdout",
     "output_type": "stream",
     "text": [
      "0.9666666666666667\n",
      "0.9666666666666667\n"
     ]
    }
   ],
   "source": [
    "model = DecisionTreeClassifier(max_depth = 3, min_samples_leaf = 1, min_samples_split = 2, random_state = 2022)\n",
    "model.fit(X_train, y_train)\n",
    "print(model.score(X_train, y_train))\n",
    "print(model.score(X_test, y_test))"
   ]
  },
  {
   "cell_type": "code",
   "execution_count": null,
   "id": "18d53564",
   "metadata": {},
   "outputs": [],
   "source": []
  },
  {
   "cell_type": "code",
   "execution_count": null,
   "id": "e44d4d45",
   "metadata": {},
   "outputs": [],
   "source": []
  },
  {
   "cell_type": "code",
   "execution_count": null,
   "id": "9fec83be",
   "metadata": {},
   "outputs": [],
   "source": []
  }
 ],
 "metadata": {
  "kernelspec": {
   "display_name": "Python 3 (ipykernel)",
   "language": "python",
   "name": "python3"
  },
  "language_info": {
   "codemirror_mode": {
    "name": "ipython",
    "version": 3
   },
   "file_extension": ".py",
   "mimetype": "text/x-python",
   "name": "python",
   "nbconvert_exporter": "python",
   "pygments_lexer": "ipython3",
   "version": "3.9.7"
  },
  "toc": {
   "base_numbering": 1,
   "nav_menu": {},
   "number_sections": true,
   "sideBar": true,
   "skip_h1_title": false,
   "title_cell": "Table of Contents",
   "title_sidebar": "Contents",
   "toc_cell": false,
   "toc_position": {},
   "toc_section_display": true,
   "toc_window_display": false
  },
  "varInspector": {
   "cols": {
    "lenName": 16,
    "lenType": 16,
    "lenVar": 40
   },
   "kernels_config": {
    "python": {
     "delete_cmd_postfix": "",
     "delete_cmd_prefix": "del ",
     "library": "var_list.py",
     "varRefreshCmd": "print(var_dic_list())"
    },
    "r": {
     "delete_cmd_postfix": ") ",
     "delete_cmd_prefix": "rm(",
     "library": "var_list.r",
     "varRefreshCmd": "cat(var_dic_list()) "
    }
   },
   "types_to_exclude": [
    "module",
    "function",
    "builtin_function_or_method",
    "instance",
    "_Feature"
   ],
   "window_display": false
  }
 },
 "nbformat": 4,
 "nbformat_minor": 5
}
