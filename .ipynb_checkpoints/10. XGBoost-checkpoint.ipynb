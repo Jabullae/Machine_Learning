{
 "cells": [
  {
   "cell_type": "markdown",
   "id": "7ffef076",
   "metadata": {},
   "source": [
    "# Boosting 이란?\n",
    "- 여러 개의 약한 Decision Tree를 조합해서 사용하는 Ensemble 기법중 하나이다. \n",
    "- 즉, 약한 예측 모델들의 학습 에러에 가중치를 두고, 순차적으로 다음 학습 모델에 반영하여 강한 예측모델을 만드는 것이다."
   ]
  },
  {
   "cell_type": "markdown",
   "id": "227b9bc2",
   "metadata": {},
   "source": [
    "# GBM(Gradient Boosting Machine)\n",
    "- GBM은 여러 개의 weak learner를 순차적으로 학습, 예측하면서 잘못 예측한 데이터에 가중치 부여를 통해 오류를 개선해 나가면서 학습하는 방식\n",
    "- 가중치의 업데이트 방법은 **경사 하강법(Gradient Descent)**을 사용한다. "
   ]
  },
  {
   "cell_type": "markdown",
   "id": "e1a99996",
   "metadata": {},
   "source": [
    "# XGBoost란?\n",
    "- XGBoost는 Extreme Gradient Boosting의 약자이다. \n",
    "- Boosting 기법을 이용하여 구현한 알고리즘은 Gradient Boost가 대표적인데 이 알고리즘을 병렬 학습이 지원되도록 구현한 라이브러리가 XGBoost이다. \n",
    "- Regression, Classifier 문데를 모두 지원하며, 성능과 자원 효율이 좋아서 인기 있는 알고리즘이다. \n",
    "- XGBoost의 장점\n",
    "    1. GBM 대비 빠른 수행시간 : 병렬 처리로 학습, 분류 속도가 빠르다.\n",
    "    2. 과적합 규제(Regularization) : 표준 GBM 경우 과적합 규제기능이 없으나, XGBoost는 자체에 과적합 규제 기능으로 강한 내구성을 지닌다. \n",
    "    3. 분류와 회귀 영역에서 뛰어한 예측 성능을 발휘한다.\n",
    "        - 즉, CART(Classifier and Regression Tree)앙상블 모델을 사용한다.\n",
    "    4. Early Stopping(조기 종료) 기능이 있다. \n",
    "    5. 다양한 옵션을 제공하며 Customizing이 용이하다."
   ]
  },
  {
   "cell_type": "code",
   "execution_count": 1,
   "id": "92fc7dce",
   "metadata": {
    "ExecuteTime": {
     "end_time": "2022-11-10T00:10:55.245300Z",
     "start_time": "2022-11-10T00:10:52.830573Z"
    }
   },
   "outputs": [],
   "source": [
    "import numpy as np\n",
    "import pandas as pd\n",
    "\n",
    "import matplotlib as mpl\n",
    "import matplotlib.pyplot as plt\n",
    "import seaborn as sns\n",
    "\n",
    "import warnings \n",
    "\n",
    "%matplotlib inline\n",
    "# 한글 폰트를 선명하게 표시\n",
    "%config Inlinebackend.figure_format = 'retina'\n",
    "\n",
    "# 한글 폰트 지정\n",
    "mpl.rc('font', family = 'D2coding')\n",
    "# 유니코드에서 음수 부호 설정\n",
    "mpl.rc('axes', unicode_minus = False)\n",
    "\n",
    "warnings.filterwarnings('ignore')"
   ]
  },
  {
   "cell_type": "markdown",
   "id": "6e47db23",
   "metadata": {},
   "source": [
    "# 로지스틱 회귀와 평가지표"
   ]
  },
  {
   "cell_type": "markdown",
   "id": "a90cf10e",
   "metadata": {},
   "source": [
    "## 데이터셋 - 위스콘신 유방암 예측"
   ]
  },
  {
   "cell_type": "code",
   "execution_count": 2,
   "id": "7c7aba90",
   "metadata": {
    "ExecuteTime": {
     "end_time": "2022-11-10T00:10:58.711361Z",
     "start_time": "2022-11-10T00:10:55.245300Z"
    }
   },
   "outputs": [
    {
     "name": "stdout",
     "output_type": "stream",
     "text": [
      "Requirement already satisfied: xgboost in c:\\ananconda3\\lib\\site-packages (1.7.1)\n",
      "Requirement already satisfied: scipy in c:\\ananconda3\\lib\\site-packages (from xgboost) (1.7.1)\n",
      "Requirement already satisfied: numpy in c:\\ananconda3\\lib\\site-packages (from xgboost) (1.20.3)\n"
     ]
    }
   ],
   "source": [
    "!pip install xgboost"
   ]
  },
  {
   "cell_type": "code",
   "execution_count": 3,
   "id": "3dd5a715",
   "metadata": {
    "ExecuteTime": {
     "end_time": "2022-11-10T00:10:59.391659Z",
     "start_time": "2022-11-10T00:10:58.712394Z"
    }
   },
   "outputs": [
    {
     "data": {
      "text/plain": [
       "dict_keys(['data', 'target', 'frame', 'target_names', 'DESCR', 'feature_names', 'filename'])"
      ]
     },
     "execution_count": 3,
     "metadata": {},
     "output_type": "execute_result"
    }
   ],
   "source": [
    "import xgboost as xgb\n",
    "from sklearn.datasets import load_breast_cancer\n",
    "from sklearn.model_selection import train_test_split\n",
    "\n",
    "cancer = load_breast_cancer()\n",
    "cancer.keys()"
   ]
  },
  {
   "cell_type": "code",
   "execution_count": 4,
   "id": "f5d34d19",
   "metadata": {
    "ExecuteTime": {
     "end_time": "2022-11-10T00:10:59.438893Z",
     "start_time": "2022-11-10T00:10:59.391659Z"
    }
   },
   "outputs": [
    {
     "data": {
      "text/html": [
       "<div>\n",
       "<style scoped>\n",
       "    .dataframe tbody tr th:only-of-type {\n",
       "        vertical-align: middle;\n",
       "    }\n",
       "\n",
       "    .dataframe tbody tr th {\n",
       "        vertical-align: top;\n",
       "    }\n",
       "\n",
       "    .dataframe thead th {\n",
       "        text-align: right;\n",
       "    }\n",
       "</style>\n",
       "<table border=\"1\" class=\"dataframe\">\n",
       "  <thead>\n",
       "    <tr style=\"text-align: right;\">\n",
       "      <th></th>\n",
       "      <th>mean radius</th>\n",
       "      <th>mean texture</th>\n",
       "      <th>mean perimeter</th>\n",
       "      <th>mean area</th>\n",
       "      <th>mean smoothness</th>\n",
       "      <th>mean compactness</th>\n",
       "      <th>mean concavity</th>\n",
       "      <th>mean concave points</th>\n",
       "      <th>mean symmetry</th>\n",
       "      <th>mean fractal dimension</th>\n",
       "      <th>...</th>\n",
       "      <th>worst texture</th>\n",
       "      <th>worst perimeter</th>\n",
       "      <th>worst area</th>\n",
       "      <th>worst smoothness</th>\n",
       "      <th>worst compactness</th>\n",
       "      <th>worst concavity</th>\n",
       "      <th>worst concave points</th>\n",
       "      <th>worst symmetry</th>\n",
       "      <th>worst fractal dimension</th>\n",
       "      <th>target</th>\n",
       "    </tr>\n",
       "  </thead>\n",
       "  <tbody>\n",
       "    <tr>\n",
       "      <th>0</th>\n",
       "      <td>17.99</td>\n",
       "      <td>10.38</td>\n",
       "      <td>122.80</td>\n",
       "      <td>1001.0</td>\n",
       "      <td>0.11840</td>\n",
       "      <td>0.27760</td>\n",
       "      <td>0.30010</td>\n",
       "      <td>0.14710</td>\n",
       "      <td>0.2419</td>\n",
       "      <td>0.07871</td>\n",
       "      <td>...</td>\n",
       "      <td>17.33</td>\n",
       "      <td>184.60</td>\n",
       "      <td>2019.0</td>\n",
       "      <td>0.16220</td>\n",
       "      <td>0.66560</td>\n",
       "      <td>0.7119</td>\n",
       "      <td>0.2654</td>\n",
       "      <td>0.4601</td>\n",
       "      <td>0.11890</td>\n",
       "      <td>0</td>\n",
       "    </tr>\n",
       "    <tr>\n",
       "      <th>1</th>\n",
       "      <td>20.57</td>\n",
       "      <td>17.77</td>\n",
       "      <td>132.90</td>\n",
       "      <td>1326.0</td>\n",
       "      <td>0.08474</td>\n",
       "      <td>0.07864</td>\n",
       "      <td>0.08690</td>\n",
       "      <td>0.07017</td>\n",
       "      <td>0.1812</td>\n",
       "      <td>0.05667</td>\n",
       "      <td>...</td>\n",
       "      <td>23.41</td>\n",
       "      <td>158.80</td>\n",
       "      <td>1956.0</td>\n",
       "      <td>0.12380</td>\n",
       "      <td>0.18660</td>\n",
       "      <td>0.2416</td>\n",
       "      <td>0.1860</td>\n",
       "      <td>0.2750</td>\n",
       "      <td>0.08902</td>\n",
       "      <td>0</td>\n",
       "    </tr>\n",
       "    <tr>\n",
       "      <th>2</th>\n",
       "      <td>19.69</td>\n",
       "      <td>21.25</td>\n",
       "      <td>130.00</td>\n",
       "      <td>1203.0</td>\n",
       "      <td>0.10960</td>\n",
       "      <td>0.15990</td>\n",
       "      <td>0.19740</td>\n",
       "      <td>0.12790</td>\n",
       "      <td>0.2069</td>\n",
       "      <td>0.05999</td>\n",
       "      <td>...</td>\n",
       "      <td>25.53</td>\n",
       "      <td>152.50</td>\n",
       "      <td>1709.0</td>\n",
       "      <td>0.14440</td>\n",
       "      <td>0.42450</td>\n",
       "      <td>0.4504</td>\n",
       "      <td>0.2430</td>\n",
       "      <td>0.3613</td>\n",
       "      <td>0.08758</td>\n",
       "      <td>0</td>\n",
       "    </tr>\n",
       "    <tr>\n",
       "      <th>3</th>\n",
       "      <td>11.42</td>\n",
       "      <td>20.38</td>\n",
       "      <td>77.58</td>\n",
       "      <td>386.1</td>\n",
       "      <td>0.14250</td>\n",
       "      <td>0.28390</td>\n",
       "      <td>0.24140</td>\n",
       "      <td>0.10520</td>\n",
       "      <td>0.2597</td>\n",
       "      <td>0.09744</td>\n",
       "      <td>...</td>\n",
       "      <td>26.50</td>\n",
       "      <td>98.87</td>\n",
       "      <td>567.7</td>\n",
       "      <td>0.20980</td>\n",
       "      <td>0.86630</td>\n",
       "      <td>0.6869</td>\n",
       "      <td>0.2575</td>\n",
       "      <td>0.6638</td>\n",
       "      <td>0.17300</td>\n",
       "      <td>0</td>\n",
       "    </tr>\n",
       "    <tr>\n",
       "      <th>4</th>\n",
       "      <td>20.29</td>\n",
       "      <td>14.34</td>\n",
       "      <td>135.10</td>\n",
       "      <td>1297.0</td>\n",
       "      <td>0.10030</td>\n",
       "      <td>0.13280</td>\n",
       "      <td>0.19800</td>\n",
       "      <td>0.10430</td>\n",
       "      <td>0.1809</td>\n",
       "      <td>0.05883</td>\n",
       "      <td>...</td>\n",
       "      <td>16.67</td>\n",
       "      <td>152.20</td>\n",
       "      <td>1575.0</td>\n",
       "      <td>0.13740</td>\n",
       "      <td>0.20500</td>\n",
       "      <td>0.4000</td>\n",
       "      <td>0.1625</td>\n",
       "      <td>0.2364</td>\n",
       "      <td>0.07678</td>\n",
       "      <td>0</td>\n",
       "    </tr>\n",
       "    <tr>\n",
       "      <th>...</th>\n",
       "      <td>...</td>\n",
       "      <td>...</td>\n",
       "      <td>...</td>\n",
       "      <td>...</td>\n",
       "      <td>...</td>\n",
       "      <td>...</td>\n",
       "      <td>...</td>\n",
       "      <td>...</td>\n",
       "      <td>...</td>\n",
       "      <td>...</td>\n",
       "      <td>...</td>\n",
       "      <td>...</td>\n",
       "      <td>...</td>\n",
       "      <td>...</td>\n",
       "      <td>...</td>\n",
       "      <td>...</td>\n",
       "      <td>...</td>\n",
       "      <td>...</td>\n",
       "      <td>...</td>\n",
       "      <td>...</td>\n",
       "      <td>...</td>\n",
       "    </tr>\n",
       "    <tr>\n",
       "      <th>564</th>\n",
       "      <td>21.56</td>\n",
       "      <td>22.39</td>\n",
       "      <td>142.00</td>\n",
       "      <td>1479.0</td>\n",
       "      <td>0.11100</td>\n",
       "      <td>0.11590</td>\n",
       "      <td>0.24390</td>\n",
       "      <td>0.13890</td>\n",
       "      <td>0.1726</td>\n",
       "      <td>0.05623</td>\n",
       "      <td>...</td>\n",
       "      <td>26.40</td>\n",
       "      <td>166.10</td>\n",
       "      <td>2027.0</td>\n",
       "      <td>0.14100</td>\n",
       "      <td>0.21130</td>\n",
       "      <td>0.4107</td>\n",
       "      <td>0.2216</td>\n",
       "      <td>0.2060</td>\n",
       "      <td>0.07115</td>\n",
       "      <td>0</td>\n",
       "    </tr>\n",
       "    <tr>\n",
       "      <th>565</th>\n",
       "      <td>20.13</td>\n",
       "      <td>28.25</td>\n",
       "      <td>131.20</td>\n",
       "      <td>1261.0</td>\n",
       "      <td>0.09780</td>\n",
       "      <td>0.10340</td>\n",
       "      <td>0.14400</td>\n",
       "      <td>0.09791</td>\n",
       "      <td>0.1752</td>\n",
       "      <td>0.05533</td>\n",
       "      <td>...</td>\n",
       "      <td>38.25</td>\n",
       "      <td>155.00</td>\n",
       "      <td>1731.0</td>\n",
       "      <td>0.11660</td>\n",
       "      <td>0.19220</td>\n",
       "      <td>0.3215</td>\n",
       "      <td>0.1628</td>\n",
       "      <td>0.2572</td>\n",
       "      <td>0.06637</td>\n",
       "      <td>0</td>\n",
       "    </tr>\n",
       "    <tr>\n",
       "      <th>566</th>\n",
       "      <td>16.60</td>\n",
       "      <td>28.08</td>\n",
       "      <td>108.30</td>\n",
       "      <td>858.1</td>\n",
       "      <td>0.08455</td>\n",
       "      <td>0.10230</td>\n",
       "      <td>0.09251</td>\n",
       "      <td>0.05302</td>\n",
       "      <td>0.1590</td>\n",
       "      <td>0.05648</td>\n",
       "      <td>...</td>\n",
       "      <td>34.12</td>\n",
       "      <td>126.70</td>\n",
       "      <td>1124.0</td>\n",
       "      <td>0.11390</td>\n",
       "      <td>0.30940</td>\n",
       "      <td>0.3403</td>\n",
       "      <td>0.1418</td>\n",
       "      <td>0.2218</td>\n",
       "      <td>0.07820</td>\n",
       "      <td>0</td>\n",
       "    </tr>\n",
       "    <tr>\n",
       "      <th>567</th>\n",
       "      <td>20.60</td>\n",
       "      <td>29.33</td>\n",
       "      <td>140.10</td>\n",
       "      <td>1265.0</td>\n",
       "      <td>0.11780</td>\n",
       "      <td>0.27700</td>\n",
       "      <td>0.35140</td>\n",
       "      <td>0.15200</td>\n",
       "      <td>0.2397</td>\n",
       "      <td>0.07016</td>\n",
       "      <td>...</td>\n",
       "      <td>39.42</td>\n",
       "      <td>184.60</td>\n",
       "      <td>1821.0</td>\n",
       "      <td>0.16500</td>\n",
       "      <td>0.86810</td>\n",
       "      <td>0.9387</td>\n",
       "      <td>0.2650</td>\n",
       "      <td>0.4087</td>\n",
       "      <td>0.12400</td>\n",
       "      <td>0</td>\n",
       "    </tr>\n",
       "    <tr>\n",
       "      <th>568</th>\n",
       "      <td>7.76</td>\n",
       "      <td>24.54</td>\n",
       "      <td>47.92</td>\n",
       "      <td>181.0</td>\n",
       "      <td>0.05263</td>\n",
       "      <td>0.04362</td>\n",
       "      <td>0.00000</td>\n",
       "      <td>0.00000</td>\n",
       "      <td>0.1587</td>\n",
       "      <td>0.05884</td>\n",
       "      <td>...</td>\n",
       "      <td>30.37</td>\n",
       "      <td>59.16</td>\n",
       "      <td>268.6</td>\n",
       "      <td>0.08996</td>\n",
       "      <td>0.06444</td>\n",
       "      <td>0.0000</td>\n",
       "      <td>0.0000</td>\n",
       "      <td>0.2871</td>\n",
       "      <td>0.07039</td>\n",
       "      <td>1</td>\n",
       "    </tr>\n",
       "  </tbody>\n",
       "</table>\n",
       "<p>569 rows × 31 columns</p>\n",
       "</div>"
      ],
      "text/plain": [
       "     mean radius  mean texture  mean perimeter  mean area  mean smoothness  \\\n",
       "0          17.99         10.38          122.80     1001.0          0.11840   \n",
       "1          20.57         17.77          132.90     1326.0          0.08474   \n",
       "2          19.69         21.25          130.00     1203.0          0.10960   \n",
       "3          11.42         20.38           77.58      386.1          0.14250   \n",
       "4          20.29         14.34          135.10     1297.0          0.10030   \n",
       "..           ...           ...             ...        ...              ...   \n",
       "564        21.56         22.39          142.00     1479.0          0.11100   \n",
       "565        20.13         28.25          131.20     1261.0          0.09780   \n",
       "566        16.60         28.08          108.30      858.1          0.08455   \n",
       "567        20.60         29.33          140.10     1265.0          0.11780   \n",
       "568         7.76         24.54           47.92      181.0          0.05263   \n",
       "\n",
       "     mean compactness  mean concavity  mean concave points  mean symmetry  \\\n",
       "0             0.27760         0.30010              0.14710         0.2419   \n",
       "1             0.07864         0.08690              0.07017         0.1812   \n",
       "2             0.15990         0.19740              0.12790         0.2069   \n",
       "3             0.28390         0.24140              0.10520         0.2597   \n",
       "4             0.13280         0.19800              0.10430         0.1809   \n",
       "..                ...             ...                  ...            ...   \n",
       "564           0.11590         0.24390              0.13890         0.1726   \n",
       "565           0.10340         0.14400              0.09791         0.1752   \n",
       "566           0.10230         0.09251              0.05302         0.1590   \n",
       "567           0.27700         0.35140              0.15200         0.2397   \n",
       "568           0.04362         0.00000              0.00000         0.1587   \n",
       "\n",
       "     mean fractal dimension  ...  worst texture  worst perimeter  worst area  \\\n",
       "0                   0.07871  ...          17.33           184.60      2019.0   \n",
       "1                   0.05667  ...          23.41           158.80      1956.0   \n",
       "2                   0.05999  ...          25.53           152.50      1709.0   \n",
       "3                   0.09744  ...          26.50            98.87       567.7   \n",
       "4                   0.05883  ...          16.67           152.20      1575.0   \n",
       "..                      ...  ...            ...              ...         ...   \n",
       "564                 0.05623  ...          26.40           166.10      2027.0   \n",
       "565                 0.05533  ...          38.25           155.00      1731.0   \n",
       "566                 0.05648  ...          34.12           126.70      1124.0   \n",
       "567                 0.07016  ...          39.42           184.60      1821.0   \n",
       "568                 0.05884  ...          30.37            59.16       268.6   \n",
       "\n",
       "     worst smoothness  worst compactness  worst concavity  \\\n",
       "0             0.16220            0.66560           0.7119   \n",
       "1             0.12380            0.18660           0.2416   \n",
       "2             0.14440            0.42450           0.4504   \n",
       "3             0.20980            0.86630           0.6869   \n",
       "4             0.13740            0.20500           0.4000   \n",
       "..                ...                ...              ...   \n",
       "564           0.14100            0.21130           0.4107   \n",
       "565           0.11660            0.19220           0.3215   \n",
       "566           0.11390            0.30940           0.3403   \n",
       "567           0.16500            0.86810           0.9387   \n",
       "568           0.08996            0.06444           0.0000   \n",
       "\n",
       "     worst concave points  worst symmetry  worst fractal dimension  target  \n",
       "0                  0.2654          0.4601                  0.11890       0  \n",
       "1                  0.1860          0.2750                  0.08902       0  \n",
       "2                  0.2430          0.3613                  0.08758       0  \n",
       "3                  0.2575          0.6638                  0.17300       0  \n",
       "4                  0.1625          0.2364                  0.07678       0  \n",
       "..                    ...             ...                      ...     ...  \n",
       "564                0.2216          0.2060                  0.07115       0  \n",
       "565                0.1628          0.2572                  0.06637       0  \n",
       "566                0.1418          0.2218                  0.07820       0  \n",
       "567                0.2650          0.4087                  0.12400       0  \n",
       "568                0.0000          0.2871                  0.07039       1  \n",
       "\n",
       "[569 rows x 31 columns]"
      ]
     },
     "execution_count": 4,
     "metadata": {},
     "output_type": "execute_result"
    }
   ],
   "source": [
    "X = cancer.data\n",
    "y = cancer.target\n",
    "\n",
    "cancer_df = pd.DataFrame(data = X, columns = cancer.feature_names)\n",
    "cancer_df['target'] = y\n",
    "cancer_df"
   ]
  },
  {
   "cell_type": "code",
   "execution_count": 5,
   "id": "d64950a7",
   "metadata": {
    "ExecuteTime": {
     "end_time": "2022-11-10T00:10:59.453854Z",
     "start_time": "2022-11-10T00:10:59.439890Z"
    }
   },
   "outputs": [
    {
     "name": "stdout",
     "output_type": "stream",
     "text": [
      "data shape : (569, 30)\n",
      "target shape : (569,)\n"
     ]
    }
   ],
   "source": [
    "print('data shape :', X.shape)\n",
    "print('target shape :', y.shape)"
   ]
  },
  {
   "cell_type": "code",
   "execution_count": 6,
   "id": "e9b0bb61",
   "metadata": {
    "ExecuteTime": {
     "end_time": "2022-11-10T00:10:59.469810Z",
     "start_time": "2022-11-10T00:10:59.455849Z"
    }
   },
   "outputs": [
    {
     "name": "stdout",
     "output_type": "stream",
     "text": [
      ".. _breast_cancer_dataset:\n",
      "\n",
      "Breast cancer wisconsin (diagnostic) dataset\n",
      "--------------------------------------------\n",
      "\n",
      "**Data Set Characteristics:**\n",
      "\n",
      "    :Number of Instances: 569\n",
      "\n",
      "    :Number of Attributes: 30 numeric, predictive attributes and the class\n",
      "\n",
      "    :Attribute Information:\n",
      "        - radius (mean of distances from center to points on the perimeter)\n",
      "        - texture (standard deviation of gray-scale values)\n",
      "        - perimeter\n",
      "        - area\n",
      "        - smoothness (local variation in radius lengths)\n",
      "        - compactness (perimeter^2 / area - 1.0)\n",
      "        - concavity (severity of concave portions of the contour)\n",
      "        - concave points (number of concave portions of the contour)\n",
      "        - symmetry\n",
      "        - fractal dimension (\"coastline approximation\" - 1)\n",
      "\n",
      "        The mean, standard error, and \"worst\" or largest (mean of the three\n",
      "        worst/largest values) of these features were computed for each image,\n",
      "        resulting in 30 features.  For instance, field 0 is Mean Radius, field\n",
      "        10 is Radius SE, field 20 is Worst Radius.\n",
      "\n",
      "        - class:\n",
      "                - WDBC-Malignant\n",
      "                - WDBC-Benign\n",
      "\n",
      "    :Summary Statistics:\n",
      "\n",
      "    ===================================== ====== ======\n",
      "                                           Min    Max\n",
      "    ===================================== ====== ======\n",
      "    radius (mean):                        6.981  28.11\n",
      "    texture (mean):                       9.71   39.28\n",
      "    perimeter (mean):                     43.79  188.5\n",
      "    area (mean):                          143.5  2501.0\n",
      "    smoothness (mean):                    0.053  0.163\n",
      "    compactness (mean):                   0.019  0.345\n",
      "    concavity (mean):                     0.0    0.427\n",
      "    concave points (mean):                0.0    0.201\n",
      "    symmetry (mean):                      0.106  0.304\n",
      "    fractal dimension (mean):             0.05   0.097\n",
      "    radius (standard error):              0.112  2.873\n",
      "    texture (standard error):             0.36   4.885\n",
      "    perimeter (standard error):           0.757  21.98\n",
      "    area (standard error):                6.802  542.2\n",
      "    smoothness (standard error):          0.002  0.031\n",
      "    compactness (standard error):         0.002  0.135\n",
      "    concavity (standard error):           0.0    0.396\n",
      "    concave points (standard error):      0.0    0.053\n",
      "    symmetry (standard error):            0.008  0.079\n",
      "    fractal dimension (standard error):   0.001  0.03\n",
      "    radius (worst):                       7.93   36.04\n",
      "    texture (worst):                      12.02  49.54\n",
      "    perimeter (worst):                    50.41  251.2\n",
      "    area (worst):                         185.2  4254.0\n",
      "    smoothness (worst):                   0.071  0.223\n",
      "    compactness (worst):                  0.027  1.058\n",
      "    concavity (worst):                    0.0    1.252\n",
      "    concave points (worst):               0.0    0.291\n",
      "    symmetry (worst):                     0.156  0.664\n",
      "    fractal dimension (worst):            0.055  0.208\n",
      "    ===================================== ====== ======\n",
      "\n",
      "    :Missing Attribute Values: None\n",
      "\n",
      "    :Class Distribution: 212 - Malignant, 357 - Benign\n",
      "\n",
      "    :Creator:  Dr. William H. Wolberg, W. Nick Street, Olvi L. Mangasarian\n",
      "\n",
      "    :Donor: Nick Street\n",
      "\n",
      "    :Date: November, 1995\n",
      "\n",
      "This is a copy of UCI ML Breast Cancer Wisconsin (Diagnostic) datasets.\n",
      "https://goo.gl/U2Uwz2\n",
      "\n",
      "Features are computed from a digitized image of a fine needle\n",
      "aspirate (FNA) of a breast mass.  They describe\n",
      "characteristics of the cell nuclei present in the image.\n",
      "\n",
      "Separating plane described above was obtained using\n",
      "Multisurface Method-Tree (MSM-T) [K. P. Bennett, \"Decision Tree\n",
      "Construction Via Linear Programming.\" Proceedings of the 4th\n",
      "Midwest Artificial Intelligence and Cognitive Science Society,\n",
      "pp. 97-101, 1992], a classification method which uses linear\n",
      "programming to construct a decision tree.  Relevant features\n",
      "were selected using an exhaustive search in the space of 1-4\n",
      "features and 1-3 separating planes.\n",
      "\n",
      "The actual linear program used to obtain the separating plane\n",
      "in the 3-dimensional space is that described in:\n",
      "[K. P. Bennett and O. L. Mangasarian: \"Robust Linear\n",
      "Programming Discrimination of Two Linearly Inseparable Sets\",\n",
      "Optimization Methods and Software 1, 1992, 23-34].\n",
      "\n",
      "This database is also available through the UW CS ftp server:\n",
      "\n",
      "ftp ftp.cs.wisc.edu\n",
      "cd math-prog/cpo-dataset/machine-learn/WDBC/\n",
      "\n",
      ".. topic:: References\n",
      "\n",
      "   - W.N. Street, W.H. Wolberg and O.L. Mangasarian. Nuclear feature extraction \n",
      "     for breast tumor diagnosis. IS&T/SPIE 1993 International Symposium on \n",
      "     Electronic Imaging: Science and Technology, volume 1905, pages 861-870,\n",
      "     San Jose, CA, 1993.\n",
      "   - O.L. Mangasarian, W.N. Street and W.H. Wolberg. Breast cancer diagnosis and \n",
      "     prognosis via linear programming. Operations Research, 43(4), pages 570-577, \n",
      "     July-August 1995.\n",
      "   - W.H. Wolberg, W.N. Street, and O.L. Mangasarian. Machine learning techniques\n",
      "     to diagnose breast cancer from fine-needle aspirates. Cancer Letters 77 (1994) \n",
      "     163-171.\n"
     ]
    }
   ],
   "source": [
    "print(cancer.DESCR)"
   ]
  },
  {
   "cell_type": "code",
   "execution_count": 7,
   "id": "65d3f9cd",
   "metadata": {
    "ExecuteTime": {
     "end_time": "2022-11-10T00:10:59.485788Z",
     "start_time": "2022-11-10T00:10:59.470810Z"
    }
   },
   "outputs": [
    {
     "data": {
      "text/plain": [
       "(array([0, 1]), array([212, 357], dtype=int64))"
      ]
     },
     "execution_count": 7,
     "metadata": {},
     "output_type": "execute_result"
    }
   ],
   "source": [
    "# 양성 유방암세트와 음성 유방암세트 개수의 파악\n",
    "np.unique(cancer.target, return_counts = True)"
   ]
  },
  {
   "cell_type": "code",
   "execution_count": 8,
   "id": "2ebde834",
   "metadata": {
    "ExecuteTime": {
     "end_time": "2022-11-10T00:10:59.501726Z",
     "start_time": "2022-11-10T00:10:59.486767Z"
    }
   },
   "outputs": [
    {
     "name": "stdout",
     "output_type": "stream",
     "text": [
      "feature1 :  mean radius\n",
      "feature2 :  mean texture\n",
      "feature3 :  mean perimeter\n",
      "feature4 :  mean area\n",
      "feature5 :  mean smoothness\n",
      "feature6 :  mean compactness\n",
      "feature7 :  mean concavity\n",
      "feature8 :  mean concave points\n",
      "feature9 :  mean symmetry\n",
      "feature10 :  mean fractal dimension\n",
      "feature11 :  radius error\n",
      "feature12 :  texture error\n",
      "feature13 :  perimeter error\n",
      "feature14 :  area error\n",
      "feature15 :  smoothness error\n",
      "feature16 :  compactness error\n",
      "feature17 :  concavity error\n",
      "feature18 :  concave points error\n",
      "feature19 :  symmetry error\n",
      "feature20 :  fractal dimension error\n",
      "feature21 :  worst radius\n",
      "feature22 :  worst texture\n",
      "feature23 :  worst perimeter\n",
      "feature24 :  worst area\n",
      "feature25 :  worst smoothness\n",
      "feature26 :  worst compactness\n",
      "feature27 :  worst concavity\n",
      "feature28 :  worst concave points\n",
      "feature29 :  worst symmetry\n",
      "feature30 :  worst fractal dimension\n"
     ]
    }
   ],
   "source": [
    "# 30개의 feature가 무엇인지를 확인\n",
    "for i, feature in enumerate(cancer.feature_names):\n",
    "    print(f'feature{(i+1)} : ', feature)"
   ]
  },
  {
   "cell_type": "markdown",
   "id": "be9f0dd6",
   "metadata": {},
   "source": [
    "## standarization(표준화)"
   ]
  },
  {
   "cell_type": "code",
   "execution_count": 9,
   "id": "95102340",
   "metadata": {
    "ExecuteTime": {
     "end_time": "2022-11-10T00:10:59.517683Z",
     "start_time": "2022-11-10T00:10:59.503721Z"
    }
   },
   "outputs": [],
   "source": [
    "from sklearn.preprocessing import StandardScaler\n",
    "\n",
    "scaler = StandardScaler()\n",
    "scaled = scaler.fit_transform(cancer_df.drop('target', axis = 1))"
   ]
  },
  {
   "cell_type": "markdown",
   "id": "7d0c3975",
   "metadata": {
    "ExecuteTime": {
     "end_time": "2022-11-09T03:06:36.089211Z",
     "start_time": "2022-11-09T03:06:36.083232Z"
    }
   },
   "source": [
    "## 훈련세트와 테스트세트를 분리"
   ]
  },
  {
   "cell_type": "code",
   "execution_count": 10,
   "id": "53c62b99",
   "metadata": {
    "ExecuteTime": {
     "end_time": "2022-11-10T00:10:59.533640Z",
     "start_time": "2022-11-10T00:10:59.520674Z"
    }
   },
   "outputs": [],
   "source": [
    "X_train, X_test, y_train, y_test = train_test_split(scaled, cancer_df['target'], test_size = 0.2,random_state = 42)"
   ]
  },
  {
   "cell_type": "markdown",
   "id": "f6e0a9e8",
   "metadata": {},
   "source": [
    "## 로지스틱 회귀 모델 이용"
   ]
  },
  {
   "cell_type": "markdown",
   "id": "3088bd43",
   "metadata": {},
   "source": [
    "- 악성종양(malignant) : 0 \n",
    "- 양성종양(benign) : 1"
   ]
  },
  {
   "cell_type": "code",
   "execution_count": 11,
   "id": "0f0189f1",
   "metadata": {
    "ExecuteTime": {
     "end_time": "2022-11-10T00:10:59.721891Z",
     "start_time": "2022-11-10T00:10:59.534638Z"
    }
   },
   "outputs": [
    {
     "name": "stdout",
     "output_type": "stream",
     "text": [
      "테스트 데이터의 예측 확률 : \n",
      " [[0.115 0.885]\n",
      " [1.    0.   ]\n",
      " [0.997 0.003]\n",
      " [0.001 0.999]\n",
      " [0.    1.   ]]\n"
     ]
    }
   ],
   "source": [
    "from sklearn.linear_model import LogisticRegression\n",
    "lr = LogisticRegression()\n",
    "lr.fit(X_train, y_train)\n",
    "\n",
    "y_pred_proba = lr.predict_proba(X_test)  #predict_proba : 예측확률\n",
    "predict = lr.predict(X_test)\n",
    "\n",
    "print('테스트 데이터의 예측 확률 : \\n', np.round(y_pred_proba[:5], 3))"
   ]
  },
  {
   "cell_type": "code",
   "execution_count": 12,
   "id": "1a7b6291",
   "metadata": {
    "ExecuteTime": {
     "end_time": "2022-11-10T00:10:59.736817Z",
     "start_time": "2022-11-10T00:10:59.722872Z"
    }
   },
   "outputs": [
    {
     "name": "stdout",
     "output_type": "stream",
     "text": [
      "테스트 데이터로 예측한 값 분류 :  [1 0 0 1 1]\n"
     ]
    }
   ],
   "source": [
    "y_pred = np.argmax(y_pred_proba, axis=1)  #np.argmax : 최댓값의 색인 위치 (0:음성, 1:양성)\n",
    "print('테스트 데이터로 예측한 값 분류 : ', y_pred[:5])"
   ]
  },
  {
   "cell_type": "code",
   "execution_count": 13,
   "id": "3ca0ca49",
   "metadata": {
    "ExecuteTime": {
     "end_time": "2022-11-10T00:10:59.752772Z",
     "start_time": "2022-11-10T00:10:59.737813Z"
    }
   },
   "outputs": [
    {
     "name": "stdout",
     "output_type": "stream",
     "text": [
      "회귀계수 : [[-0.43179244 -0.40081132 -0.39330055 -0.46955953 -0.06337148  0.52858777\n",
      "  -0.80374824 -1.10646486  0.24482466  0.07598143 -1.25319981  0.18650782\n",
      "  -0.58897397 -0.92190517 -0.31610656  0.67464715  0.17467299 -0.32344966\n",
      "   0.50619492  0.60680604 -0.87339363 -1.35307938 -0.58476691 -0.84218243\n",
      "  -0.54536182 -0.00227601 -0.95296371 -0.77887357 -1.19818424 -0.16379987]] \n",
      "절편 : [0.32647631]\n"
     ]
    }
   ],
   "source": [
    "# 로지스틱 회귀가 학습한 계수(기우기와 절편) 추출\n",
    "print('회귀계수 : {}'.format(lr.coef_), \n",
    "      '\\n절편 : {}'.format(lr.intercept_))"
   ]
  },
  {
   "cell_type": "code",
   "execution_count": 14,
   "id": "b405d7d3",
   "metadata": {
    "ExecuteTime": {
     "end_time": "2022-11-10T00:10:59.768732Z",
     "start_time": "2022-11-10T00:10:59.753771Z"
    }
   },
   "outputs": [
    {
     "data": {
      "text/plain": [
       "array([  2.04266753, -11.64957732,  -5.77093937,   7.59662526,\n",
       "         9.71997133, -23.11573783, -20.3092954 ,  -3.30781865,\n",
       "         0.48765555,   7.19820239,   2.96154619,  -4.38467375,\n",
       "         5.11282055,  -1.7534244 ,   6.42860552,  -7.08864352,\n",
       "         6.29787135,  11.38609048,  14.01988424, -13.69501123,\n",
       "         2.38749883,   4.61272767, -19.25400066,   9.4650126 ,\n",
       "         6.77935337,   7.51707883,   6.83274687,   5.10641388,\n",
       "         5.85161222, -11.75162702])"
      ]
     },
     "execution_count": 14,
     "metadata": {},
     "output_type": "execute_result"
    }
   ],
   "source": [
    "# z값 계산\n",
    "decisions = lr.decision_function(X_test[:30])\n",
    "decisions"
   ]
  },
  {
   "cell_type": "code",
   "execution_count": 15,
   "id": "4d302983",
   "metadata": {
    "ExecuteTime": {
     "end_time": "2022-11-10T00:10:59.784688Z",
     "start_time": "2022-11-10T00:10:59.769727Z"
    }
   },
   "outputs": [
    {
     "name": "stdout",
     "output_type": "stream",
     "text": [
      "양성일 확률(1일 확률) : [0.885 0.    0.003 0.999 1.    0.    0.    0.035 0.62  0.999 0.951 0.012\n",
      " 0.994 0.148 0.998 0.001 0.998 1.    1.    0.    0.916 0.99  0.    1.\n",
      " 0.999 0.999 0.999 0.994 0.997 0.   ]\n",
      "\n",
      "음성일 확률(0일 확률) : [0.115 1.    0.997 0.001 0.    1.    1.    0.965 0.38  0.001 0.049 0.988\n",
      " 0.006 0.852 0.002 0.999 0.002 0.    0.    1.    0.084 0.01  1.    0.\n",
      " 0.001 0.001 0.001 0.006 0.003 1.   ]\n"
     ]
    }
   ],
   "source": [
    "# 시그모이드 함수를 통해 확률값 추출\n",
    "from scipy.special import expit\n",
    "\n",
    "# 양성일 확률(1일 확률)\n",
    "print('양성일 확률(1일 확률) : {}'.format(np.round(expit(decisions), 3)))\n",
    "\n",
    "# 음성일 확률(0일 확률)\n",
    "print('\\n음성일 확률(0일 확률) : {}'.format(np.round(1 - expit(decisions), 3)))"
   ]
  },
  {
   "cell_type": "code",
   "execution_count": 16,
   "id": "90a1f4e5",
   "metadata": {
    "ExecuteTime": {
     "end_time": "2022-11-10T00:10:59.800645Z",
     "start_time": "2022-11-10T00:10:59.785684Z"
    }
   },
   "outputs": [
    {
     "name": "stdout",
     "output_type": "stream",
     "text": [
      "0.16222142113076254\n"
     ]
    }
   ],
   "source": [
    "from sklearn.metrics import mean_squared_error\n",
    "print(mean_squared_error(y_test, y_pred)**0.5)  # RMES"
   ]
  },
  {
   "cell_type": "markdown",
   "id": "adcc78a9",
   "metadata": {},
   "source": [
    "## 시그모이드 함수 시각화"
   ]
  },
  {
   "cell_type": "code",
   "execution_count": 17,
   "id": "21b9d7e6",
   "metadata": {
    "ExecuteTime": {
     "end_time": "2022-11-10T00:10:59.959202Z",
     "start_time": "2022-11-10T00:10:59.801642Z"
    }
   },
   "outputs": [
    {
     "data": {
      "image/png": "[encoded data removed]",
      "text/plain": [
       "<Figure size 864x576 with 1 Axes>"
      ]
     },
     "metadata": {
      "needs_background": "light"
     },
     "output_type": "display_data"
    }
   ],
   "source": [
    "# 시그모이드 함수 시각화\n",
    "def sigmoid(x):\n",
    "    return 1 / (1+np.exp(-x))\n",
    "\n",
    "x_data = np.arange(-10, 10, 0.1)\n",
    "result = sigmoid(x_data)\n",
    "plt.figure(figsize=(12, 8))\n",
    "plt.plot(x_data, result)\n",
    "plt.scatter(decisions, expit(decisions), marker='^' ,color = 'g')\n",
    "plt.scatter(0, 0.5, marker = 'D', color = 'black')\n",
    "plt.axhline(0.5, 0, 1, color='black', linestyle='--', linewidth=2)\n",
    "plt.title('심장병 확률 시각화', size = 20)\n",
    "plt.xlabel('X_data', size = 20)\n",
    "plt.ylabel('result', size = 20)\n",
    "plt.text(2, 0.45, 'result = 0.5', size = 20)\n",
    "plt.xlim(-8, 8)\n",
    "plt.ylim(-0.1, 1.1)\n",
    "plt.show()"
   ]
  },
  {
   "cell_type": "markdown",
   "id": "8f26d38c",
   "metadata": {},
   "source": [
    "### 평가지표\n",
    "1. 회귀(regression) : MAE, MSE, RMSE, SSE..\n",
    "2. 분류(Classification) : 정확도, 정밀도, 재현율(민감도), F1 스코어, ROC 커브\n",
    "3. 클러스터링(Clustering) : DBI, 엘보우 메서드, 실루엣계수"
   ]
  },
  {
   "cell_type": "code",
   "execution_count": 18,
   "id": "8557a4d6",
   "metadata": {
    "ExecuteTime": {
     "end_time": "2022-11-10T00:10:59.974797Z",
     "start_time": "2022-11-10T00:10:59.960820Z"
    }
   },
   "outputs": [
    {
     "data": {
      "text/plain": [
       "0.9736842105263158"
      ]
     },
     "execution_count": 18,
     "metadata": {},
     "output_type": "execute_result"
    }
   ],
   "source": [
    "# 정확도(Accuracy) : 실제 데이터에서 예측 데이터가 얼마나 같은지를 판단하는 \n",
    "# 이진 분류일 경우 데이터에 따라 모델의 성능이 왜곡될 수 있다. (편향이 생길수 있다.)\n",
    "# 정확도 = (예측 결과가 동일한 데이터 건수) / (전체 예측 데이터 건수)\n",
    "\n",
    "from sklearn.metrics import accuracy_score\n",
    "accuracy_score(y_test, predict)"
   ]
  },
  {
   "cell_type": "markdown",
   "id": "3dee824a",
   "metadata": {},
   "source": [
    "### 혼동 행렬(Confision Matrix, 오차 행렬)"
   ]
  },
  {
   "cell_type": "code",
   "execution_count": 19,
   "id": "58ddfffd",
   "metadata": {
    "ExecuteTime": {
     "end_time": "2022-11-10T00:11:00.332675Z",
     "start_time": "2022-11-10T00:10:59.975780Z"
    }
   },
   "outputs": [
    {
     "data": {
      "image/jpeg": "[encoded data removed]",
      "text/plain": [
       "<IPython.core.display.Image object>"
      ]
     },
     "execution_count": 19,
     "metadata": {
      "image/jpeg": {
       "width": 700
      }
     },
     "output_type": "execute_result"
    }
   ],
   "source": [
    "from IPython.display import Image\n",
    "Image('https://skappal7.files.wordpress.com/2018/08/confusion-matrix.jpg', width = 700)"
   ]
  },
  {
   "cell_type": "code",
   "execution_count": 20,
   "id": "41359f63",
   "metadata": {
    "ExecuteTime": {
     "end_time": "2022-11-10T00:11:00.348344Z",
     "start_time": "2022-11-10T00:11:00.333671Z"
    }
   },
   "outputs": [
    {
     "data": {
      "text/plain": [
       "array([[41,  2],\n",
       "       [ 1, 70]], dtype=int64)"
      ]
     },
     "execution_count": 20,
     "metadata": {},
     "output_type": "execute_result"
    }
   ],
   "source": [
    "from sklearn.metrics import confusion_matrix\n",
    "\n",
    "# 혼돈행렬\n",
    "cm = confusion_matrix(y_test, predict)\n",
    "cm"
   ]
  },
  {
   "cell_type": "code",
   "execution_count": 21,
   "id": "f9bf7996",
   "metadata": {
    "ExecuteTime": {
     "end_time": "2022-11-10T00:11:00.475142Z",
     "start_time": "2022-11-10T00:11:00.349341Z"
    }
   },
   "outputs": [
    {
     "data": {
      "image/png": "[encoded data removed]",
      "text/plain": [
       "<Figure size 720x432 with 2 Axes>"
      ]
     },
     "metadata": {
      "needs_background": "light"
     },
     "output_type": "display_data"
    }
   ],
   "source": [
    "# 혼돈 행렬 시각화\n",
    "plt.figure(figsize=(10, 6))\n",
    "sns.heatmap(cm, annot = True, annot_kws = {'size':20}, cmap='BuPu')\n",
    "plt.xlabel('Predicted', size = 20)\n",
    "plt.ylabel('Actual', size = 20)\n",
    "plt.show()"
   ]
  },
  {
   "cell_type": "code",
   "execution_count": 22,
   "id": "81b41d4a",
   "metadata": {
    "ExecuteTime": {
     "end_time": "2022-11-10T00:11:00.491377Z",
     "start_time": "2022-11-10T00:11:00.476196Z"
    }
   },
   "outputs": [],
   "source": [
    "TN, FP, FN, TP = cm.ravel()"
   ]
  },
  {
   "cell_type": "code",
   "execution_count": 23,
   "id": "f102af9f",
   "metadata": {
    "ExecuteTime": {
     "end_time": "2022-11-10T00:11:00.507183Z",
     "start_time": "2022-11-10T00:11:00.493137Z"
    }
   },
   "outputs": [
    {
     "data": {
      "image/png": "[encoded data removed]",
      "text/plain": [
       "<IPython.core.display.Image object>"
      ]
     },
     "execution_count": 23,
     "metadata": {
      "image/png": {
       "width": 800
      }
     },
     "output_type": "execute_result"
    }
   ],
   "source": [
    "Image('C:/k_digital/source/data/혼돈행렬.png', width = 800)"
   ]
  },
  {
   "cell_type": "markdown",
   "id": "5835a271",
   "metadata": {},
   "source": [
    "#### 정확도"
   ]
  },
  {
   "cell_type": "code",
   "execution_count": 24,
   "id": "d867999c",
   "metadata": {
    "ExecuteTime": {
     "end_time": "2022-11-10T00:11:00.522156Z",
     "start_time": "2022-11-10T00:11:00.508184Z"
    }
   },
   "outputs": [
    {
     "data": {
      "text/plain": [
       "0.9736842105263158"
      ]
     },
     "execution_count": 24,
     "metadata": {},
     "output_type": "execute_result"
    }
   ],
   "source": [
    "accuracy = (41 + 70) / (41 + 2 + 1 + 70)\n",
    "accuracy"
   ]
  },
  {
   "cell_type": "code",
   "execution_count": 25,
   "id": "74a10db2",
   "metadata": {
    "ExecuteTime": {
     "end_time": "2022-11-10T00:11:00.537555Z",
     "start_time": "2022-11-10T00:11:00.522590Z"
    }
   },
   "outputs": [
    {
     "data": {
      "text/plain": [
       "0.9736842105263158"
      ]
     },
     "execution_count": 25,
     "metadata": {},
     "output_type": "execute_result"
    }
   ],
   "source": [
    "accuracy = accuracy_score(y_test, predict)\n",
    "accuracy"
   ]
  },
  {
   "cell_type": "markdown",
   "id": "f6e2bf3c",
   "metadata": {},
   "source": [
    "#### 정밀도(Precision)\n",
    "- Positive로 예측한 전체 건수에서 옳게 예측한 건수의 비율"
   ]
  },
  {
   "cell_type": "code",
   "execution_count": 26,
   "id": "ba14226e",
   "metadata": {
    "ExecuteTime": {
     "end_time": "2022-11-10T00:11:00.553510Z",
     "start_time": "2022-11-10T00:11:00.538551Z"
    }
   },
   "outputs": [
    {
     "data": {
      "text/plain": [
       "0.9722222222222222"
      ]
     },
     "execution_count": 26,
     "metadata": {},
     "output_type": "execute_result"
    }
   ],
   "source": [
    "precision = TP / (TP + FP)\n",
    "precision"
   ]
  },
  {
   "cell_type": "code",
   "execution_count": 27,
   "id": "b919e68a",
   "metadata": {
    "ExecuteTime": {
     "end_time": "2022-11-10T00:11:00.569468Z",
     "start_time": "2022-11-10T00:11:00.554507Z"
    }
   },
   "outputs": [
    {
     "data": {
      "text/plain": [
       "0.9722222222222222"
      ]
     },
     "execution_count": 27,
     "metadata": {},
     "output_type": "execute_result"
    }
   ],
   "source": [
    "from sklearn.metrics import precision_score\n",
    "precision_score(y_test, predict)"
   ]
  },
  {
   "cell_type": "markdown",
   "id": "6eade89b",
   "metadata": {},
   "source": [
    "#### 재현율(Reacll), 민감도\n",
    "- 실제 Positive인 전체 건수에서 옳게 예측한 건수의 비율\n",
    "- TPR(True Positive Rate)"
   ]
  },
  {
   "cell_type": "code",
   "execution_count": 28,
   "id": "25675ffb",
   "metadata": {
    "ExecuteTime": {
     "end_time": "2022-11-10T00:11:00.585079Z",
     "start_time": "2022-11-10T00:11:00.574109Z"
    }
   },
   "outputs": [
    {
     "data": {
      "text/plain": [
       "0.9859154929577465"
      ]
     },
     "execution_count": 28,
     "metadata": {},
     "output_type": "execute_result"
    }
   ],
   "source": [
    "recall = TP / (FN + TP)\n",
    "recall"
   ]
  },
  {
   "cell_type": "code",
   "execution_count": 29,
   "id": "c5b89235",
   "metadata": {
    "ExecuteTime": {
     "end_time": "2022-11-10T00:11:00.601039Z",
     "start_time": "2022-11-10T00:11:00.586077Z"
    }
   },
   "outputs": [
    {
     "data": {
      "text/plain": [
       "0.9859154929577465"
      ]
     },
     "execution_count": 29,
     "metadata": {},
     "output_type": "execute_result"
    }
   ],
   "source": [
    "from sklearn.metrics import recall_score\n",
    "recall_score(y_test, predict)"
   ]
  },
  {
   "cell_type": "markdown",
   "id": "f71248f9",
   "metadata": {},
   "source": [
    "#### F1 Score\n",
    "- 재현율과 정밀도의 균을 나타내는 수치"
   ]
  },
  {
   "cell_type": "code",
   "execution_count": 30,
   "id": "dabe8567",
   "metadata": {
    "ExecuteTime": {
     "end_time": "2022-11-10T00:11:00.615998Z",
     "start_time": "2022-11-10T00:11:00.603032Z"
    }
   },
   "outputs": [
    {
     "data": {
      "text/plain": [
       "0.979020979020979"
      ]
     },
     "execution_count": 30,
     "metadata": {},
     "output_type": "execute_result"
    }
   ],
   "source": [
    "f1 = 2 * (precision * recall) / (precision + recall)\n",
    "f1"
   ]
  },
  {
   "cell_type": "code",
   "execution_count": 31,
   "id": "fdd8c1e9",
   "metadata": {
    "ExecuteTime": {
     "end_time": "2022-11-10T00:11:00.631956Z",
     "start_time": "2022-11-10T00:11:00.616994Z"
    }
   },
   "outputs": [
    {
     "data": {
      "text/plain": [
       "0.979020979020979"
      ]
     },
     "execution_count": 31,
     "metadata": {},
     "output_type": "execute_result"
    }
   ],
   "source": [
    "from sklearn.metrics import f1_score\n",
    "f1_score(y_test, predict)"
   ]
  },
  {
   "cell_type": "markdown",
   "id": "de01fa30",
   "metadata": {},
   "source": [
    "## ROC 커브 곡선"
   ]
  },
  {
   "cell_type": "code",
   "execution_count": 32,
   "id": "ee94869e",
   "metadata": {
    "ExecuteTime": {
     "end_time": "2022-11-10T00:11:00.757612Z",
     "start_time": "2022-11-10T00:11:00.632953Z"
    }
   },
   "outputs": [
    {
     "data": {
      "image/png": "[encoded data removed]",
      "text/plain": [
       "<Figure size 864x576 with 1 Axes>"
      ]
     },
     "metadata": {
      "needs_background": "light"
     },
     "output_type": "display_data"
    }
   ],
   "source": [
    "from sklearn.metrics import accuracy_score, classification_report, roc_curve, roc_auc_score\n",
    "y_pred_prob = y_pred_proba[:,1] # 양성(악성 종양)으로 예측할 확률을 들고온다. \n",
    "\n",
    "fpr, tpr, thresholds = roc_curve(y_test, y_pred_prob)\n",
    "\n",
    "plt.figure(figsize=(12, 8))\n",
    "plt.plot([0,1], [0,1], \"r--\")\n",
    "plt.plot(fpr, tpr, label='LogisticRegression', color = '#162fff')\n",
    "plt.xlabel('False Positive Rate', size = 20)\n",
    "plt.ylabel('True Positive Rate', size = 20)\n",
    "plt.title('LogisticRegression ROC curve', size = 20)\n",
    "plt.text(0.3, 0.45, 'AUC 면적 = {}'.format(round(roc_auc_score(y_test, y_pred_prob), 4)), size = 35)\n",
    "plt.show()"
   ]
  },
  {
   "cell_type": "markdown",
   "id": "e969b052",
   "metadata": {},
   "source": [
    "# XGBoost 모델 학습"
   ]
  },
  {
   "cell_type": "markdown",
   "id": "85ca5bd8",
   "metadata": {},
   "source": [
    "## 필요 패키지 설치"
   ]
  },
  {
   "cell_type": "code",
   "execution_count": 33,
   "id": "a8562eab",
   "metadata": {
    "ExecuteTime": {
     "end_time": "2022-11-10T00:11:00.773200Z",
     "start_time": "2022-11-10T00:11:00.758582Z"
    }
   },
   "outputs": [],
   "source": [
    "import xgboost as xgb\n",
    "from xgboost import plot_importance"
   ]
  },
  {
   "cell_type": "code",
   "execution_count": 34,
   "id": "ee3e710c",
   "metadata": {
    "ExecuteTime": {
     "end_time": "2022-11-10T00:11:00.788386Z",
     "start_time": "2022-11-10T00:11:00.774220Z"
    }
   },
   "outputs": [
    {
     "name": "stdout",
     "output_type": "stream",
     "text": [
      "(455, 30) (114, 30)\n",
      "(409, 30) (46, 30)\n"
     ]
    }
   ],
   "source": [
    "# 전체 데이터 중 80%는 훈련용 데이터, 20%는 테스트용 데이터\n",
    "X_train, X_test, y_train, y_test = train_test_split(cancer.data, cancer_df['target'], test_size = 0.2,random_state = 156)\n",
    "\n",
    "# X_train, y_train을 90%는 학습, 10%는 검증용 데이터로 분리\n",
    "X_tr, X_val, y_tr, y_val = train_test_split(X_train, y_train, test_size = 0.1, random_state = 156)\n",
    "\n",
    "print(X_train.shape, X_test.shape)\n",
    "print(X_tr.shape, X_val.shape)"
   ]
  },
  {
   "cell_type": "code",
   "execution_count": 53,
   "id": "0f8fdd9e",
   "metadata": {
    "ExecuteTime": {
     "end_time": "2022-11-10T03:52:07.746607Z",
     "start_time": "2022-11-10T03:52:07.737632Z"
    }
   },
   "outputs": [],
   "source": [
    "# 학습, 검증, 테스트용 DMatrix를 생성\n",
    "dtr = xgb.DMatrix(data = X_tr, label = y_tr, feature_names = cancer.feature_names)\n",
    "dval = xgb.DMatrix(data = X_val, label = y_val, feature_names = cancer.feature_names)\n",
    "dtest = xgb.DMatrix(data = X_test, label = y_test, feature_names = cancer.feature_names)"
   ]
  },
  {
   "cell_type": "code",
   "execution_count": 54,
   "id": "9d5d7260",
   "metadata": {
    "ExecuteTime": {
     "end_time": "2022-11-10T03:52:10.371026Z",
     "start_time": "2022-11-10T03:52:10.355405Z"
    }
   },
   "outputs": [],
   "source": [
    "# 파라미터와 부스팅 횟수 설정\n",
    "params = {'max_depth' : 3,\n",
    "         'eta' : 0.05,\n",
    "         'objective' : 'binary:logistic',\n",
    "         'eval_metric' : 'logloss'}\n",
    "num_rounds = 400"
   ]
  },
  {
   "cell_type": "code",
   "execution_count": 55,
   "id": "42b81dbb",
   "metadata": {
    "ExecuteTime": {
     "end_time": "2022-11-10T03:52:10.873987Z",
     "start_time": "2022-11-10T03:52:10.502981Z"
    },
    "scrolled": true
   },
   "outputs": [
    {
     "name": "stdout",
     "output_type": "stream",
     "text": [
      "[0]\ttrain-logloss:0.65016\teval-logloss:0.66183\n",
      "[1]\ttrain-logloss:0.61131\teval-logloss:0.63609\n",
      "[2]\ttrain-logloss:0.57563\teval-logloss:0.61144\n",
      "[3]\ttrain-logloss:0.54310\teval-logloss:0.59204\n",
      "[4]\ttrain-logloss:0.51323\teval-logloss:0.57329\n",
      "[5]\ttrain-logloss:0.48447\teval-logloss:0.55037\n",
      "[6]\ttrain-logloss:0.45796\teval-logloss:0.52930\n",
      "[7]\ttrain-logloss:0.43436\teval-logloss:0.51534\n",
      "[8]\ttrain-logloss:0.41150\teval-logloss:0.49718\n",
      "[9]\ttrain-logloss:0.39027\teval-logloss:0.48154\n",
      "[10]\ttrain-logloss:0.37128\teval-logloss:0.46990\n",
      "[11]\ttrain-logloss:0.35254\teval-logloss:0.45474\n",
      "[12]\ttrain-logloss:0.33528\teval-logloss:0.44229\n",
      "[13]\ttrain-logloss:0.31892\teval-logloss:0.42961\n",
      "[14]\ttrain-logloss:0.30439\teval-logloss:0.42065\n",
      "[15]\ttrain-logloss:0.29000\teval-logloss:0.40958\n",
      "[16]\ttrain-logloss:0.27651\teval-logloss:0.39887\n",
      "[17]\ttrain-logloss:0.26389\teval-logloss:0.39050\n",
      "[18]\ttrain-logloss:0.25210\teval-logloss:0.38254\n",
      "[19]\ttrain-logloss:0.24123\teval-logloss:0.37393\n",
      "[20]\ttrain-logloss:0.23076\teval-logloss:0.36789\n",
      "[21]\ttrain-logloss:0.22091\teval-logloss:0.36017\n",
      "[22]\ttrain-logloss:0.21155\teval-logloss:0.35421\n",
      "[23]\ttrain-logloss:0.20263\teval-logloss:0.34683\n",
      "[24]\ttrain-logloss:0.19434\teval-logloss:0.34111\n",
      "[25]\ttrain-logloss:0.18637\teval-logloss:0.33634\n",
      "[26]\ttrain-logloss:0.17875\teval-logloss:0.33082\n",
      "[27]\ttrain-logloss:0.17167\teval-logloss:0.32675\n",
      "[28]\ttrain-logloss:0.16481\teval-logloss:0.32099\n",
      "[29]\ttrain-logloss:0.15835\teval-logloss:0.31671\n",
      "[30]\ttrain-logloss:0.15225\teval-logloss:0.31277\n",
      "[31]\ttrain-logloss:0.14650\teval-logloss:0.30882\n",
      "[32]\ttrain-logloss:0.14102\teval-logloss:0.30437\n",
      "[33]\ttrain-logloss:0.13590\teval-logloss:0.30103\n",
      "[34]\ttrain-logloss:0.13109\teval-logloss:0.29794\n",
      "[35]\ttrain-logloss:0.12647\teval-logloss:0.29499\n",
      "[36]\ttrain-logloss:0.12197\teval-logloss:0.29295\n",
      "[37]\ttrain-logloss:0.11784\teval-logloss:0.29043\n",
      "[38]\ttrain-logloss:0.11379\teval-logloss:0.28927\n",
      "[39]\ttrain-logloss:0.10994\teval-logloss:0.28578\n",
      "[40]\ttrain-logloss:0.10638\teval-logloss:0.28364\n",
      "[41]\ttrain-logloss:0.10302\teval-logloss:0.28183\n",
      "[42]\ttrain-logloss:0.09963\teval-logloss:0.28005\n",
      "[43]\ttrain-logloss:0.09649\teval-logloss:0.27972\n",
      "[44]\ttrain-logloss:0.09359\teval-logloss:0.27744\n",
      "[45]\ttrain-logloss:0.09080\teval-logloss:0.27542\n",
      "[46]\ttrain-logloss:0.08807\teval-logloss:0.27504\n",
      "[47]\ttrain-logloss:0.08541\teval-logloss:0.27458\n",
      "[48]\ttrain-logloss:0.08299\teval-logloss:0.27348\n",
      "[49]\ttrain-logloss:0.08035\teval-logloss:0.27247\n",
      "[50]\ttrain-logloss:0.07786\teval-logloss:0.27163\n",
      "[51]\ttrain-logloss:0.07550\teval-logloss:0.27094\n",
      "[52]\ttrain-logloss:0.07344\teval-logloss:0.26967\n",
      "[53]\ttrain-logloss:0.07147\teval-logloss:0.27008\n",
      "[54]\ttrain-logloss:0.06964\teval-logloss:0.26890\n",
      "[55]\ttrain-logloss:0.06766\teval-logloss:0.26854\n",
      "[56]\ttrain-logloss:0.06591\teval-logloss:0.26900\n",
      "[57]\ttrain-logloss:0.06433\teval-logloss:0.26790\n",
      "[58]\ttrain-logloss:0.06259\teval-logloss:0.26663\n",
      "[59]\ttrain-logloss:0.06107\teval-logloss:0.26743\n",
      "[60]\ttrain-logloss:0.05957\teval-logloss:0.26610\n",
      "[61]\ttrain-logloss:0.05817\teval-logloss:0.26644\n",
      "[62]\ttrain-logloss:0.05691\teval-logloss:0.26673\n",
      "[63]\ttrain-logloss:0.05550\teval-logloss:0.26550\n",
      "[64]\ttrain-logloss:0.05422\teval-logloss:0.26443\n",
      "[65]\ttrain-logloss:0.05311\teval-logloss:0.26500\n",
      "[66]\ttrain-logloss:0.05207\teval-logloss:0.26591\n",
      "[67]\ttrain-logloss:0.05093\teval-logloss:0.26501\n",
      "[68]\ttrain-logloss:0.04976\teval-logloss:0.26435\n",
      "[69]\ttrain-logloss:0.04872\teval-logloss:0.26360\n",
      "[70]\ttrain-logloss:0.04776\teval-logloss:0.26319\n",
      "[71]\ttrain-logloss:0.04680\teval-logloss:0.26255\n",
      "[72]\ttrain-logloss:0.04580\teval-logloss:0.26204\n",
      "[73]\ttrain-logloss:0.04484\teval-logloss:0.26254\n",
      "[74]\ttrain-logloss:0.04388\teval-logloss:0.26289\n",
      "[75]\ttrain-logloss:0.04309\teval-logloss:0.26249\n",
      "[76]\ttrain-logloss:0.04224\teval-logloss:0.26217\n",
      "[77]\ttrain-logloss:0.04133\teval-logloss:0.26166\n",
      "[78]\ttrain-logloss:0.04050\teval-logloss:0.26179\n",
      "[79]\ttrain-logloss:0.03967\teval-logloss:0.26103\n",
      "[80]\ttrain-logloss:0.03876\teval-logloss:0.26094\n",
      "[81]\ttrain-logloss:0.03806\teval-logloss:0.26148\n",
      "[82]\ttrain-logloss:0.03740\teval-logloss:0.26054\n",
      "[83]\ttrain-logloss:0.03676\teval-logloss:0.25967\n",
      "[84]\ttrain-logloss:0.03605\teval-logloss:0.25905\n",
      "[85]\ttrain-logloss:0.03545\teval-logloss:0.26007\n",
      "[86]\ttrain-logloss:0.03489\teval-logloss:0.25984\n",
      "[87]\ttrain-logloss:0.03425\teval-logloss:0.25933\n",
      "[88]\ttrain-logloss:0.03361\teval-logloss:0.25932\n",
      "[89]\ttrain-logloss:0.03311\teval-logloss:0.26002\n",
      "[90]\ttrain-logloss:0.03260\teval-logloss:0.25936\n",
      "[91]\ttrain-logloss:0.03202\teval-logloss:0.25886\n",
      "[92]\ttrain-logloss:0.03152\teval-logloss:0.25918\n",
      "[93]\ttrain-logloss:0.03107\teval-logloss:0.25864\n",
      "[94]\ttrain-logloss:0.03049\teval-logloss:0.25951\n",
      "[95]\ttrain-logloss:0.03007\teval-logloss:0.26091\n",
      "[96]\ttrain-logloss:0.02963\teval-logloss:0.26014\n",
      "[97]\ttrain-logloss:0.02913\teval-logloss:0.25974\n",
      "[98]\ttrain-logloss:0.02866\teval-logloss:0.25937\n",
      "[99]\ttrain-logloss:0.02829\teval-logloss:0.25893\n",
      "[100]\ttrain-logloss:0.02789\teval-logloss:0.25928\n",
      "[101]\ttrain-logloss:0.02751\teval-logloss:0.25955\n",
      "[102]\ttrain-logloss:0.02714\teval-logloss:0.25901\n",
      "[103]\ttrain-logloss:0.02668\teval-logloss:0.25991\n",
      "[104]\ttrain-logloss:0.02634\teval-logloss:0.25950\n",
      "[105]\ttrain-logloss:0.02594\teval-logloss:0.25924\n",
      "[106]\ttrain-logloss:0.02556\teval-logloss:0.25901\n",
      "[107]\ttrain-logloss:0.02522\teval-logloss:0.25738\n",
      "[108]\ttrain-logloss:0.02492\teval-logloss:0.25702\n",
      "[109]\ttrain-logloss:0.02453\teval-logloss:0.25789\n",
      "[110]\ttrain-logloss:0.02418\teval-logloss:0.25770\n",
      "[111]\ttrain-logloss:0.02384\teval-logloss:0.25842\n",
      "[112]\ttrain-logloss:0.02356\teval-logloss:0.25810\n",
      "[113]\ttrain-logloss:0.02322\teval-logloss:0.25848\n",
      "[114]\ttrain-logloss:0.02290\teval-logloss:0.25833\n",
      "[115]\ttrain-logloss:0.02260\teval-logloss:0.25820\n",
      "[116]\ttrain-logloss:0.02229\teval-logloss:0.25905\n",
      "[117]\ttrain-logloss:0.02204\teval-logloss:0.25878\n",
      "[118]\ttrain-logloss:0.02176\teval-logloss:0.25728\n",
      "[119]\ttrain-logloss:0.02149\teval-logloss:0.25722\n",
      "[120]\ttrain-logloss:0.02119\teval-logloss:0.25764\n",
      "[121]\ttrain-logloss:0.02095\teval-logloss:0.25761\n",
      "[122]\ttrain-logloss:0.02067\teval-logloss:0.25832\n",
      "[123]\ttrain-logloss:0.02045\teval-logloss:0.25808\n",
      "[124]\ttrain-logloss:0.02023\teval-logloss:0.25855\n",
      "[125]\ttrain-logloss:0.01998\teval-logloss:0.25714\n",
      "[126]\ttrain-logloss:0.01973\teval-logloss:0.25587\n",
      "[127]\ttrain-logloss:0.01946\teval-logloss:0.25640\n",
      "[128]\ttrain-logloss:0.01927\teval-logloss:0.25685\n",
      "[129]\ttrain-logloss:0.01908\teval-logloss:0.25665\n",
      "[130]\ttrain-logloss:0.01886\teval-logloss:0.25712\n",
      "[131]\ttrain-logloss:0.01863\teval-logloss:0.25609\n",
      "[132]\ttrain-logloss:0.01839\teval-logloss:0.25649\n",
      "[133]\ttrain-logloss:0.01816\teval-logloss:0.25789\n",
      "[134]\ttrain-logloss:0.01802\teval-logloss:0.25811\n",
      "[135]\ttrain-logloss:0.01785\teval-logloss:0.25794\n",
      "[136]\ttrain-logloss:0.01763\teval-logloss:0.25876\n",
      "[137]\ttrain-logloss:0.01748\teval-logloss:0.25884\n",
      "[138]\ttrain-logloss:0.01732\teval-logloss:0.25867\n",
      "[139]\ttrain-logloss:0.01719\teval-logloss:0.25876\n",
      "[140]\ttrain-logloss:0.01696\teval-logloss:0.25987\n",
      "[141]\ttrain-logloss:0.01681\teval-logloss:0.25960\n",
      "[142]\ttrain-logloss:0.01669\teval-logloss:0.25982\n",
      "[143]\ttrain-logloss:0.01656\teval-logloss:0.25992\n",
      "[144]\ttrain-logloss:0.01638\teval-logloss:0.26035\n",
      "[145]\ttrain-logloss:0.01623\teval-logloss:0.26055\n",
      "[146]\ttrain-logloss:0.01606\teval-logloss:0.26092\n",
      "[147]\ttrain-logloss:0.01589\teval-logloss:0.26137\n",
      "[148]\ttrain-logloss:0.01572\teval-logloss:0.25999\n",
      "[149]\ttrain-logloss:0.01556\teval-logloss:0.26028\n",
      "[150]\ttrain-logloss:0.01546\teval-logloss:0.26048\n",
      "[151]\ttrain-logloss:0.01531\teval-logloss:0.26142\n",
      "[152]\ttrain-logloss:0.01515\teval-logloss:0.26188\n",
      "[153]\ttrain-logloss:0.01501\teval-logloss:0.26227\n",
      "[154]\ttrain-logloss:0.01486\teval-logloss:0.26287\n",
      "[155]\ttrain-logloss:0.01476\teval-logloss:0.26299\n",
      "[156]\ttrain-logloss:0.01462\teval-logloss:0.26346\n",
      "[157]\ttrain-logloss:0.01448\teval-logloss:0.26379\n",
      "[158]\ttrain-logloss:0.01434\teval-logloss:0.26306\n",
      "[159]\ttrain-logloss:0.01424\teval-logloss:0.26237\n",
      "[160]\ttrain-logloss:0.01410\teval-logloss:0.26251\n",
      "[161]\ttrain-logloss:0.01401\teval-logloss:0.26265\n",
      "[162]\ttrain-logloss:0.01392\teval-logloss:0.26264\n",
      "[163]\ttrain-logloss:0.01380\teval-logloss:0.26250\n",
      "[164]\ttrain-logloss:0.01372\teval-logloss:0.26264\n",
      "[165]\ttrain-logloss:0.01359\teval-logloss:0.26255\n",
      "[166]\ttrain-logloss:0.01350\teval-logloss:0.26188\n",
      "[167]\ttrain-logloss:0.01342\teval-logloss:0.26203\n",
      "[168]\ttrain-logloss:0.01331\teval-logloss:0.26190\n",
      "[169]\ttrain-logloss:0.01319\teval-logloss:0.26184\n",
      "[170]\ttrain-logloss:0.01312\teval-logloss:0.26133\n",
      "[171]\ttrain-logloss:0.01304\teval-logloss:0.26148\n",
      "[172]\ttrain-logloss:0.01297\teval-logloss:0.26157\n",
      "[173]\ttrain-logloss:0.01285\teval-logloss:0.26253\n",
      "[174]\ttrain-logloss:0.01278\teval-logloss:0.26229\n",
      "[175]\ttrain-logloss:0.01267\teval-logloss:0.26086\n"
     ]
    }
   ],
   "source": [
    "# 학습 데이터 셋은 'train' 또는 평가 데이터 셋은 'eval'로 명기\n",
    "eval_list = [(dtr, 'train'), (dval, 'eval')]\n",
    "\n",
    "# 하이퍼 파라미터와 early stopping 파라미터를 train() 함수의 파라미터로 전달\n",
    "xgb_model = xgb.train(params = params, dtrain = dtr, num_boost_round = num_rounds,\n",
    "                     early_stopping_rounds = 50, evals = eval_list)"
   ]
  },
  {
   "cell_type": "code",
   "execution_count": 56,
   "id": "31509d1f",
   "metadata": {
    "ExecuteTime": {
     "end_time": "2022-11-10T03:52:10.979841Z",
     "start_time": "2022-11-10T03:52:10.966601Z"
    }
   },
   "outputs": [
    {
     "name": "stdout",
     "output_type": "stream",
     "text": [
      "predict 함수의 수행 결과값을 10개만 표시\n",
      "[0.845 0.008 0.68  0.081 0.975 0.999 0.998 0.998 0.996 0.001]\n",
      "예측값 10개만 표시 :  [1, 0, 1, 0, 1, 1, 1, 1, 1, 0]\n"
     ]
    }
   ],
   "source": [
    "pred_probs = xgb_model.predict(dtest)\n",
    "print('predict 함수의 수행 결과값을 10개만 표시')\n",
    "print(np.round(pred_probs[:10], 3))\n",
    "\n",
    "# 예측 확률이 0.5보다 크면 1, 그렇지 않으면 0으로 예측값 결정하여 List 객체인 preds에 저장\n",
    "preds = [1 if x > 0.5 else 0 for x in pred_probs]\n",
    "print('예측값 10개만 표시 : ', preds[:10])"
   ]
  },
  {
   "cell_type": "code",
   "execution_count": 57,
   "id": "4df2f89f",
   "metadata": {
    "ExecuteTime": {
     "end_time": "2022-11-10T03:52:11.088825Z",
     "start_time": "2022-11-10T03:52:11.074676Z"
    }
   },
   "outputs": [
    {
     "name": "stdout",
     "output_type": "stream",
     "text": [
      "오차행렬 : \n",
      " [[11 26]\n",
      " [31 46]]\n",
      "정확도 : 0.500, 정밀도 : 0.972, 재현율 : 0.986, F1 score : 0.979, AUC : 0.422\n"
     ]
    }
   ],
   "source": [
    "cm = confusion_matrix(y_test, predict)\n",
    "accuracy = accuracy_score(y_test, predict)\n",
    "print('오차행렬 : \\n', cm)\n",
    "print('정확도 : {:.3f}, 정밀도 : {:.3f}, 재현율 : {:.3f}, F1 score : {:.3f}, AUC : {:.3f}'.\n",
    "      format(accuracy, precision, recall, f1, round(roc_auc_score(y_test, y_pred_prob), 4)))"
   ]
  },
  {
   "cell_type": "code",
   "execution_count": 58,
   "id": "8e583668",
   "metadata": {
    "ExecuteTime": {
     "end_time": "2022-11-10T03:52:11.328810Z",
     "start_time": "2022-11-10T03:52:11.186986Z"
    }
   },
   "outputs": [
    {
     "data": {
      "image/png": "[encoded data removed]",
      "text/plain": [
       "<Figure size 864x576 with 1 Axes>"
      ]
     },
     "metadata": {
      "needs_background": "light"
     },
     "output_type": "display_data"
    }
   ],
   "source": [
    "from sklearn.metrics import accuracy_score, classification_report, roc_curve, roc_auc_score\n",
    "fpr, tpr, thresholds = roc_curve(y_test, pred_probs)\n",
    "\n",
    "plt.figure(figsize=(12, 8))\n",
    "plt.plot([0,1], [0,1], \"r--\")\n",
    "plt.plot(fpr, tpr, label='LogisticRegression', color = '#162fff')\n",
    "plt.xlabel('False Positive Rate', size = 20)\n",
    "plt.ylabel('True Positive Rate', size = 20)\n",
    "plt.title('LogisticRegression ROC curve', size = 20)\n",
    "plt.text(0.3, 0.45, 'AUC 면적 = {}'.format(round(roc_auc_score(y_test, pred_probs), 4)), size = 35)\n",
    "plt.show()"
   ]
  },
  {
   "cell_type": "code",
   "execution_count": 64,
   "id": "9dea2994",
   "metadata": {
    "ExecuteTime": {
     "end_time": "2022-11-10T04:43:08.471272Z",
     "start_time": "2022-11-10T04:43:07.655019Z"
    },
    "scrolled": true
   },
   "outputs": [
    {
     "data": {
      "image/png": "[encoded data removed]",
      "text/plain": [
       "<Figure size 864x1080 with 1 Axes>"
      ]
     },
     "metadata": {
      "needs_background": "light"
     },
     "output_type": "display_data"
    }
   ],
   "source": [
    "#feature 중요도도 그려볼 수 있다. \n",
    "from xgboost import plot_importance\n",
    "import matplotlib.pyplot as plt\n",
    "%matplotlib inline\n",
    "\n",
    "fig, ax = plt.subplots(figsize=(12, 15))\n",
    "\n",
    "# 사이킷런 래퍼 클래스를 입력해도 무방. \n",
    "plot_importance(xgb_model, ax=ax)\n",
    "plt.rc('font', size=20)        # 기본 폰트 크기\n",
    "plt.rc('axes', labelsize=20)   # x,y축 label 폰트 크기\n",
    "plt.rc('xtick', labelsize=20)  # x축 눈금 폰트 크기 \n",
    "plt.rc('ytick', labelsize=20)  # y축 눈금 폰트 크기\n",
    "plt.rc('legend', fontsize = 30)\n",
    "plt.show()"
   ]
  },
  {
   "cell_type": "code",
   "execution_count": null,
   "id": "fea92ab4",
   "metadata": {},
   "outputs": [],
   "source": []
  }
 ],
 "metadata": {
  "kernelspec": {
   "display_name": "Python 3 (ipykernel)",
   "language": "python",
   "name": "python3"
  },
  "language_info": {
   "codemirror_mode": {
    "name": "ipython",
    "version": 3
   },
   "file_extension": ".py",
   "mimetype": "text/x-python",
   "name": "python",
   "nbconvert_exporter": "python",
   "pygments_lexer": "ipython3",
   "version": "3.9.7"
  },
  "toc": {
   "base_numbering": 1,
   "nav_menu": {},
   "number_sections": true,
   "sideBar": true,
   "skip_h1_title": false,
   "title_cell": "Table of Contents",
   "title_sidebar": "Contents",
   "toc_cell": false,
   "toc_position": {},
   "toc_section_display": true,
   "toc_window_display": false
  },
  "varInspector": {
   "cols": {
    "lenName": 16,
    "lenType": 16,
    "lenVar": 40
   },
   "kernels_config": {
    "python": {
     "delete_cmd_postfix": "",
     "delete_cmd_prefix": "del ",
     "library": "var_list.py",
     "varRefreshCmd": "print(var_dic_list())"
    },
    "r": {
     "delete_cmd_postfix": ") ",
     "delete_cmd_prefix": "rm(",
     "library": "var_list.r",
     "varRefreshCmd": "cat(var_dic_list()) "
    }
   },
   "types_to_exclude": [
    "module",
    "function",
    "builtin_function_or_method",
    "instance",
    "_Feature"
   ],
   "window_display": false
  }
 },
 "nbformat": 4,
 "nbformat_minor": 5
}
